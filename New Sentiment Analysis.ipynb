{
 "cells": [
  {
   "cell_type": "markdown",
   "metadata": {},
   "source": [
    "### Problem Statement"
   ]
  },
  {
   "cell_type": "markdown",
   "metadata": {},
   "source": [
    "To explore sentiments of the customers by analysing reviews from an anonymized women’s clothing E-commerce platform"
   ]
  },
  {
   "cell_type": "markdown",
   "metadata": {},
   "source": [
    "## Imports"
   ]
  },
  {
   "cell_type": "code",
   "execution_count": 1,
   "metadata": {},
   "outputs": [
    {
     "name": "stderr",
     "output_type": "stream",
     "text": [
      "[nltk_data] Downloading package stopwords to\n",
      "[nltk_data]     C:\\Users\\CodexNow\\AppData\\Roaming\\nltk_data...\n",
      "[nltk_data]   Package stopwords is already up-to-date!\n"
     ]
    }
   ],
   "source": [
    "import pandas as pd\n",
    "import numpy as np\n",
    "import nltk\n",
    "import re\n",
    "import matplotlib.pyplot as plt\n",
    "import seaborn as sns\n",
    "import datetime as dt\n",
    "from sklearn.feature_extraction.text import CountVectorizer\n",
    "from sklearn.model_selection import train_test_split\n",
    "from sklearn.naive_bayes import MultinomialNB\n",
    "from sklearn.svm import SVC\n",
    "from sklearn.metrics import confusion_matrix\n",
    "import sklearn.metrics as mt\n",
    "from nltk.stem import PorterStemmer\n",
    "import nltk\n",
    "from sklearn.linear_model import LogisticRegression\n",
    "from nltk.tokenize import word_tokenize\n",
    "from nltk.probability import FreqDist\n",
    "from nltk.corpus import stopwords\n",
    "nltk.download('stopwords')\n",
    "from nltk.stem import WordNetLemmatizer\n",
    "import string\n",
    "from textblob import TextBlob\n",
    "from sklearn.metrics import average_precision_score\n",
    "from sklearn.metrics import precision_recall_curve\n",
    "from sklearn.metrics import plot_precision_recall_curve"
   ]
  },
  {
   "cell_type": "markdown",
   "metadata": {},
   "source": [
    "## Loading Data"
   ]
  },
  {
   "cell_type": "code",
   "execution_count": 2,
   "metadata": {},
   "outputs": [],
   "source": [
    "#loading data in pandas dataframe\n",
    "df = pd.read_csv('Womens Clothing E-Commerce Reviews.csv')"
   ]
  },
  {
   "cell_type": "markdown",
   "metadata": {},
   "source": [
    "## Analyzing Data"
   ]
  },
  {
   "cell_type": "code",
   "execution_count": 3,
   "metadata": {},
   "outputs": [
    {
     "data": {
      "text/plain": [
       "array(['Absolutely wonderful - silky and sexy and comfortable',\n",
       "       'Love this dress!  it\\'s sooo pretty.  i happened to find it in a store, and i\\'m glad i did bc i never would have ordered it online bc it\\'s petite.  i bought a petite and am 5\\'8\".  i love the length on me- hits just a little below the knee.  would definitely be a true midi on someone who is truly petite.',\n",
       "       'I had such high hopes for this dress and really wanted it to work for me. i initially ordered the petite small (my usual size) but i found this to be outrageously small. so small in fact that i could not zip it up! i reordered it in petite medium, which was just ok. overall, the top half was comfortable and fit nicely, but the bottom half had a very tight under layer and several somewhat cheap (net) over layers. imo, a major design flaw was the net over layer sewn directly into the zipper - it c',\n",
       "       ...,\n",
       "       \"This fit well, but the top was very see through. this never would have worked for me. i'm glad i was able to try it on in the store and didn't order it online. with different fabric, it would have been great.\",\n",
       "       \"I bought this dress for a wedding i have this summer, and it's so cute. unfortunately the fit isn't perfect. the medium fits my waist perfectly, but was way too long and too big in the bust and shoulders. if i wanted to spend the money, i could get it tailored, but i just felt like it might not be worth it. side note - this dress was delivered to me with a nordstrom tag on it and i found it much cheaper there after looking!\",\n",
       "       'This dress in a lovely platinum is feminine and fits perfectly, easy to wear and comfy, too! highly recommend!'],\n",
       "      dtype=object)"
      ]
     },
     "execution_count": 3,
     "metadata": {},
     "output_type": "execute_result"
    }
   ],
   "source": [
    "df['Review Text'].unique()"
   ]
  },
  {
   "cell_type": "code",
   "execution_count": 4,
   "metadata": {},
   "outputs": [
    {
     "data": {
      "text/html": [
       "<div>\n",
       "<style scoped>\n",
       "    .dataframe tbody tr th:only-of-type {\n",
       "        vertical-align: middle;\n",
       "    }\n",
       "\n",
       "    .dataframe tbody tr th {\n",
       "        vertical-align: top;\n",
       "    }\n",
       "\n",
       "    .dataframe thead th {\n",
       "        text-align: right;\n",
       "    }\n",
       "</style>\n",
       "<table border=\"1\" class=\"dataframe\">\n",
       "  <thead>\n",
       "    <tr style=\"text-align: right;\">\n",
       "      <th></th>\n",
       "      <th>Unnamed: 0</th>\n",
       "      <th>Clothing ID</th>\n",
       "      <th>Age</th>\n",
       "      <th>Title</th>\n",
       "      <th>Review Text</th>\n",
       "      <th>Rating</th>\n",
       "      <th>Recommended IND</th>\n",
       "      <th>Positive Feedback Count</th>\n",
       "      <th>Division Name</th>\n",
       "      <th>Department Name</th>\n",
       "      <th>Class Name</th>\n",
       "    </tr>\n",
       "  </thead>\n",
       "  <tbody>\n",
       "    <tr>\n",
       "      <th>0</th>\n",
       "      <td>0</td>\n",
       "      <td>767</td>\n",
       "      <td>33</td>\n",
       "      <td>NaN</td>\n",
       "      <td>Absolutely wonderful - silky and sexy and comf...</td>\n",
       "      <td>4</td>\n",
       "      <td>1</td>\n",
       "      <td>0</td>\n",
       "      <td>Initmates</td>\n",
       "      <td>Intimate</td>\n",
       "      <td>Intimates</td>\n",
       "    </tr>\n",
       "    <tr>\n",
       "      <th>1</th>\n",
       "      <td>1</td>\n",
       "      <td>1080</td>\n",
       "      <td>34</td>\n",
       "      <td>NaN</td>\n",
       "      <td>Love this dress!  it's sooo pretty.  i happene...</td>\n",
       "      <td>5</td>\n",
       "      <td>1</td>\n",
       "      <td>4</td>\n",
       "      <td>General</td>\n",
       "      <td>Dresses</td>\n",
       "      <td>Dresses</td>\n",
       "    </tr>\n",
       "    <tr>\n",
       "      <th>2</th>\n",
       "      <td>2</td>\n",
       "      <td>1077</td>\n",
       "      <td>60</td>\n",
       "      <td>Some major design flaws</td>\n",
       "      <td>I had such high hopes for this dress and reall...</td>\n",
       "      <td>3</td>\n",
       "      <td>0</td>\n",
       "      <td>0</td>\n",
       "      <td>General</td>\n",
       "      <td>Dresses</td>\n",
       "      <td>Dresses</td>\n",
       "    </tr>\n",
       "    <tr>\n",
       "      <th>3</th>\n",
       "      <td>3</td>\n",
       "      <td>1049</td>\n",
       "      <td>50</td>\n",
       "      <td>My favorite buy!</td>\n",
       "      <td>I love, love, love this jumpsuit. it's fun, fl...</td>\n",
       "      <td>5</td>\n",
       "      <td>1</td>\n",
       "      <td>0</td>\n",
       "      <td>General Petite</td>\n",
       "      <td>Bottoms</td>\n",
       "      <td>Pants</td>\n",
       "    </tr>\n",
       "    <tr>\n",
       "      <th>4</th>\n",
       "      <td>4</td>\n",
       "      <td>847</td>\n",
       "      <td>47</td>\n",
       "      <td>Flattering shirt</td>\n",
       "      <td>This shirt is very flattering to all due to th...</td>\n",
       "      <td>5</td>\n",
       "      <td>1</td>\n",
       "      <td>6</td>\n",
       "      <td>General</td>\n",
       "      <td>Tops</td>\n",
       "      <td>Blouses</td>\n",
       "    </tr>\n",
       "  </tbody>\n",
       "</table>\n",
       "</div>"
      ],
      "text/plain": [
       "   Unnamed: 0  Clothing ID  Age                    Title  \\\n",
       "0           0          767   33                      NaN   \n",
       "1           1         1080   34                      NaN   \n",
       "2           2         1077   60  Some major design flaws   \n",
       "3           3         1049   50         My favorite buy!   \n",
       "4           4          847   47         Flattering shirt   \n",
       "\n",
       "                                         Review Text  Rating  Recommended IND  \\\n",
       "0  Absolutely wonderful - silky and sexy and comf...       4                1   \n",
       "1  Love this dress!  it's sooo pretty.  i happene...       5                1   \n",
       "2  I had such high hopes for this dress and reall...       3                0   \n",
       "3  I love, love, love this jumpsuit. it's fun, fl...       5                1   \n",
       "4  This shirt is very flattering to all due to th...       5                1   \n",
       "\n",
       "   Positive Feedback Count   Division Name Department Name Class Name  \n",
       "0                        0       Initmates        Intimate  Intimates  \n",
       "1                        4         General         Dresses    Dresses  \n",
       "2                        0         General         Dresses    Dresses  \n",
       "3                        0  General Petite         Bottoms      Pants  \n",
       "4                        6         General            Tops    Blouses  "
      ]
     },
     "execution_count": 4,
     "metadata": {},
     "output_type": "execute_result"
    }
   ],
   "source": [
    "df.head()"
   ]
  },
  {
   "cell_type": "code",
   "execution_count": 5,
   "metadata": {
    "scrolled": true
   },
   "outputs": [
    {
     "name": "stdout",
     "output_type": "stream",
     "text": [
      "<class 'pandas.core.frame.DataFrame'>\n",
      "RangeIndex: 23486 entries, 0 to 23485\n",
      "Data columns (total 11 columns):\n",
      " #   Column                   Non-Null Count  Dtype \n",
      "---  ------                   --------------  ----- \n",
      " 0   Unnamed: 0               23486 non-null  int64 \n",
      " 1   Clothing ID              23486 non-null  int64 \n",
      " 2   Age                      23486 non-null  int64 \n",
      " 3   Title                    19676 non-null  object\n",
      " 4   Review Text              22641 non-null  object\n",
      " 5   Rating                   23486 non-null  int64 \n",
      " 6   Recommended IND          23486 non-null  int64 \n",
      " 7   Positive Feedback Count  23486 non-null  int64 \n",
      " 8   Division Name            23472 non-null  object\n",
      " 9   Department Name          23472 non-null  object\n",
      " 10  Class Name               23472 non-null  object\n",
      "dtypes: int64(6), object(5)\n",
      "memory usage: 2.0+ MB\n"
     ]
    }
   ],
   "source": [
    "#getting information about data\n",
    "df.info()"
   ]
  },
  {
   "cell_type": "code",
   "execution_count": null,
   "metadata": {},
   "outputs": [],
   "source": []
  },
  {
   "cell_type": "code",
   "execution_count": 6,
   "metadata": {},
   "outputs": [
    {
     "data": {
      "text/plain": [
       "(23486, 11)"
      ]
     },
     "execution_count": 6,
     "metadata": {},
     "output_type": "execute_result"
    }
   ],
   "source": [
    "#number of rows and columns in the data\n",
    "df.shape"
   ]
  },
  {
   "cell_type": "code",
   "execution_count": 7,
   "metadata": {},
   "outputs": [
    {
     "data": {
      "text/plain": [
       "int64     6\n",
       "object    5\n",
       "dtype: int64"
      ]
     },
     "execution_count": 7,
     "metadata": {},
     "output_type": "execute_result"
    }
   ],
   "source": [
    "#count of data types present in the data\n",
    "df.dtypes.value_counts()"
   ]
  },
  {
   "cell_type": "code",
   "execution_count": 8,
   "metadata": {},
   "outputs": [
    {
     "data": {
      "text/html": [
       "<div>\n",
       "<style scoped>\n",
       "    .dataframe tbody tr th:only-of-type {\n",
       "        vertical-align: middle;\n",
       "    }\n",
       "\n",
       "    .dataframe tbody tr th {\n",
       "        vertical-align: top;\n",
       "    }\n",
       "\n",
       "    .dataframe thead th {\n",
       "        text-align: right;\n",
       "    }\n",
       "</style>\n",
       "<table border=\"1\" class=\"dataframe\">\n",
       "  <thead>\n",
       "    <tr style=\"text-align: right;\">\n",
       "      <th></th>\n",
       "      <th>Unnamed: 0</th>\n",
       "      <th>Clothing ID</th>\n",
       "      <th>Age</th>\n",
       "      <th>Rating</th>\n",
       "      <th>Recommended IND</th>\n",
       "      <th>Positive Feedback Count</th>\n",
       "    </tr>\n",
       "  </thead>\n",
       "  <tbody>\n",
       "    <tr>\n",
       "      <th>count</th>\n",
       "      <td>23486.000000</td>\n",
       "      <td>23486.000000</td>\n",
       "      <td>23486.000000</td>\n",
       "      <td>23486.000000</td>\n",
       "      <td>23486.000000</td>\n",
       "      <td>23486.000000</td>\n",
       "    </tr>\n",
       "    <tr>\n",
       "      <th>mean</th>\n",
       "      <td>11742.500000</td>\n",
       "      <td>918.118709</td>\n",
       "      <td>43.198544</td>\n",
       "      <td>4.196032</td>\n",
       "      <td>0.822362</td>\n",
       "      <td>2.535936</td>\n",
       "    </tr>\n",
       "    <tr>\n",
       "      <th>std</th>\n",
       "      <td>6779.968547</td>\n",
       "      <td>203.298980</td>\n",
       "      <td>12.279544</td>\n",
       "      <td>1.110031</td>\n",
       "      <td>0.382216</td>\n",
       "      <td>5.702202</td>\n",
       "    </tr>\n",
       "    <tr>\n",
       "      <th>min</th>\n",
       "      <td>0.000000</td>\n",
       "      <td>0.000000</td>\n",
       "      <td>18.000000</td>\n",
       "      <td>1.000000</td>\n",
       "      <td>0.000000</td>\n",
       "      <td>0.000000</td>\n",
       "    </tr>\n",
       "    <tr>\n",
       "      <th>25%</th>\n",
       "      <td>5871.250000</td>\n",
       "      <td>861.000000</td>\n",
       "      <td>34.000000</td>\n",
       "      <td>4.000000</td>\n",
       "      <td>1.000000</td>\n",
       "      <td>0.000000</td>\n",
       "    </tr>\n",
       "    <tr>\n",
       "      <th>50%</th>\n",
       "      <td>11742.500000</td>\n",
       "      <td>936.000000</td>\n",
       "      <td>41.000000</td>\n",
       "      <td>5.000000</td>\n",
       "      <td>1.000000</td>\n",
       "      <td>1.000000</td>\n",
       "    </tr>\n",
       "    <tr>\n",
       "      <th>75%</th>\n",
       "      <td>17613.750000</td>\n",
       "      <td>1078.000000</td>\n",
       "      <td>52.000000</td>\n",
       "      <td>5.000000</td>\n",
       "      <td>1.000000</td>\n",
       "      <td>3.000000</td>\n",
       "    </tr>\n",
       "    <tr>\n",
       "      <th>max</th>\n",
       "      <td>23485.000000</td>\n",
       "      <td>1205.000000</td>\n",
       "      <td>99.000000</td>\n",
       "      <td>5.000000</td>\n",
       "      <td>1.000000</td>\n",
       "      <td>122.000000</td>\n",
       "    </tr>\n",
       "  </tbody>\n",
       "</table>\n",
       "</div>"
      ],
      "text/plain": [
       "         Unnamed: 0   Clothing ID           Age        Rating  \\\n",
       "count  23486.000000  23486.000000  23486.000000  23486.000000   \n",
       "mean   11742.500000    918.118709     43.198544      4.196032   \n",
       "std     6779.968547    203.298980     12.279544      1.110031   \n",
       "min        0.000000      0.000000     18.000000      1.000000   \n",
       "25%     5871.250000    861.000000     34.000000      4.000000   \n",
       "50%    11742.500000    936.000000     41.000000      5.000000   \n",
       "75%    17613.750000   1078.000000     52.000000      5.000000   \n",
       "max    23485.000000   1205.000000     99.000000      5.000000   \n",
       "\n",
       "       Recommended IND  Positive Feedback Count  \n",
       "count     23486.000000             23486.000000  \n",
       "mean          0.822362                 2.535936  \n",
       "std           0.382216                 5.702202  \n",
       "min           0.000000                 0.000000  \n",
       "25%           1.000000                 0.000000  \n",
       "50%           1.000000                 1.000000  \n",
       "75%           1.000000                 3.000000  \n",
       "max           1.000000               122.000000  "
      ]
     },
     "execution_count": 8,
     "metadata": {},
     "output_type": "execute_result"
    }
   ],
   "source": [
    "#statistics of data\n",
    "df.describe()"
   ]
  },
  {
   "cell_type": "markdown",
   "metadata": {},
   "source": [
    "<b>Observations:</b>  \n",
    "1. Unnamed column contains the serial number/index of the reviews.  \n",
    "2. Clothing ID contains the IDs of different clothes, multiple cloths have same cloth IDs (encoded column)  \n",
    "3. Minimum Age of the reviewer is 18, maximum age is 99, most records have the ages between 40 and 50.  \n",
    "4. Recommended IND is a boolean type contains 0(Not Recommended) and 1(Recommended).  \n",
    "5. Positive Feedback Count contains count of the positive feedback, minimum positive feedback count is 0 \n"
   ]
  },
  {
   "cell_type": "code",
   "execution_count": 9,
   "metadata": {},
   "outputs": [
    {
     "data": {
      "text/html": [
       "<div>\n",
       "<style scoped>\n",
       "    .dataframe tbody tr th:only-of-type {\n",
       "        vertical-align: middle;\n",
       "    }\n",
       "\n",
       "    .dataframe tbody tr th {\n",
       "        vertical-align: top;\n",
       "    }\n",
       "\n",
       "    .dataframe thead th {\n",
       "        text-align: right;\n",
       "    }\n",
       "</style>\n",
       "<table border=\"1\" class=\"dataframe\">\n",
       "  <thead>\n",
       "    <tr style=\"text-align: right;\">\n",
       "      <th></th>\n",
       "      <th>Title</th>\n",
       "      <th>Review Text</th>\n",
       "      <th>Division Name</th>\n",
       "      <th>Department Name</th>\n",
       "      <th>Class Name</th>\n",
       "    </tr>\n",
       "  </thead>\n",
       "  <tbody>\n",
       "    <tr>\n",
       "      <th>count</th>\n",
       "      <td>19676</td>\n",
       "      <td>22641</td>\n",
       "      <td>23472</td>\n",
       "      <td>23472</td>\n",
       "      <td>23472</td>\n",
       "    </tr>\n",
       "    <tr>\n",
       "      <th>unique</th>\n",
       "      <td>13993</td>\n",
       "      <td>22634</td>\n",
       "      <td>3</td>\n",
       "      <td>6</td>\n",
       "      <td>20</td>\n",
       "    </tr>\n",
       "    <tr>\n",
       "      <th>top</th>\n",
       "      <td>Love it!</td>\n",
       "      <td>Perfect fit and i've gotten so many compliment...</td>\n",
       "      <td>General</td>\n",
       "      <td>Tops</td>\n",
       "      <td>Dresses</td>\n",
       "    </tr>\n",
       "    <tr>\n",
       "      <th>freq</th>\n",
       "      <td>136</td>\n",
       "      <td>3</td>\n",
       "      <td>13850</td>\n",
       "      <td>10468</td>\n",
       "      <td>6319</td>\n",
       "    </tr>\n",
       "  </tbody>\n",
       "</table>\n",
       "</div>"
      ],
      "text/plain": [
       "           Title                                        Review Text  \\\n",
       "count      19676                                              22641   \n",
       "unique     13993                                              22634   \n",
       "top     Love it!  Perfect fit and i've gotten so many compliment...   \n",
       "freq         136                                                  3   \n",
       "\n",
       "       Division Name Department Name Class Name  \n",
       "count          23472           23472      23472  \n",
       "unique             3               6         20  \n",
       "top          General            Tops    Dresses  \n",
       "freq           13850           10468       6319  "
      ]
     },
     "execution_count": 9,
     "metadata": {},
     "output_type": "execute_result"
    }
   ],
   "source": [
    "#statistics of object type columns\n",
    "df.describe(include='O')"
   ]
  },
  {
   "cell_type": "markdown",
   "metadata": {},
   "source": [
    "<b>Observations:</b>\n",
    "1. There are 13993 unique titles in the dataset.  \n",
    "2.  Review Text column contains the reviews written by the clients  \n",
    "3. Division Name, Department Name and Class Name are the categorical variables\n"
   ]
  },
  {
   "cell_type": "code",
   "execution_count": 10,
   "metadata": {},
   "outputs": [
    {
     "data": {
      "text/plain": [
       "Unnamed: 0                    0\n",
       "Clothing ID                   0\n",
       "Age                           0\n",
       "Title                      3810\n",
       "Review Text                 845\n",
       "Rating                        0\n",
       "Recommended IND               0\n",
       "Positive Feedback Count       0\n",
       "Division Name                14\n",
       "Department Name              14\n",
       "Class Name                   14\n",
       "dtype: int64"
      ]
     },
     "execution_count": 10,
     "metadata": {},
     "output_type": "execute_result"
    }
   ],
   "source": [
    "#Checking for null values \n",
    "df.isnull().sum()"
   ]
  },
  {
   "cell_type": "code",
   "execution_count": 11,
   "metadata": {},
   "outputs": [
    {
     "data": {
      "text/plain": [
       "Text(0, 0.5, 'Count of Missing Values')"
      ]
     },
     "execution_count": 11,
     "metadata": {},
     "output_type": "execute_result"
    },
    {
     "data": {
      "image/png": "[encoded data removed]",
      "text/plain": [
       "<Figure size 720x432 with 1 Axes>"
      ]
     },
     "metadata": {},
     "output_type": "display_data"
    }
   ],
   "source": [
    "sns.set(rc={'figure.figsize':(10,6)})\n",
    "pd.isnull(df).sum().plot(kind='bar')\n",
    "plt.title('Missing values per Feature',size = 15)\n",
    "plt.xlabel('Column Name',size = 15)\n",
    "plt.ylabel('Count of Missing Values', size = 15)"
   ]
  },
  {
   "cell_type": "markdown",
   "metadata": {},
   "source": [
    "<b>Observation:</b>  \n",
    "1. Title column contains 3810 missing records  \n",
    "2. Review Text contains 845 missing records  \n",
    "3. Division Name, Department Name and Class Name contain 14 missing values each"
   ]
  },
  {
   "cell_type": "code",
   "execution_count": 12,
   "metadata": {},
   "outputs": [
    {
     "data": {
      "text/plain": [
       "Unnamed: 0                  0.000000\n",
       "Clothing ID                 0.000000\n",
       "Age                         0.000000\n",
       "Title                      16.222430\n",
       "Review Text                 3.597888\n",
       "Rating                      0.000000\n",
       "Recommended IND             0.000000\n",
       "Positive Feedback Count     0.000000\n",
       "Division Name               0.059610\n",
       "Department Name             0.059610\n",
       "Class Name                  0.059610\n",
       "dtype: float64"
      ]
     },
     "execution_count": 12,
     "metadata": {},
     "output_type": "execute_result"
    }
   ],
   "source": [
    "#Percentage of null values\n",
    "df.isnull().sum()/len(df)*100"
   ]
  },
  {
   "cell_type": "markdown",
   "metadata": {},
   "source": [
    "<b>Observation:</b>  \n",
    "There are 16% missing values in Title, 3.6% in Review Text, 0.6% in Division Name, Department Name and Class Name each."
   ]
  },
  {
   "cell_type": "markdown",
   "metadata": {},
   "source": [
    "## Cleaning Data"
   ]
  },
  {
   "cell_type": "code",
   "execution_count": 13,
   "metadata": {},
   "outputs": [
    {
     "name": "stderr",
     "output_type": "stream",
     "text": [
      "<ipython-input-13-5616f7992984>:7: SettingWithCopyWarning: \n",
      "A value is trying to be set on a copy of a slice from a DataFrame\n",
      "\n",
      "See the caveats in the documentation: https://pandas.pydata.org/pandas-docs/stable/user_guide/indexing.html#returning-a-view-versus-a-copy\n",
      "  df['Review Text'][i] = df['Review Text'][i].replace(\"'s\", \" is\").replace(\"'ll\", \" will\").replace(\"'ve\", \" have\").replace(\"'m\", \" am\").replace(\"\\'\", \"'\")\n"
     ]
    },
    {
     "data": {
      "text/html": [
       "<div>\n",
       "<style scoped>\n",
       "    .dataframe tbody tr th:only-of-type {\n",
       "        vertical-align: middle;\n",
       "    }\n",
       "\n",
       "    .dataframe tbody tr th {\n",
       "        vertical-align: top;\n",
       "    }\n",
       "\n",
       "    .dataframe thead th {\n",
       "        text-align: right;\n",
       "    }\n",
       "</style>\n",
       "<table border=\"1\" class=\"dataframe\">\n",
       "  <thead>\n",
       "    <tr style=\"text-align: right;\">\n",
       "      <th></th>\n",
       "      <th>Clothing ID</th>\n",
       "      <th>Age</th>\n",
       "      <th>Title</th>\n",
       "      <th>Review Text</th>\n",
       "      <th>Rating</th>\n",
       "      <th>Recommended IND</th>\n",
       "      <th>Positive Feedback Count</th>\n",
       "      <th>Division Name</th>\n",
       "      <th>Department Name</th>\n",
       "      <th>Class Name</th>\n",
       "    </tr>\n",
       "  </thead>\n",
       "  <tbody>\n",
       "    <tr>\n",
       "      <th>0</th>\n",
       "      <td>1077</td>\n",
       "      <td>60</td>\n",
       "      <td>Some major design flaws</td>\n",
       "      <td>I had such high hopes for this dress and reall...</td>\n",
       "      <td>3</td>\n",
       "      <td>0</td>\n",
       "      <td>0</td>\n",
       "      <td>General</td>\n",
       "      <td>Dresses</td>\n",
       "      <td>Dresses</td>\n",
       "    </tr>\n",
       "    <tr>\n",
       "      <th>1</th>\n",
       "      <td>1049</td>\n",
       "      <td>50</td>\n",
       "      <td>My favorite buy!</td>\n",
       "      <td>I love, love, love this jumpsuit. it is fun, f...</td>\n",
       "      <td>5</td>\n",
       "      <td>1</td>\n",
       "      <td>0</td>\n",
       "      <td>General Petite</td>\n",
       "      <td>Bottoms</td>\n",
       "      <td>Pants</td>\n",
       "    </tr>\n",
       "    <tr>\n",
       "      <th>2</th>\n",
       "      <td>847</td>\n",
       "      <td>47</td>\n",
       "      <td>Flattering shirt</td>\n",
       "      <td>This shirt is very flattering to all due to th...</td>\n",
       "      <td>5</td>\n",
       "      <td>1</td>\n",
       "      <td>6</td>\n",
       "      <td>General</td>\n",
       "      <td>Tops</td>\n",
       "      <td>Blouses</td>\n",
       "    </tr>\n",
       "    <tr>\n",
       "      <th>3</th>\n",
       "      <td>1080</td>\n",
       "      <td>49</td>\n",
       "      <td>Not for the very petite</td>\n",
       "      <td>I love tracy reese dresses, but this one is no...</td>\n",
       "      <td>2</td>\n",
       "      <td>0</td>\n",
       "      <td>4</td>\n",
       "      <td>General</td>\n",
       "      <td>Dresses</td>\n",
       "      <td>Dresses</td>\n",
       "    </tr>\n",
       "    <tr>\n",
       "      <th>4</th>\n",
       "      <td>858</td>\n",
       "      <td>39</td>\n",
       "      <td>Cagrcoal shimmer fun</td>\n",
       "      <td>I aded this in my basket at hte last mintue to...</td>\n",
       "      <td>5</td>\n",
       "      <td>1</td>\n",
       "      <td>1</td>\n",
       "      <td>General Petite</td>\n",
       "      <td>Tops</td>\n",
       "      <td>Knits</td>\n",
       "    </tr>\n",
       "  </tbody>\n",
       "</table>\n",
       "</div>"
      ],
      "text/plain": [
       "   Clothing ID  Age                    Title  \\\n",
       "0         1077   60  Some major design flaws   \n",
       "1         1049   50         My favorite buy!   \n",
       "2          847   47         Flattering shirt   \n",
       "3         1080   49  Not for the very petite   \n",
       "4          858   39     Cagrcoal shimmer fun   \n",
       "\n",
       "                                         Review Text  Rating  Recommended IND  \\\n",
       "0  I had such high hopes for this dress and reall...       3                0   \n",
       "1  I love, love, love this jumpsuit. it is fun, f...       5                1   \n",
       "2  This shirt is very flattering to all due to th...       5                1   \n",
       "3  I love tracy reese dresses, but this one is no...       2                0   \n",
       "4  I aded this in my basket at hte last mintue to...       5                1   \n",
       "\n",
       "   Positive Feedback Count   Division Name Department Name Class Name  \n",
       "0                        0         General         Dresses    Dresses  \n",
       "1                        0  General Petite         Bottoms      Pants  \n",
       "2                        6         General            Tops    Blouses  \n",
       "3                        4         General         Dresses    Dresses  \n",
       "4                        1  General Petite            Tops      Knits  "
      ]
     },
     "execution_count": 13,
     "metadata": {},
     "output_type": "execute_result"
    }
   ],
   "source": [
    "#dropping NaN values and removing useless columns, as well as clean the text\n",
    "df.dropna(inplace=True)\n",
    "df.reset_index(drop=True, inplace=True)\n",
    "import re\n",
    "for i in range(len(df)):\n",
    "    #print(i)\n",
    "    df['Review Text'][i] = df['Review Text'][i].replace(\"'s\", \" is\").replace(\"'ll\", \" will\").replace(\"'ve\", \" have\").replace(\"'m\", \" am\").replace(\"\\'\", \"'\")\n",
    "    \n",
    "df['Review Text'][1]\n",
    "df = df.drop('Unnamed: 0', 1)\n",
    "df.head()"
   ]
  },
  {
   "cell_type": "code",
   "execution_count": 14,
   "metadata": {},
   "outputs": [
    {
     "data": {
      "text/plain": [
       "(19662, 10)"
      ]
     },
     "execution_count": 14,
     "metadata": {},
     "output_type": "execute_result"
    }
   ],
   "source": [
    "df.shape"
   ]
  },
  {
   "cell_type": "code",
   "execution_count": 15,
   "metadata": {},
   "outputs": [],
   "source": [
    "df=df.rename({'Recommended IND':'Recommended'})"
   ]
  },
  {
   "cell_type": "code",
   "execution_count": 16,
   "metadata": {},
   "outputs": [],
   "source": [
    "df['original_rating']=df['Rating']"
   ]
  },
  {
   "cell_type": "code",
   "execution_count": 17,
   "metadata": {},
   "outputs": [
    {
     "data": {
      "text/plain": [
       "5    10858\n",
       "4     4289\n",
       "3     2464\n",
       "2     1360\n",
       "1      691\n",
       "Name: original_rating, dtype: int64"
      ]
     },
     "execution_count": 17,
     "metadata": {},
     "output_type": "execute_result"
    }
   ],
   "source": [
    "df['original_rating'].value_counts()"
   ]
  },
  {
   "cell_type": "code",
   "execution_count": 18,
   "metadata": {},
   "outputs": [
    {
     "name": "stdout",
     "output_type": "stream",
     "text": [
      "<class 'pandas.core.frame.DataFrame'>\n",
      "Int64Index: 19662 entries, 0 to 19661\n",
      "Data columns (total 11 columns):\n",
      " #   Column                   Non-Null Count  Dtype \n",
      "---  ------                   --------------  ----- \n",
      " 0   Clothing ID              19662 non-null  int64 \n",
      " 1   Age                      19662 non-null  int64 \n",
      " 2   Title                    19662 non-null  object\n",
      " 3   Review Text              19662 non-null  object\n",
      " 4   Rating                   19662 non-null  int64 \n",
      " 5   Recommended IND          19662 non-null  int64 \n",
      " 6   Positive Feedback Count  19662 non-null  int64 \n",
      " 7   Division Name            19662 non-null  object\n",
      " 8   Department Name          19662 non-null  object\n",
      " 9   Class Name               19662 non-null  object\n",
      " 10  original_rating          19662 non-null  int64 \n",
      "dtypes: int64(6), object(5)\n",
      "memory usage: 1.8+ MB\n"
     ]
    }
   ],
   "source": [
    "df.info()"
   ]
  },
  {
   "cell_type": "markdown",
   "metadata": {},
   "source": [
    "## Generating Sentiment Column "
   ]
  },
  {
   "cell_type": "markdown",
   "metadata": {},
   "source": [
    "We do not have any column in the data that shows the sentiment is positive or negative that is why we are using the column rating. defining a new column named Sentiment and setting the value as True where the rating is 4 or higher. considering rating = 3 as neutral"
   ]
  },
  {
   "cell_type": "code",
   "execution_count": 19,
   "metadata": {},
   "outputs": [],
   "source": [
    "#eliminating neutral sentiment i.e. rating==3 \n",
    "df = df[df['Rating'] !=3]"
   ]
  },
  {
   "cell_type": "markdown",
   "metadata": {},
   "source": [
    "### function to generate sentiment column"
   ]
  },
  {
   "cell_type": "code",
   "execution_count": 20,
   "metadata": {
    "scrolled": true
   },
   "outputs": [],
   "source": [
    "#set sentiment 1 (positive) if rating>3 and 0(Negative) if rating<3\n",
    "def sentiment(n):\n",
    "    return 1 if n >= 4 else 0\n",
    "df['Sentiment'] = df['Rating'].apply(sentiment)"
   ]
  },
  {
   "cell_type": "code",
   "execution_count": 21,
   "metadata": {},
   "outputs": [
    {
     "data": {
      "text/plain": [
       "1    15147\n",
       "0     2051\n",
       "Name: Sentiment, dtype: int64"
      ]
     },
     "execution_count": 21,
     "metadata": {},
     "output_type": "execute_result"
    }
   ],
   "source": [
    "df['Sentiment'].value_counts()"
   ]
  },
  {
   "cell_type": "code",
   "execution_count": 22,
   "metadata": {},
   "outputs": [
    {
     "data": {
      "text/plain": [
       "1    88.074195\n",
       "0    11.925805\n",
       "Name: Sentiment, dtype: float64"
      ]
     },
     "execution_count": 22,
     "metadata": {},
     "output_type": "execute_result"
    }
   ],
   "source": [
    "df['Sentiment'].value_counts()/len(df)*100"
   ]
  },
  {
   "cell_type": "code",
   "execution_count": 23,
   "metadata": {},
   "outputs": [
    {
     "data": {
      "text/plain": [
       "5    10858\n",
       "4     4289\n",
       "2     1360\n",
       "1      691\n",
       "Name: original_rating, dtype: int64"
      ]
     },
     "execution_count": 23,
     "metadata": {},
     "output_type": "execute_result"
    }
   ],
   "source": [
    "df['original_rating'].value_counts()"
   ]
  },
  {
   "cell_type": "markdown",
   "metadata": {},
   "source": [
    "## Text Pre_processing"
   ]
  },
  {
   "cell_type": "markdown",
   "metadata": {},
   "source": [
    "### Removing Punctuations"
   ]
  },
  {
   "cell_type": "code",
   "execution_count": 25,
   "metadata": {},
   "outputs": [],
   "source": [
    "df[\"Review Text\"] = df['Review Text'].str.replace('[^\\w\\s]','')"
   ]
  },
  {
   "cell_type": "code",
   "execution_count": 26,
   "metadata": {},
   "outputs": [
    {
     "data": {
      "text/plain": [
       "1        I love love love this jumpsuit it is fun flirt...\n",
       "2        This shirt is very flattering to all due to th...\n",
       "3        I love tracy reese dresses but this one is not...\n",
       "4        I aded this in my basket at hte last mintue to...\n",
       "5        I ordered this in carbon for store pick up and...\n",
       "                               ...                        \n",
       "19654    I am so impressed with the beautiful color com...\n",
       "19655    I was surprised at the positive reviews for th...\n",
       "19656    So i wasnt sure about ordering this skirt beca...\n",
       "19657    I was very happy to snag this dress at such a ...\n",
       "19661    This dress in a lovely platinum is feminine an...\n",
       "Name: Review Text, Length: 17198, dtype: object"
      ]
     },
     "execution_count": 26,
     "metadata": {},
     "output_type": "execute_result"
    }
   ],
   "source": [
    "df['Review Text']"
   ]
  },
  {
   "cell_type": "code",
   "execution_count": 27,
   "metadata": {},
   "outputs": [],
   "source": [
    "#defining a function to clean and tokenize the text\n",
    "#transfering the text to lowercase\n",
    "def clean_text(comments):\n",
    "    text = comments.lower()\n",
    "   \n",
    "    text = re.sub(\"[^a-z']\",\" \", text)\n",
    "    return text"
   ]
  },
  {
   "cell_type": "code",
   "execution_count": 28,
   "metadata": {},
   "outputs": [],
   "source": [
    "df[\"Clean_Reviews\"] = df[\"Review Text\"].apply(clean_text)"
   ]
  },
  {
   "cell_type": "code",
   "execution_count": 29,
   "metadata": {},
   "outputs": [
    {
     "data": {
      "text/plain": [
       "1        i love love love this jumpsuit it is fun flirt...\n",
       "2        this shirt is very flattering to all due to th...\n",
       "3        i love tracy reese dresses but this one is not...\n",
       "4        i aded this in my basket at hte last mintue to...\n",
       "5        i ordered this in carbon for store pick up and...\n",
       "                               ...                        \n",
       "19654    i am so impressed with the beautiful color com...\n",
       "19655    i was surprised at the positive reviews for th...\n",
       "19656    so i wasnt sure about ordering this skirt beca...\n",
       "19657    i was very happy to snag this dress at such a ...\n",
       "19661    this dress in a lovely platinum is feminine an...\n",
       "Name: Clean_Reviews, Length: 17198, dtype: object"
      ]
     },
     "execution_count": 29,
     "metadata": {},
     "output_type": "execute_result"
    }
   ],
   "source": [
    "df[\"Clean_Reviews\"]"
   ]
  },
  {
   "cell_type": "markdown",
   "metadata": {},
   "source": [
    "### Tokenization"
   ]
  },
  {
   "cell_type": "code",
   "execution_count": 30,
   "metadata": {},
   "outputs": [
    {
     "name": "stderr",
     "output_type": "stream",
     "text": [
      "[nltk_data] Downloading package punkt to\n",
      "[nltk_data]     C:\\Users\\CodexNow\\AppData\\Roaming\\nltk_data...\n",
      "[nltk_data]   Package punkt is already up-to-date!\n"
     ]
    },
    {
     "data": {
      "text/plain": [
       "True"
      ]
     },
     "execution_count": 30,
     "metadata": {},
     "output_type": "execute_result"
    }
   ],
   "source": [
    "nltk.download('punkt')"
   ]
  },
  {
   "cell_type": "code",
   "execution_count": 31,
   "metadata": {},
   "outputs": [],
   "source": [
    "df['Clean_Reviews']=df[\"Clean_Reviews\"].apply(word_tokenize)"
   ]
  },
  {
   "cell_type": "markdown",
   "metadata": {},
   "source": [
    "### Removing Stopwords"
   ]
  },
  {
   "cell_type": "code",
   "execution_count": 32,
   "metadata": {},
   "outputs": [
    {
     "name": "stdout",
     "output_type": "stream",
     "text": [
      "{'such', 'all', 'has', 'him', 'it', 'itself', \"weren't\", 'both', 'she', 'an', 'yourself', 'been', 'further', 'once', 'more', \"aren't\", 'haven', 'own', \"mightn't\", 'my', 'now', 'its', 'theirs', 'before', 'am', 'hadn', 'after', 'y', \"don't\", 'your', \"haven't\", 'mightn', 'didn', 'weren', 'why', 'than', 're', 'what', \"won't\", 'won', 'shan', 'doing', \"wasn't\", \"you'll\", 'ourselves', 'he', 'yours', 'out', 'o', \"doesn't\", 'those', \"mustn't\", \"it's\", 'where', 'again', 'with', 'then', 'on', 'ma', \"hasn't\", 'no', 'me', 'will', 'mustn', 'in', 'shouldn', 'this', \"isn't\", 'of', \"that'll\", 'who', \"shan't\", \"she's\", 'did', 'had', 'through', 'when', 'for', 'm', 'few', 'below', 'about', \"you've\", 'during', 'some', \"hadn't\", \"shouldn't\", 'themselves', 'needn', 'most', 'wouldn', 'have', 'can', 'our', 'were', \"didn't\", 'against', 'by', 'until', 'if', 'do', 'just', 'i', 'ours', 'ain', 'up', 'other', 'which', \"should've\", 'here', 'these', 'not', 'above', 'nor', 'was', 's', 've', 'himself', 'how', 'each', 'any', 'herself', 'aren', 'should', \"you're\", 'are', 'her', 'the', \"couldn't\", 'to', 'from', 'you', \"you'd\", 'them', \"needn't\", 'and', 'off', 'too', 'couldn', 'hers', 'while', 'but', 'into', 'there', 'down', 'myself', 'does', 'very', 'is', 'don', 'under', 'being', 'wasn', 'isn', 'his', 'as', 't', 'd', 'whom', 'at', 'over', 'because', 'll', 'or', 'a', 'hasn', 'doesn', 'between', 'we', 'be', 'only', 'same', 'having', 'so', 'yourselves', 'their', \"wouldn't\", 'that', 'they'}\n"
     ]
    }
   ],
   "source": [
    "#creating a list of stop words\n",
    "from nltk.corpus import stopwords\n",
    "stop_words = set(stopwords.words('english'))\n",
    "print(stop_words)"
   ]
  },
  {
   "cell_type": "code",
   "execution_count": 33,
   "metadata": {},
   "outputs": [],
   "source": [
    "stop_words.update(['x','would','also','one','bit','got'])"
   ]
  },
  {
   "cell_type": "code",
   "execution_count": 34,
   "metadata": {},
   "outputs": [],
   "source": [
    "#Removing Stop Words\n",
    "df['Clean_Reviews']=df['Clean_Reviews'].apply(lambda x: [item for item in x if item not in stop_words])"
   ]
  },
  {
   "cell_type": "code",
   "execution_count": 35,
   "metadata": {},
   "outputs": [
    {
     "data": {
      "text/plain": [
       "1        [love, love, love, jumpsuit, fun, flirty, fabu...\n",
       "2        [shirt, flattering, due, adjustable, front, ti...\n",
       "3        [love, tracy, reese, dresses, petite, feet, ta...\n",
       "4        [aded, basket, hte, last, mintue, see, look, l...\n",
       "5        [ordered, carbon, store, pick, ton, stuff, alw...\n",
       "                               ...                        \n",
       "19654    [impressed, beautiful, color, combinations, em...\n",
       "19655    [surprised, positive, reviews, product, terrib...\n",
       "19656    [wasnt, sure, ordering, skirt, couldnt, see, p...\n",
       "19657    [happy, snag, dress, great, price, easy, slip,...\n",
       "19661    [dress, lovely, platinum, feminine, fits, perf...\n",
       "Name: Clean_Reviews, Length: 17198, dtype: object"
      ]
     },
     "execution_count": 35,
     "metadata": {},
     "output_type": "execute_result"
    }
   ],
   "source": [
    "df['Clean_Reviews']"
   ]
  },
  {
   "cell_type": "markdown",
   "metadata": {},
   "source": [
    "### Lemmatization"
   ]
  },
  {
   "cell_type": "code",
   "execution_count": 36,
   "metadata": {},
   "outputs": [
    {
     "name": "stderr",
     "output_type": "stream",
     "text": [
      "[nltk_data] Downloading package wordnet to\n",
      "[nltk_data]     C:\\Users\\CodexNow\\AppData\\Roaming\\nltk_data...\n",
      "[nltk_data]   Package wordnet is already up-to-date!\n"
     ]
    },
    {
     "data": {
      "text/plain": [
       "True"
      ]
     },
     "execution_count": 36,
     "metadata": {},
     "output_type": "execute_result"
    }
   ],
   "source": [
    "nltk.download('wordnet')"
   ]
  },
  {
   "cell_type": "code",
   "execution_count": 37,
   "metadata": {},
   "outputs": [],
   "source": [
    "wnl = WordNetLemmatizer()"
   ]
  },
  {
   "cell_type": "code",
   "execution_count": 38,
   "metadata": {},
   "outputs": [],
   "source": [
    "#lemmatization to get the root words\n",
    "def lemmatize(s):\n",
    "    s = [wnl.lemmatize(word) for word in s]\n",
    "    return s"
   ]
  },
  {
   "cell_type": "code",
   "execution_count": 39,
   "metadata": {},
   "outputs": [],
   "source": [
    "df = df.assign(Clean_Reviews= df.Clean_Reviews.apply(lambda x: lemmatize(x)))"
   ]
  },
  {
   "cell_type": "markdown",
   "metadata": {},
   "source": [
    "### Stemming"
   ]
  },
  {
   "cell_type": "code",
   "execution_count": 33,
   "metadata": {},
   "outputs": [],
   "source": [
    "#defining a function for stemming text to get root word\n",
    "def stem_update(text_list):\n",
    "    text_list_new = []\n",
    "    for word in text_list:\n",
    "        word = porter.stem(word)\n",
    "        text_list_new.append(word) \n",
    "    return text_list_new"
   ]
  },
  {
   "cell_type": "code",
   "execution_count": 30,
   "metadata": {},
   "outputs": [],
   "source": [
    "porter = PorterStemmer()"
   ]
  },
  {
   "cell_type": "code",
   "execution_count": 31,
   "metadata": {},
   "outputs": [],
   "source": [
    "#df['Clean_Reviews'] = df['Clean_Reviews'].apply(stem_update)"
   ]
  },
  {
   "cell_type": "markdown",
   "metadata": {},
   "source": [
    "Stemming and Lemmatization both generate the root form of the inflected words. The difference is that stem might not be an actual word whereas, lemma is an actual language word. Stemming follows an algorithm with steps to perform on the words which makes it faster."
   ]
  },
  {
   "cell_type": "markdown",
   "metadata": {},
   "source": [
    "### Removing all numbers, size weight "
   ]
  },
  {
   "cell_type": "code",
   "execution_count": 40,
   "metadata": {},
   "outputs": [],
   "source": [
    "def drop_numbers(list_text):\n",
    "    list_text_new = []\n",
    "    for i in list_text:\n",
    "        if not re.search('\\d', i):\n",
    "            list_text_new.append(i)\n",
    "    return ' '.join(list_text_new)"
   ]
  },
  {
   "cell_type": "code",
   "execution_count": 41,
   "metadata": {},
   "outputs": [
    {
     "data": {
      "text/plain": [
       "1    love love love jumpsuit fun flirty fabulous ev...\n",
       "2    shirt flattering due adjustable front tie perf...\n",
       "3    love tracy reese dress petite foot tall usuall...\n",
       "4    aded basket hte last mintue see look like pers...\n",
       "5    ordered carbon store pick ton stuff always try...\n",
       "Name: Clean_Reviews, dtype: object"
      ]
     },
     "execution_count": 41,
     "metadata": {},
     "output_type": "execute_result"
    }
   ],
   "source": [
    "df['Clean_Reviews'] = df['Clean_Reviews'].apply(drop_numbers)\n",
    "df['Clean_Reviews'].head()"
   ]
  },
  {
   "cell_type": "code",
   "execution_count": 42,
   "metadata": {
    "scrolled": false
   },
   "outputs": [
    {
     "data": {
      "text/html": [
       "<div>\n",
       "<style scoped>\n",
       "    .dataframe tbody tr th:only-of-type {\n",
       "        vertical-align: middle;\n",
       "    }\n",
       "\n",
       "    .dataframe tbody tr th {\n",
       "        vertical-align: top;\n",
       "    }\n",
       "\n",
       "    .dataframe thead th {\n",
       "        text-align: right;\n",
       "    }\n",
       "</style>\n",
       "<table border=\"1\" class=\"dataframe\">\n",
       "  <thead>\n",
       "    <tr style=\"text-align: right;\">\n",
       "      <th></th>\n",
       "      <th>Clothing ID</th>\n",
       "      <th>Age</th>\n",
       "      <th>Title</th>\n",
       "      <th>Review Text</th>\n",
       "      <th>Rating</th>\n",
       "      <th>Recommended IND</th>\n",
       "      <th>Positive Feedback Count</th>\n",
       "      <th>Division Name</th>\n",
       "      <th>Department Name</th>\n",
       "      <th>Class Name</th>\n",
       "      <th>original_rating</th>\n",
       "      <th>Sentiment</th>\n",
       "      <th>Clean_Reviews</th>\n",
       "    </tr>\n",
       "  </thead>\n",
       "  <tbody>\n",
       "    <tr>\n",
       "      <th>1</th>\n",
       "      <td>1049</td>\n",
       "      <td>50</td>\n",
       "      <td>My favorite buy!</td>\n",
       "      <td>I love love love this jumpsuit it is fun flirt...</td>\n",
       "      <td>5</td>\n",
       "      <td>1</td>\n",
       "      <td>0</td>\n",
       "      <td>General Petite</td>\n",
       "      <td>Bottoms</td>\n",
       "      <td>Pants</td>\n",
       "      <td>5</td>\n",
       "      <td>1</td>\n",
       "      <td>love love love jumpsuit fun flirty fabulous ev...</td>\n",
       "    </tr>\n",
       "    <tr>\n",
       "      <th>2</th>\n",
       "      <td>847</td>\n",
       "      <td>47</td>\n",
       "      <td>Flattering shirt</td>\n",
       "      <td>This shirt is very flattering to all due to th...</td>\n",
       "      <td>5</td>\n",
       "      <td>1</td>\n",
       "      <td>6</td>\n",
       "      <td>General</td>\n",
       "      <td>Tops</td>\n",
       "      <td>Blouses</td>\n",
       "      <td>5</td>\n",
       "      <td>1</td>\n",
       "      <td>shirt flattering due adjustable front tie perf...</td>\n",
       "    </tr>\n",
       "    <tr>\n",
       "      <th>3</th>\n",
       "      <td>1080</td>\n",
       "      <td>49</td>\n",
       "      <td>Not for the very petite</td>\n",
       "      <td>I love tracy reese dresses but this one is not...</td>\n",
       "      <td>2</td>\n",
       "      <td>0</td>\n",
       "      <td>4</td>\n",
       "      <td>General</td>\n",
       "      <td>Dresses</td>\n",
       "      <td>Dresses</td>\n",
       "      <td>2</td>\n",
       "      <td>0</td>\n",
       "      <td>love tracy reese dress petite foot tall usuall...</td>\n",
       "    </tr>\n",
       "    <tr>\n",
       "      <th>4</th>\n",
       "      <td>858</td>\n",
       "      <td>39</td>\n",
       "      <td>Cagrcoal shimmer fun</td>\n",
       "      <td>I aded this in my basket at hte last mintue to...</td>\n",
       "      <td>5</td>\n",
       "      <td>1</td>\n",
       "      <td>1</td>\n",
       "      <td>General Petite</td>\n",
       "      <td>Tops</td>\n",
       "      <td>Knits</td>\n",
       "      <td>5</td>\n",
       "      <td>1</td>\n",
       "      <td>aded basket hte last mintue see look like pers...</td>\n",
       "    </tr>\n",
       "    <tr>\n",
       "      <th>5</th>\n",
       "      <td>858</td>\n",
       "      <td>39</td>\n",
       "      <td>Shimmer, surprisingly goes with lots</td>\n",
       "      <td>I ordered this in carbon for store pick up and...</td>\n",
       "      <td>4</td>\n",
       "      <td>1</td>\n",
       "      <td>4</td>\n",
       "      <td>General Petite</td>\n",
       "      <td>Tops</td>\n",
       "      <td>Knits</td>\n",
       "      <td>4</td>\n",
       "      <td>1</td>\n",
       "      <td>ordered carbon store pick ton stuff always try...</td>\n",
       "    </tr>\n",
       "  </tbody>\n",
       "</table>\n",
       "</div>"
      ],
      "text/plain": [
       "   Clothing ID  Age                                 Title  \\\n",
       "1         1049   50                      My favorite buy!   \n",
       "2          847   47                      Flattering shirt   \n",
       "3         1080   49               Not for the very petite   \n",
       "4          858   39                  Cagrcoal shimmer fun   \n",
       "5          858   39  Shimmer, surprisingly goes with lots   \n",
       "\n",
       "                                         Review Text  Rating  Recommended IND  \\\n",
       "1  I love love love this jumpsuit it is fun flirt...       5                1   \n",
       "2  This shirt is very flattering to all due to th...       5                1   \n",
       "3  I love tracy reese dresses but this one is not...       2                0   \n",
       "4  I aded this in my basket at hte last mintue to...       5                1   \n",
       "5  I ordered this in carbon for store pick up and...       4                1   \n",
       "\n",
       "   Positive Feedback Count   Division Name Department Name Class Name  \\\n",
       "1                        0  General Petite         Bottoms      Pants   \n",
       "2                        6         General            Tops    Blouses   \n",
       "3                        4         General         Dresses    Dresses   \n",
       "4                        1  General Petite            Tops      Knits   \n",
       "5                        4  General Petite            Tops      Knits   \n",
       "\n",
       "   original_rating  Sentiment  \\\n",
       "1                5          1   \n",
       "2                5          1   \n",
       "3                2          0   \n",
       "4                5          1   \n",
       "5                4          1   \n",
       "\n",
       "                                       Clean_Reviews  \n",
       "1  love love love jumpsuit fun flirty fabulous ev...  \n",
       "2  shirt flattering due adjustable front tie perf...  \n",
       "3  love tracy reese dress petite foot tall usuall...  \n",
       "4  aded basket hte last mintue see look like pers...  \n",
       "5  ordered carbon store pick ton stuff always try...  "
      ]
     },
     "execution_count": 42,
     "metadata": {},
     "output_type": "execute_result"
    }
   ],
   "source": [
    "df.head()"
   ]
  },
  {
   "cell_type": "markdown",
   "metadata": {},
   "source": [
    "### Word Count"
   ]
  },
  {
   "cell_type": "code",
   "execution_count": 43,
   "metadata": {
    "scrolled": true
   },
   "outputs": [
    {
     "data": {
      "text/html": [
       "<div>\n",
       "<style scoped>\n",
       "    .dataframe tbody tr th:only-of-type {\n",
       "        vertical-align: middle;\n",
       "    }\n",
       "\n",
       "    .dataframe tbody tr th {\n",
       "        vertical-align: top;\n",
       "    }\n",
       "\n",
       "    .dataframe thead th {\n",
       "        text-align: right;\n",
       "    }\n",
       "</style>\n",
       "<table border=\"1\" class=\"dataframe\">\n",
       "  <thead>\n",
       "    <tr style=\"text-align: right;\">\n",
       "      <th></th>\n",
       "      <th>Clothing ID</th>\n",
       "      <th>Age</th>\n",
       "      <th>Title</th>\n",
       "      <th>Review Text</th>\n",
       "      <th>Rating</th>\n",
       "      <th>Recommended IND</th>\n",
       "      <th>Positive Feedback Count</th>\n",
       "      <th>Division Name</th>\n",
       "      <th>Department Name</th>\n",
       "      <th>Class Name</th>\n",
       "      <th>original_rating</th>\n",
       "      <th>Sentiment</th>\n",
       "      <th>Clean_Reviews</th>\n",
       "      <th>Word Counts</th>\n",
       "    </tr>\n",
       "  </thead>\n",
       "  <tbody>\n",
       "    <tr>\n",
       "      <th>1</th>\n",
       "      <td>1049</td>\n",
       "      <td>50</td>\n",
       "      <td>My favorite buy!</td>\n",
       "      <td>I love love love this jumpsuit it is fun flirt...</td>\n",
       "      <td>5</td>\n",
       "      <td>1</td>\n",
       "      <td>0</td>\n",
       "      <td>General Petite</td>\n",
       "      <td>Bottoms</td>\n",
       "      <td>Pants</td>\n",
       "      <td>5</td>\n",
       "      <td>1</td>\n",
       "      <td>love love love jumpsuit fun flirty fabulous ev...</td>\n",
       "      <td>{'compliment': 1, 'every': 1, 'fabulous': 1, '...</td>\n",
       "    </tr>\n",
       "    <tr>\n",
       "      <th>2</th>\n",
       "      <td>847</td>\n",
       "      <td>47</td>\n",
       "      <td>Flattering shirt</td>\n",
       "      <td>This shirt is very flattering to all due to th...</td>\n",
       "      <td>5</td>\n",
       "      <td>1</td>\n",
       "      <td>6</td>\n",
       "      <td>General</td>\n",
       "      <td>Tops</td>\n",
       "      <td>Blouses</td>\n",
       "      <td>5</td>\n",
       "      <td>1</td>\n",
       "      <td>shirt flattering due adjustable front tie perf...</td>\n",
       "      <td>{'adjustable': 1, 'cardigan': 1, 'due': 1, 'fl...</td>\n",
       "    </tr>\n",
       "    <tr>\n",
       "      <th>3</th>\n",
       "      <td>1080</td>\n",
       "      <td>49</td>\n",
       "      <td>Not for the very petite</td>\n",
       "      <td>I love tracy reese dresses but this one is not...</td>\n",
       "      <td>2</td>\n",
       "      <td>0</td>\n",
       "      <td>4</td>\n",
       "      <td>General</td>\n",
       "      <td>Dresses</td>\n",
       "      <td>Dresses</td>\n",
       "      <td>2</td>\n",
       "      <td>0</td>\n",
       "      <td>love tracy reese dress petite foot tall usuall...</td>\n",
       "      <td>{'alteration': 1, 'away': 1, 'brand': 1, 'colo...</td>\n",
       "    </tr>\n",
       "    <tr>\n",
       "      <th>4</th>\n",
       "      <td>858</td>\n",
       "      <td>39</td>\n",
       "      <td>Cagrcoal shimmer fun</td>\n",
       "      <td>I aded this in my basket at hte last mintue to...</td>\n",
       "      <td>5</td>\n",
       "      <td>1</td>\n",
       "      <td>1</td>\n",
       "      <td>General Petite</td>\n",
       "      <td>Tops</td>\n",
       "      <td>Knits</td>\n",
       "      <td>5</td>\n",
       "      <td>1</td>\n",
       "      <td>aded basket hte last mintue see look like pers...</td>\n",
       "      <td>{'aded': 1, 'baggy': 1, 'basket': 1, 'bummer':...</td>\n",
       "    </tr>\n",
       "    <tr>\n",
       "      <th>5</th>\n",
       "      <td>858</td>\n",
       "      <td>39</td>\n",
       "      <td>Shimmer, surprisingly goes with lots</td>\n",
       "      <td>I ordered this in carbon for store pick up and...</td>\n",
       "      <td>4</td>\n",
       "      <td>1</td>\n",
       "      <td>4</td>\n",
       "      <td>General Petite</td>\n",
       "      <td>Tops</td>\n",
       "      <td>Knits</td>\n",
       "      <td>4</td>\n",
       "      <td>1</td>\n",
       "      <td>ordered carbon store pick ton stuff always try...</td>\n",
       "      <td>{'already': 1, 'always': 1, 'big': 1, 'carbon'...</td>\n",
       "    </tr>\n",
       "  </tbody>\n",
       "</table>\n",
       "</div>"
      ],
      "text/plain": [
       "   Clothing ID  Age                                 Title  \\\n",
       "1         1049   50                      My favorite buy!   \n",
       "2          847   47                      Flattering shirt   \n",
       "3         1080   49               Not for the very petite   \n",
       "4          858   39                  Cagrcoal shimmer fun   \n",
       "5          858   39  Shimmer, surprisingly goes with lots   \n",
       "\n",
       "                                         Review Text  Rating  Recommended IND  \\\n",
       "1  I love love love this jumpsuit it is fun flirt...       5                1   \n",
       "2  This shirt is very flattering to all due to th...       5                1   \n",
       "3  I love tracy reese dresses but this one is not...       2                0   \n",
       "4  I aded this in my basket at hte last mintue to...       5                1   \n",
       "5  I ordered this in carbon for store pick up and...       4                1   \n",
       "\n",
       "   Positive Feedback Count   Division Name Department Name Class Name  \\\n",
       "1                        0  General Petite         Bottoms      Pants   \n",
       "2                        6         General            Tops    Blouses   \n",
       "3                        4         General         Dresses    Dresses   \n",
       "4                        1  General Petite            Tops      Knits   \n",
       "5                        4  General Petite            Tops      Knits   \n",
       "\n",
       "   original_rating  Sentiment  \\\n",
       "1                5          1   \n",
       "2                5          1   \n",
       "3                2          0   \n",
       "4                5          1   \n",
       "5                4          1   \n",
       "\n",
       "                                       Clean_Reviews  \\\n",
       "1  love love love jumpsuit fun flirty fabulous ev...   \n",
       "2  shirt flattering due adjustable front tie perf...   \n",
       "3  love tracy reese dress petite foot tall usuall...   \n",
       "4  aded basket hte last mintue see look like pers...   \n",
       "5  ordered carbon store pick ton stuff always try...   \n",
       "\n",
       "                                         Word Counts  \n",
       "1  {'compliment': 1, 'every': 1, 'fabulous': 1, '...  \n",
       "2  {'adjustable': 1, 'cardigan': 1, 'due': 1, 'fl...  \n",
       "3  {'alteration': 1, 'away': 1, 'brand': 1, 'colo...  \n",
       "4  {'aded': 1, 'baggy': 1, 'basket': 1, 'bummer':...  \n",
       "5  {'already': 1, 'always': 1, 'big': 1, 'carbon'...  "
      ]
     },
     "execution_count": 43,
     "metadata": {},
     "output_type": "execute_result"
    }
   ],
   "source": [
    "vectorizer = CountVectorizer()\n",
    "analyzer = vectorizer.build_analyzer()\n",
    "def wordcounts(s):\n",
    "    c = {}\n",
    "    \n",
    "    if analyzer(s):\n",
    "        d = {}\n",
    "        # find counts of the vocabularies and transform to array \n",
    "        w = vectorizer.fit_transform([s]).toarray()\n",
    "        # vocabulary and index (index of w)\n",
    "        vc = vectorizer.vocabulary_\n",
    "        # items() transforms the dictionary's (word, index) tuple pairs\n",
    "        for k,v in vc.items():\n",
    "            d[v]=k # d -> index:word \n",
    "        for index,i in enumerate(w[0]):\n",
    "            c[d[index]] = i # c -> word:count\n",
    "    return  c\n",
    "\n",
    "# add new column to the dataframe\n",
    "df['Word Counts'] = df['Clean_Reviews'].apply(wordcounts)\n",
    "df.head()"
   ]
  },
  {
   "cell_type": "code",
   "execution_count": 44,
   "metadata": {},
   "outputs": [],
   "source": [
    "from sklearn.metrics import confusion_matrix \n",
    "from sklearn.metrics import accuracy_score\n",
    "from sklearn.ensemble import RandomForestClassifier\n",
    "from sklearn.metrics import precision_score\n",
    "from sklearn.metrics import recall_score"
   ]
  },
  {
   "cell_type": "code",
   "execution_count": 45,
   "metadata": {
    "scrolled": true
   },
   "outputs": [
    {
     "name": "stdout",
     "output_type": "stream",
     "text": [
      "<class 'pandas.core.frame.DataFrame'>\n",
      "Int64Index: 17198 entries, 1 to 19661\n",
      "Data columns (total 14 columns):\n",
      " #   Column                   Non-Null Count  Dtype \n",
      "---  ------                   --------------  ----- \n",
      " 0   Clothing ID              17198 non-null  int64 \n",
      " 1   Age                      17198 non-null  int64 \n",
      " 2   Title                    17198 non-null  object\n",
      " 3   Review Text              17198 non-null  object\n",
      " 4   Rating                   17198 non-null  int64 \n",
      " 5   Recommended IND          17198 non-null  int64 \n",
      " 6   Positive Feedback Count  17198 non-null  int64 \n",
      " 7   Division Name            17198 non-null  object\n",
      " 8   Department Name          17198 non-null  object\n",
      " 9   Class Name               17198 non-null  object\n",
      " 10  original_rating          17198 non-null  int64 \n",
      " 11  Sentiment                17198 non-null  int64 \n",
      " 12  Clean_Reviews            17198 non-null  object\n",
      " 13  Word Counts              17198 non-null  object\n",
      "dtypes: int64(7), object(7)\n",
      "memory usage: 2.0+ MB\n"
     ]
    }
   ],
   "source": [
    "df.info()"
   ]
  },
  {
   "cell_type": "code",
   "execution_count": 46,
   "metadata": {},
   "outputs": [
    {
     "data": {
      "text/plain": [
       "1    15147\n",
       "0     2051\n",
       "Name: Sentiment, dtype: int64"
      ]
     },
     "execution_count": 46,
     "metadata": {},
     "output_type": "execute_result"
    }
   ],
   "source": [
    "df['Sentiment'].value_counts()"
   ]
  },
  {
   "cell_type": "code",
   "execution_count": 47,
   "metadata": {},
   "outputs": [
    {
     "data": {
      "text/plain": [
       "<pandas.core.groupby.generic.SeriesGroupBy object at 0x00000268251EACA0>"
      ]
     },
     "execution_count": 47,
     "metadata": {},
     "output_type": "execute_result"
    }
   ],
   "source": [
    "df.groupby(by = ['Sentiment'])['Review Text']"
   ]
  },
  {
   "cell_type": "code",
   "execution_count": 48,
   "metadata": {},
   "outputs": [],
   "source": [
    "temp = df[df['Sentiment']==0]"
   ]
  },
  {
   "cell_type": "code",
   "execution_count": 49,
   "metadata": {},
   "outputs": [
    {
     "data": {
      "text/plain": [
       "3        I love tracy reese dresses but this one is not...\n",
       "19       First of all this is not pullover styling ther...\n",
       "23       I have been waiting for this sweater coat to s...\n",
       "29       I ordered this 3 months ago and it finally cam...\n",
       "47       3 tags sewn in 2 small about 1 long and 1 huge...\n",
       "                               ...                        \n",
       "19593    I was very excited to find a fun and lightweig...\n",
       "19607    Before i ordered this i noted the other review...\n",
       "19609    What drew me to this shirt was the beautiful s...\n",
       "19618    This dress is so cute in the photo and fit tru...\n",
       "19655    I was surprised at the positive reviews for th...\n",
       "Name: Review Text, Length: 2051, dtype: object"
      ]
     },
     "execution_count": 49,
     "metadata": {},
     "output_type": "execute_result"
    }
   ],
   "source": [
    "temp['Review Text']"
   ]
  },
  {
   "cell_type": "code",
   "execution_count": 50,
   "metadata": {},
   "outputs": [
    {
     "data": {
      "text/plain": [
       "(17198, 14)"
      ]
     },
     "execution_count": 50,
     "metadata": {},
     "output_type": "execute_result"
    }
   ],
   "source": [
    "df.shape"
   ]
  },
  {
   "cell_type": "code",
   "execution_count": 54,
   "metadata": {},
   "outputs": [],
   "source": [
    "df_copy = df.copy()"
   ]
  },
  {
   "cell_type": "code",
   "execution_count": 55,
   "metadata": {
    "scrolled": true
   },
   "outputs": [
    {
     "data": {
      "text/html": [
       "<div>\n",
       "<style scoped>\n",
       "    .dataframe tbody tr th:only-of-type {\n",
       "        vertical-align: middle;\n",
       "    }\n",
       "\n",
       "    .dataframe tbody tr th {\n",
       "        vertical-align: top;\n",
       "    }\n",
       "\n",
       "    .dataframe thead th {\n",
       "        text-align: right;\n",
       "    }\n",
       "</style>\n",
       "<table border=\"1\" class=\"dataframe\">\n",
       "  <thead>\n",
       "    <tr style=\"text-align: right;\">\n",
       "      <th></th>\n",
       "      <th>Clothing ID</th>\n",
       "      <th>Age</th>\n",
       "      <th>Title</th>\n",
       "      <th>Review Text</th>\n",
       "      <th>Rating</th>\n",
       "      <th>Recommended IND</th>\n",
       "      <th>Positive Feedback Count</th>\n",
       "      <th>Division Name</th>\n",
       "      <th>Department Name</th>\n",
       "      <th>Class Name</th>\n",
       "      <th>original_rating</th>\n",
       "      <th>Sentiment</th>\n",
       "      <th>Clean_Reviews</th>\n",
       "      <th>Word Counts</th>\n",
       "    </tr>\n",
       "  </thead>\n",
       "  <tbody>\n",
       "    <tr>\n",
       "      <th>1</th>\n",
       "      <td>1049</td>\n",
       "      <td>50</td>\n",
       "      <td>My favorite buy!</td>\n",
       "      <td>I love love love this jumpsuit it is fun flirt...</td>\n",
       "      <td>5</td>\n",
       "      <td>1</td>\n",
       "      <td>0</td>\n",
       "      <td>General Petite</td>\n",
       "      <td>Bottoms</td>\n",
       "      <td>Pants</td>\n",
       "      <td>5</td>\n",
       "      <td>1</td>\n",
       "      <td>love love love jumpsuit fun flirty fabulous ev...</td>\n",
       "      <td>{'compliment': 1, 'every': 1, 'fabulous': 1, '...</td>\n",
       "    </tr>\n",
       "    <tr>\n",
       "      <th>2</th>\n",
       "      <td>847</td>\n",
       "      <td>47</td>\n",
       "      <td>Flattering shirt</td>\n",
       "      <td>This shirt is very flattering to all due to th...</td>\n",
       "      <td>5</td>\n",
       "      <td>1</td>\n",
       "      <td>6</td>\n",
       "      <td>General</td>\n",
       "      <td>Tops</td>\n",
       "      <td>Blouses</td>\n",
       "      <td>5</td>\n",
       "      <td>1</td>\n",
       "      <td>shirt flattering due adjustable front tie perf...</td>\n",
       "      <td>{'adjustable': 1, 'cardigan': 1, 'due': 1, 'fl...</td>\n",
       "    </tr>\n",
       "    <tr>\n",
       "      <th>3</th>\n",
       "      <td>1080</td>\n",
       "      <td>49</td>\n",
       "      <td>Not for the very petite</td>\n",
       "      <td>I love tracy reese dresses but this one is not...</td>\n",
       "      <td>2</td>\n",
       "      <td>0</td>\n",
       "      <td>4</td>\n",
       "      <td>General</td>\n",
       "      <td>Dresses</td>\n",
       "      <td>Dresses</td>\n",
       "      <td>2</td>\n",
       "      <td>0</td>\n",
       "      <td>love tracy reese dress petite foot tall usuall...</td>\n",
       "      <td>{'alteration': 1, 'away': 1, 'brand': 1, 'colo...</td>\n",
       "    </tr>\n",
       "    <tr>\n",
       "      <th>4</th>\n",
       "      <td>858</td>\n",
       "      <td>39</td>\n",
       "      <td>Cagrcoal shimmer fun</td>\n",
       "      <td>I aded this in my basket at hte last mintue to...</td>\n",
       "      <td>5</td>\n",
       "      <td>1</td>\n",
       "      <td>1</td>\n",
       "      <td>General Petite</td>\n",
       "      <td>Tops</td>\n",
       "      <td>Knits</td>\n",
       "      <td>5</td>\n",
       "      <td>1</td>\n",
       "      <td>aded basket hte last mintue see look like pers...</td>\n",
       "      <td>{'aded': 1, 'baggy': 1, 'basket': 1, 'bummer':...</td>\n",
       "    </tr>\n",
       "    <tr>\n",
       "      <th>5</th>\n",
       "      <td>858</td>\n",
       "      <td>39</td>\n",
       "      <td>Shimmer, surprisingly goes with lots</td>\n",
       "      <td>I ordered this in carbon for store pick up and...</td>\n",
       "      <td>4</td>\n",
       "      <td>1</td>\n",
       "      <td>4</td>\n",
       "      <td>General Petite</td>\n",
       "      <td>Tops</td>\n",
       "      <td>Knits</td>\n",
       "      <td>4</td>\n",
       "      <td>1</td>\n",
       "      <td>ordered carbon store pick ton stuff always try...</td>\n",
       "      <td>{'already': 1, 'always': 1, 'big': 1, 'carbon'...</td>\n",
       "    </tr>\n",
       "  </tbody>\n",
       "</table>\n",
       "</div>"
      ],
      "text/plain": [
       "   Clothing ID  Age                                 Title  \\\n",
       "1         1049   50                      My favorite buy!   \n",
       "2          847   47                      Flattering shirt   \n",
       "3         1080   49               Not for the very petite   \n",
       "4          858   39                  Cagrcoal shimmer fun   \n",
       "5          858   39  Shimmer, surprisingly goes with lots   \n",
       "\n",
       "                                         Review Text  Rating  Recommended IND  \\\n",
       "1  I love love love this jumpsuit it is fun flirt...       5                1   \n",
       "2  This shirt is very flattering to all due to th...       5                1   \n",
       "3  I love tracy reese dresses but this one is not...       2                0   \n",
       "4  I aded this in my basket at hte last mintue to...       5                1   \n",
       "5  I ordered this in carbon for store pick up and...       4                1   \n",
       "\n",
       "   Positive Feedback Count   Division Name Department Name Class Name  \\\n",
       "1                        0  General Petite         Bottoms      Pants   \n",
       "2                        6         General            Tops    Blouses   \n",
       "3                        4         General         Dresses    Dresses   \n",
       "4                        1  General Petite            Tops      Knits   \n",
       "5                        4  General Petite            Tops      Knits   \n",
       "\n",
       "   original_rating  Sentiment  \\\n",
       "1                5          1   \n",
       "2                5          1   \n",
       "3                2          0   \n",
       "4                5          1   \n",
       "5                4          1   \n",
       "\n",
       "                                       Clean_Reviews  \\\n",
       "1  love love love jumpsuit fun flirty fabulous ev...   \n",
       "2  shirt flattering due adjustable front tie perf...   \n",
       "3  love tracy reese dress petite foot tall usuall...   \n",
       "4  aded basket hte last mintue see look like pers...   \n",
       "5  ordered carbon store pick ton stuff always try...   \n",
       "\n",
       "                                         Word Counts  \n",
       "1  {'compliment': 1, 'every': 1, 'fabulous': 1, '...  \n",
       "2  {'adjustable': 1, 'cardigan': 1, 'due': 1, 'fl...  \n",
       "3  {'alteration': 1, 'away': 1, 'brand': 1, 'colo...  \n",
       "4  {'aded': 1, 'baggy': 1, 'basket': 1, 'bummer':...  \n",
       "5  {'already': 1, 'always': 1, 'big': 1, 'carbon'...  "
      ]
     },
     "execution_count": 55,
     "metadata": {},
     "output_type": "execute_result"
    }
   ],
   "source": [
    "df_copy.head()"
   ]
  },
  {
   "cell_type": "code",
   "execution_count": 57,
   "metadata": {},
   "outputs": [
    {
     "name": "stdout",
     "output_type": "stream",
     "text": [
      "<class 'pandas.core.frame.DataFrame'>\n",
      "Int64Index: 17198 entries, 1 to 19661\n",
      "Data columns (total 14 columns):\n",
      " #   Column                   Non-Null Count  Dtype \n",
      "---  ------                   --------------  ----- \n",
      " 0   Clothing ID              17198 non-null  int64 \n",
      " 1   Age                      17198 non-null  int64 \n",
      " 2   Title                    17198 non-null  object\n",
      " 3   Review Text              17198 non-null  object\n",
      " 4   Rating                   17198 non-null  int64 \n",
      " 5   Recommended IND          17198 non-null  int64 \n",
      " 6   Positive Feedback Count  17198 non-null  int64 \n",
      " 7   Division Name            17198 non-null  object\n",
      " 8   Department Name          17198 non-null  object\n",
      " 9   Class Name               17198 non-null  object\n",
      " 10  original_rating          17198 non-null  int64 \n",
      " 11  Sentiment                17198 non-null  int64 \n",
      " 12  Clean_Reviews            17198 non-null  object\n",
      " 13  Word Counts              17198 non-null  object\n",
      "dtypes: int64(7), object(7)\n",
      "memory usage: 2.6+ MB\n"
     ]
    }
   ],
   "source": [
    "df_copy.info()"
   ]
  },
  {
   "cell_type": "code",
   "execution_count": 58,
   "metadata": {},
   "outputs": [],
   "source": [
    "df_copy = df_copy.drop(['Clothing ID', 'Title','Positive Feedback Count','Division Name','Department Name','Word Counts'], axis=1)"
   ]
  },
  {
   "cell_type": "code",
   "execution_count": 60,
   "metadata": {},
   "outputs": [
    {
     "name": "stdout",
     "output_type": "stream",
     "text": [
      "<class 'pandas.core.frame.DataFrame'>\n",
      "Int64Index: 17198 entries, 1 to 19661\n",
      "Data columns (total 8 columns):\n",
      " #   Column           Non-Null Count  Dtype \n",
      "---  ------           --------------  ----- \n",
      " 0   Age              17198 non-null  int64 \n",
      " 1   Review Text      17198 non-null  object\n",
      " 2   Rating           17198 non-null  int64 \n",
      " 3   Recommended IND  17198 non-null  int64 \n",
      " 4   Class Name       17198 non-null  object\n",
      " 5   original_rating  17198 non-null  int64 \n",
      " 6   Sentiment        17198 non-null  int64 \n",
      " 7   Clean_Reviews    17198 non-null  object\n",
      "dtypes: int64(5), object(3)\n",
      "memory usage: 1.8+ MB\n"
     ]
    }
   ],
   "source": [
    "df_copy.info()"
   ]
  },
  {
   "cell_type": "code",
   "execution_count": 61,
   "metadata": {},
   "outputs": [],
   "source": [
    "df_copy.to_csv('Processed_data.csv',index = False)"
   ]
  },
  {
   "cell_type": "code",
   "execution_count": 62,
   "metadata": {},
   "outputs": [
    {
     "data": {
      "text/plain": [
       "5    10858\n",
       "4     4289\n",
       "2     1360\n",
       "1      691\n",
       "Name: original_rating, dtype: int64"
      ]
     },
     "execution_count": 62,
     "metadata": {},
     "output_type": "execute_result"
    }
   ],
   "source": [
    "df_copy['original_rating'].value_counts()"
   ]
  },
  {
   "cell_type": "code",
   "execution_count": null,
   "metadata": {},
   "outputs": [],
   "source": []
  },
  {
   "cell_type": "code",
   "execution_count": null,
   "metadata": {},
   "outputs": [],
   "source": []
  },
  {
   "cell_type": "code",
   "execution_count": null,
   "metadata": {},
   "outputs": [],
   "source": []
  },
  {
   "cell_type": "code",
   "execution_count": null,
   "metadata": {},
   "outputs": [],
   "source": []
  },
  {
   "cell_type": "markdown",
   "metadata": {},
   "source": [
    "## Applying Count Vectorizer"
   ]
  },
  {
   "cell_type": "code",
   "execution_count": 51,
   "metadata": {},
   "outputs": [],
   "source": [
    "X= df[['Clean_Reviews']]"
   ]
  },
  {
   "cell_type": "code",
   "execution_count": 52,
   "metadata": {},
   "outputs": [],
   "source": [
    "y=df[['Sentiment']]"
   ]
  },
  {
   "cell_type": "code",
   "execution_count": 43,
   "metadata": {},
   "outputs": [],
   "source": [
    "vectorizer=CountVectorizer()"
   ]
  },
  {
   "cell_type": "code",
   "execution_count": 44,
   "metadata": {},
   "outputs": [],
   "source": [
    "X = vectorizer.fit_transform(X['Clean_Reviews'])"
   ]
  },
  {
   "cell_type": "code",
   "execution_count": 45,
   "metadata": {},
   "outputs": [
    {
     "data": {
      "text/plain": [
       "<17198x14758 sparse matrix of type '<class 'numpy.int64'>'\n",
       "\twith 453445 stored elements in Compressed Sparse Row format>"
      ]
     },
     "execution_count": 45,
     "metadata": {},
     "output_type": "execute_result"
    }
   ],
   "source": [
    "X"
   ]
  },
  {
   "cell_type": "code",
   "execution_count": 46,
   "metadata": {},
   "outputs": [
    {
     "data": {
      "text/plain": [
       "(17198, 14758)"
      ]
     },
     "execution_count": 46,
     "metadata": {},
     "output_type": "execute_result"
    }
   ],
   "source": [
    "X.shape"
   ]
  },
  {
   "cell_type": "code",
   "execution_count": 47,
   "metadata": {},
   "outputs": [],
   "source": [
    " X_train, X_test, y_train, y_test = train_test_split(X, y, train_size=0.8, random_state=42)"
   ]
  },
  {
   "cell_type": "code",
   "execution_count": 48,
   "metadata": {},
   "outputs": [
    {
     "data": {
      "text/plain": [
       "(3440, 14758)"
      ]
     },
     "execution_count": 48,
     "metadata": {},
     "output_type": "execute_result"
    }
   ],
   "source": [
    "X_test.shape"
   ]
  },
  {
   "cell_type": "code",
   "execution_count": 49,
   "metadata": {},
   "outputs": [
    {
     "data": {
      "text/plain": [
       "(3440, 1)"
      ]
     },
     "execution_count": 49,
     "metadata": {},
     "output_type": "execute_result"
    }
   ],
   "source": [
    "y_test.shape"
   ]
  },
  {
   "cell_type": "code",
   "execution_count": 50,
   "metadata": {},
   "outputs": [
    {
     "data": {
      "text/html": [
       "<div>\n",
       "<style scoped>\n",
       "    .dataframe tbody tr th:only-of-type {\n",
       "        vertical-align: middle;\n",
       "    }\n",
       "\n",
       "    .dataframe tbody tr th {\n",
       "        vertical-align: top;\n",
       "    }\n",
       "\n",
       "    .dataframe thead th {\n",
       "        text-align: right;\n",
       "    }\n",
       "</style>\n",
       "<table border=\"1\" class=\"dataframe\">\n",
       "  <thead>\n",
       "    <tr style=\"text-align: right;\">\n",
       "      <th></th>\n",
       "      <th>Sentiment</th>\n",
       "    </tr>\n",
       "  </thead>\n",
       "  <tbody>\n",
       "    <tr>\n",
       "      <th>12722</th>\n",
       "      <td>1</td>\n",
       "    </tr>\n",
       "    <tr>\n",
       "      <th>16919</th>\n",
       "      <td>1</td>\n",
       "    </tr>\n",
       "    <tr>\n",
       "      <th>3507</th>\n",
       "      <td>1</td>\n",
       "    </tr>\n",
       "    <tr>\n",
       "      <th>7447</th>\n",
       "      <td>1</td>\n",
       "    </tr>\n",
       "    <tr>\n",
       "      <th>4016</th>\n",
       "      <td>1</td>\n",
       "    </tr>\n",
       "  </tbody>\n",
       "</table>\n",
       "</div>"
      ],
      "text/plain": [
       "       Sentiment\n",
       "12722          1\n",
       "16919          1\n",
       "3507           1\n",
       "7447           1\n",
       "4016           1"
      ]
     },
     "execution_count": 50,
     "metadata": {},
     "output_type": "execute_result"
    }
   ],
   "source": [
    "y_test.head()"
   ]
  },
  {
   "cell_type": "code",
   "execution_count": 51,
   "metadata": {},
   "outputs": [],
   "source": [
    "temp =y_test"
   ]
  },
  {
   "cell_type": "code",
   "execution_count": 52,
   "metadata": {},
   "outputs": [
    {
     "data": {
      "text/html": [
       "<div>\n",
       "<style scoped>\n",
       "    .dataframe tbody tr th:only-of-type {\n",
       "        vertical-align: middle;\n",
       "    }\n",
       "\n",
       "    .dataframe tbody tr th {\n",
       "        vertical-align: top;\n",
       "    }\n",
       "\n",
       "    .dataframe thead th {\n",
       "        text-align: right;\n",
       "    }\n",
       "</style>\n",
       "<table border=\"1\" class=\"dataframe\">\n",
       "  <thead>\n",
       "    <tr style=\"text-align: right;\">\n",
       "      <th></th>\n",
       "      <th>Sentiment</th>\n",
       "    </tr>\n",
       "  </thead>\n",
       "  <tbody>\n",
       "    <tr>\n",
       "      <th>12722</th>\n",
       "      <td>1</td>\n",
       "    </tr>\n",
       "    <tr>\n",
       "      <th>16919</th>\n",
       "      <td>1</td>\n",
       "    </tr>\n",
       "    <tr>\n",
       "      <th>3507</th>\n",
       "      <td>1</td>\n",
       "    </tr>\n",
       "    <tr>\n",
       "      <th>7447</th>\n",
       "      <td>1</td>\n",
       "    </tr>\n",
       "    <tr>\n",
       "      <th>4016</th>\n",
       "      <td>1</td>\n",
       "    </tr>\n",
       "    <tr>\n",
       "      <th>...</th>\n",
       "      <td>...</td>\n",
       "    </tr>\n",
       "    <tr>\n",
       "      <th>14312</th>\n",
       "      <td>1</td>\n",
       "    </tr>\n",
       "    <tr>\n",
       "      <th>15538</th>\n",
       "      <td>1</td>\n",
       "    </tr>\n",
       "    <tr>\n",
       "      <th>9373</th>\n",
       "      <td>1</td>\n",
       "    </tr>\n",
       "    <tr>\n",
       "      <th>16774</th>\n",
       "      <td>1</td>\n",
       "    </tr>\n",
       "    <tr>\n",
       "      <th>1658</th>\n",
       "      <td>1</td>\n",
       "    </tr>\n",
       "  </tbody>\n",
       "</table>\n",
       "<p>3440 rows × 1 columns</p>\n",
       "</div>"
      ],
      "text/plain": [
       "       Sentiment\n",
       "12722          1\n",
       "16919          1\n",
       "3507           1\n",
       "7447           1\n",
       "4016           1\n",
       "...          ...\n",
       "14312          1\n",
       "15538          1\n",
       "9373           1\n",
       "16774          1\n",
       "1658           1\n",
       "\n",
       "[3440 rows x 1 columns]"
      ]
     },
     "execution_count": 52,
     "metadata": {},
     "output_type": "execute_result"
    }
   ],
   "source": [
    "temp"
   ]
  },
  {
   "cell_type": "code",
   "execution_count": 53,
   "metadata": {},
   "outputs": [],
   "source": [
    "temp.to_csv('y_test_data.csv',index = False)"
   ]
  },
  {
   "cell_type": "code",
   "execution_count": 54,
   "metadata": {},
   "outputs": [],
   "source": [
    "X_df = pd.DataFrame(X_test.toarray())"
   ]
  },
  {
   "cell_type": "code",
   "execution_count": 55,
   "metadata": {},
   "outputs": [
    {
     "data": {
      "text/plain": [
       "(3440, 14758)"
      ]
     },
     "execution_count": 55,
     "metadata": {},
     "output_type": "execute_result"
    }
   ],
   "source": [
    "X_df.shape"
   ]
  },
  {
   "cell_type": "code",
   "execution_count": 56,
   "metadata": {},
   "outputs": [],
   "source": [
    "X_df.to_csv('X_test_data.csv',index = False)"
   ]
  },
  {
   "cell_type": "code",
   "execution_count": 57,
   "metadata": {},
   "outputs": [
    {
     "data": {
      "text/plain": [
       "(13758, 14758)"
      ]
     },
     "execution_count": 57,
     "metadata": {},
     "output_type": "execute_result"
    }
   ],
   "source": [
    " X_train.shape"
   ]
  },
  {
   "cell_type": "code",
   "execution_count": 59,
   "metadata": {},
   "outputs": [
    {
     "data": {
      "text/plain": [
       "17198"
      ]
     },
     "execution_count": 59,
     "metadata": {},
     "output_type": "execute_result"
    }
   ],
   "source": [
    "13758+3440"
   ]
  },
  {
   "cell_type": "markdown",
   "metadata": {},
   "source": [
    "## Pickle Logistic Regression"
   ]
  },
  {
   "cell_type": "code",
   "execution_count": 61,
   "metadata": {},
   "outputs": [],
   "source": [
    "import pickle"
   ]
  },
  {
   "cell_type": "markdown",
   "metadata": {},
   "source": [
    "Applying Logistic Regression"
   ]
  },
  {
   "cell_type": "code",
   "execution_count": 62,
   "metadata": {},
   "outputs": [
    {
     "name": "stderr",
     "output_type": "stream",
     "text": [
      "c:\\users\\codexnow\\appdata\\local\\programs\\python\\python38\\lib\\site-packages\\sklearn\\utils\\validation.py:72: DataConversionWarning: A column-vector y was passed when a 1d array was expected. Please change the shape of y to (n_samples, ), for example using ravel().\n",
      "  return f(**kwargs)\n",
      "c:\\users\\codexnow\\appdata\\local\\programs\\python\\python38\\lib\\site-packages\\sklearn\\linear_model\\_logistic.py:762: ConvergenceWarning: lbfgs failed to converge (status=1):\n",
      "STOP: TOTAL NO. of ITERATIONS REACHED LIMIT.\n",
      "\n",
      "Increase the number of iterations (max_iter) or scale the data as shown in:\n",
      "    https://scikit-learn.org/stable/modules/preprocessing.html\n",
      "Please also refer to the documentation for alternative solver options:\n",
      "    https://scikit-learn.org/stable/modules/linear_model.html#logistic-regression\n",
      "  n_iter_i = _check_optimize_result(\n"
     ]
    }
   ],
   "source": [
    "model = LogisticRegression()\n",
    "model.fit(X_train, y_train)\n",
    "# save the model to diskf\n",
    "filename = 'model.pkl'\n",
    "pickle.dump(model, open(filename, 'wb'))\n",
    " "
   ]
  },
  {
   "cell_type": "code",
   "execution_count": 63,
   "metadata": {},
   "outputs": [
    {
     "name": "stdout",
     "output_type": "stream",
     "text": [
      "0.9313953488372093\n"
     ]
    }
   ],
   "source": [
    "# load the model from disk\n",
    "loaded_model = pickle.load(open(filename, 'rb'))\n",
    "result = loaded_model.score(X_test, y_test)\n",
    "print(result)"
   ]
  },
  {
   "cell_type": "markdown",
   "metadata": {},
   "source": [
    "------------------------------------"
   ]
  },
  {
   "cell_type": "markdown",
   "metadata": {},
   "source": [
    "### Pickling Naive Bayes "
   ]
  },
  {
   "cell_type": "code",
   "execution_count": 64,
   "metadata": {},
   "outputs": [
    {
     "name": "stderr",
     "output_type": "stream",
     "text": [
      "c:\\users\\codexnow\\appdata\\local\\programs\\python\\python38\\lib\\site-packages\\sklearn\\utils\\validation.py:72: DataConversionWarning: A column-vector y was passed when a 1d array was expected. Please change the shape of y to (n_samples, ), for example using ravel().\n",
      "  return f(**kwargs)\n"
     ]
    }
   ],
   "source": [
    "model_nb = MultinomialNB()\n",
    "model_nb.fit(X_train, y_train)\n",
    "# save the model to diskf\n",
    "filename = 'model_nb.pkl'\n",
    "pickle.dump(model_nb, open(filename, 'wb'))"
   ]
  },
  {
   "cell_type": "code",
   "execution_count": 65,
   "metadata": {},
   "outputs": [
    {
     "name": "stdout",
     "output_type": "stream",
     "text": [
      "0.9281976744186047\n"
     ]
    }
   ],
   "source": [
    "# load the model from disk\n",
    "loaded_model_nb = pickle.load(open(filename, 'rb'))\n",
    "result = loaded_model_nb.score(X_test, y_test)\n",
    "print(result)"
   ]
  },
  {
   "cell_type": "code",
   "execution_count": null,
   "metadata": {},
   "outputs": [],
   "source": []
  },
  {
   "cell_type": "markdown",
   "metadata": {},
   "source": [
    "### Pickle SVM"
   ]
  },
  {
   "cell_type": "code",
   "execution_count": 66,
   "metadata": {},
   "outputs": [
    {
     "name": "stderr",
     "output_type": "stream",
     "text": [
      "c:\\users\\codexnow\\appdata\\local\\programs\\python\\python38\\lib\\site-packages\\sklearn\\utils\\validation.py:72: DataConversionWarning: A column-vector y was passed when a 1d array was expected. Please change the shape of y to (n_samples, ), for example using ravel().\n",
      "  return f(**kwargs)\n"
     ]
    }
   ],
   "source": [
    "model_svm = SVC()\n",
    "model_svm.fit(X_train, y_train)\n",
    "# save the model to diskf\n",
    "filename = 'model_svm.pkl'\n",
    "pickle.dump(model_svm, open(filename, 'wb'))"
   ]
  },
  {
   "cell_type": "code",
   "execution_count": 67,
   "metadata": {},
   "outputs": [
    {
     "name": "stdout",
     "output_type": "stream",
     "text": [
      "0.9229651162790697\n"
     ]
    }
   ],
   "source": [
    "# load the model from disk\n",
    "loaded_model_svm = pickle.load(open(filename, 'rb'))\n",
    "result = model_svm.score(X_test, y_test)\n",
    "print(result)"
   ]
  },
  {
   "cell_type": "code",
   "execution_count": null,
   "metadata": {},
   "outputs": [],
   "source": []
  },
  {
   "cell_type": "markdown",
   "metadata": {},
   "source": [
    "### Pickle Random Forest"
   ]
  },
  {
   "cell_type": "code",
   "execution_count": 68,
   "metadata": {},
   "outputs": [
    {
     "name": "stderr",
     "output_type": "stream",
     "text": [
      "<ipython-input-68-a7e519e4dda0>:2: DataConversionWarning: A column-vector y was passed when a 1d array was expected. Please change the shape of y to (n_samples,), for example using ravel().\n",
      "  model_rf.fit(X_train, y_train)\n"
     ]
    }
   ],
   "source": [
    "model_rf = RandomForestClassifier() \n",
    "model_rf.fit(X_train, y_train)\n",
    "# save the model to diskf\n",
    "filename = 'model_rf.pkl'\n",
    "pickle.dump(model_rf, open(filename, 'wb'))"
   ]
  },
  {
   "cell_type": "code",
   "execution_count": 69,
   "metadata": {},
   "outputs": [
    {
     "name": "stdout",
     "output_type": "stream",
     "text": [
      "0.8979651162790697\n"
     ]
    }
   ],
   "source": [
    "# load the model from disk\n",
    "loaded_model_rf = pickle.load(open(filename, 'rb'))\n",
    "result = model_rf.score(X_test, y_test)\n",
    "print(result)"
   ]
  },
  {
   "cell_type": "code",
   "execution_count": null,
   "metadata": {},
   "outputs": [],
   "source": []
  },
  {
   "cell_type": "markdown",
   "metadata": {},
   "source": [
    "--------------------------"
   ]
  },
  {
   "cell_type": "markdown",
   "metadata": {},
   "source": [
    "------------------------------------------"
   ]
  },
  {
   "cell_type": "markdown",
   "metadata": {},
   "source": [
    "### Word Cloud"
   ]
  },
  {
   "cell_type": "code",
   "execution_count": 146,
   "metadata": {},
   "outputs": [],
   "source": [
    "from wordcloud import WordCloud, ImageColorGenerator"
   ]
  },
  {
   "cell_type": "code",
   "execution_count": 147,
   "metadata": {},
   "outputs": [],
   "source": [
    "from PIL import Image"
   ]
  },
  {
   "cell_type": "code",
   "execution_count": 148,
   "metadata": {},
   "outputs": [],
   "source": [
    "?WordCloud"
   ]
  },
  {
   "cell_type": "code",
   "execution_count": 149,
   "metadata": {},
   "outputs": [],
   "source": [
    "# Start with one review:\n",
    "text = df.Clean_Reviews[1]"
   ]
  },
  {
   "cell_type": "code",
   "execution_count": 150,
   "metadata": {},
   "outputs": [],
   "source": [
    "# Create and generate a word cloud image:\n",
    "wordcloud = WordCloud().generate(text)"
   ]
  },
  {
   "cell_type": "code",
   "execution_count": 151,
   "metadata": {},
   "outputs": [
    {
     "data": {
      "image/png": "[encoded data removed]",
      "text/plain": [
       "<Figure size 720x432 with 1 Axes>"
      ]
     },
     "metadata": {},
     "output_type": "display_data"
    }
   ],
   "source": [
    "# Display the generated image:\n",
    "plt.imshow(wordcloud, interpolation='bilinear')\n",
    "plt.axis(\"off\")\n",
    "plt.show()"
   ]
  },
  {
   "cell_type": "code",
   "execution_count": 152,
   "metadata": {},
   "outputs": [
    {
     "data": {
      "image/png": "[encoded data removed]",
      "text/plain": [
       "<Figure size 720x432 with 1 Axes>"
      ]
     },
     "metadata": {},
     "output_type": "display_data"
    }
   ],
   "source": [
    "# lower max_font_size, change the maximum number of word and lighten the background:\n",
    "wordcloud = WordCloud(max_font_size=50, max_words=100, background_color=\"white\").generate(text)\n",
    "plt.figure()\n",
    "plt.imshow(wordcloud, interpolation=\"bilinear\")\n",
    "plt.axis(\"off\")\n",
    "plt.show()"
   ]
  },
  {
   "cell_type": "code",
   "execution_count": 153,
   "metadata": {},
   "outputs": [
    {
     "name": "stdout",
     "output_type": "stream",
     "text": [
      "There are 3141649 words in the combination of all review.\n"
     ]
    }
   ],
   "source": [
    "text = \" \".join(review for review in df.Clean_Reviews)\n",
    "print (\"There are {} words in the combination of all review.\".format(len(text)))"
   ]
  },
  {
   "cell_type": "code",
   "execution_count": 154,
   "metadata": {},
   "outputs": [
    {
     "data": {
      "image/png": "[encoded data removed]",
      "text/plain": [
       "<Figure size 720x432 with 1 Axes>"
      ]
     },
     "metadata": {},
     "output_type": "display_data"
    }
   ],
   "source": [
    "# Generate a word cloud image\n",
    "wordcloud = WordCloud(background_color=\"white\").generate(text)\n",
    "\n",
    "# Display the generated image:\n",
    "# the matplotlib way:\n",
    "plt.imshow(wordcloud, interpolation='bilinear')\n",
    "plt.axis(\"off\")\n",
    "plt.show()"
   ]
  },
  {
   "cell_type": "code",
   "execution_count": 81,
   "metadata": {},
   "outputs": [],
   "source": [
    "cleaned_data = df['Clean_Reviews']"
   ]
  },
  {
   "cell_type": "code",
   "execution_count": 85,
   "metadata": {},
   "outputs": [],
   "source": [
    "cleaned_data= [word for word in cleaned_data if not word.isnumeric()]    "
   ]
  },
  {
   "cell_type": "code",
   "execution_count": 86,
   "metadata": {},
   "outputs": [],
   "source": [
    "top_N = 100\n",
    "# Calculate frequency distribution\n",
    "word_dist = nltk.FreqDist(cleaned_data)\n",
    "rslt = pd.DataFrame(word_dist.most_common(top_N),\n",
    "                    columns=['Word', 'Frequency'])"
   ]
  },
  {
   "cell_type": "markdown",
   "metadata": {},
   "source": [
    "--------------------------"
   ]
  },
  {
   "cell_type": "markdown",
   "metadata": {},
   "source": [
    "### Frequency of each word"
   ]
  },
  {
   "cell_type": "code",
   "execution_count": null,
   "metadata": {},
   "outputs": [],
   "source": []
  },
  {
   "cell_type": "code",
   "execution_count": 156,
   "metadata": {},
   "outputs": [
    {
     "data": {
      "text/plain": [
       "dress          8730\n",
       "fit            8004\n",
       "size           7394\n",
       "love           7088\n",
       "top            6221\n",
       "color          5419\n",
       "like           5256\n",
       "wear           5242\n",
       "look           5231\n",
       "great          4902\n",
       "fabric         3601\n",
       "small          3451\n",
       "perfect        3181\n",
       "little         2993\n",
       "really         2933\n",
       "ordered        2910\n",
       "flattering     2783\n",
       "soft           2686\n",
       "well           2557\n",
       "comfortable    2533\n",
       "bought         2467\n",
       "nice           2358\n",
       "back           2302\n",
       "cute           2216\n",
       "jean           2162\n",
       "beautiful      2137\n",
       "sweater        2103\n",
       "length         2100\n",
       "material       2081\n",
       "shirt          2072\n",
       "large          2051\n",
       "petite         2003\n",
       "run            1974\n",
       "much           1939\n",
       "work           1925\n",
       "long           1872\n",
       "skirt          1778\n",
       "short          1770\n",
       "medium         1768\n",
       "x              1748\n",
       "waist          1748\n",
       "retailer       1739\n",
       "think          1686\n",
       "pant           1665\n",
       "make           1658\n",
       "store          1649\n",
       "quality        1648\n",
       "lb             1648\n",
       "feel           1642\n",
       "pretty         1620\n",
       "even           1611\n",
       "usually        1602\n",
       "tried          1593\n",
       "get            1558\n",
       "sleeve         1528\n",
       "good           1464\n",
       "go             1437\n",
       "black          1435\n",
       "could          1407\n",
       "dont           1393\n",
       "dtype: int64"
      ]
     },
     "execution_count": 156,
     "metadata": {},
     "output_type": "execute_result"
    }
   ],
   "source": [
    "df.Clean_Reviews.str.split(expand=True).stack().value_counts()[:60]"
   ]
  },
  {
   "cell_type": "code",
   "execution_count": 157,
   "metadata": {},
   "outputs": [
    {
     "data": {
      "text/plain": [
       "39    978\n",
       "35    643\n",
       "36    578\n",
       "34    577\n",
       "38    564\n",
       "     ... \n",
       "93      2\n",
       "94      1\n",
       "99      1\n",
       "92      1\n",
       "87      1\n",
       "Name: Age, Length: 77, dtype: int64"
      ]
     },
     "execution_count": 157,
     "metadata": {},
     "output_type": "execute_result"
    }
   ],
   "source": [
    "df['Age'].value_counts()"
   ]
  },
  {
   "cell_type": "code",
   "execution_count": 158,
   "metadata": {},
   "outputs": [
    {
     "data": {
      "text/plain": [
       "39    978\n",
       "35    643\n",
       "36    578\n",
       "34    577\n",
       "38    564\n",
       "     ... \n",
       "93      2\n",
       "94      1\n",
       "99      1\n",
       "92      1\n",
       "87      1\n",
       "Name: Age, Length: 77, dtype: int64"
      ]
     },
     "execution_count": 158,
     "metadata": {},
     "output_type": "execute_result"
    }
   ],
   "source": [
    "df.Age.value_counts()"
   ]
  },
  {
   "cell_type": "code",
   "execution_count": null,
   "metadata": {},
   "outputs": [],
   "source": [
    "df['Rating']"
   ]
  },
  {
   "cell_type": "markdown",
   "metadata": {},
   "source": [
    "--------------------------------------"
   ]
  },
  {
   "cell_type": "markdown",
   "metadata": {},
   "source": [
    "----------------------------"
   ]
  },
  {
   "cell_type": "code",
   "execution_count": 74,
   "metadata": {},
   "outputs": [],
   "source": [
    "review = df[['Review Text','Sentiment']]"
   ]
  },
  {
   "cell_type": "code",
   "execution_count": 77,
   "metadata": {},
   "outputs": [],
   "source": [
    "first =review.loc[2]"
   ]
  },
  {
   "cell_type": "code",
   "execution_count": 78,
   "metadata": {},
   "outputs": [
    {
     "data": {
      "text/plain": [
       "Review Text    I love tracy reese dresses but this one is not...\n",
       "Sentiment                                                      0\n",
       "Name: 2, dtype: object"
      ]
     },
     "execution_count": 78,
     "metadata": {},
     "output_type": "execute_result"
    }
   ],
   "source": [
    "first"
   ]
  },
  {
   "cell_type": "code",
   "execution_count": 79,
   "metadata": {},
   "outputs": [],
   "source": [
    "neg_sent = df[df['Sentiment']==0]"
   ]
  },
  {
   "cell_type": "code",
   "execution_count": 80,
   "metadata": {},
   "outputs": [
    {
     "data": {
      "text/plain": [
       "2        I love tracy reese dresses but this one is not...\n",
       "15       First of all this is not pullover styling ther...\n",
       "17       I have been waiting for this sweater coat to s...\n",
       "23       I ordered this 3 months ago and it finally cam...\n",
       "40       3 tags sewn in 2 small about 1 long and 1 huge...\n",
       "                               ...                        \n",
       "17140    I was very excited to find a fun and lightweig...\n",
       "17153    Before i ordered this i noted the other review...\n",
       "17155    What drew me to this shirt was the beautiful s...\n",
       "17163    This dress is so cute in the photo and fit tru...\n",
       "17194    I was surprised at the positive reviews for th...\n",
       "Name: Review Text, Length: 2051, dtype: object"
      ]
     },
     "execution_count": 80,
     "metadata": {},
     "output_type": "execute_result"
    }
   ],
   "source": [
    "neg_sent['Review Text']"
   ]
  },
  {
   "cell_type": "code",
   "execution_count": null,
   "metadata": {},
   "outputs": [],
   "source": []
  },
  {
   "cell_type": "code",
   "execution_count": null,
   "metadata": {},
   "outputs": [],
   "source": []
  },
  {
   "cell_type": "code",
   "execution_count": 64,
   "metadata": {},
   "outputs": [],
   "source": [
    "df1.to_csv('X_test_data.csv', index = False)"
   ]
  },
  {
   "cell_type": "code",
   "execution_count": 65,
   "metadata": {},
   "outputs": [],
   "source": [
    "dt= pd.read_csv('X_test_data.csv', sep ='\\t')"
   ]
  },
  {
   "cell_type": "code",
   "execution_count": null,
   "metadata": {},
   "outputs": [],
   "source": []
  },
  {
   "cell_type": "code",
   "execution_count": null,
   "metadata": {},
   "outputs": [],
   "source": []
  },
  {
   "cell_type": "code",
   "execution_count": null,
   "metadata": {},
   "outputs": [],
   "source": []
  },
  {
   "cell_type": "code",
   "execution_count": 38,
   "metadata": {},
   "outputs": [],
   "source": []
  },
  {
   "cell_type": "markdown",
   "metadata": {},
   "source": [
    "----------------------------------"
   ]
  },
  {
   "cell_type": "code",
   "execution_count": null,
   "metadata": {},
   "outputs": [],
   "source": []
  },
  {
   "cell_type": "markdown",
   "metadata": {},
   "source": [
    "## Machine Learning"
   ]
  },
  {
   "cell_type": "code",
   "execution_count": 56,
   "metadata": {},
   "outputs": [],
   "source": [
    "import scipy as sp"
   ]
  },
  {
   "cell_type": "code",
   "execution_count": 42,
   "metadata": {},
   "outputs": [
    {
     "data": {
      "text/html": [
       "<div>\n",
       "<style scoped>\n",
       "    .dataframe tbody tr th:only-of-type {\n",
       "        vertical-align: middle;\n",
       "    }\n",
       "\n",
       "    .dataframe tbody tr th {\n",
       "        vertical-align: top;\n",
       "    }\n",
       "\n",
       "    .dataframe thead th {\n",
       "        text-align: right;\n",
       "    }\n",
       "</style>\n",
       "<table border=\"1\" class=\"dataframe\">\n",
       "  <thead>\n",
       "    <tr style=\"text-align: right;\">\n",
       "      <th></th>\n",
       "      <th>Sentiment</th>\n",
       "      <th>Clean_Reviews</th>\n",
       "    </tr>\n",
       "  </thead>\n",
       "  <tbody>\n",
       "    <tr>\n",
       "      <th>1</th>\n",
       "      <td>1</td>\n",
       "      <td>love love love jumpsuit fun flirty fabulous ev...</td>\n",
       "    </tr>\n",
       "    <tr>\n",
       "      <th>2</th>\n",
       "      <td>1</td>\n",
       "      <td>shirt flattering due adjustable front tie perf...</td>\n",
       "    </tr>\n",
       "    <tr>\n",
       "      <th>3</th>\n",
       "      <td>0</td>\n",
       "      <td>love tracy reese dress one petite foot tall us...</td>\n",
       "    </tr>\n",
       "    <tr>\n",
       "      <th>4</th>\n",
       "      <td>1</td>\n",
       "      <td>aded basket hte last mintue see would look lik...</td>\n",
       "    </tr>\n",
       "    <tr>\n",
       "      <th>5</th>\n",
       "      <td>1</td>\n",
       "      <td>ordered carbon store pick ton stuff always try...</td>\n",
       "    </tr>\n",
       "    <tr>\n",
       "      <th>...</th>\n",
       "      <td>...</td>\n",
       "      <td>...</td>\n",
       "    </tr>\n",
       "    <tr>\n",
       "      <th>19654</th>\n",
       "      <td>1</td>\n",
       "      <td>impressed beautiful color combination embroide...</td>\n",
       "    </tr>\n",
       "    <tr>\n",
       "      <th>19655</th>\n",
       "      <td>0</td>\n",
       "      <td>surprised positive review product terrible cut...</td>\n",
       "    </tr>\n",
       "    <tr>\n",
       "      <th>19656</th>\n",
       "      <td>1</td>\n",
       "      <td>wasnt sure ordering skirt couldnt see person f...</td>\n",
       "    </tr>\n",
       "    <tr>\n",
       "      <th>19657</th>\n",
       "      <td>1</td>\n",
       "      <td>happy snag dress great price easy slip flatter...</td>\n",
       "    </tr>\n",
       "    <tr>\n",
       "      <th>19661</th>\n",
       "      <td>1</td>\n",
       "      <td>dress lovely platinum feminine fit perfectly e...</td>\n",
       "    </tr>\n",
       "  </tbody>\n",
       "</table>\n",
       "<p>17198 rows × 2 columns</p>\n",
       "</div>"
      ],
      "text/plain": [
       "       Sentiment                                      Clean_Reviews\n",
       "1              1  love love love jumpsuit fun flirty fabulous ev...\n",
       "2              1  shirt flattering due adjustable front tie perf...\n",
       "3              0  love tracy reese dress one petite foot tall us...\n",
       "4              1  aded basket hte last mintue see would look lik...\n",
       "5              1  ordered carbon store pick ton stuff always try...\n",
       "...          ...                                                ...\n",
       "19654          1  impressed beautiful color combination embroide...\n",
       "19655          0  surprised positive review product terrible cut...\n",
       "19656          1  wasnt sure ordering skirt couldnt see person f...\n",
       "19657          1  happy snag dress great price easy slip flatter...\n",
       "19661          1  dress lovely platinum feminine fit perfectly e...\n",
       "\n",
       "[17198 rows x 2 columns]"
      ]
     },
     "execution_count": 42,
     "metadata": {},
     "output_type": "execute_result"
    }
   ],
   "source": [
    "df"
   ]
  },
  {
   "cell_type": "code",
   "execution_count": 69,
   "metadata": {},
   "outputs": [],
   "source": [
    "X1 = sp.sparse.hstack((vectorizer.fit_transform(df.Clean_Reviews),df[['Age','Recommended IND']].values),format='csr')"
   ]
  },
  {
   "cell_type": "code",
   "execution_count": 42,
   "metadata": {},
   "outputs": [],
   "source": [
    "y1 = df[\"Sentiment\"].values.astype(np.float32) \n",
    "\n",
    "X1 = sp.sparse.hstack((vectorizer.fit_transform(df.Clean_Reviews),df[['Age','Recommended IND']].values),format='csr')\n",
    "X1_columns=vectorizer.get_feature_names()+df[['Age','Recommended IND']].columns.tolist()\n"
   ]
  },
  {
   "cell_type": "code",
   "execution_count": 49,
   "metadata": {},
   "outputs": [],
   "source": [
    "from sklearn import metrics\n",
    "X1_train, X1_test, y1_train, y1_test = train_test_split(X1, y1, test_size=0.25, random_state=0)"
   ]
  },
  {
   "cell_type": "markdown",
   "metadata": {},
   "source": [
    "## Pickle"
   ]
  },
  {
   "cell_type": "code",
   "execution_count": 45,
   "metadata": {},
   "outputs": [],
   "source": [
    "import pickle"
   ]
  },
  {
   "cell_type": "markdown",
   "metadata": {},
   "source": [
    "Applying Logistic Regression"
   ]
  },
  {
   "cell_type": "code",
   "execution_count": 56,
   "metadata": {},
   "outputs": [
    {
     "name": "stderr",
     "output_type": "stream",
     "text": [
      "c:\\users\\sj\\appdata\\local\\programs\\python\\python38\\lib\\site-packages\\sklearn\\linear_model\\_logistic.py:762: ConvergenceWarning: lbfgs failed to converge (status=1):\n",
      "STOP: TOTAL NO. of ITERATIONS REACHED LIMIT.\n",
      "\n",
      "Increase the number of iterations (max_iter) or scale the data as shown in:\n",
      "    https://scikit-learn.org/stable/modules/preprocessing.html\n",
      "Please also refer to the documentation for alternative solver options:\n",
      "    https://scikit-learn.org/stable/modules/linear_model.html#logistic-regression\n",
      "  n_iter_i = _check_optimize_result(\n"
     ]
    }
   ],
   "source": [
    "model = LogisticRegression()\n",
    "model.fit(X1_train, y1_train)\n",
    "# save the model to disk\n",
    "filename = 'model.pkl'\n",
    "pickle.dump(model, open(filename, 'wb'))\n",
    " "
   ]
  },
  {
   "cell_type": "code",
   "execution_count": 57,
   "metadata": {},
   "outputs": [
    {
     "name": "stdout",
     "output_type": "stream",
     "text": [
      "0.9790697674418605\n"
     ]
    }
   ],
   "source": [
    "# some time later...\n",
    " \n",
    "# load the model from disk\n",
    "loaded_model = pickle.load(open(filename, 'rb'))\n",
    "result = loaded_model.score(X1_test, y1_test)\n",
    "print(result)"
   ]
  },
  {
   "cell_type": "markdown",
   "metadata": {},
   "source": [
    "-------------------------------"
   ]
  },
  {
   "cell_type": "markdown",
   "metadata": {},
   "source": [
    "-----------------------------"
   ]
  },
  {
   "cell_type": "code",
   "execution_count": null,
   "metadata": {},
   "outputs": [],
   "source": []
  },
  {
   "cell_type": "code",
   "execution_count": null,
   "metadata": {},
   "outputs": [],
   "source": []
  },
  {
   "cell_type": "code",
   "execution_count": null,
   "metadata": {},
   "outputs": [],
   "source": []
  },
  {
   "cell_type": "markdown",
   "metadata": {},
   "source": [
    "### Iteration 1"
   ]
  },
  {
   "cell_type": "code",
   "execution_count": 24,
   "metadata": {},
   "outputs": [
    {
     "ename": "NameError",
     "evalue": "name 'vectorizer' is not defined",
     "output_type": "error",
     "traceback": [
      "\u001b[1;31m---------------------------------------------------------------------------\u001b[0m",
      "\u001b[1;31mNameError\u001b[0m                                 Traceback (most recent call last)",
      "\u001b[1;32m<ipython-input-24-e6b66397ab07>\u001b[0m in \u001b[0;36m<module>\u001b[1;34m\u001b[0m\n\u001b[0;32m      3\u001b[0m \u001b[1;31m# select the columns and\u001b[0m\u001b[1;33m\u001b[0m\u001b[1;33m\u001b[0m\u001b[1;33m\u001b[0m\u001b[0m\n\u001b[0;32m      4\u001b[0m \u001b[1;31m# prepare data for the models\u001b[0m\u001b[1;33m\u001b[0m\u001b[1;33m\u001b[0m\u001b[1;33m\u001b[0m\u001b[0m\n\u001b[1;32m----> 5\u001b[1;33m \u001b[0mX_train\u001b[0m \u001b[1;33m=\u001b[0m \u001b[0mvectorizer\u001b[0m\u001b[1;33m.\u001b[0m\u001b[0mfit_transform\u001b[0m\u001b[1;33m(\u001b[0m\u001b[0mtrain_data\u001b[0m\u001b[1;33m[\u001b[0m\u001b[1;34m'Clean_Reviews'\u001b[0m\u001b[1;33m]\u001b[0m\u001b[1;33m)\u001b[0m\u001b[1;33m\u001b[0m\u001b[1;33m\u001b[0m\u001b[0m\n\u001b[0m\u001b[0;32m      6\u001b[0m \u001b[0my_train\u001b[0m \u001b[1;33m=\u001b[0m \u001b[0mtrain_data\u001b[0m\u001b[1;33m[\u001b[0m\u001b[1;34m'Sentiment'\u001b[0m\u001b[1;33m]\u001b[0m\u001b[1;33m\u001b[0m\u001b[1;33m\u001b[0m\u001b[0m\n\u001b[0;32m      7\u001b[0m \u001b[0mX_test\u001b[0m \u001b[1;33m=\u001b[0m \u001b[0mvectorizer\u001b[0m\u001b[1;33m.\u001b[0m\u001b[0mtransform\u001b[0m\u001b[1;33m(\u001b[0m\u001b[0mtest_data\u001b[0m\u001b[1;33m[\u001b[0m\u001b[1;34m'Clean_Reviews'\u001b[0m\u001b[1;33m]\u001b[0m\u001b[1;33m)\u001b[0m\u001b[1;33m\u001b[0m\u001b[1;33m\u001b[0m\u001b[0m\n",
      "\u001b[1;31mNameError\u001b[0m: name 'vectorizer' is not defined"
     ]
    }
   ],
   "source": [
    "# split data\n",
    "train_data,test_data = train_test_split(df,train_size=0.8,random_state=0)\n",
    "# select the columns and \n",
    "# prepare data for the models \n",
    "X_train = vectorizer.fit_transform(train_data['Clean_Reviews'])\n",
    "y_train = train_data['Sentiment']\n",
    "X_test = vectorizer.transform(test_data['Clean_Reviews'])\n",
    "y_test = test_data['Sentiment']"
   ]
  },
  {
   "cell_type": "markdown",
   "metadata": {},
   "source": [
    "#### Applying Logistic Regression"
   ]
  },
  {
   "cell_type": "code",
   "execution_count": 38,
   "metadata": {},
   "outputs": [
    {
     "name": "stderr",
     "output_type": "stream",
     "text": [
      "c:\\users\\sj\\appdata\\local\\programs\\python\\python38\\lib\\site-packages\\sklearn\\linear_model\\_logistic.py:762: ConvergenceWarning: lbfgs failed to converge (status=1):\n",
      "STOP: TOTAL NO. of ITERATIONS REACHED LIMIT.\n",
      "\n",
      "Increase the number of iterations (max_iter) or scale the data as shown in:\n",
      "    https://scikit-learn.org/stable/modules/preprocessing.html\n",
      "Please also refer to the documentation for alternative solver options:\n",
      "    https://scikit-learn.org/stable/modules/linear_model.html#logistic-regression\n",
      "  n_iter_i = _check_optimize_result(\n"
     ]
    },
    {
     "data": {
      "text/plain": [
       "LogisticRegression()"
      ]
     },
     "execution_count": 38,
     "metadata": {},
     "output_type": "execute_result"
    }
   ],
   "source": [
    "lr = LogisticRegression()\n",
    "lr.fit(X_train,y_train)"
   ]
  },
  {
   "cell_type": "code",
   "execution_count": 39,
   "metadata": {},
   "outputs": [],
   "source": [
    "lr_pred = lr.predict(X_test)"
   ]
  },
  {
   "cell_type": "code",
   "execution_count": 40,
   "metadata": {},
   "outputs": [
    {
     "data": {
      "text/plain": [
       "array([[ 232,  164],\n",
       "       [  81, 2963]], dtype=int64)"
      ]
     },
     "execution_count": 40,
     "metadata": {},
     "output_type": "execute_result"
    }
   ],
   "source": [
    "#confusion matrix\n",
    "cm_lr = confusion_matrix(y_test,lr_pred)\n",
    "cm_lr"
   ]
  },
  {
   "cell_type": "code",
   "execution_count": 41,
   "metadata": {},
   "outputs": [
    {
     "data": {
      "text/plain": [
       "0.9287790697674418"
      ]
     },
     "execution_count": 41,
     "metadata": {},
     "output_type": "execute_result"
    }
   ],
   "source": [
    "accuracy_score(y_test,lr_pred)"
   ]
  },
  {
   "cell_type": "markdown",
   "metadata": {},
   "source": [
    "#### Applying Naive Bayes"
   ]
  },
  {
   "cell_type": "code",
   "execution_count": 42,
   "metadata": {},
   "outputs": [
    {
     "data": {
      "text/plain": [
       "MultinomialNB()"
      ]
     },
     "execution_count": 42,
     "metadata": {},
     "output_type": "execute_result"
    }
   ],
   "source": [
    "nb = MultinomialNB()\n",
    "nb.fit(X_train,y_train)"
   ]
  },
  {
   "cell_type": "code",
   "execution_count": 43,
   "metadata": {},
   "outputs": [],
   "source": [
    "nb_pred = nb.predict(X_test)"
   ]
  },
  {
   "cell_type": "code",
   "execution_count": 44,
   "metadata": {},
   "outputs": [
    {
     "data": {
      "text/plain": [
       "array([[ 198,  198],\n",
       "       [  45, 2999]], dtype=int64)"
      ]
     },
     "execution_count": 44,
     "metadata": {},
     "output_type": "execute_result"
    }
   ],
   "source": [
    "#confusion matrix\n",
    "cmNB = confusion_matrix(y_test,nb_pred)\n",
    "cmNB"
   ]
  },
  {
   "cell_type": "code",
   "execution_count": 45,
   "metadata": {},
   "outputs": [
    {
     "data": {
      "text/plain": [
       "0.9293604651162791"
      ]
     },
     "execution_count": 45,
     "metadata": {},
     "output_type": "execute_result"
    }
   ],
   "source": [
    "accuracy_score(y_test,nb_pred)"
   ]
  },
  {
   "cell_type": "markdown",
   "metadata": {},
   "source": [
    "#### Applying Support Vector Machine (SVM)"
   ]
  },
  {
   "cell_type": "code",
   "execution_count": 46,
   "metadata": {},
   "outputs": [
    {
     "data": {
      "text/plain": [
       "SVC()"
      ]
     },
     "execution_count": 46,
     "metadata": {},
     "output_type": "execute_result"
    }
   ],
   "source": [
    "svm = SVC()\n",
    "svm.fit(X_train,y_train)"
   ]
  },
  {
   "cell_type": "code",
   "execution_count": 47,
   "metadata": {},
   "outputs": [],
   "source": [
    "svm_pred = svm.predict(X_test)"
   ]
  },
  {
   "cell_type": "code",
   "execution_count": 48,
   "metadata": {},
   "outputs": [
    {
     "data": {
      "text/plain": [
       "array([[ 168,  228],\n",
       "       [  30, 3014]], dtype=int64)"
      ]
     },
     "execution_count": 48,
     "metadata": {},
     "output_type": "execute_result"
    }
   ],
   "source": [
    "cm_svm = confusion_matrix(y_test,svm_pred)\n",
    "cm_svm"
   ]
  },
  {
   "cell_type": "code",
   "execution_count": 49,
   "metadata": {},
   "outputs": [
    {
     "data": {
      "text/plain": [
       "0.925"
      ]
     },
     "execution_count": 49,
     "metadata": {},
     "output_type": "execute_result"
    }
   ],
   "source": [
    "accuracy_score(y_test,svm_pred)"
   ]
  },
  {
   "cell_type": "markdown",
   "metadata": {},
   "source": [
    "#### Applying Random Forest"
   ]
  },
  {
   "cell_type": "code",
   "execution_count": 50,
   "metadata": {},
   "outputs": [
    {
     "data": {
      "text/plain": [
       "RandomForestClassifier()"
      ]
     },
     "execution_count": 50,
     "metadata": {},
     "output_type": "execute_result"
    }
   ],
   "source": [
    "rf_model = RandomForestClassifier() \n",
    "rf_model.fit(X_train,y_train)"
   ]
  },
  {
   "cell_type": "code",
   "execution_count": 51,
   "metadata": {},
   "outputs": [],
   "source": [
    "rf_pred = rf_model.predict(X_test)"
   ]
  },
  {
   "cell_type": "code",
   "execution_count": 52,
   "metadata": {},
   "outputs": [
    {
     "data": {
      "text/plain": [
       "array([[  63,  333],\n",
       "       [   4, 3040]], dtype=int64)"
      ]
     },
     "execution_count": 52,
     "metadata": {},
     "output_type": "execute_result"
    }
   ],
   "source": [
    "cm_rf = confusion_matrix(y_test,rf_pred )\n",
    "cm_rf"
   ]
  },
  {
   "cell_type": "code",
   "execution_count": 53,
   "metadata": {},
   "outputs": [
    {
     "data": {
      "text/plain": [
       "0.9020348837209302"
      ]
     },
     "execution_count": 53,
     "metadata": {},
     "output_type": "execute_result"
    }
   ],
   "source": [
    "accuracy_score(y_test,rf_pred)"
   ]
  },
  {
   "cell_type": "markdown",
   "metadata": {},
   "source": [
    "#### Presion And Recall"
   ]
  },
  {
   "cell_type": "code",
   "execution_count": 54,
   "metadata": {},
   "outputs": [
    {
     "name": "stdout",
     "output_type": "stream",
     "text": [
      "0.8443838116129638\n",
      "0.7796244309056398\n"
     ]
    }
   ],
   "source": [
    "#precision and recall using Logistic Regression\n",
    "print(precision_score(y_test, lr_pred, average=\"macro\"))\n",
    "print(recall_score(y_test, lr_pred, average=\"macro\")) "
   ]
  },
  {
   "cell_type": "code",
   "execution_count": 55,
   "metadata": {},
   "outputs": [
    {
     "name": "stdout",
     "output_type": "stream",
     "text": [
      "0.8890789449086797\n",
      "0.7071934854457851\n"
     ]
    }
   ],
   "source": [
    "#precision and recall using SVM\n",
    "print(precision_score(y_test, svm_pred, average=\"macro\"))\n",
    "print(recall_score(y_test, svm_pred, average=\"macro\")) "
   ]
  },
  {
   "cell_type": "code",
   "execution_count": 56,
   "metadata": {},
   "outputs": [
    {
     "name": "stdout",
     "output_type": "stream",
     "text": [
      "0.8764408762844796\n",
      "0.7426084099868594\n"
     ]
    }
   ],
   "source": [
    "#precision and recall using Naive Bayes\n",
    "print(precision_score(y_test, nb_pred, average=\"macro\"))\n",
    "print(recall_score(y_test, nb_pred, average=\"macro\")) "
   ]
  },
  {
   "cell_type": "code",
   "execution_count": 57,
   "metadata": {},
   "outputs": [
    {
     "name": "stdout",
     "output_type": "stream",
     "text": [
      "0.920786668495648\n",
      "0.5788884243220643\n"
     ]
    }
   ],
   "source": [
    "#precision and recall using Naive Bayes\n",
    "print(precision_score(y_test, rf_pred, average=\"macro\"))\n",
    "print(recall_score(y_test, rf_pred, average=\"macro\")) "
   ]
  },
  {
   "cell_type": "code",
   "execution_count": 58,
   "metadata": {},
   "outputs": [
    {
     "name": "stdout",
     "output_type": "stream",
     "text": [
      "Vocabulary: \n"
     ]
    }
   ],
   "source": [
    "print('Vocabulary: ')"
   ]
  },
  {
   "cell_type": "code",
   "execution_count": 59,
   "metadata": {},
   "outputs": [],
   "source": [
    "from sklearn.metrics import accuracy_score"
   ]
  },
  {
   "cell_type": "code",
   "execution_count": 60,
   "metadata": {},
   "outputs": [
    {
     "name": "stdout",
     "output_type": "stream",
     "text": [
      "{'overall': 7751, 'super': 11015, 'comfy': 2179, 'dress': 3300, 'wear': 12521, 'anywhere': 435, 'short': 9899, 'petite': 8099, 'lady': 6023, 'beware': 970, 'though': 11494, 'hang': 4937, 'natural': 7188, 'waist': 12395, 'like': 6262, 'show': 9971, 'model': 6982, 'photo': 8126, 'order': 7670, 'sit': 10086, 'folded': 4320, 'flatter': 4195, 'love': 6474, 'pant': 7874, 'worn': 12860, 'number': 7452, 'time': 11582, 'already': 293, 'season': 9623, 'hemmed': 5059, 'lost': 6458, 'bottom': 1267, 'button': 1539, 'process': 8585, 'still': 10739, 'dont': 3208, 'think': 11457, 'look': 6398, 'odd': 7510, 'also': 297, 'high': 5092, 'boot': 1228, 'help': 5052, 'crisp': 2568, 'white': 12672, 'blouse': 1115, 'black': 1044, 'leather': 6148, 'jacket': 5756, 'felt': 4018, 'million': 6899, 'buck': 1449, 'shame': 9771, 'xl': 12927, 'store': 10769, 'size': 10097, 'looked': 6402, 'right': 9277, 'yup': 13022, 'cant': 1626, 'imagine': 5376, 'anyone': 423, 'finding': 4080, 'fit': 4112, 'flattering': 4199, 'would': 12875, 'sack': 9429, 'inch': 5434, 'two': 11941, 'front': 4450, 'returning': 9211, 'second': 9640, 'top': 11674, 'purchased': 8699, 'design': 2958, 'first': 4105, 'navy': 7197, 'blue': 1136, 'color': 2082, 'loved': 6478, 'effortless': 3477, 'swing': 11152, 'shirt': 9860, 'comfortable': 2159, 'cotton': 2434, 'texture': 11367, 'chose': 1893, 'purchase': 8698, 'wine': 12753, 'since': 10065, 'received': 8897, 'many': 6635, 'compliment': 2240, 'shape': 9775, 'easy': 3449, 'put': 8728, 'feel': 4005, 'good': 4695, 'within': 12789, 'perfectly': 8053, 'long': 6362, 'shorty': 9933, 'great': 4788, 'style': 10906, 'wish': 12777, 'came': 1592, 'definitely': 2871, 'buy': 1555, 'print': 8557, 'fabric': 3857, 'stunning': 10899, 'lighter': 6247, 'weight': 12572, 'anticipated': 406, 'didnt': 3026, 'keyhole': 5916, 'opening': 7631, 'may': 6726, 'everyone': 3716, 'pear': 7987, 'shaped': 9777, 'tall': 11221, 'side': 10009, 'work': 12838, 'nicely': 7314, 'snug': 10387, 'middle': 6855, 'rear': 8877, 'sure': 11053, 'someone': 10452, 'busty': 1518, 'typically': 11955, 'larger': 6057, 'ordered': 7673, 'well': 12594, 'tried': 11817, 'small': 10285, 'bit': 1032, 'chest': 1834, 'dd': 2787, 'otherwise': 7700, 'sale': 9463, 'associate': 588, 'shipped': 9853, 'medium': 6755, 'perfect': 8043, 'length': 6190, 'legging': 6165, 'skinny': 10151, 'jean': 5796, 'lightweight': 6256, 'enough': 3616, 'warmer': 12450, 'day': 2770, 'layered': 6109, 'tank': 11238, 'underneath': 12034, 'cropped': 2588, 'cardigan': 1650, 'colder': 2058, 'one': 7577, 'soft': 10415, 'draping': 3273, 'quality': 8744, 'personally': 8084, 'midstomach': 6875, 'seem': 9660, 'see': 9653, 'could': 2450, 'easily': 3444, 'shell': 9826, 'embellishment': 3548, 'construction': 2322, 'shown': 9978, 'ran': 8807, 'bigger': 990, 'expecting': 3795, 'review': 9227, 'happy': 4958, 'center': 1745, 'slit': 10255, 'revealing': 9217, 'smaller': 10295, 'bust': 1507, 'bought': 1282, 'lovely': 6482, 'silkvelvet': 10036, 'quotskyquot': 8776, 'teal': 11293, 'sky': 10174, 'disappointed': 3086, 'darker': 2748, 'appears': 454, 'luxurious': 6543, 'wellmade': 12609, 'beauty': 885, 'sassy': 9516, 'appeal': 447, 'drape': 3266, 'snake': 10363, 'slithering': 10257, 'body': 1181, 'come': 2148, 'attitude': 645, 'fall': 3907, 'flowy': 4284, 'beautiful': 869, 'embroidery': 3560, 'paired': 7845, 'brown': 1414, 'bootsgorgeous': 1241, 'wore': 12837, 'got': 4726, 'lot': 6459, 'worked': 12842, 'tad': 11200, 'tight': 11559, 'arm': 511, 'unique': 12110, 'crochet': 2581, 'feature': 3996, 'without': 12793, 'large': 6045, 'trying': 11854, 'decide': 2818, 'much': 7105, 'id': 5348, 'recommend': 8920, 'sizing': 10129, 'lb': 6121, 'needed': 7255, 'seems': 9664, 'guess': 4870, 'used': 12217, 'retailer': 9166, 'running': 9413, 'big': 984, 'miss': 6950, 'judge': 5859, 'hate': 4977, 'deal': 2794, 'mailing': 6584, 'worrying': 12866, 'agree': 197, 'reviewer': 9231, 'rhinestone': 9244, 'linkage': 6311, 'get': 4597, 'caught': 1717, 'lace': 5998, 'part': 7912, 'snagging': 10358, 'quickly': 8762, 'said': 9453, 'going': 4679, 'keep': 5906, 'hope': 5214, 'best': 959, 'absolutely': 21, 'gorgeous': 4711, 'actually': 99, 'true': 11840, 'pictured': 8155, 'instead': 5547, 'nude': 7448, 'add': 102, 'nature': 7190, 'make': 6601, 'sheer': 9812, 'complaint': 2218, 'pretty': 8522, 'dark': 2747, 'almost': 285, 'cut': 2670, 'form': 4364, 'fitting': 4139, 'line': 6283, 'bulky': 1470, 'handkerchief': 4922, 'hem': 5057, 'real': 8863, 'life': 6232, 'le': 6132, 'pronounced': 8619, 'negative': 7264, 'consider': 2302, 'getting': 4603, 'pattern': 7950, 'go': 4670, 'unflattering': 12084, 'hit': 5160, 'weird': 12587, 'boob': 1217, 'green': 4810, 'vibrant': 12317, 'delicate': 2885, 'wrong': 12919, 'move': 7087, 'cause': 1720, 'snag': 10355, 'worth': 12869, 'every': 3712, 'penny': 8018, 'sized': 10099, 'amazing': 329, 'prettier': 8516, 'person': 8080, 'vest': 12308, 'even': 3697, 'sweater': 11104, 'left': 6160, 'quite': 8771, 'room': 9343, 'regular': 9007, 'shorten': 9905, 'maxi': 6722, 'ft': 4467, 'online': 7594, 'say': 9542, 'charcoal': 1783, 'area': 496, 'little': 6331, 'low': 6492, 'nothing': 7416, 'double': 3218, 'sided': 10010, 'tape': 11254, 'fix': 4152, 'another': 389, 'bonus': 1215, 'stated': 10683, 'bra': 1316, 'lastly': 6077, 'wrinkle': 12905, 'bring': 1385, 'vacation': 12240, 'better': 964, 'expected': 3792, 'usually': 12231, 'holding': 5177, 'horse': 5233, 'based': 815, 'stretched': 10835, 'wearing': 12532, 'glad': 4638, 'normal': 7395, 'casual': 1695, 'office': 7527, 'tights': 11573, 'pairing': 7846, 'tshirt': 11855, 'flip': 4240, 'flop': 4257, 'summer': 10986, 'piece': 8170, 'became': 888, 'favorite': 3982, 'run': 9409, 'often': 7545, 'open': 7626, 'gauge': 4562, 'knit': 5961, 'fallwinter': 3920, 'nice': 7310, 'mint': 6925, 'greenblue': 4812, 'different': 3039, 'anything': 427, 'closet': 2008, 'addition': 108, 'looking': 6406, 'flannely': 4171, 'buttondown': 1540, 'bill': 1007, 'cute': 2675, 'detail': 2981, 'contrast': 2352, 'collar': 2065, 'cuff': 2624, 'slight': 10221, 'back': 718, 'pleat': 8293, 'curved': 2649, 'hemline': 5058, 'crazy': 2518, 'colorways': 2126, 'offered': 7523, 'pink': 8211, 'mentioned': 6801, 'find': 4079, 'lacking': 6013, 'full': 4473, 'price': 8537, 'currently': 2645, 'whenever': 12645, 'away': 693, 'red': 8936, 'incredible': 5461, 'coloring': 2096, 'modest': 7000, 'sweet': 11136, 'unexpected': 12077, 'skirt': 10162, 'tracy': 11752, 'reese': 8968, 'huge': 5287, 'fan': 3933, 'clothing': 2016, 'doesnt': 3183, 'disappoint': 3085, 'pull': 8673, 'dressing': 3319, 'flat': 4183, 'denim': 2913, 'tt': 11864, 'arent': 504, 'numeric': 7454, 'slim': 10228, 'hung': 5313, 'suit': 10972, 'made': 6562, 'darn': 2756, 'although': 315, 'main': 6586, 'tag': 11202, 'australian': 663, 'send': 9699, 'issue': 5671, 'longish': 6378, 'torso': 11721, 'compared': 2205, 'ever': 3706, 'slightly': 10225, 'crotch': 2601, 'extra': 3832, 'padding': 7831, 'athletic': 613, 'sort': 10484, 'versatile': 12293, 'everyday': 3714, 'give': 4632, 'dressy': 3342, 'feminine': 4028, 'behind': 912, 'beautifully': 878, 'yellow': 12970, 'fuller': 4477, 'product': 8592, 'shot': 9934, 'xx': 12942, 'fine': 4081, 'mini': 6906, 'neck': 7236, 'yelloworange': 12980, 'slip': 10242, 'way': 12505, 'pregnant': 8488, 'material': 6689, 'cheap': 1801, 'along': 289, 'roomy': 9349, 'returned': 9208, 'trouble': 11833, 'head': 4990, 'chocking': 1877, 'hole': 5179, 'reason': 8879, 'kind': 5934, 'others': 7697, 'however': 5263, 'really': 8873, 'return': 9206, 'sent': 9712, 'sizeordered': 10112, 'checked': 1812, 'sad': 9435, 'beautifulits': 874, 'light': 6241, 'tee': 11306, 'hesitate': 5078, 'wont': 12822, 'disappointedi': 3087, 'tshirts': 11859, 'pricey': 8545, 'knew': 5960, 'might': 6883, 'last': 6075, 'till': 11581, 'went': 12622, 'saleruns': 9470, 'linen': 6291, 'likely': 6267, 'stretch': 10834, 'biti': 1034, 'yet': 12992, 'named': 7168, 'isnt': 5665, 'elegant': 3513, 'fringe': 4442, 'pocket': 8322, 'tennis': 11338, 'shoe': 9885, 'heel': 5034, 'complimented': 2242, 'intricate': 5602, 'stitching': 10749, 'cream': 2521, 'holiday': 5181, 'party': 7924, 'hoped': 5215, 'fooled': 4333, 'bright': 1376, 'baby': 713, 'pale': 7853, 'designed': 2960, 'heavy': 5026, 'afraid': 172, 'try': 11853, 'fear': 3989, 'pulled': 8674, 'wanted': 12442, 'bodysuit': 1189, 'snap': 10365, 'wide': 12708, 'leg': 6162, 'wouldnt': 12877, 'normally': 7399, 'bralette': 1327, 'house': 5253, 'support': 11041, 'supportive': 11044, 'probably': 8577, 'least': 6147, 'reference': 8972, 'extremely': 3838, 'everfrom': 3707, 'new': 7297, 'year': 12964, 'resolution': 9139, 'stop': 10764, 'clothes': 2014, 'classy': 1956, 'dressed': 3309, 'warm': 12448, 'cool': 2377, 'alternative': 313, 'standard': 10659, 'uniform': 12104, 'loooks': 6419, 'write': 12914, 'reviewand': 9228, 'awesome': 698, 'walk': 12429, 'thinking': 11459, 'realized': 8870, 'bow': 1289, 'im': 5372, 'complete': 2225, 'sucker': 10953, 'fell': 4016, 'gaping': 4538, 'somewhere': 10461, 'shift': 9832, 'sheath': 9803, 'silhouette': 10028, 'hair': 4901, 'pinned': 8225, 'teased': 11301, 'japanese': 5788, 'bun': 1483, 'valentine': 12247, 'date': 2760, 'edge': 3465, 'stripe': 10859, 'taupe': 11274, 'awkward': 704, 'box': 1290, 'end': 3589, 'item': 5707, 'smallest': 10299, 'saw': 9540, 'costumer': 2428, 'sooo': 10466, 'shimmery': 9840, 'thread': 11505, 'curvier': 2655, 'jsut': 5855, 'sadly': 9439, 'ribcagebust': 9254, 'always': 319, 'brand': 1330, 'couldnt': 2451, 'zip': 13031, 'reorder': 9088, 'gave': 4567, 'star': 10666, 'around': 535, 'chestshoulders': 1846, 'longer': 6367, 'xsmall': 12934, 'longwaisted': 6393, 'lengththe': 6205, 'blend': 1082, 'softperfect': 10432, 'weather': 12541, 'garment': 4548, 'replacement': 9101, 'faux': 3974, 'surpassed': 11061, 'expectation': 3791, 'usual': 12227, 'lining': 6307, 'hopefully': 5218, 'hold': 5175, 'daily': 2716, 'take': 11211, 'spring': 10603, 'plum': 8304, 'evening': 3698, 'excited': 3762, 'shade': 9763, 'grey': 4830, 'winter': 12764, 'maeve': 6569, 'simply': 10061, 'fathom': 3963, 'poorly': 8385, 'designedit': 2961, 'point': 8325, 'wonder': 12811, 'defective': 2854, 'slender': 10209, 'smallboned': 10291, 'curvy': 2656, 'hourglass': 5251, 'hip': 5133, 'maybe': 6727, 'cuter': 2687, 'heathered': 5017, 'slimmer': 10232, 'reasonably': 8881, 'priced': 8538, 'basic': 817, 'site': 10087, 'sexy': 9755, 'weigh': 12569, 'know': 5976, 'picture': 8154, 'night': 7329, 'option': 7654, 'fun': 4491, 'couple': 2459, 'hd': 4989, 'paris': 7909, 'jumpsuit': 5870, 'appealed': 448, 'decided': 2819, 'tie': 11545, 'ribbon': 9251, 'builtin': 1462, 'cup': 2631, 'dealbreaker': 2795, 'falling': 3912, 'ankle': 377, 'thing': 11454, 'teallight': 11296, 'took': 11660, 'sleeve': 10195, 'careful': 1662, 'taking': 11215, 'else': 3537, 'undo': 12065, 'inventory': 5612, 'rockefeller': 9317, 'read': 8853, 'prior': 8568, 'purchasing': 8706, 'disproportionate': 3130, 'rectified': 8934, 'padded': 7830, 'surprised': 11065, 'boxy': 1299, 'type': 11951, 'shorter': 9909, 'youre': 13011, 'curve': 2648, 'partial': 7914, 'palazzo': 7851, 'dream': 3289, 'justice': 5880, 'reminiscent': 9071, 'vintage': 12331, 'mexican': 6836, 'circle': 1920, 'washing': 12482, 'hand': 4918, 'mine': 6905, 'lingerie': 6304, 'bag': 750, 'washed': 12473, 'gentle': 4588, 'cycle': 2711, 'frayed': 4414, 'pair': 7844, 'scissors': 9567, 'avoid': 684, 'damage': 2725, 'future': 4512, 'swimsuit': 11150, 'combination': 2142, 'husband': 5325, 'promptly': 8616, 'brought': 1411, 'attention': 641, 'chevron': 1849, 'centered': 1746, 'immediately': 5386, 'called': 1586, 'assuming': 593, 'sold': 10437, 'supervisor': 11033, 'able': 12, 'kimono': 5930, 'wonderful': 12813, 'originally': 7688, 'upcoming': 12173, 'beach': 843, 'found': 4390, 'wardrobe': 12446, 'hot': 5242, 'cold': 2056, 'everything': 3719, 'highly': 5109, 'ti': 11539, 'eyelet': 3847, 'neckline': 7244, 'keeping': 5908, 'clog': 1997, 'ended': 3590, 'later': 6082, 'inside': 5526, 'experience': 3803, 'romantic': 9337, 'need': 7253, 'concerned': 2262, 'exposing': 3818, 'heat': 5014, 'humidity': 5305, 'florida': 4265, 'wonderfully': 12817, 'stretchy': 10844, 'classic': 1945, 'cost': 2422, 'appropriate': 473, 'transparent': 11783, 'problem': 8579, 'hard': 4960, 'choosing': 1889, 'sty': 10904, 'grabbed': 4733, 'hype': 5333, 'puzzled': 8732, 'amount': 352, 'tailoring': 11209, 'save': 9535, 'three': 11508, 'manufacturer': 6633, 'corner': 2408, 'making': 6605, 'installing': 5541, 'consuming': 2326, 'zipper': 13037, 'something': 10454, 'range': 8813, 'liked': 6265, 'check': 1810, 'nicer': 7319, 'fitted': 4135, 'wait': 12422, 'past': 7933, 'month': 7036, 'smallparticularly': 10315, 'recent': 8900, 'impossible': 5403, 'ignore': 5357, 'aside': 568, 'lined': 6286, 'billowy': 1013, 'ideal': 5351, 'strangely': 10803, 'bodice': 1178, 'shawl': 9797, 'practical': 8451, 'impressed': 5408, 'elegantromantic': 3515, 'feltlooked': 4021, 'minute': 6933, 'stay': 10694, 'shoulder': 9941, 'despite': 2975, 'several': 9741, 'attempt': 632, 'topstanks': 11707, 'kept': 5914, 'awkwardlyannoyingly': 707, 'undefined': 12018, 'disappointedly': 3088, 'notice': 7419, 'week': 12559, 'pleasure': 8292, 'owning': 7817, 'includes': 5444, 'acquiring': 83, 'fortunate': 4381, 'holly': 5183, 'mp': 7096, 'unproportioned': 12131, 'layer': 6108, 'willa': 12737, 'complement': 2222, 'upper': 12191, 'never': 7292, 'printsbut': 8564, 'understated': 12046, 'resist': 9136, 'hue': 5283, 'softest': 10426, 'fantastic': 3941, 'special': 10541, 'touch': 11733, 'oftenpretty': 7546, 'everywhere': 3725, 'must': 7143, 'reminds': 9070, 'monet': 7021, 'watercolor': 12497, 'exchanged': 3760, 'shrink': 9989, 'failed': 3894, 'liking': 6270, 'sheerness': 9818, 'caused': 1721, 'overlap': 7772, 'stomach': 10758, 'band': 787, 'causing': 1722, 'ballooning': 779, 'affect': 164, 'skinned': 10148, 'folk': 4323, 'kid': 5922, 'idea': 5350, 'blazer': 1072, 'embarrassing': 3545, 'admit': 138, 'buying': 1559, 'misplaced': 6947, 'recover': 8929, 'hence': 5064, 'decision': 2822, 'repurchase': 9112, 'mysteriously': 7158, 'lol': 6356, 'anyway': 433, 'today': 11623, 'yesit': 12986, 'half': 4903, 'tuck': 11873, 'solves': 10446, 'toned': 11650, 'accentuatea': 39, 'yay': 12960, 'plan': 8262, 'shortscropped': 9919, 'thought': 11497, 'proofed': 8621, 'giant': 4610, 'easiness': 3445, 'throwing': 11526, 'wasnt': 12488, 'completely': 2228, 'satisfied': 9525, 'wellfitting': 12603, 'embroidered': 3558, 'flaw': 4215, 'wellcut': 12597, 'impeccably': 5395, 'done': 3206, 'cutout': 2700, 'versatileit': 12297, 'formal': 4365, 'six': 10093, 'measurement': 6743, 'thrilled': 11514, 'sumptuous': 10996, 'softness': 10431, 'want': 12441, 'baggy': 759, 'tummy': 11888, 'ivory': 5747, 'placement': 8255, 'cottonsynthetic': 2441, 'stretching': 10840, 'meadow': 6732, 'rue': 9393, 'approx': 477, 'narrow': 7178, 'buttoned': 1541, 'rest': 9147, 'wrist': 12912, 'allows': 273, 'searching': 9619, 'lit': 6322, 'fire': 4098, 'start': 10676, 'considering': 2308, 'assume': 591, 'intentional': 5570, 'perfection': 8048, 'pilcto': 8191, 'taper': 11255, 'substantial': 10935, 'silver': 10043, 'bronze': 1404, 'copper': 2394, 'regret': 9000, 'bad': 745, 'poor': 8383, 'extreme': 3837, 'tallit': 11228, 'worse': 12867, 'thin': 11453, 'sheeny': 9810, 'flea': 4221, 'market': 6648, 'arrived': 544, 'unbelievably': 11998, 'wrinkled': 12906, 'crumpled': 2609, 'meet': 6770, 'closely': 2004, 'middl': 6854, 'jumper': 5868, 'adorable': 142, 'hungry': 5314, 'bum': 1475, 'preview': 8531, 'bachelorette': 717, 'comfort': 2155, 'healed': 4999, 'sandal': 9492, 'shrug': 9994, 'keds': 5901, 'sizegrab': 10104, 'prefer': 8477, 'baggier': 755, 'closer': 2006, 'preference': 8480, 'guide': 4874, 'choose': 1886, 'covered': 2474, 'excellent': 3749, 'twist': 11936, 'jogger': 5846, 'pencil': 8013, 'perhaps': 8071, 'aesthetic': 158, 'frustrated': 4464, 'stiff': 10729, 'seemed': 9661, 'entirely': 3631, 'feeling': 4006, 'paige': 7836, 'flared': 4177, 'july': 5865, 'zara': 13024, 'copy': 2397, 'obviously': 7492, 'sierra': 10020, 'fast': 3953, 'luckily': 6516, 'enhance': 3604, 'sometimes': 10458, 'wool': 12828, 'cashmere': 1690, 'itch': 5696, 'grayblacktan': 4769, 'peplum': 8026, 'spot': 10592, 'mid': 6846, 'waistline': 12411, 'solve': 10444, 'gem': 4576, 'helpful': 5055, 'directly': 3075, 'amazingly': 333, 'task': 11261, 'live': 6335, 'grid': 4847, 'north': 7402, 'idaho': 5349, 'st': 10640, 'patrick': 7947, 'california': 1584, 'ton': 11647, 'strap': 10809, 'smiling': 10337, 'superb': 11016, 'thanks': 11380, 'thesealthough': 11420, 'exchanging': 3761, 'plenty': 8299, 'working': 12849, 'stomachhip': 10759, 'mentioning': 6803, 'curvey': 2654, 'layering': 6110, 'cooler': 2378, 'pound': 8444, 'formfitting': 4373, 'drop': 3360, 'pineapple': 8209, 'lemon': 6183, 'pay': 7965, 'event': 3704, 'coming': 2188, 'searched': 9618, 'birthday': 1029, 'discount': 3107, 'bullet': 1473, 'beige': 914, 'cami': 1597, 'harsh': 4971, 'softlooking': 10429, 'pleased': 8289, 'eleven': 3523, 'somewhat': 10459, 'waistband': 12396, 'elasticized': 3501, 'theyre': 11426, 'floor': 4255, 'tell': 11318, 'bummed': 1476, 'hoping': 5220, 'breast': 1349, 'section': 9645, 'defined': 2862, 'terrible': 11350, 'hardest': 4962, 'figure': 4052, 'lie': 6229, 'stuck': 10880, 'constr': 2314, 'thick': 11429, 'legged': 6164, 'booty': 1244, 'romper': 9338, 'use': 12216, 'bathroom': 829, 'unzip': 12168, 'hurry': 5322, 'highlow': 5108, 'moss': 7060, 'disappointment': 3093, 'oddly': 7512, 'seam': 9611, 'across': 84, 'belly': 932, 'available': 675, 'stating': 10688, 'bagginess': 756, 'certain': 1753, 'especially': 3671, 'muted': 7150, 'terry': 11355, 'pleasantly': 8287, 'carrying': 1678, 'seeing': 9657, 'turtleneck': 11913, 'bird': 1024, 'endless': 3591, 'weekend': 12562, 'typical': 11954, 'flimsy': 4238, 'interesting': 5574, 'styling': 10919, 'mile': 6891, 'fortunyesque': 4384, 'mind': 6902, 'specialoccasion': 10544, 'biggest': 993, 'scratchy': 9583, 'silky': 10037, 'berry': 953, 'cover': 2469, 'backside': 736, 'swingy': 11158, 'litttle': 6334, 'taller': 11225, 'tent': 11340, 'website': 12546, 'coupon': 2461, 'pain': 7837, 'sleepwear': 10192, 'steal': 10698, 'snail': 10362, 'note': 7412, 'roll': 9328, 'scrunch': 9597, 'push': 8722, 'sleev': 10194, 'mismatched': 6945, 'repeat': 9095, 'bottomjust': 1273, 'missewn': 6952, 'purposeful': 8719, 'particularly': 7918, 'okay': 7552, 'literally': 6324, 'granted': 4759, 'average': 679, 'excessive': 3757, 'whatsoever': 12640, 'accurate': 74, 'representation': 9108, 'term': 11347, 'mention': 6799, 'home': 5187, 'flesh': 4229, 'quirky': 8770, 'funky': 4501, 'thicknessnot': 11437, 'fleece': 4224, 'greeni': 4818, 'soon': 10464, 'removable': 9074, 'fur': 4504, 'hanger': 4941, 'rich': 9259, 'finishing': 4096, 'stick': 10724, 'plus': 8310, 'promo': 8611, 'winner': 12760, 'doll': 3192, 'tunic': 11892, 'flower': 4273, 'machine': 6557, 'wash': 12467, 'water': 12496, 'tide': 11544, 'stopped': 10765, 'window': 12750, 'shopping': 9896, 'errand': 3658, 'yesterday': 12988, 'autumn': 669, 'breezy': 1365, 'motif': 7070, 'loose': 6431, 'supposed': 11046, 'preferred': 8481, 'sight': 10022, 'balanced': 768, 'moderately': 6997, 'ladylike': 6026, 'midnight': 6866, 'attend': 635, 'wedding': 12551, 'halter': 4915, 'adjustment': 130, 'classical': 1946, 'topthe': 11711, 'mannequin': 6625, 'smallmedium': 10312, 'looser': 6443, 'lump': 6526, 'bump': 1478, 'capri': 1640, 'ml': 6968, 'swimming': 11148, 'sz': 11189, 'swingyness': 11160, 'coverage': 2470, 'downside': 3242, 'reverse': 9221, 'rough': 9370, 'bother': 1259, 'knitted': 5964, 'aline': 252, 'workmanship': 12850, 'outstanding': 7734, 'tricky': 11815, 'busted': 1509, 'adjustable': 125, 'place': 8253, 'dr': 3256, 'gotten': 4729, 'nd': 7217, 'broke': 1400, 'dry': 3376, 'cleaner': 1964, 'replaced': 9100, 'dissapointed': 3132, 'poster': 8421, 'hide': 5088, 'retuning': 9204, 'seen': 9665, 'teeny': 11311, 'tiny': 11597, 'safety': 9444, 'pin': 8205, 'closed': 1999, 'slenderizing': 10211, 'pilcro': 8187, 'script': 9589, 'rise': 9297, 'realize': 8869, 'fringed': 4443, 'rather': 8829, 'approaching': 470, 'cord': 2401, 'champagne': 1771, 'shine': 9844, 'delightful': 2897, 'ar': 490, 'inner': 5511, 'jeggings': 5820, 'build': 1457, 'butterfly': 1534, 'wondering': 12819, 'coat': 2038, 'lambswool': 6034, 'acrylic': 86, 'original': 7686, 'version': 12300, 'remained': 9053, 'samei': 9486, 'payed': 7966, 'money': 7022, 'example': 3744, 'declining': 2825, 'synthetic': 11186, 'ago': 194, 'figured': 4054, 'sage': 9447, 'according': 69, 'care': 1660, 'instruction': 5550, 'spill': 10563, 'stain': 10650, 'remover': 9078, 'detergent': 2992, 'wasted': 12490, 'weirdest': 12588, 'hunter': 5317, 'diepoor': 3032, 'mean': 6734, 'added': 103, 'described': 2945, 'onepiece': 7583, 'noted': 7413, 'limited': 6279, 'provide': 8645, 'lift': 6237, 'morher': 7054, 'favourite': 3984, 'saggy': 9451, 'butt': 1530, 'mother': 7068, 'walked': 12430, 'simplistic': 10060, 'overly': 7778, 'voluminous': 12369, 'gray': 4767, 'either': 3493, 'wee': 12557, 'four': 4392, 'liner': 6295, 'polyester': 8350, 'sweatshirt': 11131, 'polka': 8342, 'dot': 3215, 'equates': 3651, 'case': 1687, 'depending': 2929, 'occasion': 7495, 'forgiving': 4358, 'concern': 2261, 'lighting': 6251, 'subtle': 10939, 'whim': 12657, 'local': 6346, 'delighted': 2896, 'flair': 4162, 'straight': 10782, 'suggests': 10970, 'hour': 5250, 'wrinkly': 12911, 'expect': 3789, 'exactly': 3735, 'coral': 2398, 'description': 2947, 'swiss': 11166, 'bell': 925, 'ruffled': 9396, 'together': 11633, 'due': 3391, 'elastic': 3499, 'fro': 4448, 'asymmetry': 608, 'fiber': 4041, 'supersoft': 11030, 'skin': 10147, 'snugger': 10390, 'noticeable': 7420, 'fancy': 3938, 'environment': 3636, 'knee': 5945, 'lay': 6105, 'clingy': 1990, 'match': 6681, 'wedge': 12554, 'scarf': 9556, 'bathing': 827, 'coverup': 2478, 'thigh': 11443, 'pilling': 8198, 'far': 3942, 'semi': 9686, 'thickness': 11436, 'artistic': 553, 'roomier': 9345, 'indigo': 5474, 'dimension': 3055, 'grow': 4860, 'decade': 2807, 'floral': 4261, 'military': 6894, 'flare': 4176, 'early': 3428, 'generous': 4582, 'fabulous': 3876, 'wellstyled': 12616, 'volume': 12368, 'rock': 9315, 'balance': 767, 'springsummer': 10607, 'girl': 4620, 'taken': 11213, 'vacationing': 12241, 'mexico': 6837, 'turned': 11906, 'gold': 4683, 'deep': 2839, 'raspberry': 8824, 'maroon': 6652, 'combo': 2146, 'burgundy': 1495, 'anticipate': 405, 'tan': 11231, 'ribbed': 9249, 'varying': 12262, 'close': 1998, 'beside': 956, 'nervous': 7281, 'ordering': 7676, 'fact': 3884, 'dragonfly': 3261, 'greatly': 4798, 'simplifie': 10059, 'oversized': 7793, 'boyfriend': 1309, 'rounded': 9374, 'begin': 907, 'appreciate': 464, 'heavier': 5022, 'minneapol': 6919, 'drawn': 3281, 'swallow': 11088, 'whole': 12697, 'let': 6216, 'chart': 1795, 'comment': 2190, 'recommended': 8922, 'specific': 10546, 'opinion': 7638, 'ruffle': 9395, 'position': 8408, 'overwhelming': 7810, 'frame': 4403, 'allow': 269, 'debating': 2803, 'xsp': 12936, 'stock': 10751, 'noticeably': 7421, 'twisted': 11938, 'scratchier': 9580, 'cotteny': 2433, 'warmth': 12455, 'med': 6748, 'plaid': 8259, 'pic': 8142, 'airy': 230, 'brutal': 1437, 'purple': 8711, 'surprise': 11064, 'metallic': 6828, 'pinstripe': 8227, 'spaced': 10510, 'abt': 29, 'thruout': 11531, 'obvious': 7491, 'undershirt': 12040, 'please': 8288, 'clean': 1962, 'ruin': 9402, 'outfit': 7716, 'stylish': 10921, 'cinched': 1914, 'forward': 4386, 'outside': 7732, 'paid': 7835, 'th': 11373, 'third': 11471, 'cozy': 2496, 'slouchy': 10271, 'preggers': 8485, 'situation': 10092, 'reminded': 9067, 'empire': 3572, 'grandmother': 4754, 'enjoy': 3607, 'movement': 7091, 'vneck': 12358, 'gap': 4535, 'appealing': 449, 'simple': 10053, 'graceful': 4737, 'keeper': 5907, 'boy': 1308, 'child': 1858, 'somehow': 10449, 'belt': 937, 'comfortably': 2171, 'friday': 4435, 'antro': 415, 'greenish': 4819, 'camsiole': 1615, 'attached': 629, 'removed': 9076, 'tooks': 11661, 'campole': 1612, 'peek': 7996, 'camisole': 1600, 'neckli': 7243, 'considered': 2307, 'cat': 1705, 'general': 4578, 'asymmetrical': 607, 'aspect': 576, 'stand': 10657, 'wa': 12382, 'peel': 8000, 'sock': 10410, 'foot': 4335, 'hidden': 5087, 'mango': 6621, 'olive': 7564, 'golden': 4684, 'walking': 12431, 'dinner': 3064, 'jewelry': 5831, 'summertime': 10993, 'choice': 1879, 'complimentary': 2241, 'heavenly': 5021, 'raf': 8788, 'pas': 7926, 'droopy': 3359, 'chance': 1773, 'bc': 836, 'trip': 11826, 'happier': 4956, 'soul': 10493, 'workout': 12851, 'exchange': 3759, 'softer': 10425, 'uneven': 12073, 'character': 1781, 'turquoise': 11909, 'havent': 4982, 'reservation': 9128, 'suede': 10960, 'nap': 7174, 'similar': 10050, 'leggingsmay': 6169, 'pop': 8386, 'tealblue': 11294, 'striking': 10856, 'decorative': 2833, 'believe': 924, 'petiteathletic': 8100, 'roomwashing': 9348, 'beadingrivet': 852, 'reviewsbut': 9235, 'armpit': 517, 'sewn': 9748, 'ok': 7551, 'fallunfortunately': 3919, 'handknit': 4923, 'seethrough': 9668, 'showing': 9977, 'ag': 179, 'tend': 11330, 'hug': 5286, 'drag': 3258, 'ground': 4857, 'smallbusted': 10292, 'frumpy': 4463, 'width': 12723, 'daughter': 2764, 'woven': 12881, 'fraying': 4415, 'replace': 9099, 'truly': 11843, 'contrasting': 2354, 'distressing': 3153, 'receive': 8896, 'disappointing': 3090, 'entire': 3630, 'fence': 4031, 'developed': 3006, 'cutest': 2689, 'unfortunately': 12096, 'unwearable': 12163, 'thicker': 11430, 'recently': 8901, 'sending': 9701, 'mess': 6817, 'nonstop': 7386, 'suggest': 10965, 'rusty': 9424, 'southwest': 10504, 'blanket': 1069, 'apricot': 482, 'dresse': 3308, 'designer': 2962, 'accomplish': 66, 'strange': 10801, 'garbage': 4545, 'solution': 10443, 'correctly': 2416, 'lavender': 6101, 'fo': 4311, 'reading': 8857, 'becasue': 889, 'canter': 1627, 'cross': 2592, 'scoop': 9568, 'branded': 1332, 'listed': 6317, 'rava': 8834, 'measured': 6742, 'quaiity': 8742, 'restrictive': 9159, 'an': 359, 'slimming': 10233, 'importantly': 5401, 'slide': 10216, 'seethru': 9670, 'thru': 11530, 'gauzy': 4566, 'detailing': 2986, 'totally': 11730, 'fyi': 4519, 'log': 6353, 'ability': 11, 'shut': 10001, 'hemming': 5060, 'higher': 5096, 'west': 12626, 'summ': 10981, 'peter': 8095, 'pan': 7865, 'expensive': 3801, 'togethers': 11636, 'glove': 4666, 'outlined': 7727, 'sophisticated': 10474, 'prewedding': 8535, 'brunch': 1430, 'dc': 2785, 'october': 7509, 'fullbusted': 4475, 'catalogue': 1707, 'undergarment': 12024, 'sleeveless': 10197, 'differently': 3043, 'meant': 6737, 'basket': 820, 'accident': 56, 'oops': 7619, 'highcropped': 5093, 'visual': 12352, 'interest': 5572, 'out': 7708, 'elegance': 3511, 'eye': 3840, 'umbrella': 11980, 'per': 8030, 'mail': 6581, 'merchant': 6806, 'known': 5978, 'ador': 141, 'student': 10883, 'carry': 1677, 'backpack': 732, 'poncho': 8359, 'lover': 6485, 'yoke': 13005, 'wrangle': 12885, 'limb': 6275, 'tear': 11299, 'disaster': 3096, 'ask': 571, 'saleswoman': 9477, 'rip': 9291, 'crushed': 2611, 'woman': 12807, 'perfectlycasual': 8057, 'lower': 6494, 'worry': 12865, 'shrinkage': 9990, 'laid': 6029, 'iron': 5632, 'answer': 392, 'con': 2252, 'sturdy': 10903, 'admire': 134, 'sew': 9744, 'annoyed': 384, 'package': 7824, 'pxxs': 8735, 'px': 8734, 'washable': 12469, 'shrunk': 9998, 'upon': 12188, 'barely': 804, 'twisting': 11939, 'casing': 1691, 'drive': 3352, 'straightening': 10786, 'sleep': 10190, 'change': 1776, 'nela': 7272, 'weave': 12542, 'ispretty': 5670, 'lacy': 6015, 'throw': 11523, 'yes': 12985, 'colored': 2091, 'reversible': 9223, 'incredibly': 5463, 'slate': 10183, 'contemporary': 2334, 'professional': 8595, 'reluctantly': 9047, 'shed': 9805, 'trick': 11813, 'shedding': 9806, 'sound': 10494, 'charm': 1791, 'fold': 4318, 'seal': 9609, 'ziploc': 13034, 'freezer': 4426, 'bam': 785, 'italy': 5690, 'thickish': 11434, 'peasant': 7992, 'flowing': 4281, 'vibe': 12315, 'aheadpress': 206, 'understand': 12044, 'sp': 10508, 'sewed': 9745, 'bunch': 1484, 'old': 7557, 'coarse': 2035, 'sewing': 9747, 'class': 1943, 'scrap': 9577, 'altered': 307, 'channeling': 1779, 'realness': 8875, 'sits': 10089, 'tucked': 11874, 'pratically': 8461, 'tone': 11649, 'tush': 11915, 'maaji': 6556, 'rack': 8784, 'painting': 7843, 'elouise': 3536, 'flattered': 4196, 'growing': 4861, 'plunge': 8308, 'cheek': 1817, 'play': 8274, 'hipswaist': 5154, 'cloth': 2013, 'stone': 10760, 'chambray': 1766, 'lacing': 6008, 'sparrow': 10533, 'shyle': 10003, 'bressay': 1366, 'problemhips': 8581, 'largewide': 6063, 'using': 12224, 'jlo': 5840, 'squat': 10627, 'post': 8418, 'postpartum': 8425, 'busti': 1510, 'retailerpolgie': 9178, 'carried': 1676, 'risk': 9300, 'thsi': 11532, 'ginormous': 4619, 'mu': 7103, 'tail': 11204, 'lean': 6138, 'people': 8022, 'muscular': 7133, 'joke': 5849, 'ref': 8969, 'dressa': 3301, 'deciding': 2821, 'graduation': 4747, 'gift': 4613, 'given': 4634, 'asked': 573, 'speaker': 10537, 'important': 5400, 'fundraising': 4498, 'homeless': 5189, 'abused': 31, 'city': 1929, 'affluent': 166, 'crowd': 2603, 'physical': 8137, 'presentation': 8504, 'word': 12835, 'follow': 4325, 'heartfelt': 5012, 'value': 12251, 'precious': 8466, 'continually': 2338, 'helped': 5053, 'present': 8502, 'polished': 8339, 'personal': 8081, 'inclusive': 5446, 'authenticity': 666, 'encouragement': 3586, 'wwhat': 12926, 'eyeing': 3845, 'popular': 8399, 'finally': 4077, 'george': 4593, 'venson': 12278, 'vousta': 12375, 'pajama': 7848, 'lounge': 6467, 'flannel': 4168, 'pj': 8249, 'background': 724, 'polar': 8335, 'bear': 857, 'deer': 2846, 'tree': 11801, 'branch': 1329, 'theyd': 11424, 'creamblack': 2523, 'ridiculously': 9272, 'separate': 9715, 'com': 2139, 'thanksgiving': 11381, 'mix': 6962, 'wow': 12882, 'maxed': 6721, 'additional': 109, 'sell': 9682, 'soooooo': 10469, 'structured': 10875, 'darting': 2759, 'richer': 9260, 'swish': 11163, 'triangle': 11811, 'reseam': 9122, 'rooster': 9353, 'farm': 3944, 'animal': 375, 'image': 5373, 'slub': 10274, 'wider': 12719, 'midbum': 6848, 'ditto': 3160, 'generally': 4579, 'potential': 8435, 'showcase': 9973, 'writing': 12916, 'hurt': 5323, 'drawback': 3278, 'opened': 7628, 'oilpetroleum': 7550, 'smell': 10332, 'solved': 10445, 'horseshoe': 5235, 'facing': 3883, 'seaming': 9613, 'howeveri': 5265, 'sweat': 11103, 'turn': 11904, 'halfway': 4908, 'happens': 4955, 'misleading': 6941, 'sport': 10589, 'yoga': 12999, 'cardio': 1658, 'classesas': 1944, 'breeze': 1363, 'dressskirt': 3329, 'bold': 1203, 'attire': 644, 'neon': 7274, 'relaxed': 9029, 'ponchosweater': 8362, 'til': 11579, 'beading': 851, 'bead': 849, 'sitting': 10090, 'chair': 1761, 'detailed': 2982, 'sparkle': 10527, 'opt': 7647, 'traditional': 11755, 'stood': 10763, 'hottest': 5248, 'detracts': 3002, 'flawless': 4217, 'unflatteringly': 12085, 'fairly': 3901, 'neutral': 7288, 'statement': 10685, 'necklace': 7241, 'greatest': 4790, 'unlike': 12118, 'shirting': 9864, 'flocked': 4253, 'velvet': 12274, 'printed': 8561, 'webbing': 12545, 'weighted': 12577, 'trim': 11820, 'tho': 11485, 'yearround': 12967, 'fastened': 3955, 'fl': 4155, 'round': 9373, 'dowdy': 3232, 'son': 10462, 'christening': 1896, 'born': 1253, 'breastfeeding': 1351, 'tuxedo': 11919, 'chic': 1850, 'postbaby': 8419, 'nursing': 7458, 'sloppy': 10265, 'accessory': 55, 'oh': 7547, 'overwhelm': 7808, 'sleepy': 10193, 'appreciated': 465, 'luncheonwork': 6533, 'styled': 10909, 'throwback': 11525, 'citizen': 1927, 'ripped': 9292, 'sag': 9446, 'armhole': 515, 'unnecessary': 12126, 'bulk': 1466, 'distorts': 3145, 'orange': 7656, 'surprisingly': 11069, 'complexion': 2233, 'register': 8999, 'fingernail': 4089, 'torn': 11719, 'savvy': 9539, 'sewer': 9746, 'tighten': 11562, 'correct': 2413, 'cleavage': 1974, 'tomorrow': 11646, 'flow': 4270, 'magenta': 6571, 'cap': 1632, 'updown': 12178, 'goto': 4727, 'recipient': 8909, 'pastel': 7936, 'rd': 8846, 'hyphen': 5336, 'chino': 1871, 'owned': 7815, 'bordeaux': 1245, 'test': 11357, 'ruined': 9403, 'laying': 6117, 'aunt': 660, 'spilled': 10565, 'soup': 10496, 'laundered': 6094, 'btw': 1443, 'learned': 6144, 'valuable': 12250, 'lesson': 6213, 'moth': 7067, 'state': 10682, 'handwashing': 4934, 'mistake': 6958, 'faves': 3978, 'particular': 7917, 'navygrey': 7203, 'thr': 11503, 'billow': 1008, 'thinning': 11468, 'blah': 1064, 'tanki': 11242, 'slack': 10177, 'culotte': 2629, 'edgy': 3471, 'heals': 5000, 'thank': 11377, 'weirdit': 12589, 'missing': 6954, 'stitch': 10746, 'bottomwhere': 1277, 'tankcamisole': 11241, 'ridiculous': 9271, 'beyond': 972, 'soooo': 10467, 'tying': 11950, 'beat': 860, 'peoppe': 8023, 'vegan': 12270, 'excess': 3756, 'accentuated': 40, 'pearshape': 7990, 'portion': 8401, 'truetosize': 11841, 'uncomfortable': 12007, 'alignment': 250, 'flowed': 4272, 'continuous': 2343, 'matching': 6684, 'splash': 10572, 'hundred': 5312, 'become': 894, 'multicolor': 7119, 'decently': 2813, 'broad': 1392, 'pkg': 8251, 'meit': 6777, 'pictureits': 8160, 'planning': 8266, 'maternity': 6700, 'concept': 2258, 'succeed': 10944, 'waiting': 12425, 'restocked': 9152, 'posted': 8420, 'deducted': 2835, 'putting': 8730, 'effect': 3474, 'floppy': 4259, 'tulip': 11882, 'zero': 13026, 'constructed': 2321, 'racer': 8779, 'accommodates': 63, 'framei': 4405, 'def': 2847, 'gorge': 4710, 'bracelet': 1317, 'placed': 8254, 'poly': 8347, 'doubt': 3228, 'ta': 11191, 'adore': 145, 'iris': 5628, 'bloom': 1109, 'resew': 9130, 'wearable': 12524, 'slouched': 10269, 'awful': 700, 'absurd': 27, 'drowning': 3371, 'bustier': 1511, 'inappropriate': 5425, 'potentially': 8436, 'shouldered': 9946, 'nip': 7345, 'losing': 6456, 'kneehigh': 5947, 'initially': 5504, 'waffle': 12390, 'corduroy': 2404, 'plain': 8261, 'blended': 1083, 'unfinished': 12081, 'trimmed': 11823, 'phone': 8124, 'climate': 1983, 'fresh': 4431, 'ii': 5360, 'visible': 12344, 'execution': 3773, 'horrible': 5227, 'glob': 4659, 'hanging': 4944, 'clump': 2027, 'underside': 12041, 'tied': 11547, 'br': 1315, 'verify': 12289, 'positive': 8410, 'physically': 8139, 'attractive': 650, 'alines': 255, 'wanting': 12443, 'bed': 898, 'answe': 391, 'openlow': 7632, 'taste': 11264, 'landed': 6036, 'calf': 1581, 'accepted': 47, 'hassel': 4974, 'free': 4418, 'refund': 8988, 'receiving': 8899, 'unlined': 12120, 'halloween': 4913, 'costume': 2425, 'happened': 4953, 'hadnt': 4894, 'sticky': 10728, 'agreement': 200, 'pro': 8572, 'breathable': 1355, 'sash': 9512, 'brings': 1387, 'panel': 7871, 'stuff': 10887, 'multicolored': 7120, 'hunt': 5315, 'business': 1505, 'beneath': 945, 'near': 7219, 'conservative': 2301, 'criss': 2571, 'iteration': 5711, 'regarding': 8995, 'rainbow': 8798, 'welldesigned': 12599, 'tucking': 11876, 'aware': 691, 'amazed': 327, 'discover': 3110, 'tacky': 11198, 'lowcut': 6493, 'proper': 8623, 'tha': 11374, 'picturesi': 8163, 'hugefelt': 5289, 'goodness': 4701, 'lose': 6453, 'kicky': 5921, 'bargain': 806, 'basement': 816, 'kicking': 5920, 'warms': 12454, 'fluid': 4299, 'swore': 11173, 'lied': 6230, 'horizontal': 5224, 'wearer': 12529, 'art': 549, 'charity': 1787, 'gorgeously': 4715, 'caution': 1723, 'mainly': 6588, 'mustard': 7144, 'colorway': 2125, 'blush': 1167, 'rust': 9420, 'tailored': 11207, 'door': 3211, 'belled': 927, 'thankfully': 11379, 'joy': 5853, 'cling': 1986, 'lucky': 6517, 'outfitting': 7718, 'inspiration': 5533, 'instagram': 5539, 'next': 7308, 'missed': 6951, 'snagged': 10357, 'heading': 4993, 'plane': 8263, 'borrowed': 1255, 'friend': 4437, 'noticed': 7422, 'connects': 2297, 'difference': 3038, 'tamed': 11230, 'versa': 12291, 'previous': 8532, 'whether': 12649, 'flight': 4237, 'road': 9306, 'loop': 6428, 'itty': 5740, 'unfitted': 12083, 'swim': 11146, 'boxing': 1297, 'champion': 1772, 'fat': 3960, 'wasteline': 12491, 'hook': 5208, 'closing': 2011, 'system': 11188, 'obsessed': 7488, 'showstopper': 9982, 'washedout': 12478, 'computer': 2251, 'florascura': 4263, 'fullprice': 4484, 'belted': 938, 'slitunder': 10260, 'belting': 939, 'leaving': 6153, 'fullstunning': 4487, 'falli': 3911, 'trend': 11805, 'bootiesmadly': 1235, 'reviwes': 9240, 'played': 8276, 'fashion': 3949, 'staple': 10664, 'longsleeve': 6384, 'highlight': 5104, 'clinging': 1989, 'visiting': 12350, 'thinnest': 11467, 'level': 6219, 'straw': 10822, 'hat': 4976, 'gather': 4557, 'poofing': 8377, 'tweed': 11923, 'spandex': 10518, 'capped': 1638, 'badly': 747, 'linenlike': 6293, 'colour': 2131, 'skim': 10142, 'highlighting': 5106, 'ahead': 205, 'bare': 802, 'cowboy': 2484, 'polyrayon': 8353, 'wrapping': 12891, 'necklineadds': 7245, 'uniqueness': 12114, 'eyed': 3843, 'chemise': 1829, 'gown': 4730, 'youd': 13008, 'category': 1714, 'lounging': 6472, 'sleeping': 10191, 'midsection': 6871, 'express': 3820, 'ontrend': 7608, 'marked': 6647, 'interwoven': 5591, 'commented': 2191, 'engagement': 3600, 'sheen': 9809, 'dres': 3299, 'molded': 7007, 'alone': 288, 'underwearpajama': 12055, 'leery': 6157, 'readand': 8854, 'oppositetoo': 7644, 'figureno': 4061, 'dart': 2758, 'sprea': 10601, 'undecided': 12017, 'rayon': 8841, 'worried': 12863, 'tendency': 11333, 'virtually': 12340, 'multiple': 7123, 'plush': 8312, 'reveal': 9215, 'numerous': 7456, 'adjust': 123, 'height': 5044, 'preattached': 8463, 'intrigued': 5604, 'swallowed': 11089, 'snuggie': 10392, 'suppose': 11045, 'drooped': 3358, 'comically': 2187, 'angle': 372, 'appeared': 452, 'wrap': 12886, 'artwork': 555, 'gogo': 4678, 'towards': 11740, 'confident': 2277, 'trendy': 11806, 'looovvveee': 6427, 'hipsbutt': 5148, 'drapey': 3272, 'functional': 4495, 'drawstring': 3282, 'suspect': 11079, 'drying': 3383, 'midi': 6860, 'shearling': 9802, 'taco': 11199, 'stylist': 10923, 'modern': 6998, 'nhl': 7309, 'game': 4532, 'accent': 35, 'conceal': 2253, 'job': 5842, 'seriously': 9730, 'lilac': 6272, 'mauve': 6717, 'chosen': 1894, 'cobalt': 2046, 'wowed': 12883, 'saturated': 9527, 'wayyyy': 12513, 'proof': 8620, 'disappoints': 3094, 'unusual': 12159, 'certainly': 1754, 'tutu': 11918, 'tolerance': 11640, 'exaggerated': 3737, 'tint': 11595, 'olivey': 7569, 'showed': 9974, 'name': 7167, 'stayed': 10695, 'following': 4327, 'dye': 3417, 'happening': 4954, 'wisely': 12775, 'sister': 10081, 'bridal': 1369, 'shower': 9975, 'actual': 96, 'afternoon': 175, 'distressed': 3152, 'ruched': 9391, 'chunky': 1909, 'block': 1100, 'bath': 825, 'awhile': 702, 'goddess': 4674, 'seldom': 9672, 'set': 9735, 'annoying': 385, 'reaching': 8851, 'experienced': 3804, 'control': 2359, 'gone': 4692, 'tends': 11335, 'puff': 8663, 'loosefitting': 6435, 'transitional': 11775, 'scrunchy': 9599, 'honestly': 5197, 'built': 1461, 'slims': 10236, 'bomber': 1207, 'deeper': 2841, 'featured': 3997, 'betwe': 969, 'zipped': 13035, 'technically': 11304, 'measure': 6741, 'depicted': 2931, 'bet': 963, 'nonetheless': 7372, 'youthful': 13013, 'school': 9564, 'decent': 2812, 'xxsp': 12944, 'advantage': 150, 'attracted': 648, 'floaty': 4252, 'ultra': 11973, 'casualjust': 1700, 'itchyand': 5701, 'pulling': 8676, 'mom': 7009, 'howeverthey': 5268, 'catalog': 1706, 'backorder': 730, 'mi': 6838, 'flapper': 4173, 'input': 5516, 'apparent': 444, 'information': 5495, 'claim': 1933, 'cheapreturned': 1809, 'texas': 11363, 'treat': 11798, 'shoulderscan': 9956, 'glamorous': 4643, 'deserves': 2954, 'silk': 10031, 'cinch': 1913, 'pleating': 8296, 'poof': 8373, 'pucker': 8656, 'flowiness': 4280, 'result': 9162, 'grace': 4736, 'public': 8655, 'foxy': 4396, 'beadwork': 855, 'crewneck': 2555, 'bulging': 1465, 'bordered': 1247, 'gawdy': 4568, 'christmas': 1898, 'status': 10693, 'led': 6156, 'indeed': 5465, 'pullover': 8679, 'unbuttoned': 12001, 'narrower': 7179, 'pause': 7962, 'investment': 5616, 'smooth': 10346, 'midthigh': 6877, 'gathered': 4558, 'jersey': 5822, 'bustand': 1508, 'non': 7365, 'colorful': 2094, 'ex': 3731, 'instinct': 5548, 'opposed': 7641, 'flatters': 4208, 'hiding': 5090, 'meaty': 6746, 'scared': 9555, 'dip': 3067, 'powder': 8446, 'drip': 3349, 'gorilla': 4723, 'frilly': 4441, 'wrote': 12920, 'wiskering': 12783, 'customer': 2668, 'service': 9733, 'unless': 12117, 'opted': 7648, 'cure': 2637, 'followed': 4326, 'upperhalf': 12192, 'bottomhalf': 1271, 'slipped': 10248, 'hooked': 5210, 'instantly': 5545, 'stalking': 10654, 'curvymuscular': 2661, 'relatively': 9027, 'throughout': 11519, 'eyecatching': 3842, 'cutting': 2706, 'nohassle': 7360, 'blindly': 1091, 'pe': 7972, 'spanx': 10523, 'unroll': 12140, 'brighter': 1381, 'hated': 4978, 'rounder': 9375, 'fabricit': 3862, 'burdensome': 1493, 'aestheticsthis': 161, 'salegrab': 9466, 'afterward': 176, 'intact': 5559, 'aggressive': 191, 'buttoning': 1547, 'knotted': 5974, 'collection': 2077, 'easter': 3447, 'regretted': 9003, 'seaside': 9622, 'stroll': 10867, 'chilly': 1866, 'restaurant': 9148, 'sunblock': 10998, 'gracious': 4739, 'nautical': 7194, 'structure': 10874, 'napkin': 7177, 'thinner': 11465, 'pick': 8144, 'rated': 8826, 'remember': 9062, 'hugging': 5296, 'prone': 8617, 'unfortunate': 12095, 'moment': 7011, 'definite': 2869, 'power': 8448, 'marvel': 6664, 'agent': 190, 'carter': 1680, 'world': 12857, 'casually': 1702, 'difficult': 3046, 'allowing': 272, 'ride': 9266, 'undies': 12061, 'dollar': 3193, 'cutenice': 2684, 'framequality': 4406, 'colorwhen': 2127, 'doubletake': 3226, 'notably': 7408, 'diagonal': 3015, 'linesblue': 6297, 'clownlike': 2024, 'overwhelmed': 7809, 'carbon': 1646, 'grayish': 4774, 'checking': 1814, 'warned': 12459, 'faded': 3889, 'closure': 2012, 'began': 905, 'albeit': 241, 'redyed': 8964, 'nearly': 7223, 'sweatercoat': 11106, 'allowed': 271, 'advertised': 153, 'drawcord': 3279, 'gym': 4884, 'informal': 5494, 'dressier': 3317, 'contributes': 2358, 'step': 10710, 'stiffer': 10731, 'stets': 10715, 'rare': 8818, 'bummer': 1477, 'substance': 10933, 'punch': 8684, 'late': 6080, 'giving': 4636, 'suitable': 10973, 'ballet': 773, 'create': 2537, 'inseam': 5520, 'becoming': 896, 'cupro': 2634, 'hardly': 4963, 'supertiny': 11031, 'sweaterjacket': 11111, 'spend': 10556, 'ruining': 9404, 'whenif': 12646, 'highwaisted': 5119, 'darlingflattering': 2755, 'creating': 2541, 'convenientthey': 2362, 'depth': 2937, 'car': 1644, 'key': 5915, 'wallet': 12433, 'ddd': 2788, 'bodywith': 1193, 'fully': 4489, 'zippedfor': 13036, 'shotit': 9936, 'undertone': 12051, 'rib': 9247, 'pullon': 8678, 'ponte': 8367, 'wornin': 12861, 'athleticsmall': 619, 'chested': 1841, 'pinkish': 8215, 'reddish': 8943, 'flutter': 4305, 'achieve': 78, 'satisfying': 9526, 'desire': 2969, 'whimsy': 12660, 'lowercut': 6495, 'requires': 9118, 'laye': 6106, 'packed': 7827, 'adirondacks': 120, 'mountain': 7083, 'camouflage': 1607, 'toucan': 11732, 'semifitted': 9691, 'define': 2861, 'knocked': 5969, 'tough': 11736, 'wais': 12394, 'roughly': 9372, 'managed': 6616, 'quick': 8760, 'improved': 5415, 'additionally': 110, 'speaking': 10538, 'crisscross': 2572, 'cleverly': 1978, 'portrayed': 8404, 'bitterly': 1037, 'dreary': 3298, 'tissuepaper': 11607, 'started': 10677, 'discovered': 3111, 'tonight': 11652, 'brightness': 1382, 'othe': 7696, 'llonger': 6342, 'ultimately': 11972, 'transition': 11774, 'overallawesome': 7752, 'turqoise': 11908, 'transferred': 11768, 'tub': 11871, 'nowadays': 7438, 'knitwear': 5966, 'dominantly': 3198, 'mostly': 7065, 'man': 6613, 'patchwork': 7940, 'rolled': 9331, 'patch': 7939, 'kinda': 5935, 'ch': 1757, 'fave': 3977, 'supima': 11035, 'nonorganic': 7381, 'trust': 11847, 'sparkled': 10529, 'cowl': 2486, 'exposed': 3817, 'jacketthe': 5771, 'craftsmanship': 2507, 'remind': 9066, 'impressionist': 5411, 'lying': 6551, 'bunching': 1487, 'stiletto': 10738, 'welli': 12605, 'deeply': 2845, 'discounted': 3108, 'whereas': 12647, 'textile': 11365, 'waisted': 12404, 'properly': 8624, 'affordable': 168, 'interested': 5573, 'clearly': 1973, 'intend': 5563, 'shocked': 9883, 'mths': 7102, 'partum': 7922, 'flabby': 4159, 'etc': 3682, 'wary': 12465, 'craft': 2503, 'wallpaper': 12434, 'sampler': 9488, 'highwaist': 5118, 'shortin': 9915, 'torsoi': 11723, 'transparency': 11782, 'complain': 2215, 'require': 9115, 'shouldnt': 9968, 'loosely': 6438, 'undone': 12067, 'solid': 10440, 'draped': 3267, 'slept': 10213, 'ack': 81, 'trouser': 11836, 'upvery': 12207, 'versital': 12302, 'company': 2201, 'insert': 5523, 'fabricscolors': 3870, 'intended': 5564, 'areaproviding': 499, 'definition': 2872, 'boho': 1199, 'included': 5443, 'retro': 9197, 'aa': 0, 'xspetite': 12937, 'hippy': 5145, 'navyblack': 7199, 'convert': 2367, 'effortlessly': 3478, 'seasonality': 9625, 'poppy': 8397, 'reach': 8848, 'pearshaped': 7991, 'inbetween': 5428, 'liberation': 6225, 'repairing': 9094, 'preserve': 8506, 'longtime': 6390, 'striped': 10860, 'pai': 7834, 'faltering': 3927, 'list': 6316, 'fridayand': 4436, 'sisz': 10085, 'sipped': 10077, 'cardijacket': 1657, 'loely': 6350, 'angled': 373, 'develop': 3005, 'tissue': 11606, 'mediumlarge': 6758, 'permit': 8078, 'salesclerk': 9471, 'greatless': 4794, 'ordinarya': 7679, 'royal': 9378, 'describes': 2946, 'gaucho': 4560, 'ironed': 5633, 'ironing': 5635, 'frequent': 4429, 'loosebaggy': 6432, 'bsck': 1439, 'boned': 1210, 'fir': 4097, 'border': 1246, 'lightness': 6253, 'mass': 6674, 'comfiest': 2152, 'problemo': 8583, 'inconsistent': 5450, 'janeausten': 5784, 'pm': 8318, 'sun': 10997, 'protection': 8635, 'wantneed': 12444, 'tightly': 11571, 'sti': 10720, 'split': 10577, 'boucle': 1279, 'sling': 10238, 'comfortablethe': 2170, 'ubiquitous': 11959, 'noticing': 7423, 'spending': 10557, 'momma': 7015, 'kiddos': 5924, 'baseball': 814, 'symmetrical': 11180, 'readjusting': 8859, 'loving': 6490, 'folding': 4321, 'durable': 3402, 'indoor': 5477, 'ac': 33, 'temperature': 11322, 'incidentally': 5439, 'elsewhere': 3539, 'stet': 10713, 'ups': 12193, 'changed': 1777, 'jegging': 5819, 'anymore': 421, 'salesperson': 9475, 'breathablecomfortable': 1356, 'mock': 6975, 'unfamiliar': 12079, 'weston': 12629, 'essentially': 3676, 'panty': 7896, 'hose': 5237, 'nylon': 7467, 'mindful': 6903, 'jewelery': 5830, 'tattoo': 11271, 'mixe': 6963, 'interview': 5589, 'packaging': 7826, 'shapeless': 9780, 'manages': 6617, 'shortwaisted': 9931, 'reccomend': 8891, 'pieceand': 8171, 'speciallooking': 10543, 'rose': 9358, 'terra': 11348, 'cotta': 2432, 'terribly': 11351, 'possibly': 8417, 'worst': 12868, 'relegated': 9037, 'weekendhome': 12564, 'unprofessionally': 12130, 'pilly': 8204, 'pill': 8195, 'shaved': 9795, 'premium': 8492, 'spandexstretch': 10519, 'content': 2336, 'xsand': 12930, 'armshit': 525, 'fingertip': 4090, 'burnt': 1502, 'medidnt': 6751, 'bothered': 1260, 'thang': 11376, 'enormous': 3614, 'depends': 2930, 'alot': 290, 'topper': 11697, 'thise': 11478, 'ugly': 11965, 'topsdresses': 11702, 'saying': 9545, 'fill': 4067, 'armpitchest': 518, 'binging': 1020, 'fab': 3851, 'shocking': 9884, 'overpowering': 7784, 'production': 8593, 'prevalent': 8527, 'peplu': 8025, 'blousy': 1130, 'ribcage': 9253, 'loosehonestly': 6437, 'skeptical': 10137, 'predict': 8468, 'tired': 11604, 'adding': 107, 'largest': 6060, 'cd': 1731, 'clear': 1969, 'bunchy': 1488, 'coul': 2449, 'dobby': 3173, 'smocking': 10344, 'creates': 2540, 'fullness': 4481, 'offset': 7538, 'shortshort': 9921, 'snugly': 10397, 'forever': 4349, 'single': 10074, 'dropwaist': 3368, 'contemplating': 2333, 'bootie': 1231, 'eased': 3439, 'flexible': 4236, 'protected': 8634, 'moving': 7094, 'trally': 11761, 'lately': 6081, 'steve': 10717, 'itamp': 5691, 'itchiness': 5697, 'immediate': 5385, 'ampquotnoampquot': 356, 'thatamp': 11384, 'serious': 9729, 'instore': 5549, 'versatility': 12299, 'jeansshorts': 5810, 'coworkers': 2490, 'delivered': 2901, 'sparkly': 10531, 'cluster': 2030, 'cocktail': 2047, 'heartbeat': 5009, 'imo': 5390, 'pjs': 8250, 'stinking': 10744, 'cuffed': 2626, 'temp': 11320, 'ticket': 11541, 'buyi': 1557, 'bone': 1209, 'waistpocket': 12415, 'raised': 8805, 'closeup': 2010, 'mixed': 6964, 'brownettes': 1415, 'sens': 9703, 'flirt': 4244, 'flirty': 4247, 'buttonscolorpattern': 1548, 'dreamy': 3295, 'strapless': 10811, 'generously': 4584, 'blade': 1062, 'placket': 8257, 'base': 813, 'elbow': 3505, 'gon': 4691, 'na': 7162, 'promotion': 8612, 'modal': 6979, 'cleaning': 1966, 'wrapvestkimono': 12892, 'dazzled': 2783, 'scream': 9584, 'college': 2079, 'importhead': 5402, 'shop': 9893, 'silves': 10049, 'apple': 456, 'clipdot': 1993, 'stature': 10692, 'cranberry': 2510, 'crop': 2586, 'purpleish': 8713, 'recheck': 8904, 'navybut': 7200, 'depicts': 2934, 'consistent': 2310, 'combined': 2144, 'staggered': 10649, 'slipnighty': 10246, 'nightgown': 7331, 'matter': 6709, 'purchasingbut': 8707, 'longas': 6364, 'five': 4149, 'matronly': 6707, 'land': 6035, 'brownmaroon': 1423, 'uneasy': 12071, 'thi': 11428, 'loosness': 6450, 'lucious': 6513, 'arrival': 541, 'cage': 1575, 'hugged': 5294, 'modelso': 6992, 'fabricnot': 3868, 'harder': 4961, 'squeeze': 10629, 'created': 2538, 'crocheted': 2582, 'cape': 1633, 'armschest': 522, 'cheery': 1822, 'neath': 7226, 'twice': 11926, 'handling': 4926, 'caved': 1727, 'spxsp': 10620, 'thered': 11413, 'proba': 8575, 'ballgowns': 775, 'attribute': 653, 'tightness': 11572, 'gape': 4536, 'needing': 7257, 'stratchy': 10818, 'irritating': 5644, 'trie': 11816, 'rolling': 9333, 'planned': 8264, 'southeast': 10501, 'asia': 565, 'traveling': 11794, 'necessarily': 7232, 'religious': 9044, 'pool': 8379, 'reasonable': 8880, 'topit': 11690, 'stevie': 10718, 'freebird': 4419, 'buckled': 1451, 'glittery': 4657, 'cabernetturquoise': 1566, 'cecelia': 1733, 'prado': 8457, 'moto': 7077, 'sanctuary': 9490, 'hovering': 5259, 'hahaha': 4898, 'stashed': 10681, 'girlhave': 4622, 'waited': 12424, 'addiction': 106, 'whitecream': 12675, 'whirl': 12664, 'charlie': 1789, 'leaf': 6136, 'modeled': 6984, 'denver': 2923, 'crepe': 2552, 'space': 10509, 'air': 216, 'grab': 4732, 'raw': 8839, 'supply': 11040, 'watching': 12495, 'availability': 674, 'ample': 354, 'earlier': 3427, 'scrappy': 9578, 'stink': 10743, 'redpink': 8957, 'jeanspants': 5806, 'everythingi': 3720, 'myselfit': 7157, 'welldone': 12600, 'fuzz': 4514, 'bw': 1560, 'fixed': 4154, 'setting': 9737, 'ensure': 3620, 'die': 3029, 'everybody': 3713, 'comjfortable': 2189, 'beloved': 935, 'smart': 10329, 'securely': 9649, 'bulge': 1463, 'mild': 6887, 'andor': 366, 'variety': 12259, 'referred': 8975, 'disappoitned': 3095, 'sice': 10005, 'ordinary': 7678, 'surprising': 11068, 'pleatherlike': 8295, 'zipping': 13040, 'considerate': 2305, 'topthat': 11710, 'jeansvery': 5815, 'unbutton': 12000, 'darling': 2754, 'colorpattern': 2100, 'pooch': 8369, 'outgrab': 7721, 'living': 6338, 'dying': 3419, 'tumble': 11886, 'dried': 3345, 'retailerbeen': 9167, 'whilethinking': 12655, 'saleuntil': 9480, 'salesgirl': 9472, 'shipment': 9852, 'splurge': 10581, 'wound': 12879, 'charmit': 1794, 'iti': 5718, 'insanely': 5519, 'credit': 2547, 'whirlwind': 12665, 'resulted': 9163, 'minor': 6923, 'relation': 9024, 'bac': 716, 'bravely': 1343, 'brandfirst': 1333, 'reaction': 8852, 'snugafraid': 10388, 'relish': 9045, 'constantly': 2313, 'mall': 6609, 'hesitant': 5076, 'oatmeal': 7474, 'outdoor': 7711, 'studio': 10885, 'tightsfit': 11576, 'displayed': 3129, 'bandeau': 790, 'latest': 6084, 'dissapointment': 3133, 'jeansi': 5801, 'hopeful': 5216, 'retailerpologist': 9182, 'listened': 6319, 'formula': 4377, 'touched': 11734, 'nowhere': 7439, 'consumer': 2325, 'fiance': 4040, 'potato': 8432, 'lowering': 6497, 'slapping': 10181, 'awkwardly': 706, 'fox': 4395, 'smitten': 10338, 'bizarre': 1039, 'advice': 155, 'august': 659, 'capsule': 1642, 'launder': 6093, 'posterior': 8422, 'invisible': 5617, 'ca': 1563, 'major': 6597, 'stitched': 10747, 'picked': 8145, 'including': 5445, 'sa': 9426, 'toovery': 11672, 'antrho': 413, 'pnw': 8319, 'gorgeouswith': 4720, 'luxury': 6545, 'follows': 4328, 'ori': 7685, 'ten': 11327, 'op': 7622, 'proportioned': 8630, 'dressvery': 3340, 'fittingprobably': 4142, 'suited': 10976, 'owner': 7816, 'fauxfur': 3975, 'glam': 4642, 'snuggly': 10394, 'gigantic': 4615, 'capelet': 1635, 'laceknit': 6002, 'drew': 3344, 'softsilky': 10433, 'compare': 2204, 'knowing': 5977, 'possible': 8416, 'raindrop': 8800, 'heelsand': 5038, 'unheard': 12101, 'laceup': 6005, 'lbd': 6122, 'reliant': 9042, 'written': 12917, 'shopper': 9895, 'estimation': 3680, 'dressif': 3318, 'reveiwsi': 9220, 'periwinklecolored': 8075, 'outer': 7714, 'rid': 9265, 'talk': 11218, 'bu': 1444, 'disappear': 3082, 'treasure': 11797, 'contrary': 2351, 'string': 10857, 'rope': 9354, 'comparison': 2208, 'uk': 11970, 'humid': 5304, 'paisley': 7847, 'screen': 9588, 'wi': 12702, 'install': 5540, 'delight': 2895, 'unstitch': 12147, 'tailor': 11206, 'ease': 3438, 'alteration': 306, 'notch': 7411, 'batwing': 833, 'poncholike': 8360, 'blousesthe': 1123, 'pilcrow': 8190, 'extended': 3826, 'outerwear': 7715, 'cumbersome': 2630, 'heather': 5016, 'intertwined': 5587, 'snappy': 10368, 'mark': 6645, 'nope': 7393, 'flatchested': 4184, 'meh': 6774, 'preferring': 8482, 'crooked': 2585, 'anyways': 434, 'reinforce': 9016, 'act': 90, 'sexier': 9751, 'juvenile': 5893, 'nail': 7165, 'elevates': 3522, 'tighter': 11566, 'stair': 10652, 'bleeding': 1080, 'onto': 7607, 'couchquiltpurseetc': 2448, 'feminineromantic': 4029, 'daytime': 2778, 'travel': 11792, 'bingo': 1021, 'spotted': 10597, 'snatched': 10372, 'needle': 7258, 'fail': 3893, 'snuggest': 10391, 'receipt': 8894, 'outline': 7726, 'masking': 6672, 'secret': 9644, 'pouch': 8437, 'smack': 10282, 'dab': 2713, 'abdomen': 10, 'suggested': 10966, 'realizing': 8871, 'breathing': 1359, 'bohemian': 1196, 'tempted': 11325, 'family': 3929, 'consistently': 2311, 'mediocre': 6752, 'transitioning': 11777, 'south': 10500, 'versatilecan': 12295, 'distinctive': 3141, 'emphasized': 3569, 'count': 2453, 'angel': 368, 'hardy': 4965, 'xxx': 12947, 'norm': 7394, 'relative': 9026, 'usefulness': 12220, 'watch': 12493, 'semiabstract': 9687, 'sailboat': 9458, 'leggingsskinny': 6171, 'knot': 5973, 'co': 2033, 'summery': 10994, 'framed': 4404, 'told': 11638, 'howeve': 5262, 'total': 11729, 'detachable': 2979, 'bough': 1281, 'street': 10830, 'kidding': 5923, 'timeless': 11585, 'poofed': 8374, 'jacketthen': 5772, 'gal': 4525, 'title': 11610, 'proportional': 8626, 'espadrille': 3668, 'tinted': 11596, 'ala': 239, 'breathes': 1358, 'peeking': 7999, 'lowkey': 6500, 'umbrellarain': 11981, 'unstructured': 12148, 'stylejust': 10915, 'creation': 2542, 'weighing': 12570, 'ha': 4888, 'un': 11984, 'formfitted': 4372, 'masculine': 6668, 'hei': 5043, 'openfront': 7629, 'antho': 401, 'breathtaking': 1360, 'burnout': 1501, 'spaghetti': 10515, 'eggplant': 3483, 'orde': 7669, 'ruching': 9392, 'elephant': 3518, 'rippling': 9296, 'itchy': 5700, 'wks': 12799, 'invent': 5611, 'monthold': 7039, 'cranky': 2511, 'leave': 6152, 'september': 9722, 'airplane': 228, 'adn': 140, 'overtaken': 7801, 'self': 9676, 'modeltailored': 6993, 'leggingpants': 6166, 'retailerthe': 9185, 'pix': 8245, 'delicatecasual': 2886, 'fittinghits': 4141, 'overlay': 7774, 'mode': 6981, 'chock': 1876, 'tassel': 11262, 'unraveling': 12135, 'medlarge': 6765, 'bodiceshoulders': 1180, 'fashionable': 3950, 'sausage': 9533, 'hood': 5204, 'win': 12745, 'casula': 1704, 'twotone': 11945, 'nouveau': 7435, 'indian': 5468, 'eastern': 3448, 'greater': 4789, 'sum': 10979, 'etro': 3689, 'spent': 10558, 'thousand': 11502, 'caveat': 1726, 'pinkishorange': 8216, 'debated': 2801, 'wing': 12757, 'steamed': 10700, 'warning': 12461, 'navybeige': 7198, 'settle': 9738, 'urged': 12212, 'former': 4370, 'verdict': 12285, 'drink': 3346, 'chiffon': 1857, 'sizewas': 10125, 'weardoesnt': 12528, 'pointy': 8329, 'anxious': 418, 'anytime': 431, 'fuss': 4509, 'destroyed': 2977, 'label': 5991, 'kitten': 5940, 'peachy': 7981, 'winemaroon': 12755, 'scallop': 9550, 'strip': 10858, 'undistinguished': 12063, 'disappointingmedium': 3092, 'square': 10621, 'massive': 6676, 'underneathwhich': 12037, 'defeated': 2851, 'purpose': 8718, 'unattractive': 11987, 'meboxy': 6747, 'retailerplogie': 9177, 'crispy': 2570, 'meended': 6769, 'european': 3693, 'coutour': 2467, 'wrardrobe': 12893, 'serve': 9731, 'lifetime': 6236, 'fray': 4413, 'raving': 8838, 'hesitation': 5081, 'brainer': 1325, 'outdressed': 7713, 'khaki': 5917, 'tla': 11614, 'skimming': 10144, 'retained': 9190, 'fade': 3888, 'desi': 2956, 'pure': 8708, 'puffy': 8670, 'reflect': 8980, 'kimonoit': 5932, 'mumu': 7128, 'lightcottony': 6244, 'orangered': 7662, 'endowed': 3596, 'describe': 2944, 'restock': 9151, 'whimsical': 12658, 'ribswaist': 9257, 'maternityish': 6703, 'sh': 9761, 'daydreaming': 2772, 'honeymooning': 5200, 'amalfi': 323, 'coast': 2036, 'cinque': 1918, 'terre': 11349, 'woke': 12806, 'unevenly': 12075, 'appearance': 451, 'nonexistent': 7373, 'outsi': 7731, 'guilty': 4876, 'outdoors': 7712, 'droop': 3357, 'assured': 595, 'lightwash': 6254, 'various': 12260, 'multi': 7118, 'cue': 2623, 'causal': 1718, 'cry': 2615, 'rarely': 8819, 'trashbaggy': 11790, 'pricier': 8547, 'quote': 8774, 'tooso': 11668, 'linin': 6306, 'stuffed': 10889, 'hilo': 5127, 'irl': 5630, 'straighter': 10787, 'nubbly': 7446, 'covershides': 2477, 'diminished': 3058, 'faith': 3904, 'pile': 8192, 'challenge': 1763, 'offtheshoulder': 7541, 'vivid': 12355, 'yummy': 13021, 'factor': 3885, 'attest': 642, 'onlinei': 7595, 'sat': 9517, 'cheaply': 1805, 'blank': 1068, 'appear': 450, 'necessary': 7233, 'dryclean': 3377, 'graphic': 4760, 'downyou': 3253, 'yarn': 12958, 'visited': 12349, 'course': 2464, 'huh': 5297, 'accentuates': 41, 'tooi': 11658, 'cargo': 1666, 'cutenot': 2685, 'crude': 2606, 'saddle': 9437, 'becomes': 895, 'eit': 3492, 'opaque': 7624, 'demure': 2912, 'dalls': 2723, 'replenishing': 9104, 'wildfire': 12735, 'prohibitively': 8601, 'textiled': 11366, 'breaker': 1345, 'rarityand': 8821, 'proportion': 8625, 'personality': 8082, 'load': 6344, 'onfeminine': 7589, 'swishy': 11165, 'underslip': 12043, 'appreciateno': 466, 'fighting': 4051, 'food': 4332, 'shouldersarm': 9948, 'lifting': 6239, 'sweltering': 11143, 'cooling': 2381, 'drinksdinner': 3348, 'afterwards': 177, 'florals': 4262, 'poochy': 8371, 'fabri': 3856, 'refined': 8978, 'brownish': 1419, 'confused': 2289, 'picnic': 8149, 'convinced': 2371, 'olivetoned': 7568, 'shrinking': 9993, 'doily': 3187, 'plug': 8303, 'code': 2050, 'reviewing': 9234, 'differs': 3044, 'byron': 1562, 'lars': 6071, 'attending': 638, 'racerback': 8780, 'jacketgot': 5762, 'bluegreen': 1142, 'loosing': 6447, 'sta': 10641, 'splotchy': 10580, 'chalked': 1762, 'bleach': 1076, 'leftover': 6161, 'washer': 12479, 'blotchy': 1113, 'pur': 8689, 'thisit': 11482, 'holey': 5180, 'deterred': 2997, 'skirted': 10164, 'trench': 11804, 'fifty': 4049, 'minimum': 6917, 'epaulet': 3640, 'contra': 2348, 'reviewerleast': 9232, 'materiel': 6697, 'pleated': 8294, 'neat': 7224, 'meeting': 6771, 'suitcase': 10974, 'showered': 9976, 'traveled': 11793, 'dolan': 3189, 'mumsunflower': 7127, 'patterned': 7953, 'none': 7371, 'mr': 7098, 'roperalloverflower': 9356, 'overboard': 7756, 'rifle': 9275, 'paper': 7900, 'devoted': 3011, 'deletta': 2882, 'glide': 4651, 'finely': 4084, 'spin': 10567, 'robin': 9313, 'egg': 3482, 'tangerine': 11235, 'tennessee': 11336, 'brownishwhite': 1421, 'hobby': 5168, 'passed': 7932, 'chocolate': 1878, 'tallalmost': 11222, 'wedgie': 12556, 'photoshoot': 8133, 'palette': 7859, 'waste': 12489, 'tented': 11341, 'bustline': 1513, 'wellworn': 12620, 'shiny': 9849, 'joe': 5844, 'hefty': 5042, 'stable': 10642, 'quicker': 8761, 'question': 8756, 'durability': 3401, 'pilco': 8184, 'trigger': 11819, 'aligned': 249, 'bid': 982, 'final': 4074, 'adieu': 119, 'impressedespecially': 5409, 'ensuring': 3623, 'coffee': 2051, 'dolman': 3194, 'wea': 12517, 'tealnavy': 11297, 'whitenavy': 12680, 'neckshoulders': 7250, 'socal': 10406, 'seductive': 9652, 'exquisite': 3821, 'younger': 13010, 'garner': 4550, 'blouson': 1129, 'eliminate': 3524, 'whatever': 12639, 'sequin': 9724, 'micro': 6844, 'oversize': 7792, 'eating': 3453, 'gained': 4523, 'painful': 7838, 'derri': 2941, 'baroque': 810, 'flavor': 4214, 'except': 3752, 'widelegged': 12711, 'prefect': 8475, 'older': 7559, 'overdone': 7758, 'butit': 1526, 'bog': 1194, 'alike': 251, 'craziest': 2517, 'pushup': 8727, 'disappears': 3084, 'butter': 1533, 'yeah': 12963, 'dance': 2730, 'charming': 1793, 'sooner': 10465, 'justifying': 5888, 'sm': 10280, 'member': 6785, 'forget': 4352, 'funny': 4503, 'shoulderslike': 9960, 'underarm': 12019, 'restricted': 9156, 'adult': 149, 'search': 9617, 'dressfabric': 3314, 'exceptionally': 3755, 'creative': 2543, 'stacked': 10644, 'strappy': 10816, 'tigh': 11558, 'tenty': 11345, 'cardi': 1648, 'itlove': 5724, 'onthe': 7606, 'levi': 6221, 'thats': 11388, 'playing': 8281, 'cello': 1741, 'itopen': 5729, 'heavyhot': 5027, 'bland': 1067, 'weary': 12540, 'tightfitting': 11568, 'fireengine': 4099, 'squished': 10635, 'active': 92, 'bikini': 1004, 'gappy': 4542, 'torsostraps': 11724, 'similarly': 10051, 'textured': 11368, 'avail': 672, 'easier': 3440, 'park': 7910, 'intention': 5569, 'counting': 2456, 'amply': 355, 'topespecially': 11683, 'nubby': 7447, 'snaghole': 10359, 'uhm': 11967, 'dear': 2798, 'easytowear': 3451, 'beaded': 850, 'ladder': 6017, 'secure': 9647, 'mending': 6791, 'et': 3681, 'curtain': 2646, 'strong': 10868, 'boxier': 1294, 'bluishgreen': 1163, 'trapeze': 11786, 'condition': 2268, 'gapping': 4541, 'bunched': 1485, 'po': 8320, 'hesitated': 5079, 'smoothes': 10348, 'bailey': 763, 'shortslength': 9927, 'fair': 3899, 'smallchested': 10294, 'rain': 8797, 'retailerpligie': 9176, 'puffiness': 8668, 'defining': 2868, 'email': 3542, 'backordered': 731, 'se': 9605, 'distraught': 3150, 'method': 6833, 'welcome': 12592, 'continue': 2339, 'assumed': 592, 'scheme': 9563, 'downand': 3234, 'remedied': 9060, 'wished': 12778, 'heeded': 5033, 'smmed': 10341, 'accidentally': 58, 'sheet': 9823, 'delicious': 2893, 'saturday': 9529, 'town': 11742, 'thisbut': 11476, 'southyou': 10506, 'waysthe': 12511, 'staticy': 10687, 'perceived': 8034, 'effortlessnesswith': 3479, 'shippingmy': 9855, 'shelling': 9827, 'verdugo': 12286, 'superior': 11020, 'leisure': 6182, 'broader': 1394, 'imperfection': 5397, 'sheerling': 9817, 'bliss': 1093, 'finished': 4095, 'apparel': 443, 'blessed': 1087, 'robe': 9312, 'nubbed': 7445, 'chubby': 1902, 'paquerette': 7902, 'mislabeled': 6940, 'inspired': 5535, 'twirl': 11933, 'xsmallsmall': 12935, 'draw': 3277, 'wellid': 12606, 'waisthips': 12406, 'folkloric': 4324, 'country': 2458, 'heft': 5040, 'cutwork': 2708, 'highend': 5095, 'finish': 4093, 'justify': 5887, 'dressup': 3339, 'mo': 6972, 'mn': 6971, 'claimed': 1934, 'onelove': 7582, 'werent': 12624, 'ext': 3823, 'honest': 5195, 'ridealong': 9267, 'shipping': 9854, 'unevenish': 12074, 'largeyou': 6064, 'taneven': 11234, 'emerald': 3564, 'peaking': 7986, 'omg': 7573, 'firm': 4101, 'windier': 12748, 'accesso': 50, 'cusp': 2666, 'balloony': 781, 'stuffy': 10890, 'italian': 5689, 'fraction': 4400, 'bamboo': 786, 'polkadotted': 8345, 'inaccurate': 5421, 'lengthwise': 6208, 'geometric': 4592, 'binding': 1018, 'age': 186, 'edginess': 3469, 'rocker': 9318, 'hint': 5132, 'sheers': 9819, 'waking': 12427, 'ab': 6, 'shimmer': 9837, 'physique': 8140, 'femine': 4026, 'garden': 4546, 'bend': 941, 'blowzy': 1135, 'paying': 7968, 'fancydefinitely': 3939, 'walkingit': 12432, 'pilcros': 8189, 'itd': 5704, 'si': 10004, 'comical': 2186, 'opportunity': 7640, 'magical': 6574, 'cartoonish': 1684, 'leary': 6146, 'modeling': 6986, 'minnesota': 6921, 'snigger': 10377, 'ironingsteaming': 5636, 'unsure': 12152, 'illusion': 5369, 'trunk': 11845, 'sorryhad': 10483, 'asidesince': 569, 'thirty': 11474, 'forgotten': 4361, 'exception': 3753, 'flouncy': 4269, 'roomymore': 9351, 'ladiesthis': 6022, 'colorado': 2083, 'apparently': 445, 'sizesmallwas': 10119, 'cuz': 2709, 'lunch': 6531, 'hi': 5085, 'airdried': 219, 'marni': 6651, 'mui': 7113, 'prada': 8456, 'rehearsal': 9012, 'flash': 4180, 'priceless': 8542, 'adjustability': 124, 'magnificent': 6577, 'truthfully': 11852, 'departure': 2927, 'pose': 8406, 'explain': 3810, 'nicest': 7321, 'pettie': 8113, 'pointelle': 8327, 'stained': 10651, 'produce': 8590, 'neither': 7271, 'shir': 9857, 'derby': 2938, 'pearl': 7989, 'anyonea': 424, 'perfectlybut': 8056, 'reg': 8990, 'wishful': 12779, 'gut': 4882, 'rumpled': 9408, 'qu': 8738, 'coveted': 2481, 'closedat': 2000, 'thighships': 11451, 'heeled': 5035, 'bo': 1170, 'anna': 380, 'sui': 10971, 'makeup': 6604, 'spectacular': 10552, 'scalloped': 9551, 'justifies': 5886, 'quot': 8773, 'definetly': 2866, 'hitting': 5162, 'shortness': 9918, 'dryer': 3380, 'heartbroken': 5011, 'cent': 1744, 'held': 5050, 'fuzzy': 4516, 'wavering': 12503, 'promise': 8608, 'stranger': 10805, 'wonky': 12821, 'web': 12543, 'sacklike': 9430, 'wh': 12635, 'creamblue': 2524, 'recieved': 8907, 'arrive': 542, 'procrastinate': 8587, 'fish': 4108, 'pallas': 7860, 'perfectso': 8064, 'constricted': 2316, 'met': 6824, 'forgot': 4360, 'stra': 10781, 'effort': 3476, 'architectural': 494, 'pulles': 8675, 'scandelously': 9553, 'shoul': 9939, 'sweatpants': 11130, 'wonderul': 12820, 'bounce': 1285, 'sand': 9491, 'tentlike': 11343, 'basically': 818, 'release': 9035, 'equally': 3650, 'boring': 1251, 'teenage': 11308, 'plaidthis': 8260, 'shouldersits': 9959, 'loungewear': 6471, 'disagree': 3080, 'straightlegged': 10791, 'highquality': 5112, 'shortened': 9906, 'wellthe': 12617, 'billowing': 1010, 'ja': 5754, 'degree': 2876, 'ink': 5506, 'tory': 11726, 'burch': 1491, 'bleed': 1079, 'fittoo': 4143, 'remotely': 9073, 'athro': 622, 'inset': 5524, 'meso': 6816, 'tug': 11878, 'fiddled': 4042, 'prepared': 8497, 'brandstunning': 1336, 'confortable': 2287, 'generic': 4581, 'northern': 7405, 'va': 12237, 'supermodel': 11022, 'picky': 8148, 'abolutely': 15, 'glance': 4646, 'styledits': 10911, 'tme': 11615, 'hte': 5274, 'armsshouldersbust': 530, 'fallen': 3910, 'forewarning': 4351, 'faint': 3898, 'heart': 5008, 'hubby': 5282, 'asian': 566, 'raglan': 8791, 'willing': 12739, 'overlook': 7776, 'possibility': 8415, 'busy': 1523, 'blousier': 1127, 'teh': 11317, 'stiching': 10722, 'colw': 2137, 'ripple': 9294, 'tummmy': 11887, 'cognac': 2052, 'riding': 9274, 'tiem': 11550, 'liekd': 6231, 'ot': 7694, 'otherwsie': 7702, 'mifnight': 6882, 'aka': 235, 'laways': 6103, 'seasonsbordeaux': 9631, 'variation': 12256, 'theme': 11396, 'merino': 6810, 'taught': 11273, 'uppe': 12189, 'insulting': 5557, 'floreat': 4264, 'bigtoo': 1000, 'burn': 1498, 'personi': 8085, 'gosh': 4725, 'wellthere': 12618, 'teababy': 11289, 'bronzed': 1405, 'creamy': 2533, 'grayslight': 4777, 'greige': 4828, 'edgier': 3468, 'homemany': 5191, 'cutoff': 2699, 'untucked': 12158, 'thus': 11534, 'butas': 1524, 'jammies': 5782, 'thickerthanaverage': 11431, 'fading': 3890, 'ad': 100, 'cropmiditop': 2587, 'therefore': 11414, 'wind': 12746, 'accommodate': 61, 'em': 3541, 'aptly': 487, 'serf': 9726, 'allsummertime': 275, 'conditioning': 2271, 'iffy': 5355, 'outrageous': 7729, 'cart': 1679, 'gorgeousthis': 4719, 'minimize': 6913, 'bealthough': 856, 'negativ': 7263, 'entry': 3632, 'absolutly': 23, 'workappropriate': 12840, 'colorspattern': 2112, 'springy': 10614, 'pity': 8244, 'deceptive': 2814, 'john': 5847, 'ignored': 5358, 'nudist': 7450, 'vey': 12312, 'messed': 6819, 'affected': 165, 'offer': 7522, 'significantly': 10027, 'biceps': 981, 'tissuestyle': 11608, 'bod': 1177, 'smalli': 10305, 'success': 10945, 'apre': 480, 'ski': 10140, 'exact': 3734, 'involved': 5621, 'reattaching': 8885, 'internationally': 5582, 'excursion': 3770, 'sleek': 10187, 'plusfor': 8311, 'lack': 6009, 'include': 5442, 'holder': 5176, 'accentuate': 38, 'backwards': 742, 'uplifting': 12186, 'cheerful': 1821, 'meandered': 6735, 'brick': 1368, 'mortar': 7056, 'location': 6348, 'nearby': 7220, 'curious': 2639, 'easybreezy': 3450, 'compliant': 2235, 'cozyrare': 2499, 'enhances': 3605, 'wayadding': 12506, 'lengthening': 6195, 'treated': 11799, 'vintagelooking': 12333, 'threw': 11509, 'blus': 1166, 'halflength': 4904, 'banded': 791, 'nevertheless': 7295, 'ready': 8860, 'peacock': 7983, 'tastethe': 11268, 'lineso': 6298, 'glendale': 4650, 'beautifuli': 872, 'leggins': 6174, 'safe': 9442, 'confirm': 2279, 'variable': 12254, 'remaining': 9054, 'inwonderland': 5624, 'hesitancy': 5075, 'pantsjeans': 7885, 'vcut': 12266, 'provides': 8647, 'peekaboo': 7997, 'armshoulder': 526, 'overheated': 7767, 'regualr': 9006, 'oprefer': 7646, 'aottern': 437, 'htis': 5279, 'obnoxious': 7482, 'cherry': 1832, 'netting': 7285, 'overlaid': 7771, 'god': 4673, 'regularly': 9009, 'bermuda': 952, 'skinnier': 10149, 'upset': 12195, 'cried': 2556, 'ver': 12283, 'poofy': 8378, 'forth': 4380, 'emb': 3543, 'baltimoreand': 784, 'widening': 12717, 'region': 8998, 'tr': 11747, 'workhorse': 12846, 'illfitting': 5367, 'misrepresent': 6949, 'li': 6223, 'fem': 4024, 'heavyweight': 5029, 'grayblue': 4770, 'unusually': 12160, 'dressmaker': 3323, 'boiled': 1202, 'deeperdarker': 2842, 'turquoisegreen': 11910, 'densest': 2921, 'thickest': 11432, 'driving': 3353, 'neighboring': 7269, 'blousey': 1126, 'festival': 4033, 'epitomized': 3644, 'flowery': 4278, 'retains': 9192, 'distress': 3151, 'platform': 8273, 'underlay': 12026, 'gauze': 4564, 'industry': 5481, 'recd': 8892, 'cash': 1688, 'calling': 1587, 'lifeless': 6233, 'beached': 844, 'whale': 12638, 'clerk': 1975, 'stoe': 10755, 'church': 1910, 'brother': 1410, 'shawlwrap': 9799, 'warren': 12464, 'silly': 10041, 'sweatshirtlike': 11132, 'table': 11193, 'marrakech': 6653, 'lapel': 6042, 'fe': 3988, 'girlsnot': 4627, 'group': 4859, 'cinching': 1915, 'frontmaking': 4456, 'dramaticly': 3265, 'jump': 5866, 'tack': 11195, 'reordered': 9089, 'chestiness': 1843, 'fattiness': 3967, 'loungeathome': 6468, 'divine': 3167, 'settled': 9739, 'cancer': 1619, 'awareness': 692, 'luncheon': 6532, 'tthis': 11865, 'navyin': 7205, 'estimating': 3679, 'classiest': 1954, 'isblack': 5651, 'passe': 7931, 'conflict': 2281, 'randomly': 8812, 'cuffbut': 2625, 'croppedvery': 2590, 'wale': 12428, 'sharp': 9792, 'required': 9116, 'peace': 7975, 'minimal': 6909, 'kick': 5918, 'bootcut': 1229, 'sur': 11052, 'hightower': 5117, 'intriguing': 5605, 'quilted': 8765, 'optic': 7649, 'quibble': 8759, 'niche': 7322, 'underwear': 12053, 'likewise': 6269, 'compa': 2199, 'distance': 3138, 'sotre': 10491, 'balck': 770, 'orangey': 7665, 'sjut': 10133, 'ahd': 203, 'braod': 1337, 'deceided': 2809, 'seriosu': 9728, 'purcahses': 8693, 'sal': 9462, 'respite': 9146, 'lowrise': 6503, 'hallelujah': 4912, 'elongated': 3532, 'retrofabulous': 9198, 'repertoire': 9098, 'wid': 12707, 'blizzard': 1095, 'impulse': 5417, 'tick': 11540, 'isunless': 5682, 'nat': 7185, 'slant': 10178, 'intarsia': 5560, 'rating': 8830, 'waistseat': 12417, 'hoisting': 5172, 'puckered': 8657, 'poking': 8333, 'encountered': 3583, 'blueaqua': 1137, 'pdx': 7971, 'sense': 9705, 'yankee': 12956, 'seamless': 9614, 'junk': 5875, 'seamstress': 9616, 'badi': 746, 'rea': 8847, 'fcup': 3987, 'snapped': 10367, 'swiftly': 11145, 'pack': 7822, 'mature': 6713, 'flawsi': 4219, 'luxuriously': 6544, 'capeperfect': 1636, 'waistdefining': 12401, 'carpet': 1673, 'backup': 740, 'sokinda': 10436, 'current': 2643, 'guessing': 4872, 'besides': 958, 'struggle': 10876, 'sl': 10176, 'maternityand': 6701, 'swingflow': 11153, 'lov': 6473, 'canvasy': 1630, 'staff': 10646, 'petiite': 8097, 'preferably': 8478, 'coz': 2491, 'blouseshirt': 1121, 'seasonal': 9624, 'eternal': 3684, 'recommendation': 8921, 'association': 589, 'essential': 3675, 'seasonthese': 9632, 'candidate': 1621, 'arrives': 546, 'mistaken': 6959, 'portland': 8402, 'vanity': 12253, 'gala': 4526, 'board': 1171, 'lurve': 6537, 'wit': 12785, 'espradilles': 3672, 'apart': 438, 'horizontally': 5225, 'truth': 11851, 'call': 1585, 'kim': 5929, 'fluff': 4294, 'insistence': 5529, 'biggish': 995, 'bias': 977, 'edging': 3470, 'wo': 12803, 'rocking': 9321, 'turtle': 11912, 'dissuade': 3137, 'waistshort': 12419, 'vendor': 12276, 'secondly': 9642, 'regard': 8994, 'wave': 12502, 'remarked': 9059, 'strongly': 10870, 'beca': 887, 'lengthen': 6193, 'percent': 8035, 'uniquely': 12113, 'michelin': 6842, 'tire': 11603, 'perception': 8037, 'collect': 2074, 'lightly': 6252, 'offwhite': 7542, 'poplin': 8392, 'duster': 3408, 'musthave': 7147, 'hover': 5258, 'deleted': 2881, 'book': 1224, 'nofuss': 7357, 'nofade': 7356, 'upscale': 12194, 'visually': 12353, 'girlish': 4625, 'bot': 1258, 'tasseled': 11263, 'view': 12323, 'wellstocked': 12614, 'patter': 7949, 'offering': 7524, 'overpriced': 7785, 'largeswinging': 6062, 'henley': 5066, 'weightless': 12580, 'downfall': 3236, 'prettiness': 8521, 'understood': 12048, 'lived': 6336, 'subdued': 10927, 'flatering': 4185, 'tapered': 11256, 'authentic': 665, 'peach': 7976, 'sagging': 9450, 'forest': 4348, 'sneaker': 10375, 'adequately': 117, 'glanced': 4647, 'mirror': 6937, 'lumpiness': 6527, 'manufacturing': 6634, 'lumpylooking': 6529, 'clung': 2028, 'anymorei': 422, 'fabricthe': 3872, 'expand': 3785, 'poofier': 8375, 'clownish': 2023, 'semiflowy': 9692, 'menswear': 6795, 'grocery': 4852, 'paint': 7840, 'released': 9036, 'historically': 5158, 'wasit': 12487, 'false': 3925, 'preggars': 8484, 'common': 2196, 'depend': 2928, 'combine': 2143, 'teacher': 11291, 'syle': 11177, 'asking': 575, 'amazingone': 335, 'pony': 8368, 'goody': 4705, 'binder': 1017, 'sprayed': 10600, 'spray': 10599, 'discolored': 3103, 'mymy': 7153, 'protruded': 8637, 'balloon': 776, 'heck': 5030, 'glorious': 4662, 'coveting': 2482, 'longing': 6377, 'lik': 6261, 'scouting': 9575, 'sleeved': 10196, 'weighs': 12571, 'stilt': 10741, 'clasp': 1942, 'cancel': 1617, 'downsize': 3244, 'picturesthere': 8164, 'replacing': 9102, 'rep': 9091, 'pleasant': 8286, 'agreed': 198, 'springearly': 10605, 'dumped': 3397, 'aqua': 489, 'vaguely': 12245, 'xxxlbut': 12949, 'cutthe': 2705, 'categorized': 1713, 'kimonobell': 5931, 'impr': 5405, 'pit': 8242, 'expectant': 3790, 'smidge': 10334, 'littleoff': 6333, 'matched': 6682, 'girlfriend': 4621, 'presumptive': 8513, 'intuition': 5608, 'prove': 8641, 'successful': 10946, 'fortunately': 4382, 'lends': 6186, 'toward': 11739, 'grayblack': 4768, 'shrank': 9987, 'lovey': 6488, 'peeptoe': 8003, 'soo': 10463, 'pump': 8680, 'pet': 8093, 'odor': 7516, 'seven': 9740, 'purcha': 8695, 'dawn': 2769, 'bomb': 1206, 'cheeky': 1819, 'thong': 11486, 'territory': 11354, 'shouldersneck': 9962, 'tasteful': 11265, 'laser': 6072, 'sizebigger': 10098, 'waistt': 12420, 'ehre': 3488, 'kne': 5944, 'exceptional': 3754, 'legnth': 6176, 'colorfast': 2092, 'beac': 842, 'sooooo': 10468, 'decoration': 2832, 'isolated': 5668, 'charleston': 1788, 'sc': 9547, 'accessorize': 51, 'modification': 7002, 'gripe': 4850, 'connecting': 2295, 'deter': 2991, 'muscularcurvy': 7135, 'exclusive': 3768, 'standup': 10663, 'fastener': 3956, 'luck': 6514, 'yold': 13006, 'challenged': 1764, 'department': 2926, 'solely': 10439, 'gorgeousness': 4716, 'inperson': 5515, 'cury': 2663, 'amazingsuper': 336, 'colorsi': 2109, 'winnerjust': 12762, 'dressit': 3320, 'dressthat': 3332, 'downthe': 3247, 'dy': 3416, 'smallso': 10320, 'skewed': 10138, 'fitt': 4134, 'bending': 943, 'slitdesign': 10256, 'spare': 10524, 'tback': 11283, 'newport': 7303, 'wearno': 12534, 'japan': 5787, 'honey': 5198, 'approximate': 478, 'withstood': 12796, 'couldve': 2452, 'dull': 3393, 'evergreen': 3708, 'thrown': 11527, 'flatting': 4210, 'saturdaysunday': 9530, 'dolce': 3190, 'vita': 12354, 'cushion': 2664, 'frill': 4440, 'regardless': 8996, 'niece': 7327, 'baptismhave': 799, 'xxxxxs': 12951, 'exists': 3780, 'leap': 6142, 'xxxl': 12948, 'topthis': 11712, 'classicthat': 1951, 'navywhite': 7213, 'selection': 9675, 'usa': 12214, 'spirit': 10569, 'football': 4337, 'untied': 12156, 'vertical': 12305, 'eitheror': 3495, 'remove': 9075, 'gaped': 4537, 'lacelike': 6003, 'characteristic': 1782, 'weightand': 12574, 'ineach': 5483, 'gravitating': 4765, 'clack': 1932, 'forarms': 4341, 'stumbled': 10893, 'bootiesperfect': 1236, 'dallas': 2722, 'breton': 1367, 'rendition': 9083, 'agrees': 201, 'damaging': 2727, 'jewelryhandbags': 5832, 'chain': 1760, 'catch': 1708, 'unzipped': 12169, 'librarian': 6227, 'grill': 4848, 'club': 2026, 'tulle': 11884, 'huey': 5285, 'bip': 1023, 'indicative': 5473, 'bailley': 764, 'obi': 7477, 'stared': 10672, 'loyal': 6506, 'earned': 3429, 'sorry': 10482, 'oxford': 7819, 'lengthmy': 6201, 'terrific': 11352, 'marled': 6650, 'braless': 1326, 'tore': 11718, 'warn': 12458, 'whiskering': 12667, 'mommytummy': 7017, 'greyredyellow': 4843, 'kneelength': 5950, 'selfconscious': 9678, 'wither': 12788, 'useful': 12219, 'discreet': 3113, 'mixing': 6965, 'fancier': 3936, 'loosened': 6440, 'ultratight': 11978, 'delettas': 2883, 'butta': 1531, 'choke': 1882, 'compromise': 2248, 'forearm': 4345, 'raise': 8804, 'seperate': 9719, 'realistically': 8866, 'fault': 3970, 'discourage': 3109, 'flecked': 4223, 'wonderfulfor': 12815, 'contact': 2328, 'east': 3446, 'bringing': 1386, 'luggage': 6522, 'stumble': 10892, 'tyhlo': 11948, 'starting': 10679, 'critique': 2578, 'ga': 4520, 'object': 7478, 'affords': 169, 'saywith': 9546, 'midriff': 6868, 'happen': 4952, 'partially': 7915, 'strangest': 10806, 'softener': 10422, 'tossed': 11728, 'silicon': 10029, 'grip': 4849, 'boning': 1214, 'sid': 10008, 'felting': 4020, 'fallwinterspring': 3922, 'rump': 9407, 'frigid': 4439, 'ohio': 7548, 'san': 9489, 'francisco': 4409, 'adjusting': 129, 'jacketstrenches': 5770, 'manage': 6614, 'peeve': 8004, 'croppedshort': 2589, 'trial': 11810, 'glue': 4669, 'prevent': 8528, 'damp': 2729, 'wrapped': 12889, 'tacked': 11196, 'belonged': 934, 'nonskinny': 7384, 'wristforearm': 12913, 'te': 11287, 'enourmous': 3617, 'midcalf': 6850, 'mateiral': 6687, 'falttering': 3928, 'stichting': 10723, 'hesitantly': 5077, 'workplace': 12853, 'cigarette': 1912, 'stretchyjersey': 10848, 'zipperi': 13039, 'british': 1390, 'mold': 7006, 'femininity': 4030, 'devastated': 3004, 'kicked': 5919, 'replenished': 9103, 'smile': 10336, 'brocade': 1396, 'fulllength': 4480, 'suggestion': 10968, 'improvement': 5416, 'fadng': 3892, 'especia': 3670, 'yikes': 12996, 'rule': 9405, 'tooth': 11669, 'sunday': 10999, 'nurse': 7457, 'separated': 9716, 'repaired': 9093, 'yall': 12955, 'snuck': 10386, 'aw': 687, 'camo': 1606, 'usu': 12226, 'standout': 10661, 'dreaming': 3291, 'feely': 4011, 'wiggle': 12727, 'herit': 5071, 'forgive': 4354, 'constricting': 2317, 'preppy': 8499, 'batch': 824, 'wise': 12774, 'marshmallowlike': 6660, 'usuall': 12230, 'waaaaay': 12385, 'bluepurplesilver': 1153, 'orangetangold': 7663, 'dipped': 3068, 'greencolored': 4813, 'neoprenelike': 7277, 'flatformsclogs': 4189, 'transfer': 11767, 'workw': 12855, 'itried': 5731, 'keeo': 5905, 'deresses': 2940, 'commet': 2192, 'hipped': 5142, 'fluctuates': 4290, 'hammy': 4916, 'pregnancy': 8487, 'period': 8073, 'fitwise': 4148, 'inherent': 5501, 'workable': 12839, 'sewnin': 9749, 'ishowever': 5659, 'motifalthough': 7071, 'marking': 6649, 'dyed': 3418, 'dresstunic': 3337, 'fi': 4038, 'shaping': 9789, 'blocking': 1102, 'security': 9651, 'sign': 10024, 'interviewer': 5590, 'aestheticsweet': 162, 'longsleeves': 6386, 'challenging': 1765, 'unicorn': 12103, 'cruise': 2607, 'greece': 4808, 'springfall': 10606, 'winder': 12747, 'perfec': 8042, 'mih': 6884, 'wld': 12800, 'navel': 7195, 'gradually': 4744, 'skyhigh': 10175, 'dish': 3120, 'hydrogen': 5332, 'peroxide': 8079, 'manner': 6626, 'antistatic': 412, 'pantyline': 7898, 'static': 10686, 'tightsboots': 11574, 'appropriately': 474, 'contract': 2349, 'largely': 6054, 'slimminga': 10234, 'sothere': 10489, 'immodest': 5389, 'celebration': 1739, 'abovetheknee': 17, 'chandelier': 1774, 'earring': 3432, 'terrified': 11353, 'posed': 8407, 'creater': 2539, 'identical': 5353, 'intense': 5566, 'complained': 2216, 'skintoned': 10157, 'steamer': 10701, 'weekday': 12561, 'weekendwflats': 12565, 'collarlapels': 2070, 'jet': 5826, 'colordye': 2090, 'dense': 2920, 'ensures': 3622, 'subtly': 10942, 'raincoat': 8799, 'diagonalopening': 3016, 'sixty': 10094, 'eventually': 3705, 'dubious': 3388, 'video': 12322, 'wondered': 12812, 'massaged': 6675, 'photoshop': 8134, 'frequently': 4430, 'curvyathletic': 2658, 'asymmetric': 606, 'stupid': 10901, 'user': 12222, 'beachy': 848, 'immensely': 5388, 'pokerstraight': 8331, 'toddler': 11626, 'residual': 9133, 'movability': 7086, 'integrity': 5562, 'pri': 8536, 'midline': 6864, 'heard': 5006, 'shout': 9969, 'borrow': 1254, 'tendd': 11331, 'midwe': 6879, 'lanky': 6040, 'creamdeep': 2525, 'mad': 6561, 'problematic': 8580, 'tinier': 11593, 'grommet': 4853, 'looseness': 6441, 'feline': 4015, 'satin': 9519, 'appetite': 455, 'enjoying': 3610, 'underlying': 12031, 'roomnot': 9347, 'gorjuss': 4724, 'storei': 10772, 'yoself': 13007, 'skinthis': 10154, 'achieved': 79, 'purchaseyou': 8705, 'judy': 5862, 'jetson': 5827, 'dec': 2806, 'intheir': 5594, 'staring': 10673, 'face': 3878, 'seti': 9736, 'flowered': 4274, 'throughthe': 11521, 'nanny': 7171, 'playful': 8278, 'discerning': 3099, 'roominess': 9346, 'therei': 11415, 'knowonce': 5979, 'ov': 7744, 'lengthi': 6198, 'bothersome': 1262, 'sheerish': 9815, 'formallydepending': 4368, 'wife': 12726, 'worthy': 12871, 'motifso': 7073, 'teach': 11290, 'barre': 811, 'flap': 4172, 'cartwheel': 1685, 'whihc': 12653, 'cheaper': 1803, 'anticipating': 407, 'shirtlike': 9866, 'costumeor': 2427, 'parachute': 7904, 'defin': 2859, 'occasionally': 7497, 'withou': 12792, 'arrow': 548, 'swimwear': 11151, 'internship': 5584, 'popping': 8396, 'cartonnier': 1682, 'exampl': 3743, 'maine': 6587, 'som': 10447, 'carefully': 1663, 'positioned': 8409, 'boxyness': 1304, 'curiosity': 2638, 'shortening': 9907, 'cowled': 2487, 'donating': 3205, 'closefit': 2002, 'whoever': 12695, 'receives': 8898, 'jutting': 5890, 'picking': 8146, 'dust': 3407, 'lint': 6312, 'coobie': 2372, 'normall': 7397, 'eat': 3452, 'boxed': 1291, 'petit': 8098, 'melon': 6783, 'backtoback': 739, 'prebaby': 8464, 'materialeverything': 6691, 'maintaining': 6593, 'drooling': 3355, 'bustya': 1519, 'updated': 12176, 'nye': 7466, 'drinking': 3347, 'buildthis': 1460, 'methe': 6830, 'oklahoma': 7554, 'mesh': 6812, 'eh': 3485, 'reinforced': 9017, 'ripping': 9293, 'dirt': 3076, 'coordinate': 2389, 'invested': 5615, 'smallertighter': 10298, 'maker': 6602, 'pa': 7820, 'welleven': 12602, 'serif': 9727, 'midrise': 6870, 'saffron': 9445, 'eitherhow': 3494, 'grabbing': 4734, 'blueness': 1149, 'clown': 2022, 'monstrosity': 7032, 'summerlike': 10991, 'measument': 6740, 'acceptable': 45, 'elegantly': 3514, 'handle': 4924, 'treatment': 11800, 'fussy': 4511, 'firstly': 4107, 'actuality': 97, 'petal': 8094, 'sandy': 9502, 'paleface': 7854, 'sunny': 11008, 'sunshine': 11013, 'pieced': 8172, 'obscene': 7483, 'sensitive': 9708, 'allovertheplace': 268, 'seamed': 9612, 'lengthy': 6209, 'blob': 1099, 'knitlike': 5963, 'shallow': 9770, 'pricy': 8549, 'whitetanblack': 12686, 'smallmed': 10311, 'coored': 2392, 'stuggle': 10891, 'justiceit': 5882, 'cottonvery': 2443, 'casuali': 1699, 'essence': 3674, 'flawed': 4216, 'delivers': 2902, 'previously': 8533, 'garish': 4547, 'plunging': 8309, 'hoisted': 5171, 'everthing': 3711, 'cone': 2272, 'hideous': 5089, 'revealed': 9216, 'rug': 9400, 'thumb': 11533, 'asap': 558, 'notsoskinny': 7429, 'pantsskirts': 7890, 'camitank': 1604, 'disturbed': 3158, 'throughou': 11518, 'crinkly': 2564, 'shy': 10002, 'waaay': 12387, 'gathering': 4559, 'hightight': 5115, 'purchasethe': 8704, 'embroi': 3556, 'thier': 11442, 'thickheavy': 11433, 'slinky': 10240, 'unike': 12106, 'slinkiness': 10239, 'prettiest': 8519, 'adoreworthy': 147, 'shortsi': 9922, 'confidence': 2276, 'drawer': 3280, 'pretties': 8518, 'delicates': 2892, 'rate': 8825, 'meat': 6745, 'sea': 9606, 'foam': 4312, 'blown': 1133, 'aize': 233, 'goodjust': 4699, 'widerib': 12721, 'scaled': 9549, 'proportionately': 8629, 'bar': 800, 'continued': 2340, 'basis': 819, 'victorian': 12321, 'speck': 10549, 'ash': 561, 'dresschecked': 3306, 'feminie': 4027, 'forming': 4375, 'geared': 4571, 'couture': 2468, 'amazon': 338, 'descriptor': 2950, 'feedback': 4004, 'respect': 9144, 'differ': 3036, 'reviewe': 9229, 'reduce': 8959, 'ring': 9288, 'tangled': 11236, 'grandma': 4752, 'wood': 12823, 'photographed': 8128, 'imagined': 5377, 'dressey': 3313, 'waiste': 12403, 'elongatesy': 3534, 'layes': 6115, 'topno': 11694, 'al': 238, 'strapped': 10814, 'strained': 10797, 'distracting': 3148, 'ibs': 5342, 'lowest': 6498, 'flax': 4220, 'marring': 6656, 'requiring': 9119, 'cafe': 1573, 'unnecessarily': 12125, 'longwh': 6394, 'twirling': 11934, 'banding': 792, 'voluptuous': 12372, 'brownpurple': 1425, 'tier': 11552, 'liittle': 6260, 'horribly': 5228, 'billowed': 1009, 'circus': 1925, 'weirdly': 12590, 'professorial': 8599, 'partly': 7919, 'professor': 8598, 'onlinethen': 7600, 'priceyikes': 8546, 'hurray': 5321, 'bralettes': 1328, 'flatten': 4192, 'daisytype': 2719, 'chemical': 1827, 'akemi': 236, 'kin': 5933, 'compensate': 2212, 'surf': 11055, 'korkease': 5985, 'peruvian': 8090, 'opal': 7623, 'slipit': 10244, 'odering': 7515, 'moon': 7044, 'lake': 6032, 'timely': 11587, 'refernce': 8974, 'survived': 11076, 'markdown': 6646, 'fluffy': 4298, 'rednavy': 8952, 'ribbing': 9250, 'alter': 305, 'elongating': 3535, 'enjoyed': 3609, 'aaaaaaamazing': 1, 'impeccable': 5394, 'loosley': 6448, 'disguising': 3117, 'halfthanks': 4907, 'moo': 7040, 'history': 5159, 'developing': 3007, 'slubby': 10275, 'purplegrey': 8712, 'moderate': 6996, 'oval': 7745, 'perfectlythe': 8060, 'versus': 12304, 'lush': 6539, 'rustic': 9421, 'muffin': 7111, 'materialpattern': 6694, 'clay': 1960, 'girly': 4629, 'chunk': 1907, 'hacked': 4892, 'shirtdress': 9862, 'moved': 7090, 'rewarded': 9242, 'casu': 1694, 'pantsthe': 7892, 'buttery': 1535, 'gonga': 4693, 'martini': 6663, 'europe': 3692, 'pinkvery': 8223, 'jeansskirts': 5811, 'handmade': 4927, 'biased': 978, 'itgorgeous': 5715, 'afford': 167, 'approach': 469, 'desperate': 2973, 'uncertain': 12003, 'regretting': 9004, 'unavailable': 11990, 'rejected': 9020, 'cautious': 1724, 'twill': 11929, 'nailed': 7166, 'howe': 5260, 'yarnthread': 12959, 'mixture': 6966, 'celadon': 1737, 'concentrate': 2257, 'remains': 9055, 'ethereal': 3685, 'floating': 4251, 'chartreuse': 1797, 'threwonmyboyfriendsshirt': 11510, 'fly': 4309, 'heaven': 5020, 'goal': 4671, 'pilcos': 8185, 'comfortablet': 2169, 'theo': 11404, 'nly': 7351, 'bug': 1455, 'methis': 6832, 'mei': 6776, 'macrame': 6560, 'constant': 2312, 'rotation': 9367, 'fake': 3905, 'emphasizes': 3570, 'garnet': 4552, 'hill': 5126, 'float': 4250, 'disguise': 3115, 'somethings': 10456, 'bridalbaby': 1370, 'sorbet': 10478, 'pallette': 7862, 'exist': 3776, 'prominent': 8605, 'jeansnecklaces': 5804, 'overruled': 7786, 'acacia': 34, 'cutaway': 2673, 'unveil': 12161, 'fabiric': 3852, 'stretchier': 10837, 'seat': 9633, 'modelbut': 6983, 'woolfeeling': 12829, 'sizei': 10106, 'horrid': 5229, 'downup': 3250, 'reserve': 9129, 'voilelike': 12366, 'avoids': 686, 'substitute': 10938, 'burst': 1503, 'laughing': 6092, 'flabbergasted': 4158, 'charging': 1785, 'counter': 2454, 'cuteness': 2683, 'hottermore': 5247, 'pre': 8462, 'trimester': 11821, 'fittts': 4145, 'imho': 5380, 'rayonpolyester': 8844, 'semisheer': 9698, 'consistency': 2309, 'webbed': 12544, 'underarms': 12020, 'astounded': 601, 'cro': 2580, 'bib': 979, 'nicelysurprisingly': 7317, 'pushing': 8726, 'wellthis': 12619, 'fragile': 4401, 'resulting': 9164, 'be': 840, 'lucked': 6515, 'rodeo': 9323, 'emphasize': 3568, 'clever': 1976, 'eyeglass': 3844, 'sunglass': 11003, 'longmaxi': 6382, 'anyhow': 420, 'arri': 540, 'sienna': 10019, 'blood': 1108, 'jerseytype': 5825, 'mediumand': 6756, 'latter': 6087, 'tankcami': 11240, 'vintagey': 12336, 'dozen': 3255, 'incident': 5437, 'secured': 9648, 'annoyance': 383, 'separately': 9717, 'adjusted': 127, 'slightest': 10222, 'seashell': 9621, 'collected': 2075, 'diego': 3031, 'confusion': 2291, 'meaning': 6736, 'fabulously': 3877, 'pantsbut': 7880, 'hypen': 5334, 'shoesaccessories': 9886, 'polite': 8341, 'underwearbikinicrossfit': 12054, 'pressed': 8509, 'juice': 5863, 'venice': 12277, 'morning': 7055, 'perfectit': 8050, 'accurately': 76, 'moulinette': 7081, 'soeurs': 10411, 'recovering': 8930, 'covering': 2476, 'interestingly': 5576, 'reality': 8867, 'caftan': 1574, 'allusion': 279, 'optical': 7650, 'attn': 646, 'wet': 12630, 'sown': 10507, 'lacey': 6007, 'india': 5467, 'strike': 10854, 'decolltagebut': 2828, 'purely': 8710, 'enlarged': 3612, 'irks': 5629, 'relies': 9043, 'elated': 3504, 'camel': 1593, 'canvas': 1628, 'exam': 3741, 'xssm': 12939, 'hangerin': 4942, 'printscolors': 8565, 'floofs': 4254, 'dumpy': 3398, 'speak': 10536, 'sucking': 10954, 'struggling': 10878, 'lbsand': 6123, 'gain': 4522, 'butstill': 1529, 'cheshire': 1833, 'awkwardbunchy': 705, 'widely': 12714, 'misshapen': 6953, 'hunchback': 5310, 'jackson': 5775, 'owl': 7814, 'favor': 3979, 'desired': 2970, 'wearin': 12531, 'hourglassathletic': 5252, 'hipsbooty': 5146, 'men': 6789, 'isugary': 5680, 'guy': 4883, 'worthwhile': 12870, 'maintains': 6594, 'corsetlike': 2419, 'function': 4494, 'unexpectedly': 12078, 'bank': 796, 'account': 72, 'ur': 12209, 'cali': 1582, 'speckle': 10550, 'peite': 8008, 'minimizes': 6915, 'forewarned': 4350, 'noting': 7424, 'entering': 3625, 'stratosphere': 10821, 'crazycatlady': 2519, 'ausually': 664, 'volumptuous': 12371, 'absolute': 20, 'baffled': 749, 'social': 10408, 'army': 532, 'instant': 5543, 'toe': 11628, 'hoodie': 5206, 'dramatic': 3263, 'picturesyou': 8165, 'unsecured': 12143, 'cable': 1567, 'smallish': 10306, 'shirtlove': 9867, 'yellowy': 12981, 'breathe': 1357, 'ergo': 3654, 'nonobvious': 7380, 'modesty': 7001, 'standpoint': 10662, 'reno': 9084, 'distribution': 3155, 'tinge': 11592, 'proportionate': 8628, 'ratio': 8831, 'skosh': 10173, 'cu': 2618, 'loom': 6417, 'pizzazz': 8248, 'suedelike': 10961, 'stage': 10647, 'defense': 2856, 'flar': 4175, 'story': 10778, 'addict': 104, 'frontback': 4452, 'highrise': 5113, 'jeansprobably': 5809, 'whisking': 12668, 'reviewersthey': 9233, 'delicatecold': 2887, 'destined': 2976, 'vback': 12265, 'detaili': 2985, 'naught': 7192, 'doover': 3212, 'qa': 8737, 'nto': 7444, 'waht': 12393, 'sued': 10959, 'lvoe': 6546, 'equal': 3649, 'weightier': 12578, 'freshsp': 4434, 'maza': 6729, 'ivoryisn': 5751, 'thinsee': 11470, 'admittedly': 139, 'pickswell': 8147, 'doentt': 3179, 'petitesso': 8104, 'suck': 10951, 'sie': 10018, 'htough': 5280, 'greayish': 4806, 'stil': 10737, 'lcan': 6130, 'overtime': 7804, 'boxiness': 1296, 'fleck': 4222, 'hid': 5086, 'pounced': 8443, 'enroute': 3618, 'sizehowever': 10105, 'pippa': 8236, 'sailor': 9460, 'pepto': 8029, 'bismal': 1030, 'young': 13009, 'fondly': 4330, 'liiiiiittle': 6259, 'manageable': 6615, 'client': 1982, 'skort': 10171, 'lead': 6134, 'lifestyle': 6235, 'quarter': 8752, 'conscious': 2299, 'nobrainer': 7352, 'bi': 976, 'onl': 7592, 'packing': 7828, 'activewear': 94, 'beforehand': 904, 'highlighted': 5105, 'thoroughly': 11490, 'underwhelmed': 12057, 'jeansthe': 5813, 'broken': 1401, 'thembut': 11395, 'elevate': 3519, 'moreover': 7051, 'overthetop': 7803, 'cutesy': 2690, 'minority': 6924, 'shouldersarms': 9950, 'pilate': 8181, 'distinction': 3140, 'overlooked': 7777, 'dressi': 3315, 'struck': 10872, 'cheapon': 1808, 'cleaned': 1963, 'thesis': 11423, 'suburban': 10943, 'perfectlength': 8051, 'bustwaist': 1516, 'itexchanging': 5713, 'festive': 4034, 'reconsider': 8926, 'classier': 1953, 'sweaterlove': 11117, 'naturally': 7189, 'montclair': 7035, 'lavendar': 6100, 'sizewise': 10127, 'ultimate': 11971, 'grecian': 4807, 'superskinny': 11029, 'graduated': 4745, 'music': 7139, 'uber': 11957, 'tastefully': 11266, 'aged': 188, 'conformable': 2284, 'criticism': 2577, 'dolmanstyledrop': 3195, 'reshaped': 9131, 'smallershorter': 10297, 'prevented': 8529, 'youthfull': 13014, 'htey': 5277, 'htem': 5275, 'hipefully': 5137, 'remain': 9051, 'wuality': 12925, 'trusted': 11848, 'surely': 11054, 'circulation': 1922, 'armsshouldersback': 529, 'insubstantial': 5552, 'nred': 7443, 'digit': 3051, 'colorsit': 2110, 'layeringcomfortable': 6111, 'necklineand': 7246, 'uncomfortably': 12008, 'yelling': 12968, 'seeming': 9662, 'costumey': 2429, 'drapery': 3270, 'beigecream': 916, 'represents': 9111, 'wth': 12923, 'tiered': 11553, 'dressthe': 3333, 'limp': 6281, 'risking': 9302, 'smear': 10331, 'scratch': 9579, 'wrestling': 12899, 'choking': 1885, 'mefunny': 6773, 'sufficient': 10963, 'theory': 11405, 'perennial': 8039, 'temperate': 11321, 'seattle': 9638, 'stylishlove': 10922, 'coordinating': 2391, 'advise': 156, 'successfully': 10947, 'lecturing': 6155, 'undergrad': 12025, 'burlap': 1497, 'casualfestive': 1698, 'comforta': 2156, 'hunting': 5318, 'baggish': 758, 'picturedslightly': 8158, 'wri': 12901, 'ill': 5365, 'translates': 11780, 'flatout': 4190, 'drove': 3369, 'action': 91, 'married': 6655, 'cab': 1564, 'curb': 2636, 'dindt': 3061, 'beautifulwhite': 882, 'jade': 5777, 'comfythese': 2184, 'winwin': 12772, 'yr': 13016, 'tightersmaller': 11567, 'okso': 7555, 'break': 1344, 'timehand': 11584, 'dusty': 3412, 'wrinklednot': 12907, 'headed': 4992, 'sizefits': 10103, 'rightnot': 9282, 'loooong': 6420, 'individual': 5476, 'pooled': 8381, 'erring': 3661, 'fa': 3850, 'ia': 5338, 'wonderfullymade': 12818, 'sandles': 9499, 'horrified': 5231, 'babydoll': 715, 'anythingtights': 430, 'angela': 369, 'tv': 11920, 'accordingly': 70, 'stiffness': 10733, 'dipping': 3069, 'undertsated': 12052, 'tru': 11838, 'whiteyellow': 12690, 'risky': 9303, 'thisa': 11475, 'taupecolored': 11275, 'blazerlike': 1074, 'shied': 9830, 'reduced': 8960, 'optimistic': 7652, 'bluegray': 1141, 'budget': 1454, 'oth': 7695, 'troublesome': 11834, 'repeated': 9096, 'fussing': 4510, 'gallery': 4528, 'giv': 4631, 'shirtstunics': 9873, 'finger': 4088, 'crossed': 2594, 'unfort': 12094, 'mossysage': 7063, 'lslightly': 6508, 'greenville': 4825, 'arriveand': 543, 'handwash': 4931, 'honesti': 5196, 'exaggeration': 3740, 'flub': 4288, 'ligher': 6240, 'bcup': 838, 'recognized': 8914, 'intent': 5568, 'judging': 5860, 'bodycon': 1183, 'anti': 404, 'differentenough': 3040, 'doublesided': 3225, 'jacketscoats': 5766, 'softened': 10421, 'seated': 9635, 'bloated': 1098, 'unforced': 12090, 'sexified': 9753, 'determine': 2994, 'ocassionally': 7493, 'nyc': 7465, 'rooftop': 9342, 'ghillie': 4606, 'enter': 3624, 'steam': 10699, 'scooped': 9569, 'curled': 2641, 'sofa': 10413, 'movie': 7093, 'softbreathable': 10417, 'dressesi': 3311, 'element': 3516, 'bomberstyle': 1208, 'colsely': 2134, 'mentione': 6800, 'toosh': 11666, 'rank': 8815, 'ie': 5354, 'hawaii': 4985, 'native': 7186, 'american': 344, 'errs': 3663, 'nottight': 7431, 'hippelvis': 5143, 'watched': 12494, 'labor': 5996, 'ahh': 209, 'diaper': 3019, 'mate': 6686, 'share': 9790, 'normalsized': 7400, 'letter': 6217, 'envelope': 3633, 'cottoney': 2435, 'shirtpants': 9868, 'zigzag': 13028, 'regained': 8993, 'sincerely': 10066, 'fate': 3961, 'awaiting': 689, 'weari': 12530, 'doubled': 3220, 'pintucked': 8231, 'pi': 8141, 'irritatingly': 5645, 'attendant': 636, 'edgey': 3467, 'smoky': 10345, 'meek': 6768, 'attach': 627, 'alternately': 311, 'reveals': 9219, 'beef': 903, 'herringbone': 5074, 'converted': 2368, 'stunningly': 10900, 'lxl': 6549, 'dictated': 3023, 'abstract': 26, 'shap': 9774, 'sisterinlaw': 10083, 'bridesmaid': 1372, 'accessorized': 52, 'ponchoswing': 8363, 'automatically': 668, 'saleonsale': 9469, 'begging': 906, 'doable': 3172, 'fabricliner': 3864, 'fin': 4073, 'filmy': 4071, 'retu': 9202, 'supersale': 11026, 'numbered': 7453, 'jar': 5789, 'jam': 5780, 'spoon': 10587, 'gladiator': 4639, 'dose': 3214, 'secondhand': 9641, 'succumbed': 10950, 'temptation': 11324, 'sheersee': 9820, 'compromised': 2249, 'wideleg': 12710, 'incorporate': 5453, 'footwear': 4340, 'chemicaltype': 1828, 'airing': 224, 'calming': 1588, 'nonstretchy': 7388, 'overhang': 7766, 'accentuating': 42, 'navygray': 7201, 'rinse': 9289, 'anklelength': 378, 'impress': 5407, 'browsing': 1428, 'earthy': 3436, 'glow': 4667, 'altering': 309, 'categorize': 1712, 'deliver': 2900, 'heal': 4998, 'excessively': 3758, 'cottonlinen': 2438, 'kansa': 5897, 'wor': 12834, 'definately': 2860, 'apply': 461, 'wherever': 12648, 'bagger': 753, 'unmodest': 12122, 'isupposed': 5683, 'coverupbut': 2479, 'nightwith': 7336, 'overpowered': 7783, 'fav': 3976, 'cedar': 1734, 'ive': 5746, 'ber': 950, 'waterproof': 12500, 'heavily': 5024, 'insulated': 5554, 'shield': 9831, 'brisk': 1389, 'issuei': 5673, 'slipping': 10251, 'buckle': 1450, 'mediumsize': 6760, 'airdrying': 220, 'encourage': 3584, 'source': 10497, 'branddesigner': 1331, 'nevery': 7296, 'defectiveit': 2855, 'midway': 6878, 'waistlineso': 12413, 'cardiganboots': 1652, 'shook': 9890, 'prob': 8574, 'flowly': 4283, 'stunner': 10898, 'bride': 1371, 'groom': 4854, 'bryon': 1438, 'thinlightweight': 11462, 'verall': 12284, 'complementary': 2223, 'fight': 4050, 'kneeso': 5958, 'mood': 7041, 'eve': 3696, 'graypurple': 4776, 'sipper': 10078, 'reinforces': 9019, 'boarder': 1173, 'skir': 10161, 'lovelier': 6480, 'mocha': 6974, 'latte': 6086, 'prefers': 8483, 'ivorycream': 5749, 'toasty': 11620, 'dreaded': 3287, 'england': 3602, 'richly': 9262, 'jewel': 5828, 'confining': 2278, 'spacious': 10513, 'employee': 3573, 'doo': 3210, 'smelled': 10333, 'designpattern': 2965, 'artsy': 554, 'outthere': 7735, 'buttoms': 1538, 'elastized': 3503, 'creasing': 2536, 'dthe': 3385, 'gorgeousthe': 4717, 'satiny': 9521, 'decadent': 2808, 'knockout': 5972, 'demin': 2906, 'fullbaggy': 4474, 'score': 9570, 'restricting': 9157, 'leggy': 6175, 'purportedly': 8717, 'staying': 10696, 'airconditioned': 217, 'lyocel': 6553, 'rushed': 9418, 'useless': 12221, 'pokey': 8332, 'sensational': 9704, 'lotus': 6462, 'sometime': 10457, 'inadequate': 5422, 'profile': 8600, 'dragging': 3260, 'sandalswedges': 9495, 'jumped': 5867, 'gamble': 4530, 'oood': 7617, 'erin': 3656, 'fetherston': 4035, 'practically': 8453, 'rtw': 9384, 'knockoff': 5971, 'creep': 2549, 'petiteregular': 8101, 'anniversaryi': 382, 'relaxing': 9033, 'bcasue': 837, 'ittoo': 5739, 'anothr': 390, 'looseflowy': 6436, 'littl': 6330, 'cahrm': 1578, 'proably': 8573, 'smallas': 10289, 'fellow': 4017, 'pointed': 8326, 'peachmauve': 7978, 'crepey': 2553, 'neccissarily': 7229, 'wavy': 12504, 'hearing': 5007, 'windy': 12752, 'sizesi': 10116, 'chicago': 1851, 'miracle': 6935, 'exaggerating': 3739, 'catching': 1710, 'dilemma': 3052, 'generate': 4580, 'marry': 6657, 'twin': 11930, 'inwas': 5623, 'loud': 6463, 'upsize': 12200, 'shortsleeved': 9926, 'complaining': 2217, 'ishell': 5655, 'jeansbooties': 5798, 'wout': 12880, 'wayyyyy': 12514, 'hundo': 5311, 'laughable': 6090, 'longtoo': 6391, 'brownmocha': 1424, 'eliminating': 3526, 'loook': 6418, 'lopsided': 6451, 'vowed': 12376, 'concealed': 2254, 'narrowest': 7180, 'cleverit': 1977, 'stocking': 10753, 'feeti': 4012, 'dancing': 2733, 'sumo': 10995, 'wrestler': 12898, 'atlanta': 625, 'whic': 12652, 'doublegauze': 3222, 'bat': 823, 'lightcolored': 6243, 'organ': 7682, 'organist': 7684, 'itany': 5694, 'lat': 6078, 'sentimental': 9714, 'businesscasual': 1506, 'suggesting': 10967, 'stopper': 10766, 'feared': 3990, 'chestarms': 1836, 'materialitem': 6693, 'vary': 12261, 'blacki': 1056, 'fond': 4329, 'lengthened': 6194, 'exquisitely': 3822, 'removing': 9079, 'weekly': 12566, 'equivalent': 3652, 'sweetheart': 11140, 'frontbut': 4453, 'varies': 12258, 'handy': 4936, 'pushed': 8723, 'me': 6730, 'demosilles': 2911, 'incorporates': 5454, 'catcher': 1709, 'lifted': 6238, 'continues': 2341, 'increase': 5458, 'listening': 6320, 'reliable': 9040, 'topmedium': 11693, 'poodle': 8372, 'estatic': 3678, 'pillowcase': 8201, 'attempting': 634, 'compete': 2213, 'overallit': 7754, 'lacyshowme': 6016, 'alli': 262, 'alteredbut': 308, 'wasa': 12466, 'hasnt': 4973, 'tested': 11359, 'vinyasa': 12337, 'autumnal': 670, 'cheapish': 1804, 'seasonevery': 9628, 'imaginable': 5374, 'ropethread': 9357, 'disintegrated': 3121, 'reattach': 8884, 'sympath': 11182, 'holdup': 5178, 'diamond': 3018, 'medlrg': 6766, 'irresistibly': 5641, 'orangeand': 7657, 'styleit': 10914, 'fallspringwinter': 3918, 'beautify': 884, 'impression': 5410, 'throwaway': 11524, 'rectangle': 8932, 'tooalbeit': 11653, 'gently': 4590, 'moomoo': 7043, 'fla': 4156, 'tablecloth': 11194, 'distinctly': 3142, 'sml': 10339, 'armhoes': 514, 'chosenit': 1895, 'grown': 4862, 'amenable': 343, 'straplessand': 10812, 'doesand': 3180, 'lattice': 6088, 'unbuttoning': 12002, 'handled': 4925, 'hassle': 4975, 'waistnot': 12414, 'skinnyso': 10152, 'timeoh': 11588, 'necklacealways': 7242, 'bridging': 1374, 'english': 3603, 'bestowed': 962, 'choicebeautiful': 1880, 'sundry': 11001, 'beachit': 846, 'anywhereeven': 436, 'requirement': 9117, 'shirttail': 9875, 'oomph': 7615, 'opting': 7653, 'contortionist': 2345, 'yo': 12998, 'impractical': 5406, 'amsterdam': 357, 'purplish': 8715, 'asis': 570, 'embroider': 3557, 'giddy': 4612, 'rely': 9048, 'tegan': 11316, 'laugh': 6089, 'raided': 8793, 'soften': 10420, 'indicate': 5469, 'etcbecause': 3683, 'yetbut': 12993, 'figurehugging': 4058, 'bainbridge': 766, 'leatherfaux': 6149, 'evanthe': 3695, 'redwine': 8963, 'fallwinterholiday': 3921, 'radiant': 8786, 'iside': 5660, 'boobarmpit': 1218, 'amterial': 358, 'flowey': 4279, 'ingest': 5497, 'itnended': 5726, 'aame': 5, 'apttern': 488, 'ahve': 213, 'blonde': 1107, 'rage': 8789, 'periwinkle': 8074, 'ishorts': 5658, 'dislike': 3123, 'sutble': 11082, 'mod': 6978, 'midlower': 6865, 'softbut': 10418, 'sill': 10038, 'interfered': 5577, 'princess': 8554, 'rouching': 9369, 'polyblend': 8349, 'linedbut': 6287, 'intending': 5565, 'protrusion': 8639, 'taffeta': 11201, 'caliber': 1583, 'nonissue': 7378, 'gracefully': 4738, 'classicand': 1948, 'touching': 11735, 'uiu': 11969, 'fisher': 4109, 'murder': 7129, 'mystery': 7159, 'downton': 3248, 'abbey': 7, 'eliott': 3527, 'sas': 9511, 'nonsolid': 7385, 'wearbaby': 12527, 'bluebut': 1139, 'fabricits': 3863, 'ensemble': 3619, 'curvyand': 2657, 'flounce': 4267, 'rubbing': 9390, 'drama': 3262, 'adored': 146, 'anth': 397, 'motion': 7074, 'sideslits': 10012, 'max': 6720, 'piety': 8178, 'concensus': 2256, 'throu': 11517, 'buttonsi': 1549, 'sacrificing': 9434, 'wether': 12631, 'bulkytrue': 1472, 'remadetailored': 9050, 'houston': 5257, 'westher': 12628, 'eagerly': 3423, 'awaited': 688, 'necklne': 7248, 'overweight': 7807, 'corny': 2410, 'inspires': 5536, 'barefoot': 803, 'field': 4045, 'provence': 8644, 'mesmerizing': 6815, 'bagging': 757, 'poofiness': 8376, 'unbelted': 11999, 'stats': 10690, 'switched': 11168, 'practice': 8455, 'involve': 5620, 'redblue': 8939, 'diff': 3034, 'fallperfect': 3914, 'sf': 9760, 'bay': 834, 'sexiness': 9754, 'desert': 2951, 'speckled': 10551, 'roof': 9341, 'shingle': 9845, 'droppy': 3365, 'sotospeak': 10490, 'zone': 13041, 'reviewed': 9230, 'petty': 8116, 'odrdered': 7517, 'swaeter': 11087, 'wil': 12731, 'ke': 5899, 'ausaria': 661, 'infinity': 5489, 'plusno': 8314, 'comfortablei': 2163, 'largeextra': 6050, 'sofisticated': 10414, 'striping': 10864, 'spirited': 10570, 'fluctuating': 4291, 'packaged': 7825, 'unfolded': 12088, 'freely': 4421, 'georgette': 4595, 'branding': 1334, 'bellow': 929, 'lo': 6343, 'tshirtsweater': 11861, 'rollup': 9335, 'wornwashed': 12862, 'shirtskirt': 9870, 'fr': 4398, 'soaked': 10402, 'bleu': 1088, 'twisty': 11940, 'curveseven': 2653, 'thorax': 11488, 'internet': 5583, 'direction': 3073, 'rippled': 9295, 'eva': 3694, 'franco': 4410, 'ante': 395, 'record': 8928, 'tapering': 11257, 'universally': 12115, 'skirtsit': 10168, 'qua': 8739, 'sprang': 10598, 'downhill': 3237, 'cashier': 1689, 'rural': 9416, 'mosaic': 7058, 'chunkiness': 1908, 'unexciting': 12076, 'shee': 9808, 'cocoon': 2048, 'chuck': 1903, 'saleonly': 9468, 'purchaser': 8703, 'penguin': 8017, 'yearold': 12966, 'squealed': 10628, 'woodlandinspired': 12826, 'enamor': 3578, 'ecstatic': 3462, 'outing': 7724, 'tasting': 11269, 'pefect': 8005, 'amking': 346, 'irritable': 5642, 'comfotably': 2175, 'litle': 6327, 'tw': 11921, 'harper': 4970, 'spiffy': 10562, 'holy': 5185, 'cow': 2483, 'tame': 11229, 'wed': 12549, 'crawl': 2516, 'ball': 772, 'skintonecoral': 10156, 'extends': 3827, 'winning': 12763, 'favoriteit': 3983, 'mara': 6637, 'hoffman': 5169, 'sorely': 10481, 'switch': 11167, 'curl': 2640, 'bubble': 1445, 'utility': 12234, 'blow': 1132, 'wellcant': 12595, 'kneesi': 5955, 'puffed': 8664, 'flanneltype': 4170, 'cou': 2446, 'interior': 5578, 'bulkly': 1469, 'esp': 3667, 'pd': 7970, 'largeit': 6052, 'indoors': 5478, 'building': 1459, 'blasting': 1071, 'casualluxe': 1701, 'paperthe': 7901, 'foil': 4317, 'sizethe': 10123, 'winneri': 12761, 'faced': 3880, 'rave': 8835, 'budge': 1453, 'opposite': 7643, 'glass': 4649, 'whatwasithinking': 12641, 'newly': 7301, 'pudge': 8661, 'bikinionly': 1005, 'recom': 8916, 'yep': 12983, 'tickled': 11543, 'death': 2799, 'aesthetically': 159, 'pleasing': 8291, 'article': 550, 'speaks': 10539, 'eight': 3489, 'largemight': 6055, 'ne': 7218, 'maui': 6716, 'update': 12175, 'artist': 552, 'dated': 2761, 'difficulty': 3047, 'limit': 6278, 'shapewear': 9787, 'rescue': 9121, 'conversely': 2366, 'itthe': 5736, 'intricacy': 5601, 'stylebut': 10907, 'spark': 10526, 'conversation': 2363, 'durablei': 3403, 'gre': 4785, 'lookedfit': 6403, 'filipino': 4066, 'darktan': 2753, 'sizedup': 10101, 'welldefined': 12598, 'blousing': 1128, 'turning': 11907, 'confess': 2275, 'moonlight': 7045, 'wetsuit': 12633, 'silicone': 10030, 'farrah': 3945, 'fawcett': 3986, 'stray': 10824, 'skimpy': 10146, 'shouldersnecksleeves': 9963, 'monitor': 7025, 'vintagestyl': 12335, 'andhonestlythey': 364, 'salmon': 9483, 'doublev': 3227, 'everytime': 3723, 'mismatch': 6944, 'slash': 10182, 'acceptabl': 44, 'ons': 7601, 'looged': 6397, 'int': 5558, 'lookout': 6412, 'withstand': 12795, 'minimalist': 6910, 'highl': 5102, 'magnification': 6576, 'atbelow': 610, 'hooded': 5205, 'overexposed': 7763, 'suction': 10955, 'nigh': 7328, 'bodyand': 1182, 'widelegs': 12712, 'maturity': 6714, 'aroundstylefit': 537, 'justifiable': 5884, 'messlighter': 6821, 'sinch': 10068, 'iike': 5361, 'canamp': 1616, 'iamp': 5339, 'amp': 353, 'petitie': 8107, 'longevity': 6374, 'referenced': 8973, 'weakness': 12519, 'skit': 10170, 'colorsdesign': 2106, 'smallxsmall': 10327, 'linebacker': 6285, 'pad': 7829, 'protruding': 8638, 'harkened': 4967, 'punk': 8686, 'plastic': 8269, 'pictur': 8153, 'motorcycle': 7078, 'jackpot': 5774, 'pinkishtaupebrown': 8217, 'openweave': 7634, 'chill': 1862, 'pantscargo': 7881, 'skinniest': 10150, 'compression': 2247, 'boodie': 1222, 'tightbaggy': 11561, 'exmaple': 3781, 'hae': 4895, 'prefered': 8479, 'wellproportioned': 12611, 'boo': 1216, 'hugea': 5288, 'dresscould': 3307, 'intexas': 5592, 'sucked': 10952, 'separation': 9718, 'june': 5873, 'cameo': 1595, 'brooch': 1408, 'streamline': 10827, 'fanatic': 3934, 'fitso': 4132, 'storehad': 10771, 'beltit': 940, 'pinning': 8226, 'beaufully': 863, 'clearance': 1970, 'bin': 1015, 'georgetown': 4594, 'matte': 6708, 'nightie': 7332, 'southern': 10502, 'arriving': 547, 'shortsdress': 9920, 'sweaterscouldnt': 11120, 'bestblue': 960, 'favs': 3985, 'sooooooooooooooo': 10472, 'wildest': 12734, 'perfectlya': 8054, 'orderedand': 7674, 'cuddly': 2622, 'sticking': 10726, 'overkillunnecessary': 7770, 'vine': 12329, 'velvety': 12275, 'deceiving': 2810, 'mulling': 7117, 'graze': 4782, 'durablethey': 3404, 'boughtbecause': 1283, 'patternid': 7954, 'dreamsoooo': 3293, 'attaching': 630, 'hwy': 5330, 'colla': 2062, 'quiteappliqu': 8772, 'tod': 11622, 'thighhugging': 11444, 'rub': 9386, 'irritate': 5643, 'headneck': 4995, 'dimensional': 3056, 'weighty': 12586, 'dang': 2734, 'grows': 4863, 'poolside': 8382, 'alaska': 240, 'retailerheavy': 9170, 'insirpring': 5527, 'optionscould': 7655, 'jacketso': 5769, 'oxblood': 7818, 'shoulderchest': 9945, 'dropped': 3362, 'eno': 3613, 'nevercouldhaveguessedit': 7293, 'sagged': 9448, 'laceprinted': 6004, 'cutin': 2695, 'occasional': 7496, 'deteriorating': 2993, 'unsewn': 12144, 'overstretched': 7799, 'unraveled': 12134, 'lowquality': 6501, 'lotafter': 6460, 'boobinner': 1221, 'boobcleavage': 1219, 'beauitiful': 864, 'appliqu': 459, 'signature': 10025, 'enhancing': 3606, 'stole': 10757, 'smallliking': 10310, 'pocketsi': 8323, 'sleeveshad': 10203, 'originality': 7687, 'snatch': 10371, 'onlineit': 7597, 'seasonless': 9629, 'skip': 10159, 'altogether': 317, 'assistantstyle': 586, 'consultant': 2324, 'assumption': 594, 'stunned': 10897, 'inexpensive': 5487, 'snugness': 10398, 'significant': 10026, 'glossy': 4665, 'gloss': 4664, 'coated': 2039, 'produ': 8589, 'skier': 10141, 'comfortz': 2173, 'undnerneath': 12064, 'asthetic': 599, 'represented': 9110, 'tbale': 11284, 'elngth': 3530, 'almsot': 287, 'referenc': 8971, 'checkered': 1813, 'patten': 7948, 'creamish': 2527, 'flamingo': 4166, 'ada': 101, 'suuuuper': 11083, 'offso': 7540, 'heed': 5032, 'sacrifice': 9433, 'legsso': 6179, 'dominate': 3199, 'goodeven': 4697, 'waisthowever': 12407, 'soso': 10487, 'steaminglaundering': 10703, 'hunch': 5309, 'laundering': 6095, 'yellowgreen': 12976, 'sheathtype': 9804, 'howeverl': 5267, 'shelf': 9825, 'insetso': 5525, 'ove': 7746, 'arched': 493, 'crew': 2554, 'dressbut': 3305, 'overtheknee': 7802, 'glitzy': 4658, 'mismarked': 6943, 'hotter': 5246, 'sizenot': 10110, 'swtr': 11174, 'outweighed': 7741, 'coziness': 2495, 'tummyoverall': 11890, 'greattrue': 4804, 'incase': 5432, 'unpick': 12129, 'clo': 1995, 'stored': 10770, 'gas': 4554, 'station': 10689, 'hav': 4980, 'uhmazing': 11968, 'pantsi': 7884, 'snow': 10379, 'strategically': 10820, 'waggle': 12392, 'blacknavy': 1057, 'thighsbut': 11448, 'bluecream': 1140, 'van': 12252, 'dangly': 2741, 'minus': 6931, 'crown': 2604, 'museum': 7137, 'concert': 2264, 'carefree': 1661, 'incred': 5460, 'doubtful': 3229, 'goanywheredoanything': 4672, 'muggy': 7112, 'leng': 6187, 'seemingly': 9663, 'angora': 374, 'mohair': 7004, 'lengtharms': 6192, 'neoprene': 7276, 'disturb': 3157, 'newer': 7300, 'unnaturally': 12124, 'fewer': 4036, 'forced': 4343, 'hesitating': 5080, 'reinforcement': 9018, 'boost': 1227, 'jacquard': 5776, 'delightfully': 2898, 'luxe': 6542, 'shouldersnarrower': 9961, 'midknee': 6862, 'backed': 721, 'printcrochet': 8560, 'explains': 3813, 'fashioned': 3951, 'immediatley': 5387, 'amaz': 325, 'encouraged': 3585, 'obscures': 7485, 'embrace': 3551, 'collarlapel': 2069, 'juxtaposition': 5894, 'flaredloose': 4178, 'everleigh': 3709, 'eri': 3655, 'ali': 247, 'lululemons': 6524, 'pendant': 8016, 'bla': 1042, 'guest': 4873, 'swea': 11101, 'thinkness': 11460, 'chestarm': 1835, 'prepare': 8496, 'anticipation': 409, 'page': 7833, 'wan': 12437, 'french': 4428, 'topshoes': 11704, 'trusting': 11849, 'chicuptown': 1856, 'spattering': 10535, 'brass': 1339, 'stud': 10882, 'whitesand': 12684, 'amd': 342, 'inexplicably': 5488, 'wheelhouse': 12644, 'twenty': 11925, 'shirring': 9859, 'batty': 832, 'tolerate': 11641, 'funnelneck': 4502, 'feign': 4013, 'athleticism': 617, 'modelesque': 6985, 'innie': 5512, 'shadow': 9766, 'inand': 5424, 'tending': 11334, 'gravitate': 4764, 'messy': 6823, 'aswing': 604, 'tiokeep': 11600, 'showy': 9986, 'uncommon': 12010, 'taupetotally': 11280, 'par': 7903, 'itbut': 5695, 'glinting': 4653, 'leaflet': 6137, 'acid': 80, 'massively': 6677, 'sweep': 11135, 'handwoven': 4935, 'layout': 6118, 'lenox': 6210, 'geek': 4572, 'display': 3128, 'sepia': 9720, 'graham': 4748, 'spencer': 10555, 'exercise': 3774, 'substantive': 10937, 'highheeled': 5101, 'repel': 9097, 'trade': 11753, 'rigid': 9284, 'resistant': 9138, 'overflowing': 7765, 'fabr': 3855, 'unattractively': 11988, 'xxxxxxxxs': 12952, 'slig': 10218, 'shapesuper': 9786, 'peep': 8001, 'onesize': 7586, 'becuase': 897, 'birks': 1027, 'defiantly': 2858, 'dim': 3053, 'frist': 4446, 'themmake': 11400, 'hipsthe': 5151, 'avoided': 685, 'xlarge': 12928, 'deshn': 2955, 'transcend': 11765, 'imperfect': 5396, 'camellia': 1594, 'decked': 2823, 'leaner': 6140, 'tiger': 11557, 'piratelike': 8239, 'inspirational': 5534, 'ideasoft': 5352, 'colorwhich': 2128, 'machinewashable': 6559, 'finebut': 4082, 'finei': 4083, 'ivoryespecially': 5750, 'saving': 9538, 'blunt': 1164, 'balmy': 783, 'winterfall': 12765, 'peac': 7974, 'fluorescent': 4303, 'redorange': 8956, 'piped': 8234, 'mommy': 7016, 'witha': 12786, 'scoring': 9572, 'sting': 10742, 'pea': 7973, 'repair': 9092, 'scated': 9558, 'phoenix': 8123, 'neighborhood': 7268, 'bottomless': 1274, 'furthermore': 4506, 'lounger': 6469, 'spoton': 10595, 'rosy': 9365, 'allweather': 282, 'sleekfeeling': 10189, 'fringeit': 4444, 'spoke': 10584, 'language': 6039, 'heelits': 5037, 'dangled': 2739, 'spice': 10559, 'mockneck': 6976, 'exceeded': 3745, 'sleevesacross': 10200, 'leaning': 6141, 'topbought': 11679, 'colorswhite': 2119, 'tshirtssized': 11860, 'talking': 11220, 'vain': 12246, 'iridescent': 5627, 'unforgiving': 12092, 'acetate': 77, 'colordesign': 2089, 'elevated': 3520, 'tracked': 11750, 'majorly': 6599, 'lg': 6222, 'thisewww': 11479, 'pirate': 8238, 'convey': 2370, 'scandalous': 9552, 'reminding': 9069, 'unravel': 12133, 'burning': 1500, 'datesi': 2762, 'reported': 9106, 'nansen': 7172, 'lime': 6277, 'guard': 4869, 'slitted': 10259, 'peeked': 7998, 'mask': 6671, 'slendershaped': 10212, 'canopy': 1625, 'labeled': 5992, 'picure': 8168, 'slouchier': 10270, 'somebody': 10448, 'widened': 12716, 'addtl': 114, 'detailwork': 2989, 'bigchested': 989, 'hippie': 5144, 'magazine': 6570, 'polish': 8338, 'lithuanian': 6326, 'hilow': 5128, 'shaver': 9796, 'asummig': 603, 'dive': 3162, 'jeweled': 5829, 'laced': 5999, 'feather': 3995, 'jeansleggings': 5802, 'friendly': 4438, 'marriage': 6654, 'cascade': 1686, 'patiently': 7945, 'tencel': 11328, 'standing': 10660, 'crease': 2534, 'provided': 8646, 'shawljacket': 9798, 'blackbrown': 1047, 'sherpa': 9828, 'shapecurve': 9776, 'heartbreaker': 5010, 'refreshing': 8987, 'unsuited': 12150, 'proportionally': 8627, 'jeantype': 5817, 'leopard': 6212, 'headturner': 4996, 'brafriendly': 1321, 'rec': 8889, 'bight': 996, 'patternsmaybe': 7959, 'tailered': 11205, 'prima': 8551, 'colorwash': 2124, 'stevies': 10719, 'rana': 8808, 'gill': 4617, 'chesty': 1848, 'ocean': 7502, 'changing': 1778, 'theatre': 11390, 'moot': 7048, 'urge': 12211, 'chemiseslipnightie': 1830, 'godsend': 4676, 'solidly': 10441, 'beauti': 866, 'itthen': 5737, 'pinkcoral': 8212, 'mama': 6611, 'alright': 296, 'expens': 3798, 'fleecy': 4226, 'smudge': 10351, 'bolero': 1205, 'suddenly': 10957, 'shimmering': 9838, 'ooo': 7616, 'la': 5990, 'wrinkling': 12910, 'supremely': 11048, 'overt': 7800, 'hoxton': 5269, 'benefit': 947, 'spilling': 10566, 'eyeballing': 3841, 'ansy': 393, 'dotted': 3217, 'positively': 8411, 'sin': 10063, 'roller': 9332, 'princessy': 8556, 'mailbox': 6582, 'slitstyle': 10258, 'grad': 4741, 'appearing': 453, 'countless': 2457, 'shifting': 9834, 'weightquality': 12584, 'lazy': 6120, 'specifically': 10547, 'captivated': 1643, 'acomfortable': 82, 'vee': 12267, 'tor': 11717, 'fabricweight': 3874, 'classictraditional': 1952, 'neve': 7291, 'executed': 3772, 'asymetrical': 605, 'perfectnot': 8062, 'comparable': 2202, 'dreamtrue': 3294, 'sizeromantic': 10113, 'flirtyi': 4248, 'sandalsthe': 9494, 'limitless': 6280, 'whit': 12671, 'offput': 7534, 'coppergold': 2395, 'ftt': 4468, 'tuniclike': 11897, 'frontthe': 4458, 'voila': 12363, 'collage': 2064, 'bootieboots': 1232, 'breath': 1353, 'blousesoft': 1122, 'fitrunning': 4127, 'guarantee': 4867, 'duff': 3392, 'substancial': 10934, 'tirst': 11605, 'theoryended': 11406, 'basketweave': 822, 'fractal': 4399, 'cheekier': 1818, 'hipbone': 5134, 'rosie': 9364, 'neira': 7270, 'piecesit': 8174, 'tolerable': 11639, 'da': 2712, 'hallway': 4914, 'ish': 5652, 'uncuffed': 12014, 'uncuff': 12013, 'helping': 5056, 'lengh': 6188, 'kindof': 5937, 'consequently': 2300, 'zoom': 13043, 'spec': 10540, 'complimen': 2239, 'tshirtlike': 11858, 'pul': 8672, 'bellsleeve': 931, 'outyoga': 7743, 'geez': 4573, 'subpar': 10929, 'quotfelted': 8775, 'woolquoti': 12831, 'china': 1869, 'hooray': 5212, 'wicking': 12706, 'puttogether': 8731, 'starkly': 10675, 'hawk': 4986, 'cop': 2393, 'overcoming': 7757, 'joined': 5848, 'bandwagon': 793, 'onsie': 7604, 'extensively': 3829, 'alr': 292, 'lumpy': 6528, 'showpiece': 9981, 'studied': 10884, 'vertically': 12306, 'dummy': 3396, 'flo': 4249, 'middi': 6853, 'visit': 12348, 'percentage': 8036, 'volition': 12367, 'blackgraynavy': 1052, 'minneapolis': 6920, 'sporty': 10591, 'daring': 2746, 'shall': 9769, 'areameant': 497, 'tiniest': 11594, 'kneesbut': 5953, 'grateful': 4762, 'disliked': 3124, 'kneesexactly': 5954, 'xspwas': 12938, 'sweatertunicdress': 11127, 'brighten': 1377, 'expectedmaybe': 3793, 'normaly': 7401, 'cloudy': 2021, 'flory': 4266, 'kelly': 5911, 'colorkind': 2097, 'bandaidcolored': 789, 'unlaced': 12116, 'mont': 7034, 'blanc': 1066, 'chamomix': 1770, 'unmistakable': 12121, 'matterhorn': 6711, 'zermatt': 13025, 'fabricalmost': 3858, 'bedspreadbut': 899, 'thrill': 11512, 'priority': 8569, 'bless': 1086, 'whi': 12651, 'triple': 11827, 'winding': 12749, 'areturn': 506, 'homebase': 5188, 'excitedly': 3763, 'bso': 1440, 'flatteringdoesnt': 4200, 'eager': 3422, 'piling': 8194, 'knitting': 5965, 'col': 2055, 'alpaca': 291, 'skinnystraight': 10153, 'boyleg': 1313, 'seafolly': 9608, 'compelled': 2211, 'underrated': 12039, 'rougher': 9371, 'loss': 6457, 'journey': 5852, 'postpregnancy': 8426, 'horror': 5232, 'loveafter': 6475, 'bottomvery': 1276, 'artylooking': 557, 'blackwhite': 1060, 'sticker': 10725, 'utterly': 12236, 'measly': 6739, 'demon': 2909, 'symptom': 11184, 'cardigansweater': 1655, 'diva': 3161, 'remembered': 9063, 'gushing': 4881, 'perfe': 8041, 'guilt': 4875, 'airflow': 221, 'shinier': 9846, 'duty': 3413, 'sideways': 10015, 'handsdown': 4929, 'wiht': 12730, 'shooties': 9892, 'mushroom': 7138, 'dusterlength': 3410, 'funeral': 4499, 'roomyswingy': 9352, 'jiffy': 5834, 'daybbq': 2771, 'buttonup': 1552, 'ant': 394, 'coal': 2034, 'papaya': 7899, 'geiger': 4574, 'remembers': 9065, 'lightweighteven': 6257, 'nutmeg': 7461, 'opinionis': 7639, 'beautifula': 870, 'completed': 2226, 'muscle': 7131, 'fleecelike': 4225, 'warmed': 12449, 'firmly': 4103, 'flowyswingy': 4287, 'shouldersback': 9951, 'dresstop': 3336, 'upside': 12198, 'organic': 7683, 'sophisticatedlooking': 10476, 'hike': 5123, 'sophistica': 10473, 'fisherman': 4110, 'constructionsewing': 2323, 'classicmodern': 1950, 'vshape': 12377, 'contains': 2331, 'lovin': 6489, 'backward': 741, 'ope': 7625, 'underthings': 12050, 'forgivingespecially': 4359, 'rsty': 9382, 'fastening': 3957, 'complicated': 2236, 'sheerer': 9813, 'ballooned': 777, 'icky': 5347, 'uneckline': 12072, 'redish': 8951, 'necessa': 7230, 'itit': 5720, 'underweight': 12056, 'don': 3201, 'masterpiece': 6679, 'thighlevel': 11446, 'crafted': 2504, 'birth': 1028, 'cornflower': 2409, 'spicy': 10560, 'flying': 4310, 'february': 4000, 'backpacker': 733, 'hohum': 5170, 'lug': 6521, 'napa': 7175, 'winery': 12756, 'dioes': 3066, 'maintain': 6591, 'midweight': 6880, 'fallspring': 3917, 'dreamed': 3290, 'plusher': 8313, 'jasper': 5790, 'jeera': 5818, 'nijar': 7339, 'indicated': 5470, 'reordering': 9090, 'su': 10925, 'happily': 4957, 'powerwalker': 8450, 'rotate': 9366, 'purse': 8721, 'detect': 2990, 'wishing': 12780, 'lightest': 6248, 'supersexy': 11027, 'quadsthighs': 8741, 'sweaterlike': 11116, 'reverts': 9224, 'acceptably': 46, 'fal': 3906, 'focus': 4314, 'stiffbouncy': 10730, 'nonpetite': 7382, 'largish': 6065, 'underwire': 12059, 'fittedit': 4136, 'camithe': 1605, 'throughthat': 11520, 'braundergarmentit': 1341, 'crossbody': 2593, 'bodywaist': 1192, 'reali': 8864, 'pumpkin': 8682, 'pie': 8169, 'constriction': 2318, 'mmmmmk': 6970, 'majority': 6598, 'delayed': 2879, 'stetchy': 10714, 'closedend': 2001, 'sensitivethis': 9709, 'surprisedyes': 11067, 'nutcracker': 7460, 'poufy': 8442, 'furry': 4505, 'homemade': 5190, 'fiti': 4120, 'straightslender': 10794, 'breasted': 1350, 'borderline': 1249, 'tunicy': 11901, 'impressive': 5412, 'fabricnoticed': 3869, 'sizeruns': 10114, 'clipped': 1994, 'ceremony': 1751, 'seatbelt': 9634, 'feeltrue': 4010, 'exceeds': 3746, 'flattery': 4209, 'frail': 4402, 'pilled': 8196, 'emulate': 3575, 'viscoserayon': 12342, 'elysian': 3540, 'winterthe': 12769, 'islim': 5663, 'pardon': 7906, 'buttonhole': 1546, 'hol': 5174, 'hookandeye': 5209, 'unavail': 11989, 'lofty': 6352, 'gorgeousyou': 4721, 'tooand': 11654, 'retailerpersonal': 9175, 'carolyn': 1672, 'blair': 1065, 'helpfu': 5054, 'pelats': 8011, 'pantsejans': 7882, 'experiencing': 3805, 'timeso': 11589, 'absolutley': 22, 'bouncy': 1286, 'straightfigured': 10789, 'sillier': 10039, 'expert': 3808, 'retain': 9189, 'fourth': 4394, 'szie': 11190, 'unfortunatly': 12097, 'looke': 6401, 'aweful': 697, 'nad': 7164, 'ahge': 208, 'hur': 5319, 'palelike': 7855, 'asflattering': 560, 'messing': 6820, 'patterntexture': 7960, 'stitchwork': 10750, 'showthrough': 9985, 'shifted': 9833, 'sidestill': 10014, 'orangepeachcoral': 7661, 'goof': 4706, 'besidebelow': 957, 'headache': 4991, 'deconstructs': 2829, 'hangups': 4947, 'multiseason': 7124, 'swimmer': 11147, 'shoulderschest': 9957, 'failing': 3895, 'accomodate': 65, 'northeast': 7403, 'runofthemill': 9414, 'brow': 1412, 'higheri': 5098, 'snatc': 10370, 'kn': 5943, 'superpretty': 11025, 'butthe': 1536, 'grazed': 4783, 'havin': 4983, 'themthey': 11401, 'linevery': 6301, 'utilitarian': 12233, 'gladly': 4640, 'togetherit': 11635, 'slimathletic': 10229, 'swlim': 11169, 'emobroidery': 3567, 'pom': 8357, 'spain': 10516, 'flamenco': 4165, 'seasoned': 9627, 'listen': 6318, 'oompaloompa': 7614, 'weght': 12568, 'mutton': 7151, 'disguised': 3116, 'lamb': 6033, 'betty': 967, 'grable': 4735, 'cheesecake': 1824, 'photograph': 8127, 'grave': 4763, 'mak': 6600, 'sophistication': 10477, 'underlayer': 12027, 'schoolmar': 9565, 'boxer': 1292, 'starbucks': 10667, 'formfit': 4371, 'offeven': 7526, 'everydayjacket': 3715, 'greatlove': 4797, 'venting': 12281, 'ak': 234, 'piping': 8235, 'armsbodice': 520, 'kneeskimmer': 5957, 'assorted': 590, 'lowered': 6496, 'kneecap': 5946, 'maneuvering': 6620, 'prewashed': 8534, 'unclear': 12005, 'beginning': 908, 'ishirt': 5656, 'eying': 3849, 'gladthe': 4641, 'amazingdelicate': 330, 'tremendously': 11803, 'inevitably': 5485, 'topso': 11705, 'cheep': 1820, 'definelty': 2863, 'goodslightly': 4704, 'goo': 4694, 'squeezed': 10630, 'hmm': 5165, 'promising': 8610, 'coatjaclket': 2042, 'slighly': 10220, 'insecurity': 5522, 'timing': 11591, 'manufactured': 6632, 'admiring': 137, 'thoughtfully': 11499, 'rail': 8794, 'sleevesthey': 10205, 'evidently': 3727, 'flag': 4160, 'myriad': 7154, 'transitioned': 11776, 'accented': 36, 'sipping': 10079, 'longerbroader': 6369, 'merging': 6809, 'turnbend': 11905, 'twoinone': 11942, 'vice': 12319, 'extent': 3830, 'onlin': 7593, 'jsutice': 5856, 'percect': 8032, 'dimple': 3059, 'yfit': 12994, 'styllsit': 10924, 'insiting': 5530, 'lstretch': 6510, 'shal': 9768, 'chestcollar': 1840, 'exudes': 3839, 'retailerquality': 9184, 'metts': 6834, 'fitit': 4121, 'waitpress': 12426, 'pajamalike': 7849, 'personthe': 8086, 'containing': 2330, 'shirtstops': 9872, 'slipon': 10247, 'willingness': 12740, 'lite': 6323, 'weak': 12518, 'guaranteed': 4868, 'stoked': 10756, 'barrel': 812, 'pouf': 8440, 'race': 8778, 'crotchwaist': 2602, 'figureaccentuating': 4053, 'coh': 2053, 'fleetwood': 4227, 'fleetwoods': 4228, 'humanity': 5301, 'browsed': 1427, 'topblack': 11677, 'versat': 12292, 'getrestock': 4601, 'paler': 7856, 'stylewise': 10918, 'monkey': 7027, 'michigan': 6843, 'ave': 678, 'relax': 9028, 'snuggle': 10393, 'thesedo': 11421, 'housebought': 5254, 'itemprobably': 5708, 'lifelong': 6234, 'dancer': 2732, 'tyically': 11949, 'distracted': 3147, 'instantaneously': 5544, 'warming': 12452, 'largechested': 6049, 'resembles': 9125, 'downsized': 3245, 'exciting': 3765, 'swamp': 11092, 'human': 5300, 'broaden': 1393, 'wick': 12705, 'mediumsmall': 6761, 'footlong': 4339, 'faulty': 3971, 'popcorn': 8390, 'hap': 4950, 'stiffly': 10732, 'habitus': 4890, 'colorsthe': 2116, 'swath': 11097, 'creatively': 2545, 'knotting': 5975, 'securing': 9650, 'roc': 9314, 'recoiled': 8915, 'sandpaper': 9500, 'proceed': 8584, 'chase': 1798, 'outward': 7737, 'elongate': 3531, 'primary': 8553, 'initial': 5503, 'colorwas': 2123, 'sept': 9721, 'picsmore': 8152, 'fabricstyle': 3871, 'blight': 1089, 'offeringso': 7525, 'beautifullyeven': 879, 'considerably': 2304, 'qualityi': 8745, 'wearability': 12523, 'hey': 5083, 'witho': 12791, 'neighbor': 7267, 'international': 5581, 'worldly': 12858, 'greenyellow': 4826, 'cal': 1580, 'popbut': 8389, 'bigbaggy': 986, 'exposure': 3819, 'gabardia': 4521, 'lacausa': 5997, 'dara': 2743, 'hirise': 5157, 'wansup': 12440, 'todo': 11627, 'undoing': 12066, 'drapeswing': 3271, 'nowi': 7440, 'pinky': 8224, 'mule': 7114, 'duck': 3389, 'existed': 3777, 'purchas': 8696, 'app': 441, 'newbury': 7299, 'boston': 1257, 'straining': 10798, 'comf': 2150, 'seinfeld': 9671, 'policy': 8337, 'cc': 1729, 'harkens': 4968, 'conversational': 2364, 'jumperpinafore': 5869, 'ballgown': 774, 'clip': 1992, 'loo': 6396, 'reclip': 8911, 'narrowis': 7183, 'upsidedown': 12199, 'partthey': 7921, 'heathergrey': 5018, 'olivekhaki': 7566, 'experimented': 3806, 'mantailored': 6628, 'cargolike': 1667, 'frontal': 4451, 'cris': 2567, 'splurged': 10582, 'slump': 10276, 'focal': 4313, 'hipsseat': 5149, 'reached': 8850, 'knuckle': 5982, 'rechecked': 8905, 'greatfantastic': 4791, 'felted': 4019, 'roomie': 9344, 'waitband': 12423, 'emphasizing': 3571, 'waistsbig': 12416, 'au': 655, 'lait': 6031, 'shading': 9765, 'noi': 7361, 'flattened': 4193, 'triangular': 11812, 'prisoner': 8570, 'turquoisenavy': 11911, 'taupepeach': 11279, 'solo': 10442, 'prompted': 8615, 'undress': 12069, 'maxidress': 6723, 'mulitcolored': 7115, 'cutely': 2681, 'adjusts': 131, 'neckes': 7238, 'sleevless': 10207, 'wild': 12732, 'outwear': 7739, 'inconvenient': 5452, 'report': 9105, 'washedfaded': 12475, 'opera': 7636, 'beautifulwonderful': 883, 'detailespecially': 2984, 'liningnot': 6310, 'varied': 12257, 'greygreen': 4839, 'bluepink': 1151, 'thati': 11386, 'forgiven': 4355, 'nonhourglass': 7377, 'sweatergiven': 11107, 'propensity': 8622, 'salethis': 9478, 'flimsythink': 4239, 'shapei': 9778, 'twinkle': 11931, 'seed': 9655, 'craftsman': 2506, 'ship': 9850, 'unravelling': 12136, 'whimthen': 12661, 'comfya': 2180, 'warrant': 12462, 'shotgun': 9935, 'hall': 4911, 'rented': 9086, 'runway': 9415, 'weddingish': 12552, 'haystack': 4988, 'confirmed': 2280, 'diagnol': 3014, 'grea': 4786, 'moveable': 7089, 'pantsthey': 7893, 'tietop': 11555, 'bee': 902, 'ladybug': 6024, 'cardiganjacket': 1654, 'atrocious': 626, 'fairness': 3902, 'frustrating': 4465, 'pouching': 8438, 'sissy': 10080, 'spacek': 10512, 'drastic': 3275, 'knock': 5968, 'itnot': 5728, 'inlove': 5510, 'temple': 11323, 'anorak': 386, 'cutelightweight': 2680, 'backsorry': 738, 'xxsthis': 12946, 'sans': 9503, 'amoret': 349, 'topgot': 11686, 'martie': 6662, 'lightwei': 6255, 'hor': 5221, 'apron': 484, 'scrub': 9594, 'skirtblouse': 10163, 'pouchy': 8439, 'anythingbelowyourwaist': 428, 'pen': 8012, 'simpleness': 10055, 'bohemianrocker': 1198, 'prim': 8550, 'topdress': 11681, 'girth': 4630, 'teeter': 11315, 'overused': 7806, 'cowlneck': 2488, 'veryvery': 12307, 'delicatei': 2888, 'ttsi': 11866, 'midfore': 6858, 'amazingmuch': 334, 'dealt': 2797, 'attentio': 640, 'sudden': 10956, 'struggled': 10877, 'card': 1647, 'looknot': 6411, 'conflicted': 2282, 'strategic': 10819, 'suggestive': 10969, 'influx': 5492, 'feed': 4003, 'instance': 5542, 'endora': 3595, 'lackluster': 6014, 'figuring': 4064, 'december': 2811, 'constrictive': 2319, 'raising': 8806, 'summary': 10983, 'charge': 1784, 'manufacture': 6631, 'beneficial': 946, 'complimenting': 2243, 'plate': 8272, 'musical': 7140, 'waterjust': 12498, 'flexibility': 4235, 'lengthlittle': 6200, 'alleviated': 260, 'digging': 3049, 'structural': 10873, 'needwant': 7261, 'bloused': 1116, 'tax': 11281, 'jut': 5889, 'natured': 7191, 'joking': 5851, 'brilliant': 1383, 'boat': 1175, 'trans': 11764, 'partake': 7913, 'overpower': 7782, 'dime': 3054, 'damaged': 2726, 'yak': 12954, 'whaa': 12636, 'bulkier': 1467, 'bootiesvery': 1237, 'teen': 11307, 'explained': 3811, 'bulkiness': 1468, 'honeymoon': 5199, 'aga': 180, 'restrained': 9154, 'blackgreen': 1054, 'fitthe': 4138, 'shorthip': 9911, 'hugger': 5295, 'di': 3013, 'hear': 5005, 'swishing': 11164, 'magic': 6573, 'swap': 11093, 'popped': 8395, 'cottony': 2444, 'cushy': 2665, 'tex': 11362, 'bathrobe': 828, 'itlightweight': 5722, 'militaryish': 6895, 'coolrose': 2385, 'verging': 12288, 'vaca': 12238, 'scrunched': 9598, 'weara': 12522, 'handful': 4921, 'fixable': 4153, 'scramble': 9576, 'covet': 2480, 'boxescomfy': 1293, 'upa': 12171, 'yanking': 12957, 'cubanas': 2619, 'ciara': 1911, 'glitter': 4655, 'vintagegonewrong': 12332, 'yellowed': 12972, 'newspaper': 7306, 'acco': 59, 'blueish': 1144, 'misty': 6960, 'chestso': 1847, 'santuary': 9505, 'itmore': 5725, 'perfectif': 8047, 'grease': 4787, 'trickier': 11814, 'biggie': 994, 'camisoleit': 1601, 'exorbitant': 3782, 'fee': 4002, 'meantime': 6738, 'bm': 1169, 'dol': 3188, 'starter': 10678, 'pinksalmon': 8221, 'fluke': 4301, 'dragged': 3259, 'sillouhette': 10040, 'thera': 11408, 'mediterranean': 6753, 'reader': 8855, 'dud': 3390, 'bearable': 858, 'rxxsxs': 9425, 'frankly': 4412, 'motherofbride': 7069, 'troubadour': 11832, 'seasonbut': 9626, 'pirces': 8240, 'hink': 5131, 'nexl': 7307, 'ine': 5482, 'pcture': 7969, 'smoothly': 10350, 'silvergray': 10045, 'catelog': 1715, 'mailed': 6583, 'ithas': 5717, 'miraculously': 6936, 'grade': 4742, 'overstretch': 7798, 'eliminates': 3525, 'az': 710, 'wonderfulit': 12816, 'muchbut': 7107, 'airline': 226, 'classiclooking': 1949, 'popsicle': 8398, 'screaming': 9586, 'nee': 7252, 'ituh': 5742, 'pantsso': 7891, 'cutand': 2672, 'meteven': 6829, 'fittrue': 4144, 'sizeeven': 10102, 'svelte': 11085, 'unaware': 11992, 'descriptionhowever': 2948, 'blendwould': 1085, 'madeit': 6564, 'climbing': 1984, 'biking': 1003, 'smallanything': 10288, 'minny': 6922, 'couch': 2447, 'denimy': 2918, 'fasten': 3954, 'vinegar': 12330, 'cancelled': 1618, 'snagthread': 10361, 'widest': 12722, 'whoop': 12699, 'unbeliev': 11996, 'fullpriced': 4485, 'cloud': 2020, 'circumference': 1923, 'oldladyish': 7561, 'navyindigo': 7206, 'offwhitepalest': 7543, 'cooltoned': 2386, 'ouside': 7707, 'sweetly': 11141, 'pantlooks': 7878, 'polyesterso': 8352, 'thingbut': 11455, 'haha': 4897, 'itgot': 5716, 'wrinklefree': 12908, 'donamp': 3203, 'melody': 6782, 'loosen': 6439, 'retur': 9205, 'wintry': 12771, 'killer': 5927, 'backshouldersupper': 735, 'sizematched': 10109, 'theater': 11389, 'ludicrous': 6519, 'edgeoverall': 3466, 'bustling': 1514, 'lysee': 6555, 'bootiesi': 1234, 'minimalistic': 6911, 'inlaw': 5508, 'bootiesall': 1233, 'creambeige': 2522, 'fuzzyfurry': 4517, 'tat': 11270, 'bohochic': 1200, 'amail': 322, 'zippered': 13038, 'filter': 4072, 'throat': 11515, 'awe': 695, 'jacketsmy': 5768, 'melt': 6784, 'advised': 157, 'thinonly': 11469, 'donampamp': 3204, 'iampamp': 5340, 'itampamp': 5692, 'onsale': 7602, 'forsomething': 4378, 'law': 6102, 'bumpy': 1481, 'expanding': 3786, 'bulged': 1464, 'divide': 3164, 'feelingyou': 4007, 'acrossed': 85, 'fitlength': 4122, 'draper': 3269, 'granny': 4758, 'raggy': 8790, 'sublime': 10928, 'ranna': 8816, 'colorscutdrape': 2105, 'stretchthe': 10843, 'bustybroad': 1520, 'dreadful': 3288, 'breathtakingi': 1361, 'taupenude': 11278, 'contempos': 2335, 'produced': 8591, 'rubbed': 9387, 'maternit': 6699, 'ombr': 7571, 'matchespecially': 6683, 'waffled': 12391, 'striation': 10851, 'reluctant': 9046, 'syllish': 11178, 'todaynow': 11625, 'genius': 4587, 'allaround': 258, 'port': 8400, 'supposedly': 11047, 'lyocell': 6554, 'fitflare': 4119, 'shirtwaist': 9877, 'liatris': 6224, 'row': 9377, 'puffyin': 8671, 'xxsmall': 12943, 'eg': 3481, 'leathery': 6151, 'indicates': 5471, 'brioche': 1388, 'loft': 6351, 'decrease': 2834, 'downsizing': 3246, 'hemwise': 5063, 'spied': 10561, 'elbowtofulllength': 3506, 'railthin': 8796, 'mombod': 7010, 'random': 8811, 'amazingi': 331, 'toenail': 11631, 'pierce': 8177, 'spathese': 10534, 'garter': 4553, 'hugelike': 5290, 'saidlike': 9456, 'concur': 2267, 'crochetlace': 2584, 'orderer': 7675, 'ingratiating': 5499, 'applied': 458, 'adequate': 116, 'sothe': 10488, 'sheerit': 9816, 'camisol': 1599, 'coverageit': 2471, 'decolletage': 2827, 'ro': 9305, 'mystified': 7160, 'hardware': 4964, 'largei': 6051, 'shouldersi': 9958, 'fist': 4111, 'charter': 1796, 'cam': 1591, 'epitome': 3643, 'yogalounge': 13000, 'foldover': 4322, 'swingstyle': 11157, 'circa': 1919, 'tugging': 11880, 'downward': 3251, 'flouncier': 4268, 'workwear': 12856, 'proposed': 8631, 'precisely': 8467, 'itchingscratching': 5699, 'pearhourglass': 7988, 'existing': 3779, 'coralpeach': 2399, 'freeze': 4425, 'jeansperfection': 5808, 'clasic': 1941, 'frumpiness': 4462, 'starched': 10670, 'ultraslimming': 11976, 'interestingit': 5575, 'ore': 7680, 'bendable': 942, 'wellconstructed': 12596, 'mattered': 6710, 'contour': 2346, 'caramel': 1645, 'dig': 3048, 'alt': 303, 'unbelievable': 11997, 'comfywin': 2185, 'iswinging': 5686, 'spor': 10588, 'sidesnot': 10013, 'midnovember': 6867, 'nightless': 7333, 'ankl': 376, 'waistlinehips': 12412, 'vneckline': 12360, 'hemstitch': 5062, 'scale': 9548, 'onseam': 7603, 'access': 49, 'sheeryeah': 9822, 'selected': 9674, 'mannikin': 6627, 'lariat': 6066, 'finalized': 4076, 'anniversary': 381, 'coziest': 2493, 'gaudy': 4561, 'shortest': 9910, 'fluctuate': 4289, 'imagination': 5375, 'wilt': 12742, 'casualwith': 1703, 'beit': 920, 'astronomical': 602, 'whitish': 12691, 'possi': 8414, 'bagged': 752, 'adhesive': 118, 'pasty': 7938, 'sample': 9487, 'landscape': 6037, 'alst': 302, 'versiona': 12301, 'dn': 3170, 'smae': 10283, 'ddresses': 2790, 'aprts': 485, 'eptite': 3646, 'prairie': 8459, 'thorough': 11489, 'danger': 2735, 'tearing': 11300, 'deterrent': 2998, 'fluffiest': 4296, 'tattooed': 11272, 'greenpink': 4822, 'bluemaroon': 1148, 'tapestry': 11258, 'navyivory': 7208, 'fails': 3896, 'sandkhaki': 9498, 'laughed': 6091, 'rocked': 9316, 'dirty': 3077, 'camisoletank': 1603, 'unifying': 12105, 'misled': 6942, 'asianinspired': 567, 'mockneckfunnel': 6977, 'refuse': 8989, 'easil': 3442, 'tun': 11891, 'storage': 10768, 'istuck': 5679, 'drown': 3370, 'lively': 6337, 'tea': 11288, 'pastry': 7937, 'electric': 3509, 'addicted': 105, 'unwrapping': 12167, 'overwhelmingly': 7811, 'select': 9673, 'lumberjack': 6525, 'familyfriendly': 3930, 'piled': 8193, 'conundrum': 2360, 'whitegray': 12677, 'density': 2922, 'tanbrown': 11233, 'snowy': 10384, 'twig': 11928, 'sma': 10281, 'accept': 43, 'ought': 7706, 'madly': 6567, 'hollywood': 5184, 'botom': 1264, 'comfotable': 2174, 'loosly': 6449, 'shortbut': 9901, 'longi': 6376, 'ahs': 212, 'topstoo': 11709, 'crwal': 2614, 'fals': 3924, 'awkwards': 709, 'pot': 8431, 'comfrtable': 2178, 'aaaaandidontwanttopayforshipping': 2, 'remedy': 9061, 'colorblocking': 2088, 'informed': 5496, 'paneling': 7872, 'spotcleaned': 10593, 'nine': 7342, 'resembling': 9126, 'muumuu': 7152, 'cuteunfortunately': 2691, 'womanly': 12808, 'detailedbut': 2983, 'splitsleevecoldshoulder': 10578, 'defines': 2864, 'thrille': 11513, 'centimeter': 1748, 'oddlyboxy': 7513, 'godets': 4675, 'bff': 974, 'tracking': 11751, 'drooljust': 3356, 'lil': 6271, 'shouldersbroad': 9954, 'flail': 4161, 'factory': 3887, 'cellophane': 1742, 'strangeit': 10802, 'damask': 2728, 'keg': 5910, 'plump': 8306, 'returnedso': 9209, 'defect': 2852, 'news': 7304, 'benefited': 948, 'fulfills': 4472, 'springtime': 10611, 'tailorfitted': 11208, 'lengthshape': 6204, 'regularlength': 9008, 'looove': 6426, 'pintuck': 8230, 'largemost': 6056, 'thickstructured': 11440, 'youwow': 13015, 'reoccurring': 9087, 'thyre': 11538, 'palo': 7864, 'alto': 316, 'edessa': 3464, 'phenomenal': 8120, 'crinolined': 2566, 'kentucky': 5913, 'oak': 7473, 'warranted': 12463, 'whiteblack': 12673, 'appalled': 442, 'fifteen': 4047, 'orangutan': 7667, 'shortish': 9916, 'audrey': 658, 'hepburn': 5069, 'grosgrain': 4856, 'tantaupe': 11251, 'asheville': 563, 'slighty': 10227, 'arguably': 507, 'modified': 7003, 'dddd': 2789, 'graniteslate': 4757, 'comfycozy': 2181, 'lawn': 6104, 'comparat': 2203, 'famous': 3932, 'neede': 7254, 'tranquil': 11763, 'sophisticatedi': 10475, 'slid': 10215, 'admirable': 132, 'itpull': 5730, 'stash': 10680, 'lipstick': 6314, 'whiterust': 12683, 'athletichourglass': 616, 'disadvantage': 3079, 'jumpsuitsrompersetc': 5871, 'footless': 4338, 'srink': 10638, 'graciously': 4740, 'enclosed': 3581, 'shipi': 9851, 'restriction': 9158, 'transformed': 11770, 'orleans': 7691, 'cousin': 2466, 'orderd': 7671, 'risenot': 9298, 'largerknocked': 6059, 'urban': 12210, 'oct': 7508, 'scratchiness': 9581, 'proclaimed': 8586, 'vermillion': 12290, 'baggie': 754, 'rouched': 9368, 'bf': 973, 'reminder': 9068, 'bailly': 765, 'unsung': 12151, 'hero': 5073, 'detached': 2980, 'viscose': 12341, 'multicolors': 7121, 'complection': 2221, 'reward': 9241, 'mat': 6680, 'versitile': 12303, 'fitandflare': 4115, 'fallish': 3913, 'perky': 8076, 'perceive': 8033, 'trimmer': 11824, 'upcuff': 12174, 'mediumweight': 6764, 'drawstringstyle': 3284, 'breakerit': 1346, 'behold': 913, 'sizingfit': 10130, 'questioned': 8758, 'issuesi': 5674, 'chub': 1900, 'motivate': 7075, 'pasted': 7935, 'tallish': 11227, 'henely': 5065, 'greati': 4793, 'cleanly': 1967, 'proven': 8643, 'newborn': 7298, 'chubbiness': 1901, 'collarless': 2071, 'providing': 8648, 'sexiest': 9752, 'greyolive': 4842, 'lucy': 6518, 'lui': 6523, 'elementary': 3517, 'irregular': 5639, 'meal': 6733, 'welllined': 12608, 'bilious': 1006, 'brightened': 1378, 'rubbery': 9389, 'sunprotection': 11010, 'tunicdressshirt': 11895, 'tunicshirt': 11898, 'flatte': 4191, 'highwaited': 5120, 'pantsskirt': 7889, 'newmommy': 7302, 'irradiated': 5638, 'childhood': 1859, 'crab': 2500, 'claw': 1959, 'allbut': 259, 'polyesteri': 8351, 'presumably': 8512, 'reall': 8872, 'awfully': 701, 'billowly': 1011, 'boohoo': 1223, 'collarcuffs': 2067, 'whitedirty': 12676, 'misread': 6948, 'among': 347, 'sizesthe': 10121, 'sizesso': 10120, 'ego': 3484, 'skirtslike': 10169, 'en': 3576, 'route': 9376, 'conceals': 2255, 'graynavy': 4775, 'fallearly': 3909, 'tartan': 11260, 'boxybut': 1302, 'saledoes': 9465, 'layerswhat': 6114, 'fluctuation': 4292, 'junction': 5872, 'brushed': 1434, 'substantially': 10936, 'squirming': 10632, 'bodyhugging': 1184, 'returnexchanged': 9210, 'angelinas': 371, 'study': 10886, 'twirly': 11935, 'saggier': 9449, 'longtorsoed': 6392, 'adorableso': 143, 'fianc': 4039, 'favorably': 3981, 'whyyyyyyyyyyy': 12701, 'openwork': 7635, 'airier': 222, 'vopening': 12373, 'cutesomewhat': 2688, 'unflatteringthe': 12086, 'rode': 9322, 'modcloth': 6980, 'itso': 5734, 'coolest': 2380, 'autobots': 667, 'symbol': 11179, 'transformer': 11771, 'superhot': 11019, 'abundance': 30, 'sanded': 9496, 'shapely': 9783, 'xxxxs': 12950, 'workedor': 12844, 'wrapover': 12888, 'greatnot': 4800, 'jacketcapeponcho': 5759, 'deliciously': 2894, 'shore': 9898, 'ugg': 11962, 'demoiselle': 2908, 'sparklein': 10530, 'vestsin': 12311, 'sliding': 10217, 'bluelavender': 1146, 'fleshbaring': 4230, 'confusing': 2290, 'stadium': 10645, 'neutralbeige': 7289, 'shou': 9938, 'tranforms': 11762, 'braided': 1324, 'athleticstraight': 620, 'professionalwork': 8597, 'payer': 7967, 'mellow': 6779, 'pinksvirtually': 8222, 'introduced': 5607, 'andddddd': 363, 'chinaso': 1870, 'nightworthy': 7337, 'embossed': 3550, 'lust': 6540, 'feast': 3994, 'mona': 7019, 'easiest': 3441, 'humd': 5303, 'usable': 12215, 'contributed': 2357, 'traditionally': 11756, 'longsleeved': 6385, 'blossom': 1111, 'fruit': 4461, 'itching': 5698, 'bothering': 1261, 'rectangular': 8933, 'clearer': 1972, 'via': 12314, 'lasership': 6073, 'delivery': 2903, 'surpass': 11060, 'fedex': 4001, 'usps': 12225, 'crams': 2509, 'unprotected': 12132, 'soapbox': 10405, 'lacework': 6006, 'resilient': 9135, 'reigned': 9015, 'namely': 7169, 'anyt': 426, 'ugh': 11963, 'largebusted': 6047, 'smallreg': 10318, 'airport': 229, 'sweatersuper': 11123, 'aro': 533, 'transistional': 11773, 'plumbrown': 8305, 'allison': 264, 'highland': 5103, 'village': 12327, 'woodland': 12825, 'employing': 3574, 'contrastin': 2353, 'boxlike': 1298, 'texturedthick': 11369, 'portrays': 8405, 'pl': 8252, 'ikat': 5362, 'amos': 350, 'siz': 10096, 'snuglooked': 10396, 'incorrect': 5455, 'blueteal': 1157, 'formhugging': 4374, 'steep': 10706, 'swam': 11091, 'faster': 3958, 'pixie': 8246, 'fairy': 3903, 'lbsaverage': 6124, 'connector': 2296, 'suspicion': 11081, 'pharmacist': 8117, 'drugstore': 3373, 'illplaced': 5368, 'reworked': 9243, 'toothpick': 11670, 'rusticcharming': 9422, 'nevermind': 7294, 'horizont': 5223, 'pillowcasesacklike': 8202, 'modellol': 6987, 'mediumtolarge': 6762, 'juuuust': 5891, 'ranged': 8814, 'preordered': 8493, 'bosom': 1256, 'liningcovering': 6308, 'dripdry': 3350, 'winecolored': 12754, 'accessorizing': 54, 'colorlucked': 2098, 'layeringwhich': 6112, 'alway': 318, 'aholed': 211, 'themin': 11399, 'mottled': 7079, 'pennyone': 8020, 'ivoryoff': 5752, 'yacht': 12953, 'patent': 7942, 'excell': 3747, 'chuckle': 1904, 'swear': 11102, 'sore': 10480, 'manipulating': 6623, 'melodist': 6781, 'underwhelming': 12058, 'collecting': 2076, 'bothersomeit': 1263, 'wearand': 12526, 'depiction': 2933, 'squishy': 10637, 'iphone': 5626, 'thankful': 11378, 'oohs': 7613, 'aaaahs': 4, 'galore': 4529, 'onehe': 7581, 'whileit': 12654, 'accordinglythis': 71, 'smallthis': 10323, 'representative': 9109, 'mevery': 6835, 'enables': 3577, 'stout': 10779, 'tennies': 11337, 'zoolander': 13042, 'derelict': 2939, 'campaign': 1611, 'jeweltone': 5833, 'sly': 10279, 'bodyskimming': 1186, 'loooooong': 6421, 'chuckled': 1905, 'roper': 9355, 'disintegrating': 3122, 'discard': 3098, 'flatteringly': 4204, 'squishing': 10636, 'csame': 2616, 'dead': 2792, 'onit': 7591, 'sleeker': 10188, 'conformed': 2285, 'combing': 2145, 'flashing': 4181, 'extralarge': 3834, 'smallgo': 10303, 'saucy': 9531, 'mischievous': 6938, 'minty': 6929, 'trifle': 11818, 'galleria': 4527, 'unlikely': 12119, 'stamped': 10656, 'smallwhich': 10325, 'mosly': 7059, 'onwarm': 7610, 'sweaterit': 11110, 'blouselooks': 1119, 'fp': 4397, 'reflection': 8982, 'spunk': 10619, 'nicelythe': 7318, 'comfortableit': 2164, 'camera': 1596, 'prompt': 8614, 'london': 6359, 'april': 483, 'offmaybe': 7533, 'jackie': 5773, 'kennedy': 5912, 'orangish': 7666, 'unworn': 12165, 'jerseyfeel': 5823, 'abby': 8, 'ate': 611, 'linguini': 6305, 'pointing': 8328, 'hel': 5049, 'sleevethe': 10206, 'believable': 923, 'expensiv': 3800, 'aiming': 215, 'reunion': 9214, 'fittingcut': 4140, 'renaissance': 9080, 'faire': 3900, 'impulsively': 5418, 'gorgeousand': 4712, 'feelscheap': 4008, 'wadded': 12389, 'incorrectly': 5456, 'stepping': 10712, 'dusky': 3406, 'objected': 7479, 'insufficient': 5553, 'stress': 10832, 'dreamso': 3292, 'needsi': 7260, 'druzy': 3375, 'lable': 5995, 'fought': 4389, 'shirtstyle': 9874, 'middleexactly': 6856, 'thighsmidsection': 11452, 'reroll': 9120, 'compliements': 2238, 'compliement': 2237, 'styl': 10905, 'superflattering': 11018, 'shortand': 9900, 'wellendowed': 12601, 'asset': 583, 'apex': 439, 'cinnamon': 1917, 'trucker': 11839, 'referance': 8970, 'ziphoodie': 13033, 'citizenspaigeag': 1928, 'doenst': 3178, 'finishcolor': 4094, 'greyish': 4840, 'glams': 4645, 'overexaggerated': 7762, 'polkadots': 8344, 'elder': 3507, 'higherend': 5097, 'elita': 3528, 'seersucker': 9666, 'swinglarge': 11155, 'housedress': 5255, 'hospital': 5239, 'ochre': 7505, 'fabricmakes': 3866, 'loooove': 6425, 'avery': 681, 'prowl': 8649, 'dangle': 2738, 'throwonandgo': 11529, 'acrylicnylonwool': 88, 'ordere': 7672, 'polkadot': 8343, 'sagpooch': 9452, 'straighten': 10784, 'wearplace': 12535, 'prolong': 8603, 'monthly': 7038, 'neutralmuch': 7290, 'airconditionied': 218, 'upwards': 12208, 'bec': 886, 'thisdefinitely': 11477, 'andnonary': 365, 'kit': 5939, 'hotel': 5243, 'regualar': 9005, 'binge': 1019, 'mentioend': 6798, 'belle': 926, 'swirled': 11161, 'spun': 10618, 'tequilaginger': 11346, 'handwashable': 4932, 'airybillowy': 231, 'grazing': 4784, 'modelwhich': 6995, 'collet': 2080, 'tuckedin': 11875, 'selfconsciousness': 9679, 'teeshirt': 11314, 'eaisly': 3424, 'gentleman': 4589, 'irvine': 5646, 'alluringnot': 278, 'heelwedges': 5039, 'classysexy': 1958, 'errandrunning': 3659, 'hiking': 5124, 'elle': 3529, 'unreasonable': 12138, 'hp': 5270, 'grading': 4743, 'wrinkel': 12904, 'outweigh': 7740, 'muddled': 7109, 'overbearing': 7755, 'tuesday': 11877, 'daytoday': 2780, 'corsettype': 2420, 'assessing': 581, 'cottontthe': 2442, 'polyurethane': 8356, 'pu': 8654, 'flex': 4234, 'whose': 12700, 'anther': 398, 'shoulda': 9940, 'clicked': 1980, 'exclaimed': 3766, 'northeastern': 7404, 'wou': 12873, 'netted': 7284, 'uniqueand': 12111, 'camis': 1598, 'prettydelicate': 8523, 'silvergrey': 10046, 'metalic': 6827, 'otk': 7704, 'fortune': 4383, 'spotlight': 10594, 'puffing': 8669, 'agin': 193, 'daylight': 2773, 'foresee': 4347, 'backyard': 744, 'hoop': 5211, 'drab': 3257, 'steer': 10707, 'ranch': 8809, 'tip': 11601, 'creme': 2551, 'windowpane': 12751, 'justified': 5885, 'collared': 2068, 'creamwhite': 2532, 'experimenting': 3807, 'conceptualizing': 2259, 'moodenhancing': 7042, 'splendid': 10574, 'fullest': 4478, 'looooove': 6424, 'puckery': 8659, 'bubbled': 1446, 'boatneck': 1176, 'trousersa': 11837, 'havnet': 4984, 'loke': 6354, 'overnighted': 7781, 'orangeblue': 7658, 'pinkcorallike': 8213, 'spectrum': 10553, 'sloth': 10267, 'wretched': 12900, 'passable': 7930, 'deserve': 2952, 'underlayers': 12028, 'apprehensive': 468, 'getaway': 4598, 'perfecti': 8046, 'redundant': 8961, 'colorprint': 2101, 'chooses': 1887, 'tile': 11580, 'prominently': 8607, 'smallred': 10317, 'smocked': 10343, 'bubbling': 1448, 'areanear': 498, 'armpitslike': 519, 'ladi': 6019, 'breathtakingly': 1362, 'fabrication': 3859, 'expose': 3816, 'iwould': 5753, 'ehels': 3486, 'perhpas': 8072, 'frnt': 4447, 'crocheting': 2583, 'supershort': 11028, 'cupcake': 2632, 'dangling': 2740, 'rush': 9417, 'perusing': 8089, 'leggingsperfect': 6170, 'patterscolors': 7961, 'semblance': 9685, 'ut': 12232, 'inspection': 5532, 'recreate': 8931, 'flatteringslimming': 4205, 'shippingpricing': 9856, 'honored': 5203, 'orignal': 7689, 'excels': 3751, 'jaw': 5791, 'professionally': 8596, 'gr': 4731, 'bedtimepretty': 901, 'midst': 6874, 'endofwinter': 3594, 'doldrums': 3191, 'powdery': 8447, 'envision': 3638, 'slipdress': 10243, 'mary': 6667, 'janes': 5785, 'featuresthe': 3998, 'shock': 9882, 'attempted': 633, 'tres': 11809, 'accordance': 68, 'elegancenot': 3512, 'perfectand': 8044, 'slimmingfit': 10235, 'longwhich': 6395, 'woul': 12874, 'silverybeige': 10048, 'jazzed': 5793, 'titled': 11611, 'integrated': 5561, 'lighten': 6245, 'belling': 928, 'phot': 8125, 'independently': 5466, 'november': 7437, 'train': 11758, 'role': 9327, 'serving': 9734, 'cardiganblazer': 1651, 'washedhung': 12476, 'xsi': 12931, 'beautifull': 875, 'courage': 2462, 'exaggerate': 3736, 'posture': 8430, 'postur': 8429, 'higherwaisted': 5099, 'buttonfront': 1545, 'forgettin': 4353, 'bellowy': 930, 'pigmented': 8180, 'assures': 596, 'hesitent': 5082, 'sloppylooking': 10266, 'sayi': 9544, 'gel': 4575, 'manicure': 6622, 'stalked': 10653, 'cleantotally': 1968, 'tneck': 11617, 'reliably': 9041, 'novelty': 7436, 'ice': 5344, 'bite': 1033, 'huit': 5299, 'eden': 3463, 'lagoon': 6028, 'wire': 12773, 'corrected': 2414, 'coppery': 2396, 'browngold': 1416, 'bodicehalter': 1179, 'flaring': 4179, 'slipper': 10249, 'coldits': 2061, 'springtimey': 10612, 'posting': 8423, 'dressesskirts': 3312, 'grandson': 4756, 'costly': 2424, 'applying': 462, 'pilazzo': 8183, 'upit': 12184, 'expands': 3787, 'wildberry': 12733, 'occassions': 7499, 'weeding': 12558, 'redwhich': 8962, 'rednot': 8953, 'engine': 3601, 'earthtone': 3435, 'liberty': 6226, 'motiflooks': 7072, 'pullinggaping': 8677, 'patchworked': 7941, 'terryjersey': 11356, 'swingyflared': 11159, 'revery': 9225, 'castle': 1692, 'legend': 6163, 'eira': 3491, 'topflight': 11685, 'bottomheavy': 1272, 'menot': 6793, 'monotony': 7030, 'allover': 267, 'marie': 6642, 'kondo': 5983, 'sheerest': 9814, 'feelthe': 4009, 'sorta': 10485, 'chameleon': 1768, 'unforgettable': 12091, 'snu': 10385, 'cutstyle': 2704, 'sumer': 10980, 'winterspring': 12768, 'smashing': 10330, 'soap': 10404, 'rinsed': 9290, 'cur': 2635, 'bumped': 1479, 'souers': 10492, 'cropssome': 2591, 'blackgray': 1051, 'throughyey': 11522, 'restrict': 9155, 'coolness': 2383, 'backfront': 723, 'undernea': 12032, 'gambled': 4531, 'cell': 1740, 'transparenti': 11784, 'translucent': 11781, 'clarification': 1937, 'corporate': 2412, 'rent': 9085, 'buti': 1525, 'topand': 11676, 'backso': 737, 'turend': 11903, 'thanskgiving': 11383, 'blou': 1114, 'nicelyjust': 7316, 'visibleso': 12345, 'player': 8277, 'ombre': 7572, 'polyrayonspandex': 8354, 'taupenavy': 11277, 'eq': 3648, 'rap': 8817, 'pillingpulls': 8199, 'scree': 9587, 'stri': 10850, 'muscley': 7132, 'yea': 12962, 'shear': 9800, 'clinged': 1987, 'leggingsalmost': 6167, 'elongates': 3533, 'strop': 10871, 'talented': 11217, 'londonbased': 6360, 'vision': 12347, 'converse': 2365, 'filled': 4068, 'rayonspandex': 8845, 'supple': 11038, 'telling': 11319, 'underestimating': 12023, 'scenery': 9562, 'cactus': 1571, 'earthly': 3434, 'purc': 8690, 'female': 4025, 'veganfriendly': 12271, 'sick': 10006, 'district': 3156, 'experie': 3802, 'sable': 9427, 'biggeri': 991, 'thisfor': 11480, 'coworker': 2489, 'down': 3233, 'prominentand': 8606, 'scarfeven': 9557, 'corer': 2405, 'ladyish': 6025, 'blousei': 1117, 'peachthen': 7980, 'sizenow': 10111, 'largebut': 6048, 'bigloose': 998, 'fitsometimes': 4133, 'flowerscolors': 4277, 'patternscolors': 7957, 'timeframe': 11583, 'darkheav': 2749, 'lovesit': 6486, 'styledesign': 10910, 'purchasedgot': 8700, 'endlessly': 3592, 'prettyso': 8525, 'hipsbut': 5147, 'wearthrow': 12537, 'comp': 2198, 'conforms': 2286, 'slouch': 10268, 'notable': 7407, 'aid': 214, 'semiopaque': 9696, 'tule': 11881, 'overflare': 7764, 'shortens': 9908, 'dramatically': 3264, 'bodytype': 1191, 'breasting': 1352, 'silouette': 10042, 'relationship': 9025, 'prego': 8491, 'navyish': 7207, 'anothe': 388, 'buto': 1528, 'detach': 2978, 'nimble': 7341, 'patience': 7943, 'thatbuy': 11385, 'suprised': 11050, 'ita': 5688, 'fitshape': 4130, 'plea': 8285, 'collector': 2078, 'dresslight': 3321, 'fiteverything': 4118, 'lilka': 6273, 'modelthe': 6994, 'isalmsot': 5649, 'zipepr': 13032, 'highwater': 5122, 'prickling': 8548, 'colorblock': 2086, 'arrangement': 539, 'backarms': 719, 'lp': 6507, 'chlorine': 1875, 'salt': 9485, 'aske': 572, 'dad': 2714, 'jimmy': 5837, 'freemoving': 4422, 'shoot': 9891, 'oddlyshaped': 7514, 'graywhite': 4779, 'longertorsoed': 6372, 'ttt': 11869, 'relaxes': 9032, 'thinkthe': 11461, 'rinestones': 9287, 'peplumlook': 8028, 'linetent': 6299, 'musttryon': 7148, 'kudos': 5989, 'portrait': 8403, 'puffer': 8665, 'vinyl': 12338, 'resistance': 9137, 'cosy': 2430, 'upto': 12204, 'nipple': 7347, 'butits': 1527, 'umph': 11983, 'optimal': 7651, 'respectable': 9145, 'topi': 11688, 'crisscrossed': 2573, 'bluish': 1161, 'unwrapped': 12166, 'amost': 351, 'unbearable': 11993, 'rediculous': 8949, 'pintucks': 8232, 'tightened': 11563, 'prevents': 8530, 'shabby': 9762, 'eas': 3437, 'dripped': 3351, 'washcloth': 12472, 'surrounding': 11073, 'splotch': 10579, 'flung': 4302, 'colony': 2081, 'yesteryear': 12990, 'maid': 6579, 'vneckits': 12359, 'eek': 3473, 'blackandwhite': 1045, 'tieneck': 11551, 'syked': 11176, 'eu': 3690, 'dontr': 3209, 'btohered': 1441, 'ewre': 3730, 'thopugh': 11487, 'kleep': 5942, 'flatteringespeciall': 4201, 'orangy': 7668, 'perfectlyat': 8055, 'recognition': 8912, 'suitnot': 10977, 'assembledcomfortable': 579, 'shrinkagepair': 9992, 'revisitation': 9238, 'weightcan': 12576, 'reallybut': 8874, 'nicecan': 7311, 'tooutility': 11671, 'ruffling': 9398, 'coordinated': 2390, 'bating': 830, 'milk': 6896, 'agai': 181, 'finially': 4091, 'flairnot': 4163, 'classically': 1947, 'showstopping': 9983, 'goingout': 4680, 'blackbeige': 1046, 'mys': 7155, 'hange': 4939, 'suri': 11059, 'polyamide': 8348, 'unimpressed': 12107, 'fluffiness': 4297, 'wholeheartedly': 12698, 'pantsshortsskirts': 7888, 'greatlightweight': 4795, 'flatteringwish': 4207, 'buttah': 1532, 'grass': 4761, 'sweatersweatshirt': 11124, 'takeover': 11214, 'jeanschinos': 5799, 'pillfree': 8197, 'environs': 3637, 'partynot': 7925, 'pantsyoga': 7895, 'pane': 7869, 'negatively': 7265, 'riiiiiiiiiip': 9286, 'pricei': 8540, 'isummer': 5681, 'ladiesthe': 6021, 'drawstringlike': 3283, 'homerun': 5192, 'worki': 12847, 'washability': 12468, 'necknice': 7249, 'tennys': 11339, 'wellworth': 12621, 'inexcusable': 5486, 'arranged': 538, 'bordering': 1248, 'planted': 8268, 'buttonsnot': 1550, 'navigate': 7196, 'uncomfy': 12009, 'showbut': 9972, 'snugi': 10395, 'lightand': 6242, 'scotty': 9574, 'dog': 3185, 'beautifullovely': 877, 'designbut': 2959, 'huuuge': 5327, 'gooda': 4696, 'dock': 3174, 'bigboxy': 987, 'quintessential': 8767, 'mileage': 6892, 'impossibly': 5404, 'unable': 11985, 'discovering': 3112, 'roast': 9311, 'nipped': 7346, 'flatteri': 4198, 'chafe': 1758, 'maneuver': 6619, 'sidezip': 10016, 'oneseptember': 7584, 'meda': 6749, 'versatilei': 12296, 'stylefabric': 10912, 'weightnot': 12582, 'decid': 2817, 'leading': 6135, 'suspected': 11080, 'blute': 1168, 'ilove': 5371, 'rainy': 8803, 'ribboned': 9252, 'shrunken': 9999, 'imay': 5379, 'excelle': 3748, 'mostslimming': 7066, 'torquoise': 11720, 'wrinkleprone': 12909, 'monica': 7024, 'reed': 8965, 'whoknowswhat': 12696, 'emergency': 3565, 'snowstorm': 10382, 'foldable': 4319, 'reflective': 8983, 'broach': 1391, 'lke': 6340, 'maximize': 6724, 'sensesthe': 9707, 'pavin': 7963, 'buttyondown': 1554, 'personall': 8083, 'burned': 1499, 'oni': 7590, 'lookthis': 6414, 'blaclk': 1061, 'lessthanperfect': 6215, 'desperately': 2974, 'tanktop': 11246, 'themand': 11394, 'palazzos': 7852, 'spoken': 10585, 'exclusively': 3769, 'straightathletic': 10783, 'nerve': 7280, 'evocative': 3728, 'landscapeprint': 6038, 'durham': 3405, 'nc': 7216, 'xmas': 12929, 'silkscreen': 10035, 'extraordinary': 3835, 'vulgar': 12379, 'cutmy': 2697, 'cheese': 1823, 'clothit': 2018, 'toed': 11629, 'scattered': 9559, 'coin': 2054, 'fountain': 4391, 'net': 7283, 'ageing': 189, 'sharing': 9791, 'oversharing': 7789, 'gg': 4605, 'iso': 5666, 'lengthnot': 6202, 'simultaneously': 10062, 'fabricno': 3867, 'pinup': 8233, 'nightmare': 7334, 'edition': 3472, 'ittybitty': 5741, 'offputting': 7535, 'stride': 10853, 'sliming': 10230, 'tankini': 11244, 'contribute': 2356, 'affair': 163, 'smallit': 10307, 'nondenim': 7370, 'cutr': 2701, 'assessment': 582, 'perfectvery': 8065, 'towel': 11741, 'lookslays': 6413, 'feltwool': 4022, 'stretchiness': 10839, 'materialso': 6695, 'ba': 712, 'dahlia': 2715, 'downsilly': 3243, 'plcro': 8283, 'greyfit': 4838, 'greytoo': 4844, 'seasonplease': 9630, 'colorwise': 2129, 'acrylicwool': 89, 'blackdark': 1049, 'comfortablegreat': 2162, 'itselfgot': 5733, 'simplicity': 10058, 'overstated': 7796, 'frontclosure': 4454, 'picturethe': 8166, 'alerted': 244, 'flipped': 4242, 'trimming': 11825, 'hosiery': 5238, 'brave': 1342, 'defini': 2867, 'priviledge': 8571, 'colros': 2133, 'rugged': 9401, 'birkenstocks': 1025, 'lithe': 6325, 'wrestle': 12897, 'thei': 11393, 'delicateness': 2891, 'handwashed': 4933, 'epic': 3641, 'deemphasizes': 2838, 'glowing': 4668, 'paranoid': 7905, 'glancing': 4648, 'undressed': 12070, 'needlenose': 7259, 'crimped': 2558, 'notorious': 7425, 'criterion': 2575, 'multitude': 7125, 'planner': 8265, 'beacheress': 845, 'eveningand': 3699, 'bares': 805, 'playground': 8280, 'overdressed': 7760, 'predictable': 8469, 'walnut': 12435, 'creek': 2548, 'storeroom': 10775, 'enthralled': 3627, 'tube': 11872, 'nape': 7176, 'distinct': 3139, 'longest': 6373, 'leveland': 6220, 'figureflattering': 4057, 'translate': 11778, 'lineespecially': 6289, 'project': 8602, 'ironic': 5634, 'unseamed': 12142, 'denium': 2919, 'ghis': 4607, 'probabley': 8576, 'disapointed': 3081, 'thes': 11419, 'marvilously': 6666, 'colorssuper': 2114, 'fitvery': 4147, 'flatteringgreat': 4202, 'lengthvery': 6206, 'comfortablejust': 2165, 'saidpilcro': 9457, 'againits': 183, 'sizeit': 10108, 'orangewhitebrownred': 7664, 'indra': 5479, 'tooin': 11659, 'palate': 7850, 'immaturechildish': 5384, 'jeansanything': 5797, 'refresher': 8986, 'banquet': 798, 'blackcharcoal': 1048, 'topping': 11699, 'yogapantwaistband': 13001, 'whetherhow': 12650, 'freepeople': 4423, 'flawlessly': 4218, 'lightgrey': 6249, 'layover': 6119, 'nonclosing': 7368, 'custom': 2667, 'heightsi': 5045, 'greatnice': 4799, 'wouldit': 12876, 'isheds': 5654, 'supported': 11042, 'paring': 7908, 'tiedyed': 11549, 'understanding': 12045, 'dre': 3285, 'selling': 9684, 'distribute': 3154, 'envisioned': 3639, 'irldingy': 5631, 'boxyloose': 1303, 'abruptly': 19, 'bellybutton': 933, 'willowy': 12741, 'notadds': 7409, 'flowdrape': 4271, 'celebrate': 1738, 'milestone': 6893, 'swinging': 11154, 'killed': 5926, 'redhead': 8948, 'neony': 7275, 'almostcowl': 286, 'mauveish': 6718, 'shortsif': 9923, 'mintseaside': 6926, 'overnight': 7780, 'address': 112, 'confection': 2273, 'innocentthe': 5514, 'regency': 8997, 'xsmal': 12933, 'aflutter': 171, 'fluttery': 4307, 'marala': 6638, 'strand': 10799, 'whoa': 12693, 'svintage': 11086, 'hued': 5284, 'rockies': 9320, 'raccoon': 8777, 'critter': 2579, 'composed': 2244, 'armsyou': 531, 'squish': 10634, 'mildly': 6890, 'und': 12016, 'weaned': 12520, 'bahamas': 762, 'sashscarfribbon': 9513, 'truetosizeslightly': 11842, 'skirtit': 10166, 'pasadena': 7927, 'appreciation': 467, 'choker': 1883, 'thou': 11492, 'allyear': 284, 'soaking': 10403, 'ge': 4569, 'gravity': 4766, 'themed': 11397, 'expects': 3797, 'absurdly': 28, 'retail': 9165, 'whiteoatmeal': 12681, 'fearful': 3991, 'maternityesque': 6702, 'relaxedfit': 9030, 'outdone': 7710, 'thickit': 11435, 'wel': 12591, 'worm': 12859, 'ho': 5167, 'sensual': 9711, 'iamwomanhearmepurr': 5341, 'bodyslimming': 1187, 'force': 4342, 'dimpling': 3060, 'deny': 2924, 'focused': 4315, 'sizesmall': 10118, 'yellower': 12973, 'hop': 5213, 'pho': 8122, 'growth': 4864, 'resent': 9127, 'unzipping': 12170, 'um': 11979, 'hemslike': 5061, 'recei': 8893, 'resembled': 9124, 'squash': 10625, 'incrediblesoft': 5462, 'creamoffwhite': 2529, 'quest': 8755, 'manually': 6630, 'poky': 8334, 'plasticy': 8270, 'beautifulit': 873, 'expense': 3799, 'garmets': 4549, 'sizestyle': 10122, 'nonfunctioning': 7375, 'sprint': 10616, 'tieback': 11546, 'strictly': 10852, 'mustbuy': 7146, 'cookiecutter': 2375, 'versatilealso': 12294, 'materical': 6696, 'unreal': 12137, 'heightwise': 5046, 'widthwise': 12725, 'favorable': 3980, 'simplest': 10057, 'glamour': 4644, 'fostering': 4388, 'trapezoidshaped': 11787, 'lend': 6185, 'freshly': 4433, 'againi': 182, 'bundle': 1489, 'buttonedpockets': 1542, 'dynamite': 3421, 'welcomed': 12593, 'realistic': 8865, 'leeway': 6158, 'greek': 4809, 'slow': 10273, 'surroundings': 11074, 'barneypurple': 808, 'proved': 8642, 'semihigh': 9694, 'reasonyou': 8883, 'stark': 10674, 'leana': 6139, 'collarneckline': 2072, 'retrospect': 9199, 'onvery': 7609, 'typesgood': 11952, 'yummiest': 13020, 'alsothis': 301, 'midrift': 6869, 'foura': 4393, 'intoluckily': 5599, 'snugtoo': 10400, 'pleatsthey': 8297, 'pressedflat': 8510, 'stretchrelated': 10842, 'inappropriately': 5426, 'lowhanging': 6499, 'lotta': 6461, 'dis': 3078, 'indecent': 5464, 'newsies': 7305, 'bodythe': 1190, 'convertible': 2369, 'pumped': 8681, 'remembering': 9064, 'guessed': 4871, 'plentiful': 8298, 'overa': 7748, 'tiewaist': 11556, 'longbulky': 6365, 'recall': 8890, 'socially': 10409, 'petroleum': 8110, 'dryerdryer': 3381, 'wishlist': 12781, 'evokes': 3729, 'memory': 6788, 'es': 3664, 'scandy': 9554, 'skorts': 10172, 'rpetty': 9380, 'eprson': 3645, 'sizewhich': 10126, 'grew': 4829, 'overtly': 7805, 'mashed': 6669, 'flattening': 4194, 'fittedtailored': 4137, 'balked': 771, 'jodphurs': 5843, 'tanvi': 11252, 'kedia': 5900, 'purposefully': 8720, 'forwhich': 4387, 'bypassed': 1561, 'lighweight': 6258, 'inviting': 5619, 'avergage': 680, 'decorated': 2830, 'tom': 11643, 'runner': 9412, 'thh': 11427, 'beign': 919, 'hsaped': 5272, 'necessitated': 7234, 'steamy': 10704, 'arise': 509, 'twicegood': 11927, 'sk': 10134, 'daytimework': 2779, 'seafoam': 9607, 'medlum': 6767, 'clothesdresses': 2015, 'embodies': 3549, 'biokleen': 1022, 'permanent': 8077, 'dinged': 3062, 'taupegray': 11276, 'insult': 5556, 'frock': 4449, 'wellso': 12613, 'ye': 12961, 'enthusiast': 3628, 'spruce': 10617, 'fabled': 3853, 'fullylined': 4490, 'differen': 3037, 'debuted': 2804, 'marvelous': 6665, 'dolor': 3196, 'hysterically': 5337, 'hurtingpoking': 5324, 'freedom': 4420, 'official': 7529, 'leggingstights': 6172, 'thinki': 11458, 'theyr': 11425, 'observation': 7486, 'featuring': 3999, 'influenced': 5491, 'softly': 10430, 'costumed': 2426, 'gettogethers': 4604, 'niceforgiving': 7313, 'accuracy': 73, 'momisn': 7014, 'determined': 2995, 'muslin': 7141, 'fabmore': 3854, 'lookfeel': 6405, 'untextured': 12154, 'unhappy': 12099, 'western': 12627, 'succulent': 10948, 'gapped': 4540, 'renatkable': 9081, 'humor': 5307, 'spacedye': 10511, 'cocoony': 2049, 'trainer': 11759, 'whip': 12663, 'tankin': 11243, 'fabricthinner': 3873, 'standalone': 10658, 'tankit': 11245, 'sligh': 10219, 'hybrid': 5331, 'pantlegging': 7876, 'prudish': 8651, 'trusty': 11850, 'recomend': 8917, 'immaculate': 5383, 'monthe': 7037, 'marigold': 6643, 'abut': 32, 'intrinsic': 5606, 'attracts': 652, 'pantsand': 7879, 'silvery': 10047, 'boxybaggie': 1300, 'jeanssuper': 5812, 'cutehowever': 2677, 'brush': 1433, 'stroke': 10866, 'michael': 6841, 'kor': 5984, 'fitlook': 4123, 'hacking': 4893, 'underneat': 12033, 'team': 11298, 'chillier': 1864, 'raining': 8801, 'scene': 9561, 'weer': 12567, 'wiast': 12703, 'hopeless': 5219, 'daytonight': 2781, 'coralred': 2400, 'mend': 6790, 'indication': 5472, 'smallmediumi': 10313, 'blouseit': 1118, 'reddishorange': 8945, 'coloration': 2084, 'coolerrainy': 2379, 'brightens': 1380, 'launders': 6096, 'chestshoulder': 1845, 'workoutsand': 12852, 'crossfit': 2595, 'paned': 7870, 'tallchestwaisthipsinseam': 11223, 'qualitythis': 8748, 'brogue': 1399, 'curvythin': 2662, 'straightthin': 10796, 'citymo': 1930, 'plaza': 8282, 'mediately': 6750, 'blkblk': 1097, 'toss': 11727, 'synch': 11185, 'widen': 12715, 'flatteringif': 4203, 'oatmealbeige': 7475, 'alreadyi': 294, 'expectedthe': 3794, 'lightheaded': 6250, 'nod': 7355, 'crime': 2557, 'joked': 5850, 'war': 12445, 'quilting': 8766, 'target': 11259, 'buyer': 1556, 'armsshoulders': 528, 'handpainted': 4928, 'clothingi': 2017, 'dresstunicshirt': 3338, 'plata': 8271, 'boyish': 1312, 'counterbalance': 2455, 'upbeat': 12172, 'spade': 10514, 'column': 2136, 'antique': 410, 'smurf': 10353, 'tinythis': 11599, 'sackvirtually': 9431, 'goldilockstoo': 4687, 'smallbut': 10293, 'protect': 8633, 'colter': 2135, 'objectionably': 7481, 'bohemain': 1195, 'alternate': 310, 'sinc': 10064, 'cucumber': 2620, 'nightdress': 7330, 'tightsetc': 11575, 'delicacy': 2884, 'maintenance': 6595, 'pessimist': 8092, 'backlike': 727, 'mullet': 7116, 'thisto': 11484, 'colorblind': 2085, 'dowton': 3254, 'brokesad': 1403, 'perfectlyi': 8058, 'toplayer': 11692, 'considerable': 2303, 'stubborn': 10879, 'complaintbis': 2219, 'gifted': 4614, 'memorable': 6786, 'eyelash': 3846, 'boudoir': 1280, 'slippery': 10250, 'fitquality': 4126, 'dryel': 3379, 'jus': 5876, 'puregood': 8709, 'cordered': 2402, 'aroundholds': 536, 'intensity': 5567, 'chore': 1892, 'crucial': 2605, 'sloped': 10263, 'layed': 6107, 'returnso': 9212, 'imwas': 5420, 'chanel': 1775, 'imput': 5419, 'toembrace': 11630, 'roder': 9324, 'sleevesbut': 10202, 'halfwayso': 4909, 'poundsluckily': 8445, 'lso': 6509, 'peachyplaid': 7982, 'athleticbuilt': 615, 'issuetoo': 5676, 'officewear': 7528, 'skintone': 10155, 'becaus': 891, 'accomadate': 60, 'carrie': 1675, 'bradshaw': 1319, 'queen': 8753, 'queenworthy': 8754, 'walzing': 12436, 'mayer': 6728, 'diminish': 3057, 'satisfaction': 9522, 'catchy': 1711, 'crumple': 2608, 'us': 12213, 'quirk': 8768, 'blousesheer': 1120, 'topcant': 11680, 'topic': 11689, 'energy': 3599, 'bookmarking': 1225, 'forgiveness': 4356, 'slovenly': 10272, 'creased': 2535, 'downright': 3241, 'radiating': 8787, 'difficu': 3045, 'greywhite': 4845, 'embellished': 3547, 'crunchy': 2610, 'ru': 9385, 'related': 9023, 'allways': 281, 'cabled': 1568, 'mission': 6955, 'inspecting': 5531, 'domino': 3200, 'doest': 3184, 'excellentall': 3750, 'expertly': 3809, 'de': 2791, 'nit': 7348, 'rollneck': 9334, 'transported': 11785, 'psychedelic': 8653, 'bustwide': 1517, 'perhap': 8070, 'remarkable': 9057, 'remark': 9056, 'longjohns': 6379, 'smalland': 10287, 'tx': 11947, 'viceversa': 12320, 'wrn': 12918, 'apt': 486, 'receptionist': 8903, 'nonmaternity': 7379, 'fleshcolored': 4231, 'topped': 11696, 'gripper': 4851, 'sensitivity': 9710, 'coatingelastic': 2040, 'blister': 1094, 'straightpetite': 10792, 'desideria': 2957, 'dakota': 2721, 'washingair': 12483, 'azure': 711, 'printtoday': 8567, 'ashape': 562, 'cabernet': 1565, 'popbackthis': 8388, 'washeddried': 12474, 'daughterit': 2766, 'thesenow': 11422, 'nutty': 7462, 'vibranttrue': 12318, 'shortsjust': 9925, 'stocked': 10752, 'petities': 8108, 'inbox': 5429, 'thisis': 11481, 'luv': 6541, 'hipline': 5141, 'blowsey': 1134, 'unfolding': 12089, 'stripped': 10865, 'kneeii': 5948, 'cooking': 2376, 'sexyromantic': 9758, 'accidental': 57, 'sturdier': 10902, 'tur': 11902, 'crossing': 2597, 'selfconfidence': 9677, 'shin': 9843, 'sweatershirt': 11121, 'thentoo': 11403, 'tahari': 11203, 'collarbone': 2066, 'discomfort': 3104, 'beautifu': 868, 'pillowy': 8203, 'fatty': 3968, 'cheezy': 1825, 'died': 3030, 'doe': 3176, 'capeponcho': 1637, 'whispered': 12670, 'yellowfloral': 12974, 'latch': 6079, 'sizedit': 10100, 'alley': 261, 'reddishburnt': 8944, 'mummy': 7126, 'wthe': 12924, 'picturing': 8167, 'vogue': 12361, 'scored': 9571, 'thanksgivingblack': 11382, 'merely': 6808, 'coatsizing': 2044, 'perfectdrapey': 8045, 'oil': 7549, 'luna': 6530, 'excitement': 3764, 'bent': 949, 'dvfish': 3414, 'aspictured': 577, 'appropriateness': 475, 'atl': 624, 'hangup': 4946, 'superpetite': 11023, 'takeaway': 11212, 'justabovetheankle': 5877, 'healswedges': 5001, 'pencillike': 8015, 'evenly': 3703, 'itemsleeves': 5710, 'swingloose': 11156, 'softens': 10424, 'hifh': 5091, 'bike': 1001, 'colorvery': 2122, 'piecei': 8173, 'lovelygreat': 6483, 'metal': 6826, 'charmeuse': 1792, 'expectingit': 3796, 'sweatergood': 11108, 'bluewhite': 1160, 'backshoulders': 734, 'silkjacquard': 10033, 'delish': 2899, 'questionable': 8757, 'petted': 8111, 'southwesternish': 10505, 'embroarding': 3553, 'delegate': 2880, 'learn': 6143, 'sizeim': 10107, 'superwide': 11034, 'ummmmm': 11982, 'springbut': 10604, 'waaaay': 12386, 'verge': 12287, 'hipster': 5150, 'sizeslightly': 10117, 'widerboxier': 12720, 'armsbust': 521, 'nline': 7350, 'flaterring': 4186, 'abou': 16, 'rebviews': 8888, 'irresistible': 5640, 'bored': 1250, 'internal': 5580, 'retailerbut': 9168, 'timethat': 11590, 'shouldersarmpit': 9949, 'intolerable': 5598, 'shouldersbackupper': 9952, 'nogive': 7358, 'nbut': 7215, 'rahter': 8792, 'groove': 4855, 'forh': 4362, 'browse': 1426, 'err': 3657, 'itchylike': 5702, 'statedit': 10684, 'sandpaperi': 9501, 'flirtiness': 4246, 'lure': 6535, 'inverted': 5614, 'invaluable': 5609, 'sweatertunic': 11126, 'referring': 8976, 'goingsabout': 4681, 'comfortablelove': 2166, 'enormously': 3615, 'chicreminds': 1855, 'mehis': 6775, 'donailed': 3202, 'cardis': 1659, 'exteemely': 3824, 'beautifuldelicate': 871, 'embroiderylace': 3562, 'unfini': 12080, 'atypical': 654, 'yellowivory': 12978, 'resource': 9143, 'magentadark': 6572, 'fuscia': 4508, 'pinkloving': 8219, 'peony': 8021, 'rosette': 9362, 'preggo': 8486, 'loafer': 6345, 'castoff': 1693, 'unconnected': 12011, 'microrib': 6845, 'brigh': 1375, 'jeanslong': 5803, 'sweatertall': 11125, 'composition': 2245, 'tunicand': 11893, 'suprisingly': 11051, 'horticulture': 5236, 'prepregnancy': 8500, 'colorskind': 2111, 'upholstery': 12182, 'fuzziness': 4515, 'extensive': 3828, 'remaindered': 9052, 'linger': 6302, 'reversed': 9222, 'lbsm': 6126, 'finesse': 4087, 'choosi': 1888, 'wt': 12922, 'lbsit': 6125, 'rubber': 9388, 'mildish': 6889, 'nw': 7463, 'oppressive': 7645, 'airiness': 223, 'cl': 1931, 'somethey': 10453, 'wintersalmost': 12767, 'denimif': 2915, 'morethey': 7053, 'chambraydenim': 1767, 'worrisome': 12864, 'allwould': 283, 'velour': 12273, 'browfurrowing': 1413, 'peachpink': 7979, 'layerng': 6113, 'redoing': 8955, 'mitten': 6961, 'recommending': 8923, 'athleticmuscular': 618, 'maternitylooking': 6705, 'tshirti': 11856, 'conscience': 2298, 'screamed': 9585, 'redeeming': 8946, 'returnable': 9207, 'chloe': 1874, 'sevigny': 9743, 'offensive': 7521, 'lineman': 6290, 'shopped': 9894, 'deco': 2826, 'madewell': 6566, 'narrowhipped': 7181, 'fare': 3943, 'buyin': 1558, 'pettite': 8114, 'neater': 7225, 'failure': 3897, 'showthough': 9984, 'improve': 5414, 'storeit': 10773, 'miami': 6840, 'heihei': 5047, 'deserved': 2953, 'tab': 11192, 'streak': 10826, 'lovethis': 6487, 'hanged': 4940, 'thakoon': 11375, 'stellar': 10709, 'backend': 722, 'regulr': 9011, 'elaborate': 3497, 'shiftswing': 9835, 'unwanted': 12162, 'pricepoint': 8544, 'brafriendliness': 1320, 'straightskinny': 10793, 'muscularathletic': 7134, 'legsbottom': 6177, 'uncovered': 12012, 'childish': 1860, 'valentino': 12248, 'shattered': 9794, 'deem': 2836, 'wouldwill': 12878, 'keer': 5909, 'aster': 598, 'agoi': 196, 'spotsnot': 10596, 'safely': 9443, 'asscoaites': 578, 'headwater': 4997, 'seychelle': 9759, 'dorsay': 3213, 'fiddling': 4043, 'blac': 1043, 'translated': 11779, 'handembroidered': 4920, 'advertising': 154, 'trired': 11829, 'lvoed': 6547, 'profession': 8594, 'shortwhich': 9932, 'sigh': 10021, 'disastrously': 3097, 'cutalteration': 2671, 'survey': 11075, 'fitsdrapes': 4128, 'rightthey': 9283, 'strangling': 10808, 'pragmatic': 8458, 'stretchyhte': 10847, 'itno': 5727, 'zillion': 13030, 'retroswingy': 9200, 'mia': 6839, 'farrow': 3947, 'rosemary': 9360, 'era': 3653, 'sultry': 10978, 'nighttime': 7335, 'dotswill': 3216, 'sweatersthe': 11122, 'yogini': 13004, 'practicality': 8452, 'slightlyyyy': 10226, 'yogapilates': 13002, 'activity': 95, 'seefeel': 9656, 'clin': 1985, 'birkinstocks': 1026, 'breakfast': 1347, 'corodorys': 2411, 'interpret': 5585, 'stretchey': 10836, 'outfitter': 7717, 'looserfit': 6444, 'perc': 8031, 'oop': 7618, 'icecream': 5345, 'photographer': 8129, 'vent': 12279, 'dividend': 3165, 'petticoat': 8112, 'nolan': 7363, 'picturemore': 8161, 'teaching': 11292, 'summerfall': 10988, 'tealength': 11295, 'detailsvery': 2988, 'awed': 696, 'pig': 8179, 'smock': 10342, 'accommodating': 64, 'skater': 10135, 'honolulu': 5201, 'autumnearly': 671, 'loungesleep': 6470, 'colorsunlike': 2118, 'dullmore': 3395, 'stylevery': 10917, 'trendyfit': 11807, 'shortiestrue': 9914, 'maternitylike': 6704, 'bonetop': 1211, 'lowwaisted': 6505, 'itunless': 5743, 'visibility': 12343, 'headlight': 4994, 'tedious': 11305, 'hurdle': 5320, 'diffe': 3035, 'doeseven': 3181, 'retailerthere': 9186, 'blk': 1096, 'relaxedtrouser': 9031, 'topsthis': 11708, 'cinderalla': 1916, 'momenttotally': 7012, 'housewife': 5256, 'satisfactory': 9523, 'againuntil': 184, 'endo': 3593, 'adventurous': 152, 'wonderfulcozy': 12814, 'film': 4070, 'actively': 93, 'pup': 8687, 'lovingly': 6491, 'brushing': 1435, 'puppy': 8688, 'pinched': 8207, 'che': 1800, 'perspective': 8087, 'beshowed': 954, 'rocket': 9319, 'loosernot': 6445, 'stumped': 10895, 'brownlove': 1422, 'clingier': 1988, 'upsid': 12197, 'compaint': 2200, 'ldecide': 6131, 'roared': 9309, 'bluered': 1154, 'rider': 9268, 'mater': 6688, 'steaming': 10702, 'functionality': 4496, 'lovelove': 6481, 'weekcrazy': 12560, 'awaykinda': 694, 'aret': 505, 'stretchyfeels': 10845, 'cordsand': 2403, 'daysevenings': 2775, 'shirtblouse': 9861, 'glittersparkle': 4656, 'toosmall': 11667, 'ambiguous': 340, 'browngrayplum': 1417, 'tummymuffin': 11889, 'wimpy': 12744, 'alittle': 257, 'hutch': 5326, 'shapestyle': 9785, 'longerhits': 6371, 'photography': 8130, 'dual': 3387, 'clas': 1939, 'blazeradorable': 1073, 'crimsonbrick': 2560, 'compromising': 2250, 'vestit': 12310, 'topeven': 11684, 'wideloose': 12713, 'graywhy': 4780, 'mashing': 6670, 'shredded': 9988, 'fireside': 4100, 'christma': 1897, 'sandels': 9497, 'buttonedup': 1543, 'overshirt': 7790, 'ark': 510, 'absorbent': 25, 'generousi': 4583, 'storeso': 10776, 'softvery': 10434, 'contain': 2329, 'wearthe': 12536, 'circleso': 1921, 'armholesthey': 516, 'determining': 2996, 'itdefinitely': 5705, 'aframe': 173, 'sacramento': 9432, 'definitive': 2873, 'foggy': 4316, 'bottomcrotch': 1269, 'midshin': 6873, 'boxyroomy': 1305, 'chamois': 1769, 'shammy': 9772, 'braid': 1323, 'graybrown': 4772, 'impact': 5392, 'straplength': 10810, 'pinch': 8206, 'battle': 831, 'tightens': 11565, 'unsightly': 12145, 'ahem': 207, 'blond': 1106, 'flipflops': 4241, 'needwear': 7262, 'oft': 7544, 'tightand': 11560, 'skimmed': 10143, 'blurred': 1165, 'printit': 8563, 'lea': 6133, 'undiesuntil': 12062, 'nyt': 7472, 'comforable': 2154, 'perfectlyvery': 8061, 'softamazing': 10416, 'blog': 1104, 'enjoyment': 3611, 'cane': 1623, 'offit': 7530, 'sway': 11099, 'jeansthey': 5814, 'didthey': 3028, 'hairy': 4902, 'outthis': 7736, 'crafty': 2508, 'alsolooks': 298, 'pommed': 8358, 'endup': 3597, 'athletically': 614, 'felty': 4023, 'viewed': 12325, 'construct': 2320, 'appleshaped': 457, 'bronzey': 1407, 'greyjust': 4841, 'demand': 2904, 'litt': 6328, 'cottonpolyester': 2439, 'blendnot': 1084, 'nicked': 7324, 'dusterlove': 3411, 'picturedi': 8157, 'shank': 9773, 'remade': 9049, 'touted': 11738, 'redenough': 8947, 'playa': 8275, 'twolayer': 11943, 'brocadetapestry': 1397, 'liquid': 6315, 'gotothebeach': 4728, 'shove': 9970, 'comfysoftroomy': 2183, 'genuine': 4591, 'purchasable': 8697, 'thx': 11535, 'shortlegged': 9917, 'plague': 8258, 'trimhood': 11822, 'incarnation': 5431, 'commission': 2193, 'armscye': 523, 'halfwaytochristmas': 4910, 'wayoff': 12508, 'crossover': 2598, 'bloop': 1110, 'tugged': 11879, 'sllm': 10262, 'spite': 10571, 'snowflake': 10380, 'attrac': 647, 'modellose': 6988, 'entertaining': 3626, 'currentelliot': 2644, 'dressso': 3330, 'accuratei': 75, 'colorspatterns': 2113, 'madras': 6568, 'waysand': 12509, 'areif': 503, 'tighti': 11569, 'exterior': 3831, 'tightening': 11564, 'boxines': 1295, 'jammie': 5781, 'retired': 9195, 'vadc': 12244, 'missoni': 6957, 'seeking': 9659, 'topheavy': 11687, 'brag': 1322, 'sidezipper': 10017, 'restroom': 9161, 'fitnot': 4124, 'waterwrinkles': 12501, 'starburst': 10668, 'menti': 6797, 'longerads': 6368, 'necklineenhances': 7247, 'mosswhich': 7061, 'browni': 1418, 'cutshowing': 2702, 'maize': 6596, 'heirloom': 5048, 'yello': 12969, 'wiggling': 12728, 'areawin': 501, 'promotional': 8613, 'hamper': 4917, 'careless': 1664, 'stuckbadly': 10881, 'oldstyle': 7562, 'vividly': 12356, 'pining': 8210, 'balloonfit': 778, 'dwarfed': 3415, 'assoc': 587, 'flab': 4157, 'comparing': 2207, 'oetiteregular': 7518, 'shortspants': 9928, 'observed': 7487, 'comfortableflattering': 2161, 'holidaynye': 5182, 'patternnot': 7955, 'sweateri': 11109, 'washingthe': 12484, 'bigbut': 988, 'sizingusually': 10132, 'bind': 1016, 'whiteonwhite': 12682, 'belowclassic': 936, 'preparing': 8498, 'testing': 11360, 'flowyish': 4285, 'demographic': 2907, 'fitsflatters': 4129, 'lap': 6041, 'toppiece': 11698, 'daker': 2720, 'bottome': 1270, 'peitte': 8009, 'perspiration': 8088, 'minidress': 6908, 'shirtwhich': 9878, 'benea': 944, 'petitethe': 8105, 'ambitious': 341, 'attic': 643, 'inthe': 5593, 'elasticruffle': 3502, 'nut': 7459, 'duplicated': 3400, 'carnival': 1671, 'syntheticthe': 11187, 'capedigan': 1634, 'quirkiness': 8769, 'continuity': 2342, 'sheep': 9811, 'salespersonwow': 9476, 'hangerso': 4943, 'wellright': 12612, 'rufflefabric': 9397, 'ole': 7563, 'heap': 5004, 'volumous': 12370, 'mainstreamed': 6590, 'relentless': 9039, 'phd': 8119, 'mpetite': 7097, 'bumpkin': 1480, 'symmetry': 11181, 'centering': 1747, 'becau': 890, 'trus': 11846, 'greybluish': 4833, 'pesonal': 8091, 'prettierthe': 8517, 'lineny': 6294, 'brunchbeach': 1431, 'misnomer': 6946, 'sweatercardigan': 11105, 'princessfeeling': 8555, 'squarish': 10624, 'cheapens': 1802, 'downbut': 3235, 'overalli': 7753, 'satisfi': 9524, 'caribbean': 1668, 'meleri': 6778, 'accepts': 48, 'deceptively': 2815, 'classyclassic': 1957, 'flirtier': 4245, 'fundraiser': 4497, 'teaser': 11302, 'peittes': 8010, 'stillso': 10740, 'fiddly': 4044, 'goesj': 4677, 'bulkystiff': 1471, 'retailerpolgy': 9180, 'outgot': 7720, 'hangy': 4948, 'thre': 11504, 'availalbe': 677, 'lwait': 6548, 'htin': 5278, 'photosand': 8132, 'detract': 3000, 'lookbut': 6399, 'chestbust': 1838, 'longerespecially': 6370, 'noce': 7354, 'curvyfullfigured': 2659, 'stirrup': 10745, 'twotoned': 11946, 'fabricfine': 3860, 'rollbutton': 9329, 'banking': 797, 'situated': 10091, 'colde': 2057, 'dove': 3230, 'leggingsyoga': 6173, 'causally': 1719, 'milder': 6888, 'hugevery': 5292, 'dansko': 2742, 'surprisedi': 11066, 'manthis': 6629, 'cave': 1725, 'overindulge': 7768, 'sexyconservative': 9756, 'futuristic': 4513, 'pry': 8652, 'allthis': 276, 'sunnyhappy': 11009, 'molting': 7008, 'fanicer': 3940, 'unrolled': 12141, 'insulating': 5555, 'sooooooo': 10470, 'anyou': 425, 'puckering': 8658, 'soooooooo': 10471, 'doen': 3177, 'campus': 1613, 'picot': 8150, 'darby': 2744, 'deign': 2877, 'coldest': 2059, 'numero': 7455, 'uno': 12127, 'cedarneutral': 1735, 'irr': 5637, 'trek': 11802, 'villain': 12328, 'complemented': 2224, 'mermaidish': 6811, 'drapeit': 3268, 'dryi': 3382, 'stylecut': 10908, 'peggedslimtapered': 8006, 'hmmm': 5166, 'dropping': 3364, 'lookingit': 6407, 'anticipatingi': 408, 'highlo': 5107, 'panama': 7866, 'flatform': 4188, 'unbeatable': 11995, 'quilt': 8764, 'tale': 11216, 'leblon': 6154, 'loooooove': 6423, 'chasing': 1799, 'pond': 8365, 'kill': 5925, 'mila': 6885, 'slice': 10214, 'kindly': 5936, 'pyjama': 8736, 'slende': 10208, 'tote': 11731, 'breeziness': 1364, 'sake': 9461, 'coolits': 2382, 'sporting': 10590, 'tunici': 11896, 'underlayment': 12029, 'formality': 4366, 'gloomy': 4661, 'rehemmed': 9013, 'snipped': 10378, 'overwhelms': 7812, 'forwar': 4385, 'topaccessories': 11675, 'smoother': 10347, 'soak': 10401, 'woolite': 12830, 'wreaked': 12894, 'subsequent': 10930, 'bathed': 826, 'impresssionistic': 5413, 'wraparound': 12887, 'neatly': 7227, 'navynot': 7210, 'upped': 12190, 'navygreen': 7202, 'tannude': 11250, 'track': 11749, 'saratoga': 9508, 'multifabric': 7122, 'colleague': 2073, 'adjustedthen': 128, 'curvehugging': 2651, 'heaviness': 5025, 'shoulderssleeves': 9964, 'homage': 5186, 'bohopeasant': 1201, 'chestier': 1842, 'semicasual': 9689, 'boobed': 1220, 'ocher': 7504, 'yellowygreen': 12982, 'baggyloose': 760, 'lookdefinitely': 6400, 'desirethe': 2971, 'cutei': 2678, 'bleached': 1077, 'denimmaterial': 2917, 'shortsized': 9924, 'nonankle': 7366, 'incr': 5457, 'hinder': 5129, 'afterwork': 178, 'shel': 9824, 'dainty': 2717, 'flannelswhich': 4169, 'colorsblack': 2103, 'llb': 6341, 'potatoe': 8433, 'washablewhat': 12471, 'boyfriendy': 1310, 'map': 6636, 'whitet': 12685, 'onegreat': 7580, 'tended': 11332, 'appr': 463, 'interpretation': 5586, 'peplm': 8024, 'unreliable': 12139, 'poke': 8330, 'bubblelike': 1447, 'dressand': 3302, 'definetely': 2865, 'kangaroo': 5896, 'tempting': 11326, 'romance': 9336, 'evenlooking': 3702, 'void': 12362, 'horsebedecked': 5234, 'nerdy': 7279, 'rol': 9326, 'iswing': 5685, 'alternation': 312, 'hyperhidrosis': 5335, 'sweating': 11129, 'coverageprotection': 2472, 'fluidity': 4300, 'boarded': 1172, 'chinoswhat': 1873, 'bus': 1504, 'altho': 314, 'largeloose': 6053, 'transform': 11769, 'embedded': 3546, 'boxytrue': 1306, 'highest': 5100, 'pace': 7821, 'smallaverage': 10290, 'dire': 3071, 'mentality': 6796, 'thicknessstretch': 11438, 'spinning': 10568, 'freeship': 4424, 'inching': 5436, 'inflexibility': 5490, 'crinoline': 2565, 'royalty': 9379, 'fluttering': 4306, 'goofy': 4707, 'inquiry': 5517, 'coobies': 2373, 'swell': 11142, 'cartionnier': 1681, 'recommendusually': 8924, 'monogram': 7028, 'snowweird': 10383, 'redbrown': 8940, 'blackgold': 1050, 'charlies': 1790, 'jeanscords': 5800, 'abck': 9, 'openly': 7633, 'instructionshaha': 5551, 'fallwintersummer': 3923, 'sheertissue': 9821, 'dit': 3159, 'tunictop': 11900, 'scrolling': 9592, 'stretchyness': 10849, 'harness': 4969, 'fullfigured': 4479, 'lusciousness': 6538, 'scenario': 9560, 'ugliest': 11964, 'antebellum': 396, 'approximately': 479, 'depictes': 2932, 'plico': 8301, 'ahe': 204, 'corn': 2407, 'lon': 6358, 'itruns': 5732, 'topsheer': 11703, 'anxiously': 419, 'abo': 14, 'isabella': 5648, 'sinclair': 10071, 'homespun': 5193, 'vulnerable': 12380, 'flattereing': 4197, 'sub': 10926, 'modelright': 6990, 'wlovely': 12801, 'regretfully': 9001, 'practicaltheyre': 8454, 'demonstrates': 2910, 'compatible': 2210, 'iordered': 5625, 'rregualr': 9381, 'deciced': 2816, 'netural': 7286, 'lavaialble': 6099, 'info': 5493, 'cuffing': 2628, 'doubleknot': 3223, 'belief': 922, 'popitonandgo': 8391, 'peaked': 7985, 'imaging': 5378, 'str': 10780, 'postthree': 8428, 'maillot': 6585, 'slumpy': 10277, 'cand': 1620, 'comfortableso': 2168, 'versatileso': 12298, 'revisiting': 9239, 'itthinking': 5738, 'chopped': 1890, 'onbut': 7575, 'comebackbut': 2149, 'hub': 5281, 'straplooking': 10813, 'puffin': 8667, 'tenting': 11342, 'bicep': 980, 'laec': 6027, 'qualityverses': 8749, 'mediumlight': 6759, 'errandsinstead': 3660, 'bitter': 1036, 'richerdarker': 9261, 'gorgeus': 4722, 'alert': 243, 'letting': 6218, 'adorn': 148, 'breathability': 1354, 'hangsflows': 4945, 'gorgeousthen': 4718, 'pand': 7868, 'armsif': 527, 'missized': 6956, 'speed': 10554, 'roomybaggy': 9350, 'flapping': 4174, 'tshirtit': 11857, 'humongous': 5306, 'giantess': 4611, 'beautifullly': 876, 'receiv': 8895, 'widens': 12718, 'hipi': 5139, 'iliked': 5364, 'everyth': 3717, 'sweaterunique': 11128, 'taylored': 11282, 'issued': 5672, 'suport': 11036, 'topunfortunately': 11713, 'preface': 8473, 'shining': 9848, 'crinkle': 2562, 'tech': 11303, 'writer': 12915, 'wribbon': 12902, 'candy': 1622, 'retailerp': 9174, 'itim': 5719, 'viewer': 12326, 'saidexcept': 9454, 'whiteit': 12678, 'restricts': 9160, 'plansbut': 8267, 'softcomfortable': 10419, 'fiery': 4046, 'bustyless': 1521, 'fringing': 4445, 'iteveryone': 5712, 'wellnot': 12610, 'htat': 5273, 'canvaslike': 1629, 'nylonish': 7469, 'sequined': 9725, 'packable': 7823, 'tdf': 11286, 'perfecto': 8063, 'tonal': 11648, 'retailerpologists': 9183, 'creepy': 2550, 'recievied': 8908, 'jaggedly': 5779, 'haphazardly': 4951, 'sewnit': 9750, 'modelsized': 6991, 'dominant': 3197, 'photosthe': 8136, 'dismay': 3126, 'correctit': 2415, 'aaaahmazing': 3, 'sohpisticated': 10435, 'unfrotuantely': 12098, 'stamp': 10655, 'cupped': 2633, 'rial': 9246, 'dippy': 3070, 'moisture': 7005, 'greycondensation': 4835, 'deodorant': 2925, 'noon': 7392, 'straightforward': 10790, 'coope': 2388, 'amazingit': 332, 'rearranging': 8878, 'inlay': 5509, 'uch': 11961, 'materil': 6698, 'ocol': 7507, 'ttsso': 11868, 'cutwill': 2707, 'outgoing': 7719, 'chokey': 1884, 'rosey': 9363, 'somethingnot': 10455, 'nephew': 7278, 'runching': 9411, 'gameday': 4533, 'upgraded': 12180, 'defeat': 2850, 'daysstill': 2777, 'waaaaaay': 12384, 'blackgreat': 1053, 'staged': 10648, 'surplus': 11063, 'tinyfit': 11598, 'served': 9732, 'summerfor': 10989, 'semiopen': 9697, 'reeeeally': 8966, 'grrrrr': 4866, 'exa': 3732, 'isoftens': 5667, 'facejust': 3882, 'fori': 4363, 'amore': 348, 'vouch': 12374, 'fitbut': 4116, 'salon': 9484, 'underdress': 12021, 'isyou': 5687, 'jeggingsleggings': 5821, 'withing': 12790, 'everythingway': 3722, 'keel': 5903, 'pinstriped': 8228, 'greennot': 4821, 'greengray': 4815, 'minuscule': 6932, 'houndstoothlike': 5249, 'checkboardlike': 1811, 'redberry': 8937, 'weightbut': 12575, 'thereand': 11411, 'pun': 8683, 'echo': 3458, 'squashed': 10626, 'jazz': 5792, 'wanderer': 12439, 'snowflske': 10381, 'alluring': 277, 'ol': 7556, 'tickle': 11542, 'girlie': 4624, 'thighsha': 11450, 'arei': 502, 'offs': 7537, 'washablethe': 12470, 'prev': 8526, 'carra': 1674, 'buttonfly': 1544, 'protrude': 8636, 'sourfaced': 10499, 'sortof': 10486, 'saundra': 9532, 'praise': 8460, 'debatedtwo': 2802, 'resounding': 9142, 'complexioncool': 2234, 'abnormal': 13, 'powerless': 8449, 'dare': 2745, 'coth': 2431, 'stonw': 10762, 'kota': 5986, 'itsy': 5735, 'bitsy': 1035, 'colorvaried': 2121, 'thinness': 11466, 'ravel': 8837, 'armful': 513, 'bangle': 795, 'distract': 3146, 'rehersal': 9014, 'beautifil': 867, 'petitte': 8109, 'upgrade': 12179, 'wisesaw': 12776, 'pinkit': 8218, 'brochure': 1398, 'topsand': 11701, 'loosefit': 6434, 'bolder': 1204, 'salesome': 9474, 'outhang': 7722, 'barley': 807, 'elasticity': 3500, 'reasonsit': 8882, 'middlefinally': 6857, 'winglike': 12758, 'camouflaged': 1608, 'indiscretion': 5475, 'conditioned': 2269, 'wilted': 12743, 'ehhh': 3487, 'zooming': 13044, 'shownand': 9979, 'rightcute': 9278, 'enticed': 3629, 'printing': 8562, 'dresser': 3310, 'spreading': 10602, 'palm': 7863, 'icing': 5346, 'cake': 1579, 'regrettably': 9002, 'january': 5786, 'request': 9114, 'crisply': 2569, 'finicky': 4092, 'scuba': 9601, 'myselfi': 7156, 'saleslady': 9473, 'steel': 10705, 'stylingit': 10920, 'smidgen': 10335, 'girli': 4623, 'insane': 5518, 'tankbut': 11239, 'meperhaps': 6804, 'gapshow': 4543, 'grayyellow': 4781, 'greyblack': 4831, 'swept': 11144, 'earnings': 3431, 'conform': 2283, 'threading': 11506, 'sunning': 11007, 'mourn': 7084, 'bigam': 985, 'swimmingly': 11149, 'collaboration': 2063, 'airly': 227, 'wethot': 12632, 'reckon': 8910, 'pinkpurpleblueblack': 8220, 'stripey': 10863, 'feasible': 3993, 'greener': 4814, 'sunlight': 11005, 'agoand': 195, 'dresswith': 3341, 'tankwith': 11248, 'gymnastics': 4885, 'awhilesnatched': 703, 'creampatterned': 2530, 'hunted': 5316, 'overal': 7750, 'likebut': 6263, 'returrn': 9213, 'milan': 6886, 'comfortableeven': 2160, 'gi': 4608, 'graybluegreenblack': 4771, 'tentlook': 11344, 'nyloncotton': 7468, 'carful': 1665, 'trough': 11835, 'violet': 12339, 'flux': 4308, 'caccoon': 1570, 'whitethis': 12687, 'retaileryes': 9188, 'crinkled': 2563, 'pashminas': 7928, 'photoon': 8131, 'male': 6607, 'constrained': 2315, 'stiffnessstructure': 10734, 'visibly': 12346, 'disgusting': 3119, 'toxic': 11744, 'eveningslove': 3700, 'pantie': 7875, 'lass': 6074, 'shapelessness': 9781, 'loun': 6466, 'uploaded': 12187, 'unsuccessful': 12149, 'togetheraside': 11634, 'perfectlight': 8052, 'specialist': 10542, 'raunching': 8833, 'allinall': 263, 'curvyhips': 2660, 'blaring': 1070, 'straightslenderpetite': 10795, 'cableknot': 1569, 'eighty': 3490, 'finer': 4085, 'rebound': 8887, 'fallback': 3908, 'cutejust': 2679, 'hipstummybutt': 5153, 'sspm': 10639, 'pebbled': 7993, 'crosswrap': 2600, 'peepholekeyhole': 8002, 'workchu': 12841, 'ands': 367, 'prefectly': 8476, 'deails': 2793, 'kuddos': 5988, 'sundress': 11000, 'gaining': 4524, 'smallpetite': 10316, 'inclined': 5441, 'midseptember': 6872, 'rebought': 8886, 'nabbing': 7163, 'testament': 11358, 'hh': 5084, 'darned': 2757, 'printcolor': 8558, 'cuthenley': 2693, 'shirtsmock': 9871, 'deeplow': 2844, 'middeep': 6852, 'unwieldy': 12164, 'ct': 2617, 'howeverit': 5266, 'pencilfit': 8014, 'overdress': 7759, 'brunette': 1432, 'bronzegolden': 1406, 'gunmetal': 4880, 'costa': 2423, 'rica': 9258, 'sequence': 9723, 'shortcoming': 9902, 'petitethinner': 8106, 'coupled': 2460, 'backchest': 720, 'scottish': 9573, 'wellies': 12607, 'dynamic': 3420, 'invariably': 5610, 'superugly': 11032, 'rosepink': 9361, 'ah': 202, 'straighterlooking': 10788, 'cehst': 1736, 'colr': 2132, 'problemi': 8582, 'rawhemmed': 8840, 'longagain': 6363, 'wandered': 12438, 'refgular': 8977, 'btu': 1442, 'wring': 12903, 'strectchy': 10829, 'stiched': 10721, 'ucan': 11960, 'adjsut': 122, 'firmness': 4104, 'tuliplike': 11883, 'fuzzyjust': 4518, 'lookingsometimes': 6409, 'marshmallow': 6658, 'bettys': 968, 'eversoslightly': 3710, 'yippee': 12997, 'necessity': 7235, 'cerise': 1752, 'jacketcoat': 5761, 'gear': 4570, 'sickly': 10007, 'yellowbeige': 12971, 'essentiel': 3677, 'antwerp': 417, 'ear': 3425, 'noseor': 7406, 'winking': 12759, 'rolldown': 9330, 'topwith': 11715, 'flora': 4260, 'fauna': 3972, 'safari': 9441, 'popback': 8387, 'specialthe': 10545, 'blossoming': 1112, 'usedand': 12218, 'monitoring': 7026, 'colorfit': 2093, 'lurex': 6536, 'farrier': 3946, 'crossword': 2599, 'cosmetic': 2421, 'downwards': 3252, 'mmmmm': 6969, 'lin': 6282, 'ooze': 7620, 'ensured': 3621, 'thermal': 11417, 'error': 3662, 'sweetens': 11137, 'muddy': 7110, 'ingredient': 5500, 'toolike': 11662, 'stack': 10643, 'sculpting': 9604, 'looooooove': 6422, 'comfo': 2153, 'drynow': 3384, 'sneakersandal': 10376, 'drycleaned': 3378, 'shillouette': 9836, 'courderoy': 2463, 'blogger': 1105, 'amber': 339, 'fillerupclark': 4069, 'monokini': 7029, 'rackerback': 8785, 'boughtthe': 1284, 'nicksbohemian': 7325, 'notedit': 7414, 'risqu': 9304, 'patternprint': 7956, 'siyu': 10095, 'nantucket': 7173, 'horizon': 5222, 'redblack': 8938, 'colorsblocking': 2104, 'greenblack': 4811, 'seek': 9658, 'therapy': 11409, 'perfume': 8069, 'nauseating': 7193, 'assistant': 585, 'dressshirt': 3327, 'cease': 1732, 'amaze': 326, 'intracately': 5600, 'magnolia': 6578, 'scruffy': 9595, 'boardwalk': 1174, 'gorgeousbut': 4713, 'uphere': 12181, 'goldilicks': 4686, 'eptites': 3647, 'tey': 11372, 'ltitle': 6512, 'thougha': 11495, 'cappier': 1639, 'trailered': 11757, 'lowraise': 6502, 'coolwhich': 2387, 'thinmore': 11463, 'mauvish': 6719, 'earth': 3433, 'combed': 2140, 'highneeded': 5110, 'incomplete': 5448, 'squeezing': 10631, 'brilliantthe': 1384, 'subtlethe': 10940, 'stuffand': 10888, 'athough': 621, 'railroad': 8795, 'nominal': 7364, 'ruffl': 9394, 'saved': 9536, 'garnered': 4551, 'delicately': 2889, 'highe': 5094, 'littlegirl': 6332, 'longlegged': 6380, 'pilatesyoga': 8182, 'gun': 4879, 'postmark': 8424, 'crimson': 2559, 'negligee': 7266, 'gypsy': 4887, 'waistlegs': 12408, 'grand': 4750, 'chagrin': 1759, 'jingling': 5838, 'noise': 7362, 'yesyou': 12991, 'poufing': 8441, 'deemphasize': 2837, 'teensy': 11310, 'bottomsjeans': 1275, 'cycl': 2710, 'teenager': 11309, 'ecause': 3455, 'recurrent': 8935, 'excuse': 3771, 'anoth': 387, 'washedline': 12477, 'maintained': 6592, 'perch': 8038, 'waistshape': 12418, 'trash': 11789, 'offcenter': 7520, 'readytowear': 8862, 'predictably': 8470, 'sartorial': 9510, 'ferry': 4032, 'mostespecially': 7064, 'extend': 3825, 'inhouse': 5502, 'strangelyi': 10804, 'outwards': 7738, 'embarrassed': 3544, 'lizard': 6339, 'bootsfrye': 1240, 'jane': 5783, 'punched': 8685, 'importance': 5399, 'lens': 6211, 'realitymeh': 8868, 'laura': 6098, 'ashley': 564, 'marching': 6640, 'cloying': 2025, 'slanted': 10179, 'claire': 1935, 'underwood': 12060, 'fashionwise': 3952, 'lackedsomething': 6012, 'lacked': 6011, 'loveeeeeeee': 6479, 'quali': 8743, 'onetwo': 7588, 'marian': 6641, 'alexandria': 246, 'vein': 12272, 'gender': 4577, 'sloping': 10264, 'thighquadricep': 11447, 'shotyou': 9937, 'rendered': 9082, 'saddened': 9436, 'pancho': 7867, 'offlate': 7531, 'gorgeousit': 4714, 'figuredso': 4056, 'womenand': 12809, 'sweaterjust': 11113, 'sexyness': 9757, 'louis': 6464, 'vuitton': 12378, 'goodhyouman': 4698, 'forehead': 4346, 'kiss': 5938, 'givinng': 4637, 'dndt': 3171, 'avid': 683, 'msize': 7101, 'yogi': 13003, 'labeling': 5993, 'bhldn': 975, 'reception': 8902, 'dread': 3286, 'shimmersthere': 9839, 'retailerpolog': 9181, 'designit': 2963, 'areathis': 500, 'breaking': 1348, 'inclination': 5440, 'alinefitnflare': 254, 'subtlety': 10941, 'parka': 7911, 'ismokylike': 5664, 'disappeared': 3083, 'pilcr': 8186, 'beckons': 893, 'ponchotype': 8364, 'understatement': 12047, 'father': 3962, 'compareed': 2206, 'footankle': 4336, 'piqued': 8237, 'factored': 3886, 'kneenot': 5951, 'toposition': 11695, 'becauseit': 892, 'withoutso': 12794, 'timelessness': 11586, 'century': 1750, 'tuts': 11917, 'pregnanti': 8489, 'pregnantso': 8490, 'slightl': 10224, 'nitpick': 7349, 'brastraps': 1340, 'outrageously': 7730, 'oversizedand': 7794, 'lookits': 6410, 'comfortablereally': 2167, 'choicebut': 1881, 'mediumbecause': 6757, 'sadincalled': 9438, 'flir': 4243, 'learning': 6145, 'secondthe': 9643, 'squared': 10622, 'ridge': 9269, 'whilst': 12656, 'mongolian': 7023, 'singing': 10073, 'operatic': 7637, 'aria': 508, 'sole': 10438, 'reache': 8849, 'gilded': 4616, 'justbroke': 5878, 'trapped': 11788, 'escape': 3666, 'slipyou': 10254, 'stumpy': 10896, 'wellstructured': 12615, 'smallerbusted': 10296, 'goodnot': 4702, 'upi': 12183, 'sx': 11175, 'didit': 3025, 'snugnot': 10399, 'chestbut': 1839, 'issuesthe': 5675, 'comfortab': 2157, 'sec': 9639, 'tournament': 11737, 'nervousthere': 7282, 'bunny': 1490, 'billowpuffbag': 1012, 'thereno': 11416, 'colori': 2095, 'kneethere': 5959, 'ig': 5356, 'represent': 9107, 'forcing': 4344, 'economical': 3460, 'darkness': 2752, 'duller': 3394, 'sadthe': 9440, 'wobbly': 12804, 'likepilled': 6268, 'warmup': 12456, 'daisy': 2718, 'visitor': 12351, 'freezing': 4427, 'oki': 7553, 'dressthis': 3335, 'eveningvery': 3701, 'madei': 6563, 'articlepattern': 551, 'exp': 3784, 'xsm': 12932, 'freshen': 4432, 'strangled': 10807, 'enveloping': 3635, 'preschooler': 8501, 'sleevemade': 10199, 'resort': 9141, 'ccup': 1730, 'confuse': 2288, 'tobaccokhaki': 11621, 'anatomy': 361, 'apres': 481, 'oozing': 7621, 'priceit': 8541, 'machinedelicate': 6558, 'anthto': 403, 'facebook': 3879, 'gateway': 4556, 'ityou': 5744, 'elevatedand': 3521, 'doesnampampampamp': 3182, 'dressat': 3304, 'bladesrather': 1063, 'haunt': 4979, 'otherw': 7699, 'momish': 7013, 'gar': 4544, 'mound': 7082, 'thorwback': 11491, 'mankind': 6624, 'diet': 3033, 'shedpilled': 9807, 'anklestrap': 379, 'insisted': 5528, 'goodone': 4703, 'mjuch': 6967, 'huhm': 5298, 'twinsies': 11932, 'gauzelike': 4565, 'predominant': 8471, 'silvergold': 10044, 'wreck': 12895, 'otw': 7705, 'ultracomfort': 11974, 'aded': 115, 'mintue': 6928, 'darkler': 2751, 'mathced': 6706, 'everythiing': 3718, 'msallet': 7099, 'jkeep': 5839, 'matvehd': 6715, 'ejans': 3496, 'waas': 12388, 'clock': 1996, 'nick': 7323, 'comfrotbale': 2177, 'flattrering': 4211, 'alining': 256, 'petie': 8096, 'shortsskinnies': 9929, 'nontraditional': 7390, 'farther': 3948, 'somelooked': 10451, 'tonemore': 11651, 'encouraging': 3588, 'incidental': 5438, 'allseason': 274, 'orphan': 7693, 'supermand': 11021, 'lingere': 6303, 'bedtime': 900, 'revealinglow': 9218, 'cracking': 2502, 'busting': 1512, 'righ': 9276, 'funk': 4500, 'fitunfortunately': 4146, 'itfor': 5714, 'thee': 11392, 'brandretailer': 1335, 'shouldersbiceps': 9953, 'keen': 5904, 'cutewith': 2692, 'pice': 8143, 'drumstick': 3374, 'swallowing': 11090, 'widel': 12709, 'occurred': 7500, 'thrift': 11511, 'streamlined': 10828, 'paletearose': 7858, 'backless': 726, 'mediu': 6754, 'coastal': 2037, 'onwow': 7611, 'chicness': 1854, 'ilike': 5363, 'connected': 2294, 'perf': 8040, 'phase': 8118, 'ribcageshort': 9255, 'springtosummer': 10613, 'lackadaisical': 6010, 'topblouse': 11678, 'message': 6818, 'motivated': 7076, 'font': 4331, 'highwasted': 5121, 'whittle': 12692, 'gingham': 4618, 'blockingrich': 1103, 'greatz': 4805, 'straightened': 10785, 'betterthe': 966, 'moz': 7095, 'effortlessorder': 3480, 'airyvery': 232, 'electricity': 3510, 'imitation': 5381, 'anythingjust': 429, 'loveatfirstsight': 6476, 'naming': 7170, 'burgundyred': 1496, 'shorties': 9913, 'kee': 5902, 'smalllight': 10308, 'designsi': 2968, 'fau': 3969, 'mesmerized': 6814, 'fancied': 3935, 'casualed': 1697, 'skipping': 10160, 'saidit': 9455, 'qualityit': 8746, 'prettily': 8520, 'weightiness': 12579, 'frank': 4411, 'cavernous': 1728, 'fleshy': 4232, 'mainstay': 6589, 'blousynot': 1131, 'aggressively': 192, 'throwon': 11528, 'pantseven': 7883, 'physicality': 8138, 'illeffects': 5366, 'laden': 6018, 'partway': 7923, 'colornot': 2099, 'loser': 6454, 'denimlike': 2916, 'moonscape': 7046, 'sizeshowever': 10115, 'maximizes': 6725, 'meta': 6825, 'beatifully': 861, 'completel': 2227, 'flashy': 4182, 'greybrown': 4834, 'opposing': 7642, 'underneathit': 12035, 'presentable': 8503, 'granddaughter': 4751, 'instea': 5546, 'anthletic': 400, 'shoulderswith': 9967, 'pantsnice': 7887, 'greenhard': 4817, 'colwyn': 2138, 'clunky': 2029, 'blinded': 1090, 'mallard': 6610, 'greatstylebeautiful': 4802, 'ju': 5858, 'hlding': 5163, 'seaters': 9637, 'supporting': 11043, 'community': 2197, 'click': 1979, 'remarkably': 9058, 'coatjackets': 2041, 'untacked': 12153, 'simpler': 10056, 'decidedly': 2820, 'fu': 4469, 'piecing': 8176, 'assymetrical': 597, 'inconsistency': 5449, 'carissima': 1669, 'sunrose': 11011, 'disappointedso': 3089, 'allusione': 280, 'yepeee': 12984, 'dint': 3065, 'training': 11760, 'lowwaist': 6504, 'prong': 8618, 'selfidentify': 9680, 'directionscold': 3074, 'firming': 4102, 'whod': 12694, 'curvaceous': 2647, 'sawn': 9541, 'prechristmas': 8465, 'align': 248, 'sleevesback': 10201, 'earl': 3426, 'cutdetailsflounce': 2674, 'stylemake': 10916, 'ruler': 9406, 'juuuuussst': 5892, 'blousewell': 1124, 'convenient': 2361, 'yest': 12987, 'nook': 7391, 'cranny': 2512, 'tallest': 11226, 'sushi': 11078, 'hostess': 5241, 'witing': 12798, 'finale': 4075, 'trepidation': 11808, 'onestar': 7587, 'evident': 3726, 'blueswhitespeaches': 1156, 'henleys': 5068, 'corey': 2406, 'lynn': 6552, 'calter': 1590, 'paeonia': 7832, 'rosebud': 9359, 'thoug': 11493, 'qualityyou': 8750, 'colorstyledetaling': 2117, 'occasionsweddings': 7498, 'memorial': 6787, 'thermostat': 11418, 'moulded': 7080, 'lar': 6043, 'beigebrown': 915, 'trashy': 11791, 'thoughtful': 11498, 'deposited': 2935, 'linty': 6313, 'particle': 7916, 'badwornold': 748, 'wowt': 12884, 'wight': 12729, 'toll': 11642, 'wnat': 12802, 'regulat': 9010, 'gol': 4682, 'ishear': 5653, 'popover': 8394, 'thingsjeans': 11456, 'bluepurple': 1152, 'humble': 5302, 'nbeed': 7214, 'nottooshort': 7432, 'beadssequins': 853, 'tiesoo': 11554, 'lef': 6159, 'midwest': 6881, 'itlike': 5723, 'rainproof': 8802, 'adj': 121, 'secular': 9646, 'abroad': 18, 'freakishly': 4417, 'narrowing': 7182, 'host': 5240, 'dresspants': 3326, 'cook': 2374, 'brasports': 1338, 'ecept': 3457, 'assistance': 584, 'sinched': 10069, 'statuesque': 10691, 'applique': 460, 'obscured': 7484, 'splendor': 10576, 'danced': 2731, 'ware': 12447, 'skimminghugging': 10145, 'enamored': 3579, 'dressshirtcoat': 3328, 'santee': 9504, 'escalante': 3665, 'boxywide': 1307, 'pushedrolled': 8724, 'toasting': 11619, 'offload': 7532, 'ican': 5343, 'removedi': 9077, 'googling': 4709, 'tsp': 11863, 'conditioner': 2270, 'retailerday': 9169, 'sweaterjackets': 11112, 'patterncolor': 7951, 'summe': 10984, 'richness': 9263, 'tunicstyle': 11899, 'broadshouldered': 1395, 'outdated': 7709, 'inst': 5537, 'bottons': 1278, 'located': 6347, 'warmish': 12453, 'exacerbate': 3733, 'jagged': 5778, 'fabricwhile': 3875, 'stretchyhas': 10846, 'extrabillowy': 3833, 'tasteif': 11267, 'normala': 7396, 'muchwhat': 7108, 'hipsthighs': 5152, 'larg': 6044, 'lbspear': 6127, 'sungmainly': 11004, 'liningi': 6309, 'shrinkagei': 9991, 'weightotherwise': 12583, 'salei': 9467, 'lbsshirt': 6128, 'honor': 5202, 'buckling': 1452, 'digi': 3050, 'acrylicfeeling': 87, 'lemony': 6184, 'attracting': 649, 'whine': 12662, 'admired': 135, 'pinker': 8214, 'attractively': 651, 'worker': 12845, 'jeansnot': 5805, 'muc': 7104, 'cervical': 1755, 'survivor': 11077, 'dealing': 2796, 'health': 5002, 'attended': 637, 'talked': 11219, 'linerslip': 6296, 'dingy': 3063, 'outhighly': 7723, 'fitdrape': 4117, 'complected': 2220, 'cld': 1961, 'wb': 12515, 'shruglike': 9995, 'slvs': 10278, 'tencil': 11329, 'ama': 320, 'natori': 7187, 'there': 11410, 'rath': 8828, 'habit': 4889, 'anchor': 362, 'strappiness': 10815, 'allit': 265, 'deff': 2857, 'besid': 955, 'babybridal': 714, 'pondering': 8366, 'summed': 10985, 'capsleeve': 1641, 'mimic': 6900, 'sari': 9509, 'concerning': 2263, 'rancher': 8810, 'unhealthily': 12100, 'nicelya': 7315, 'topjacket': 11691, 'kakhi': 5895, 'topwell': 11714, 'dressoutfit': 3325, 'coverin': 2475, 'topsalso': 11700, 'opencloseotherwise': 7627, 'nicerdressier': 7320, 'deepdark': 2840, 'sorbetinspired': 10479, 'halfline': 4905, 'halflining': 4906, 'akin': 237, 'chestnot': 1844, 'wayand': 12507, 'turtleneckblouse': 11914, 'sunset': 11012, 'southoffrance': 10503, 'fitafter': 4113, 'fatiques': 3965, 'bestnot': 961, 'slee': 10185, 'sapphire': 9506, 'appropriarely': 472, 'thirteen': 11473, 'hightops': 5116, 'storethis': 10777, 'exploring': 3815, 'libs': 6228, 'altar': 304, 'hail': 4900, 'reflected': 8981, 'slimline': 10231, 'notwithstanding': 7434, 'todayand': 11624, 'vestbut': 12309, 'onlinein': 7596, 'toowrong': 11673, 'lengthens': 6196, 'jiggle': 5835, 'jiggling': 5836, 'accord': 67, 'veered': 12268, 'surrounded': 11072, 'shrugon': 9996, 'stifling': 10736, 'differentlength': 3042, 'shrugy': 9997, 'curvefla': 2650, 'torture': 11725, 'device': 3010, 'watermelon': 12499, 'throb': 11516, 'swathed': 11098, 'miniature': 6907, 'cartoon': 1683, 'rested': 9149, 'quiet': 8763, 'effective': 3475, 'corset': 2418, 'disneyland': 3127, 'shoulderlength': 9947, 'midchest': 6851, 'buttonsthey': 1551, 'skating': 10136, 'wheatley': 12643, 'primarily': 8552, 'joyful': 5854, 'lengthappropr': 6191, 'unforgivingthere': 12093, 'usualbut': 12228, 'summerize': 10990, 'skirtfabric': 10165, 'recommen': 8919, 'figuremy': 4060, 'labelled': 5994, 'tra': 11748, 'loserlonger': 6455, 'relacing': 9022, 'tomato': 11644, 'wooly': 12832, 'greycream': 4836, 'pictureddescribed': 8156, 'regain': 8992, 'kneejust': 5949, 'underskirt': 12042, 'approved': 476, 'congratulated': 2292, 'beadssequinsall': 854, 'smaill': 10284, 'glory': 4663, 'canna': 1624, 'likecomplainers': 6264, 'slimslenderpetite': 10237, 'craves': 2514, 'detailrich': 2987, 'commissioned': 2194, 'dressthere': 3334, 'decorating': 2831, 'monday': 7020, 'hipthis': 5155, 'palest': 7857, 'diving': 3168, 'cutsie': 2703, 'sizeyou': 10128, 'drapinglove': 3274, 'toonice': 11664, 'arrivedlove': 545, 'plumpurple': 8307, 'brooklyn': 1409, 'adventure': 151, 'doggedly': 3186, 'withe': 12787, 'fabricfit': 3861, 'bluishgrayish': 1162, 'piecethe': 8175, 'ponchostyle': 8361, 'lacei': 6000, 'wok': 12805, 'gymor': 4886, 'circumstance': 1924, 'tunicdress': 11894, 'pricemaybe': 8543, 'clicking': 1981, 'underdressed': 12022, 'sneak': 10374, 'shld': 9880, 'isweater': 5684, 'eucalan': 3691, 'nylonspandex': 7470, 'botto': 1266, 'itclassic': 5703, 'pitiful': 8243, 'cheapo': 1807, 'intimate': 5596, 'polarized': 8336, 'clarify': 1938, 'wellhidden': 12604, 'ultrasoft': 11977, 'runa': 9410, 'tbu': 11285, 'hite': 5161, 'thoughtoh': 11501, 'pared': 7907, 'nowthis': 7441, 'shoulderarm': 9942, 'handed': 4919, 'creature': 2546, 'gamut': 4534, 'bustproblems': 1515, 'salivating': 9481, 'homework': 5194, 'swatch': 11096, 'proud': 8640, 'thighlength': 11445, 'blackonlytights': 1058, 'inauthentic': 5427, 'imp': 5391, 'patternsfabrics': 7958, 'cellular': 1743, 'burger': 1494, 'injury': 5505, 'uh': 11966, 'uniqueattractive': 12112, 'largestretch': 6061, 'thirst': 11472, 'ther': 11407, 'stockso': 10754, 'creamoff': 2528, 'killing': 5928, 'moderncitymeetsprairieboho': 6999, 'seethe': 9667, 'surrender': 11071, 'billowyness': 1014, 'nonbreathable': 7367, 'antropologie': 416, 'anthopology': 402, 'smallextra': 10300, 'pettte': 8115, 'kate': 5898, 'olsen': 7570, 'pilcroi': 8188, 'bleeds': 1081, 'completelyi': 2229, 'crack': 2501, 'kittythere': 5941, 'roar': 9308, 'yucky': 13018, 'vast': 12263, 'leatherthick': 6150, 'masquerade': 6673, 'hipless': 5140, 'drug': 3372, 'stre': 10825, 'litter': 6329, 'swoop': 11172, 'talle': 11224, 'mishap': 6939, 'downis': 3238, 'mindthe': 6904, 'conference': 2274, 'askedher': 574, 'donest': 3207, 'nonte': 7389, 'spontaneous': 10586, 'sparklydinner': 10532, 'hangdrying': 4938, 'chichighly': 1852, 'plier': 8302, 'hotmama': 5245, 'clutch': 2031, 'firstafter': 4106, 'suffer': 10962, 'methey': 6831, 'relazation': 9034, 'thicknessweight': 11439, 'orlando': 7690, 'readjust': 8858, 'saver': 9537, 'sink': 10075, 'picro': 8151, 'panic': 7873, 'discontinues': 3106, 'redo': 8954, 'utter': 12235, 'ihavetohaveit': 5359, 'superfast': 11017, 'detsils': 3003, 'recomnend': 8925, 'navyi': 7204, 'doubledup': 3221, 'ridiculousnot': 9273, 'redcream': 8942, 'shapewhich': 9788, 'springthroughsummer': 10610, 'barbecue': 801, 'purpleygray': 8714, 'earnest': 3430, 'sassiness': 9514, 'comfie': 2151, 'youth': 13012, 'myuch': 7161, 'tk': 11613, 'quadruplet': 8740, 'stylei': 10913, 'tooooopss': 11665, 'redburnt': 8941, 'blazing': 1075, 'semidefeats': 9690, 'conceptually': 2260, 'softening': 10423, 'daly': 2724, 'poorl': 8384, 'dressmore': 3324, 'pixlove': 8247, 'sleevesits': 10204, 'kneequality': 5952, 'starchy': 10671, 'tankwearing': 11247, 'simplecomfybut': 10054, 'retuned': 9203, 'occurrence': 7501, 'trump': 11844, 'comfortabl': 2158, 'shortcropped': 9903, 'printsomething': 8566, 'designshape': 2967, 'undoubtedly': 12068, 'preowend': 8494, 'athropologie': 623, 'shirtgot': 9863, 'blueit': 1145, 'retire': 9194, 'racier': 8782, 'weddi': 12550, 'will': 12736, 'possessing': 8413, 'prefall': 8474, 'craving': 2515, 'foollike': 4334, 'junior': 5874, 'thoughmaybe': 11496, 'surgery': 11058, 'extrasmall': 3836, 'blueorange': 1150, 'rushing': 9419, 'cuteon': 2686, 'creativechecked': 2544, 'aplique': 440, 'untie': 12155, 'onlineprobably': 7599, 'jog': 5845, 'pooched': 8370, 'diver': 3163, 'sparingly': 10525, 'longthe': 6389, 'underthebust': 12049, 'teenybop': 11312, 'hugely': 5291, 'shirred': 9858, 'flute': 4304, 'disservice': 3136, 'saleunless': 9479, 'balloontent': 780, 'chin': 1868, 'cherish': 1831, 'springysummery': 10615, 'bizarreit': 1040, 'overaccentuated': 7749, 'attachment': 631, 'oldfashioned': 7560, 'wispy': 12784, 'normallength': 7398, 'aestheticdesign': 160, 'docked': 3175, 'resting': 9150, 'completes': 2231, 'itemsit': 5709, 'mintteal': 6927, 'greydark': 4837, 'musually': 7149, 'bumthese': 1482, 'shapelier': 9782, 'slipliner': 10245, 'mefalling': 6772, 'cutebut': 2676, 'camouflaging': 1609, 'unappealing': 11986, 'easilly': 3443, 'shoulderssmaller': 9965, 'surface': 11056, 'blueblack': 1138, 'shirttucker': 9876, 'ninja': 7344, 'darkinkish': 2750, 'typicaltts': 11956, 'rayongauze': 8842, 'doublelayered': 3224, 'enchanted': 3580, 'fauve': 3973, 'larkhill': 6068, 'retaining': 9191, 'neckband': 7237, 'qualm': 8751, 'puffier': 8666, 'colorsgorgeous': 2108, 'backmodel': 729, 'hipbutt': 5136, 'polyspandexrayon': 8355, 'predominately': 8472, 'nonconsequential': 7369, 'mentionedit': 6802, 'exhausted': 3775, 'thy': 11536, 'flatteringthe': 4206, 'alsonot': 299, 'textureprint': 11370, 'healthy': 5003, 'flake': 4164, 'havegan': 4981, 'likeetc': 6266, 'incentive': 5433, 'justeverything': 5879, 'jeanspantsshorts': 5807, 'loden': 6349, 'duper': 3399, 'petitesized': 8102, 'plussize': 8315, 'apparentlyperfect': 446, 'knocking': 5970, 'warmweather': 12457, 'larkspur': 6070, 'diaphanous': 3020, 'largerbreasted': 6058, 'bane': 794, 'existence': 3778, 'burdened': 1492, 'swollen': 11170, 'spank': 10521, 'tropical': 11831, 'limbed': 6276, 'dazzle': 2782, 'aft': 174, 'againvery': 185, 'combothe': 2147, 'slapped': 10180, 'dickey': 3022, 'getter': 4602, 'linencotton': 6292, 'alsothe': 300, 'pinterest': 8229, 'uptodate': 12205, 'bel': 921, 'resonates': 9140, 'playfully': 8279, 'woop': 12833, 'groundfinally': 4858, 'amidst': 345, 'framing': 4407, 'hack': 4891, 'rediculously': 8950, 'unhook': 12102, 'clamp': 1936, 'lateseptember': 6083, 'ascetic': 559, 'incomparable': 5447, 'washesdries': 12481, 'shininess': 9847, 'meshish': 6813, 'laundry': 6097, 'chrolox': 1899, 'knitand': 5962, 'cottonhas': 2436, 'adjustableand': 126, 'usesso': 12223, 'pliable': 8300, 'alined': 253, 'paw': 7964, 'postshower': 8427, 'chelsea': 1826, 'omits': 7574, 'cozier': 2492, 'boosh': 1226, 'waistbust': 12397, 'boxyboyfriend': 1301, 'daysbummed': 2774, 'flanking': 4167, 'pass': 7929, 'accessorizes': 53, 'embrodering': 3554, 'springsummerfall': 10608, 'prett': 8515, 'moresorry': 7052, 'retailermy': 9173, 'promised': 8609, 'tipping': 11602, 'tailoringtapering': 11210, 'ultraflattering': 11975, 'sweeter': 11138, 'stitchin': 10748, 'torsoed': 11722, 'midbutt': 6849, 'swapped': 11094, 'lbswith': 6129, 'msitake': 7100, 'sweeater': 11134, 'exotic': 3783, 'dusterit': 3409, 'definitively': 2874, 'fitperfect': 4125, 'smallalmost': 10286, 'np': 7442, 'sealed': 9610, 'underlining': 12030, 'whisper': 12669, 'gumby': 4878, 'updo': 12177, 'xsxsp': 12941, 'seller': 9683, 'lycra': 6550, 'skews': 10139, 'muse': 7136, 'congratulation': 2293, 'shoppingclothing': 9897, 'ishort': 5657, 'mirabella': 6934, 'dissappointed': 3134, 'contest': 2337, 'rising': 9299, 'websiteif': 12547, 'jcrew': 5794, 'flowinng': 4282, 'weightwarmth': 12585, 'unsnapped': 12146, 'ageappropriate': 187, 'peche': 7994, 'nikrooz': 7340, 'backlit': 728, 'shearliing': 9801, 'lookwearing': 6415, 'invert': 5613, 'ingnore': 5498, 'dividing': 3166, 'faceframing': 3881, 'vacillate': 12242, 'spillage': 10564, 'milky': 6897, 'moveability': 7088, 'thoughthe': 11500, 'interval': 5588, 'poc': 8321, 'derriere': 2942, 'monstrously': 7033, 'vibrancy': 12316, 'prettyi': 8524, 'smallthe': 10322, 'grrr': 4865, 'satinlike': 9520, 'innocent': 5513, 'stronger': 10869, 'whisked': 12666, 'debuting': 2805, 'weddingrehearsal': 12553, 'vega': 12269, 'oceanside': 7503, 'toyed': 11745, 'cowgirl': 2485, 'master': 6678, 'polo': 8346, 'bbq': 835, 'vacating': 12239, 'rt': 9383, 'raved': 8836, 'daughte': 2763, 'ratty': 8832, 'additonal': 111, 'repurchased': 9113, 'vacillating': 12243, 'theblack': 11391, 'min': 6901, 'longhaul': 6375, 'wrent': 12896, 'pressure': 8511, 'joan': 5841, 'gapless': 4539, 'sensed': 9706, 'embrodiery': 3555, 'seamlessly': 9615, 'justiceloved': 5883, 'htere': 5276, 'differential': 3041, 'necessairly': 7231, 'similr': 10052, 'alce': 242, 'drkest': 3354, 'flatetering': 4187, 'lunging': 6534, 'stickon': 10727, 'shaded': 9764, 'yearlove': 12965, 'printcolors': 8559, 'inky': 5507, 'smallhad': 10304, 'division': 3169, 'retie': 9193, 'defectiv': 2853, 'iusually': 5745, 'otherwse': 7701, 'inever': 5484, 'hedging': 5031, 'finerboned': 4086, 'suuuuuper': 11084, 'layi': 6116, 'availablebut': 676, 'unimpressive': 12108, 'mor': 7049, 'nottoostretchy': 7433, 'pantyhose': 7897, 'spansthey': 10522, 'paininducing': 7839, 'compounded': 2246, 'figuresor': 4063, 'award': 690, 'prom': 8604, 'eclectic': 3459, 'shoulderbodice': 9944, 'shirtlength': 9865, 'redthe': 8958, 'bling': 1092, 'madeline': 6565, 'increasingly': 5459, 'getgo': 4599, 'bandage': 788, 'bearing': 859, 'scrolled': 9591, 'flopped': 4258, 'othewise': 7703, 'transforms': 11772, 'frontsleeves': 4457, 'weighta': 12573, 'waistlength': 12409, 'staplebut': 10665, 'tweedy': 11924, 'backit': 725, 'vented': 12280, 'peiople': 8007, 'cutis': 2696, 'forgivin': 4357, 'tushy': 11916, 'skiny': 10158, 'navymarin': 7209, 'arcata': 492, 'berkeley': 951, 'colorsfor': 2107, 'pantsthis': 7894, 'peachivorytan': 7977, 'stripespleats': 10862, 'pret': 8514, 'sup': 11014, 'rega': 8991, 'waistchallenged': 12399, 'narrowly': 7184, 'ventured': 12282, 'sisterhood': 10082, 'analogy': 360, 'presented': 8505, 'surplice': 11062, 'snagspullers': 10360, 'cleared': 1971, 'derrierei': 2943, 'hokey': 5173, 'designnot': 2964, 'oversight': 7791, 'mobility': 6973, 'dropdead': 3361, 'smallshouldered': 10319, 'vi': 12313, 'greenishgray': 4820, 'contoured': 2347, 'distinguishable': 3143, 'consideration': 2306, 'slenderize': 10210, 'fanciness': 3937, 'comfysnuggle': 2182, 'overlong': 7775, 'childlike': 1861, 'pinching': 8208, 'beautifulthe': 881, 'greenygold': 4827, 'goldnice': 4689, 'thatif': 11387, 'fuschia': 4507, 'tmi': 11616, 'bl': 1041, 'weightlessness': 12581, 'painterly': 7842, 'ballroom': 782, 'lone': 6361, 'dissenter': 3135, 'jacketcape': 5758, 'puctures': 8660, 'fitand': 4114, 'accommodated': 62, 'posse': 8412, 'inward': 5622, 'bodyso': 1188, 'petiteso': 8103, 'obsxessing': 7489, 'whcich': 12642, 'workedc': 12843, 'balancing': 769, 'jeanswith': 5816, 'awkwardness': 708, 'bui': 1456, 'waistless': 12410, 'upsetting': 12196, 'harbinger': 4959, 'revisit': 9237, 'atbarely': 609, 'highqualit': 5111, 'wblue': 12516, 'whiteblue': 12674, 'smallvery': 10324, 'refit': 8979, 'goldish': 4688, 'ivorycolored': 5748, 'minipleated': 6918, 'zigzagging': 13029, 'chinosthey': 1872, 'themi': 11398, 'comfrotable': 2176, 'cahnce': 1577, 'heelhoweverm': 5036, 'agreeing': 199, 'underpinnings': 12038, 'stepped': 10711, 'figuredefining': 4055, 'stiffy': 10735, 'assessed': 580, 'beginthis': 909, 'stopperas': 10767, 'isthis': 5677, 'mouth': 7085, 'puerto': 8662, 'rico': 9264, 'epice': 3642, 'admiration': 133, 'scrumptious': 9596, 'rayonpoly': 8843, 'slitv': 10261, 'fulle': 4476, 'guise': 4877, 'antiqueish': 411, 'teepee': 11313, 'inconvenience': 5451, 'cringed': 2561, 'someit': 10450, 'downtwo': 3249, 'winterwhite': 12770, 'wearwith': 12539, 'coatlike': 2043, 'knuc': 5981, 'savannah': 9534, 'mea': 6731, 'alreadyit': 295, 'dresssome': 3331, 'kriscross': 5987, 'twistbut': 11937, 'bluewhich': 1159, 'accenting': 37, 'sizingi': 10131, 'researched': 9123, 'interchangeable': 5571, 'dressappropriate': 3303, 'disgusted': 3118, 'pillow': 8200, 'biglong': 997, 'slipsag': 10252, 'offshoulder': 7539, 'manback': 6618, 'wotb': 12872, 'lightened': 6246, 'prr': 8650, 'horrendous': 5226, 'exclude': 3767, 'rompervery': 9339, 'unco': 12006, 'testy': 11361, 'exaggerates': 3738, 'shimmying': 9842, 'obtrusive': 7490, 'materialif': 6692, 'onesie': 7585, 'interiorbut': 5579, 'hoodthe': 5207, 'cozyaroundthehouse': 2497, 'seethroughso': 9669, 'cheapness': 1806, 'malabar': 6606, 'wooden': 12824, 'flaunt': 4213, 'dazzling': 2784, 'justiceif': 5881, 'objection': 7480, 'transcends': 11766, 'retailerwear': 9187, 'brushstroke': 1436, 'yuk': 13019, 'closefitting': 2003, 'springsummerness': 10609, 'armsfell': 524, 'tnecks': 11618, 'strawberry': 10823, 'loopy': 6430, 'sabrina': 9428, 'navyperiwinkle': 7211, 'longs': 6383, 'sassing': 9515, 'symphony': 11183, 'sateen': 9518, 'awesomealthough': 699, 'fastit': 3959, 'chiller': 1863, 'georgia': 4596, 'peak': 7984, 'crisscrossing': 2574, 'potbellied': 8434, 'los': 6452, 'angeles': 370, 'seater': 9636, 'tu': 11870, 'dept': 2936, 'compfy': 2214, 'demential': 2905, 'closetand': 2009, 'embroideryfunny': 3561, 'rustle': 9423, 'voile': 12365, 'listing': 6321, 'onlinenowhere': 7598, 'dropseam': 3366, 'text': 11364, 'dropshoulder': 3367, 'greatloose': 4796, 'lark': 6067, 'ruffly': 9399, 'bidding': 983, 'auction': 657, 'marathoner': 6639, 'restoring': 9153, 'jacketmy': 5765, 'heater': 5015, 'polishedif': 8340, 'purcahse': 8691, 'striked': 10855, 'fullon': 4483, 'spoiler': 10583, 'traverse': 11796, 'hiphitting': 5138, 'betterthanbasic': 965, 'ff': 4037, 'racing': 8783, 'retailermake': 9171, 'softeven': 10427, 'pantless': 7877, 'relent': 9038, 'plussized': 8316, 'thylo': 11537, 'customizable': 2669, 'coolperfect': 2384, 'daughtersmall': 2767, 'toomediumboth': 11663, 'shapeno': 9784, 'calsual': 1589, 'shiryt': 9879, 'bluethis': 1158, 'default': 2848, 'shlumpy': 9881, 'olivedarker': 7565, 'clashed': 1940, 'heftier': 5041, 'fullrange': 4486, 'heavylifting': 5028, 'disclaimer': 3100, 'sof': 10412, 'wer': 12623, 'encourages': 3587, 'reshipped': 9132, 'underneaththe': 12036, 'xxspruns': 12945, 'lovebut': 6477, 'huuuuggge': 5328, 'opengauge': 7630, 'phisique': 8121, 'navyvelvet': 7212, 'greyyellow': 4846, 'retrovintage': 9201, 'ethnic': 3686, 'notsosmall': 7430, 'rash': 8823, 'wering': 12625, 'steadly': 10697, 'enduring': 3598, 'distraction': 3149, 'wond': 12810, 'closelythe': 2005, 'snagable': 10356, 'lengthjust': 6199, 'messso': 6822, 'smoothing': 10349, 'frustration': 4466, 'contri': 2355, 'stripehint': 10861, 'risked': 9301, 'sharply': 9793, 'outmellows': 7728, 'bea': 841, 'recognize': 8913, 'closest': 2007, 'snapthere': 10369, 'smallnot': 10314, 'suprise': 11049, 'severely': 9742, 'supper': 11037, 'etiher': 3688, 'stell': 10708, 'sendback': 9700, 'fluffier': 4295, 'nec': 7228, 'smallsometimes': 10321, 'ful': 4471, 'detracting': 3001, 'daysi': 2776, 'indul': 5480, 'smallwow': 10326, 'snakeskin': 10364, 'harsher': 4972, 'tropic': 11830, 'frosty': 4459, 'sitnot': 10088, 'racetrack': 8781, 'cervix': 1756, 'bigstraps': 999, 'lola': 6357, 'completly': 2232, 'sleevelessso': 10198, 'waistbutt': 12398, 'resigned': 9134, 'devotee': 3012, 'creamforrest': 2526, 'colorthe': 2120, 'togetherwell': 11637, 'materialalmost': 6690, 'waaaaaaaay': 12383, 'millimeter': 6898, 'magnet': 6575, 'arctic': 495, 'shownbeautiful': 9980, 'bottomback': 1268, 'kneesin': 5956, 'fronti': 4455, 'itdont': 5706, 'tightwill': 11578, 'cozying': 2498, 'wrappi': 12890, 'larkin': 6069, 'encompasses': 3582, 'armed': 512, 'rejoice': 9021, 'boutique': 1288, 'alexa': 245, 'chung': 1906, 'measuring': 6744, 'popout': 8393, 'freaking': 4416, 'isit': 5661, 'fifth': 4048, 'herestill': 5070, 'brownishburgundy': 1420, 'vavavavoom': 12264, 'summarize': 10982, 'fitshapely': 4131, 'senitive': 9702, 'upsizing': 12201, 'greatthe': 4803, 'approprialty': 471, 'discus': 3114, 'pleaser': 8290, 'antheropologie': 399, 'dressyperfect': 3343, 'patio': 7946, 'nearidenticallypatterned': 7222, 'heavierweight': 5023, 'outlin': 7725, 'fearing': 3992, 'storelooks': 10774, 'cutnot': 2698, 'critical': 2576, 'boyi': 1311, 'athlete': 612, 'nudecolored': 7449, 'sisterinlaws': 10084, 'bluei': 1143, 'waistdoes': 12402, 'shuffle': 10000, 'cozily': 2494, 'givekind': 4633, 'upstairs': 12202, 'intricately': 5603, 'yellowmango': 12979, 'momteacher': 7018, 'outweighs': 7742, 'didt': 3027, 'beachpool': 847, 'jack': 5755, 'comber': 2141, 'sleeeves': 10186, 'orangecoral': 7659, 'coverall': 2473, 'partner': 7920, 'checklist': 1815, 'embracing': 3552, 'vintagemademodern': 12334, 'itjewelry': 5721, 'sweaterponcho': 11118, 'buttonups': 1553, 'smalllike': 10309, 'legsuntil': 6180, 'supplied': 11039, 'judgment': 5861, 'classify': 1955, 'overlying': 7779, 'notsogood': 7427, 'bunchee': 1486, 'largeand': 6046, 'looped': 6429, 'givestretch': 4635, 'tripledigit': 11828, 'dresslove': 3322, 'tanish': 11237, 'noti': 7418, 'debate': 2800, 'jacketcardigan': 5760, 'nothingspecial': 7417, 'stump': 10894, 'discolor': 3101, 'discoloration': 3102, 'beautifullyperfect': 880, 'blackoverall': 1059, 'ludicrousi': 6520, 'swirly': 11162, 'slatecan': 10184, 'sweatshirttype': 11133, 'loosest': 6446, 'sweaterknit': 11115, 'summerearly': 10987, 'delicatemay': 2890, 'purch': 8694, 'suite': 10975, 'retirement': 9196, 'perfer': 8066, 'didblah': 3024, 'murky': 7130, 'wetting': 12634, 'goldenrod': 4685, 'downotherwise': 3239, 'sinspired': 10076, 'marilyn': 6644, 'monroe': 7031, 'boyshort': 1314, 'intimidate': 5597, 'arbor': 491, 'aroun': 534, 'nuff': 7451, 'definitly': 2875, 'bootsa': 1238, 'bonette': 1212, 'picturesawesome': 8162, 'bruise': 1429, 'howeverending': 5264, 'colorsthat': 2115, 'morel': 7050, 'ahmazing': 210, 'absoluty': 24, 'preserved': 8507, 'sugge': 10964, 'readily': 8856, 'choppy': 1891, 'aubergine': 656, 'skirtjeans': 10167, 'span': 10517, 'biweekly': 1038, 'retailerpolgies': 9179, 'shirtsdresses': 9869, 'strapunderarm': 10817, 'jt': 5857, 'curveless': 2652, 'reef': 8967, 'explaining': 3812, 'slighting': 10223, 'istressed': 5678, 'oneand': 7578, 'slipwhich': 10253, 'format': 4369, 'camp': 1610, 'coldgentle': 2060, 'smar': 10328, 'owe': 7813, 'semibroad': 9688, 'surprisngly': 11070, 'tightish': 11570, 'fallslide': 3916, 'legsexy': 6178, 'bohemiangothic': 1197, 'designquality': 2966, 'bikermoto': 1002, 'jacketboots': 5757, 'minimized': 6914, 'devery': 3008, 'tum': 11885, 'wasting': 12492, 'longterm': 6388, 'shimmy': 9841, 'bustyside': 1522, 'contraire': 2350, 'shorted': 9904, 'chime': 1867, 'beatrice': 862, 'direct': 3072, 'froth': 4460, 'oddity': 7511, 'bullseye': 1474, 'amazingworth': 337, 'pennyalso': 8019, 'thickthe': 11441, 'bluelighter': 1147, 'swooned': 11171, 'strength': 10831, 'recomme': 8918, 'scroll': 9590, 'perfectlyslimming': 8059, 'hwoevcer': 5329, 'swayed': 11100, 'tanner': 11249, 'shortie': 9912, 'cmpliments': 2032, 'elected': 3508, 'boringi': 1252, 'sunnies': 11006, 'wearit': 12533, 'texturing': 11371, 'ladiesno': 6020, 'needi': 7256, 'concho': 2265, 'rasberry': 8822, 'scratching': 9582, 'imlove': 5382, 'bootsvery': 1243, 'tweaking': 11922, 'delay': 2878, 'selftie': 9681, 'enjoyable': 3608, 'unbearably': 11994, 'reviewsunfortunately': 9236, 'financial': 4078, 'bracket': 1318, 'ri': 9245, 'shortsskirts': 9930, 'colorblocked': 2087, 'specious': 10548, 'allot': 266, 'everywhe': 3724, 'contemplated': 2332, 'cottoni': 2437, 'vlike': 12357, 'hearty': 5013, 'laika': 6030, 'inca': 5430, 'shoesthe': 9888, 'toobut': 11656, 'leifsdottir': 6181, 'nonstretch': 7387, 'behin': 911, 'wearvery': 12538, 'camre': 1614, 'chilling': 1865, 'soccer': 10407, 'impecable': 5393, 'overseas': 7787, 'over': 7747, 'semihalter': 9693, 'deviated': 3009, 'occas': 7494, 'adorably': 144, 'lengthfun': 6197, 'eccentric': 3456, 'mere': 6807, 'island': 5662, 'overshadow': 7788, 'dislikeswhy': 3125, 'jacketi': 5763, 'bridey': 1373, 'floored': 4256, 'pictureit': 8159, 'yellowish': 12977, 'uncinched': 12004, 'carmel': 1670, 'unnatural': 12123, 'pricedhowever': 8539, 'fabriclycra': 3865, 'spandexthere': 10520, 'cardiganespecially': 1653, 'reconsidered': 8927, 'vvv': 12381, 'smallframed': 10302, 'uberflattering': 11958, 'fuchsia': 4470, 'brightening': 1379, 'hothumid': 5244, 'tooas': 11655, 'withwithout': 12797, 'daughterwithout': 2768, 'saleand': 9464, 'twoluckily': 11944, 'snd': 10373, 'sapphireit': 9507, 'loosed': 6433, 'subset': 10931, 'nonsensical': 7383, 'olde': 7558, 'towne': 11743, 'woodstock': 12827, 'readying': 8861, 'grandpa': 4755, 'topssweaters': 11706, 'boney': 1213, 'casualchic': 1696, 'admirin': 136, 'scrooge': 9593, 'loosens': 6442, 'denimcargo': 2914, 'hm': 5164, 'esque': 3673, 'graygreen': 4773, 'tommy': 11645, 'bahama': 761, 'camisoleslip': 1602, 'fati': 3964, 'desperat': 2972, 'colos': 2130, 'chestback': 1837, 'remiss': 9072, 'fulltime': 4488, 'antrhopologie': 414, 'especailly': 3669, 'mamaw': 6612, 'righthand': 9279, 'malfun': 6608, 'singer': 10072, 'performance': 8068, 'ethnicbohemian': 3687, 'shouldersthe': 9966, 'purchaseit': 8702, 'austin': 662, 'superpleased': 11024, 'beigeneutral': 917, 'amazement': 328, 'handsome': 4930, 'whimsically': 12659, 'thereby': 11412, 'famine': 3931, 'nobrainier': 7353, 'bountiful': 1287, 'fullnessnot': 4482, 'lenght': 6189, 'girlsstill': 4628, 'crave': 2513, 'completer': 2230, 'voilaeffortlessly': 12364, 'jeaens': 5795, 'shouldersbust': 9955, 'press': 8508, 'invited': 5618, 'hr': 5271, 'revieved': 9226, 'actuallly': 98, 'hopefulluy': 5217, 'intherefore': 5595, 'tackle': 11197, 'flew': 4233, 'purchasei': 8701, 'mortif': 7057, 'swapping': 11095, 'chici': 1853, 'sightseeing': 10023, 'snapno': 10366, 'genetic': 4585, 'marshmallowa': 6659, 'pvc': 8733, 'menopause': 6792, 'baggage': 751, 'bismol': 1031, 'ecru': 3461, 'sparklecolor': 10528, 'colorprintstripejust': 2102, 'ooh': 7612, 'eyelits': 3848, 'biggermuscular': 992, 'drastically': 3276, 'checkout': 1816, 'tsihrt': 11862, 'bootsbooties': 1239, 'sincewell': 10067, 'wordsweetthat': 12836, 'descriptive': 2949, 'ttsnothing': 11867, 'fort': 4379, 'knox': 5980, 'gauntlet': 4563, 'topdresstunic': 11682, 'riblike': 9256, 'tightsleggings': 11577, 'squirrel': 10633, 'unpack': 12128, 'shake': 9767, 'bootee': 1230, 'coursebut': 2465, 'bluesand': 1155, 'pedal': 7995, 'pusher': 8725, 'ratethis': 8827, 'uptight': 12203, 'cottonsilk': 2440, 'unfold': 12087, 'trading': 11754, 'uniqlo': 12109, 'airism': 225, 'ply': 8317, 'semimaternity': 9695, 'sweetest': 11139, 'compartment': 2209, 'dcup': 2786, 'oncehand': 7576, 'wroteruined': 12921, 'bled': 1078, 'peplumall': 8027, 'thisthe': 11483, 'isontheslopes': 5669, 'wich': 12704, 'crutch': 2613, 'cirque': 1926, 'chaos': 1780, 'dreamysoft': 3297, 'pantsjumpsuit': 7886, 'du': 3386, 'lovelyi': 6484, 'mellowed': 6780, 'brokenin': 1402, 'midbelly': 6847, 'shoulderback': 9943, 'haging': 4896, 'notsoflat': 7426, 'purcahsed': 8692, 'ordinarily': 7677, 'beautful': 865, 'concrete': 2266, 'wedged': 12555, 'funalso': 4492, 'dice': 3021, 'crusty': 2612, 'merchandise': 6805, 'haying': 4987, 'lokka': 6355, 'longso': 6387, 'greyblue': 4832, 'hilary': 5125, 'clinton': 1991, 'crazylong': 2520, 'mensware': 6794, 'painted': 7841, 'minimally': 6912, 'bday': 839, 'ny': 7464, 'splashy': 10573, 'flatttering': 4212, 'fiveyearold': 4151, 'whitelightly': 12679, 'toget': 11632, 'mossy': 7062, 'greengrey': 4816, 'longcloser': 6366, 'smlarge': 10340, 'thinne': 11464, 'examination': 3742, 'isa': 5647, 'heathery': 5019, 'julep': 5864, 'cottonymaterial': 2445, 'lookwise': 6416, 'ninetofive': 7343, 'diameter': 3017, 'workinappropriate': 12848, 'cuten': 2682, 'fiits': 4065, 'avg': 682, 'realy': 8876, 'jacketsdont': 5767, 'minuet': 6930, 'rightit': 9281, 'hugewide': 5293, 'figurei': 4059, 'sidephysically': 10011, 'isand': 5650, 'downplaying': 3240, 'droppedhem': 3363, 'poetry': 8324, 'fluevogs': 4293, 'nighty': 7338, 'looker': 6404, 'sentence': 9713, 'squarefitting': 10623, 'creampink': 2531, 'rogers': 9325, 'cationsheck': 1716, 'highthis': 5114, 'louisiana': 6465, 'ple': 8284, 'thighsdont': 11449, 'tjhis': 11612, 'detial': 2999, 'everythinglooks': 3721, 'sn': 10354, 'nicley': 7326, 'prod': 8588, 'inchespounds': 5435, 'rona': 9340, 'martial': 6661, 'goodlooking': 4700, 'globally': 4660, 'sourced': 10498, 'proble': 8578, 'necklac': 7240, 'grail': 4749, 'pirchasing': 8241, 'disappointingly': 3091, 'graduating': 4746, 'photoshopped': 8135, 'onebutton': 7579, 'gianormous': 4609, 'hipy': 5156, 'yuck': 13017, 'snugcouldnt': 10389, 'elsethe': 3538, 'inseams': 5521, 'qualityretailer': 8747, 'france': 4408, 'asthetically': 600, 'cutie': 2694, 'outsized': 7733, 'attache': 628, 'sweaterkimono': 11114, 'cadi': 1572, 'patterncoloring': 7952, 'nylonviscosecashmere': 7471, 'cardig': 1649, 'summerthe': 10992, 'workvery': 12854, 'fadingnot': 3891, 'waisthigh': 12405, 'stretchif': 10838, 'defe': 2849, 'willdoes': 12738, 'anytimeanywhere': 432, 'roaring': 9310, 'roaming': 9307, 'moor': 7047, 'hanky': 4949, 'smallfits': 10301, 'offroseblush': 7536, 'midlength': 6863, 'shapeit': 9779, 'sinches': 10070, 'inadvertently': 5423, 'typica': 11953, 'attent': 639, 'jacketis': 5764, 'overstitching': 7797, 'ribbbed': 9248, 'tanbeige': 11232, 'bootsknee': 1242, 'websitewhen': 12548, 'whitewhich': 12688, 'whack': 12637, 'topy': 11716, 'mediumtolightweight': 6763, 'dangerously': 2737, 'comfortthese': 2172, 'matchy': 6685, 'perforated': 8067, 'grandmay': 4753, 'hindsight': 5130, 'tit': 11609, 'lthink': 6511, 'ebough': 3454, 'smudged': 10352, 'weekender': 12563, 'flowyjust': 4286, 'prep': 8495, 'hello': 5051, 'offbut': 7519, 'themyou': 11402, 'afghan': 170, 'ornamental': 7692, 'muchand': 7106, 'midsummer': 6876, 'google': 4708, 'declared': 2824, 'cuddle': 2621, 'figureskimming': 4062, 'jerseyknit': 5824, 'emerson': 3566, 'lilt': 6274, 'howev': 5261, 'notsoprecious': 7428, 'saycountry': 9543, 'waistcoat': 12400, 'cardigansweaterjacket': 1656, 'splendidly': 10575, 'bewarethis': 971, 'committed': 2195, 'neckhole': 7239, 'variance': 12255, 'butti': 1537, 'dangerous': 2736, 'fel': 4014, 'patient': 7944, 'linethe': 6300, 'blocked': 1101, 'goldolive': 4690, 'availab': 673, 'kno': 5967, 'latigo': 6085, 'girlnextdoor': 4626, 'yield': 12995, 'lengthvolume': 6207, 'fallseason': 3915, 'wayup': 12512, 'schoolmarm': 9566, 'embroidering': 3559, 'corresponded': 2417, 'xssml': 12940, 'yellowgoldorange': 12975, 'puttin': 8729, 'stretchjust': 10841, 'flowersbutterflies': 4276, 'craftmanship': 2505, 'oredered': 7681, 'overemphasize': 7761, 'mattress': 6712, 'saturateddeeper': 9528, 'leggingsboots': 6168, 'sounded': 10495, 'beigey': 918, 'nearest': 7221, 'rarity': 8820, 'softlight': 10428, 'rigidity': 9285, 'othersthis': 7698, 'threatening': 11507, 'hare': 4966, 'neckunder': 7251, 'addressed': 113, 'yesterdayand': 12989, 'wearableso': 12525, 'charisma': 1786, 'nonfitted': 7374, 'allowance': 270, 'slinkyish': 10241, 'horrific': 5230, 'hump': 5308, 'greenteal': 4824, 'minimizing': 6916, 'upkeep': 12185, 'toying': 11746, 'dreamybut': 3296, 'sweatersand': 11119, 'seea': 9654, 'hermosa': 5072, 'zuma': 13045, 'surfingpadd': 11057, 'bottam': 1265, 'getjust': 4600, 'notat': 7410, 'laceing': 6001, 'mussed': 7142, 'wishy': 12782, 'washy': 12486, 'shh': 9829, 'buildframe': 1458, 'untill': 12157, 'poolbeach': 8380, 'searing': 9620, 'upturned': 12206, 'basketball': 821, 'purplishplum': 8716, 'sculpted': 9603, 'sholulder': 9889, 'starchchemical': 10669, 'oclock': 7506, 'gasped': 4555, 'hahahaha': 4899, 'lessthanflattering': 6214, 'implies': 5398, 'placing': 8256, 'linedi': 6288, 'central': 1749, 'illustration': 5370, 'nonfussy': 7376, 'oatmealishwarm': 7476, 'sunflower': 11002, 'greenslate': 4823, 'continuously': 2344, 'funas': 4493, 'niceflattering': 7312, 'behave': 910, 'winterhopefully': 12766, 'valid': 12249, 'stonewashing': 10761, 'linear': 6284, 'canyon': 1631, 'retailermodel': 9172, 'graytone': 4778, 'silklike': 10034, 'usualit': 12229, 'prosthis': 8632, 'warmi': 12451, 'consway': 2327, 'movesbecause': 7092, 'curling': 2642, 'nemesis': 7273, 'maiden': 6580, 'reflex': 8984, 'somewhatumsuppre': 10460, 'tap': 11253, 'dow': 3231, 'refrain': 8985, 'sailing': 9459, 'cleani': 1965, 'itand': 5693, 'clothstone': 2019, 'greatfitted': 4792, 'warnedthis': 12460, 'greatsimilar': 4801, 'washerdryer': 12480, 'insta': 5538, 'amadi': 321, 'crossfront': 2596, 'silkiness': 10032, 'formless': 4376, 'pastbeautiful': 7934, 'pallet': 7861, 'longlimned': 6381, 'strang': 10800, 'dressied': 3316, 'shoesandal': 9887, 'genie': 4586, 'lookinglike': 6408, 'notethere': 7415, 'orangelooking': 7660, 'sctrachy': 9600, 'lengthproportion': 6203, 'networking': 7287, 'doublechecking': 3219, 'suddently': 10958, 'scuff': 9602, 'ridic': 9270, 'stretc': 10833, 'discontinued': 3105, 'fiveyear': 4150, 'barnyard': 809, 'whitewithflowers': 12689, 'flowereddesign': 4275, 'midhip': 6859, 'mustardgoldenrod': 7145, 'olivetan': 7567, 'sallow': 9482, 'backwide': 743, 'cagesize': 1576, 'hipbum': 5135, 'coatsjackets': 2045, 'blackgrey': 1055, 'succumb': 10949, 'daughterinlaw': 2765, 'overkill': 7769, 'modelmid': 6989, 'formally': 4367, 'midilength': 6861, 'tooheavy': 11657, 'makesyoufeeldumpy': 6603, 'tiedye': 11548, 'ontaking': 7605, 'fatter': 3966, 'overlapped': 7773, 'sandalsbut': 9493, 'uncured': 12015, 'washout': 12485, 'amaybe': 324, 'exploding': 3814, 'widthpeplum': 12724, 'glitch': 4654, 'deeperricher': 2843, 'falter': 3926, 'wayslove': 12510, 'blousewith': 1125, 'sizethis': 10124, 'lasting': 6076, 'nogo': 7359, 'perfectionist': 8049, 'zig': 13027, 'zag': 13023, 'arty': 556, 'embroiderylike': 3563, 'unavoidable': 11991, 'glimpse': 4652, 'viewable': 12324, 'disrupts': 3131, 'stetson': 10716, 'henleybutton': 5067, 'oversizedtunic': 7795, 'substan': 10932, 'travelwear': 11795, 'cuffedlook': 2627, 'distorted': 3144, 'unfit': 12082, 'bodyis': 1185, 'righti': 9280, 'rechecking': 8906, 'elastaine': 3498, 'definitel': 2870, 'enveloped': 3634, 'expe': 3788, 'waistwere': 12421}\n",
      "\n"
     ]
    }
   ],
   "source": [
    "print(vectorizer.vocabulary_)\n",
    "print()"
   ]
  },
  {
   "cell_type": "code",
   "execution_count": 42,
   "metadata": {},
   "outputs": [],
   "source": [
    "import scipy as sp"
   ]
  },
  {
   "cell_type": "code",
   "execution_count": 47,
   "metadata": {},
   "outputs": [],
   "source": [
    "y1 = df[\"Sentiment\"].values.astype(np.float32) \n",
    "\n",
    "X1 = sp.sparse.hstack((vectorizer.fit_transform(df.Clean_Reviews),df[['Age','Recommended IND']].values),format='csr')\n",
    "X1_columns=vectorizer.get_feature_names()+df[['Age','Recommended IND']].columns.tolist()\n"
   ]
  },
  {
   "cell_type": "code",
   "execution_count": 63,
   "metadata": {},
   "outputs": [
    {
     "data": {
      "text/plain": [
       "['aa',\n",
       " 'aaaaaaamazing',\n",
       " 'aaaaandidontwanttopayforshipping',\n",
       " 'aaaahmazing',\n",
       " 'aaaahs',\n",
       " 'aame',\n",
       " 'ab',\n",
       " 'abbey',\n",
       " 'abby',\n",
       " 'abck',\n",
       " 'abdomen',\n",
       " 'abhor',\n",
       " 'ability',\n",
       " 'able',\n",
       " 'abnormal',\n",
       " 'abnormally',\n",
       " 'abo',\n",
       " 'abolutely',\n",
       " 'abou',\n",
       " 'abovetheknee',\n",
       " 'abovetheshoulders',\n",
       " 'abroad',\n",
       " 'abruptly',\n",
       " 'absence',\n",
       " 'abso',\n",
       " 'absolute',\n",
       " 'absolutely',\n",
       " 'absolutley',\n",
       " 'absolutly',\n",
       " 'absoluty',\n",
       " 'absorbent',\n",
       " 'abstract',\n",
       " 'absurd',\n",
       " 'absurdly',\n",
       " 'abt',\n",
       " 'abundance',\n",
       " 'abused',\n",
       " 'abut',\n",
       " 'ac',\n",
       " 'acacia',\n",
       " 'accent',\n",
       " 'accented',\n",
       " 'accenting',\n",
       " 'accentuate',\n",
       " 'accentuatea',\n",
       " 'accentuated',\n",
       " 'accentuates',\n",
       " 'accentuating',\n",
       " 'accept',\n",
       " 'acceptabl',\n",
       " 'acceptable',\n",
       " 'acceptably',\n",
       " 'accepted',\n",
       " 'accepts',\n",
       " 'access',\n",
       " 'accesso',\n",
       " 'accessorize',\n",
       " 'accessorized',\n",
       " 'accessorizes',\n",
       " 'accessorizing',\n",
       " 'accessory',\n",
       " 'accident',\n",
       " 'accidental',\n",
       " 'accidentally',\n",
       " 'acco',\n",
       " 'accomadate',\n",
       " 'accommodate',\n",
       " 'accommodated',\n",
       " 'accommodates',\n",
       " 'accommodating',\n",
       " 'accomodate',\n",
       " 'accompany',\n",
       " 'accompanying',\n",
       " 'accomplish',\n",
       " 'accord',\n",
       " 'accordance',\n",
       " 'accordian',\n",
       " 'according',\n",
       " 'accordingly',\n",
       " 'accordinglythis',\n",
       " 'account',\n",
       " 'accuracy',\n",
       " 'accurate',\n",
       " 'accuratei',\n",
       " 'accurately',\n",
       " 'acetate',\n",
       " 'achieve',\n",
       " 'achieved',\n",
       " 'acid',\n",
       " 'ack',\n",
       " 'acknowledge',\n",
       " 'acomfortable',\n",
       " 'acquaintance',\n",
       " 'acquiring',\n",
       " 'acquisition',\n",
       " 'across',\n",
       " 'acrossed',\n",
       " 'acrylic',\n",
       " 'acrylicfeeling',\n",
       " 'acrylicnylonwool',\n",
       " 'acrylicwool',\n",
       " 'act',\n",
       " 'action',\n",
       " 'active',\n",
       " 'actively',\n",
       " 'activewear',\n",
       " 'activity',\n",
       " 'actual',\n",
       " 'actuality',\n",
       " 'actuallly',\n",
       " 'actually',\n",
       " 'acup',\n",
       " 'acutually',\n",
       " 'ad',\n",
       " 'ada',\n",
       " 'add',\n",
       " 'added',\n",
       " 'addict',\n",
       " 'addicted',\n",
       " 'addiction',\n",
       " 'adding',\n",
       " 'addit',\n",
       " 'additio',\n",
       " 'addition',\n",
       " 'additional',\n",
       " 'additionally',\n",
       " 'additonal',\n",
       " 'addon',\n",
       " 'address',\n",
       " 'addressed',\n",
       " 'addtl',\n",
       " 'aded',\n",
       " 'adequate',\n",
       " 'adequately',\n",
       " 'adhesive',\n",
       " 'adieu',\n",
       " 'adirondacks',\n",
       " 'adj',\n",
       " 'adjsut',\n",
       " 'adjust',\n",
       " 'adjustability',\n",
       " 'adjustable',\n",
       " 'adjustableand',\n",
       " 'adjustableit',\n",
       " 'adjusted',\n",
       " 'adjustedthen',\n",
       " 'adjusting',\n",
       " 'adjustingpulling',\n",
       " 'adjustment',\n",
       " 'adjusts',\n",
       " 'admirable',\n",
       " 'admiration',\n",
       " 'admire',\n",
       " 'admired',\n",
       " 'admirin',\n",
       " 'admiring',\n",
       " 'admit',\n",
       " 'admittedly',\n",
       " 'adn',\n",
       " 'adopted',\n",
       " 'ador',\n",
       " 'adorable',\n",
       " 'adorableso',\n",
       " 'adorably',\n",
       " 'adore',\n",
       " 'adored',\n",
       " 'adores',\n",
       " 'adoreworthy',\n",
       " 'adorn',\n",
       " 'adult',\n",
       " 'advantage',\n",
       " 'adventure',\n",
       " 'adventurous',\n",
       " 'advertise',\n",
       " 'advertised',\n",
       " 'advertising',\n",
       " 'advice',\n",
       " 'advise',\n",
       " 'advised',\n",
       " 'advising',\n",
       " 'aesthetic',\n",
       " 'aesthetically',\n",
       " 'aestheticdesign',\n",
       " 'aestheticsthis',\n",
       " 'aestheticsweet',\n",
       " 'affair',\n",
       " 'affect',\n",
       " 'affected',\n",
       " 'affluent',\n",
       " 'afford',\n",
       " 'affordable',\n",
       " 'affords',\n",
       " 'afghan',\n",
       " 'aflutter',\n",
       " 'afraid',\n",
       " 'aframe',\n",
       " 'africa',\n",
       " 'aft',\n",
       " 'afterall',\n",
       " 'afternoon',\n",
       " 'afterward',\n",
       " 'afterwards',\n",
       " 'afterwork',\n",
       " 'ag',\n",
       " 'aga',\n",
       " 'agai',\n",
       " 'againi',\n",
       " 'againits',\n",
       " 'againuntil',\n",
       " 'againvery',\n",
       " 'age',\n",
       " 'ageappropriate',\n",
       " 'aged',\n",
       " 'ageing',\n",
       " 'ageless',\n",
       " 'agent',\n",
       " 'aggressive',\n",
       " 'aggressively',\n",
       " 'agin',\n",
       " 'agitated',\n",
       " 'ago',\n",
       " 'agoand',\n",
       " 'agoi',\n",
       " 'agree',\n",
       " 'agreed',\n",
       " 'agreeing',\n",
       " 'agreement',\n",
       " 'agrees',\n",
       " 'agustable',\n",
       " 'ah',\n",
       " 'ahd',\n",
       " 'ahe',\n",
       " 'ahead',\n",
       " 'aheadpress',\n",
       " 'ahem',\n",
       " 'ahge',\n",
       " 'ahh',\n",
       " 'ahhh',\n",
       " 'ahmazing',\n",
       " 'ahold',\n",
       " 'aholed',\n",
       " 'ahs',\n",
       " 'ahtro',\n",
       " 'ahve',\n",
       " 'ai',\n",
       " 'aid',\n",
       " 'aiming',\n",
       " 'air',\n",
       " 'airconditioned',\n",
       " 'airconditionied',\n",
       " 'airdried',\n",
       " 'airdrying',\n",
       " 'airflow',\n",
       " 'airier',\n",
       " 'airiness',\n",
       " 'airing',\n",
       " 'airism',\n",
       " 'airline',\n",
       " 'airly',\n",
       " 'airplane',\n",
       " 'airport',\n",
       " 'airy',\n",
       " 'airybillowy',\n",
       " 'airyness',\n",
       " 'airynot',\n",
       " 'airyvery',\n",
       " 'aize',\n",
       " 'ak',\n",
       " 'aka',\n",
       " 'akemi',\n",
       " 'akin',\n",
       " 'al',\n",
       " 'ala',\n",
       " 'alaska',\n",
       " 'albeit',\n",
       " 'alce',\n",
       " 'aleardy',\n",
       " 'alert',\n",
       " 'alerted',\n",
       " 'alexa',\n",
       " 'alexandria',\n",
       " 'ali',\n",
       " 'align',\n",
       " 'aligned',\n",
       " 'aligning',\n",
       " 'alignment',\n",
       " 'alike',\n",
       " 'aline',\n",
       " 'alined',\n",
       " 'alinefitnflare',\n",
       " 'alines',\n",
       " 'alining',\n",
       " 'alittle',\n",
       " 'allaround',\n",
       " 'allbut',\n",
       " 'allergic',\n",
       " 'allergy',\n",
       " 'alleviated',\n",
       " 'alley',\n",
       " 'alli',\n",
       " 'allin',\n",
       " 'allinall',\n",
       " 'allison',\n",
       " 'allit',\n",
       " 'allot',\n",
       " 'allover',\n",
       " 'allovertheplace',\n",
       " 'allow',\n",
       " 'allowance',\n",
       " 'allowed',\n",
       " 'allowing',\n",
       " 'allows',\n",
       " 'allround',\n",
       " 'allseason',\n",
       " 'allsummertime',\n",
       " 'allthis',\n",
       " 'alludes',\n",
       " 'alluring',\n",
       " 'alluringnot',\n",
       " 'allusion',\n",
       " 'allusione',\n",
       " 'allways',\n",
       " 'allweather',\n",
       " 'allwould',\n",
       " 'allyear',\n",
       " 'almost',\n",
       " 'almostcowl',\n",
       " 'almostfrayed',\n",
       " 'almsot',\n",
       " 'alone',\n",
       " 'along',\n",
       " 'alot',\n",
       " 'alpaca',\n",
       " 'alpacawool',\n",
       " 'alr',\n",
       " 'already',\n",
       " 'alreadyi',\n",
       " 'alreadyit',\n",
       " 'alright',\n",
       " 'also',\n",
       " 'alsolooks',\n",
       " 'alsonot',\n",
       " 'alsothe',\n",
       " 'alsothis',\n",
       " 'alst',\n",
       " 'alt',\n",
       " 'altar',\n",
       " 'alter',\n",
       " 'alteration',\n",
       " 'altered',\n",
       " 'alteredbut',\n",
       " 'alteredi',\n",
       " 'altering',\n",
       " 'alternate',\n",
       " 'alternately',\n",
       " 'alternation',\n",
       " 'alternative',\n",
       " 'althetic',\n",
       " 'altho',\n",
       " 'although',\n",
       " 'alto',\n",
       " 'altogether',\n",
       " 'alway',\n",
       " 'always',\n",
       " 'ama',\n",
       " 'amadi',\n",
       " 'amail',\n",
       " 'amalfi',\n",
       " 'amaybe',\n",
       " 'amaz',\n",
       " 'amaze',\n",
       " 'amazed',\n",
       " 'amazement',\n",
       " 'amazing',\n",
       " 'amazingdelicate',\n",
       " 'amazingfabulous',\n",
       " 'amazingi',\n",
       " 'amazingit',\n",
       " 'amazinglook',\n",
       " 'amazingly',\n",
       " 'amazingmuch',\n",
       " 'amazingone',\n",
       " 'amazingsuch',\n",
       " 'amazingsuper',\n",
       " 'amazingworth',\n",
       " 'amazon',\n",
       " 'amber',\n",
       " 'ambiguous',\n",
       " 'ambitious',\n",
       " 'amd',\n",
       " 'amelia',\n",
       " 'amenable',\n",
       " 'american',\n",
       " 'amidst',\n",
       " 'amking',\n",
       " 'among',\n",
       " 'amore',\n",
       " 'amoret',\n",
       " 'amorphous',\n",
       " 'amos',\n",
       " 'amost',\n",
       " 'amount',\n",
       " 'amp',\n",
       " 'ampampamp',\n",
       " 'ampampampamp',\n",
       " 'ampampampampquot',\n",
       " 'ampampampquot',\n",
       " 'ample',\n",
       " 'amply',\n",
       " 'ampquot',\n",
       " 'ampquotnoampquot',\n",
       " 'amsterdam',\n",
       " 'amt',\n",
       " 'amterial',\n",
       " 'amust',\n",
       " 'an',\n",
       " 'anafa',\n",
       " 'analogy',\n",
       " 'anatomy',\n",
       " 'anchor',\n",
       " 'andddddd',\n",
       " 'andhonestlythey',\n",
       " 'andnonary',\n",
       " 'andor',\n",
       " 'andrew',\n",
       " 'ands',\n",
       " 'angel',\n",
       " 'angela',\n",
       " 'angeles',\n",
       " 'angelinas',\n",
       " 'angle',\n",
       " 'angled',\n",
       " 'angora',\n",
       " 'anhtro',\n",
       " 'animal',\n",
       " 'anita',\n",
       " 'ankl',\n",
       " 'ankle',\n",
       " 'anklelength',\n",
       " 'anklestrap',\n",
       " 'anna',\n",
       " 'anniversary',\n",
       " 'anniversaryi',\n",
       " 'announce',\n",
       " 'annoy',\n",
       " 'annoyance',\n",
       " 'annoyed',\n",
       " 'annoying',\n",
       " 'annoys',\n",
       " 'annual',\n",
       " 'anorak',\n",
       " 'anoth',\n",
       " 'anothe',\n",
       " 'another',\n",
       " 'anothr',\n",
       " 'anrtho',\n",
       " 'answe',\n",
       " 'answer',\n",
       " 'ansy',\n",
       " 'ant',\n",
       " 'ante',\n",
       " 'antebellum',\n",
       " 'anth',\n",
       " 'anther',\n",
       " 'antheropologie',\n",
       " 'anthletic',\n",
       " 'antho',\n",
       " 'anthopology',\n",
       " 'anthto',\n",
       " 'anti',\n",
       " 'anticipate',\n",
       " 'anticipated',\n",
       " 'anticipating',\n",
       " 'anticipatingi',\n",
       " 'anticipation',\n",
       " 'anticpated',\n",
       " 'antipant',\n",
       " 'antique',\n",
       " 'antiqueish',\n",
       " 'antistatic',\n",
       " 'antrho',\n",
       " 'antrhopologie',\n",
       " 'antro',\n",
       " 'antropologie',\n",
       " 'antwerp',\n",
       " 'anwen',\n",
       " 'anxious',\n",
       " 'anxiously',\n",
       " 'anybody',\n",
       " 'anyday',\n",
       " 'anyhow',\n",
       " 'anymore',\n",
       " 'anymorei',\n",
       " 'anyone',\n",
       " 'anyonea',\n",
       " 'anyou',\n",
       " 'anyt',\n",
       " 'anything',\n",
       " 'anythingbelowyourwaist',\n",
       " 'anythingjust',\n",
       " 'anythingtights',\n",
       " 'anytime',\n",
       " 'anytimeanywhere',\n",
       " 'anyway',\n",
       " 'anyways',\n",
       " 'anywayseven',\n",
       " 'anywhere',\n",
       " 'anywhereeven',\n",
       " 'anywhereeverywhere',\n",
       " 'anywhereyet',\n",
       " 'aottern',\n",
       " 'apart',\n",
       " 'apex',\n",
       " 'aplique',\n",
       " 'app',\n",
       " 'appalled',\n",
       " 'apparel',\n",
       " 'apparent',\n",
       " 'apparently',\n",
       " 'apparentlyperfect',\n",
       " 'appeal',\n",
       " 'appealed',\n",
       " 'appealing',\n",
       " 'appear',\n",
       " 'appearance',\n",
       " 'appeared',\n",
       " 'appearing',\n",
       " 'appears',\n",
       " 'appetite',\n",
       " 'apple',\n",
       " 'appleshaped',\n",
       " 'applied',\n",
       " 'applies',\n",
       " 'appliqu',\n",
       " 'applique',\n",
       " 'appliqueslaces',\n",
       " 'apply',\n",
       " 'applying',\n",
       " 'appr',\n",
       " 'appreciate',\n",
       " 'appreciated',\n",
       " 'appreciateno',\n",
       " 'appreciation',\n",
       " 'apprehensive',\n",
       " 'approach',\n",
       " 'approaching',\n",
       " 'appropirate',\n",
       " 'approprialty',\n",
       " 'appropriarely',\n",
       " 'appropriate',\n",
       " 'appropriately',\n",
       " 'appropriateness',\n",
       " 'approved',\n",
       " 'approx',\n",
       " 'approximate',\n",
       " 'approximately',\n",
       " 'apr',\n",
       " 'apre',\n",
       " 'apres',\n",
       " 'apricot',\n",
       " 'april',\n",
       " 'apron',\n",
       " 'aprts',\n",
       " 'apt',\n",
       " 'aptly',\n",
       " 'apttenrs',\n",
       " 'apttern',\n",
       " 'aqua',\n",
       " 'aquaflora',\n",
       " 'ar',\n",
       " 'arbor',\n",
       " 'arc',\n",
       " 'arcata',\n",
       " 'arched',\n",
       " 'architectural',\n",
       " 'arctic',\n",
       " 'area',\n",
       " 'areameant',\n",
       " 'areanear',\n",
       " 'areaproviding',\n",
       " 'areathis',\n",
       " 'areawin',\n",
       " 'arei',\n",
       " 'areif',\n",
       " 'arent',\n",
       " 'aret',\n",
       " 'areturn',\n",
       " 'arguably',\n",
       " 'argument',\n",
       " 'aria',\n",
       " 'arielle',\n",
       " 'arise',\n",
       " 'ark',\n",
       " 'arm',\n",
       " 'armchest',\n",
       " 'armed',\n",
       " 'armful',\n",
       " 'armh',\n",
       " 'armhoes',\n",
       " 'armhole',\n",
       " 'armholesthey',\n",
       " 'armpit',\n",
       " 'armpitchest',\n",
       " 'armpitslike',\n",
       " 'armsbodice',\n",
       " 'armsbody',\n",
       " 'armsbust',\n",
       " 'armschest',\n",
       " 'armscye',\n",
       " 'armsfell',\n",
       " 'armshit',\n",
       " 'armshoulder',\n",
       " 'armsif',\n",
       " 'armsshoulders',\n",
       " 'armsshouldersback',\n",
       " 'armsshouldersbust',\n",
       " 'armsyou',\n",
       " 'armwise',\n",
       " 'army',\n",
       " 'aro',\n",
       " 'aroun',\n",
       " 'around',\n",
       " 'aroundholds',\n",
       " 'aroundstylefit',\n",
       " 'arr',\n",
       " 'arranged',\n",
       " 'arrangement',\n",
       " 'arri',\n",
       " 'arrival',\n",
       " 'arrive',\n",
       " 'arriveand',\n",
       " 'arrived',\n",
       " 'arrivedlove',\n",
       " 'arrives',\n",
       " 'arriving',\n",
       " 'arrow',\n",
       " 'art',\n",
       " 'artfully',\n",
       " 'article',\n",
       " 'articlepattern',\n",
       " 'artist',\n",
       " 'artistic',\n",
       " 'artistically',\n",
       " 'artsy',\n",
       " 'artwork',\n",
       " 'arty',\n",
       " 'artylooking',\n",
       " 'asadvertised',\n",
       " 'asap',\n",
       " 'ascetic',\n",
       " 'asflattering',\n",
       " 'ash',\n",
       " 'ashamed',\n",
       " 'ashape',\n",
       " 'ashaped',\n",
       " 'asheville',\n",
       " 'ashley',\n",
       " 'asia',\n",
       " 'asian',\n",
       " 'asianinspired',\n",
       " 'aside',\n",
       " 'asidesince',\n",
       " 'asis',\n",
       " 'ask',\n",
       " 'aske',\n",
       " 'asked',\n",
       " 'askedher',\n",
       " 'asking',\n",
       " 'aspect',\n",
       " 'aspictured',\n",
       " 'asscoaites',\n",
       " 'assemblage',\n",
       " 'assembledcomfortable',\n",
       " 'assessed',\n",
       " 'assessing',\n",
       " 'assessment',\n",
       " 'asset',\n",
       " 'assist',\n",
       " 'assistance',\n",
       " 'assistant',\n",
       " 'assistantstyle',\n",
       " 'assoc',\n",
       " 'associate',\n",
       " 'association',\n",
       " 'assorted',\n",
       " 'assume',\n",
       " 'assumed',\n",
       " 'assuming',\n",
       " 'assumption',\n",
       " 'assurance',\n",
       " 'assured',\n",
       " 'assures',\n",
       " 'assymetrical',\n",
       " 'ast',\n",
       " 'aster',\n",
       " 'asthetic',\n",
       " 'asthetically',\n",
       " 'astoria',\n",
       " 'astounded',\n",
       " 'astronomical',\n",
       " 'asummig',\n",
       " 'aswing',\n",
       " 'asylum',\n",
       " 'asymetrical',\n",
       " 'asymmetric',\n",
       " 'asymmetrical',\n",
       " 'asymmetry',\n",
       " 'atbarely',\n",
       " 'atbelow',\n",
       " 'ate',\n",
       " 'athleisure',\n",
       " 'athlete',\n",
       " 'athletic',\n",
       " 'athletically',\n",
       " 'athleticbuilt',\n",
       " 'athleticfull',\n",
       " 'athletichourglass',\n",
       " 'athleticism',\n",
       " 'athleticmuscular',\n",
       " 'athleticsmall',\n",
       " 'athleticstraight',\n",
       " 'athough',\n",
       " 'athro',\n",
       " 'athropologie',\n",
       " 'atknee',\n",
       " 'atl',\n",
       " 'atlanta',\n",
       " 'atrocious',\n",
       " 'attach',\n",
       " 'attache',\n",
       " 'attached',\n",
       " 'attaching',\n",
       " 'attachment',\n",
       " 'attack',\n",
       " 'attempt',\n",
       " 'attempted',\n",
       " 'attempting',\n",
       " 'attend',\n",
       " 'attendant',\n",
       " 'attended',\n",
       " 'attending',\n",
       " 'attent',\n",
       " 'attentio',\n",
       " 'attention',\n",
       " 'attest',\n",
       " 'attic',\n",
       " 'attire',\n",
       " 'attitude',\n",
       " 'attn',\n",
       " 'attrac',\n",
       " 'attracted',\n",
       " 'attracting',\n",
       " 'attraction',\n",
       " 'attractive',\n",
       " 'attractively',\n",
       " 'attracts',\n",
       " 'attribute',\n",
       " 'attributed',\n",
       " 'atypical',\n",
       " 'au',\n",
       " 'aubergine',\n",
       " 'auction',\n",
       " 'audrey',\n",
       " 'august',\n",
       " 'aunt',\n",
       " 'ausaria',\n",
       " 'austin',\n",
       " 'australian',\n",
       " 'ausually',\n",
       " 'authentic',\n",
       " 'authenticity',\n",
       " 'autobots',\n",
       " 'automatically',\n",
       " 'autumn',\n",
       " 'autumnal',\n",
       " 'autumnearly',\n",
       " 'autumnwinter',\n",
       " 'av',\n",
       " 'avail',\n",
       " 'availab',\n",
       " 'availability',\n",
       " 'available',\n",
       " 'availablebut',\n",
       " 'availableit',\n",
       " 'availalbe',\n",
       " 'ave',\n",
       " 'average',\n",
       " 'avergage',\n",
       " 'aversion',\n",
       " 'avery',\n",
       " 'avg',\n",
       " 'avid',\n",
       " 'avoid',\n",
       " 'avoided',\n",
       " 'avoiding',\n",
       " 'avoids',\n",
       " 'aw',\n",
       " 'awaited',\n",
       " 'awaiting',\n",
       " 'award',\n",
       " 'aware',\n",
       " 'awareness',\n",
       " 'away',\n",
       " 'awaykinda',\n",
       " 'awe',\n",
       " 'awed',\n",
       " 'aweful',\n",
       " 'awesome',\n",
       " 'awesomealthough',\n",
       " 'awesomefrom',\n",
       " 'awesomely',\n",
       " 'awful',\n",
       " 'awfully',\n",
       " 'awhile',\n",
       " 'awhilesnatched',\n",
       " 'awkward',\n",
       " 'awkwardbunchy',\n",
       " 'awkwardfitting',\n",
       " 'awkwardly',\n",
       " 'awkwardlyannoyingly',\n",
       " 'awkwardness',\n",
       " 'awkwards',\n",
       " 'az',\n",
       " 'azure',\n",
       " 'ba',\n",
       " 'baby',\n",
       " 'babybridal',\n",
       " 'babydoll',\n",
       " 'bac',\n",
       " 'bachelorette',\n",
       " 'back',\n",
       " 'backarms',\n",
       " 'backbut',\n",
       " 'backchest',\n",
       " 'backdesign',\n",
       " 'backed',\n",
       " 'backend',\n",
       " 'backfront',\n",
       " 'background',\n",
       " 'backit',\n",
       " 'backless',\n",
       " 'backlike',\n",
       " 'backlit',\n",
       " 'backmodel',\n",
       " 'backorder',\n",
       " 'backordered',\n",
       " 'backpack',\n",
       " 'backpacker',\n",
       " 'backshoulders',\n",
       " 'backshouldersupper',\n",
       " 'backside',\n",
       " 'backso',\n",
       " 'backsorry',\n",
       " 'backtoback',\n",
       " 'backup',\n",
       " 'backward',\n",
       " 'backwards',\n",
       " 'backwide',\n",
       " 'backyard',\n",
       " 'bacon',\n",
       " 'bad',\n",
       " 'badass',\n",
       " 'badi',\n",
       " 'badly',\n",
       " 'badwornold',\n",
       " 'baffled',\n",
       " 'bag',\n",
       " 'bagg',\n",
       " 'baggage',\n",
       " 'bagged',\n",
       " 'bagger',\n",
       " 'baggie',\n",
       " 'baggier',\n",
       " 'baggies',\n",
       " 'bagginess',\n",
       " 'bagging',\n",
       " 'baggish',\n",
       " 'baggy',\n",
       " 'baggyall',\n",
       " 'baggyloose',\n",
       " 'baggysloppy',\n",
       " 'bahama',\n",
       " 'bahamas',\n",
       " 'bailey',\n",
       " 'bailley',\n",
       " 'bailly',\n",
       " 'baily',\n",
       " 'bainbridge',\n",
       " 'balance',\n",
       " 'balanced',\n",
       " 'balancing',\n",
       " 'balc',\n",
       " 'balck',\n",
       " 'balked',\n",
       " 'ball',\n",
       " 'ballerina',\n",
       " 'ballet',\n",
       " 'ballgown',\n",
       " 'ballgowns',\n",
       " 'balloon',\n",
       " 'ballooned',\n",
       " 'balloonfit',\n",
       " 'ballooning',\n",
       " 'balloontent',\n",
       " 'balloony',\n",
       " 'ballroom',\n",
       " 'balmy',\n",
       " 'baltimoreand',\n",
       " 'bam',\n",
       " 'bamboo',\n",
       " 'ban',\n",
       " 'band',\n",
       " 'bandage',\n",
       " 'bandaidcolored',\n",
       " 'bandeau',\n",
       " 'banded',\n",
       " 'banding',\n",
       " 'bandwagon',\n",
       " 'bane',\n",
       " 'bangle',\n",
       " 'bank',\n",
       " 'banking',\n",
       " 'banquet',\n",
       " 'baptismhave',\n",
       " 'bar',\n",
       " 'barbara',\n",
       " 'barbecue',\n",
       " 'bare',\n",
       " 'barefoot',\n",
       " 'barely',\n",
       " 'bares',\n",
       " 'bargain',\n",
       " 'barley',\n",
       " 'barneypurple',\n",
       " 'barnyard',\n",
       " 'baroque',\n",
       " 'barre',\n",
       " 'barrel',\n",
       " 'base',\n",
       " 'baseball',\n",
       " 'based',\n",
       " 'basement',\n",
       " 'basic',\n",
       " 'basically',\n",
       " 'basis',\n",
       " 'basket',\n",
       " 'basketball',\n",
       " 'basketweave',\n",
       " 'bat',\n",
       " 'batch',\n",
       " 'bath',\n",
       " 'bathed',\n",
       " 'bathing',\n",
       " 'bathrobe',\n",
       " 'bathroom',\n",
       " 'batiklike',\n",
       " 'bating',\n",
       " 'battle',\n",
       " 'batty',\n",
       " 'batwing',\n",
       " 'bay',\n",
       " 'bbq',\n",
       " 'bc',\n",
       " 'bcasue',\n",
       " 'bcup',\n",
       " 'bday',\n",
       " 'be',\n",
       " 'bea',\n",
       " 'beac',\n",
       " 'beach',\n",
       " 'beached',\n",
       " 'beacheress',\n",
       " 'beachit',\n",
       " 'beachpool',\n",
       " 'beachy',\n",
       " 'bead',\n",
       " 'beaded',\n",
       " 'beading',\n",
       " 'beadingrivet',\n",
       " 'beadssequins',\n",
       " 'beadssequinsall',\n",
       " 'beadwork',\n",
       " 'bealthough',\n",
       " 'beamed',\n",
       " 'bear',\n",
       " 'bearable',\n",
       " 'beardedlady',\n",
       " 'bearing',\n",
       " 'beat',\n",
       " 'beatifully',\n",
       " 'beatrice',\n",
       " 'beaufully',\n",
       " 'beauitiful',\n",
       " 'beautful',\n",
       " 'beauti',\n",
       " 'beautifil',\n",
       " 'beautifu',\n",
       " 'beautiful',\n",
       " 'beautifula',\n",
       " 'beautifulchic',\n",
       " ...]"
      ]
     },
     "execution_count": 63,
     "metadata": {},
     "output_type": "execute_result"
    }
   ],
   "source": [
    "X1_columns"
   ]
  },
  {
   "cell_type": "code",
   "execution_count": 64,
   "metadata": {},
   "outputs": [
    {
     "data": {
      "text/plain": [
       "array([[ 0,  0,  0, ...,  0, 50,  1],\n",
       "       [ 0,  0,  0, ...,  0, 47,  1],\n",
       "       [ 0,  0,  0, ...,  0, 49,  0],\n",
       "       ...,\n",
       "       [ 0,  0,  0, ...,  0, 42,  1],\n",
       "       [ 0,  0,  0, ...,  0, 34,  1],\n",
       "       [ 0,  0,  0, ...,  0, 52,  1]], dtype=int64)"
      ]
     },
     "execution_count": 64,
     "metadata": {},
     "output_type": "execute_result"
    }
   ],
   "source": [
    "X1.toarray()"
   ]
  },
  {
   "cell_type": "markdown",
   "metadata": {},
   "source": [
    "### Iteration2:  \n",
    "Applying Naive Bayes"
   ]
  },
  {
   "cell_type": "code",
   "execution_count": 49,
   "metadata": {},
   "outputs": [
    {
     "data": {
      "text/plain": [
       "MultinomialNB()"
      ]
     },
     "execution_count": 49,
     "metadata": {},
     "output_type": "execute_result"
    }
   ],
   "source": [
    "from sklearn import metrics\n",
    "X1_train, X1_test, y1_train, y1_test = train_test_split(X1, y1, test_size=0.25, random_state=0)\n",
    "nb1 = MultinomialNB()\n",
    "nb1.fit(X1_train, y1_train)"
   ]
  },
  {
   "cell_type": "code",
   "execution_count": 50,
   "metadata": {},
   "outputs": [],
   "source": [
    "nb1_pred = nb1.predict(X1_test)"
   ]
  },
  {
   "cell_type": "code",
   "execution_count": 23,
   "metadata": {},
   "outputs": [
    {
     "ename": "NameError",
     "evalue": "name 'y1_test' is not defined",
     "output_type": "error",
     "traceback": [
      "\u001b[1;31m---------------------------------------------------------------------------\u001b[0m",
      "\u001b[1;31mNameError\u001b[0m                                 Traceback (most recent call last)",
      "\u001b[1;32m<ipython-input-23-0892ee482e6a>\u001b[0m in \u001b[0;36m<module>\u001b[1;34m\u001b[0m\n\u001b[0;32m      1\u001b[0m \u001b[1;31m#confusion matrix\u001b[0m\u001b[1;33m\u001b[0m\u001b[1;33m\u001b[0m\u001b[1;33m\u001b[0m\u001b[0m\n\u001b[1;32m----> 2\u001b[1;33m \u001b[0mcmNB\u001b[0m \u001b[1;33m=\u001b[0m \u001b[0mconfusion_matrix\u001b[0m\u001b[1;33m(\u001b[0m\u001b[0my1_test\u001b[0m\u001b[1;33m,\u001b[0m\u001b[0mnb1_pred\u001b[0m\u001b[1;33m)\u001b[0m\u001b[1;33m\u001b[0m\u001b[1;33m\u001b[0m\u001b[0m\n\u001b[0m\u001b[0;32m      3\u001b[0m \u001b[0mcmNB\u001b[0m\u001b[1;33m\u001b[0m\u001b[1;33m\u001b[0m\u001b[0m\n",
      "\u001b[1;31mNameError\u001b[0m: name 'y1_test' is not defined"
     ]
    }
   ],
   "source": [
    "#confusion matrix\n",
    "cmNB = confusion_matrix(y1_test,nb1_pred)\n",
    "cmNB"
   ]
  },
  {
   "cell_type": "code",
   "execution_count": 52,
   "metadata": {},
   "outputs": [
    {
     "data": {
      "text/plain": [
       "0.9313953488372093"
      ]
     },
     "execution_count": 52,
     "metadata": {},
     "output_type": "execute_result"
    }
   ],
   "source": [
    "#Accuracy of Naive Bayes\n",
    "accuracy_score(y1_test,nb1_pred)"
   ]
  },
  {
   "cell_type": "code",
   "execution_count": 61,
   "metadata": {},
   "outputs": [
    {
     "name": "stdout",
     "output_type": "stream",
     "text": [
      "<class 'pandas.core.frame.DataFrame'>\n",
      "Int64Index: 17198 entries, 1 to 19661\n",
      "Data columns (total 6 columns):\n",
      " #   Column           Non-Null Count  Dtype \n",
      "---  ------           --------------  ----- \n",
      " 0   Age              17198 non-null  int64 \n",
      " 1   Rating           17198 non-null  int64 \n",
      " 2   Recommended IND  17198 non-null  int64 \n",
      " 3   Sentiment        17198 non-null  bool  \n",
      " 4   Clean_Reviews    17198 non-null  object\n",
      " 5   Word Counts      17198 non-null  object\n",
      "dtypes: bool(1), int64(3), object(2)\n",
      "memory usage: 823.0+ KB\n"
     ]
    }
   ],
   "source": [
    "df.info()"
   ]
  },
  {
   "cell_type": "markdown",
   "metadata": {},
   "source": [
    "## Pickle"
   ]
  },
  {
   "cell_type": "code",
   "execution_count": 58,
   "metadata": {},
   "outputs": [],
   "source": [
    "import pickle"
   ]
  },
  {
   "cell_type": "markdown",
   "metadata": {},
   "source": [
    "Applying Logistic Regression"
   ]
  },
  {
   "cell_type": "code",
   "execution_count": 60,
   "metadata": {},
   "outputs": [
    {
     "name": "stderr",
     "output_type": "stream",
     "text": [
      "c:\\users\\sj\\appdata\\local\\programs\\python\\python38\\lib\\site-packages\\sklearn\\linear_model\\_logistic.py:762: ConvergenceWarning: lbfgs failed to converge (status=1):\n",
      "STOP: TOTAL NO. of ITERATIONS REACHED LIMIT.\n",
      "\n",
      "Increase the number of iterations (max_iter) or scale the data as shown in:\n",
      "    https://scikit-learn.org/stable/modules/preprocessing.html\n",
      "Please also refer to the documentation for alternative solver options:\n",
      "    https://scikit-learn.org/stable/modules/linear_model.html#logistic-regression\n",
      "  n_iter_i = _check_optimize_result(\n"
     ]
    }
   ],
   "source": [
    "model = LogisticRegression()\n",
    "model.fit(X1_train, y1_train)\n",
    "# save the model to disk\n",
    "filename = 'model.pkl'\n",
    "pickle.dump(model, open(filename, 'wb'))\n",
    " "
   ]
  },
  {
   "cell_type": "code",
   "execution_count": null,
   "metadata": {},
   "outputs": [],
   "source": [
    "# some time later...\n",
    " \n",
    "# load the model from disk\n",
    "loaded_model = pickle.load(open(filename, 'rb'))\n",
    "result = loaded_model.score(X_test, Y_test)\n",
    "print(result)"
   ]
  },
  {
   "cell_type": "code",
   "execution_count": 53,
   "metadata": {},
   "outputs": [
    {
     "name": "stderr",
     "output_type": "stream",
     "text": [
      "c:\\users\\sj\\appdata\\local\\programs\\python\\python38\\lib\\site-packages\\sklearn\\linear_model\\_logistic.py:762: ConvergenceWarning: lbfgs failed to converge (status=1):\n",
      "STOP: TOTAL NO. of ITERATIONS REACHED LIMIT.\n",
      "\n",
      "Increase the number of iterations (max_iter) or scale the data as shown in:\n",
      "    https://scikit-learn.org/stable/modules/preprocessing.html\n",
      "Please also refer to the documentation for alternative solver options:\n",
      "    https://scikit-learn.org/stable/modules/linear_model.html#logistic-regression\n",
      "  n_iter_i = _check_optimize_result(\n"
     ]
    },
    {
     "data": {
      "text/plain": [
       "LogisticRegression()"
      ]
     },
     "execution_count": 53,
     "metadata": {},
     "output_type": "execute_result"
    }
   ],
   "source": [
    "lr = LogisticRegression()\n",
    "lr.fit(X1,y1)"
   ]
  },
  {
   "cell_type": "code",
   "execution_count": 54,
   "metadata": {},
   "outputs": [],
   "source": [
    "lr_pred = lr.predict(X1_test)"
   ]
  },
  {
   "cell_type": "code",
   "execution_count": 55,
   "metadata": {},
   "outputs": [
    {
     "data": {
      "text/plain": [
       "array([1., 1., 0., ..., 1., 1., 1.], dtype=float32)"
      ]
     },
     "execution_count": 55,
     "metadata": {},
     "output_type": "execute_result"
    }
   ],
   "source": [
    "lr.predict(X1)"
   ]
  },
  {
   "cell_type": "code",
   "execution_count": 56,
   "metadata": {},
   "outputs": [
    {
     "data": {
      "text/plain": [
       "0.9921502500290732"
      ]
     },
     "execution_count": 56,
     "metadata": {},
     "output_type": "execute_result"
    }
   ],
   "source": [
    "lr.score(X1,y1)"
   ]
  },
  {
   "cell_type": "code",
   "execution_count": 57,
   "metadata": {},
   "outputs": [
    {
     "data": {
      "text/plain": [
       "array([[ 493,   16],\n",
       "       [  28, 3763]], dtype=int64)"
      ]
     },
     "execution_count": 57,
     "metadata": {},
     "output_type": "execute_result"
    }
   ],
   "source": [
    "cmlr = confusion_matrix(y1_test,lr_pred)\n",
    "cmlr"
   ]
  },
  {
   "cell_type": "code",
   "execution_count": null,
   "metadata": {},
   "outputs": [],
   "source": []
  },
  {
   "cell_type": "code",
   "execution_count": null,
   "metadata": {},
   "outputs": [],
   "source": []
  },
  {
   "cell_type": "markdown",
   "metadata": {},
   "source": [
    "Applying SVM"
   ]
  },
  {
   "cell_type": "code",
   "execution_count": 74,
   "metadata": {},
   "outputs": [],
   "source": [
    "svm1 = SVC()"
   ]
  },
  {
   "cell_type": "code",
   "execution_count": 75,
   "metadata": {},
   "outputs": [
    {
     "data": {
      "text/plain": [
       "SVC()"
      ]
     },
     "execution_count": 75,
     "metadata": {},
     "output_type": "execute_result"
    }
   ],
   "source": [
    "svm1.fit(X1_train,y1_train)"
   ]
  },
  {
   "cell_type": "code",
   "execution_count": 76,
   "metadata": {},
   "outputs": [],
   "source": [
    "svm1_pred = svm1.predict(X1_test)"
   ]
  },
  {
   "cell_type": "code",
   "execution_count": 77,
   "metadata": {},
   "outputs": [
    {
     "data": {
      "text/plain": [
       "array([[ 470,   39],\n",
       "       [  41, 3750]], dtype=int64)"
      ]
     },
     "execution_count": 77,
     "metadata": {},
     "output_type": "execute_result"
    }
   ],
   "source": [
    "cmsvm = confusion_matrix(y1_test,svm1_pred)\n",
    "cmsvm"
   ]
  },
  {
   "cell_type": "code",
   "execution_count": 95,
   "metadata": {},
   "outputs": [
    {
     "data": {
      "text/plain": [
       "0.9818583556227468"
      ]
     },
     "execution_count": 95,
     "metadata": {},
     "output_type": "execute_result"
    }
   ],
   "source": [
    "svm1.score(X1,y1)"
   ]
  },
  {
   "cell_type": "markdown",
   "metadata": {},
   "source": [
    "Applying Random Forest"
   ]
  },
  {
   "cell_type": "code",
   "execution_count": 96,
   "metadata": {},
   "outputs": [
    {
     "data": {
      "text/plain": [
       "RandomForestClassifier()"
      ]
     },
     "execution_count": 96,
     "metadata": {},
     "output_type": "execute_result"
    }
   ],
   "source": [
    "rf = RandomForestClassifier() \n",
    "rf.fit(X1_train,y1_train)"
   ]
  },
  {
   "cell_type": "code",
   "execution_count": 97,
   "metadata": {},
   "outputs": [],
   "source": [
    "rf_pred = rf.predict(X1_test)"
   ]
  },
  {
   "cell_type": "code",
   "execution_count": 98,
   "metadata": {},
   "outputs": [
    {
     "data": {
      "text/plain": [
       "array([[ 353,  156],\n",
       "       [  27, 3764]], dtype=int64)"
      ]
     },
     "execution_count": 98,
     "metadata": {},
     "output_type": "execute_result"
    }
   ],
   "source": [
    "cmrf = confusion_matrix(y1_test,rf_pred)\n",
    "cmrf"
   ]
  },
  {
   "cell_type": "code",
   "execution_count": 99,
   "metadata": {},
   "outputs": [
    {
     "data": {
      "text/plain": [
       "0.989359227817188"
      ]
     },
     "execution_count": 99,
     "metadata": {},
     "output_type": "execute_result"
    }
   ],
   "source": [
    "rf.score(X1,y1)"
   ]
  },
  {
   "cell_type": "code",
   "execution_count": null,
   "metadata": {},
   "outputs": [],
   "source": []
  },
  {
   "cell_type": "markdown",
   "metadata": {},
   "source": [
    "#### Presion And Recall Iteration2"
   ]
  },
  {
   "cell_type": "code",
   "execution_count": 100,
   "metadata": {},
   "outputs": [],
   "source": [
    "from sklearn.metrics import precision_score\n",
    "from sklearn.metrics import recall_score"
   ]
  },
  {
   "cell_type": "code",
   "execution_count": 102,
   "metadata": {},
   "outputs": [
    {
     "name": "stdout",
     "output_type": "stream",
     "text": [
      "0.9710116366890671\n",
      "0.9805899506586533\n"
     ]
    }
   ],
   "source": [
    "#precision and recall using Logistic Regression\n",
    "print(precision_score(y1_test, lr1_pred, average=\"macro\"))\n",
    "print(recall_score(y1_test, lr1_pred, average=\"macro\")) "
   ]
  },
  {
   "cell_type": "code",
   "execution_count": 103,
   "metadata": {},
   "outputs": [
    {
     "name": "stdout",
     "output_type": "stream",
     "text": [
      "0.9547361065273408\n",
      "0.9562820432427335\n"
     ]
    }
   ],
   "source": [
    "#precision and recall using SVM\n",
    "print(precision_score(y1_test, svm1_pred, average=\"macro\"))\n",
    "print(recall_score(y1_test, svm1_pred, average=\"macro\")) "
   ]
  },
  {
   "cell_type": "code",
   "execution_count": 104,
   "metadata": {},
   "outputs": [
    {
     "name": "stdout",
     "output_type": "stream",
     "text": [
      "0.8968333333333334\n",
      "0.7467844688511048\n"
     ]
    }
   ],
   "source": [
    "#precision and recall using Naive Bayes\n",
    "print(precision_score(y1_test, nb1_pred, average=\"macro\"))\n",
    "print(recall_score(y1_test, nb1_pred, average=\"macro\")) "
   ]
  },
  {
   "cell_type": "code",
   "execution_count": 105,
   "metadata": {},
   "outputs": [
    {
     "name": "stdout",
     "output_type": "stream",
     "text": [
      "0.9445757250268528\n",
      "0.8431972840234263\n"
     ]
    }
   ],
   "source": [
    "#precision and recall using Random Forest \n",
    "print(precision_score(y1_test, rf_pred, average=\"macro\"))\n",
    "print(recall_score(y1_test, rf_pred, average=\"macro\")) "
   ]
  },
  {
   "cell_type": "markdown",
   "metadata": {},
   "source": [
    "### Iteration 3"
   ]
  },
  {
   "cell_type": "code",
   "execution_count": 38,
   "metadata": {},
   "outputs": [
    {
     "name": "stdout",
     "output_type": "stream",
     "text": [
      "<class 'pandas.core.frame.DataFrame'>\n",
      "Int64Index: 17198 entries, 1 to 19661\n",
      "Data columns (total 14 columns):\n",
      " #   Column                   Non-Null Count  Dtype \n",
      "---  ------                   --------------  ----- \n",
      " 0   Clothing ID              17198 non-null  int64 \n",
      " 1   Age                      17198 non-null  int64 \n",
      " 2   Title                    17198 non-null  object\n",
      " 3   Review Text              17198 non-null  object\n",
      " 4   Rating                   17198 non-null  int64 \n",
      " 5   Recommended IND          17198 non-null  int64 \n",
      " 6   Positive Feedback Count  17198 non-null  int64 \n",
      " 7   Division Name            17198 non-null  object\n",
      " 8   Department Name          17198 non-null  object\n",
      " 9   Class Name               17198 non-null  object\n",
      " 10  Sentiment                17198 non-null  bool  \n",
      " 11  Clean_Reviews            17198 non-null  object\n",
      " 12  Count                    17198 non-null  int64 \n",
      " 13  Word Counts              17198 non-null  object\n",
      "dtypes: bool(1), int64(6), object(7)\n",
      "memory usage: 1.9+ MB\n"
     ]
    }
   ],
   "source": [
    "df.info()"
   ]
  },
  {
   "cell_type": "code",
   "execution_count": 89,
   "metadata": {},
   "outputs": [
    {
     "data": {
      "text/plain": [
       "General           10134\n",
       "General Petite     5971\n",
       "Initmates          1093\n",
       "Name: Division Name, dtype: int64"
      ]
     },
     "execution_count": 89,
     "metadata": {},
     "output_type": "execute_result"
    }
   ],
   "source": [
    "df['Division Name'].value_counts()"
   ]
  },
  {
   "cell_type": "markdown",
   "metadata": {},
   "source": [
    "### Class name is a categorical variable, to use it for classification, we have to perform one hot encoding first"
   ]
  },
  {
   "cell_type": "code",
   "execution_count": 39,
   "metadata": {},
   "outputs": [],
   "source": [
    "#using the pridictor variables, rating and Class Name\n",
    "cols=['Age', 'Recommended IND', 'Class Name','Clean_Reviews'] \n",
    "A=df[cols]"
   ]
  },
  {
   "cell_type": "code",
   "execution_count": 40,
   "metadata": {
    "scrolled": true
   },
   "outputs": [
    {
     "data": {
      "text/html": [
       "<div>\n",
       "<style scoped>\n",
       "    .dataframe tbody tr th:only-of-type {\n",
       "        vertical-align: middle;\n",
       "    }\n",
       "\n",
       "    .dataframe tbody tr th {\n",
       "        vertical-align: top;\n",
       "    }\n",
       "\n",
       "    .dataframe thead th {\n",
       "        text-align: right;\n",
       "    }\n",
       "</style>\n",
       "<table border=\"1\" class=\"dataframe\">\n",
       "  <thead>\n",
       "    <tr style=\"text-align: right;\">\n",
       "      <th></th>\n",
       "      <th>Age</th>\n",
       "      <th>Recommended IND</th>\n",
       "      <th>Class Name</th>\n",
       "      <th>Clean_Reviews</th>\n",
       "    </tr>\n",
       "  </thead>\n",
       "  <tbody>\n",
       "    <tr>\n",
       "      <th>1</th>\n",
       "      <td>50</td>\n",
       "      <td>1</td>\n",
       "      <td>Pants</td>\n",
       "      <td>love love love jumpsuit fun flirty fabulous ev...</td>\n",
       "    </tr>\n",
       "    <tr>\n",
       "      <th>2</th>\n",
       "      <td>47</td>\n",
       "      <td>1</td>\n",
       "      <td>Blouses</td>\n",
       "      <td>shirt flattering due adjustable front tie perf...</td>\n",
       "    </tr>\n",
       "    <tr>\n",
       "      <th>3</th>\n",
       "      <td>49</td>\n",
       "      <td>0</td>\n",
       "      <td>Dresses</td>\n",
       "      <td>love tracy reese dress one petite foot tall us...</td>\n",
       "    </tr>\n",
       "    <tr>\n",
       "      <th>4</th>\n",
       "      <td>39</td>\n",
       "      <td>1</td>\n",
       "      <td>Knits</td>\n",
       "      <td>aded basket hte last mintue see would look lik...</td>\n",
       "    </tr>\n",
       "    <tr>\n",
       "      <th>5</th>\n",
       "      <td>39</td>\n",
       "      <td>1</td>\n",
       "      <td>Knits</td>\n",
       "      <td>ordered carbon store pick ton stuff always try...</td>\n",
       "    </tr>\n",
       "    <tr>\n",
       "      <th>...</th>\n",
       "      <td>...</td>\n",
       "      <td>...</td>\n",
       "      <td>...</td>\n",
       "      <td>...</td>\n",
       "    </tr>\n",
       "    <tr>\n",
       "      <th>19654</th>\n",
       "      <td>39</td>\n",
       "      <td>1</td>\n",
       "      <td>Dresses</td>\n",
       "      <td>impressed beautiful color combination embroide...</td>\n",
       "    </tr>\n",
       "    <tr>\n",
       "      <th>19655</th>\n",
       "      <td>32</td>\n",
       "      <td>0</td>\n",
       "      <td>Dresses</td>\n",
       "      <td>surprised positive review product terrible cut...</td>\n",
       "    </tr>\n",
       "    <tr>\n",
       "      <th>19656</th>\n",
       "      <td>42</td>\n",
       "      <td>1</td>\n",
       "      <td>Skirts</td>\n",
       "      <td>wasnt sure ordering skirt couldnt see person f...</td>\n",
       "    </tr>\n",
       "    <tr>\n",
       "      <th>19657</th>\n",
       "      <td>34</td>\n",
       "      <td>1</td>\n",
       "      <td>Dresses</td>\n",
       "      <td>happy snag dress great price easy slip flatter...</td>\n",
       "    </tr>\n",
       "    <tr>\n",
       "      <th>19661</th>\n",
       "      <td>52</td>\n",
       "      <td>1</td>\n",
       "      <td>Dresses</td>\n",
       "      <td>dress lovely platinum feminine fit perfectly e...</td>\n",
       "    </tr>\n",
       "  </tbody>\n",
       "</table>\n",
       "<p>17198 rows × 4 columns</p>\n",
       "</div>"
      ],
      "text/plain": [
       "       Age  Recommended IND Class Name  \\\n",
       "1       50                1      Pants   \n",
       "2       47                1    Blouses   \n",
       "3       49                0    Dresses   \n",
       "4       39                1      Knits   \n",
       "5       39                1      Knits   \n",
       "...    ...              ...        ...   \n",
       "19654   39                1    Dresses   \n",
       "19655   32                0    Dresses   \n",
       "19656   42                1     Skirts   \n",
       "19657   34                1    Dresses   \n",
       "19661   52                1    Dresses   \n",
       "\n",
       "                                           Clean_Reviews  \n",
       "1      love love love jumpsuit fun flirty fabulous ev...  \n",
       "2      shirt flattering due adjustable front tie perf...  \n",
       "3      love tracy reese dress one petite foot tall us...  \n",
       "4      aded basket hte last mintue see would look lik...  \n",
       "5      ordered carbon store pick ton stuff always try...  \n",
       "...                                                  ...  \n",
       "19654  impressed beautiful color combination embroide...  \n",
       "19655  surprised positive review product terrible cut...  \n",
       "19656  wasnt sure ordering skirt couldnt see person f...  \n",
       "19657  happy snag dress great price easy slip flatter...  \n",
       "19661  dress lovely platinum feminine fit perfectly e...  \n",
       "\n",
       "[17198 rows x 4 columns]"
      ]
     },
     "execution_count": 40,
     "metadata": {},
     "output_type": "execute_result"
    }
   ],
   "source": [
    "A"
   ]
  },
  {
   "cell_type": "code",
   "execution_count": 41,
   "metadata": {
    "scrolled": false
   },
   "outputs": [
    {
     "name": "stderr",
     "output_type": "stream",
     "text": [
      "c:\\users\\sj\\appdata\\local\\programs\\python\\python38\\lib\\site-packages\\pandas\\core\\frame.py:4125: SettingWithCopyWarning: \n",
      "A value is trying to be set on a copy of a slice from a DataFrame\n",
      "\n",
      "See the caveats in the documentation: https://pandas.pydata.org/pandas-docs/stable/user_guide/indexing.html#returning-a-view-versus-a-copy\n",
      "  return super().rename(\n"
     ]
    }
   ],
   "source": [
    "A.rename(columns = {'Class Name':'Class_Name'}, inplace = True)"
   ]
  },
  {
   "cell_type": "markdown",
   "metadata": {},
   "source": [
    "### One Hot Encoding"
   ]
  },
  {
   "cell_type": "code",
   "execution_count": 42,
   "metadata": {},
   "outputs": [
    {
     "data": {
      "text/html": [
       "<div>\n",
       "<style scoped>\n",
       "    .dataframe tbody tr th:only-of-type {\n",
       "        vertical-align: middle;\n",
       "    }\n",
       "\n",
       "    .dataframe tbody tr th {\n",
       "        vertical-align: top;\n",
       "    }\n",
       "\n",
       "    .dataframe thead th {\n",
       "        text-align: right;\n",
       "    }\n",
       "</style>\n",
       "<table border=\"1\" class=\"dataframe\">\n",
       "  <thead>\n",
       "    <tr style=\"text-align: right;\">\n",
       "      <th></th>\n",
       "      <th>Blouses</th>\n",
       "      <th>Casual bottoms</th>\n",
       "      <th>Chemises</th>\n",
       "      <th>Dresses</th>\n",
       "      <th>Fine gauge</th>\n",
       "      <th>Intimates</th>\n",
       "      <th>Jackets</th>\n",
       "      <th>Jeans</th>\n",
       "      <th>Knits</th>\n",
       "      <th>Layering</th>\n",
       "      <th>Legwear</th>\n",
       "      <th>Lounge</th>\n",
       "      <th>Outerwear</th>\n",
       "      <th>Pants</th>\n",
       "      <th>Shorts</th>\n",
       "      <th>Skirts</th>\n",
       "      <th>Sleep</th>\n",
       "      <th>Sweaters</th>\n",
       "      <th>Swim</th>\n",
       "      <th>Trend</th>\n",
       "    </tr>\n",
       "  </thead>\n",
       "  <tbody>\n",
       "    <tr>\n",
       "      <th>1</th>\n",
       "      <td>0</td>\n",
       "      <td>0</td>\n",
       "      <td>0</td>\n",
       "      <td>0</td>\n",
       "      <td>0</td>\n",
       "      <td>0</td>\n",
       "      <td>0</td>\n",
       "      <td>0</td>\n",
       "      <td>0</td>\n",
       "      <td>0</td>\n",
       "      <td>0</td>\n",
       "      <td>0</td>\n",
       "      <td>0</td>\n",
       "      <td>1</td>\n",
       "      <td>0</td>\n",
       "      <td>0</td>\n",
       "      <td>0</td>\n",
       "      <td>0</td>\n",
       "      <td>0</td>\n",
       "      <td>0</td>\n",
       "    </tr>\n",
       "    <tr>\n",
       "      <th>2</th>\n",
       "      <td>1</td>\n",
       "      <td>0</td>\n",
       "      <td>0</td>\n",
       "      <td>0</td>\n",
       "      <td>0</td>\n",
       "      <td>0</td>\n",
       "      <td>0</td>\n",
       "      <td>0</td>\n",
       "      <td>0</td>\n",
       "      <td>0</td>\n",
       "      <td>0</td>\n",
       "      <td>0</td>\n",
       "      <td>0</td>\n",
       "      <td>0</td>\n",
       "      <td>0</td>\n",
       "      <td>0</td>\n",
       "      <td>0</td>\n",
       "      <td>0</td>\n",
       "      <td>0</td>\n",
       "      <td>0</td>\n",
       "    </tr>\n",
       "    <tr>\n",
       "      <th>3</th>\n",
       "      <td>0</td>\n",
       "      <td>0</td>\n",
       "      <td>0</td>\n",
       "      <td>1</td>\n",
       "      <td>0</td>\n",
       "      <td>0</td>\n",
       "      <td>0</td>\n",
       "      <td>0</td>\n",
       "      <td>0</td>\n",
       "      <td>0</td>\n",
       "      <td>0</td>\n",
       "      <td>0</td>\n",
       "      <td>0</td>\n",
       "      <td>0</td>\n",
       "      <td>0</td>\n",
       "      <td>0</td>\n",
       "      <td>0</td>\n",
       "      <td>0</td>\n",
       "      <td>0</td>\n",
       "      <td>0</td>\n",
       "    </tr>\n",
       "    <tr>\n",
       "      <th>4</th>\n",
       "      <td>0</td>\n",
       "      <td>0</td>\n",
       "      <td>0</td>\n",
       "      <td>0</td>\n",
       "      <td>0</td>\n",
       "      <td>0</td>\n",
       "      <td>0</td>\n",
       "      <td>0</td>\n",
       "      <td>1</td>\n",
       "      <td>0</td>\n",
       "      <td>0</td>\n",
       "      <td>0</td>\n",
       "      <td>0</td>\n",
       "      <td>0</td>\n",
       "      <td>0</td>\n",
       "      <td>0</td>\n",
       "      <td>0</td>\n",
       "      <td>0</td>\n",
       "      <td>0</td>\n",
       "      <td>0</td>\n",
       "    </tr>\n",
       "    <tr>\n",
       "      <th>5</th>\n",
       "      <td>0</td>\n",
       "      <td>0</td>\n",
       "      <td>0</td>\n",
       "      <td>0</td>\n",
       "      <td>0</td>\n",
       "      <td>0</td>\n",
       "      <td>0</td>\n",
       "      <td>0</td>\n",
       "      <td>1</td>\n",
       "      <td>0</td>\n",
       "      <td>0</td>\n",
       "      <td>0</td>\n",
       "      <td>0</td>\n",
       "      <td>0</td>\n",
       "      <td>0</td>\n",
       "      <td>0</td>\n",
       "      <td>0</td>\n",
       "      <td>0</td>\n",
       "      <td>0</td>\n",
       "      <td>0</td>\n",
       "    </tr>\n",
       "    <tr>\n",
       "      <th>...</th>\n",
       "      <td>...</td>\n",
       "      <td>...</td>\n",
       "      <td>...</td>\n",
       "      <td>...</td>\n",
       "      <td>...</td>\n",
       "      <td>...</td>\n",
       "      <td>...</td>\n",
       "      <td>...</td>\n",
       "      <td>...</td>\n",
       "      <td>...</td>\n",
       "      <td>...</td>\n",
       "      <td>...</td>\n",
       "      <td>...</td>\n",
       "      <td>...</td>\n",
       "      <td>...</td>\n",
       "      <td>...</td>\n",
       "      <td>...</td>\n",
       "      <td>...</td>\n",
       "      <td>...</td>\n",
       "      <td>...</td>\n",
       "    </tr>\n",
       "    <tr>\n",
       "      <th>19654</th>\n",
       "      <td>0</td>\n",
       "      <td>0</td>\n",
       "      <td>0</td>\n",
       "      <td>1</td>\n",
       "      <td>0</td>\n",
       "      <td>0</td>\n",
       "      <td>0</td>\n",
       "      <td>0</td>\n",
       "      <td>0</td>\n",
       "      <td>0</td>\n",
       "      <td>0</td>\n",
       "      <td>0</td>\n",
       "      <td>0</td>\n",
       "      <td>0</td>\n",
       "      <td>0</td>\n",
       "      <td>0</td>\n",
       "      <td>0</td>\n",
       "      <td>0</td>\n",
       "      <td>0</td>\n",
       "      <td>0</td>\n",
       "    </tr>\n",
       "    <tr>\n",
       "      <th>19655</th>\n",
       "      <td>0</td>\n",
       "      <td>0</td>\n",
       "      <td>0</td>\n",
       "      <td>1</td>\n",
       "      <td>0</td>\n",
       "      <td>0</td>\n",
       "      <td>0</td>\n",
       "      <td>0</td>\n",
       "      <td>0</td>\n",
       "      <td>0</td>\n",
       "      <td>0</td>\n",
       "      <td>0</td>\n",
       "      <td>0</td>\n",
       "      <td>0</td>\n",
       "      <td>0</td>\n",
       "      <td>0</td>\n",
       "      <td>0</td>\n",
       "      <td>0</td>\n",
       "      <td>0</td>\n",
       "      <td>0</td>\n",
       "    </tr>\n",
       "    <tr>\n",
       "      <th>19656</th>\n",
       "      <td>0</td>\n",
       "      <td>0</td>\n",
       "      <td>0</td>\n",
       "      <td>0</td>\n",
       "      <td>0</td>\n",
       "      <td>0</td>\n",
       "      <td>0</td>\n",
       "      <td>0</td>\n",
       "      <td>0</td>\n",
       "      <td>0</td>\n",
       "      <td>0</td>\n",
       "      <td>0</td>\n",
       "      <td>0</td>\n",
       "      <td>0</td>\n",
       "      <td>0</td>\n",
       "      <td>1</td>\n",
       "      <td>0</td>\n",
       "      <td>0</td>\n",
       "      <td>0</td>\n",
       "      <td>0</td>\n",
       "    </tr>\n",
       "    <tr>\n",
       "      <th>19657</th>\n",
       "      <td>0</td>\n",
       "      <td>0</td>\n",
       "      <td>0</td>\n",
       "      <td>1</td>\n",
       "      <td>0</td>\n",
       "      <td>0</td>\n",
       "      <td>0</td>\n",
       "      <td>0</td>\n",
       "      <td>0</td>\n",
       "      <td>0</td>\n",
       "      <td>0</td>\n",
       "      <td>0</td>\n",
       "      <td>0</td>\n",
       "      <td>0</td>\n",
       "      <td>0</td>\n",
       "      <td>0</td>\n",
       "      <td>0</td>\n",
       "      <td>0</td>\n",
       "      <td>0</td>\n",
       "      <td>0</td>\n",
       "    </tr>\n",
       "    <tr>\n",
       "      <th>19661</th>\n",
       "      <td>0</td>\n",
       "      <td>0</td>\n",
       "      <td>0</td>\n",
       "      <td>1</td>\n",
       "      <td>0</td>\n",
       "      <td>0</td>\n",
       "      <td>0</td>\n",
       "      <td>0</td>\n",
       "      <td>0</td>\n",
       "      <td>0</td>\n",
       "      <td>0</td>\n",
       "      <td>0</td>\n",
       "      <td>0</td>\n",
       "      <td>0</td>\n",
       "      <td>0</td>\n",
       "      <td>0</td>\n",
       "      <td>0</td>\n",
       "      <td>0</td>\n",
       "      <td>0</td>\n",
       "      <td>0</td>\n",
       "    </tr>\n",
       "  </tbody>\n",
       "</table>\n",
       "<p>17198 rows × 20 columns</p>\n",
       "</div>"
      ],
      "text/plain": [
       "       Blouses  Casual bottoms  Chemises  Dresses  Fine gauge  Intimates  \\\n",
       "1            0               0         0        0           0          0   \n",
       "2            1               0         0        0           0          0   \n",
       "3            0               0         0        1           0          0   \n",
       "4            0               0         0        0           0          0   \n",
       "5            0               0         0        0           0          0   \n",
       "...        ...             ...       ...      ...         ...        ...   \n",
       "19654        0               0         0        1           0          0   \n",
       "19655        0               0         0        1           0          0   \n",
       "19656        0               0         0        0           0          0   \n",
       "19657        0               0         0        1           0          0   \n",
       "19661        0               0         0        1           0          0   \n",
       "\n",
       "       Jackets  Jeans  Knits  Layering  Legwear  Lounge  Outerwear  Pants  \\\n",
       "1            0      0      0         0        0       0          0      1   \n",
       "2            0      0      0         0        0       0          0      0   \n",
       "3            0      0      0         0        0       0          0      0   \n",
       "4            0      0      1         0        0       0          0      0   \n",
       "5            0      0      1         0        0       0          0      0   \n",
       "...        ...    ...    ...       ...      ...     ...        ...    ...   \n",
       "19654        0      0      0         0        0       0          0      0   \n",
       "19655        0      0      0         0        0       0          0      0   \n",
       "19656        0      0      0         0        0       0          0      0   \n",
       "19657        0      0      0         0        0       0          0      0   \n",
       "19661        0      0      0         0        0       0          0      0   \n",
       "\n",
       "       Shorts  Skirts  Sleep  Sweaters  Swim  Trend  \n",
       "1           0       0      0         0     0      0  \n",
       "2           0       0      0         0     0      0  \n",
       "3           0       0      0         0     0      0  \n",
       "4           0       0      0         0     0      0  \n",
       "5           0       0      0         0     0      0  \n",
       "...       ...     ...    ...       ...   ...    ...  \n",
       "19654       0       0      0         0     0      0  \n",
       "19655       0       0      0         0     0      0  \n",
       "19656       0       1      0         0     0      0  \n",
       "19657       0       0      0         0     0      0  \n",
       "19661       0       0      0         0     0      0  \n",
       "\n",
       "[17198 rows x 20 columns]"
      ]
     },
     "execution_count": 42,
     "metadata": {},
     "output_type": "execute_result"
    }
   ],
   "source": [
    "dummies = pd.get_dummies(A.Class_Name)\n",
    "dummies"
   ]
  },
  {
   "cell_type": "code",
   "execution_count": 43,
   "metadata": {},
   "outputs": [],
   "source": [
    "merged = pd.concat([A,dummies],axis='columns')\n"
   ]
  },
  {
   "cell_type": "code",
   "execution_count": 44,
   "metadata": {},
   "outputs": [
    {
     "data": {
      "text/html": [
       "<div>\n",
       "<style scoped>\n",
       "    .dataframe tbody tr th:only-of-type {\n",
       "        vertical-align: middle;\n",
       "    }\n",
       "\n",
       "    .dataframe tbody tr th {\n",
       "        vertical-align: top;\n",
       "    }\n",
       "\n",
       "    .dataframe thead th {\n",
       "        text-align: right;\n",
       "    }\n",
       "</style>\n",
       "<table border=\"1\" class=\"dataframe\">\n",
       "  <thead>\n",
       "    <tr style=\"text-align: right;\">\n",
       "      <th></th>\n",
       "      <th>Age</th>\n",
       "      <th>Recommended IND</th>\n",
       "      <th>Clean_Reviews</th>\n",
       "      <th>Blouses</th>\n",
       "      <th>Casual bottoms</th>\n",
       "      <th>Chemises</th>\n",
       "      <th>Dresses</th>\n",
       "      <th>Fine gauge</th>\n",
       "      <th>Intimates</th>\n",
       "      <th>Jackets</th>\n",
       "      <th>...</th>\n",
       "      <th>Legwear</th>\n",
       "      <th>Lounge</th>\n",
       "      <th>Outerwear</th>\n",
       "      <th>Pants</th>\n",
       "      <th>Shorts</th>\n",
       "      <th>Skirts</th>\n",
       "      <th>Sleep</th>\n",
       "      <th>Sweaters</th>\n",
       "      <th>Swim</th>\n",
       "      <th>Trend</th>\n",
       "    </tr>\n",
       "  </thead>\n",
       "  <tbody>\n",
       "    <tr>\n",
       "      <th>1</th>\n",
       "      <td>50</td>\n",
       "      <td>1</td>\n",
       "      <td>love love love jumpsuit fun flirty fabulous ev...</td>\n",
       "      <td>0</td>\n",
       "      <td>0</td>\n",
       "      <td>0</td>\n",
       "      <td>0</td>\n",
       "      <td>0</td>\n",
       "      <td>0</td>\n",
       "      <td>0</td>\n",
       "      <td>...</td>\n",
       "      <td>0</td>\n",
       "      <td>0</td>\n",
       "      <td>0</td>\n",
       "      <td>1</td>\n",
       "      <td>0</td>\n",
       "      <td>0</td>\n",
       "      <td>0</td>\n",
       "      <td>0</td>\n",
       "      <td>0</td>\n",
       "      <td>0</td>\n",
       "    </tr>\n",
       "    <tr>\n",
       "      <th>2</th>\n",
       "      <td>47</td>\n",
       "      <td>1</td>\n",
       "      <td>shirt flattering due adjustable front tie perf...</td>\n",
       "      <td>1</td>\n",
       "      <td>0</td>\n",
       "      <td>0</td>\n",
       "      <td>0</td>\n",
       "      <td>0</td>\n",
       "      <td>0</td>\n",
       "      <td>0</td>\n",
       "      <td>...</td>\n",
       "      <td>0</td>\n",
       "      <td>0</td>\n",
       "      <td>0</td>\n",
       "      <td>0</td>\n",
       "      <td>0</td>\n",
       "      <td>0</td>\n",
       "      <td>0</td>\n",
       "      <td>0</td>\n",
       "      <td>0</td>\n",
       "      <td>0</td>\n",
       "    </tr>\n",
       "    <tr>\n",
       "      <th>3</th>\n",
       "      <td>49</td>\n",
       "      <td>0</td>\n",
       "      <td>love tracy reese dress one petite foot tall us...</td>\n",
       "      <td>0</td>\n",
       "      <td>0</td>\n",
       "      <td>0</td>\n",
       "      <td>1</td>\n",
       "      <td>0</td>\n",
       "      <td>0</td>\n",
       "      <td>0</td>\n",
       "      <td>...</td>\n",
       "      <td>0</td>\n",
       "      <td>0</td>\n",
       "      <td>0</td>\n",
       "      <td>0</td>\n",
       "      <td>0</td>\n",
       "      <td>0</td>\n",
       "      <td>0</td>\n",
       "      <td>0</td>\n",
       "      <td>0</td>\n",
       "      <td>0</td>\n",
       "    </tr>\n",
       "    <tr>\n",
       "      <th>4</th>\n",
       "      <td>39</td>\n",
       "      <td>1</td>\n",
       "      <td>aded basket hte last mintue see would look lik...</td>\n",
       "      <td>0</td>\n",
       "      <td>0</td>\n",
       "      <td>0</td>\n",
       "      <td>0</td>\n",
       "      <td>0</td>\n",
       "      <td>0</td>\n",
       "      <td>0</td>\n",
       "      <td>...</td>\n",
       "      <td>0</td>\n",
       "      <td>0</td>\n",
       "      <td>0</td>\n",
       "      <td>0</td>\n",
       "      <td>0</td>\n",
       "      <td>0</td>\n",
       "      <td>0</td>\n",
       "      <td>0</td>\n",
       "      <td>0</td>\n",
       "      <td>0</td>\n",
       "    </tr>\n",
       "    <tr>\n",
       "      <th>5</th>\n",
       "      <td>39</td>\n",
       "      <td>1</td>\n",
       "      <td>ordered carbon store pick ton stuff always try...</td>\n",
       "      <td>0</td>\n",
       "      <td>0</td>\n",
       "      <td>0</td>\n",
       "      <td>0</td>\n",
       "      <td>0</td>\n",
       "      <td>0</td>\n",
       "      <td>0</td>\n",
       "      <td>...</td>\n",
       "      <td>0</td>\n",
       "      <td>0</td>\n",
       "      <td>0</td>\n",
       "      <td>0</td>\n",
       "      <td>0</td>\n",
       "      <td>0</td>\n",
       "      <td>0</td>\n",
       "      <td>0</td>\n",
       "      <td>0</td>\n",
       "      <td>0</td>\n",
       "    </tr>\n",
       "    <tr>\n",
       "      <th>...</th>\n",
       "      <td>...</td>\n",
       "      <td>...</td>\n",
       "      <td>...</td>\n",
       "      <td>...</td>\n",
       "      <td>...</td>\n",
       "      <td>...</td>\n",
       "      <td>...</td>\n",
       "      <td>...</td>\n",
       "      <td>...</td>\n",
       "      <td>...</td>\n",
       "      <td>...</td>\n",
       "      <td>...</td>\n",
       "      <td>...</td>\n",
       "      <td>...</td>\n",
       "      <td>...</td>\n",
       "      <td>...</td>\n",
       "      <td>...</td>\n",
       "      <td>...</td>\n",
       "      <td>...</td>\n",
       "      <td>...</td>\n",
       "      <td>...</td>\n",
       "    </tr>\n",
       "    <tr>\n",
       "      <th>19654</th>\n",
       "      <td>39</td>\n",
       "      <td>1</td>\n",
       "      <td>impressed beautiful color combination embroide...</td>\n",
       "      <td>0</td>\n",
       "      <td>0</td>\n",
       "      <td>0</td>\n",
       "      <td>1</td>\n",
       "      <td>0</td>\n",
       "      <td>0</td>\n",
       "      <td>0</td>\n",
       "      <td>...</td>\n",
       "      <td>0</td>\n",
       "      <td>0</td>\n",
       "      <td>0</td>\n",
       "      <td>0</td>\n",
       "      <td>0</td>\n",
       "      <td>0</td>\n",
       "      <td>0</td>\n",
       "      <td>0</td>\n",
       "      <td>0</td>\n",
       "      <td>0</td>\n",
       "    </tr>\n",
       "    <tr>\n",
       "      <th>19655</th>\n",
       "      <td>32</td>\n",
       "      <td>0</td>\n",
       "      <td>surprised positive review product terrible cut...</td>\n",
       "      <td>0</td>\n",
       "      <td>0</td>\n",
       "      <td>0</td>\n",
       "      <td>1</td>\n",
       "      <td>0</td>\n",
       "      <td>0</td>\n",
       "      <td>0</td>\n",
       "      <td>...</td>\n",
       "      <td>0</td>\n",
       "      <td>0</td>\n",
       "      <td>0</td>\n",
       "      <td>0</td>\n",
       "      <td>0</td>\n",
       "      <td>0</td>\n",
       "      <td>0</td>\n",
       "      <td>0</td>\n",
       "      <td>0</td>\n",
       "      <td>0</td>\n",
       "    </tr>\n",
       "    <tr>\n",
       "      <th>19656</th>\n",
       "      <td>42</td>\n",
       "      <td>1</td>\n",
       "      <td>wasnt sure ordering skirt couldnt see person f...</td>\n",
       "      <td>0</td>\n",
       "      <td>0</td>\n",
       "      <td>0</td>\n",
       "      <td>0</td>\n",
       "      <td>0</td>\n",
       "      <td>0</td>\n",
       "      <td>0</td>\n",
       "      <td>...</td>\n",
       "      <td>0</td>\n",
       "      <td>0</td>\n",
       "      <td>0</td>\n",
       "      <td>0</td>\n",
       "      <td>0</td>\n",
       "      <td>1</td>\n",
       "      <td>0</td>\n",
       "      <td>0</td>\n",
       "      <td>0</td>\n",
       "      <td>0</td>\n",
       "    </tr>\n",
       "    <tr>\n",
       "      <th>19657</th>\n",
       "      <td>34</td>\n",
       "      <td>1</td>\n",
       "      <td>happy snag dress great price easy slip flatter...</td>\n",
       "      <td>0</td>\n",
       "      <td>0</td>\n",
       "      <td>0</td>\n",
       "      <td>1</td>\n",
       "      <td>0</td>\n",
       "      <td>0</td>\n",
       "      <td>0</td>\n",
       "      <td>...</td>\n",
       "      <td>0</td>\n",
       "      <td>0</td>\n",
       "      <td>0</td>\n",
       "      <td>0</td>\n",
       "      <td>0</td>\n",
       "      <td>0</td>\n",
       "      <td>0</td>\n",
       "      <td>0</td>\n",
       "      <td>0</td>\n",
       "      <td>0</td>\n",
       "    </tr>\n",
       "    <tr>\n",
       "      <th>19661</th>\n",
       "      <td>52</td>\n",
       "      <td>1</td>\n",
       "      <td>dress lovely platinum feminine fit perfectly e...</td>\n",
       "      <td>0</td>\n",
       "      <td>0</td>\n",
       "      <td>0</td>\n",
       "      <td>1</td>\n",
       "      <td>0</td>\n",
       "      <td>0</td>\n",
       "      <td>0</td>\n",
       "      <td>...</td>\n",
       "      <td>0</td>\n",
       "      <td>0</td>\n",
       "      <td>0</td>\n",
       "      <td>0</td>\n",
       "      <td>0</td>\n",
       "      <td>0</td>\n",
       "      <td>0</td>\n",
       "      <td>0</td>\n",
       "      <td>0</td>\n",
       "      <td>0</td>\n",
       "    </tr>\n",
       "  </tbody>\n",
       "</table>\n",
       "<p>17198 rows × 23 columns</p>\n",
       "</div>"
      ],
      "text/plain": [
       "       Age  Recommended IND  \\\n",
       "1       50                1   \n",
       "2       47                1   \n",
       "3       49                0   \n",
       "4       39                1   \n",
       "5       39                1   \n",
       "...    ...              ...   \n",
       "19654   39                1   \n",
       "19655   32                0   \n",
       "19656   42                1   \n",
       "19657   34                1   \n",
       "19661   52                1   \n",
       "\n",
       "                                           Clean_Reviews  Blouses  \\\n",
       "1      love love love jumpsuit fun flirty fabulous ev...        0   \n",
       "2      shirt flattering due adjustable front tie perf...        1   \n",
       "3      love tracy reese dress one petite foot tall us...        0   \n",
       "4      aded basket hte last mintue see would look lik...        0   \n",
       "5      ordered carbon store pick ton stuff always try...        0   \n",
       "...                                                  ...      ...   \n",
       "19654  impressed beautiful color combination embroide...        0   \n",
       "19655  surprised positive review product terrible cut...        0   \n",
       "19656  wasnt sure ordering skirt couldnt see person f...        0   \n",
       "19657  happy snag dress great price easy slip flatter...        0   \n",
       "19661  dress lovely platinum feminine fit perfectly e...        0   \n",
       "\n",
       "       Casual bottoms  Chemises  Dresses  Fine gauge  Intimates  Jackets  ...  \\\n",
       "1                   0         0        0           0          0        0  ...   \n",
       "2                   0         0        0           0          0        0  ...   \n",
       "3                   0         0        1           0          0        0  ...   \n",
       "4                   0         0        0           0          0        0  ...   \n",
       "5                   0         0        0           0          0        0  ...   \n",
       "...               ...       ...      ...         ...        ...      ...  ...   \n",
       "19654               0         0        1           0          0        0  ...   \n",
       "19655               0         0        1           0          0        0  ...   \n",
       "19656               0         0        0           0          0        0  ...   \n",
       "19657               0         0        1           0          0        0  ...   \n",
       "19661               0         0        1           0          0        0  ...   \n",
       "\n",
       "       Legwear  Lounge  Outerwear  Pants  Shorts  Skirts  Sleep  Sweaters  \\\n",
       "1            0       0          0      1       0       0      0         0   \n",
       "2            0       0          0      0       0       0      0         0   \n",
       "3            0       0          0      0       0       0      0         0   \n",
       "4            0       0          0      0       0       0      0         0   \n",
       "5            0       0          0      0       0       0      0         0   \n",
       "...        ...     ...        ...    ...     ...     ...    ...       ...   \n",
       "19654        0       0          0      0       0       0      0         0   \n",
       "19655        0       0          0      0       0       0      0         0   \n",
       "19656        0       0          0      0       0       1      0         0   \n",
       "19657        0       0          0      0       0       0      0         0   \n",
       "19661        0       0          0      0       0       0      0         0   \n",
       "\n",
       "       Swim  Trend  \n",
       "1         0      0  \n",
       "2         0      0  \n",
       "3         0      0  \n",
       "4         0      0  \n",
       "5         0      0  \n",
       "...     ...    ...  \n",
       "19654     0      0  \n",
       "19655     0      0  \n",
       "19656     0      0  \n",
       "19657     0      0  \n",
       "19661     0      0  \n",
       "\n",
       "[17198 rows x 23 columns]"
      ]
     },
     "execution_count": 44,
     "metadata": {},
     "output_type": "execute_result"
    }
   ],
   "source": [
    "final = merged.drop(['Class_Name'], axis='columns')\n",
    "final"
   ]
  },
  {
   "cell_type": "markdown",
   "metadata": {},
   "source": [
    "#### Note: We have to remove one of the dummy column because of the dummy trap"
   ]
  },
  {
   "cell_type": "code",
   "execution_count": 45,
   "metadata": {},
   "outputs": [],
   "source": [
    "X = final.drop(['Casual bottoms'], axis='columns')"
   ]
  },
  {
   "cell_type": "code",
   "execution_count": 46,
   "metadata": {},
   "outputs": [
    {
     "name": "stdout",
     "output_type": "stream",
     "text": [
      "<class 'pandas.core.frame.DataFrame'>\n",
      "Int64Index: 17198 entries, 1 to 19661\n",
      "Data columns (total 22 columns):\n",
      " #   Column           Non-Null Count  Dtype \n",
      "---  ------           --------------  ----- \n",
      " 0   Age              17198 non-null  int64 \n",
      " 1   Recommended IND  17198 non-null  int64 \n",
      " 2   Clean_Reviews    17198 non-null  object\n",
      " 3   Blouses          17198 non-null  uint8 \n",
      " 4   Chemises         17198 non-null  uint8 \n",
      " 5   Dresses          17198 non-null  uint8 \n",
      " 6   Fine gauge       17198 non-null  uint8 \n",
      " 7   Intimates        17198 non-null  uint8 \n",
      " 8   Jackets          17198 non-null  uint8 \n",
      " 9   Jeans            17198 non-null  uint8 \n",
      " 10  Knits            17198 non-null  uint8 \n",
      " 11  Layering         17198 non-null  uint8 \n",
      " 12  Legwear          17198 non-null  uint8 \n",
      " 13  Lounge           17198 non-null  uint8 \n",
      " 14  Outerwear        17198 non-null  uint8 \n",
      " 15  Pants            17198 non-null  uint8 \n",
      " 16  Shorts           17198 non-null  uint8 \n",
      " 17  Skirts           17198 non-null  uint8 \n",
      " 18  Sleep            17198 non-null  uint8 \n",
      " 19  Sweaters         17198 non-null  uint8 \n",
      " 20  Swim             17198 non-null  uint8 \n",
      " 21  Trend            17198 non-null  uint8 \n",
      "dtypes: int64(2), object(1), uint8(19)\n",
      "memory usage: 856.5+ KB\n"
     ]
    }
   ],
   "source": [
    "X.info()"
   ]
  },
  {
   "cell_type": "code",
   "execution_count": 51,
   "metadata": {},
   "outputs": [],
   "source": [
    "y = df[\"Sentiment\"].values.astype(np.float32) "
   ]
  },
  {
   "cell_type": "code",
   "execution_count": 53,
   "metadata": {},
   "outputs": [
    {
     "ename": "TypeError",
     "evalue": "cannot perform reduce with flexible type",
     "output_type": "error",
     "traceback": [
      "\u001b[1;31m---------------------------------------------------------------------------\u001b[0m",
      "\u001b[1;31mTypeError\u001b[0m                                 Traceback (most recent call last)",
      "\u001b[1;32m<ipython-input-53-5c4c333fb055>\u001b[0m in \u001b[0;36m<module>\u001b[1;34m\u001b[0m\n\u001b[1;32m----> 1\u001b[1;33m \u001b[0mX\u001b[0m \u001b[1;33m=\u001b[0m \u001b[0msp\u001b[0m\u001b[1;33m.\u001b[0m\u001b[0msparse\u001b[0m\u001b[1;33m.\u001b[0m\u001b[0mhstack\u001b[0m\u001b[1;33m(\u001b[0m\u001b[1;33m(\u001b[0m\u001b[0mvectorizer\u001b[0m\u001b[1;33m.\u001b[0m\u001b[0mfit_transform\u001b[0m\u001b[1;33m(\u001b[0m\u001b[0mdf\u001b[0m\u001b[1;33m.\u001b[0m\u001b[0mClean_Reviews\u001b[0m\u001b[1;33m)\u001b[0m\u001b[1;33m,\u001b[0m\u001b[0mX\u001b[0m\u001b[1;33m[\u001b[0m\u001b[1;33m[\u001b[0m\u001b[1;34m'Age'\u001b[0m\u001b[1;33m,\u001b[0m\u001b[1;34m'Recommended IND'\u001b[0m\u001b[1;33m,\u001b[0m\u001b[1;34m'Blouses'\u001b[0m\u001b[1;33m,\u001b[0m \u001b[1;34m'Chemises'\u001b[0m\u001b[1;33m,\u001b[0m\u001b[1;34m'Dresses'\u001b[0m\u001b[1;33m,\u001b[0m \u001b[1;34m'Fine gauge'\u001b[0m\u001b[1;33m,\u001b[0m \u001b[1;34m'Intimates'\u001b[0m\u001b[1;33m,\u001b[0m\u001b[1;34m'Jackets'\u001b[0m\u001b[1;33m,\u001b[0m\u001b[1;34m'Jeans'\u001b[0m\u001b[1;33m,\u001b[0m\u001b[1;34m'Knits'\u001b[0m\u001b[1;33m,\u001b[0m\u001b[1;34m'Layering'\u001b[0m\u001b[1;33m,\u001b[0m\u001b[1;34m'Legwear'\u001b[0m\u001b[1;33m,\u001b[0m\u001b[1;34m'Lounge'\u001b[0m\u001b[1;33m,\u001b[0m\u001b[1;34m'Outerwear'\u001b[0m\u001b[1;33m,\u001b[0m\u001b[1;34m'Pants'\u001b[0m\u001b[1;33m,\u001b[0m\u001b[1;34m'Shorts'\u001b[0m\u001b[1;33m,\u001b[0m\u001b[1;34m'Skirts'\u001b[0m\u001b[1;33m,\u001b[0m\u001b[1;34m'Sleep'\u001b[0m\u001b[1;33m,\u001b[0m\u001b[1;34m'Sweaters'\u001b[0m\u001b[1;33m,\u001b[0m\u001b[1;34m'Swim'\u001b[0m\u001b[1;33m,\u001b[0m\u001b[1;34m'Trend'\u001b[0m\u001b[1;33m]\u001b[0m\u001b[1;33m]\u001b[0m\u001b[1;33m.\u001b[0m\u001b[0mvalues\u001b[0m\u001b[1;33m)\u001b[0m\u001b[1;33m,\u001b[0m\u001b[0mformat\u001b[0m\u001b[1;33m=\u001b[0m\u001b[1;34m'csr'\u001b[0m\u001b[1;33m)\u001b[0m\u001b[1;33m\u001b[0m\u001b[1;33m\u001b[0m\u001b[0m\n\u001b[0m\u001b[0;32m      2\u001b[0m \u001b[0mX_columns\u001b[0m\u001b[1;33m=\u001b[0m\u001b[0mvectorizer\u001b[0m\u001b[1;33m.\u001b[0m\u001b[0mget_feature_names\u001b[0m\u001b[1;33m(\u001b[0m\u001b[1;33m)\u001b[0m\u001b[1;33m+\u001b[0m\u001b[0mX\u001b[0m\u001b[1;33m[\u001b[0m\u001b[1;33m[\u001b[0m\u001b[1;34m'Age'\u001b[0m\u001b[1;33m,\u001b[0m\u001b[1;34m'Recommended IND'\u001b[0m\u001b[1;33m,\u001b[0m\u001b[1;34m'Blouses'\u001b[0m\u001b[1;33m,\u001b[0m \u001b[1;34m'Chemises'\u001b[0m\u001b[1;33m,\u001b[0m\u001b[1;34m'Dresses'\u001b[0m\u001b[1;33m,\u001b[0m \u001b[1;34m'Fine gauge'\u001b[0m\u001b[1;33m,\u001b[0m \u001b[1;34m'Intimates'\u001b[0m\u001b[1;33m,\u001b[0m\u001b[1;34m'Jackets'\u001b[0m\u001b[1;33m,\u001b[0m\u001b[1;34m'Jeans'\u001b[0m\u001b[1;33m,\u001b[0m\u001b[1;34m'Knits'\u001b[0m\u001b[1;33m,\u001b[0m\u001b[1;34m'Layering'\u001b[0m\u001b[1;33m,\u001b[0m\u001b[1;34m'Legwear'\u001b[0m\u001b[1;33m,\u001b[0m\u001b[1;34m'Lounge'\u001b[0m\u001b[1;33m,\u001b[0m\u001b[1;34m'Outerwear'\u001b[0m\u001b[1;33m,\u001b[0m\u001b[1;34m'Pants'\u001b[0m\u001b[1;33m,\u001b[0m\u001b[1;34m'Shorts'\u001b[0m\u001b[1;33m,\u001b[0m\u001b[1;34m'Skirts'\u001b[0m\u001b[1;33m,\u001b[0m\u001b[1;34m'Sleep'\u001b[0m\u001b[1;33m,\u001b[0m\u001b[1;34m'Sweaters'\u001b[0m\u001b[1;33m,\u001b[0m\u001b[1;34m'Swim'\u001b[0m\u001b[1;33m,\u001b[0m\u001b[1;34m'Trend'\u001b[0m\u001b[1;33m]\u001b[0m\u001b[1;33m]\u001b[0m\u001b[1;33m.\u001b[0m\u001b[0mcolumns\u001b[0m\u001b[1;33m.\u001b[0m\u001b[0mtolist\u001b[0m\u001b[1;33m(\u001b[0m\u001b[1;33m)\u001b[0m\u001b[1;33m\u001b[0m\u001b[1;33m\u001b[0m\u001b[0m\n",
      "\u001b[1;32mc:\\users\\sj\\appdata\\local\\programs\\python\\python38\\lib\\site-packages\\scipy\\sparse\\_index.py\u001b[0m in \u001b[0;36m__getitem__\u001b[1;34m(self, key)\u001b[0m\n\u001b[0;32m     31\u001b[0m     \"\"\"\n\u001b[0;32m     32\u001b[0m     \u001b[1;32mdef\u001b[0m \u001b[0m__getitem__\u001b[0m\u001b[1;33m(\u001b[0m\u001b[0mself\u001b[0m\u001b[1;33m,\u001b[0m \u001b[0mkey\u001b[0m\u001b[1;33m)\u001b[0m\u001b[1;33m:\u001b[0m\u001b[1;33m\u001b[0m\u001b[1;33m\u001b[0m\u001b[0m\n\u001b[1;32m---> 33\u001b[1;33m         \u001b[0mrow\u001b[0m\u001b[1;33m,\u001b[0m \u001b[0mcol\u001b[0m \u001b[1;33m=\u001b[0m \u001b[0mself\u001b[0m\u001b[1;33m.\u001b[0m\u001b[0m_validate_indices\u001b[0m\u001b[1;33m(\u001b[0m\u001b[0mkey\u001b[0m\u001b[1;33m)\u001b[0m\u001b[1;33m\u001b[0m\u001b[1;33m\u001b[0m\u001b[0m\n\u001b[0m\u001b[0;32m     34\u001b[0m         \u001b[1;31m# Dispatch to specialized methods.\u001b[0m\u001b[1;33m\u001b[0m\u001b[1;33m\u001b[0m\u001b[1;33m\u001b[0m\u001b[0m\n\u001b[0;32m     35\u001b[0m         \u001b[1;32mif\u001b[0m \u001b[0misinstance\u001b[0m\u001b[1;33m(\u001b[0m\u001b[0mrow\u001b[0m\u001b[1;33m,\u001b[0m \u001b[0mINT_TYPES\u001b[0m\u001b[1;33m)\u001b[0m\u001b[1;33m:\u001b[0m\u001b[1;33m\u001b[0m\u001b[1;33m\u001b[0m\u001b[0m\n",
      "\u001b[1;32mc:\\users\\sj\\appdata\\local\\programs\\python\\python38\\lib\\site-packages\\scipy\\sparse\\_index.py\u001b[0m in \u001b[0;36m_validate_indices\u001b[1;34m(self, key)\u001b[0m\n\u001b[0;32m    135\u001b[0m                 \u001b[0mrow\u001b[0m \u001b[1;33m+=\u001b[0m \u001b[0mM\u001b[0m\u001b[1;33m\u001b[0m\u001b[1;33m\u001b[0m\u001b[0m\n\u001b[0;32m    136\u001b[0m         \u001b[1;32melif\u001b[0m \u001b[1;32mnot\u001b[0m \u001b[0misinstance\u001b[0m\u001b[1;33m(\u001b[0m\u001b[0mrow\u001b[0m\u001b[1;33m,\u001b[0m \u001b[0mslice\u001b[0m\u001b[1;33m)\u001b[0m\u001b[1;33m:\u001b[0m\u001b[1;33m\u001b[0m\u001b[1;33m\u001b[0m\u001b[0m\n\u001b[1;32m--> 137\u001b[1;33m             \u001b[0mrow\u001b[0m \u001b[1;33m=\u001b[0m \u001b[0mself\u001b[0m\u001b[1;33m.\u001b[0m\u001b[0m_asindices\u001b[0m\u001b[1;33m(\u001b[0m\u001b[0mrow\u001b[0m\u001b[1;33m,\u001b[0m \u001b[0mM\u001b[0m\u001b[1;33m)\u001b[0m\u001b[1;33m\u001b[0m\u001b[1;33m\u001b[0m\u001b[0m\n\u001b[0m\u001b[0;32m    138\u001b[0m \u001b[1;33m\u001b[0m\u001b[0m\n\u001b[0;32m    139\u001b[0m         \u001b[1;32mif\u001b[0m \u001b[0misintlike\u001b[0m\u001b[1;33m(\u001b[0m\u001b[0mcol\u001b[0m\u001b[1;33m)\u001b[0m\u001b[1;33m:\u001b[0m\u001b[1;33m\u001b[0m\u001b[1;33m\u001b[0m\u001b[0m\n",
      "\u001b[1;32mc:\\users\\sj\\appdata\\local\\programs\\python\\python38\\lib\\site-packages\\scipy\\sparse\\_index.py\u001b[0m in \u001b[0;36m_asindices\u001b[1;34m(self, idx, length)\u001b[0m\n\u001b[0;32m    165\u001b[0m \u001b[1;33m\u001b[0m\u001b[0m\n\u001b[0;32m    166\u001b[0m         \u001b[1;31m# Check bounds\u001b[0m\u001b[1;33m\u001b[0m\u001b[1;33m\u001b[0m\u001b[1;33m\u001b[0m\u001b[0m\n\u001b[1;32m--> 167\u001b[1;33m         \u001b[0mmax_indx\u001b[0m \u001b[1;33m=\u001b[0m \u001b[0mx\u001b[0m\u001b[1;33m.\u001b[0m\u001b[0mmax\u001b[0m\u001b[1;33m(\u001b[0m\u001b[1;33m)\u001b[0m\u001b[1;33m\u001b[0m\u001b[1;33m\u001b[0m\u001b[0m\n\u001b[0m\u001b[0;32m    168\u001b[0m         \u001b[1;32mif\u001b[0m \u001b[0mmax_indx\u001b[0m \u001b[1;33m>=\u001b[0m \u001b[0mlength\u001b[0m\u001b[1;33m:\u001b[0m\u001b[1;33m\u001b[0m\u001b[1;33m\u001b[0m\u001b[0m\n\u001b[0;32m    169\u001b[0m             \u001b[1;32mraise\u001b[0m \u001b[0mIndexError\u001b[0m\u001b[1;33m(\u001b[0m\u001b[1;34m'index (%d) out of range'\u001b[0m \u001b[1;33m%\u001b[0m \u001b[0mmax_indx\u001b[0m\u001b[1;33m)\u001b[0m\u001b[1;33m\u001b[0m\u001b[1;33m\u001b[0m\u001b[0m\n",
      "\u001b[1;32mc:\\users\\sj\\appdata\\local\\programs\\python\\python38\\lib\\site-packages\\numpy\\core\\_methods.py\u001b[0m in \u001b[0;36m_amax\u001b[1;34m(a, axis, out, keepdims, initial, where)\u001b[0m\n\u001b[0;32m     37\u001b[0m def _amax(a, axis=None, out=None, keepdims=False,\n\u001b[0;32m     38\u001b[0m           initial=_NoValue, where=True):\n\u001b[1;32m---> 39\u001b[1;33m     \u001b[1;32mreturn\u001b[0m \u001b[0mumr_maximum\u001b[0m\u001b[1;33m(\u001b[0m\u001b[0ma\u001b[0m\u001b[1;33m,\u001b[0m \u001b[0maxis\u001b[0m\u001b[1;33m,\u001b[0m \u001b[1;32mNone\u001b[0m\u001b[1;33m,\u001b[0m \u001b[0mout\u001b[0m\u001b[1;33m,\u001b[0m \u001b[0mkeepdims\u001b[0m\u001b[1;33m,\u001b[0m \u001b[0minitial\u001b[0m\u001b[1;33m,\u001b[0m \u001b[0mwhere\u001b[0m\u001b[1;33m)\u001b[0m\u001b[1;33m\u001b[0m\u001b[1;33m\u001b[0m\u001b[0m\n\u001b[0m\u001b[0;32m     40\u001b[0m \u001b[1;33m\u001b[0m\u001b[0m\n\u001b[0;32m     41\u001b[0m def _amin(a, axis=None, out=None, keepdims=False,\n",
      "\u001b[1;31mTypeError\u001b[0m: cannot perform reduce with flexible type"
     ]
    }
   ],
   "source": [
    "X = sp.sparse.hstack((vectorizer.fit_transform(df.Clean_Reviews),X[['Age','Recommended IND','Blouses', 'Chemises','Dresses', 'Fine gauge', 'Intimates','Jackets','Jeans','Knits','Layering','Legwear','Lounge','Outerwear','Pants','Shorts','Skirts','Sleep','Sweaters','Swim','Trend']].values),format='csr')\n",
    "X_columns=vectorizer.get_feature_names()+X[['Age','Recommended IND','Blouses', 'Chemises','Dresses', 'Fine gauge', 'Intimates','Jackets','Jeans','Knits','Layering','Legwear','Lounge','Outerwear','Pants','Shorts','Skirts','Sleep','Sweaters','Swim','Trend']].columns.tolist()\n"
   ]
  },
  {
   "cell_type": "code",
   "execution_count": null,
   "metadata": {},
   "outputs": [],
   "source": [
    "from sklearn import metrics\n",
    "X1_train, X1_test, y1_train, y1_test = train_test_split(X1, y1, test_size=0.25, random_state=0)\n",
    "nb1 = MultinomialNB()\n",
    "nb1.fit(X1_train, y1_train)"
   ]
  },
  {
   "cell_type": "markdown",
   "metadata": {},
   "source": [
    "Applying Logistic Regression"
   ]
  },
  {
   "cell_type": "code",
   "execution_count": 111,
   "metadata": {},
   "outputs": [
    {
     "name": "stderr",
     "output_type": "stream",
     "text": [
      "c:\\users\\sj\\appdata\\local\\programs\\python\\python38\\lib\\site-packages\\sklearn\\linear_model\\_logistic.py:762: ConvergenceWarning: lbfgs failed to converge (status=1):\n",
      "STOP: TOTAL NO. of ITERATIONS REACHED LIMIT.\n",
      "\n",
      "Increase the number of iterations (max_iter) or scale the data as shown in:\n",
      "    https://scikit-learn.org/stable/modules/preprocessing.html\n",
      "Please also refer to the documentation for alternative solver options:\n",
      "    https://scikit-learn.org/stable/modules/linear_model.html#logistic-regression\n",
      "  n_iter_i = _check_optimize_result(\n"
     ]
    },
    {
     "data": {
      "text/plain": [
       "LogisticRegression()"
      ]
     },
     "execution_count": 111,
     "metadata": {},
     "output_type": "execute_result"
    }
   ],
   "source": [
    "lr = LogisticRegression()\n",
    "lr.fit(X,y)"
   ]
  },
  {
   "cell_type": "code",
   "execution_count": 115,
   "metadata": {},
   "outputs": [
    {
     "data": {
      "text/plain": [
       "array([1., 1., 0., ..., 1., 1., 1.], dtype=float32)"
      ]
     },
     "execution_count": 115,
     "metadata": {},
     "output_type": "execute_result"
    }
   ],
   "source": [
    "lr_pred=lr.predict(X)\n",
    "lr_pred"
   ]
  },
  {
   "cell_type": "code",
   "execution_count": 113,
   "metadata": {},
   "outputs": [
    {
     "data": {
      "text/plain": [
       "0.9921502500290732"
      ]
     },
     "execution_count": 113,
     "metadata": {},
     "output_type": "execute_result"
    }
   ],
   "source": [
    "lr.score(X,y)"
   ]
  },
  {
   "cell_type": "code",
   "execution_count": 117,
   "metadata": {},
   "outputs": [
    {
     "ename": "ValueError",
     "evalue": "Found input variables with inconsistent numbers of samples: [3440, 17198]",
     "output_type": "error",
     "traceback": [
      "\u001b[1;31m---------------------------------------------------------------------------\u001b[0m",
      "\u001b[1;31mValueError\u001b[0m                                Traceback (most recent call last)",
      "\u001b[1;32m<ipython-input-117-f5ed487bdc7a>\u001b[0m in \u001b[0;36m<module>\u001b[1;34m\u001b[0m\n\u001b[0;32m      1\u001b[0m \u001b[1;31m#confusion matrix\u001b[0m\u001b[1;33m\u001b[0m\u001b[1;33m\u001b[0m\u001b[1;33m\u001b[0m\u001b[0m\n\u001b[1;32m----> 2\u001b[1;33m \u001b[0mcmlr\u001b[0m \u001b[1;33m=\u001b[0m \u001b[0mconfusion_matrix\u001b[0m\u001b[1;33m(\u001b[0m\u001b[0my_test\u001b[0m\u001b[1;33m,\u001b[0m\u001b[0mlr_pred\u001b[0m\u001b[1;33m)\u001b[0m\u001b[1;33m\u001b[0m\u001b[1;33m\u001b[0m\u001b[0m\n\u001b[0m\u001b[0;32m      3\u001b[0m \u001b[0mcmlr\u001b[0m\u001b[1;33m\u001b[0m\u001b[1;33m\u001b[0m\u001b[0m\n",
      "\u001b[1;32mc:\\users\\sj\\appdata\\local\\programs\\python\\python38\\lib\\site-packages\\sklearn\\utils\\validation.py\u001b[0m in \u001b[0;36minner_f\u001b[1;34m(*args, **kwargs)\u001b[0m\n\u001b[0;32m     71\u001b[0m                           FutureWarning)\n\u001b[0;32m     72\u001b[0m         \u001b[0mkwargs\u001b[0m\u001b[1;33m.\u001b[0m\u001b[0mupdate\u001b[0m\u001b[1;33m(\u001b[0m\u001b[1;33m{\u001b[0m\u001b[0mk\u001b[0m\u001b[1;33m:\u001b[0m \u001b[0marg\u001b[0m \u001b[1;32mfor\u001b[0m \u001b[0mk\u001b[0m\u001b[1;33m,\u001b[0m \u001b[0marg\u001b[0m \u001b[1;32min\u001b[0m \u001b[0mzip\u001b[0m\u001b[1;33m(\u001b[0m\u001b[0msig\u001b[0m\u001b[1;33m.\u001b[0m\u001b[0mparameters\u001b[0m\u001b[1;33m,\u001b[0m \u001b[0margs\u001b[0m\u001b[1;33m)\u001b[0m\u001b[1;33m}\u001b[0m\u001b[1;33m)\u001b[0m\u001b[1;33m\u001b[0m\u001b[1;33m\u001b[0m\u001b[0m\n\u001b[1;32m---> 73\u001b[1;33m         \u001b[1;32mreturn\u001b[0m \u001b[0mf\u001b[0m\u001b[1;33m(\u001b[0m\u001b[1;33m**\u001b[0m\u001b[0mkwargs\u001b[0m\u001b[1;33m)\u001b[0m\u001b[1;33m\u001b[0m\u001b[1;33m\u001b[0m\u001b[0m\n\u001b[0m\u001b[0;32m     74\u001b[0m     \u001b[1;32mreturn\u001b[0m \u001b[0minner_f\u001b[0m\u001b[1;33m\u001b[0m\u001b[1;33m\u001b[0m\u001b[0m\n\u001b[0;32m     75\u001b[0m \u001b[1;33m\u001b[0m\u001b[0m\n",
      "\u001b[1;32mc:\\users\\sj\\appdata\\local\\programs\\python\\python38\\lib\\site-packages\\sklearn\\metrics\\_classification.py\u001b[0m in \u001b[0;36mconfusion_matrix\u001b[1;34m(y_true, y_pred, labels, sample_weight, normalize)\u001b[0m\n\u001b[0;32m    274\u001b[0m \u001b[1;33m\u001b[0m\u001b[0m\n\u001b[0;32m    275\u001b[0m     \"\"\"\n\u001b[1;32m--> 276\u001b[1;33m     \u001b[0my_type\u001b[0m\u001b[1;33m,\u001b[0m \u001b[0my_true\u001b[0m\u001b[1;33m,\u001b[0m \u001b[0my_pred\u001b[0m \u001b[1;33m=\u001b[0m \u001b[0m_check_targets\u001b[0m\u001b[1;33m(\u001b[0m\u001b[0my_true\u001b[0m\u001b[1;33m,\u001b[0m \u001b[0my_pred\u001b[0m\u001b[1;33m)\u001b[0m\u001b[1;33m\u001b[0m\u001b[1;33m\u001b[0m\u001b[0m\n\u001b[0m\u001b[0;32m    277\u001b[0m     \u001b[1;32mif\u001b[0m \u001b[0my_type\u001b[0m \u001b[1;32mnot\u001b[0m \u001b[1;32min\u001b[0m \u001b[1;33m(\u001b[0m\u001b[1;34m\"binary\"\u001b[0m\u001b[1;33m,\u001b[0m \u001b[1;34m\"multiclass\"\u001b[0m\u001b[1;33m)\u001b[0m\u001b[1;33m:\u001b[0m\u001b[1;33m\u001b[0m\u001b[1;33m\u001b[0m\u001b[0m\n\u001b[0;32m    278\u001b[0m         \u001b[1;32mraise\u001b[0m \u001b[0mValueError\u001b[0m\u001b[1;33m(\u001b[0m\u001b[1;34m\"%s is not supported\"\u001b[0m \u001b[1;33m%\u001b[0m \u001b[0my_type\u001b[0m\u001b[1;33m)\u001b[0m\u001b[1;33m\u001b[0m\u001b[1;33m\u001b[0m\u001b[0m\n",
      "\u001b[1;32mc:\\users\\sj\\appdata\\local\\programs\\python\\python38\\lib\\site-packages\\sklearn\\metrics\\_classification.py\u001b[0m in \u001b[0;36m_check_targets\u001b[1;34m(y_true, y_pred)\u001b[0m\n\u001b[0;32m     79\u001b[0m     \u001b[0my_pred\u001b[0m \u001b[1;33m:\u001b[0m \u001b[0marray\u001b[0m \u001b[1;32mor\u001b[0m \u001b[0mindicator\u001b[0m \u001b[0mmatrix\u001b[0m\u001b[1;33m\u001b[0m\u001b[1;33m\u001b[0m\u001b[0m\n\u001b[0;32m     80\u001b[0m     \"\"\"\n\u001b[1;32m---> 81\u001b[1;33m     \u001b[0mcheck_consistent_length\u001b[0m\u001b[1;33m(\u001b[0m\u001b[0my_true\u001b[0m\u001b[1;33m,\u001b[0m \u001b[0my_pred\u001b[0m\u001b[1;33m)\u001b[0m\u001b[1;33m\u001b[0m\u001b[1;33m\u001b[0m\u001b[0m\n\u001b[0m\u001b[0;32m     82\u001b[0m     \u001b[0mtype_true\u001b[0m \u001b[1;33m=\u001b[0m \u001b[0mtype_of_target\u001b[0m\u001b[1;33m(\u001b[0m\u001b[0my_true\u001b[0m\u001b[1;33m)\u001b[0m\u001b[1;33m\u001b[0m\u001b[1;33m\u001b[0m\u001b[0m\n\u001b[0;32m     83\u001b[0m     \u001b[0mtype_pred\u001b[0m \u001b[1;33m=\u001b[0m \u001b[0mtype_of_target\u001b[0m\u001b[1;33m(\u001b[0m\u001b[0my_pred\u001b[0m\u001b[1;33m)\u001b[0m\u001b[1;33m\u001b[0m\u001b[1;33m\u001b[0m\u001b[0m\n",
      "\u001b[1;32mc:\\users\\sj\\appdata\\local\\programs\\python\\python38\\lib\\site-packages\\sklearn\\utils\\validation.py\u001b[0m in \u001b[0;36mcheck_consistent_length\u001b[1;34m(*arrays)\u001b[0m\n\u001b[0;32m    254\u001b[0m     \u001b[0muniques\u001b[0m \u001b[1;33m=\u001b[0m \u001b[0mnp\u001b[0m\u001b[1;33m.\u001b[0m\u001b[0munique\u001b[0m\u001b[1;33m(\u001b[0m\u001b[0mlengths\u001b[0m\u001b[1;33m)\u001b[0m\u001b[1;33m\u001b[0m\u001b[1;33m\u001b[0m\u001b[0m\n\u001b[0;32m    255\u001b[0m     \u001b[1;32mif\u001b[0m \u001b[0mlen\u001b[0m\u001b[1;33m(\u001b[0m\u001b[0muniques\u001b[0m\u001b[1;33m)\u001b[0m \u001b[1;33m>\u001b[0m \u001b[1;36m1\u001b[0m\u001b[1;33m:\u001b[0m\u001b[1;33m\u001b[0m\u001b[1;33m\u001b[0m\u001b[0m\n\u001b[1;32m--> 256\u001b[1;33m         raise ValueError(\"Found input variables with inconsistent numbers of\"\n\u001b[0m\u001b[0;32m    257\u001b[0m                          \" samples: %r\" % [int(l) for l in lengths])\n\u001b[0;32m    258\u001b[0m \u001b[1;33m\u001b[0m\u001b[0m\n",
      "\u001b[1;31mValueError\u001b[0m: Found input variables with inconsistent numbers of samples: [3440, 17198]"
     ]
    }
   ],
   "source": [
    "#confusion matrix\n",
    "cmlr = confusion_matrix(y_test,lr_pred)\n",
    "cmlr"
   ]
  },
  {
   "cell_type": "markdown",
   "metadata": {},
   "source": [
    "Applying Naive Bayes"
   ]
  },
  {
   "cell_type": "code",
   "execution_count": 118,
   "metadata": {},
   "outputs": [
    {
     "data": {
      "text/plain": [
       "MultinomialNB()"
      ]
     },
     "execution_count": 118,
     "metadata": {},
     "output_type": "execute_result"
    }
   ],
   "source": [
    "nb2 = MultinomialNB()\n",
    "nb2.fit(X_train, y_train)"
   ]
  },
  {
   "cell_type": "code",
   "execution_count": 119,
   "metadata": {},
   "outputs": [],
   "source": [
    "nb2_pred = nb2.predict(X_test)"
   ]
  },
  {
   "cell_type": "code",
   "execution_count": 120,
   "metadata": {},
   "outputs": [
    {
     "data": {
      "text/plain": [
       "0.9293604651162791"
      ]
     },
     "execution_count": 120,
     "metadata": {},
     "output_type": "execute_result"
    }
   ],
   "source": [
    "#Accuracy of Naive Bayes\n",
    "accuracy_score(y_test,nb2_pred)"
   ]
  },
  {
   "cell_type": "code",
   "execution_count": 121,
   "metadata": {},
   "outputs": [
    {
     "data": {
      "text/plain": [
       "array([[ 198,  198],\n",
       "       [  45, 2999]], dtype=int64)"
      ]
     },
     "execution_count": 121,
     "metadata": {},
     "output_type": "execute_result"
    }
   ],
   "source": [
    "#confusion matrix\n",
    "cmNB = confusion_matrix(y_test,nb2_pred)\n",
    "cmNB"
   ]
  },
  {
   "cell_type": "markdown",
   "metadata": {},
   "source": [
    "### Frequency/ Count of words"
   ]
  },
  {
   "cell_type": "code",
   "execution_count": 32,
   "metadata": {},
   "outputs": [],
   "source": [
    "from collections import Counter"
   ]
  },
  {
   "cell_type": "code",
   "execution_count": 33,
   "metadata": {},
   "outputs": [
    {
     "data": {
      "text/plain": [
       "1        14\n",
       "2        16\n",
       "3        40\n",
       "4        48\n",
       "5        51\n",
       "         ..\n",
       "19654    50\n",
       "19655    21\n",
       "19656    49\n",
       "19657    11\n",
       "19661    11\n",
       "Name: Count, Length: 17198, dtype: int64"
      ]
     },
     "execution_count": 33,
     "metadata": {},
     "output_type": "execute_result"
    }
   ],
   "source": [
    "#counting total number of words in each review\n",
    "df['Count'] = df.Clean_Reviews.apply(lambda x: len(str(x).split(' ')))\n",
    "df['Count']"
   ]
  },
  {
   "cell_type": "code",
   "execution_count": 26,
   "metadata": {},
   "outputs": [],
   "source": [
    "import numpy as np"
   ]
  },
  {
   "cell_type": "code",
   "execution_count": 27,
   "metadata": {},
   "outputs": [],
   "source": [
    "arr = np.array([1, 2, 3, 4, 5])"
   ]
  },
  {
   "cell_type": "code",
   "execution_count": 29,
   "metadata": {},
   "outputs": [
    {
     "ename": "TypeError",
     "evalue": "cannot convert dictionary update sequence element #0 to a sequence",
     "output_type": "error",
     "traceback": [
      "\u001b[1;31m---------------------------------------------------------------------------\u001b[0m",
      "\u001b[1;31mTypeError\u001b[0m                                 Traceback (most recent call last)",
      "\u001b[1;32m<ipython-input-29-273d80541563>\u001b[0m in \u001b[0;36m<module>\u001b[1;34m\u001b[0m\n\u001b[1;32m----> 1\u001b[1;33m \u001b[0mdict\u001b[0m\u001b[1;33m(\u001b[0m\u001b[0marr\u001b[0m\u001b[1;33m)\u001b[0m\u001b[1;33m\u001b[0m\u001b[1;33m\u001b[0m\u001b[0m\n\u001b[0m",
      "\u001b[1;31mTypeError\u001b[0m: cannot convert dictionary update sequence element #0 to a sequence"
     ]
    }
   ],
   "source": [
    "dict(arr)"
   ]
  },
  {
   "cell_type": "code",
   "execution_count": null,
   "metadata": {},
   "outputs": [],
   "source": []
  }
 ],
 "metadata": {
  "kernelspec": {
   "display_name": "Python 3",
   "language": "python",
   "name": "python3"
  },
  "language_info": {
   "codemirror_mode": {
    "name": "ipython",
    "version": 3
   },
   "file_extension": ".py",
   "mimetype": "text/x-python",
   "name": "python",
   "nbconvert_exporter": "python",
   "pygments_lexer": "ipython3",
   "version": "3.8.5"
  }
 },
 "nbformat": 4,
 "nbformat_minor": 4
}
