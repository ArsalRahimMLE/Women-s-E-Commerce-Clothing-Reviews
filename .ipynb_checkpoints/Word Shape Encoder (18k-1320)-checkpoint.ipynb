{
 "cells": [
  {
   "cell_type": "code",
   "execution_count": 7,
   "metadata": {},
   "outputs": [],
   "source": [
    "special_char_flag = False\n",
    "upper_letter_after_spc_char = False\n",
    "lower_letter_after_spc_char = False\n",
    "digit_after_spc_char = False\n",
    "next_cap_char_flag = False\n",
    "next_digit_char_flag = False"
   ]
  },
  {
   "cell_type": "code",
   "execution_count": 8,
   "metadata": {},
   "outputs": [],
   "source": [
    "#we can add other special charactyers too\n",
    "special_chars = ['$','%','-']"
   ]
  },
  {
   "cell_type": "code",
   "execution_count": 14,
   "metadata": {},
   "outputs": [],
   "source": [
    "list_of_string = [\"Varicella-zoster\"]"
   ]
  },
  {
   "cell_type": "code",
   "execution_count": 15,
   "metadata": {},
   "outputs": [],
   "source": [
    "encoded_str = \"\""
   ]
  },
  {
   "cell_type": "code",
   "execution_count": 16,
   "metadata": {},
   "outputs": [],
   "source": [
    "first_loc_flag=second_loc_flag=second_last_loc_flag=last_loc_flag = False\n",
    "first_loc__digit_flag=second_loc__digit_flag=second_last__digit_flag=last__digit_flag = False"
   ]
  },
  {
   "cell_type": "code",
   "execution_count": 17,
   "metadata": {},
   "outputs": [],
   "source": [
    "for string in list_of_string:\n",
    "    if len(string) > 4:\n",
    "        if string[0].isupper(): \n",
    "            first_loc_flag = True\n",
    "        if string[1].isupper():\n",
    "            second_loc_flag = True\n",
    "        if string[-2].isupper(): \n",
    "            second_last_loc_flag = True\n",
    "        if string[-1].isupper():\n",
    "            last_loc_flag = True\n",
    "        if string[0].isnumeric(): \n",
    "            first_loc__digit_flag = True\n",
    "        if string[1].isnumeric():\n",
    "            second_loc__digit_flag = True\n",
    "        if string[-2].isnumeric(): \n",
    "            second_last__digit_flag = True\n",
    "        if string[-1].isnumeric():\n",
    "            last__digit_flag = True\n",
    "    for i, char in enumerate(string):\n",
    "        if char in special_chars:\n",
    "            special_char_flag = True\n",
    "            special_char_loc = i\n",
    "            special_char = char\n",
    "        if special_char_flag == True and i == special_char_loc + 1:\n",
    "            if char.isupper():\n",
    "                next_cap_char_flag = True\n",
    "            if char.isnumeric():\n",
    "                next_digit_char_flag = True\n",
    "    \n",
    "    flag_list = [first_loc_flag,second_loc_flag,second_last_loc_flag,last_loc_flag]\n",
    "    digit_list = [first_loc__digit_flag,second_loc__digit_flag,second_last__digit_flag,last__digit_flag]\n",
    "    # make an encoded string #\n",
    "    for i,flag in enumerate(flag_list):\n",
    "        if flag == True:\n",
    "            encoded_str = encoded_str + \"X\"\n",
    "        else:\n",
    "            if digit_list[i]:\n",
    "                encoded_str = encoded_str+'d'\n",
    "            else:\n",
    "                encoded_str = encoded_str + \"x\"\n",
    "    if special_char_flag:\n",
    "        if special_char_loc < 4:\n",
    "            pass\n",
    "            #need to something# \n",
    "        else:\n",
    "            if next_cap_char_flag:\n",
    "                added_char = \"X\"\n",
    "            elif next_digit_char_flag:\n",
    "                added_char = \"d\"\n",
    "            else: \n",
    "                added_char = \"x\"\n",
    "            encoded_str = encoded_str[:2] + special_char+added_char+ encoded_str[2:]\n",
    "        "
   ]
  },
  {
   "cell_type": "code",
   "execution_count": 18,
   "metadata": {},
   "outputs": [
    {
     "data": {
      "text/plain": [
       "'Xx-xxx'"
      ]
     },
     "execution_count": 18,
     "metadata": {},
     "output_type": "execute_result"
    }
   ],
   "source": [
    "encoded_str"
   ]
  },
  {
   "cell_type": "markdown",
   "metadata": {},
   "source": [
    "----------------------"
   ]
  },
  {
   "cell_type": "markdown",
   "metadata": {},
   "source": [
    "--------------------"
   ]
  },
  {
   "cell_type": "code",
   "execution_count": null,
   "metadata": {},
   "outputs": [],
   "source": [
    "def string_encoder(string):\n",
    "     import re\n",
    "    if len(string)<=4:     \n",
    "        t1 = re.sub('[A-Z]','X',text)\n",
    "        t2 = re.sub('[a-z]','x',t1)\n",
    "        t1 = re.sub('[A-Z]','X',text)\n",
    "        return re.sub('[0-9]','d', t2)\n",
    "    else:\n",
    "        if string[0].isupper():\n",
    "            t1 = re.sub('[A-Z]','X',text)\n",
    "        elif string[0].islower():\n",
    "            t2 = re.sub('[a-z]','x',t1)\n",
    "            "
   ]
  },
  {
   "cell_type": "code",
   "execution_count": null,
   "metadata": {},
   "outputs": [],
   "source": []
  },
  {
   "cell_type": "code",
   "execution_count": null,
   "metadata": {},
   "outputs": [],
   "source": []
  },
  {
   "cell_type": "markdown",
   "metadata": {},
   "source": [
    "---------------------"
   ]
  },
  {
   "cell_type": "markdown",
   "metadata": {},
   "source": [
    "-----------------------"
   ]
  },
  {
   "cell_type": "markdown",
   "metadata": {},
   "source": [
    "--------------------------"
   ]
  },
  {
   "cell_type": "code",
   "execution_count": 5,
   "metadata": {},
   "outputs": [],
   "source": [
    "text = 'My Name is Karishma my rollNo is 18k-1320'"
   ]
  },
  {
   "cell_type": "code",
   "execution_count": 13,
   "metadata": {},
   "outputs": [
    {
     "name": "stdout",
     "output_type": "stream",
     "text": [
      "['My', 'Name', 'is', 'Karishma', 'my', 'rollNo', 'is', '18k-1320']\n"
     ]
    }
   ],
   "source": [
    "nltk_tokens = nltk.word_tokenize(text)\n",
    "print (nltk_tokens)"
   ]
  },
  {
   "cell_type": "code",
   "execution_count": 18,
   "metadata": {},
   "outputs": [],
   "source": [
    "def encoder(text):\n",
    "    import re\n",
    "    length = len(text)\n",
    "    if length <= 4:\n",
    "        t1 = re.sub('[A-Z]','X',text)\n",
    "        t2 = re.sub('[a-z]','x',t1)\n",
    "        t1 = re.sub('[A-Z]','X',text)\n",
    "        return re.sub('[0-9]','d', t2)\n",
    "    else if length > 4:\n",
    "        count = 0\n",
    "        for i in \n",
    "         \n"
   ]
  }
 ],
 "metadata": {
  "kernelspec": {
   "display_name": "Python 3",
   "language": "python",
   "name": "python3"
  },
  "language_info": {
   "codemirror_mode": {
    "name": "ipython",
    "version": 3
   },
   "file_extension": ".py",
   "mimetype": "text/x-python",
   "name": "python",
   "nbconvert_exporter": "python",
   "pygments_lexer": "ipython3",
   "version": "3.8.2"
  }
 },
 "nbformat": 4,
 "nbformat_minor": 4
}
