{
 "cells": [
  {
   "cell_type": "markdown",
   "metadata": {},
   "source": [
    "## Imports"
   ]
  },
  {
   "cell_type": "code",
   "execution_count": 92,
   "metadata": {},
   "outputs": [
    {
     "name": "stderr",
     "output_type": "stream",
     "text": [
      "[nltk_data] Downloading package wordnet to\n",
      "[nltk_data]     C:\\Users\\Sj\\AppData\\Roaming\\nltk_data...\n",
      "[nltk_data]   Package wordnet is already up-to-date!\n"
     ]
    },
    {
     "data": {
      "text/plain": [
       "True"
      ]
     },
     "execution_count": 92,
     "metadata": {},
     "output_type": "execute_result"
    }
   ],
   "source": [
    "import pandas as pd\n",
    "import numpy as np\n",
    "import nltk\n",
    "import matplotlib.pyplot as plt\n",
    "import seaborn as sns\n",
    "import datetime as dt\n",
    "from sklearn.feature_extraction.text import CountVectorizer\n",
    "from sklearn.model_selection import train_test_split\n",
    "from sklearn.naive_bayes import MultinomialNB\n",
    "from sklearn.metrics import roc_curve, auc\n",
    "from sklearn.neural_network import MLPClassifier\n",
    "from sklearn.svm import SVC\n",
    "from sklearn.metrics import confusion_matrix\n",
    "import sklearn.metrics as mt\n",
    "import nltk\n",
    "from sklearn.linear_model import LogisticRegression\n",
    "nltk.download('wordnet')"
   ]
  },
  {
   "cell_type": "code",
   "execution_count": 2,
   "metadata": {},
   "outputs": [],
   "source": [
    "#loading data in pandas dataframe\n",
    "df = pd.read_csv('Womens Clothing E-Commerce Reviews.csv')"
   ]
  },
  {
   "cell_type": "code",
   "execution_count": 3,
   "metadata": {},
   "outputs": [
    {
     "data": {
      "text/html": [
       "<div>\n",
       "<style scoped>\n",
       "    .dataframe tbody tr th:only-of-type {\n",
       "        vertical-align: middle;\n",
       "    }\n",
       "\n",
       "    .dataframe tbody tr th {\n",
       "        vertical-align: top;\n",
       "    }\n",
       "\n",
       "    .dataframe thead th {\n",
       "        text-align: right;\n",
       "    }\n",
       "</style>\n",
       "<table border=\"1\" class=\"dataframe\">\n",
       "  <thead>\n",
       "    <tr style=\"text-align: right;\">\n",
       "      <th></th>\n",
       "      <th>Unnamed: 0</th>\n",
       "      <th>Clothing ID</th>\n",
       "      <th>Age</th>\n",
       "      <th>Title</th>\n",
       "      <th>Review Text</th>\n",
       "      <th>Rating</th>\n",
       "      <th>Recommended IND</th>\n",
       "      <th>Positive Feedback Count</th>\n",
       "      <th>Division Name</th>\n",
       "      <th>Department Name</th>\n",
       "      <th>Class Name</th>\n",
       "    </tr>\n",
       "  </thead>\n",
       "  <tbody>\n",
       "    <tr>\n",
       "      <th>0</th>\n",
       "      <td>0</td>\n",
       "      <td>767</td>\n",
       "      <td>33</td>\n",
       "      <td>NaN</td>\n",
       "      <td>Absolutely wonderful - silky and sexy and comf...</td>\n",
       "      <td>4</td>\n",
       "      <td>1</td>\n",
       "      <td>0</td>\n",
       "      <td>Initmates</td>\n",
       "      <td>Intimate</td>\n",
       "      <td>Intimates</td>\n",
       "    </tr>\n",
       "    <tr>\n",
       "      <th>1</th>\n",
       "      <td>1</td>\n",
       "      <td>1080</td>\n",
       "      <td>34</td>\n",
       "      <td>NaN</td>\n",
       "      <td>Love this dress!  it's sooo pretty.  i happene...</td>\n",
       "      <td>5</td>\n",
       "      <td>1</td>\n",
       "      <td>4</td>\n",
       "      <td>General</td>\n",
       "      <td>Dresses</td>\n",
       "      <td>Dresses</td>\n",
       "    </tr>\n",
       "    <tr>\n",
       "      <th>2</th>\n",
       "      <td>2</td>\n",
       "      <td>1077</td>\n",
       "      <td>60</td>\n",
       "      <td>Some major design flaws</td>\n",
       "      <td>I had such high hopes for this dress and reall...</td>\n",
       "      <td>3</td>\n",
       "      <td>0</td>\n",
       "      <td>0</td>\n",
       "      <td>General</td>\n",
       "      <td>Dresses</td>\n",
       "      <td>Dresses</td>\n",
       "    </tr>\n",
       "    <tr>\n",
       "      <th>3</th>\n",
       "      <td>3</td>\n",
       "      <td>1049</td>\n",
       "      <td>50</td>\n",
       "      <td>My favorite buy!</td>\n",
       "      <td>I love, love, love this jumpsuit. it's fun, fl...</td>\n",
       "      <td>5</td>\n",
       "      <td>1</td>\n",
       "      <td>0</td>\n",
       "      <td>General Petite</td>\n",
       "      <td>Bottoms</td>\n",
       "      <td>Pants</td>\n",
       "    </tr>\n",
       "    <tr>\n",
       "      <th>4</th>\n",
       "      <td>4</td>\n",
       "      <td>847</td>\n",
       "      <td>47</td>\n",
       "      <td>Flattering shirt</td>\n",
       "      <td>This shirt is very flattering to all due to th...</td>\n",
       "      <td>5</td>\n",
       "      <td>1</td>\n",
       "      <td>6</td>\n",
       "      <td>General</td>\n",
       "      <td>Tops</td>\n",
       "      <td>Blouses</td>\n",
       "    </tr>\n",
       "  </tbody>\n",
       "</table>\n",
       "</div>"
      ],
      "text/plain": [
       "   Unnamed: 0  Clothing ID  Age                    Title  \\\n",
       "0           0          767   33                      NaN   \n",
       "1           1         1080   34                      NaN   \n",
       "2           2         1077   60  Some major design flaws   \n",
       "3           3         1049   50         My favorite buy!   \n",
       "4           4          847   47         Flattering shirt   \n",
       "\n",
       "                                         Review Text  Rating  Recommended IND  \\\n",
       "0  Absolutely wonderful - silky and sexy and comf...       4                1   \n",
       "1  Love this dress!  it's sooo pretty.  i happene...       5                1   \n",
       "2  I had such high hopes for this dress and reall...       3                0   \n",
       "3  I love, love, love this jumpsuit. it's fun, fl...       5                1   \n",
       "4  This shirt is very flattering to all due to th...       5                1   \n",
       "\n",
       "   Positive Feedback Count   Division Name Department Name Class Name  \n",
       "0                        0       Initmates        Intimate  Intimates  \n",
       "1                        4         General         Dresses    Dresses  \n",
       "2                        0         General         Dresses    Dresses  \n",
       "3                        0  General Petite         Bottoms      Pants  \n",
       "4                        6         General            Tops    Blouses  "
      ]
     },
     "execution_count": 3,
     "metadata": {},
     "output_type": "execute_result"
    }
   ],
   "source": [
    "df.head()"
   ]
  },
  {
   "cell_type": "code",
   "execution_count": 4,
   "metadata": {},
   "outputs": [
    {
     "name": "stdout",
     "output_type": "stream",
     "text": [
      "<class 'pandas.core.frame.DataFrame'>\n",
      "RangeIndex: 23486 entries, 0 to 23485\n",
      "Data columns (total 11 columns):\n",
      " #   Column                   Non-Null Count  Dtype \n",
      "---  ------                   --------------  ----- \n",
      " 0   Unnamed: 0               23486 non-null  int64 \n",
      " 1   Clothing ID              23486 non-null  int64 \n",
      " 2   Age                      23486 non-null  int64 \n",
      " 3   Title                    19676 non-null  object\n",
      " 4   Review Text              22641 non-null  object\n",
      " 5   Rating                   23486 non-null  int64 \n",
      " 6   Recommended IND          23486 non-null  int64 \n",
      " 7   Positive Feedback Count  23486 non-null  int64 \n",
      " 8   Division Name            23472 non-null  object\n",
      " 9   Department Name          23472 non-null  object\n",
      " 10  Class Name               23472 non-null  object\n",
      "dtypes: int64(6), object(5)\n",
      "memory usage: 1.5+ MB\n"
     ]
    }
   ],
   "source": [
    "df.info()"
   ]
  },
  {
   "cell_type": "code",
   "execution_count": 5,
   "metadata": {},
   "outputs": [
    {
     "data": {
      "text/plain": [
       "(23486, 11)"
      ]
     },
     "execution_count": 5,
     "metadata": {},
     "output_type": "execute_result"
    }
   ],
   "source": [
    "df.shape"
   ]
  },
  {
   "cell_type": "markdown",
   "metadata": {},
   "source": [
    "Observation: Dataset consists of 11 columns and 23,485 rows/records"
   ]
  },
  {
   "cell_type": "markdown",
   "metadata": {},
   "source": [
    "1. what datatypes are present in the dataset? "
   ]
  },
  {
   "cell_type": "code",
   "execution_count": 6,
   "metadata": {},
   "outputs": [
    {
     "data": {
      "text/plain": [
       "int64     6\n",
       "object    5\n",
       "dtype: int64"
      ]
     },
     "execution_count": 6,
     "metadata": {},
     "output_type": "execute_result"
    }
   ],
   "source": [
    "df.dtypes.value_counts()"
   ]
  },
  {
   "cell_type": "markdown",
   "metadata": {},
   "source": [
    "Observation: There are 6 integer and 5 object datatypes in the data"
   ]
  },
  {
   "cell_type": "markdown",
   "metadata": {},
   "source": [
    "3. What are the statistics of the data?"
   ]
  },
  {
   "cell_type": "code",
   "execution_count": 7,
   "metadata": {},
   "outputs": [
    {
     "data": {
      "text/html": [
       "<div>\n",
       "<style scoped>\n",
       "    .dataframe tbody tr th:only-of-type {\n",
       "        vertical-align: middle;\n",
       "    }\n",
       "\n",
       "    .dataframe tbody tr th {\n",
       "        vertical-align: top;\n",
       "    }\n",
       "\n",
       "    .dataframe thead th {\n",
       "        text-align: right;\n",
       "    }\n",
       "</style>\n",
       "<table border=\"1\" class=\"dataframe\">\n",
       "  <thead>\n",
       "    <tr style=\"text-align: right;\">\n",
       "      <th></th>\n",
       "      <th>Unnamed: 0</th>\n",
       "      <th>Clothing ID</th>\n",
       "      <th>Age</th>\n",
       "      <th>Rating</th>\n",
       "      <th>Recommended IND</th>\n",
       "      <th>Positive Feedback Count</th>\n",
       "    </tr>\n",
       "  </thead>\n",
       "  <tbody>\n",
       "    <tr>\n",
       "      <th>count</th>\n",
       "      <td>23486.000000</td>\n",
       "      <td>23486.000000</td>\n",
       "      <td>23486.000000</td>\n",
       "      <td>23486.000000</td>\n",
       "      <td>23486.000000</td>\n",
       "      <td>23486.000000</td>\n",
       "    </tr>\n",
       "    <tr>\n",
       "      <th>mean</th>\n",
       "      <td>11742.500000</td>\n",
       "      <td>918.118709</td>\n",
       "      <td>43.198544</td>\n",
       "      <td>4.196032</td>\n",
       "      <td>0.822362</td>\n",
       "      <td>2.535936</td>\n",
       "    </tr>\n",
       "    <tr>\n",
       "      <th>std</th>\n",
       "      <td>6779.968547</td>\n",
       "      <td>203.298980</td>\n",
       "      <td>12.279544</td>\n",
       "      <td>1.110031</td>\n",
       "      <td>0.382216</td>\n",
       "      <td>5.702202</td>\n",
       "    </tr>\n",
       "    <tr>\n",
       "      <th>min</th>\n",
       "      <td>0.000000</td>\n",
       "      <td>0.000000</td>\n",
       "      <td>18.000000</td>\n",
       "      <td>1.000000</td>\n",
       "      <td>0.000000</td>\n",
       "      <td>0.000000</td>\n",
       "    </tr>\n",
       "    <tr>\n",
       "      <th>25%</th>\n",
       "      <td>5871.250000</td>\n",
       "      <td>861.000000</td>\n",
       "      <td>34.000000</td>\n",
       "      <td>4.000000</td>\n",
       "      <td>1.000000</td>\n",
       "      <td>0.000000</td>\n",
       "    </tr>\n",
       "    <tr>\n",
       "      <th>50%</th>\n",
       "      <td>11742.500000</td>\n",
       "      <td>936.000000</td>\n",
       "      <td>41.000000</td>\n",
       "      <td>5.000000</td>\n",
       "      <td>1.000000</td>\n",
       "      <td>1.000000</td>\n",
       "    </tr>\n",
       "    <tr>\n",
       "      <th>75%</th>\n",
       "      <td>17613.750000</td>\n",
       "      <td>1078.000000</td>\n",
       "      <td>52.000000</td>\n",
       "      <td>5.000000</td>\n",
       "      <td>1.000000</td>\n",
       "      <td>3.000000</td>\n",
       "    </tr>\n",
       "    <tr>\n",
       "      <th>max</th>\n",
       "      <td>23485.000000</td>\n",
       "      <td>1205.000000</td>\n",
       "      <td>99.000000</td>\n",
       "      <td>5.000000</td>\n",
       "      <td>1.000000</td>\n",
       "      <td>122.000000</td>\n",
       "    </tr>\n",
       "  </tbody>\n",
       "</table>\n",
       "</div>"
      ],
      "text/plain": [
       "         Unnamed: 0   Clothing ID           Age        Rating  \\\n",
       "count  23486.000000  23486.000000  23486.000000  23486.000000   \n",
       "mean   11742.500000    918.118709     43.198544      4.196032   \n",
       "std     6779.968547    203.298980     12.279544      1.110031   \n",
       "min        0.000000      0.000000     18.000000      1.000000   \n",
       "25%     5871.250000    861.000000     34.000000      4.000000   \n",
       "50%    11742.500000    936.000000     41.000000      5.000000   \n",
       "75%    17613.750000   1078.000000     52.000000      5.000000   \n",
       "max    23485.000000   1205.000000     99.000000      5.000000   \n",
       "\n",
       "       Recommended IND  Positive Feedback Count  \n",
       "count     23486.000000             23486.000000  \n",
       "mean          0.822362                 2.535936  \n",
       "std           0.382216                 5.702202  \n",
       "min           0.000000                 0.000000  \n",
       "25%           1.000000                 0.000000  \n",
       "50%           1.000000                 1.000000  \n",
       "75%           1.000000                 3.000000  \n",
       "max           1.000000               122.000000  "
      ]
     },
     "execution_count": 7,
     "metadata": {},
     "output_type": "execute_result"
    }
   ],
   "source": [
    "#statistics of data\n",
    "df.describe()"
   ]
  },
  {
   "cell_type": "code",
   "execution_count": 8,
   "metadata": {
    "scrolled": true
   },
   "outputs": [
    {
     "data": {
      "text/html": [
       "<div>\n",
       "<style scoped>\n",
       "    .dataframe tbody tr th:only-of-type {\n",
       "        vertical-align: middle;\n",
       "    }\n",
       "\n",
       "    .dataframe tbody tr th {\n",
       "        vertical-align: top;\n",
       "    }\n",
       "\n",
       "    .dataframe thead th {\n",
       "        text-align: right;\n",
       "    }\n",
       "</style>\n",
       "<table border=\"1\" class=\"dataframe\">\n",
       "  <thead>\n",
       "    <tr style=\"text-align: right;\">\n",
       "      <th></th>\n",
       "      <th>Title</th>\n",
       "      <th>Review Text</th>\n",
       "      <th>Division Name</th>\n",
       "      <th>Department Name</th>\n",
       "      <th>Class Name</th>\n",
       "    </tr>\n",
       "  </thead>\n",
       "  <tbody>\n",
       "    <tr>\n",
       "      <th>count</th>\n",
       "      <td>19676</td>\n",
       "      <td>22641</td>\n",
       "      <td>23472</td>\n",
       "      <td>23472</td>\n",
       "      <td>23472</td>\n",
       "    </tr>\n",
       "    <tr>\n",
       "      <th>unique</th>\n",
       "      <td>13993</td>\n",
       "      <td>22634</td>\n",
       "      <td>3</td>\n",
       "      <td>6</td>\n",
       "      <td>20</td>\n",
       "    </tr>\n",
       "    <tr>\n",
       "      <th>top</th>\n",
       "      <td>Love it!</td>\n",
       "      <td>Perfect fit and i've gotten so many compliment...</td>\n",
       "      <td>General</td>\n",
       "      <td>Tops</td>\n",
       "      <td>Dresses</td>\n",
       "    </tr>\n",
       "    <tr>\n",
       "      <th>freq</th>\n",
       "      <td>136</td>\n",
       "      <td>3</td>\n",
       "      <td>13850</td>\n",
       "      <td>10468</td>\n",
       "      <td>6319</td>\n",
       "    </tr>\n",
       "  </tbody>\n",
       "</table>\n",
       "</div>"
      ],
      "text/plain": [
       "           Title                                        Review Text  \\\n",
       "count      19676                                              22641   \n",
       "unique     13993                                              22634   \n",
       "top     Love it!  Perfect fit and i've gotten so many compliment...   \n",
       "freq         136                                                  3   \n",
       "\n",
       "       Division Name Department Name Class Name  \n",
       "count          23472           23472      23472  \n",
       "unique             3               6         20  \n",
       "top          General            Tops    Dresses  \n",
       "freq           13850           10468       6319  "
      ]
     },
     "execution_count": 8,
     "metadata": {},
     "output_type": "execute_result"
    }
   ],
   "source": [
    "#statistics of object type columns\n",
    "df.describe(include='O')"
   ]
  },
  {
   "cell_type": "markdown",
   "metadata": {},
   "source": [
    "4. Are there any null values in the data?"
   ]
  },
  {
   "cell_type": "code",
   "execution_count": 9,
   "metadata": {},
   "outputs": [
    {
     "data": {
      "text/html": [
       "<div>\n",
       "<style scoped>\n",
       "    .dataframe tbody tr th:only-of-type {\n",
       "        vertical-align: middle;\n",
       "    }\n",
       "\n",
       "    .dataframe tbody tr th {\n",
       "        vertical-align: top;\n",
       "    }\n",
       "\n",
       "    .dataframe thead th {\n",
       "        text-align: right;\n",
       "    }\n",
       "</style>\n",
       "<table border=\"1\" class=\"dataframe\">\n",
       "  <thead>\n",
       "    <tr style=\"text-align: right;\">\n",
       "      <th></th>\n",
       "      <th>Unnamed: 0</th>\n",
       "      <th>Clothing ID</th>\n",
       "      <th>Age</th>\n",
       "      <th>Title</th>\n",
       "      <th>Review Text</th>\n",
       "      <th>Rating</th>\n",
       "      <th>Recommended IND</th>\n",
       "      <th>Positive Feedback Count</th>\n",
       "      <th>Division Name</th>\n",
       "      <th>Department Name</th>\n",
       "      <th>Class Name</th>\n",
       "    </tr>\n",
       "  </thead>\n",
       "  <tbody>\n",
       "    <tr>\n",
       "      <th>0</th>\n",
       "      <td>False</td>\n",
       "      <td>False</td>\n",
       "      <td>False</td>\n",
       "      <td>True</td>\n",
       "      <td>False</td>\n",
       "      <td>False</td>\n",
       "      <td>False</td>\n",
       "      <td>False</td>\n",
       "      <td>False</td>\n",
       "      <td>False</td>\n",
       "      <td>False</td>\n",
       "    </tr>\n",
       "    <tr>\n",
       "      <th>1</th>\n",
       "      <td>False</td>\n",
       "      <td>False</td>\n",
       "      <td>False</td>\n",
       "      <td>True</td>\n",
       "      <td>False</td>\n",
       "      <td>False</td>\n",
       "      <td>False</td>\n",
       "      <td>False</td>\n",
       "      <td>False</td>\n",
       "      <td>False</td>\n",
       "      <td>False</td>\n",
       "    </tr>\n",
       "    <tr>\n",
       "      <th>2</th>\n",
       "      <td>False</td>\n",
       "      <td>False</td>\n",
       "      <td>False</td>\n",
       "      <td>False</td>\n",
       "      <td>False</td>\n",
       "      <td>False</td>\n",
       "      <td>False</td>\n",
       "      <td>False</td>\n",
       "      <td>False</td>\n",
       "      <td>False</td>\n",
       "      <td>False</td>\n",
       "    </tr>\n",
       "    <tr>\n",
       "      <th>3</th>\n",
       "      <td>False</td>\n",
       "      <td>False</td>\n",
       "      <td>False</td>\n",
       "      <td>False</td>\n",
       "      <td>False</td>\n",
       "      <td>False</td>\n",
       "      <td>False</td>\n",
       "      <td>False</td>\n",
       "      <td>False</td>\n",
       "      <td>False</td>\n",
       "      <td>False</td>\n",
       "    </tr>\n",
       "    <tr>\n",
       "      <th>4</th>\n",
       "      <td>False</td>\n",
       "      <td>False</td>\n",
       "      <td>False</td>\n",
       "      <td>False</td>\n",
       "      <td>False</td>\n",
       "      <td>False</td>\n",
       "      <td>False</td>\n",
       "      <td>False</td>\n",
       "      <td>False</td>\n",
       "      <td>False</td>\n",
       "      <td>False</td>\n",
       "    </tr>\n",
       "    <tr>\n",
       "      <th>...</th>\n",
       "      <td>...</td>\n",
       "      <td>...</td>\n",
       "      <td>...</td>\n",
       "      <td>...</td>\n",
       "      <td>...</td>\n",
       "      <td>...</td>\n",
       "      <td>...</td>\n",
       "      <td>...</td>\n",
       "      <td>...</td>\n",
       "      <td>...</td>\n",
       "      <td>...</td>\n",
       "    </tr>\n",
       "    <tr>\n",
       "      <th>23481</th>\n",
       "      <td>False</td>\n",
       "      <td>False</td>\n",
       "      <td>False</td>\n",
       "      <td>False</td>\n",
       "      <td>False</td>\n",
       "      <td>False</td>\n",
       "      <td>False</td>\n",
       "      <td>False</td>\n",
       "      <td>False</td>\n",
       "      <td>False</td>\n",
       "      <td>False</td>\n",
       "    </tr>\n",
       "    <tr>\n",
       "      <th>23482</th>\n",
       "      <td>False</td>\n",
       "      <td>False</td>\n",
       "      <td>False</td>\n",
       "      <td>False</td>\n",
       "      <td>False</td>\n",
       "      <td>False</td>\n",
       "      <td>False</td>\n",
       "      <td>False</td>\n",
       "      <td>False</td>\n",
       "      <td>False</td>\n",
       "      <td>False</td>\n",
       "    </tr>\n",
       "    <tr>\n",
       "      <th>23483</th>\n",
       "      <td>False</td>\n",
       "      <td>False</td>\n",
       "      <td>False</td>\n",
       "      <td>False</td>\n",
       "      <td>False</td>\n",
       "      <td>False</td>\n",
       "      <td>False</td>\n",
       "      <td>False</td>\n",
       "      <td>False</td>\n",
       "      <td>False</td>\n",
       "      <td>False</td>\n",
       "    </tr>\n",
       "    <tr>\n",
       "      <th>23484</th>\n",
       "      <td>False</td>\n",
       "      <td>False</td>\n",
       "      <td>False</td>\n",
       "      <td>False</td>\n",
       "      <td>False</td>\n",
       "      <td>False</td>\n",
       "      <td>False</td>\n",
       "      <td>False</td>\n",
       "      <td>False</td>\n",
       "      <td>False</td>\n",
       "      <td>False</td>\n",
       "    </tr>\n",
       "    <tr>\n",
       "      <th>23485</th>\n",
       "      <td>False</td>\n",
       "      <td>False</td>\n",
       "      <td>False</td>\n",
       "      <td>False</td>\n",
       "      <td>False</td>\n",
       "      <td>False</td>\n",
       "      <td>False</td>\n",
       "      <td>False</td>\n",
       "      <td>False</td>\n",
       "      <td>False</td>\n",
       "      <td>False</td>\n",
       "    </tr>\n",
       "  </tbody>\n",
       "</table>\n",
       "<p>23486 rows × 11 columns</p>\n",
       "</div>"
      ],
      "text/plain": [
       "       Unnamed: 0  Clothing ID    Age  Title  Review Text  Rating  \\\n",
       "0           False        False  False   True        False   False   \n",
       "1           False        False  False   True        False   False   \n",
       "2           False        False  False  False        False   False   \n",
       "3           False        False  False  False        False   False   \n",
       "4           False        False  False  False        False   False   \n",
       "...           ...          ...    ...    ...          ...     ...   \n",
       "23481       False        False  False  False        False   False   \n",
       "23482       False        False  False  False        False   False   \n",
       "23483       False        False  False  False        False   False   \n",
       "23484       False        False  False  False        False   False   \n",
       "23485       False        False  False  False        False   False   \n",
       "\n",
       "       Recommended IND  Positive Feedback Count  Division Name  \\\n",
       "0                False                    False          False   \n",
       "1                False                    False          False   \n",
       "2                False                    False          False   \n",
       "3                False                    False          False   \n",
       "4                False                    False          False   \n",
       "...                ...                      ...            ...   \n",
       "23481            False                    False          False   \n",
       "23482            False                    False          False   \n",
       "23483            False                    False          False   \n",
       "23484            False                    False          False   \n",
       "23485            False                    False          False   \n",
       "\n",
       "       Department Name  Class Name  \n",
       "0                False       False  \n",
       "1                False       False  \n",
       "2                False       False  \n",
       "3                False       False  \n",
       "4                False       False  \n",
       "...                ...         ...  \n",
       "23481            False       False  \n",
       "23482            False       False  \n",
       "23483            False       False  \n",
       "23484            False       False  \n",
       "23485            False       False  \n",
       "\n",
       "[23486 rows x 11 columns]"
      ]
     },
     "execution_count": 9,
     "metadata": {},
     "output_type": "execute_result"
    }
   ],
   "source": [
    "df.isnull()"
   ]
  },
  {
   "cell_type": "code",
   "execution_count": 10,
   "metadata": {},
   "outputs": [
    {
     "data": {
      "text/plain": [
       "Unnamed: 0                    0\n",
       "Clothing ID                   0\n",
       "Age                           0\n",
       "Title                      3810\n",
       "Review Text                 845\n",
       "Rating                        0\n",
       "Recommended IND               0\n",
       "Positive Feedback Count       0\n",
       "Division Name                14\n",
       "Department Name              14\n",
       "Class Name                   14\n",
       "dtype: int64"
      ]
     },
     "execution_count": 10,
     "metadata": {},
     "output_type": "execute_result"
    }
   ],
   "source": [
    "df.isnull().sum()"
   ]
  },
  {
   "cell_type": "code",
   "execution_count": 11,
   "metadata": {},
   "outputs": [
    {
     "data": {
      "text/plain": [
       "Text(0.5, 1.0, 'Missing values per Feature')"
      ]
     },
     "execution_count": 11,
     "metadata": {},
     "output_type": "execute_result"
    },
    {
     "data": {
      "image/png": "[encoded data removed]",
      "text/plain": [
       "<Figure size 720x432 with 1 Axes>"
      ]
     },
     "metadata": {},
     "output_type": "display_data"
    }
   ],
   "source": [
    "sns.set(rc={'figure.figsize':(10,6)})\n",
    "pd.isnull(df).sum().plot(kind='bar')\n",
    "plt.ylabel('Number of missing values')\n",
    "plt.title('Missing values per Feature')"
   ]
  },
  {
   "cell_type": "markdown",
   "metadata": {},
   "source": [
    "Observation:  \n",
    "1. Title column contains 3810 missing records  \n",
    "2. Review Text contains 845 missing records  \n",
    "3. Division Name, Department Name and Class Name contain 14 missing values each"
   ]
  },
  {
   "cell_type": "markdown",
   "metadata": {},
   "source": [
    "5. What is the percentage of null values?"
   ]
  },
  {
   "cell_type": "code",
   "execution_count": 12,
   "metadata": {},
   "outputs": [
    {
     "data": {
      "text/plain": [
       "Unnamed: 0                  0.000000\n",
       "Clothing ID                 0.000000\n",
       "Age                         0.000000\n",
       "Title                      16.222430\n",
       "Review Text                 3.597888\n",
       "Rating                      0.000000\n",
       "Recommended IND             0.000000\n",
       "Positive Feedback Count     0.000000\n",
       "Division Name               0.059610\n",
       "Department Name             0.059610\n",
       "Class Name                  0.059610\n",
       "dtype: float64"
      ]
     },
     "execution_count": 12,
     "metadata": {},
     "output_type": "execute_result"
    }
   ],
   "source": [
    "df.isnull().sum()/len(df)*100"
   ]
  },
  {
   "cell_type": "markdown",
   "metadata": {},
   "source": [
    "Observation: There are 16% missing values in Title, 3.6% in Review Text, 0.6% in Division Name, Department Name and Class Name each."
   ]
  },
  {
   "cell_type": "markdown",
   "metadata": {},
   "source": [
    "### Univariate Analysis"
   ]
  },
  {
   "cell_type": "code",
   "execution_count": 13,
   "metadata": {},
   "outputs": [],
   "source": [
    "#deleting unnamed column as it contains serial number\n",
    "df.drop(df.columns[0],inplace=True, axis=1)"
   ]
  },
  {
   "cell_type": "code",
   "execution_count": 14,
   "metadata": {},
   "outputs": [
    {
     "data": {
      "text/html": [
       "<div>\n",
       "<style scoped>\n",
       "    .dataframe tbody tr th:only-of-type {\n",
       "        vertical-align: middle;\n",
       "    }\n",
       "\n",
       "    .dataframe tbody tr th {\n",
       "        vertical-align: top;\n",
       "    }\n",
       "\n",
       "    .dataframe thead th {\n",
       "        text-align: right;\n",
       "    }\n",
       "</style>\n",
       "<table border=\"1\" class=\"dataframe\">\n",
       "  <thead>\n",
       "    <tr style=\"text-align: right;\">\n",
       "      <th></th>\n",
       "      <th>Clothing ID</th>\n",
       "      <th>Age</th>\n",
       "      <th>Title</th>\n",
       "      <th>Review Text</th>\n",
       "      <th>Rating</th>\n",
       "      <th>Recommended IND</th>\n",
       "      <th>Positive Feedback Count</th>\n",
       "      <th>Division Name</th>\n",
       "      <th>Department Name</th>\n",
       "      <th>Class Name</th>\n",
       "    </tr>\n",
       "  </thead>\n",
       "  <tbody>\n",
       "    <tr>\n",
       "      <th>0</th>\n",
       "      <td>767</td>\n",
       "      <td>33</td>\n",
       "      <td>NaN</td>\n",
       "      <td>Absolutely wonderful - silky and sexy and comf...</td>\n",
       "      <td>4</td>\n",
       "      <td>1</td>\n",
       "      <td>0</td>\n",
       "      <td>Initmates</td>\n",
       "      <td>Intimate</td>\n",
       "      <td>Intimates</td>\n",
       "    </tr>\n",
       "    <tr>\n",
       "      <th>1</th>\n",
       "      <td>1080</td>\n",
       "      <td>34</td>\n",
       "      <td>NaN</td>\n",
       "      <td>Love this dress!  it's sooo pretty.  i happene...</td>\n",
       "      <td>5</td>\n",
       "      <td>1</td>\n",
       "      <td>4</td>\n",
       "      <td>General</td>\n",
       "      <td>Dresses</td>\n",
       "      <td>Dresses</td>\n",
       "    </tr>\n",
       "    <tr>\n",
       "      <th>2</th>\n",
       "      <td>1077</td>\n",
       "      <td>60</td>\n",
       "      <td>Some major design flaws</td>\n",
       "      <td>I had such high hopes for this dress and reall...</td>\n",
       "      <td>3</td>\n",
       "      <td>0</td>\n",
       "      <td>0</td>\n",
       "      <td>General</td>\n",
       "      <td>Dresses</td>\n",
       "      <td>Dresses</td>\n",
       "    </tr>\n",
       "    <tr>\n",
       "      <th>3</th>\n",
       "      <td>1049</td>\n",
       "      <td>50</td>\n",
       "      <td>My favorite buy!</td>\n",
       "      <td>I love, love, love this jumpsuit. it's fun, fl...</td>\n",
       "      <td>5</td>\n",
       "      <td>1</td>\n",
       "      <td>0</td>\n",
       "      <td>General Petite</td>\n",
       "      <td>Bottoms</td>\n",
       "      <td>Pants</td>\n",
       "    </tr>\n",
       "    <tr>\n",
       "      <th>4</th>\n",
       "      <td>847</td>\n",
       "      <td>47</td>\n",
       "      <td>Flattering shirt</td>\n",
       "      <td>This shirt is very flattering to all due to th...</td>\n",
       "      <td>5</td>\n",
       "      <td>1</td>\n",
       "      <td>6</td>\n",
       "      <td>General</td>\n",
       "      <td>Tops</td>\n",
       "      <td>Blouses</td>\n",
       "    </tr>\n",
       "  </tbody>\n",
       "</table>\n",
       "</div>"
      ],
      "text/plain": [
       "   Clothing ID  Age                    Title  \\\n",
       "0          767   33                      NaN   \n",
       "1         1080   34                      NaN   \n",
       "2         1077   60  Some major design flaws   \n",
       "3         1049   50         My favorite buy!   \n",
       "4          847   47         Flattering shirt   \n",
       "\n",
       "                                         Review Text  Rating  Recommended IND  \\\n",
       "0  Absolutely wonderful - silky and sexy and comf...       4                1   \n",
       "1  Love this dress!  it's sooo pretty.  i happene...       5                1   \n",
       "2  I had such high hopes for this dress and reall...       3                0   \n",
       "3  I love, love, love this jumpsuit. it's fun, fl...       5                1   \n",
       "4  This shirt is very flattering to all due to th...       5                1   \n",
       "\n",
       "   Positive Feedback Count   Division Name Department Name Class Name  \n",
       "0                        0       Initmates        Intimate  Intimates  \n",
       "1                        4         General         Dresses    Dresses  \n",
       "2                        0         General         Dresses    Dresses  \n",
       "3                        0  General Petite         Bottoms      Pants  \n",
       "4                        6         General            Tops    Blouses  "
      ]
     },
     "execution_count": 14,
     "metadata": {},
     "output_type": "execute_result"
    }
   ],
   "source": [
    "df.head()"
   ]
  },
  {
   "cell_type": "markdown",
   "metadata": {},
   "source": [
    "6. What does the field Clothing ID contains?"
   ]
  },
  {
   "cell_type": "code",
   "execution_count": 15,
   "metadata": {},
   "outputs": [
    {
     "data": {
      "text/plain": [
       "1078    1024\n",
       "862      806\n",
       "1094     756\n",
       "1081     582\n",
       "872      545\n",
       "        ... \n",
       "792        1\n",
       "776        1\n",
       "744        1\n",
       "728        1\n",
       "0          1\n",
       "Name: Clothing ID, Length: 1206, dtype: int64"
      ]
     },
     "execution_count": 15,
     "metadata": {},
     "output_type": "execute_result"
    }
   ],
   "source": [
    "df['Clothing ID'].value_counts()"
   ]
  },
  {
   "cell_type": "code",
   "execution_count": 16,
   "metadata": {},
   "outputs": [
    {
     "data": {
      "text/plain": [
       "1206"
      ]
     },
     "execution_count": 16,
     "metadata": {},
     "output_type": "execute_result"
    }
   ],
   "source": [
    "len(df['Clothing ID'].unique())"
   ]
  },
  {
   "cell_type": "markdown",
   "metadata": {},
   "source": [
    "Observation: Clothing ID contains 1,206 unique Ids. "
   ]
  },
  {
   "cell_type": "markdown",
   "metadata": {},
   "source": [
    "7. Exploring Ratings"
   ]
  },
  {
   "cell_type": "code",
   "execution_count": 17,
   "metadata": {},
   "outputs": [
    {
     "data": {
      "text/plain": [
       "5    13131\n",
       "4     5077\n",
       "3     2871\n",
       "2     1565\n",
       "1      842\n",
       "Name: Rating, dtype: int64"
      ]
     },
     "execution_count": 17,
     "metadata": {},
     "output_type": "execute_result"
    }
   ],
   "source": [
    "df['Rating'].value_counts()"
   ]
  },
  {
   "cell_type": "markdown",
   "metadata": {},
   "source": [
    "Observation: It contains Ratings from 1 to 5"
   ]
  },
  {
   "cell_type": "code",
   "execution_count": 18,
   "metadata": {},
   "outputs": [
    {
     "data": {
      "text/plain": [
       "Text(0.5, 1.0, 'Frequency Distribution of Rating')"
      ]
     },
     "execution_count": 18,
     "metadata": {},
     "output_type": "execute_result"
    },
    {
     "data": {
      "image/png": "[encoded data removed]",
      "text/plain": [
       "<Figure size 576x432 with 1 Axes>"
      ]
     },
     "metadata": {},
     "output_type": "display_data"
    }
   ],
   "source": [
    "fig,ax=plt.subplots(figsize=(8,6))\n",
    "sns.countplot(df['Rating'])\n",
    "plt.xlabel('Rating',size =16)\n",
    "plt.title(\"Frequency Distribution of Rating\",size=15)"
   ]
  },
  {
   "cell_type": "markdown",
   "metadata": {},
   "source": [
    "7.1 What is the percentage of  different ratings"
   ]
  },
  {
   "cell_type": "code",
   "execution_count": 19,
   "metadata": {},
   "outputs": [
    {
     "data": {
      "text/plain": [
       "5    55.909904\n",
       "4    21.617134\n",
       "3    12.224304\n",
       "2     6.663544\n",
       "1     3.585115\n",
       "Name: Rating, dtype: float64"
      ]
     },
     "execution_count": 19,
     "metadata": {},
     "output_type": "execute_result"
    }
   ],
   "source": [
    "df['Rating'].value_counts()/len(df)*100"
   ]
  },
  {
   "cell_type": "markdown",
   "metadata": {},
   "source": [
    "Observation: 56% records where Rating is 5, 21.6% where Rating is 4, 12% records are of Rating 3, 6% of Rating 2 and 3.5% records where Rating is 1."
   ]
  },
  {
   "cell_type": "markdown",
   "metadata": {},
   "source": [
    "8. What does the Title contain?"
   ]
  },
  {
   "cell_type": "code",
   "execution_count": 20,
   "metadata": {},
   "outputs": [
    {
     "data": {
      "text/plain": [
       "Love it!                                 136\n",
       "Beautiful                                 95\n",
       "Love                                      88\n",
       "Love!                                     84\n",
       "Beautiful!                                72\n",
       "                                        ... \n",
       "Had to send it back                        1\n",
       "Fun day dress                              1\n",
       "Nice casual tunic-dress                    1\n",
       "Fits fine - fabric/color not terrific      1\n",
       "Surprising find                            1\n",
       "Name: Title, Length: 13993, dtype: int64"
      ]
     },
     "execution_count": 20,
     "metadata": {},
     "output_type": "execute_result"
    }
   ],
   "source": [
    "df['Title'].value_counts()"
   ]
  },
  {
   "cell_type": "code",
   "execution_count": 21,
   "metadata": {},
   "outputs": [
    {
     "data": {
      "text/plain": [
       "True     83.77757\n",
       "False    16.22243\n",
       "Name: Title, dtype: float64"
      ]
     },
     "execution_count": 21,
     "metadata": {},
     "output_type": "execute_result"
    }
   ],
   "source": [
    "df['Title'].notnull().value_counts()/len(df)*100"
   ]
  },
  {
   "cell_type": "markdown",
   "metadata": {},
   "source": [
    "9. Exploring Recommended IND"
   ]
  },
  {
   "cell_type": "code",
   "execution_count": 22,
   "metadata": {},
   "outputs": [
    {
     "data": {
      "text/plain": [
       "1    19314\n",
       "0     4172\n",
       "Name: Recommended IND, dtype: int64"
      ]
     },
     "execution_count": 22,
     "metadata": {},
     "output_type": "execute_result"
    }
   ],
   "source": [
    "df['Recommended IND'].value_counts()"
   ]
  },
  {
   "cell_type": "code",
   "execution_count": 23,
   "metadata": {},
   "outputs": [
    {
     "data": {
      "text/plain": [
       "1    82.236226\n",
       "0    17.763774\n",
       "Name: Recommended IND, dtype: float64"
      ]
     },
     "execution_count": 23,
     "metadata": {},
     "output_type": "execute_result"
    }
   ],
   "source": [
    "df['Recommended IND'].value_counts()/len(df)*100"
   ]
  },
  {
   "cell_type": "code",
   "execution_count": null,
   "metadata": {},
   "outputs": [],
   "source": []
  },
  {
   "cell_type": "markdown",
   "metadata": {},
   "source": [
    "10. Exploring Age"
   ]
  },
  {
   "cell_type": "code",
   "execution_count": 24,
   "metadata": {},
   "outputs": [
    {
     "data": {
      "text/plain": [
       "39    1269\n",
       "35     909\n",
       "36     842\n",
       "34     804\n",
       "38     780\n",
       "      ... \n",
       "93       2\n",
       "90       2\n",
       "86       2\n",
       "99       2\n",
       "92       1\n",
       "Name: Age, Length: 77, dtype: int64"
      ]
     },
     "execution_count": 24,
     "metadata": {},
     "output_type": "execute_result"
    }
   ],
   "source": [
    "df['Age'].value_counts()"
   ]
  },
  {
   "cell_type": "code",
   "execution_count": 25,
   "metadata": {},
   "outputs": [
    {
     "data": {
      "text/plain": [
       "Text(0.5, 1.0, 'Number of review per Age')"
      ]
     },
     "execution_count": 25,
     "metadata": {},
     "output_type": "execute_result"
    },
    {
     "data": {
      "image/png": "[encoded data removed]",
      "text/plain": [
       "<Figure size 792x360 with 1 Axes>"
      ]
     },
     "metadata": {},
     "output_type": "display_data"
    }
   ],
   "source": [
    "sns.set(rc={'figure.figsize':(11,5)})\n",
    "plt.hist(df['Age'],bins=40)\n",
    "plt.xlabel(\"Age\",size=15)\n",
    "plt.ylabel(\"Review\",size=15)\n",
    "plt.title(\"Number of review per Age\",size=15)"
   ]
  },
  {
   "cell_type": "markdown",
   "metadata": {},
   "source": [
    "Observation: The above plot shows women from 30 to 50 year old age most engage in reviewing products"
   ]
  },
  {
   "cell_type": "markdown",
   "metadata": {},
   "source": [
    "11. Department Name"
   ]
  },
  {
   "cell_type": "code",
   "execution_count": 26,
   "metadata": {},
   "outputs": [
    {
     "data": {
      "text/plain": [
       "Tops        10468\n",
       "Dresses      6319\n",
       "Bottoms      3799\n",
       "Intimate     1735\n",
       "Jackets      1032\n",
       "Trend         119\n",
       "Name: Department Name, dtype: int64"
      ]
     },
     "execution_count": 26,
     "metadata": {},
     "output_type": "execute_result"
    }
   ],
   "source": [
    "df['Department Name'].value_counts()"
   ]
  },
  {
   "cell_type": "code",
   "execution_count": 27,
   "metadata": {},
   "outputs": [
    {
     "data": {
      "text/plain": [
       "Tops        44.571234\n",
       "Dresses     26.905390\n",
       "Bottoms     16.175594\n",
       "Intimate     7.387380\n",
       "Jackets      4.394107\n",
       "Trend        0.506685\n",
       "Name: Department Name, dtype: float64"
      ]
     },
     "execution_count": 27,
     "metadata": {},
     "output_type": "execute_result"
    }
   ],
   "source": [
    "df['Department Name'].value_counts()/len(df)*100"
   ]
  },
  {
   "cell_type": "code",
   "execution_count": 28,
   "metadata": {},
   "outputs": [
    {
     "data": {
      "text/plain": [
       "Text(0, 0.5, 'Count')"
      ]
     },
     "execution_count": 28,
     "metadata": {},
     "output_type": "execute_result"
    },
    {
     "data": {
      "image/png": "[encoded data removed]",
      "text/plain": [
       "<Figure size 576x432 with 1 Axes>"
      ]
     },
     "metadata": {},
     "output_type": "display_data"
    }
   ],
   "source": [
    "fig, ax = plt.subplots(figsize = (8,6))\n",
    "sns.countplot(df['Department Name'])\n",
    "plt.xlabel('Department Name',size=20)\n",
    "plt.ylabel('Count', size =20)"
   ]
  },
  {
   "cell_type": "markdown",
   "metadata": {},
   "source": [
    "Observation: It is observed that Tops and Dresses are the most commonly reviewed products.  \n",
    "It would be interesting to investigate the motivation of leaving a review in the first place"
   ]
  },
  {
   "cell_type": "markdown",
   "metadata": {},
   "source": [
    "12. Review Text"
   ]
  },
  {
   "cell_type": "code",
   "execution_count": 29,
   "metadata": {},
   "outputs": [
    {
     "data": {
      "text/plain": [
       "True     96.402112\n",
       "False     3.597888\n",
       "Name: Review Text, dtype: float64"
      ]
     },
     "execution_count": 29,
     "metadata": {},
     "output_type": "execute_result"
    }
   ],
   "source": [
    "df['Review Text'].notnull().value_counts()/len(df)*100"
   ]
  },
  {
   "cell_type": "markdown",
   "metadata": {},
   "source": [
    "About 3.6% records where reviews are missing, It is an important feature for sentiment analysis  "
   ]
  },
  {
   "cell_type": "code",
   "execution_count": 30,
   "metadata": {},
   "outputs": [],
   "source": [
    "#Filling null values with space\n",
    "df['Review Text'] = df['Review Text'].fillna('')"
   ]
  },
  {
   "cell_type": "code",
   "execution_count": 31,
   "metadata": {},
   "outputs": [],
   "source": [
    "l = list(df['Review Text'].values)\n",
    "l = (\",\".join(l))\n",
    "text = l.split(' ')"
   ]
  },
  {
   "cell_type": "code",
   "execution_count": 32,
   "metadata": {},
   "outputs": [
    {
     "data": {
      "text/plain": [
       "['Absolutely',\n",
       " 'wonderful',\n",
       " '-',\n",
       " 'silky',\n",
       " 'and',\n",
       " 'sexy',\n",
       " 'and',\n",
       " 'comfortable,Love',\n",
       " 'this',\n",
       " 'dress!',\n",
       " '',\n",
       " \"it's\",\n",
       " 'sooo',\n",
       " 'pretty.',\n",
       " '',\n",
       " 'i',\n",
       " 'happened',\n",
       " 'to',\n",
       " 'find',\n",
       " 'it',\n",
       " 'in',\n",
       " 'a',\n",
       " 'store,',\n",
       " 'and',\n",
       " \"i'm\",\n",
       " 'glad',\n",
       " 'i',\n",
       " 'did',\n",
       " 'bc',\n",
       " 'i',\n",
       " 'never',\n",
       " 'would',\n",
       " 'have',\n",
       " 'ordered',\n",
       " 'it',\n",
       " 'online',\n",
       " 'bc',\n",
       " \"it's\",\n",
       " 'petite.',\n",
       " '',\n",
       " 'i',\n",
       " 'bought',\n",
       " 'a',\n",
       " 'petite',\n",
       " 'and',\n",
       " 'am',\n",
       " '5\\'8\".',\n",
       " '',\n",
       " 'i',\n",
       " 'love',\n",
       " 'the',\n",
       " 'length',\n",
       " 'on',\n",
       " 'me-',\n",
       " 'hits',\n",
       " 'just',\n",
       " 'a',\n",
       " 'little',\n",
       " 'below',\n",
       " 'the',\n",
       " 'knee.',\n",
       " '',\n",
       " 'would',\n",
       " 'definitely',\n",
       " 'be',\n",
       " 'a',\n",
       " 'true',\n",
       " 'midi',\n",
       " 'on',\n",
       " 'someone',\n",
       " 'who',\n",
       " 'is',\n",
       " 'truly',\n",
       " 'petite.,I',\n",
       " 'had',\n",
       " 'such',\n",
       " 'high',\n",
       " 'hopes',\n",
       " 'for',\n",
       " 'this',\n",
       " 'dress',\n",
       " 'and',\n",
       " 'really',\n",
       " 'wanted',\n",
       " 'it',\n",
       " 'to',\n",
       " 'work',\n",
       " 'for',\n",
       " 'me.',\n",
       " 'i',\n",
       " 'initially',\n",
       " 'ordered',\n",
       " 'the',\n",
       " 'petite',\n",
       " 'small',\n",
       " '(my',\n",
       " 'usual',\n",
       " 'size)',\n",
       " 'but',\n",
       " 'i',\n",
       " 'found',\n",
       " 'this',\n",
       " 'to',\n",
       " 'be',\n",
       " 'outrageously',\n",
       " 'small.',\n",
       " 'so',\n",
       " 'small',\n",
       " 'in',\n",
       " 'fact',\n",
       " 'that',\n",
       " 'i',\n",
       " 'could',\n",
       " 'not',\n",
       " 'zip',\n",
       " 'it',\n",
       " 'up!',\n",
       " 'i',\n",
       " 'reordered',\n",
       " 'it',\n",
       " 'in',\n",
       " 'petite',\n",
       " 'medium,',\n",
       " 'which',\n",
       " 'was',\n",
       " 'just',\n",
       " 'ok.',\n",
       " 'overall,',\n",
       " 'the',\n",
       " 'top',\n",
       " 'half',\n",
       " 'was',\n",
       " 'comfortable',\n",
       " 'and',\n",
       " 'fit',\n",
       " 'nicely,',\n",
       " 'but',\n",
       " 'the',\n",
       " 'bottom',\n",
       " 'half',\n",
       " 'had',\n",
       " 'a',\n",
       " 'very',\n",
       " 'tight',\n",
       " 'under',\n",
       " 'layer',\n",
       " 'and',\n",
       " 'several',\n",
       " 'somewhat',\n",
       " 'cheap',\n",
       " '(net)',\n",
       " 'over',\n",
       " 'layers.',\n",
       " 'imo,',\n",
       " 'a',\n",
       " 'major',\n",
       " 'design',\n",
       " 'flaw',\n",
       " 'was',\n",
       " 'the',\n",
       " 'net',\n",
       " 'over',\n",
       " 'layer',\n",
       " 'sewn',\n",
       " 'directly',\n",
       " 'into',\n",
       " 'the',\n",
       " 'zipper',\n",
       " '-',\n",
       " 'it',\n",
       " 'c,I',\n",
       " 'love,',\n",
       " 'love,',\n",
       " 'love',\n",
       " 'this',\n",
       " 'jumpsuit.',\n",
       " \"it's\",\n",
       " 'fun,',\n",
       " 'flirty,',\n",
       " 'and',\n",
       " 'fabulous!',\n",
       " 'every',\n",
       " 'time',\n",
       " 'i',\n",
       " 'wear',\n",
       " 'it,',\n",
       " 'i',\n",
       " 'get',\n",
       " 'nothing',\n",
       " 'but',\n",
       " 'great',\n",
       " 'compliments!,This',\n",
       " 'shirt',\n",
       " 'is',\n",
       " 'very',\n",
       " 'flattering',\n",
       " 'to',\n",
       " 'all',\n",
       " 'due',\n",
       " 'to',\n",
       " 'the',\n",
       " 'adjustable',\n",
       " 'front',\n",
       " 'tie.',\n",
       " 'it',\n",
       " 'is',\n",
       " 'the',\n",
       " 'perfect',\n",
       " 'length',\n",
       " 'to',\n",
       " 'wear',\n",
       " 'with',\n",
       " 'leggings',\n",
       " 'and',\n",
       " 'it',\n",
       " 'is',\n",
       " 'sleeveless',\n",
       " 'so',\n",
       " 'it',\n",
       " 'pairs',\n",
       " 'well',\n",
       " 'with',\n",
       " 'any',\n",
       " 'cardigan.',\n",
       " 'love',\n",
       " 'this',\n",
       " 'shirt!!!,I',\n",
       " 'love',\n",
       " 'tracy',\n",
       " 'reese',\n",
       " 'dresses,',\n",
       " 'but',\n",
       " 'this',\n",
       " 'one',\n",
       " 'is',\n",
       " 'not',\n",
       " 'for',\n",
       " 'the',\n",
       " 'very',\n",
       " 'petite.',\n",
       " 'i',\n",
       " 'am',\n",
       " 'just',\n",
       " 'under',\n",
       " '5',\n",
       " 'feet',\n",
       " 'tall',\n",
       " 'and',\n",
       " 'usually',\n",
       " 'wear',\n",
       " 'a',\n",
       " '0p',\n",
       " 'in',\n",
       " 'this',\n",
       " 'brand.',\n",
       " 'this',\n",
       " 'dress',\n",
       " 'was',\n",
       " 'very',\n",
       " 'pretty',\n",
       " 'out',\n",
       " 'of',\n",
       " 'the',\n",
       " 'package',\n",
       " 'but',\n",
       " 'its',\n",
       " 'a',\n",
       " 'lot',\n",
       " 'of',\n",
       " 'dress.',\n",
       " 'the',\n",
       " 'skirt',\n",
       " 'is',\n",
       " 'long',\n",
       " 'and',\n",
       " 'very',\n",
       " 'full',\n",
       " 'so',\n",
       " 'it',\n",
       " 'overwhelmed',\n",
       " 'my',\n",
       " 'small',\n",
       " 'frame.',\n",
       " 'not',\n",
       " 'a',\n",
       " 'stranger',\n",
       " 'to',\n",
       " 'alterations,',\n",
       " 'shortening',\n",
       " 'and',\n",
       " 'narrowing',\n",
       " 'the',\n",
       " 'skirt',\n",
       " 'would',\n",
       " 'take',\n",
       " 'away',\n",
       " 'from',\n",
       " 'the',\n",
       " 'embellishment',\n",
       " 'of',\n",
       " 'the',\n",
       " 'garment.',\n",
       " 'i',\n",
       " 'love',\n",
       " 'the',\n",
       " 'color',\n",
       " 'and',\n",
       " 'the',\n",
       " 'idea',\n",
       " 'of',\n",
       " 'the',\n",
       " 'style',\n",
       " 'but',\n",
       " 'it',\n",
       " 'just',\n",
       " 'did',\n",
       " 'not',\n",
       " 'work',\n",
       " 'on',\n",
       " 'me.',\n",
       " 'i',\n",
       " 'returned',\n",
       " 'this',\n",
       " 'dress.,I',\n",
       " 'aded',\n",
       " 'this',\n",
       " 'in',\n",
       " 'my',\n",
       " 'basket',\n",
       " 'at',\n",
       " 'hte',\n",
       " 'last',\n",
       " 'mintue',\n",
       " 'to',\n",
       " 'see',\n",
       " 'what',\n",
       " 'it',\n",
       " 'would',\n",
       " 'look',\n",
       " 'like',\n",
       " 'in',\n",
       " 'person.',\n",
       " '(store',\n",
       " 'pick',\n",
       " 'up).',\n",
       " 'i',\n",
       " 'went',\n",
       " 'with',\n",
       " 'teh',\n",
       " 'darkler',\n",
       " 'color',\n",
       " 'only',\n",
       " 'because',\n",
       " 'i',\n",
       " 'am',\n",
       " 'so',\n",
       " 'pale',\n",
       " ':-)',\n",
       " 'hte',\n",
       " 'color',\n",
       " 'is',\n",
       " 'really',\n",
       " 'gorgeous,',\n",
       " 'and',\n",
       " 'turns',\n",
       " 'out',\n",
       " 'it',\n",
       " 'mathced',\n",
       " 'everythiing',\n",
       " 'i',\n",
       " 'was',\n",
       " 'trying',\n",
       " 'on',\n",
       " 'with',\n",
       " 'it',\n",
       " 'prefectly.',\n",
       " 'it',\n",
       " 'is',\n",
       " 'a',\n",
       " 'little',\n",
       " 'baggy',\n",
       " 'on',\n",
       " 'me',\n",
       " 'and',\n",
       " 'hte',\n",
       " 'xs',\n",
       " 'is',\n",
       " 'hte',\n",
       " 'msallet',\n",
       " 'size',\n",
       " '(bummer,',\n",
       " 'no',\n",
       " 'petite).',\n",
       " 'i',\n",
       " 'decided',\n",
       " 'to',\n",
       " 'jkeep',\n",
       " 'it',\n",
       " 'though,',\n",
       " 'because',\n",
       " 'as',\n",
       " 'i',\n",
       " 'said,',\n",
       " 'it',\n",
       " 'matvehd',\n",
       " 'everything.',\n",
       " 'my',\n",
       " 'ejans,',\n",
       " 'pants,',\n",
       " 'and',\n",
       " 'the',\n",
       " '3',\n",
       " 'skirts',\n",
       " 'i',\n",
       " 'waas',\n",
       " 'trying',\n",
       " 'on',\n",
       " '(of',\n",
       " 'which',\n",
       " 'i',\n",
       " ']kept',\n",
       " 'all',\n",
       " ')',\n",
       " 'oops.,I',\n",
       " 'ordered',\n",
       " 'this',\n",
       " 'in',\n",
       " 'carbon',\n",
       " 'for',\n",
       " 'store',\n",
       " 'pick',\n",
       " 'up,',\n",
       " 'and',\n",
       " 'had',\n",
       " 'a',\n",
       " 'ton',\n",
       " 'of',\n",
       " 'stuff',\n",
       " '(as',\n",
       " 'always)',\n",
       " 'to',\n",
       " 'try',\n",
       " 'on',\n",
       " 'and',\n",
       " 'used',\n",
       " 'this',\n",
       " 'top',\n",
       " 'to',\n",
       " 'pair',\n",
       " '(skirts',\n",
       " 'and',\n",
       " 'pants).',\n",
       " 'everything',\n",
       " 'went',\n",
       " 'with',\n",
       " 'it.',\n",
       " 'the',\n",
       " 'color',\n",
       " 'is',\n",
       " 'really',\n",
       " 'nice',\n",
       " 'charcoal',\n",
       " 'with',\n",
       " 'shimmer,',\n",
       " 'and',\n",
       " 'went',\n",
       " 'well',\n",
       " 'with',\n",
       " 'pencil',\n",
       " 'skirts,',\n",
       " 'flare',\n",
       " 'pants,',\n",
       " 'etc.',\n",
       " 'my',\n",
       " 'only',\n",
       " 'compaint',\n",
       " 'is',\n",
       " 'it',\n",
       " 'is',\n",
       " 'a',\n",
       " 'bit',\n",
       " 'big,',\n",
       " 'sleeves',\n",
       " 'are',\n",
       " 'long',\n",
       " 'and',\n",
       " 'it',\n",
       " \"doesn't\",\n",
       " 'go',\n",
       " 'in',\n",
       " 'petite.',\n",
       " 'also',\n",
       " 'a',\n",
       " 'bit',\n",
       " 'loose',\n",
       " 'for',\n",
       " 'me,',\n",
       " 'but',\n",
       " 'no',\n",
       " 'xxs...',\n",
       " 'so',\n",
       " 'i',\n",
       " 'kept',\n",
       " 'it',\n",
       " 'and',\n",
       " 'wil',\n",
       " 'ldecide',\n",
       " 'later',\n",
       " 'since',\n",
       " 'the',\n",
       " 'light',\n",
       " 'color',\n",
       " 'is',\n",
       " 'already',\n",
       " 'sold',\n",
       " 'out',\n",
       " 'in',\n",
       " 'hte',\n",
       " 'smallest',\n",
       " 'size...,I',\n",
       " 'love',\n",
       " 'this',\n",
       " 'dress.',\n",
       " 'i',\n",
       " 'usually',\n",
       " 'get',\n",
       " 'an',\n",
       " 'xs',\n",
       " 'but',\n",
       " 'it',\n",
       " 'runs',\n",
       " 'a',\n",
       " 'little',\n",
       " 'snug',\n",
       " 'in',\n",
       " 'bust',\n",
       " 'so',\n",
       " 'i',\n",
       " 'ordered',\n",
       " 'up',\n",
       " 'a',\n",
       " 'size.',\n",
       " 'very',\n",
       " 'flattering',\n",
       " 'and',\n",
       " 'feminine',\n",
       " 'with',\n",
       " 'the',\n",
       " 'usual',\n",
       " 'retailer',\n",
       " 'flair',\n",
       " 'for',\n",
       " \"style.,I'm\",\n",
       " '5\"5\\'',\n",
       " 'and',\n",
       " '125',\n",
       " 'lbs.',\n",
       " 'i',\n",
       " 'ordered',\n",
       " 'the',\n",
       " 's',\n",
       " 'petite',\n",
       " 'to',\n",
       " 'make',\n",
       " 'sure',\n",
       " 'the',\n",
       " 'length',\n",
       " \"wasn't\",\n",
       " 'too',\n",
       " 'long.',\n",
       " 'i',\n",
       " 'typically',\n",
       " 'wear',\n",
       " 'an',\n",
       " 'xs',\n",
       " 'regular',\n",
       " 'in',\n",
       " 'retailer',\n",
       " 'dresses.',\n",
       " 'if',\n",
       " \"you're\",\n",
       " 'less',\n",
       " 'busty',\n",
       " '(34b',\n",
       " 'cup',\n",
       " 'or',\n",
       " 'smaller),',\n",
       " 'a',\n",
       " 's',\n",
       " 'petite',\n",
       " 'will',\n",
       " 'fit',\n",
       " 'you',\n",
       " 'perfectly',\n",
       " '(snug,',\n",
       " 'but',\n",
       " 'not',\n",
       " 'tight).',\n",
       " 'i',\n",
       " 'love',\n",
       " 'that',\n",
       " 'i',\n",
       " 'could',\n",
       " 'dress',\n",
       " 'it',\n",
       " 'up',\n",
       " 'for',\n",
       " 'a',\n",
       " 'party,',\n",
       " 'or',\n",
       " 'down',\n",
       " 'for',\n",
       " 'work.',\n",
       " 'i',\n",
       " 'love',\n",
       " 'that',\n",
       " 'the',\n",
       " 'tulle',\n",
       " 'is',\n",
       " 'longer',\n",
       " 'then',\n",
       " 'the',\n",
       " 'fabric',\n",
       " 'underneath.,Dress',\n",
       " 'runs',\n",
       " 'small',\n",
       " 'esp',\n",
       " 'where',\n",
       " 'the',\n",
       " 'zipper',\n",
       " 'area',\n",
       " 'runs.',\n",
       " 'i',\n",
       " 'ordered',\n",
       " 'the',\n",
       " 'sp',\n",
       " 'which',\n",
       " 'typically',\n",
       " 'fits',\n",
       " 'me',\n",
       " 'and',\n",
       " 'it',\n",
       " 'was',\n",
       " 'very',\n",
       " 'tight!',\n",
       " 'the',\n",
       " 'material',\n",
       " 'on',\n",
       " 'the',\n",
       " 'top',\n",
       " 'looks',\n",
       " 'and',\n",
       " 'feels',\n",
       " 'very',\n",
       " 'cheap',\n",
       " 'that',\n",
       " 'even',\n",
       " 'just',\n",
       " 'pulling',\n",
       " 'on',\n",
       " 'it',\n",
       " 'will',\n",
       " 'cause',\n",
       " 'it',\n",
       " 'to',\n",
       " 'rip',\n",
       " 'the',\n",
       " 'fabric.',\n",
       " 'pretty',\n",
       " 'disappointed',\n",
       " 'as',\n",
       " 'it',\n",
       " 'was',\n",
       " 'going',\n",
       " 'to',\n",
       " 'be',\n",
       " 'my',\n",
       " 'christmas',\n",
       " 'dress',\n",
       " 'this',\n",
       " 'year!',\n",
       " 'needless',\n",
       " 'to',\n",
       " 'say',\n",
       " 'it',\n",
       " 'will',\n",
       " 'be',\n",
       " 'going',\n",
       " 'back.,This',\n",
       " 'dress',\n",
       " 'is',\n",
       " 'perfection!',\n",
       " 'so',\n",
       " 'pretty',\n",
       " 'and',\n",
       " 'flattering.,More',\n",
       " 'and',\n",
       " 'more',\n",
       " 'i',\n",
       " 'find',\n",
       " 'myself',\n",
       " 'reliant',\n",
       " 'on',\n",
       " 'the',\n",
       " 'reviews',\n",
       " 'written',\n",
       " 'by',\n",
       " 'savvy',\n",
       " 'shoppers',\n",
       " 'before',\n",
       " 'me',\n",
       " 'and',\n",
       " 'for',\n",
       " 'the',\n",
       " 'most',\n",
       " 'past,',\n",
       " 'they',\n",
       " 'are',\n",
       " 'right',\n",
       " 'on',\n",
       " 'in',\n",
       " 'their',\n",
       " 'estimation',\n",
       " 'of',\n",
       " 'the',\n",
       " 'product.',\n",
       " 'in',\n",
       " 'the',\n",
       " 'case',\n",
       " 'of',\n",
       " 'this',\n",
       " 'dress-if',\n",
       " 'it',\n",
       " 'had',\n",
       " 'not',\n",
       " 'been',\n",
       " 'for',\n",
       " 'the',\n",
       " 'reveiws-i',\n",
       " 'doubt',\n",
       " 'i',\n",
       " 'would',\n",
       " 'have',\n",
       " 'even',\n",
       " 'tried',\n",
       " 'this.',\n",
       " 'the',\n",
       " 'dress',\n",
       " 'is',\n",
       " 'beautifully',\n",
       " 'made,',\n",
       " 'lined',\n",
       " 'and',\n",
       " 'reminiscent',\n",
       " 'of',\n",
       " 'the',\n",
       " 'old',\n",
       " 'retailer',\n",
       " 'quality.',\n",
       " 'it',\n",
       " 'is',\n",
       " 'lined',\n",
       " 'in',\n",
       " 'the',\n",
       " 'solid',\n",
       " 'periwinkle-colored',\n",
       " 'fabric',\n",
       " 'that',\n",
       " 'matches',\n",
       " 'the',\n",
       " 'outer',\n",
       " 'fabric',\n",
       " 'print.',\n",
       " 'tts',\n",
       " 'and',\n",
       " 'very',\n",
       " 'form-fitting.',\n",
       " 'falls',\n",
       " 'just',\n",
       " 'above',\n",
       " 'the',\n",
       " 'knee',\n",
       " 'and',\n",
       " 'does',\n",
       " 'not',\n",
       " 'rid,Bought',\n",
       " 'the',\n",
       " 'black',\n",
       " 'xs',\n",
       " 'to',\n",
       " 'go',\n",
       " 'under',\n",
       " 'the',\n",
       " 'larkspur',\n",
       " 'midi',\n",
       " 'dress',\n",
       " 'because',\n",
       " 'they',\n",
       " \"didn't\",\n",
       " 'bother',\n",
       " 'lining',\n",
       " 'the',\n",
       " 'skirt',\n",
       " 'portion',\n",
       " '(grrrrrrrrrrr).\\r\\nmy',\n",
       " 'stats',\n",
       " 'are',\n",
       " '34a-28/29-36',\n",
       " 'and',\n",
       " 'the',\n",
       " 'xs',\n",
       " 'fit',\n",
       " 'very',\n",
       " 'smoothly',\n",
       " 'around',\n",
       " 'the',\n",
       " 'chest',\n",
       " 'and',\n",
       " 'was',\n",
       " 'flowy',\n",
       " 'around',\n",
       " 'my',\n",
       " 'lower',\n",
       " 'half,',\n",
       " 'so',\n",
       " 'i',\n",
       " 'would',\n",
       " 'say',\n",
       " \"it's\",\n",
       " 'running',\n",
       " 'big.\\r\\nthe',\n",
       " 'straps',\n",
       " 'are',\n",
       " 'very',\n",
       " 'pretty',\n",
       " 'and',\n",
       " 'it',\n",
       " 'could',\n",
       " 'easily',\n",
       " 'be',\n",
       " 'nightwear',\n",
       " \"too.\\r\\ni'm\",\n",
       " '5\\'6\"',\n",
       " 'and',\n",
       " 'it',\n",
       " 'came',\n",
       " 'to',\n",
       " 'just',\n",
       " 'below',\n",
       " 'my',\n",
       " 'knees.,This',\n",
       " 'is',\n",
       " 'a',\n",
       " 'nice',\n",
       " 'choice',\n",
       " 'for',\n",
       " 'holiday',\n",
       " 'gatherings.',\n",
       " 'i',\n",
       " 'like',\n",
       " 'that',\n",
       " 'the',\n",
       " 'length',\n",
       " 'grazes',\n",
       " 'the',\n",
       " 'knee',\n",
       " 'so',\n",
       " 'it',\n",
       " 'is',\n",
       " 'conservative',\n",
       " 'enough',\n",
       " 'for',\n",
       " 'office',\n",
       " 'related',\n",
       " 'gatherings.',\n",
       " 'the',\n",
       " 'size',\n",
       " 'small',\n",
       " 'fit',\n",
       " 'me',\n",
       " 'well',\n",
       " '-',\n",
       " 'i',\n",
       " 'am',\n",
       " 'usually',\n",
       " 'a',\n",
       " 'size',\n",
       " '2/4',\n",
       " 'with',\n",
       " 'a',\n",
       " 'small',\n",
       " 'bust.',\n",
       " 'in',\n",
       " 'my',\n",
       " 'opinion',\n",
       " 'it',\n",
       " 'runs',\n",
       " 'small',\n",
       " 'and',\n",
       " 'those',\n",
       " 'with',\n",
       " 'larger',\n",
       " 'busts',\n",
       " 'will',\n",
       " 'definitely',\n",
       " 'have',\n",
       " 'to',\n",
       " 'size',\n",
       " 'up',\n",
       " '(but',\n",
       " 'then',\n",
       " 'perhaps',\n",
       " 'the',\n",
       " 'waist',\n",
       " 'will',\n",
       " 'be',\n",
       " 'too',\n",
       " 'big).',\n",
       " 'the',\n",
       " 'problem',\n",
       " 'with',\n",
       " 'this',\n",
       " 'dress',\n",
       " 'is',\n",
       " 'the',\n",
       " 'quality.',\n",
       " 'the',\n",
       " 'fabrics',\n",
       " 'are',\n",
       " 'terrible.',\n",
       " 'the',\n",
       " 'delicate',\n",
       " 'netting',\n",
       " 'type',\n",
       " 'fabric',\n",
       " 'on',\n",
       " 'the',\n",
       " 'top',\n",
       " 'layer',\n",
       " 'of',\n",
       " 'skirt',\n",
       " 'got',\n",
       " 'stuck',\n",
       " 'in',\n",
       " 'the',\n",
       " 'zip,I',\n",
       " 'took',\n",
       " 'these',\n",
       " 'out',\n",
       " 'of',\n",
       " 'the',\n",
       " 'package',\n",
       " 'and',\n",
       " 'wanted',\n",
       " 'them',\n",
       " 'to',\n",
       " 'fit',\n",
       " 'so',\n",
       " 'badly,',\n",
       " 'but',\n",
       " 'i',\n",
       " 'could',\n",
       " 'tell',\n",
       " 'before',\n",
       " 'i',\n",
       " 'put',\n",
       " 'them',\n",
       " 'on',\n",
       " 'that',\n",
       " 'they',\n",
       " \"wouldn't.\",\n",
       " 'these',\n",
       " 'are',\n",
       " 'for',\n",
       " 'an',\n",
       " 'hour-glass',\n",
       " 'figure.',\n",
       " 'i',\n",
       " 'am',\n",
       " 'more',\n",
       " 'straight',\n",
       " 'up',\n",
       " 'and',\n",
       " 'down.',\n",
       " 'the',\n",
       " 'waist',\n",
       " 'was',\n",
       " 'way',\n",
       " 'too',\n",
       " 'small',\n",
       " 'for',\n",
       " 'my',\n",
       " 'body',\n",
       " 'shape',\n",
       " 'and',\n",
       " 'even',\n",
       " 'if',\n",
       " 'i',\n",
       " 'sized',\n",
       " 'up,',\n",
       " ...]"
      ]
     },
     "execution_count": 32,
     "metadata": {},
     "output_type": "execute_result"
    }
   ],
   "source": [
    "text"
   ]
  },
  {
   "cell_type": "markdown",
   "metadata": {},
   "source": [
    "14. Division Name"
   ]
  },
  {
   "cell_type": "code",
   "execution_count": 33,
   "metadata": {},
   "outputs": [
    {
     "data": {
      "text/plain": [
       "Text(0.5, 1.0, 'Distribution of Division Name')"
      ]
     },
     "execution_count": 33,
     "metadata": {},
     "output_type": "execute_result"
    },
    {
     "data": {
      "image/png": "[encoded data removed]",
      "text/plain": [
       "<Figure size 792x360 with 1 Axes>"
      ]
     },
     "metadata": {},
     "output_type": "display_data"
    }
   ],
   "source": [
    "#Frequency distribution of division name\n",
    "sns.countplot(x='Division Name',data=df)\n",
    "plt.xlabel('Division Name',size =14)\n",
    "plt.title(\"Distribution of Division Name\",size=16)"
   ]
  },
  {
   "cell_type": "code",
   "execution_count": 34,
   "metadata": {},
   "outputs": [
    {
     "data": {
      "text/plain": [
       "General           58.971302\n",
       "General Petite    34.573789\n",
       "Initmates          6.395299\n",
       "Name: Division Name, dtype: float64"
      ]
     },
     "execution_count": 34,
     "metadata": {},
     "output_type": "execute_result"
    }
   ],
   "source": [
    "df['Division Name'].value_counts()/len(df)*100"
   ]
  },
  {
   "cell_type": "markdown",
   "metadata": {},
   "source": [
    "Observation: 59% of the records contain Devision name <b>General</b>, 35% contain <b>General Petite</b> and 6% of the records contain <b>Initmates</b>"
   ]
  },
  {
   "cell_type": "markdown",
   "metadata": {},
   "source": [
    "15. Class Name"
   ]
  },
  {
   "cell_type": "code",
   "execution_count": 35,
   "metadata": {},
   "outputs": [
    {
     "data": {
      "text/plain": [
       "(array([ 0,  1,  2,  3,  4,  5,  6,  7,  8,  9, 10, 11, 12, 13, 14, 15, 16,\n",
       "        17, 18, 19]),\n",
       " <a list of 20 Text major ticklabel objects>)"
      ]
     },
     "execution_count": 35,
     "metadata": {},
     "output_type": "execute_result"
    },
    {
     "data": {
      "image/png": "[encoded data removed]",
      "text/plain": [
       "<Figure size 792x360 with 1 Axes>"
      ]
     },
     "metadata": {},
     "output_type": "display_data"
    }
   ],
   "source": [
    "#Frequency distribution of class name\n",
    "sns.countplot(x='Class Name',data=df)\n",
    "plt.title(\"Distribution of Class Name\",size=16)\n",
    "plt.xlabel('Class Name',size=14)\n",
    "plt.xticks(rotation=50)"
   ]
  },
  {
   "cell_type": "code",
   "execution_count": 36,
   "metadata": {},
   "outputs": [
    {
     "data": {
      "text/plain": [
       "Dresses           26.905390\n",
       "Knits             20.620795\n",
       "Blouses           13.186579\n",
       "Sweaters           6.080218\n",
       "Pants              5.909904\n",
       "Jeans              4.883761\n",
       "Fine gauge         4.683641\n",
       "Skirts             4.023674\n",
       "Jackets            2.997530\n",
       "Lounge             2.942178\n",
       "Swim               1.490250\n",
       "Outerwear          1.396577\n",
       "Shorts             1.349740\n",
       "Sleep              0.970791\n",
       "Legwear            0.702546\n",
       "Intimates          0.655710\n",
       "Layering           0.621647\n",
       "Trend              0.506685\n",
       "Casual bottoms     0.008516\n",
       "Chemises           0.004258\n",
       "Name: Class Name, dtype: float64"
      ]
     },
     "execution_count": 36,
     "metadata": {},
     "output_type": "execute_result"
    }
   ],
   "source": [
    "df['Class Name'].value_counts()/len(df)*100"
   ]
  },
  {
   "cell_type": "markdown",
   "metadata": {},
   "source": [
    "Observation: Dresses are reviewd the most, followed by Knits"
   ]
  },
  {
   "cell_type": "markdown",
   "metadata": {},
   "source": [
    "### Bi-variate Analysis"
   ]
  },
  {
   "cell_type": "markdown",
   "metadata": {},
   "source": [
    "1. Do Ratings vary with Age group?"
   ]
  },
  {
   "cell_type": "code",
   "execution_count": 37,
   "metadata": {},
   "outputs": [
    {
     "data": {
      "text/plain": [
       "<matplotlib.axes._subplots.AxesSubplot at 0x14575b98>"
      ]
     },
     "execution_count": 37,
     "metadata": {},
     "output_type": "execute_result"
    },
    {
     "data": {
      "image/png": "[encoded data removed]",
      "text/plain": [
       "<Figure size 720x432 with 1 Axes>"
      ]
     },
     "metadata": {},
     "output_type": "display_data"
    }
   ],
   "source": [
    "fig,ax=plt.subplots(figsize=(10,6))\n",
    "sns.boxplot(x='Rating',y='Age',data = df)"
   ]
  },
  {
   "cell_type": "markdown",
   "metadata": {},
   "source": []
  },
  {
   "cell_type": "markdown",
   "metadata": {},
   "source": [
    "1. Recommendation should be highly correlated with the Rating"
   ]
  },
  {
   "cell_type": "code",
   "execution_count": 38,
   "metadata": {},
   "outputs": [
    {
     "data": {
      "text/html": [
       "<div>\n",
       "<style scoped>\n",
       "    .dataframe tbody tr th:only-of-type {\n",
       "        vertical-align: middle;\n",
       "    }\n",
       "\n",
       "    .dataframe tbody tr th {\n",
       "        vertical-align: top;\n",
       "    }\n",
       "\n",
       "    .dataframe thead th {\n",
       "        text-align: right;\n",
       "    }\n",
       "</style>\n",
       "<table border=\"1\" class=\"dataframe\">\n",
       "  <thead>\n",
       "    <tr style=\"text-align: right;\">\n",
       "      <th>Recommended IND</th>\n",
       "      <th>0</th>\n",
       "      <th>1</th>\n",
       "    </tr>\n",
       "    <tr>\n",
       "      <th>Rating</th>\n",
       "      <th></th>\n",
       "      <th></th>\n",
       "    </tr>\n",
       "  </thead>\n",
       "  <tbody>\n",
       "    <tr>\n",
       "      <th>1</th>\n",
       "      <td>826</td>\n",
       "      <td>16</td>\n",
       "    </tr>\n",
       "    <tr>\n",
       "      <th>2</th>\n",
       "      <td>1471</td>\n",
       "      <td>94</td>\n",
       "    </tr>\n",
       "    <tr>\n",
       "      <th>3</th>\n",
       "      <td>1682</td>\n",
       "      <td>1189</td>\n",
       "    </tr>\n",
       "    <tr>\n",
       "      <th>4</th>\n",
       "      <td>168</td>\n",
       "      <td>4909</td>\n",
       "    </tr>\n",
       "    <tr>\n",
       "      <th>5</th>\n",
       "      <td>25</td>\n",
       "      <td>13106</td>\n",
       "    </tr>\n",
       "  </tbody>\n",
       "</table>\n",
       "</div>"
      ],
      "text/plain": [
       "Recommended IND     0      1\n",
       "Rating                      \n",
       "1                 826     16\n",
       "2                1471     94\n",
       "3                1682   1189\n",
       "4                 168   4909\n",
       "5                  25  13106"
      ]
     },
     "execution_count": 38,
     "metadata": {},
     "output_type": "execute_result"
    }
   ],
   "source": [
    "pd.crosstab(df['Rating'], df['Recommended IND'])"
   ]
  },
  {
   "cell_type": "code",
   "execution_count": 39,
   "metadata": {},
   "outputs": [
    {
     "data": {
      "text/html": [
       "<div>\n",
       "<style scoped>\n",
       "    .dataframe tbody tr th:only-of-type {\n",
       "        vertical-align: middle;\n",
       "    }\n",
       "\n",
       "    .dataframe tbody tr th {\n",
       "        vertical-align: top;\n",
       "    }\n",
       "\n",
       "    .dataframe thead th {\n",
       "        text-align: right;\n",
       "    }\n",
       "</style>\n",
       "<table border=\"1\" class=\"dataframe\">\n",
       "  <thead>\n",
       "    <tr style=\"text-align: right;\">\n",
       "      <th>Recommended IND</th>\n",
       "      <th>0</th>\n",
       "      <th>1</th>\n",
       "    </tr>\n",
       "    <tr>\n",
       "      <th>Rating</th>\n",
       "      <th></th>\n",
       "      <th></th>\n",
       "    </tr>\n",
       "  </thead>\n",
       "  <tbody>\n",
       "    <tr>\n",
       "      <th>1</th>\n",
       "      <td>0.980998</td>\n",
       "      <td>0.019002</td>\n",
       "    </tr>\n",
       "    <tr>\n",
       "      <th>2</th>\n",
       "      <td>0.939936</td>\n",
       "      <td>0.060064</td>\n",
       "    </tr>\n",
       "    <tr>\n",
       "      <th>3</th>\n",
       "      <td>0.585859</td>\n",
       "      <td>0.414141</td>\n",
       "    </tr>\n",
       "    <tr>\n",
       "      <th>4</th>\n",
       "      <td>0.033090</td>\n",
       "      <td>0.966910</td>\n",
       "    </tr>\n",
       "    <tr>\n",
       "      <th>5</th>\n",
       "      <td>0.001904</td>\n",
       "      <td>0.998096</td>\n",
       "    </tr>\n",
       "  </tbody>\n",
       "</table>\n",
       "</div>"
      ],
      "text/plain": [
       "Recommended IND         0         1\n",
       "Rating                             \n",
       "1                0.980998  0.019002\n",
       "2                0.939936  0.060064\n",
       "3                0.585859  0.414141\n",
       "4                0.033090  0.966910\n",
       "5                0.001904  0.998096"
      ]
     },
     "execution_count": 39,
     "metadata": {},
     "output_type": "execute_result"
    }
   ],
   "source": [
    "pd.crosstab(df['Rating'],df['Recommended IND']).apply(lambda x: x/x.sum(),axis = 1)"
   ]
  },
  {
   "cell_type": "code",
   "execution_count": 40,
   "metadata": {},
   "outputs": [
    {
     "data": {
      "text/plain": [
       "<matplotlib.axes._subplots.AxesSubplot at 0x1710c418>"
      ]
     },
     "execution_count": 40,
     "metadata": {},
     "output_type": "execute_result"
    },
    {
     "data": {
      "image/png": "[encoded data removed]",
      "text/plain": [
       "<Figure size 720x432 with 1 Axes>"
      ]
     },
     "metadata": {},
     "output_type": "display_data"
    }
   ],
   "source": [
    "fig,ax = plt.subplots(figsize = (10,6))\n",
    "sns.countplot(x= 'Rating', hue = 'Recommended IND', data = df )"
   ]
  },
  {
   "cell_type": "markdown",
   "metadata": {},
   "source": [
    "Observation: The graph suggests Items with lower rating are not recommended (0) and those of higher rating are recommended (1)."
   ]
  },
  {
   "cell_type": "markdown",
   "metadata": {},
   "source": [
    "2. Does Division name affect Recommendation?"
   ]
  },
  {
   "cell_type": "code",
   "execution_count": 41,
   "metadata": {},
   "outputs": [
    {
     "data": {
      "text/plain": [
       "<matplotlib.axes._subplots.AxesSubplot at 0x174b35b0>"
      ]
     },
     "execution_count": 41,
     "metadata": {},
     "output_type": "execute_result"
    },
    {
     "data": {
      "image/png": "[encoded data removed]",
      "text/plain": [
       "<Figure size 792x360 with 1 Axes>"
      ]
     },
     "metadata": {},
     "output_type": "display_data"
    }
   ],
   "source": [
    "sns.countplot(x='Division Name', hue = 'Recommended IND', data = df)"
   ]
  },
  {
   "cell_type": "markdown",
   "metadata": {},
   "source": [
    "3. Do women rate different Divisions differently?"
   ]
  },
  {
   "cell_type": "code",
   "execution_count": 84,
   "metadata": {},
   "outputs": [
    {
     "data": {
      "text/plain": [
       "<matplotlib.axes._subplots.AxesSubplot at 0x1caf5d00>"
      ]
     },
     "execution_count": 84,
     "metadata": {},
     "output_type": "execute_result"
    },
    {
     "data": {
      "image/png": "[encoded data removed]",
      "text/plain": [
       "<Figure size 792x360 with 1 Axes>"
      ]
     },
     "metadata": {},
     "output_type": "display_data"
    }
   ],
   "source": [
    "sns.countplot(x= 'Division Name', hue = 'Rating', data = df)"
   ]
  },
  {
   "cell_type": "markdown",
   "metadata": {},
   "source": [
    "Observation: Majority of the reviews are for General wear, majority of the ratings are high"
   ]
  },
  {
   "cell_type": "markdown",
   "metadata": {},
   "source": [
    "4. Which department is recommended and which is not?"
   ]
  },
  {
   "cell_type": "code",
   "execution_count": 42,
   "metadata": {},
   "outputs": [
    {
     "data": {
      "text/plain": [
       "<matplotlib.axes._subplots.AxesSubplot at 0x174f5748>"
      ]
     },
     "execution_count": 42,
     "metadata": {},
     "output_type": "execute_result"
    },
    {
     "data": {
      "image/png": "[encoded data removed]",
      "text/plain": [
       "<Figure size 576x432 with 1 Axes>"
      ]
     },
     "metadata": {},
     "output_type": "display_data"
    }
   ],
   "source": [
    "fig,ax= plt.subplots(figsize=(8,6))\n",
    "sns.countplot(x= 'Department Name',hue = 'Recommended IND', data = df)"
   ]
  },
  {
   "cell_type": "code",
   "execution_count": 95,
   "metadata": {},
   "outputs": [
    {
     "data": {
      "text/plain": [
       "Text(0, 0.5, 'Number of Reviews')"
      ]
     },
     "execution_count": 95,
     "metadata": {},
     "output_type": "execute_result"
    },
    {
     "data": {
      "image/png": "[encoded data removed]",
      "text/plain": [
       "<Figure size 720x432 with 1 Axes>"
      ]
     },
     "metadata": {},
     "output_type": "display_data"
    }
   ],
   "source": [
    "fig,ax= plt.subplots(figsize=(10,6))\n",
    "sns.countplot(x= 'Department Name',hue = 'Rating', data = df)\n",
    "plt.xlabel('Department Name', size = 15)\n",
    "plt.ylabel('Number of Reviews', size =15)"
   ]
  },
  {
   "cell_type": "code",
   "execution_count": 43,
   "metadata": {},
   "outputs": [
    {
     "data": {
      "text/html": [
       "<div>\n",
       "<style scoped>\n",
       "    .dataframe tbody tr th:only-of-type {\n",
       "        vertical-align: middle;\n",
       "    }\n",
       "\n",
       "    .dataframe tbody tr th {\n",
       "        vertical-align: top;\n",
       "    }\n",
       "\n",
       "    .dataframe thead th {\n",
       "        text-align: right;\n",
       "    }\n",
       "</style>\n",
       "<table border=\"1\" class=\"dataframe\">\n",
       "  <thead>\n",
       "    <tr style=\"text-align: right;\">\n",
       "      <th>Recommended IND</th>\n",
       "      <th>0</th>\n",
       "      <th>1</th>\n",
       "    </tr>\n",
       "    <tr>\n",
       "      <th>Department Name</th>\n",
       "      <th></th>\n",
       "      <th></th>\n",
       "    </tr>\n",
       "  </thead>\n",
       "  <tbody>\n",
       "    <tr>\n",
       "      <th>Bottoms</th>\n",
       "      <td>0.148723</td>\n",
       "      <td>0.851277</td>\n",
       "    </tr>\n",
       "    <tr>\n",
       "      <th>Dresses</th>\n",
       "      <td>0.191803</td>\n",
       "      <td>0.808197</td>\n",
       "    </tr>\n",
       "    <tr>\n",
       "      <th>Intimate</th>\n",
       "      <td>0.149856</td>\n",
       "      <td>0.850144</td>\n",
       "    </tr>\n",
       "    <tr>\n",
       "      <th>Jackets</th>\n",
       "      <td>0.163760</td>\n",
       "      <td>0.836240</td>\n",
       "    </tr>\n",
       "    <tr>\n",
       "      <th>Tops</th>\n",
       "      <td>0.184849</td>\n",
       "      <td>0.815151</td>\n",
       "    </tr>\n",
       "    <tr>\n",
       "      <th>Trend</th>\n",
       "      <td>0.260504</td>\n",
       "      <td>0.739496</td>\n",
       "    </tr>\n",
       "  </tbody>\n",
       "</table>\n",
       "</div>"
      ],
      "text/plain": [
       "Recommended IND         0         1\n",
       "Department Name                    \n",
       "Bottoms          0.148723  0.851277\n",
       "Dresses          0.191803  0.808197\n",
       "Intimate         0.149856  0.850144\n",
       "Jackets          0.163760  0.836240\n",
       "Tops             0.184849  0.815151\n",
       "Trend            0.260504  0.739496"
      ]
     },
     "execution_count": 43,
     "metadata": {},
     "output_type": "execute_result"
    }
   ],
   "source": [
    "pd.crosstab(df['Department Name'],df['Recommended IND']).apply(lambda x: x/x.sum(),axis = 1)"
   ]
  },
  {
   "cell_type": "code",
   "execution_count": 44,
   "metadata": {},
   "outputs": [
    {
     "data": {
      "text/html": [
       "<div>\n",
       "<style scoped>\n",
       "    .dataframe tbody tr th:only-of-type {\n",
       "        vertical-align: middle;\n",
       "    }\n",
       "\n",
       "    .dataframe tbody tr th {\n",
       "        vertical-align: top;\n",
       "    }\n",
       "\n",
       "    .dataframe thead th {\n",
       "        text-align: right;\n",
       "    }\n",
       "</style>\n",
       "<table border=\"1\" class=\"dataframe\">\n",
       "  <thead>\n",
       "    <tr style=\"text-align: right;\">\n",
       "      <th>Rating</th>\n",
       "      <th>1</th>\n",
       "      <th>2</th>\n",
       "      <th>3</th>\n",
       "      <th>4</th>\n",
       "      <th>5</th>\n",
       "    </tr>\n",
       "    <tr>\n",
       "      <th>Department Name</th>\n",
       "      <th></th>\n",
       "      <th></th>\n",
       "      <th></th>\n",
       "      <th></th>\n",
       "      <th></th>\n",
       "    </tr>\n",
       "  </thead>\n",
       "  <tbody>\n",
       "    <tr>\n",
       "      <th>Bottoms</th>\n",
       "      <td>115</td>\n",
       "      <td>205</td>\n",
       "      <td>421</td>\n",
       "      <td>785</td>\n",
       "      <td>2273</td>\n",
       "    </tr>\n",
       "    <tr>\n",
       "      <th>Dresses</th>\n",
       "      <td>228</td>\n",
       "      <td>461</td>\n",
       "      <td>838</td>\n",
       "      <td>1395</td>\n",
       "      <td>3397</td>\n",
       "    </tr>\n",
       "    <tr>\n",
       "      <th>Intimate</th>\n",
       "      <td>63</td>\n",
       "      <td>90</td>\n",
       "      <td>178</td>\n",
       "      <td>371</td>\n",
       "      <td>1033</td>\n",
       "    </tr>\n",
       "    <tr>\n",
       "      <th>Jackets</th>\n",
       "      <td>49</td>\n",
       "      <td>60</td>\n",
       "      <td>91</td>\n",
       "      <td>201</td>\n",
       "      <td>631</td>\n",
       "    </tr>\n",
       "    <tr>\n",
       "      <th>Tops</th>\n",
       "      <td>376</td>\n",
       "      <td>738</td>\n",
       "      <td>1324</td>\n",
       "      <td>2299</td>\n",
       "      <td>5731</td>\n",
       "    </tr>\n",
       "    <tr>\n",
       "      <th>Trend</th>\n",
       "      <td>11</td>\n",
       "      <td>11</td>\n",
       "      <td>19</td>\n",
       "      <td>26</td>\n",
       "      <td>52</td>\n",
       "    </tr>\n",
       "  </tbody>\n",
       "</table>\n",
       "</div>"
      ],
      "text/plain": [
       "Rating             1    2     3     4     5\n",
       "Department Name                            \n",
       "Bottoms          115  205   421   785  2273\n",
       "Dresses          228  461   838  1395  3397\n",
       "Intimate          63   90   178   371  1033\n",
       "Jackets           49   60    91   201   631\n",
       "Tops             376  738  1324  2299  5731\n",
       "Trend             11   11    19    26    52"
      ]
     },
     "execution_count": 44,
     "metadata": {},
     "output_type": "execute_result"
    }
   ],
   "source": [
    "pd.crosstab(df['Department Name'],df['Rating'])"
   ]
  },
  {
   "cell_type": "code",
   "execution_count": 47,
   "metadata": {},
   "outputs": [
    {
     "data": {
      "image/png": "[encoded data removed]",
      "text/plain": [
       "<Figure size 1080x576 with 1 Axes>"
      ]
     },
     "metadata": {},
     "output_type": "display_data"
    }
   ],
   "source": [
    "####Top 50 Most Popular item\n",
    "fig = plt.figure(figsize=(15, 8))\n",
    "plt.xticks(rotation=45)\n",
    "plt.xlabel('Item ID',size=16)\n",
    "plt.ylabel('Number of Reviews')\n",
    "plt.title(\"Top 30 Popular Items\")\n",
    "df['Clothing ID'].value_counts()[:30].plot(kind='bar');"
   ]
  },
  {
   "cell_type": "code",
   "execution_count": 46,
   "metadata": {},
   "outputs": [],
   "source": [
    "correlation = df.corr()"
   ]
  },
  {
   "cell_type": "code",
   "execution_count": 19,
   "metadata": {},
   "outputs": [
    {
     "data": {
      "text/html": [
       "<div>\n",
       "<style scoped>\n",
       "    .dataframe tbody tr th:only-of-type {\n",
       "        vertical-align: middle;\n",
       "    }\n",
       "\n",
       "    .dataframe tbody tr th {\n",
       "        vertical-align: top;\n",
       "    }\n",
       "\n",
       "    .dataframe thead th {\n",
       "        text-align: right;\n",
       "    }\n",
       "</style>\n",
       "<table border=\"1\" class=\"dataframe\">\n",
       "  <thead>\n",
       "    <tr style=\"text-align: right;\">\n",
       "      <th></th>\n",
       "      <th>Unnamed: 0</th>\n",
       "      <th>Clothing ID</th>\n",
       "      <th>Age</th>\n",
       "      <th>Rating</th>\n",
       "      <th>Recommended IND</th>\n",
       "      <th>Positive Feedback Count</th>\n",
       "    </tr>\n",
       "  </thead>\n",
       "  <tbody>\n",
       "    <tr>\n",
       "      <th>Unnamed: 0</th>\n",
       "      <td>1.000000</td>\n",
       "      <td>-0.006072</td>\n",
       "      <td>-0.007749</td>\n",
       "      <td>-0.002568</td>\n",
       "      <td>-0.003887</td>\n",
       "      <td>-0.002907</td>\n",
       "    </tr>\n",
       "    <tr>\n",
       "      <th>Clothing ID</th>\n",
       "      <td>-0.006072</td>\n",
       "      <td>1.000000</td>\n",
       "      <td>0.017972</td>\n",
       "      <td>-0.018879</td>\n",
       "      <td>-0.016206</td>\n",
       "      <td>0.046356</td>\n",
       "    </tr>\n",
       "    <tr>\n",
       "      <th>Age</th>\n",
       "      <td>-0.007749</td>\n",
       "      <td>0.017972</td>\n",
       "      <td>1.000000</td>\n",
       "      <td>0.026831</td>\n",
       "      <td>0.030622</td>\n",
       "      <td>0.043079</td>\n",
       "    </tr>\n",
       "    <tr>\n",
       "      <th>Rating</th>\n",
       "      <td>-0.002568</td>\n",
       "      <td>-0.018879</td>\n",
       "      <td>0.026831</td>\n",
       "      <td>1.000000</td>\n",
       "      <td>0.792336</td>\n",
       "      <td>-0.064961</td>\n",
       "    </tr>\n",
       "    <tr>\n",
       "      <th>Recommended IND</th>\n",
       "      <td>-0.003887</td>\n",
       "      <td>-0.016206</td>\n",
       "      <td>0.030622</td>\n",
       "      <td>0.792336</td>\n",
       "      <td>1.000000</td>\n",
       "      <td>-0.069045</td>\n",
       "    </tr>\n",
       "    <tr>\n",
       "      <th>Positive Feedback Count</th>\n",
       "      <td>-0.002907</td>\n",
       "      <td>0.046356</td>\n",
       "      <td>0.043079</td>\n",
       "      <td>-0.064961</td>\n",
       "      <td>-0.069045</td>\n",
       "      <td>1.000000</td>\n",
       "    </tr>\n",
       "  </tbody>\n",
       "</table>\n",
       "</div>"
      ],
      "text/plain": [
       "                         Unnamed: 0  Clothing ID       Age    Rating  \\\n",
       "Unnamed: 0                 1.000000    -0.006072 -0.007749 -0.002568   \n",
       "Clothing ID               -0.006072     1.000000  0.017972 -0.018879   \n",
       "Age                       -0.007749     0.017972  1.000000  0.026831   \n",
       "Rating                    -0.002568    -0.018879  0.026831  1.000000   \n",
       "Recommended IND           -0.003887    -0.016206  0.030622  0.792336   \n",
       "Positive Feedback Count   -0.002907     0.046356  0.043079 -0.064961   \n",
       "\n",
       "                         Recommended IND  Positive Feedback Count  \n",
       "Unnamed: 0                     -0.003887                -0.002907  \n",
       "Clothing ID                    -0.016206                 0.046356  \n",
       "Age                             0.030622                 0.043079  \n",
       "Rating                          0.792336                -0.064961  \n",
       "Recommended IND                 1.000000                -0.069045  \n",
       "Positive Feedback Count        -0.069045                 1.000000  "
      ]
     },
     "execution_count": 19,
     "metadata": {},
     "output_type": "execute_result"
    }
   ],
   "source": [
    "correlation"
   ]
  },
  {
   "cell_type": "code",
   "execution_count": 48,
   "metadata": {},
   "outputs": [
    {
     "data": {
      "text/plain": [
       "<matplotlib.axes._subplots.AxesSubplot at 0x175d92f8>"
      ]
     },
     "execution_count": 48,
     "metadata": {},
     "output_type": "execute_result"
    },
    {
     "data": {
      "image/png": "[encoded data removed]",
      "text/plain": [
       "<Figure size 792x360 with 2 Axes>"
      ]
     },
     "metadata": {},
     "output_type": "display_data"
    }
   ],
   "source": [
    "sns.heatmap(correlation,square=True, cmap=\"YlGnBu\")"
   ]
  },
  {
   "cell_type": "markdown",
   "metadata": {},
   "source": [
    "Observation: The heatmap shows that there is a strong correlation between Rating and Recommended IND."
   ]
  },
  {
   "cell_type": "markdown",
   "metadata": {},
   "source": [
    "### Text Preprocessing"
   ]
  },
  {
   "cell_type": "code",
   "execution_count": 52,
   "metadata": {},
   "outputs": [],
   "source": [
    "import re\n",
    "def clean_and_tokenize(review):\n",
    "    text = review.lower()\n",
    "    \n",
    "    tokenizer = nltk.tokenize.TreebankWordTokenizer()\n",
    "    tokens = tokenizer.tokenize(text)\n",
    "    \n",
    "    stemmer = nltk.stem.WordNetLemmatizer()\n",
    "    text = \" \".join(stemmer.lemmatize(token) for token in tokens)\n",
    "    text = re.sub(\"[^a-z']\",\" \", text)\n",
    "    return text\n",
    "df[\"Clean_Review\"] = df[\"Review Text\"].apply(clean_and_tokenize)"
   ]
  },
  {
   "cell_type": "markdown",
   "metadata": {},
   "source": [
    "df.head()"
   ]
  },
  {
   "cell_type": "markdown",
   "metadata": {},
   "source": [
    "### Feature Engineering"
   ]
  },
  {
   "cell_type": "code",
   "execution_count": 78,
   "metadata": {},
   "outputs": [],
   "source": [
    "#deleting unnamed column as it contains serial number\n",
    "df.drop(df.columns[0],inplace=True, axis=1)"
   ]
  },
  {
   "cell_type": "markdown",
   "metadata": {},
   "source": [
    "There are only 0.059% values missing in the columns Department Name, "
   ]
  },
  {
   "cell_type": "code",
   "execution_count": 79,
   "metadata": {},
   "outputs": [],
   "source": [
    "#filling null values of Department name with most frequent values in the column\n",
    "df['Department Name'].fillna(df[\"Department Name\"].describe().top, inplace = True)"
   ]
  },
  {
   "cell_type": "code",
   "execution_count": null,
   "metadata": {},
   "outputs": [],
   "source": []
  },
  {
   "cell_type": "code",
   "execution_count": 80,
   "metadata": {},
   "outputs": [
    {
     "data": {
      "text/html": [
       "<div>\n",
       "<style scoped>\n",
       "    .dataframe tbody tr th:only-of-type {\n",
       "        vertical-align: middle;\n",
       "    }\n",
       "\n",
       "    .dataframe tbody tr th {\n",
       "        vertical-align: top;\n",
       "    }\n",
       "\n",
       "    .dataframe thead th {\n",
       "        text-align: right;\n",
       "    }\n",
       "</style>\n",
       "<table border=\"1\" class=\"dataframe\">\n",
       "  <thead>\n",
       "    <tr style=\"text-align: right;\">\n",
       "      <th></th>\n",
       "      <th>Age</th>\n",
       "      <th>Title</th>\n",
       "      <th>Review Text</th>\n",
       "      <th>Rating</th>\n",
       "      <th>Recommended IND</th>\n",
       "      <th>Positive Feedback Count</th>\n",
       "      <th>Division Name</th>\n",
       "      <th>Department Name</th>\n",
       "      <th>Class Name</th>\n",
       "      <th>Clean_Review</th>\n",
       "      <th>Sentiment</th>\n",
       "    </tr>\n",
       "  </thead>\n",
       "  <tbody>\n",
       "    <tr>\n",
       "      <th>0</th>\n",
       "      <td>33</td>\n",
       "      <td>NaN</td>\n",
       "      <td>Absolutely wonderful - silky and sexy and comf...</td>\n",
       "      <td>4</td>\n",
       "      <td>1</td>\n",
       "      <td>0</td>\n",
       "      <td>Initmates</td>\n",
       "      <td>Intimate</td>\n",
       "      <td>Intimates</td>\n",
       "      <td>absolutely wonderful   silky and sexy and comf...</td>\n",
       "      <td>True</td>\n",
       "    </tr>\n",
       "    <tr>\n",
       "      <th>1</th>\n",
       "      <td>34</td>\n",
       "      <td>NaN</td>\n",
       "      <td>Love this dress!  it's sooo pretty.  i happene...</td>\n",
       "      <td>5</td>\n",
       "      <td>1</td>\n",
       "      <td>4</td>\n",
       "      <td>General</td>\n",
       "      <td>Dresses</td>\n",
       "      <td>Dresses</td>\n",
       "      <td>love this dress   it 's sooo pretty  i happene...</td>\n",
       "      <td>True</td>\n",
       "    </tr>\n",
       "    <tr>\n",
       "      <th>3</th>\n",
       "      <td>50</td>\n",
       "      <td>My favorite buy!</td>\n",
       "      <td>I love, love, love this jumpsuit. it's fun, fl...</td>\n",
       "      <td>5</td>\n",
       "      <td>1</td>\n",
       "      <td>0</td>\n",
       "      <td>General Petite</td>\n",
       "      <td>Bottoms</td>\n",
       "      <td>Pants</td>\n",
       "      <td>i love   love   love this jumpsuit  it 's fun ...</td>\n",
       "      <td>True</td>\n",
       "    </tr>\n",
       "    <tr>\n",
       "      <th>4</th>\n",
       "      <td>47</td>\n",
       "      <td>Flattering shirt</td>\n",
       "      <td>This shirt is very flattering to all due to th...</td>\n",
       "      <td>5</td>\n",
       "      <td>1</td>\n",
       "      <td>6</td>\n",
       "      <td>General</td>\n",
       "      <td>Tops</td>\n",
       "      <td>Blouses</td>\n",
       "      <td>this shirt is very flattering to all due to th...</td>\n",
       "      <td>True</td>\n",
       "    </tr>\n",
       "    <tr>\n",
       "      <th>5</th>\n",
       "      <td>49</td>\n",
       "      <td>Not for the very petite</td>\n",
       "      <td>I love tracy reese dresses, but this one is no...</td>\n",
       "      <td>2</td>\n",
       "      <td>0</td>\n",
       "      <td>4</td>\n",
       "      <td>General</td>\n",
       "      <td>Dresses</td>\n",
       "      <td>Dresses</td>\n",
       "      <td>i love tracy reese dress   but this one is not...</td>\n",
       "      <td>False</td>\n",
       "    </tr>\n",
       "  </tbody>\n",
       "</table>\n",
       "</div>"
      ],
      "text/plain": [
       "   Age                    Title  \\\n",
       "0   33                      NaN   \n",
       "1   34                      NaN   \n",
       "3   50         My favorite buy!   \n",
       "4   47         Flattering shirt   \n",
       "5   49  Not for the very petite   \n",
       "\n",
       "                                         Review Text  Rating  Recommended IND  \\\n",
       "0  Absolutely wonderful - silky and sexy and comf...       4                1   \n",
       "1  Love this dress!  it's sooo pretty.  i happene...       5                1   \n",
       "3  I love, love, love this jumpsuit. it's fun, fl...       5                1   \n",
       "4  This shirt is very flattering to all due to th...       5                1   \n",
       "5  I love tracy reese dresses, but this one is no...       2                0   \n",
       "\n",
       "   Positive Feedback Count   Division Name Department Name Class Name  \\\n",
       "0                        0       Initmates        Intimate  Intimates   \n",
       "1                        4         General         Dresses    Dresses   \n",
       "3                        0  General Petite         Bottoms      Pants   \n",
       "4                        6         General            Tops    Blouses   \n",
       "5                        4         General         Dresses    Dresses   \n",
       "\n",
       "                                        Clean_Review  Sentiment  \n",
       "0  absolutely wonderful   silky and sexy and comf...       True  \n",
       "1  love this dress   it 's sooo pretty  i happene...       True  \n",
       "3  i love   love   love this jumpsuit  it 's fun ...       True  \n",
       "4  this shirt is very flattering to all due to th...       True  \n",
       "5  i love tracy reese dress   but this one is not...      False  "
      ]
     },
     "execution_count": 80,
     "metadata": {},
     "output_type": "execute_result"
    }
   ],
   "source": [
    "# Set rating flase if it is >=4 else set it as positive\n",
    "df = df[df['Rating'] !=3]\n",
    "df['Sentiment'] = df['Rating'] >=4\n",
    "df.head()\n"
   ]
  },
  {
   "cell_type": "code",
   "execution_count": 56,
   "metadata": {},
   "outputs": [],
   "source": [
    "###Set True sentiment  as positive review and False as negative review\n",
    "positive_reviews = df[df['Sentiment'] == True]\n",
    "negative_reviews = df[df['Sentiment'] == False]"
   ]
  },
  {
   "cell_type": "markdown",
   "metadata": {},
   "source": [
    "### Model Training"
   ]
  },
  {
   "cell_type": "code",
   "execution_count": 59,
   "metadata": {},
   "outputs": [],
   "source": [
    "vectorizer = CountVectorizer()\n",
    "X = vectorizer.fit_transform(df['Review Text'])\n",
    "y = df['Recommended IND']"
   ]
  },
  {
   "cell_type": "code",
   "execution_count": 71,
   "metadata": {},
   "outputs": [],
   "source": [
    "X_train,X_test,y_train,y_test = train_test_split(X,y,test_size=0.25,random_state=0)"
   ]
  },
  {
   "cell_type": "markdown",
   "metadata": {},
   "source": [
    "Applying Logistic Regression"
   ]
  },
  {
   "cell_type": "code",
   "execution_count": 72,
   "metadata": {},
   "outputs": [
    {
     "name": "stderr",
     "output_type": "stream",
     "text": [
      "c:\\users\\sj\\appdata\\local\\programs\\python\\python38-32\\lib\\site-packages\\sklearn\\linear_model\\_logistic.py:938: ConvergenceWarning: lbfgs failed to converge (status=1):\n",
      "STOP: TOTAL NO. of ITERATIONS REACHED LIMIT.\n",
      "\n",
      "Increase the number of iterations (max_iter) or scale the data as shown in:\n",
      "    https://scikit-learn.org/stable/modules/preprocessing.html\n",
      "Please also refer to the documentation for alternative solver options:\n",
      "    https://scikit-learn.org/stable/modules/linear_model.html#logistic-regression\n",
      "  n_iter_i = _check_optimize_result(\n"
     ]
    },
    {
     "data": {
      "text/plain": [
       "LogisticRegression(C=1.0, class_weight=None, dual=False, fit_intercept=True,\n",
       "                   intercept_scaling=1, l1_ratio=None, max_iter=100,\n",
       "                   multi_class='auto', n_jobs=None, penalty='l2',\n",
       "                   random_state=None, solver='lbfgs', tol=0.0001, verbose=0,\n",
       "                   warm_start=False)"
      ]
     },
     "execution_count": 72,
     "metadata": {},
     "output_type": "execute_result"
    }
   ],
   "source": [
    "lr = LogisticRegression()\n",
    "lr.fit(X_train,y_train)"
   ]
  },
  {
   "cell_type": "code",
   "execution_count": 73,
   "metadata": {},
   "outputs": [],
   "source": [
    "lr_pred = lr.predict(X_test)"
   ]
  },
  {
   "cell_type": "code",
   "execution_count": 74,
   "metadata": {},
   "outputs": [
    {
     "data": {
      "text/plain": [
       "array([[ 366,  231],\n",
       "       [ 110, 4447]], dtype=int64)"
      ]
     },
     "execution_count": 74,
     "metadata": {},
     "output_type": "execute_result"
    }
   ],
   "source": [
    "from sklearn.metrics import confusion_matrix \n",
    "cm = confusion_matrix(y_test,lr_pred)\n",
    "cm"
   ]
  },
  {
   "cell_type": "code",
   "execution_count": 75,
   "metadata": {},
   "outputs": [
    {
     "data": {
      "text/plain": [
       "0.9338377958866899"
      ]
     },
     "execution_count": 75,
     "metadata": {},
     "output_type": "execute_result"
    }
   ],
   "source": [
    "from sklearn.metrics import accuracy_score\n",
    "accuracy_score(y_test,lr_pred)"
   ]
  },
  {
   "cell_type": "code",
   "execution_count": 82,
   "metadata": {},
   "outputs": [],
   "source": [
    "# calculate the False Positive Rate and True Positive Rate for all thresholds of the classification\n",
    "from sklearn import metrics\n",
    "probs = lr.predict_proba(X_test)\n",
    "preds = probs[:,1]\n",
    "fpr, tpr, threshold = metrics.roc_curve(y_test, preds)\n",
    "roc_auc = metrics.auc(fpr, tpr)"
   ]
  },
  {
   "cell_type": "code",
   "execution_count": 83,
   "metadata": {},
   "outputs": [
    {
     "data": {
      "image/png": "[encoded data removed]",
      "text/plain": [
       "<Figure size 792x360 with 1 Axes>"
      ]
     },
     "metadata": {},
     "output_type": "display_data"
    }
   ],
   "source": [
    "plt.title('Receiver Operating Characteristic')\n",
    "plt.plot(fpr, tpr, 'b', label = 'AUC = %0.2f' % roc_auc)\n",
    "plt.legend(loc = 'lower right')\n",
    "plt.plot([0, 1], [0, 1],'r--')\n",
    "plt.xlim([0, 1])\n",
    "plt.ylim([0, 1])\n",
    "plt.ylabel('True Positive Rate')\n",
    "plt.xlabel('False Positive Rate')\n",
    "plt.show()"
   ]
  },
  {
   "cell_type": "code",
   "execution_count": null,
   "metadata": {},
   "outputs": [],
   "source": []
  }
 ],
 "metadata": {
  "kernelspec": {
   "display_name": "Python 3",
   "language": "python",
   "name": "python3"
  },
  "language_info": {
   "codemirror_mode": {
    "name": "ipython",
    "version": 3
   },
   "file_extension": ".py",
   "mimetype": "text/x-python",
   "name": "python",
   "nbconvert_exporter": "python",
   "pygments_lexer": "ipython3",
   "version": "3.8.2"
  }
 },
 "nbformat": 4,
 "nbformat_minor": 4
}
