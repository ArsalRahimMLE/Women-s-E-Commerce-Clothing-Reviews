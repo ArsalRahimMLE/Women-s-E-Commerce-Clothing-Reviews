{
 "cells": [
  {
   "cell_type": "markdown",
   "metadata": {},
   "source": [
    "Objective:   \n",
    "To explore sentiments of the customers by analysing reviews from an anonymized women’s clothing E-commerce platform"
   ]
  },
  {
   "cell_type": "markdown",
   "metadata": {},
   "source": [
    "## Imports"
   ]
  },
  {
   "cell_type": "code",
   "execution_count": 94,
   "metadata": {},
   "outputs": [],
   "source": [
    "import pandas as pd\n",
    "import numpy as np\n",
    "import nltk\n",
    "import re\n",
    "import matplotlib.pyplot as plt\n",
    "import seaborn as sns\n",
    "import datetime as dt\n",
    "from sklearn.feature_extraction.text import CountVectorizer\n",
    "from sklearn.model_selection import train_test_split\n",
    "from sklearn.naive_bayes import MultinomialNB\n",
    "from sklearn.svm import SVC\n",
    "from sklearn.metrics import confusion_matrix\n",
    "import sklearn.metrics as mt\n",
    "import nltk\n",
    "from sklearn.linear_model import LogisticRegression"
   ]
  },
  {
   "cell_type": "code",
   "execution_count": 4,
   "metadata": {},
   "outputs": [],
   "source": [
    "#loading data in pandas dataframe\n",
    "df = pd.read_csv('Womens Clothing E-Commerce Reviews.csv')"
   ]
  },
  {
   "cell_type": "code",
   "execution_count": 5,
   "metadata": {},
   "outputs": [
    {
     "data": {
      "text/html": [
       "<div>\n",
       "<style scoped>\n",
       "    .dataframe tbody tr th:only-of-type {\n",
       "        vertical-align: middle;\n",
       "    }\n",
       "\n",
       "    .dataframe tbody tr th {\n",
       "        vertical-align: top;\n",
       "    }\n",
       "\n",
       "    .dataframe thead th {\n",
       "        text-align: right;\n",
       "    }\n",
       "</style>\n",
       "<table border=\"1\" class=\"dataframe\">\n",
       "  <thead>\n",
       "    <tr style=\"text-align: right;\">\n",
       "      <th></th>\n",
       "      <th>Unnamed: 0</th>\n",
       "      <th>Clothing ID</th>\n",
       "      <th>Age</th>\n",
       "      <th>Title</th>\n",
       "      <th>Review Text</th>\n",
       "      <th>Rating</th>\n",
       "      <th>Recommended IND</th>\n",
       "      <th>Positive Feedback Count</th>\n",
       "      <th>Division Name</th>\n",
       "      <th>Department Name</th>\n",
       "      <th>Class Name</th>\n",
       "    </tr>\n",
       "  </thead>\n",
       "  <tbody>\n",
       "    <tr>\n",
       "      <th>0</th>\n",
       "      <td>0</td>\n",
       "      <td>767</td>\n",
       "      <td>33</td>\n",
       "      <td>NaN</td>\n",
       "      <td>Absolutely wonderful - silky and sexy and comf...</td>\n",
       "      <td>4</td>\n",
       "      <td>1</td>\n",
       "      <td>0</td>\n",
       "      <td>Initmates</td>\n",
       "      <td>Intimate</td>\n",
       "      <td>Intimates</td>\n",
       "    </tr>\n",
       "    <tr>\n",
       "      <th>1</th>\n",
       "      <td>1</td>\n",
       "      <td>1080</td>\n",
       "      <td>34</td>\n",
       "      <td>NaN</td>\n",
       "      <td>Love this dress!  it's sooo pretty.  i happene...</td>\n",
       "      <td>5</td>\n",
       "      <td>1</td>\n",
       "      <td>4</td>\n",
       "      <td>General</td>\n",
       "      <td>Dresses</td>\n",
       "      <td>Dresses</td>\n",
       "    </tr>\n",
       "    <tr>\n",
       "      <th>2</th>\n",
       "      <td>2</td>\n",
       "      <td>1077</td>\n",
       "      <td>60</td>\n",
       "      <td>Some major design flaws</td>\n",
       "      <td>I had such high hopes for this dress and reall...</td>\n",
       "      <td>3</td>\n",
       "      <td>0</td>\n",
       "      <td>0</td>\n",
       "      <td>General</td>\n",
       "      <td>Dresses</td>\n",
       "      <td>Dresses</td>\n",
       "    </tr>\n",
       "    <tr>\n",
       "      <th>3</th>\n",
       "      <td>3</td>\n",
       "      <td>1049</td>\n",
       "      <td>50</td>\n",
       "      <td>My favorite buy!</td>\n",
       "      <td>I love, love, love this jumpsuit. it's fun, fl...</td>\n",
       "      <td>5</td>\n",
       "      <td>1</td>\n",
       "      <td>0</td>\n",
       "      <td>General Petite</td>\n",
       "      <td>Bottoms</td>\n",
       "      <td>Pants</td>\n",
       "    </tr>\n",
       "    <tr>\n",
       "      <th>4</th>\n",
       "      <td>4</td>\n",
       "      <td>847</td>\n",
       "      <td>47</td>\n",
       "      <td>Flattering shirt</td>\n",
       "      <td>This shirt is very flattering to all due to th...</td>\n",
       "      <td>5</td>\n",
       "      <td>1</td>\n",
       "      <td>6</td>\n",
       "      <td>General</td>\n",
       "      <td>Tops</td>\n",
       "      <td>Blouses</td>\n",
       "    </tr>\n",
       "  </tbody>\n",
       "</table>\n",
       "</div>"
      ],
      "text/plain": [
       "   Unnamed: 0  Clothing ID  Age                    Title  \\\n",
       "0           0          767   33                      NaN   \n",
       "1           1         1080   34                      NaN   \n",
       "2           2         1077   60  Some major design flaws   \n",
       "3           3         1049   50         My favorite buy!   \n",
       "4           4          847   47         Flattering shirt   \n",
       "\n",
       "                                         Review Text  Rating  Recommended IND  \\\n",
       "0  Absolutely wonderful - silky and sexy and comf...       4                1   \n",
       "1  Love this dress!  it's sooo pretty.  i happene...       5                1   \n",
       "2  I had such high hopes for this dress and reall...       3                0   \n",
       "3  I love, love, love this jumpsuit. it's fun, fl...       5                1   \n",
       "4  This shirt is very flattering to all due to th...       5                1   \n",
       "\n",
       "   Positive Feedback Count   Division Name Department Name Class Name  \n",
       "0                        0       Initmates        Intimate  Intimates  \n",
       "1                        4         General         Dresses    Dresses  \n",
       "2                        0         General         Dresses    Dresses  \n",
       "3                        0  General Petite         Bottoms      Pants  \n",
       "4                        6         General            Tops    Blouses  "
      ]
     },
     "execution_count": 5,
     "metadata": {},
     "output_type": "execute_result"
    }
   ],
   "source": [
    "df.head()"
   ]
  },
  {
   "cell_type": "code",
   "execution_count": 6,
   "metadata": {},
   "outputs": [
    {
     "name": "stdout",
     "output_type": "stream",
     "text": [
      "<class 'pandas.core.frame.DataFrame'>\n",
      "RangeIndex: 23486 entries, 0 to 23485\n",
      "Data columns (total 11 columns):\n",
      " #   Column                   Non-Null Count  Dtype \n",
      "---  ------                   --------------  ----- \n",
      " 0   Unnamed: 0               23486 non-null  int64 \n",
      " 1   Clothing ID              23486 non-null  int64 \n",
      " 2   Age                      23486 non-null  int64 \n",
      " 3   Title                    19676 non-null  object\n",
      " 4   Review Text              22641 non-null  object\n",
      " 5   Rating                   23486 non-null  int64 \n",
      " 6   Recommended IND          23486 non-null  int64 \n",
      " 7   Positive Feedback Count  23486 non-null  int64 \n",
      " 8   Division Name            23472 non-null  object\n",
      " 9   Department Name          23472 non-null  object\n",
      " 10  Class Name               23472 non-null  object\n",
      "dtypes: int64(6), object(5)\n",
      "memory usage: 1.5+ MB\n"
     ]
    }
   ],
   "source": [
    "df.info()"
   ]
  },
  {
   "cell_type": "code",
   "execution_count": 7,
   "metadata": {},
   "outputs": [
    {
     "data": {
      "text/plain": [
       "(23486, 11)"
      ]
     },
     "execution_count": 7,
     "metadata": {},
     "output_type": "execute_result"
    }
   ],
   "source": [
    "df.shape"
   ]
  },
  {
   "cell_type": "markdown",
   "metadata": {},
   "source": [
    "Observation: Dataset consists of 11 columns and 23,485 rows/records"
   ]
  },
  {
   "cell_type": "markdown",
   "metadata": {},
   "source": [
    "1. what datatypes are present in the dataset? "
   ]
  },
  {
   "cell_type": "code",
   "execution_count": 8,
   "metadata": {},
   "outputs": [
    {
     "data": {
      "text/plain": [
       "int64     6\n",
       "object    5\n",
       "dtype: int64"
      ]
     },
     "execution_count": 8,
     "metadata": {},
     "output_type": "execute_result"
    }
   ],
   "source": [
    "df.dtypes.value_counts()"
   ]
  },
  {
   "cell_type": "markdown",
   "metadata": {},
   "source": [
    "Observation: There are 6 integer and 5 object datatypes in the data"
   ]
  },
  {
   "cell_type": "markdown",
   "metadata": {},
   "source": [
    "3. What are the statistics of the data?"
   ]
  },
  {
   "cell_type": "code",
   "execution_count": 9,
   "metadata": {},
   "outputs": [
    {
     "data": {
      "text/html": [
       "<div>\n",
       "<style scoped>\n",
       "    .dataframe tbody tr th:only-of-type {\n",
       "        vertical-align: middle;\n",
       "    }\n",
       "\n",
       "    .dataframe tbody tr th {\n",
       "        vertical-align: top;\n",
       "    }\n",
       "\n",
       "    .dataframe thead th {\n",
       "        text-align: right;\n",
       "    }\n",
       "</style>\n",
       "<table border=\"1\" class=\"dataframe\">\n",
       "  <thead>\n",
       "    <tr style=\"text-align: right;\">\n",
       "      <th></th>\n",
       "      <th>Unnamed: 0</th>\n",
       "      <th>Clothing ID</th>\n",
       "      <th>Age</th>\n",
       "      <th>Rating</th>\n",
       "      <th>Recommended IND</th>\n",
       "      <th>Positive Feedback Count</th>\n",
       "    </tr>\n",
       "  </thead>\n",
       "  <tbody>\n",
       "    <tr>\n",
       "      <th>count</th>\n",
       "      <td>23486.000000</td>\n",
       "      <td>23486.000000</td>\n",
       "      <td>23486.000000</td>\n",
       "      <td>23486.000000</td>\n",
       "      <td>23486.000000</td>\n",
       "      <td>23486.000000</td>\n",
       "    </tr>\n",
       "    <tr>\n",
       "      <th>mean</th>\n",
       "      <td>11742.500000</td>\n",
       "      <td>918.118709</td>\n",
       "      <td>43.198544</td>\n",
       "      <td>4.196032</td>\n",
       "      <td>0.822362</td>\n",
       "      <td>2.535936</td>\n",
       "    </tr>\n",
       "    <tr>\n",
       "      <th>std</th>\n",
       "      <td>6779.968547</td>\n",
       "      <td>203.298980</td>\n",
       "      <td>12.279544</td>\n",
       "      <td>1.110031</td>\n",
       "      <td>0.382216</td>\n",
       "      <td>5.702202</td>\n",
       "    </tr>\n",
       "    <tr>\n",
       "      <th>min</th>\n",
       "      <td>0.000000</td>\n",
       "      <td>0.000000</td>\n",
       "      <td>18.000000</td>\n",
       "      <td>1.000000</td>\n",
       "      <td>0.000000</td>\n",
       "      <td>0.000000</td>\n",
       "    </tr>\n",
       "    <tr>\n",
       "      <th>25%</th>\n",
       "      <td>5871.250000</td>\n",
       "      <td>861.000000</td>\n",
       "      <td>34.000000</td>\n",
       "      <td>4.000000</td>\n",
       "      <td>1.000000</td>\n",
       "      <td>0.000000</td>\n",
       "    </tr>\n",
       "    <tr>\n",
       "      <th>50%</th>\n",
       "      <td>11742.500000</td>\n",
       "      <td>936.000000</td>\n",
       "      <td>41.000000</td>\n",
       "      <td>5.000000</td>\n",
       "      <td>1.000000</td>\n",
       "      <td>1.000000</td>\n",
       "    </tr>\n",
       "    <tr>\n",
       "      <th>75%</th>\n",
       "      <td>17613.750000</td>\n",
       "      <td>1078.000000</td>\n",
       "      <td>52.000000</td>\n",
       "      <td>5.000000</td>\n",
       "      <td>1.000000</td>\n",
       "      <td>3.000000</td>\n",
       "    </tr>\n",
       "    <tr>\n",
       "      <th>max</th>\n",
       "      <td>23485.000000</td>\n",
       "      <td>1205.000000</td>\n",
       "      <td>99.000000</td>\n",
       "      <td>5.000000</td>\n",
       "      <td>1.000000</td>\n",
       "      <td>122.000000</td>\n",
       "    </tr>\n",
       "  </tbody>\n",
       "</table>\n",
       "</div>"
      ],
      "text/plain": [
       "         Unnamed: 0   Clothing ID           Age        Rating  \\\n",
       "count  23486.000000  23486.000000  23486.000000  23486.000000   \n",
       "mean   11742.500000    918.118709     43.198544      4.196032   \n",
       "std     6779.968547    203.298980     12.279544      1.110031   \n",
       "min        0.000000      0.000000     18.000000      1.000000   \n",
       "25%     5871.250000    861.000000     34.000000      4.000000   \n",
       "50%    11742.500000    936.000000     41.000000      5.000000   \n",
       "75%    17613.750000   1078.000000     52.000000      5.000000   \n",
       "max    23485.000000   1205.000000     99.000000      5.000000   \n",
       "\n",
       "       Recommended IND  Positive Feedback Count  \n",
       "count     23486.000000             23486.000000  \n",
       "mean          0.822362                 2.535936  \n",
       "std           0.382216                 5.702202  \n",
       "min           0.000000                 0.000000  \n",
       "25%           1.000000                 0.000000  \n",
       "50%           1.000000                 1.000000  \n",
       "75%           1.000000                 3.000000  \n",
       "max           1.000000               122.000000  "
      ]
     },
     "execution_count": 9,
     "metadata": {},
     "output_type": "execute_result"
    }
   ],
   "source": [
    "#statistics of data\n",
    "df.describe()"
   ]
  },
  {
   "cell_type": "markdown",
   "metadata": {},
   "source": [
    "Observations:  \n",
    "1. Unnamed column contains the serial number of the reviews.  \n",
    "2. Clothing ID contains the IDs of different clothes, multiple cloths have same cloth IDs (encoded column)  \n",
    "3. Minimum Age of the reviewer is 18, maximum age is 99, most records have the ages between 40 and 50.  \n",
    "4. Recommended IND is a boolean type contains 0(Not Recommended) and 1(Recommended).  \n",
    "5. Positive Feedback Count contains count of the positive feedback, minimum positive feedback count is 0 \n"
   ]
  },
  {
   "cell_type": "code",
   "execution_count": 10,
   "metadata": {
    "scrolled": true
   },
   "outputs": [
    {
     "data": {
      "text/html": [
       "<div>\n",
       "<style scoped>\n",
       "    .dataframe tbody tr th:only-of-type {\n",
       "        vertical-align: middle;\n",
       "    }\n",
       "\n",
       "    .dataframe tbody tr th {\n",
       "        vertical-align: top;\n",
       "    }\n",
       "\n",
       "    .dataframe thead th {\n",
       "        text-align: right;\n",
       "    }\n",
       "</style>\n",
       "<table border=\"1\" class=\"dataframe\">\n",
       "  <thead>\n",
       "    <tr style=\"text-align: right;\">\n",
       "      <th></th>\n",
       "      <th>Title</th>\n",
       "      <th>Review Text</th>\n",
       "      <th>Division Name</th>\n",
       "      <th>Department Name</th>\n",
       "      <th>Class Name</th>\n",
       "    </tr>\n",
       "  </thead>\n",
       "  <tbody>\n",
       "    <tr>\n",
       "      <th>count</th>\n",
       "      <td>19676</td>\n",
       "      <td>22641</td>\n",
       "      <td>23472</td>\n",
       "      <td>23472</td>\n",
       "      <td>23472</td>\n",
       "    </tr>\n",
       "    <tr>\n",
       "      <th>unique</th>\n",
       "      <td>13993</td>\n",
       "      <td>22634</td>\n",
       "      <td>3</td>\n",
       "      <td>6</td>\n",
       "      <td>20</td>\n",
       "    </tr>\n",
       "    <tr>\n",
       "      <th>top</th>\n",
       "      <td>Love it!</td>\n",
       "      <td>Perfect fit and i've gotten so many compliment...</td>\n",
       "      <td>General</td>\n",
       "      <td>Tops</td>\n",
       "      <td>Dresses</td>\n",
       "    </tr>\n",
       "    <tr>\n",
       "      <th>freq</th>\n",
       "      <td>136</td>\n",
       "      <td>3</td>\n",
       "      <td>13850</td>\n",
       "      <td>10468</td>\n",
       "      <td>6319</td>\n",
       "    </tr>\n",
       "  </tbody>\n",
       "</table>\n",
       "</div>"
      ],
      "text/plain": [
       "           Title                                        Review Text  \\\n",
       "count      19676                                              22641   \n",
       "unique     13993                                              22634   \n",
       "top     Love it!  Perfect fit and i've gotten so many compliment...   \n",
       "freq         136                                                  3   \n",
       "\n",
       "       Division Name Department Name Class Name  \n",
       "count          23472           23472      23472  \n",
       "unique             3               6         20  \n",
       "top          General            Tops    Dresses  \n",
       "freq           13850           10468       6319  "
      ]
     },
     "execution_count": 10,
     "metadata": {},
     "output_type": "execute_result"
    }
   ],
   "source": [
    "#statistics of object type columns\n",
    "df.describe(include='O')"
   ]
  },
  {
   "cell_type": "markdown",
   "metadata": {},
   "source": [
    "Observations:  \n",
    "1. There are 13993 unique titles in the dataset.  \n",
    "2.  Review Text column contains the reviews written by the clients  \n",
    "3. Division Name, Department Name and Class Name are the categorical variables\n",
    "\n",
    "\n"
   ]
  },
  {
   "cell_type": "markdown",
   "metadata": {},
   "source": [
    "4. Are there any null values in the data?"
   ]
  },
  {
   "cell_type": "code",
   "execution_count": 11,
   "metadata": {},
   "outputs": [
    {
     "data": {
      "text/html": [
       "<div>\n",
       "<style scoped>\n",
       "    .dataframe tbody tr th:only-of-type {\n",
       "        vertical-align: middle;\n",
       "    }\n",
       "\n",
       "    .dataframe tbody tr th {\n",
       "        vertical-align: top;\n",
       "    }\n",
       "\n",
       "    .dataframe thead th {\n",
       "        text-align: right;\n",
       "    }\n",
       "</style>\n",
       "<table border=\"1\" class=\"dataframe\">\n",
       "  <thead>\n",
       "    <tr style=\"text-align: right;\">\n",
       "      <th></th>\n",
       "      <th>Unnamed: 0</th>\n",
       "      <th>Clothing ID</th>\n",
       "      <th>Age</th>\n",
       "      <th>Title</th>\n",
       "      <th>Review Text</th>\n",
       "      <th>Rating</th>\n",
       "      <th>Recommended IND</th>\n",
       "      <th>Positive Feedback Count</th>\n",
       "      <th>Division Name</th>\n",
       "      <th>Department Name</th>\n",
       "      <th>Class Name</th>\n",
       "    </tr>\n",
       "  </thead>\n",
       "  <tbody>\n",
       "    <tr>\n",
       "      <th>0</th>\n",
       "      <td>False</td>\n",
       "      <td>False</td>\n",
       "      <td>False</td>\n",
       "      <td>True</td>\n",
       "      <td>False</td>\n",
       "      <td>False</td>\n",
       "      <td>False</td>\n",
       "      <td>False</td>\n",
       "      <td>False</td>\n",
       "      <td>False</td>\n",
       "      <td>False</td>\n",
       "    </tr>\n",
       "    <tr>\n",
       "      <th>1</th>\n",
       "      <td>False</td>\n",
       "      <td>False</td>\n",
       "      <td>False</td>\n",
       "      <td>True</td>\n",
       "      <td>False</td>\n",
       "      <td>False</td>\n",
       "      <td>False</td>\n",
       "      <td>False</td>\n",
       "      <td>False</td>\n",
       "      <td>False</td>\n",
       "      <td>False</td>\n",
       "    </tr>\n",
       "    <tr>\n",
       "      <th>2</th>\n",
       "      <td>False</td>\n",
       "      <td>False</td>\n",
       "      <td>False</td>\n",
       "      <td>False</td>\n",
       "      <td>False</td>\n",
       "      <td>False</td>\n",
       "      <td>False</td>\n",
       "      <td>False</td>\n",
       "      <td>False</td>\n",
       "      <td>False</td>\n",
       "      <td>False</td>\n",
       "    </tr>\n",
       "    <tr>\n",
       "      <th>3</th>\n",
       "      <td>False</td>\n",
       "      <td>False</td>\n",
       "      <td>False</td>\n",
       "      <td>False</td>\n",
       "      <td>False</td>\n",
       "      <td>False</td>\n",
       "      <td>False</td>\n",
       "      <td>False</td>\n",
       "      <td>False</td>\n",
       "      <td>False</td>\n",
       "      <td>False</td>\n",
       "    </tr>\n",
       "    <tr>\n",
       "      <th>4</th>\n",
       "      <td>False</td>\n",
       "      <td>False</td>\n",
       "      <td>False</td>\n",
       "      <td>False</td>\n",
       "      <td>False</td>\n",
       "      <td>False</td>\n",
       "      <td>False</td>\n",
       "      <td>False</td>\n",
       "      <td>False</td>\n",
       "      <td>False</td>\n",
       "      <td>False</td>\n",
       "    </tr>\n",
       "    <tr>\n",
       "      <th>...</th>\n",
       "      <td>...</td>\n",
       "      <td>...</td>\n",
       "      <td>...</td>\n",
       "      <td>...</td>\n",
       "      <td>...</td>\n",
       "      <td>...</td>\n",
       "      <td>...</td>\n",
       "      <td>...</td>\n",
       "      <td>...</td>\n",
       "      <td>...</td>\n",
       "      <td>...</td>\n",
       "    </tr>\n",
       "    <tr>\n",
       "      <th>23481</th>\n",
       "      <td>False</td>\n",
       "      <td>False</td>\n",
       "      <td>False</td>\n",
       "      <td>False</td>\n",
       "      <td>False</td>\n",
       "      <td>False</td>\n",
       "      <td>False</td>\n",
       "      <td>False</td>\n",
       "      <td>False</td>\n",
       "      <td>False</td>\n",
       "      <td>False</td>\n",
       "    </tr>\n",
       "    <tr>\n",
       "      <th>23482</th>\n",
       "      <td>False</td>\n",
       "      <td>False</td>\n",
       "      <td>False</td>\n",
       "      <td>False</td>\n",
       "      <td>False</td>\n",
       "      <td>False</td>\n",
       "      <td>False</td>\n",
       "      <td>False</td>\n",
       "      <td>False</td>\n",
       "      <td>False</td>\n",
       "      <td>False</td>\n",
       "    </tr>\n",
       "    <tr>\n",
       "      <th>23483</th>\n",
       "      <td>False</td>\n",
       "      <td>False</td>\n",
       "      <td>False</td>\n",
       "      <td>False</td>\n",
       "      <td>False</td>\n",
       "      <td>False</td>\n",
       "      <td>False</td>\n",
       "      <td>False</td>\n",
       "      <td>False</td>\n",
       "      <td>False</td>\n",
       "      <td>False</td>\n",
       "    </tr>\n",
       "    <tr>\n",
       "      <th>23484</th>\n",
       "      <td>False</td>\n",
       "      <td>False</td>\n",
       "      <td>False</td>\n",
       "      <td>False</td>\n",
       "      <td>False</td>\n",
       "      <td>False</td>\n",
       "      <td>False</td>\n",
       "      <td>False</td>\n",
       "      <td>False</td>\n",
       "      <td>False</td>\n",
       "      <td>False</td>\n",
       "    </tr>\n",
       "    <tr>\n",
       "      <th>23485</th>\n",
       "      <td>False</td>\n",
       "      <td>False</td>\n",
       "      <td>False</td>\n",
       "      <td>False</td>\n",
       "      <td>False</td>\n",
       "      <td>False</td>\n",
       "      <td>False</td>\n",
       "      <td>False</td>\n",
       "      <td>False</td>\n",
       "      <td>False</td>\n",
       "      <td>False</td>\n",
       "    </tr>\n",
       "  </tbody>\n",
       "</table>\n",
       "<p>23486 rows × 11 columns</p>\n",
       "</div>"
      ],
      "text/plain": [
       "       Unnamed: 0  Clothing ID    Age  Title  Review Text  Rating  \\\n",
       "0           False        False  False   True        False   False   \n",
       "1           False        False  False   True        False   False   \n",
       "2           False        False  False  False        False   False   \n",
       "3           False        False  False  False        False   False   \n",
       "4           False        False  False  False        False   False   \n",
       "...           ...          ...    ...    ...          ...     ...   \n",
       "23481       False        False  False  False        False   False   \n",
       "23482       False        False  False  False        False   False   \n",
       "23483       False        False  False  False        False   False   \n",
       "23484       False        False  False  False        False   False   \n",
       "23485       False        False  False  False        False   False   \n",
       "\n",
       "       Recommended IND  Positive Feedback Count  Division Name  \\\n",
       "0                False                    False          False   \n",
       "1                False                    False          False   \n",
       "2                False                    False          False   \n",
       "3                False                    False          False   \n",
       "4                False                    False          False   \n",
       "...                ...                      ...            ...   \n",
       "23481            False                    False          False   \n",
       "23482            False                    False          False   \n",
       "23483            False                    False          False   \n",
       "23484            False                    False          False   \n",
       "23485            False                    False          False   \n",
       "\n",
       "       Department Name  Class Name  \n",
       "0                False       False  \n",
       "1                False       False  \n",
       "2                False       False  \n",
       "3                False       False  \n",
       "4                False       False  \n",
       "...                ...         ...  \n",
       "23481            False       False  \n",
       "23482            False       False  \n",
       "23483            False       False  \n",
       "23484            False       False  \n",
       "23485            False       False  \n",
       "\n",
       "[23486 rows x 11 columns]"
      ]
     },
     "execution_count": 11,
     "metadata": {},
     "output_type": "execute_result"
    }
   ],
   "source": [
    "df.isnull()"
   ]
  },
  {
   "cell_type": "code",
   "execution_count": 12,
   "metadata": {},
   "outputs": [
    {
     "data": {
      "text/plain": [
       "Unnamed: 0                    0\n",
       "Clothing ID                   0\n",
       "Age                           0\n",
       "Title                      3810\n",
       "Review Text                 845\n",
       "Rating                        0\n",
       "Recommended IND               0\n",
       "Positive Feedback Count       0\n",
       "Division Name                14\n",
       "Department Name              14\n",
       "Class Name                   14\n",
       "dtype: int64"
      ]
     },
     "execution_count": 12,
     "metadata": {},
     "output_type": "execute_result"
    }
   ],
   "source": [
    "#Sum of the null values in the columns \n",
    "df.isnull().sum()"
   ]
  },
  {
   "cell_type": "code",
   "execution_count": 13,
   "metadata": {},
   "outputs": [
    {
     "data": {
      "text/plain": [
       "Text(0, 0.5, 'Count of Missing Values')"
      ]
     },
     "execution_count": 13,
     "metadata": {},
     "output_type": "execute_result"
    },
    {
     "data": {
      "image/png": "[encoded data removed]",
      "text/plain": [
       "<Figure size 720x432 with 1 Axes>"
      ]
     },
     "metadata": {},
     "output_type": "display_data"
    }
   ],
   "source": [
    "sns.set(rc={'figure.figsize':(10,6)})\n",
    "pd.isnull(df).sum().plot(kind='bar')\n",
    "plt.title('Missing values per Feature',size = 15)\n",
    "plt.xlabel('Column Name',size = 15)\n",
    "plt.ylabel('Count of Missing Values', size = 15)"
   ]
  },
  {
   "cell_type": "markdown",
   "metadata": {},
   "source": [
    "Observation:  \n",
    "1. Title column contains 3810 missing records  \n",
    "2. Review Text contains 845 missing records  \n",
    "3. Division Name, Department Name and Class Name contain 14 missing values each"
   ]
  },
  {
   "cell_type": "markdown",
   "metadata": {},
   "source": [
    "5. What is the percentage of null values?"
   ]
  },
  {
   "cell_type": "code",
   "execution_count": 14,
   "metadata": {},
   "outputs": [
    {
     "data": {
      "text/plain": [
       "Unnamed: 0                  0.000000\n",
       "Clothing ID                 0.000000\n",
       "Age                         0.000000\n",
       "Title                      16.222430\n",
       "Review Text                 3.597888\n",
       "Rating                      0.000000\n",
       "Recommended IND             0.000000\n",
       "Positive Feedback Count     0.000000\n",
       "Division Name               0.059610\n",
       "Department Name             0.059610\n",
       "Class Name                  0.059610\n",
       "dtype: float64"
      ]
     },
     "execution_count": 14,
     "metadata": {},
     "output_type": "execute_result"
    }
   ],
   "source": [
    "df.isnull().sum()/len(df)*100"
   ]
  },
  {
   "cell_type": "markdown",
   "metadata": {},
   "source": [
    "Observation: There are 16% missing values in Title, 3.6% in Review Text, 0.6% in Division Name, Department Name and Class Name each."
   ]
  },
  {
   "cell_type": "markdown",
   "metadata": {},
   "source": [
    "### Univariate Analysis"
   ]
  },
  {
   "cell_type": "markdown",
   "metadata": {},
   "source": [
    "6. What does the field Clothing ID contains?"
   ]
  },
  {
   "cell_type": "code",
   "execution_count": 15,
   "metadata": {},
   "outputs": [
    {
     "data": {
      "text/plain": [
       "1078    1024\n",
       "862      806\n",
       "1094     756\n",
       "1081     582\n",
       "872      545\n",
       "        ... \n",
       "792        1\n",
       "776        1\n",
       "744        1\n",
       "728        1\n",
       "0          1\n",
       "Name: Clothing ID, Length: 1206, dtype: int64"
      ]
     },
     "execution_count": 15,
     "metadata": {},
     "output_type": "execute_result"
    }
   ],
   "source": [
    "df['Clothing ID'].value_counts()"
   ]
  },
  {
   "cell_type": "code",
   "execution_count": 16,
   "metadata": {},
   "outputs": [
    {
     "data": {
      "text/plain": [
       "1206"
      ]
     },
     "execution_count": 16,
     "metadata": {},
     "output_type": "execute_result"
    }
   ],
   "source": [
    "len(df['Clothing ID'].unique())"
   ]
  },
  {
   "cell_type": "code",
   "execution_count": 17,
   "metadata": {},
   "outputs": [
    {
     "data": {
      "image/png": "[encoded data removed]",
      "text/plain": [
       "<Figure size 1080x576 with 1 Axes>"
      ]
     },
     "metadata": {},
     "output_type": "display_data"
    }
   ],
   "source": [
    "####Top 50 Most Popular item\n",
    "fig = plt.figure(figsize=(15, 8))\n",
    "plt.xticks(rotation=45)\n",
    "plt.xlabel('Item ID',size=16)\n",
    "plt.ylabel('Number of Reviews',size =15)\n",
    "plt.title(\"Top 30 Popular Items\",size=15)\n",
    "df['Clothing ID'].value_counts()[:30].plot(kind='bar');"
   ]
  },
  {
   "cell_type": "markdown",
   "metadata": {},
   "source": [
    "Observation: Clothing ID contains 1,206 unique IDs.  \n",
    "It shows that clothing ID 1078 is most reviewed.  \n",
    "This column is annonimised"
   ]
  },
  {
   "cell_type": "markdown",
   "metadata": {},
   "source": [
    "7. Exploring Ratings"
   ]
  },
  {
   "cell_type": "code",
   "execution_count": 18,
   "metadata": {},
   "outputs": [
    {
     "data": {
      "text/plain": [
       "5    13131\n",
       "4     5077\n",
       "3     2871\n",
       "2     1565\n",
       "1      842\n",
       "Name: Rating, dtype: int64"
      ]
     },
     "execution_count": 18,
     "metadata": {},
     "output_type": "execute_result"
    }
   ],
   "source": [
    "df['Rating'].value_counts()"
   ]
  },
  {
   "cell_type": "markdown",
   "metadata": {},
   "source": [
    "<b>Observation: It is an ordinal column, contains Ratings from 1 to 5. </b>"
   ]
  },
  {
   "cell_type": "code",
   "execution_count": 19,
   "metadata": {},
   "outputs": [
    {
     "data": {
      "text/plain": [
       "Text(0.5, 1.0, 'Frequency Distribution of Rating')"
      ]
     },
     "execution_count": 19,
     "metadata": {},
     "output_type": "execute_result"
    },
    {
     "data": {
      "image/png": "[encoded data removed]",
      "text/plain": [
       "<Figure size 576x432 with 1 Axes>"
      ]
     },
     "metadata": {},
     "output_type": "display_data"
    }
   ],
   "source": [
    "#visualization of ratings\n",
    "fig,ax=plt.subplots(figsize=(8,6))\n",
    "sns.countplot(df['Rating'])\n",
    "plt.xlabel('Rating',size =16)\n",
    "plt.ylabel('Count of Reviews', size =15)\n",
    "plt.title(\"Frequency Distribution of Rating\",size=15)"
   ]
  },
  {
   "cell_type": "markdown",
   "metadata": {},
   "source": [
    "<b>Observation: Most of the people have given high ratings.</b>"
   ]
  },
  {
   "cell_type": "markdown",
   "metadata": {},
   "source": [
    "7.1 What is the percentage of  different ratings"
   ]
  },
  {
   "cell_type": "code",
   "execution_count": 20,
   "metadata": {},
   "outputs": [
    {
     "data": {
      "text/plain": [
       "5    55.909904\n",
       "4    21.617134\n",
       "3    12.224304\n",
       "2     6.663544\n",
       "1     3.585115\n",
       "Name: Rating, dtype: float64"
      ]
     },
     "execution_count": 20,
     "metadata": {},
     "output_type": "execute_result"
    }
   ],
   "source": [
    "df['Rating'].value_counts()/len(df)*100"
   ]
  },
  {
   "cell_type": "markdown",
   "metadata": {},
   "source": [
    "<b>Observation: 56% records where Rating is 5,  \n",
    "    21.6% where Rating is 4,   \n",
    "    12% records are of Rating 3,  \n",
    "    6% of Rating 2 and   \n",
    "    3.5% records where Rating is 1.</b> \n"
   ]
  },
  {
   "cell_type": "markdown",
   "metadata": {},
   "source": [
    "8. What does the Title contain?"
   ]
  },
  {
   "cell_type": "code",
   "execution_count": 21,
   "metadata": {},
   "outputs": [
    {
     "data": {
      "text/plain": [
       "Love it!                               136\n",
       "Beautiful                               95\n",
       "Love                                    88\n",
       "Love!                                   84\n",
       "Beautiful!                              72\n",
       "                                      ... \n",
       "Sleek and unique but not sure . . .      1\n",
       "The sleeves.....                         1\n",
       "Everyday perfect!                        1\n",
       "Beyond boxy                              1\n",
       "Not polyester, allelujah!                1\n",
       "Name: Title, Length: 13993, dtype: int64"
      ]
     },
     "execution_count": 21,
     "metadata": {},
     "output_type": "execute_result"
    }
   ],
   "source": [
    "df['Title'].value_counts()"
   ]
  },
  {
   "cell_type": "markdown",
   "metadata": {},
   "source": [
    "<b> Observation: It can be seen from the value count of Titles that Love and Beautiful are the most frequently occuring titles. It is also observed that these titles occur with and without exclamation marks.</b>(removing the punctuations can help) "
   ]
  },
  {
   "cell_type": "code",
   "execution_count": 22,
   "metadata": {},
   "outputs": [
    {
     "data": {
      "text/plain": [
       "True     83.77757\n",
       "False    16.22243\n",
       "Name: Title, dtype: float64"
      ]
     },
     "execution_count": 22,
     "metadata": {},
     "output_type": "execute_result"
    }
   ],
   "source": [
    "#percentage of missing values in title\n",
    "df['Title'].notnull().value_counts()/len(df)*100"
   ]
  },
  {
   "cell_type": "markdown",
   "metadata": {},
   "source": [
    "Observation: More than 16% titles are missing"
   ]
  },
  {
   "cell_type": "markdown",
   "metadata": {},
   "source": [
    "9. Exploring Recommended IND"
   ]
  },
  {
   "cell_type": "code",
   "execution_count": 23,
   "metadata": {},
   "outputs": [
    {
     "data": {
      "text/plain": [
       "1    19314\n",
       "0     4172\n",
       "Name: Recommended IND, dtype: int64"
      ]
     },
     "execution_count": 23,
     "metadata": {},
     "output_type": "execute_result"
    }
   ],
   "source": [
    "df['Recommended IND'].value_counts()"
   ]
  },
  {
   "cell_type": "code",
   "execution_count": 24,
   "metadata": {},
   "outputs": [
    {
     "data": {
      "text/plain": [
       "1    82.236226\n",
       "0    17.763774\n",
       "Name: Recommended IND, dtype: float64"
      ]
     },
     "execution_count": 24,
     "metadata": {},
     "output_type": "execute_result"
    }
   ],
   "source": [
    "df['Recommended IND'].value_counts()/len(df)*100"
   ]
  },
  {
   "cell_type": "markdown",
   "metadata": {},
   "source": [
    "<b>Observation: 82% of the records contain Recommended IND = 1, 18% of the records contain 0 in Recommended IND <b>"
   ]
  },
  {
   "cell_type": "markdown",
   "metadata": {},
   "source": [
    "10. Exploring Age"
   ]
  },
  {
   "cell_type": "code",
   "execution_count": 25,
   "metadata": {},
   "outputs": [
    {
     "data": {
      "text/plain": [
       "39    1269\n",
       "35     909\n",
       "36     842\n",
       "34     804\n",
       "38     780\n",
       "      ... \n",
       "93       2\n",
       "90       2\n",
       "86       2\n",
       "99       2\n",
       "92       1\n",
       "Name: Age, Length: 77, dtype: int64"
      ]
     },
     "execution_count": 25,
     "metadata": {},
     "output_type": "execute_result"
    }
   ],
   "source": [
    "df['Age'].value_counts()"
   ]
  },
  {
   "cell_type": "code",
   "execution_count": 26,
   "metadata": {},
   "outputs": [
    {
     "data": {
      "text/plain": [
       "Text(0.5, 1.0, 'Number of review per Age')"
      ]
     },
     "execution_count": 26,
     "metadata": {},
     "output_type": "execute_result"
    },
    {
     "data": {
      "image/png": "[encoded data removed]",
      "text/plain": [
       "<Figure size 792x360 with 1 Axes>"
      ]
     },
     "metadata": {},
     "output_type": "display_data"
    }
   ],
   "source": [
    "sns.set(rc={'figure.figsize':(11,5)})\n",
    "plt.hist(df['Age'],bins=40)\n",
    "plt.xlabel(\"Age\",size=15)\n",
    "plt.ylabel(\"Review\",size=15)\n",
    "plt.title(\"Number of review per Age\",size=15)"
   ]
  },
  {
   "cell_type": "markdown",
   "metadata": {},
   "source": [
    "<b>Observation: The above plot shows women from 30 to 50 year old age most engage in reviewing products</b>"
   ]
  },
  {
   "cell_type": "markdown",
   "metadata": {},
   "source": [
    "#### Making buckets of Age for further analysis"
   ]
  },
  {
   "cell_type": "code",
   "execution_count": 27,
   "metadata": {},
   "outputs": [],
   "source": [
    "df['age_bucket'] = pd.cut(x=df['Age'], bins=[18, 29, 39, 49,59,69,79,90,100], labels=['20s', '30s', '40s', '50s', '60s','70s', '80s','90s'])"
   ]
  },
  {
   "cell_type": "code",
   "execution_count": 28,
   "metadata": {},
   "outputs": [
    {
     "data": {
      "text/plain": [
       "30s    7702\n",
       "40s    6127\n",
       "50s    3948\n",
       "20s    2927\n",
       "60s    2305\n",
       "70s     364\n",
       "80s      96\n",
       "90s      13\n",
       "Name: age_bucket, dtype: int64"
      ]
     },
     "execution_count": 28,
     "metadata": {},
     "output_type": "execute_result"
    }
   ],
   "source": [
    "df['age_bucket'].value_counts()"
   ]
  },
  {
   "cell_type": "markdown",
   "metadata": {},
   "source": [
    "Note: Age is cut into 8 buckets.  \n",
    "Reviewers of Age 18 and 19 included in the bucket of 20s."
   ]
  },
  {
   "cell_type": "markdown",
   "metadata": {},
   "source": [
    "11. Department Name"
   ]
  },
  {
   "cell_type": "code",
   "execution_count": 29,
   "metadata": {},
   "outputs": [
    {
     "data": {
      "text/plain": [
       "Tops        10468\n",
       "Dresses      6319\n",
       "Bottoms      3799\n",
       "Intimate     1735\n",
       "Jackets      1032\n",
       "Trend         119\n",
       "Name: Department Name, dtype: int64"
      ]
     },
     "execution_count": 29,
     "metadata": {},
     "output_type": "execute_result"
    }
   ],
   "source": [
    "df['Department Name'].value_counts()"
   ]
  },
  {
   "cell_type": "code",
   "execution_count": 30,
   "metadata": {},
   "outputs": [
    {
     "data": {
      "text/plain": [
       "Tops        44.571234\n",
       "Dresses     26.905390\n",
       "Bottoms     16.175594\n",
       "Intimate     7.387380\n",
       "Jackets      4.394107\n",
       "Trend        0.506685\n",
       "Name: Department Name, dtype: float64"
      ]
     },
     "execution_count": 30,
     "metadata": {},
     "output_type": "execute_result"
    }
   ],
   "source": [
    "#percentage od different department names\n",
    "df['Department Name'].value_counts()/len(df)*100"
   ]
  },
  {
   "cell_type": "code",
   "execution_count": 31,
   "metadata": {},
   "outputs": [
    {
     "data": {
      "text/plain": [
       "Text(0, 0.5, 'Count')"
      ]
     },
     "execution_count": 31,
     "metadata": {},
     "output_type": "execute_result"
    },
    {
     "data": {
      "image/png": "[encoded data removed]",
      "text/plain": [
       "<Figure size 576x432 with 1 Axes>"
      ]
     },
     "metadata": {},
     "output_type": "display_data"
    }
   ],
   "source": [
    "fig, ax = plt.subplots(figsize = (8,6))\n",
    "sns.countplot(df['Department Name'])\n",
    "plt.xlabel('Department Name',size=20)\n",
    "plt.ylabel('Count', size =20)"
   ]
  },
  {
   "cell_type": "markdown",
   "metadata": {},
   "source": [
    "Observation: It is observed that Tops and Dresses are the most commonly reviewed products.  \n",
    "It would be interesting to investigate the motivation of leaving a review in the first place"
   ]
  },
  {
   "cell_type": "markdown",
   "metadata": {},
   "source": [
    "12. Analysing Review Text"
   ]
  },
  {
   "cell_type": "code",
   "execution_count": 32,
   "metadata": {},
   "outputs": [
    {
     "data": {
      "text/plain": [
       "True     96.402112\n",
       "False     3.597888\n",
       "Name: Review Text, dtype: float64"
      ]
     },
     "execution_count": 32,
     "metadata": {},
     "output_type": "execute_result"
    }
   ],
   "source": [
    "df['Review Text'].notnull().value_counts()/len(df)*100"
   ]
  },
  {
   "cell_type": "markdown",
   "metadata": {},
   "source": [
    "About 3.6% records where reviews are missing, It is an important feature for sentiment analysis  "
   ]
  },
  {
   "cell_type": "code",
   "execution_count": 33,
   "metadata": {},
   "outputs": [],
   "source": [
    "#Filling null values with space\n",
    "df['Review Text'] = df['Review Text'].fillna('')"
   ]
  },
  {
   "cell_type": "code",
   "execution_count": 34,
   "metadata": {},
   "outputs": [],
   "source": [
    "l = list(df['Review Text'].values)\n",
    "l = (\",\".join(l))\n",
    "text = l.split(' ')"
   ]
  },
  {
   "cell_type": "code",
   "execution_count": 35,
   "metadata": {},
   "outputs": [
    {
     "data": {
      "text/plain": [
       "['Absolutely',\n",
       " 'wonderful',\n",
       " '-',\n",
       " 'silky',\n",
       " 'and',\n",
       " 'sexy',\n",
       " 'and',\n",
       " 'comfortable,Love',\n",
       " 'this',\n",
       " 'dress!',\n",
       " '',\n",
       " \"it's\",\n",
       " 'sooo',\n",
       " 'pretty.',\n",
       " '',\n",
       " 'i',\n",
       " 'happened',\n",
       " 'to',\n",
       " 'find',\n",
       " 'it',\n",
       " 'in',\n",
       " 'a',\n",
       " 'store,',\n",
       " 'and',\n",
       " \"i'm\",\n",
       " 'glad',\n",
       " 'i',\n",
       " 'did',\n",
       " 'bc',\n",
       " 'i',\n",
       " 'never',\n",
       " 'would',\n",
       " 'have',\n",
       " 'ordered',\n",
       " 'it',\n",
       " 'online',\n",
       " 'bc',\n",
       " \"it's\",\n",
       " 'petite.',\n",
       " '',\n",
       " 'i',\n",
       " 'bought',\n",
       " 'a',\n",
       " 'petite',\n",
       " 'and',\n",
       " 'am',\n",
       " '5\\'8\".',\n",
       " '',\n",
       " 'i',\n",
       " 'love',\n",
       " 'the',\n",
       " 'length',\n",
       " 'on',\n",
       " 'me-',\n",
       " 'hits',\n",
       " 'just',\n",
       " 'a',\n",
       " 'little',\n",
       " 'below',\n",
       " 'the',\n",
       " 'knee.',\n",
       " '',\n",
       " 'would',\n",
       " 'definitely',\n",
       " 'be',\n",
       " 'a',\n",
       " 'true',\n",
       " 'midi',\n",
       " 'on',\n",
       " 'someone',\n",
       " 'who',\n",
       " 'is',\n",
       " 'truly',\n",
       " 'petite.,I',\n",
       " 'had',\n",
       " 'such',\n",
       " 'high',\n",
       " 'hopes',\n",
       " 'for',\n",
       " 'this',\n",
       " 'dress',\n",
       " 'and',\n",
       " 'really',\n",
       " 'wanted',\n",
       " 'it',\n",
       " 'to',\n",
       " 'work',\n",
       " 'for',\n",
       " 'me.',\n",
       " 'i',\n",
       " 'initially',\n",
       " 'ordered',\n",
       " 'the',\n",
       " 'petite',\n",
       " 'small',\n",
       " '(my',\n",
       " 'usual',\n",
       " 'size)',\n",
       " 'but',\n",
       " 'i',\n",
       " 'found',\n",
       " 'this',\n",
       " 'to',\n",
       " 'be',\n",
       " 'outrageously',\n",
       " 'small.',\n",
       " 'so',\n",
       " 'small',\n",
       " 'in',\n",
       " 'fact',\n",
       " 'that',\n",
       " 'i',\n",
       " 'could',\n",
       " 'not',\n",
       " 'zip',\n",
       " 'it',\n",
       " 'up!',\n",
       " 'i',\n",
       " 'reordered',\n",
       " 'it',\n",
       " 'in',\n",
       " 'petite',\n",
       " 'medium,',\n",
       " 'which',\n",
       " 'was',\n",
       " 'just',\n",
       " 'ok.',\n",
       " 'overall,',\n",
       " 'the',\n",
       " 'top',\n",
       " 'half',\n",
       " 'was',\n",
       " 'comfortable',\n",
       " 'and',\n",
       " 'fit',\n",
       " 'nicely,',\n",
       " 'but',\n",
       " 'the',\n",
       " 'bottom',\n",
       " 'half',\n",
       " 'had',\n",
       " 'a',\n",
       " 'very',\n",
       " 'tight',\n",
       " 'under',\n",
       " 'layer',\n",
       " 'and',\n",
       " 'several',\n",
       " 'somewhat',\n",
       " 'cheap',\n",
       " '(net)',\n",
       " 'over',\n",
       " 'layers.',\n",
       " 'imo,',\n",
       " 'a',\n",
       " 'major',\n",
       " 'design',\n",
       " 'flaw',\n",
       " 'was',\n",
       " 'the',\n",
       " 'net',\n",
       " 'over',\n",
       " 'layer',\n",
       " 'sewn',\n",
       " 'directly',\n",
       " 'into',\n",
       " 'the',\n",
       " 'zipper',\n",
       " '-',\n",
       " 'it',\n",
       " 'c,I',\n",
       " 'love,',\n",
       " 'love,',\n",
       " 'love',\n",
       " 'this',\n",
       " 'jumpsuit.',\n",
       " \"it's\",\n",
       " 'fun,',\n",
       " 'flirty,',\n",
       " 'and',\n",
       " 'fabulous!',\n",
       " 'every',\n",
       " 'time',\n",
       " 'i',\n",
       " 'wear',\n",
       " 'it,',\n",
       " 'i',\n",
       " 'get',\n",
       " 'nothing',\n",
       " 'but',\n",
       " 'great',\n",
       " 'compliments!,This',\n",
       " 'shirt',\n",
       " 'is',\n",
       " 'very',\n",
       " 'flattering',\n",
       " 'to',\n",
       " 'all',\n",
       " 'due',\n",
       " 'to',\n",
       " 'the',\n",
       " 'adjustable',\n",
       " 'front',\n",
       " 'tie.',\n",
       " 'it',\n",
       " 'is',\n",
       " 'the',\n",
       " 'perfect',\n",
       " 'length',\n",
       " 'to',\n",
       " 'wear',\n",
       " 'with',\n",
       " 'leggings',\n",
       " 'and',\n",
       " 'it',\n",
       " 'is',\n",
       " 'sleeveless',\n",
       " 'so',\n",
       " 'it',\n",
       " 'pairs',\n",
       " 'well',\n",
       " 'with',\n",
       " 'any',\n",
       " 'cardigan.',\n",
       " 'love',\n",
       " 'this',\n",
       " 'shirt!!!,I',\n",
       " 'love',\n",
       " 'tracy',\n",
       " 'reese',\n",
       " 'dresses,',\n",
       " 'but',\n",
       " 'this',\n",
       " 'one',\n",
       " 'is',\n",
       " 'not',\n",
       " 'for',\n",
       " 'the',\n",
       " 'very',\n",
       " 'petite.',\n",
       " 'i',\n",
       " 'am',\n",
       " 'just',\n",
       " 'under',\n",
       " '5',\n",
       " 'feet',\n",
       " 'tall',\n",
       " 'and',\n",
       " 'usually',\n",
       " 'wear',\n",
       " 'a',\n",
       " '0p',\n",
       " 'in',\n",
       " 'this',\n",
       " 'brand.',\n",
       " 'this',\n",
       " 'dress',\n",
       " 'was',\n",
       " 'very',\n",
       " 'pretty',\n",
       " 'out',\n",
       " 'of',\n",
       " 'the',\n",
       " 'package',\n",
       " 'but',\n",
       " 'its',\n",
       " 'a',\n",
       " 'lot',\n",
       " 'of',\n",
       " 'dress.',\n",
       " 'the',\n",
       " 'skirt',\n",
       " 'is',\n",
       " 'long',\n",
       " 'and',\n",
       " 'very',\n",
       " 'full',\n",
       " 'so',\n",
       " 'it',\n",
       " 'overwhelmed',\n",
       " 'my',\n",
       " 'small',\n",
       " 'frame.',\n",
       " 'not',\n",
       " 'a',\n",
       " 'stranger',\n",
       " 'to',\n",
       " 'alterations,',\n",
       " 'shortening',\n",
       " 'and',\n",
       " 'narrowing',\n",
       " 'the',\n",
       " 'skirt',\n",
       " 'would',\n",
       " 'take',\n",
       " 'away',\n",
       " 'from',\n",
       " 'the',\n",
       " 'embellishment',\n",
       " 'of',\n",
       " 'the',\n",
       " 'garment.',\n",
       " 'i',\n",
       " 'love',\n",
       " 'the',\n",
       " 'color',\n",
       " 'and',\n",
       " 'the',\n",
       " 'idea',\n",
       " 'of',\n",
       " 'the',\n",
       " 'style',\n",
       " 'but',\n",
       " 'it',\n",
       " 'just',\n",
       " 'did',\n",
       " 'not',\n",
       " 'work',\n",
       " 'on',\n",
       " 'me.',\n",
       " 'i',\n",
       " 'returned',\n",
       " 'this',\n",
       " 'dress.,I',\n",
       " 'aded',\n",
       " 'this',\n",
       " 'in',\n",
       " 'my',\n",
       " 'basket',\n",
       " 'at',\n",
       " 'hte',\n",
       " 'last',\n",
       " 'mintue',\n",
       " 'to',\n",
       " 'see',\n",
       " 'what',\n",
       " 'it',\n",
       " 'would',\n",
       " 'look',\n",
       " 'like',\n",
       " 'in',\n",
       " 'person.',\n",
       " '(store',\n",
       " 'pick',\n",
       " 'up).',\n",
       " 'i',\n",
       " 'went',\n",
       " 'with',\n",
       " 'teh',\n",
       " 'darkler',\n",
       " 'color',\n",
       " 'only',\n",
       " 'because',\n",
       " 'i',\n",
       " 'am',\n",
       " 'so',\n",
       " 'pale',\n",
       " ':-)',\n",
       " 'hte',\n",
       " 'color',\n",
       " 'is',\n",
       " 'really',\n",
       " 'gorgeous,',\n",
       " 'and',\n",
       " 'turns',\n",
       " 'out',\n",
       " 'it',\n",
       " 'mathced',\n",
       " 'everythiing',\n",
       " 'i',\n",
       " 'was',\n",
       " 'trying',\n",
       " 'on',\n",
       " 'with',\n",
       " 'it',\n",
       " 'prefectly.',\n",
       " 'it',\n",
       " 'is',\n",
       " 'a',\n",
       " 'little',\n",
       " 'baggy',\n",
       " 'on',\n",
       " 'me',\n",
       " 'and',\n",
       " 'hte',\n",
       " 'xs',\n",
       " 'is',\n",
       " 'hte',\n",
       " 'msallet',\n",
       " 'size',\n",
       " '(bummer,',\n",
       " 'no',\n",
       " 'petite).',\n",
       " 'i',\n",
       " 'decided',\n",
       " 'to',\n",
       " 'jkeep',\n",
       " 'it',\n",
       " 'though,',\n",
       " 'because',\n",
       " 'as',\n",
       " 'i',\n",
       " 'said,',\n",
       " 'it',\n",
       " 'matvehd',\n",
       " 'everything.',\n",
       " 'my',\n",
       " 'ejans,',\n",
       " 'pants,',\n",
       " 'and',\n",
       " 'the',\n",
       " '3',\n",
       " 'skirts',\n",
       " 'i',\n",
       " 'waas',\n",
       " 'trying',\n",
       " 'on',\n",
       " '(of',\n",
       " 'which',\n",
       " 'i',\n",
       " ']kept',\n",
       " 'all',\n",
       " ')',\n",
       " 'oops.,I',\n",
       " 'ordered',\n",
       " 'this',\n",
       " 'in',\n",
       " 'carbon',\n",
       " 'for',\n",
       " 'store',\n",
       " 'pick',\n",
       " 'up,',\n",
       " 'and',\n",
       " 'had',\n",
       " 'a',\n",
       " 'ton',\n",
       " 'of',\n",
       " 'stuff',\n",
       " '(as',\n",
       " 'always)',\n",
       " 'to',\n",
       " 'try',\n",
       " 'on',\n",
       " 'and',\n",
       " 'used',\n",
       " 'this',\n",
       " 'top',\n",
       " 'to',\n",
       " 'pair',\n",
       " '(skirts',\n",
       " 'and',\n",
       " 'pants).',\n",
       " 'everything',\n",
       " 'went',\n",
       " 'with',\n",
       " 'it.',\n",
       " 'the',\n",
       " 'color',\n",
       " 'is',\n",
       " 'really',\n",
       " 'nice',\n",
       " 'charcoal',\n",
       " 'with',\n",
       " 'shimmer,',\n",
       " 'and',\n",
       " 'went',\n",
       " 'well',\n",
       " 'with',\n",
       " 'pencil',\n",
       " 'skirts,',\n",
       " 'flare',\n",
       " 'pants,',\n",
       " 'etc.',\n",
       " 'my',\n",
       " 'only',\n",
       " 'compaint',\n",
       " 'is',\n",
       " 'it',\n",
       " 'is',\n",
       " 'a',\n",
       " 'bit',\n",
       " 'big,',\n",
       " 'sleeves',\n",
       " 'are',\n",
       " 'long',\n",
       " 'and',\n",
       " 'it',\n",
       " \"doesn't\",\n",
       " 'go',\n",
       " 'in',\n",
       " 'petite.',\n",
       " 'also',\n",
       " 'a',\n",
       " 'bit',\n",
       " 'loose',\n",
       " 'for',\n",
       " 'me,',\n",
       " 'but',\n",
       " 'no',\n",
       " 'xxs...',\n",
       " 'so',\n",
       " 'i',\n",
       " 'kept',\n",
       " 'it',\n",
       " 'and',\n",
       " 'wil',\n",
       " 'ldecide',\n",
       " 'later',\n",
       " 'since',\n",
       " 'the',\n",
       " 'light',\n",
       " 'color',\n",
       " 'is',\n",
       " 'already',\n",
       " 'sold',\n",
       " 'out',\n",
       " 'in',\n",
       " 'hte',\n",
       " 'smallest',\n",
       " 'size...,I',\n",
       " 'love',\n",
       " 'this',\n",
       " 'dress.',\n",
       " 'i',\n",
       " 'usually',\n",
       " 'get',\n",
       " 'an',\n",
       " 'xs',\n",
       " 'but',\n",
       " 'it',\n",
       " 'runs',\n",
       " 'a',\n",
       " 'little',\n",
       " 'snug',\n",
       " 'in',\n",
       " 'bust',\n",
       " 'so',\n",
       " 'i',\n",
       " 'ordered',\n",
       " 'up',\n",
       " 'a',\n",
       " 'size.',\n",
       " 'very',\n",
       " 'flattering',\n",
       " 'and',\n",
       " 'feminine',\n",
       " 'with',\n",
       " 'the',\n",
       " 'usual',\n",
       " 'retailer',\n",
       " 'flair',\n",
       " 'for',\n",
       " \"style.,I'm\",\n",
       " '5\"5\\'',\n",
       " 'and',\n",
       " '125',\n",
       " 'lbs.',\n",
       " 'i',\n",
       " 'ordered',\n",
       " 'the',\n",
       " 's',\n",
       " 'petite',\n",
       " 'to',\n",
       " 'make',\n",
       " 'sure',\n",
       " 'the',\n",
       " 'length',\n",
       " \"wasn't\",\n",
       " 'too',\n",
       " 'long.',\n",
       " 'i',\n",
       " 'typically',\n",
       " 'wear',\n",
       " 'an',\n",
       " 'xs',\n",
       " 'regular',\n",
       " 'in',\n",
       " 'retailer',\n",
       " 'dresses.',\n",
       " 'if',\n",
       " \"you're\",\n",
       " 'less',\n",
       " 'busty',\n",
       " '(34b',\n",
       " 'cup',\n",
       " 'or',\n",
       " 'smaller),',\n",
       " 'a',\n",
       " 's',\n",
       " 'petite',\n",
       " 'will',\n",
       " 'fit',\n",
       " 'you',\n",
       " 'perfectly',\n",
       " '(snug,',\n",
       " 'but',\n",
       " 'not',\n",
       " 'tight).',\n",
       " 'i',\n",
       " 'love',\n",
       " 'that',\n",
       " 'i',\n",
       " 'could',\n",
       " 'dress',\n",
       " 'it',\n",
       " 'up',\n",
       " 'for',\n",
       " 'a',\n",
       " 'party,',\n",
       " 'or',\n",
       " 'down',\n",
       " 'for',\n",
       " 'work.',\n",
       " 'i',\n",
       " 'love',\n",
       " 'that',\n",
       " 'the',\n",
       " 'tulle',\n",
       " 'is',\n",
       " 'longer',\n",
       " 'then',\n",
       " 'the',\n",
       " 'fabric',\n",
       " 'underneath.,Dress',\n",
       " 'runs',\n",
       " 'small',\n",
       " 'esp',\n",
       " 'where',\n",
       " 'the',\n",
       " 'zipper',\n",
       " 'area',\n",
       " 'runs.',\n",
       " 'i',\n",
       " 'ordered',\n",
       " 'the',\n",
       " 'sp',\n",
       " 'which',\n",
       " 'typically',\n",
       " 'fits',\n",
       " 'me',\n",
       " 'and',\n",
       " 'it',\n",
       " 'was',\n",
       " 'very',\n",
       " 'tight!',\n",
       " 'the',\n",
       " 'material',\n",
       " 'on',\n",
       " 'the',\n",
       " 'top',\n",
       " 'looks',\n",
       " 'and',\n",
       " 'feels',\n",
       " 'very',\n",
       " 'cheap',\n",
       " 'that',\n",
       " 'even',\n",
       " 'just',\n",
       " 'pulling',\n",
       " 'on',\n",
       " 'it',\n",
       " 'will',\n",
       " 'cause',\n",
       " 'it',\n",
       " 'to',\n",
       " 'rip',\n",
       " 'the',\n",
       " 'fabric.',\n",
       " 'pretty',\n",
       " 'disappointed',\n",
       " 'as',\n",
       " 'it',\n",
       " 'was',\n",
       " 'going',\n",
       " 'to',\n",
       " 'be',\n",
       " 'my',\n",
       " 'christmas',\n",
       " 'dress',\n",
       " 'this',\n",
       " 'year!',\n",
       " 'needless',\n",
       " 'to',\n",
       " 'say',\n",
       " 'it',\n",
       " 'will',\n",
       " 'be',\n",
       " 'going',\n",
       " 'back.,This',\n",
       " 'dress',\n",
       " 'is',\n",
       " 'perfection!',\n",
       " 'so',\n",
       " 'pretty',\n",
       " 'and',\n",
       " 'flattering.,More',\n",
       " 'and',\n",
       " 'more',\n",
       " 'i',\n",
       " 'find',\n",
       " 'myself',\n",
       " 'reliant',\n",
       " 'on',\n",
       " 'the',\n",
       " 'reviews',\n",
       " 'written',\n",
       " 'by',\n",
       " 'savvy',\n",
       " 'shoppers',\n",
       " 'before',\n",
       " 'me',\n",
       " 'and',\n",
       " 'for',\n",
       " 'the',\n",
       " 'most',\n",
       " 'past,',\n",
       " 'they',\n",
       " 'are',\n",
       " 'right',\n",
       " 'on',\n",
       " 'in',\n",
       " 'their',\n",
       " 'estimation',\n",
       " 'of',\n",
       " 'the',\n",
       " 'product.',\n",
       " 'in',\n",
       " 'the',\n",
       " 'case',\n",
       " 'of',\n",
       " 'this',\n",
       " 'dress-if',\n",
       " 'it',\n",
       " 'had',\n",
       " 'not',\n",
       " 'been',\n",
       " 'for',\n",
       " 'the',\n",
       " 'reveiws-i',\n",
       " 'doubt',\n",
       " 'i',\n",
       " 'would',\n",
       " 'have',\n",
       " 'even',\n",
       " 'tried',\n",
       " 'this.',\n",
       " 'the',\n",
       " 'dress',\n",
       " 'is',\n",
       " 'beautifully',\n",
       " 'made,',\n",
       " 'lined',\n",
       " 'and',\n",
       " 'reminiscent',\n",
       " 'of',\n",
       " 'the',\n",
       " 'old',\n",
       " 'retailer',\n",
       " 'quality.',\n",
       " 'it',\n",
       " 'is',\n",
       " 'lined',\n",
       " 'in',\n",
       " 'the',\n",
       " 'solid',\n",
       " 'periwinkle-colored',\n",
       " 'fabric',\n",
       " 'that',\n",
       " 'matches',\n",
       " 'the',\n",
       " 'outer',\n",
       " 'fabric',\n",
       " 'print.',\n",
       " 'tts',\n",
       " 'and',\n",
       " 'very',\n",
       " 'form-fitting.',\n",
       " 'falls',\n",
       " 'just',\n",
       " 'above',\n",
       " 'the',\n",
       " 'knee',\n",
       " 'and',\n",
       " 'does',\n",
       " 'not',\n",
       " 'rid,Bought',\n",
       " 'the',\n",
       " 'black',\n",
       " 'xs',\n",
       " 'to',\n",
       " 'go',\n",
       " 'under',\n",
       " 'the',\n",
       " 'larkspur',\n",
       " 'midi',\n",
       " 'dress',\n",
       " 'because',\n",
       " 'they',\n",
       " \"didn't\",\n",
       " 'bother',\n",
       " 'lining',\n",
       " 'the',\n",
       " 'skirt',\n",
       " 'portion',\n",
       " '(grrrrrrrrrrr).\\r\\nmy',\n",
       " 'stats',\n",
       " 'are',\n",
       " '34a-28/29-36',\n",
       " 'and',\n",
       " 'the',\n",
       " 'xs',\n",
       " 'fit',\n",
       " 'very',\n",
       " 'smoothly',\n",
       " 'around',\n",
       " 'the',\n",
       " 'chest',\n",
       " 'and',\n",
       " 'was',\n",
       " 'flowy',\n",
       " 'around',\n",
       " 'my',\n",
       " 'lower',\n",
       " 'half,',\n",
       " 'so',\n",
       " 'i',\n",
       " 'would',\n",
       " 'say',\n",
       " \"it's\",\n",
       " 'running',\n",
       " 'big.\\r\\nthe',\n",
       " 'straps',\n",
       " 'are',\n",
       " 'very',\n",
       " 'pretty',\n",
       " 'and',\n",
       " 'it',\n",
       " 'could',\n",
       " 'easily',\n",
       " 'be',\n",
       " 'nightwear',\n",
       " \"too.\\r\\ni'm\",\n",
       " '5\\'6\"',\n",
       " 'and',\n",
       " 'it',\n",
       " 'came',\n",
       " 'to',\n",
       " 'just',\n",
       " 'below',\n",
       " 'my',\n",
       " 'knees.,This',\n",
       " 'is',\n",
       " 'a',\n",
       " 'nice',\n",
       " 'choice',\n",
       " 'for',\n",
       " 'holiday',\n",
       " 'gatherings.',\n",
       " 'i',\n",
       " 'like',\n",
       " 'that',\n",
       " 'the',\n",
       " 'length',\n",
       " 'grazes',\n",
       " 'the',\n",
       " 'knee',\n",
       " 'so',\n",
       " 'it',\n",
       " 'is',\n",
       " 'conservative',\n",
       " 'enough',\n",
       " 'for',\n",
       " 'office',\n",
       " 'related',\n",
       " 'gatherings.',\n",
       " 'the',\n",
       " 'size',\n",
       " 'small',\n",
       " 'fit',\n",
       " 'me',\n",
       " 'well',\n",
       " '-',\n",
       " 'i',\n",
       " 'am',\n",
       " 'usually',\n",
       " 'a',\n",
       " 'size',\n",
       " '2/4',\n",
       " 'with',\n",
       " 'a',\n",
       " 'small',\n",
       " 'bust.',\n",
       " 'in',\n",
       " 'my',\n",
       " 'opinion',\n",
       " 'it',\n",
       " 'runs',\n",
       " 'small',\n",
       " 'and',\n",
       " 'those',\n",
       " 'with',\n",
       " 'larger',\n",
       " 'busts',\n",
       " 'will',\n",
       " 'definitely',\n",
       " 'have',\n",
       " 'to',\n",
       " 'size',\n",
       " 'up',\n",
       " '(but',\n",
       " 'then',\n",
       " 'perhaps',\n",
       " 'the',\n",
       " 'waist',\n",
       " 'will',\n",
       " 'be',\n",
       " 'too',\n",
       " 'big).',\n",
       " 'the',\n",
       " 'problem',\n",
       " 'with',\n",
       " 'this',\n",
       " 'dress',\n",
       " 'is',\n",
       " 'the',\n",
       " 'quality.',\n",
       " 'the',\n",
       " 'fabrics',\n",
       " 'are',\n",
       " 'terrible.',\n",
       " 'the',\n",
       " 'delicate',\n",
       " 'netting',\n",
       " 'type',\n",
       " 'fabric',\n",
       " 'on',\n",
       " 'the',\n",
       " 'top',\n",
       " 'layer',\n",
       " 'of',\n",
       " 'skirt',\n",
       " 'got',\n",
       " 'stuck',\n",
       " 'in',\n",
       " 'the',\n",
       " 'zip,I',\n",
       " 'took',\n",
       " 'these',\n",
       " 'out',\n",
       " 'of',\n",
       " 'the',\n",
       " 'package',\n",
       " 'and',\n",
       " 'wanted',\n",
       " 'them',\n",
       " 'to',\n",
       " 'fit',\n",
       " 'so',\n",
       " 'badly,',\n",
       " 'but',\n",
       " 'i',\n",
       " 'could',\n",
       " 'tell',\n",
       " 'before',\n",
       " 'i',\n",
       " 'put',\n",
       " 'them',\n",
       " 'on',\n",
       " 'that',\n",
       " 'they',\n",
       " \"wouldn't.\",\n",
       " 'these',\n",
       " 'are',\n",
       " 'for',\n",
       " 'an',\n",
       " 'hour-glass',\n",
       " 'figure.',\n",
       " 'i',\n",
       " 'am',\n",
       " 'more',\n",
       " 'straight',\n",
       " 'up',\n",
       " 'and',\n",
       " 'down.',\n",
       " 'the',\n",
       " 'waist',\n",
       " 'was',\n",
       " 'way',\n",
       " 'too',\n",
       " 'small',\n",
       " 'for',\n",
       " 'my',\n",
       " 'body',\n",
       " 'shape',\n",
       " 'and',\n",
       " 'even',\n",
       " 'if',\n",
       " 'i',\n",
       " 'sized',\n",
       " 'up,',\n",
       " ...]"
      ]
     },
     "execution_count": 35,
     "metadata": {},
     "output_type": "execute_result"
    }
   ],
   "source": [
    "text"
   ]
  },
  {
   "cell_type": "markdown",
   "metadata": {},
   "source": [
    "14. Division Name"
   ]
  },
  {
   "cell_type": "code",
   "execution_count": 36,
   "metadata": {},
   "outputs": [
    {
     "data": {
      "text/plain": [
       "Text(0.5, 1.0, 'Distribution of Division Name')"
      ]
     },
     "execution_count": 36,
     "metadata": {},
     "output_type": "execute_result"
    },
    {
     "data": {
      "image/png": "[encoded data removed]",
      "text/plain": [
       "<Figure size 792x360 with 1 Axes>"
      ]
     },
     "metadata": {},
     "output_type": "display_data"
    }
   ],
   "source": [
    "#Frequency distribution of division name\n",
    "sns.countplot(x='Division Name',data=df)\n",
    "plt.xlabel('Division Name',size =14)\n",
    "plt.title(\"Distribution of Division Name\",size=16)"
   ]
  },
  {
   "cell_type": "code",
   "execution_count": 37,
   "metadata": {},
   "outputs": [
    {
     "data": {
      "text/plain": [
       "General           58.971302\n",
       "General Petite    34.573789\n",
       "Initmates          6.395299\n",
       "Name: Division Name, dtype: float64"
      ]
     },
     "execution_count": 37,
     "metadata": {},
     "output_type": "execute_result"
    }
   ],
   "source": [
    "df['Division Name'].value_counts()/len(df)*100"
   ]
  },
  {
   "cell_type": "markdown",
   "metadata": {},
   "source": [
    "Observation: There are three categories of Division Name.  \n",
    "59% of the records contain Devision name <b>General</b>, 35% contain <b>General Petite</b> and 6% of the records contain <b>Initmates</b>"
   ]
  },
  {
   "cell_type": "markdown",
   "metadata": {},
   "source": [
    "15. Class Name"
   ]
  },
  {
   "cell_type": "code",
   "execution_count": 38,
   "metadata": {},
   "outputs": [
    {
     "data": {
      "text/plain": [
       "(array([ 0,  1,  2,  3,  4,  5,  6,  7,  8,  9, 10, 11, 12, 13, 14, 15, 16,\n",
       "        17, 18, 19]),\n",
       " <a list of 20 Text major ticklabel objects>)"
      ]
     },
     "execution_count": 38,
     "metadata": {},
     "output_type": "execute_result"
    },
    {
     "data": {
      "image/png": "[encoded data removed]",
      "text/plain": [
       "<Figure size 792x360 with 1 Axes>"
      ]
     },
     "metadata": {},
     "output_type": "display_data"
    }
   ],
   "source": [
    "#Frequency distribution of class name\n",
    "sns.countplot(x='Class Name',data=df)\n",
    "plt.title(\"Distribution of Class Name\",size=16)\n",
    "plt.xlabel('Class Name',size=14)\n",
    "plt.xticks(rotation=50)"
   ]
  },
  {
   "cell_type": "code",
   "execution_count": 39,
   "metadata": {},
   "outputs": [
    {
     "data": {
      "text/plain": [
       "Dresses           26.905390\n",
       "Knits             20.620795\n",
       "Blouses           13.186579\n",
       "Sweaters           6.080218\n",
       "Pants              5.909904\n",
       "Jeans              4.883761\n",
       "Fine gauge         4.683641\n",
       "Skirts             4.023674\n",
       "Jackets            2.997530\n",
       "Lounge             2.942178\n",
       "Swim               1.490250\n",
       "Outerwear          1.396577\n",
       "Shorts             1.349740\n",
       "Sleep              0.970791\n",
       "Legwear            0.702546\n",
       "Intimates          0.655710\n",
       "Layering           0.621647\n",
       "Trend              0.506685\n",
       "Casual bottoms     0.008516\n",
       "Chemises           0.004258\n",
       "Name: Class Name, dtype: float64"
      ]
     },
     "execution_count": 39,
     "metadata": {},
     "output_type": "execute_result"
    }
   ],
   "source": [
    "df['Class Name'].value_counts()/len(df)*100"
   ]
  },
  {
   "cell_type": "markdown",
   "metadata": {},
   "source": [
    "<b>Observation: Dresses are reviewd the most, followed by Knits</b>"
   ]
  },
  {
   "cell_type": "markdown",
   "metadata": {},
   "source": [
    "16. Positive feedback count"
   ]
  },
  {
   "cell_type": "code",
   "execution_count": 40,
   "metadata": {},
   "outputs": [
    {
     "data": {
      "text/plain": [
       "0     11176\n",
       "1      4043\n",
       "2      2193\n",
       "3      1433\n",
       "4       922\n",
       "      ...  \n",
       "52        1\n",
       "56        1\n",
       "61        1\n",
       "99        1\n",
       "95        1\n",
       "Name: Positive Feedback Count, Length: 82, dtype: int64"
      ]
     },
     "execution_count": 40,
     "metadata": {},
     "output_type": "execute_result"
    }
   ],
   "source": [
    "df['Positive Feedback Count'].value_counts()"
   ]
  },
  {
   "cell_type": "code",
   "execution_count": 41,
   "metadata": {},
   "outputs": [
    {
     "data": {
      "text/plain": [
       "0     47.585796\n",
       "1     17.214511\n",
       "2      9.337478\n",
       "3      6.101507\n",
       "4      3.925743\n",
       "        ...    \n",
       "52     0.004258\n",
       "56     0.004258\n",
       "61     0.004258\n",
       "99     0.004258\n",
       "95     0.004258\n",
       "Name: Positive Feedback Count, Length: 82, dtype: float64"
      ]
     },
     "execution_count": 41,
     "metadata": {},
     "output_type": "execute_result"
    }
   ],
   "source": [
    "df['Positive Feedback Count'].value_counts()/len(df)*100"
   ]
  },
  {
   "cell_type": "code",
   "execution_count": 42,
   "metadata": {},
   "outputs": [
    {
     "data": {
      "text/plain": [
       "array([  0,   4,   6,   1,  14,   2,   3,   7,   5,   9,  34,  10,  17,\n",
       "        11,  24,  12,   8,  13,  20,  16,  23,  15,  19,  29,  32,  30,\n",
       "        55,  84,  27,  43,  21,  42,  37,  71,  35,  65, 117,  33,  18,\n",
       "        25,  47,  22,  51,  94,  31,  77,  61,  46,  26,  28,  36,  57,\n",
       "        45,  66,  82,  44,  81,  58,  78,  38,  49,  52, 122,  41, 108,\n",
       "        54,  40,  53,  87,  64,  89,  68,  56,  98,  95,  39,  93,  48,\n",
       "        99,  50,  69,  59], dtype=int64)"
      ]
     },
     "execution_count": 42,
     "metadata": {},
     "output_type": "execute_result"
    }
   ],
   "source": [
    "df['Positive Feedback Count'].unique()"
   ]
  },
  {
   "cell_type": "code",
   "execution_count": 43,
   "metadata": {},
   "outputs": [
    {
     "data": {
      "text/plain": [
       "82"
      ]
     },
     "execution_count": 43,
     "metadata": {},
     "output_type": "execute_result"
    }
   ],
   "source": [
    "len(df['Positive Feedback Count'].unique())"
   ]
  },
  {
   "cell_type": "code",
   "execution_count": 44,
   "metadata": {},
   "outputs": [
    {
     "data": {
      "text/plain": [
       "122"
      ]
     },
     "execution_count": 44,
     "metadata": {},
     "output_type": "execute_result"
    }
   ],
   "source": [
    "df['Positive Feedback Count'].max()"
   ]
  },
  {
   "cell_type": "markdown",
   "metadata": {},
   "source": [
    "Observation: There are 82 unique counts for positive feedback.  \n",
    "More than 47% of the records contain positive feedback count = 0.  \n",
    "Maximum positive feedback count = 122."
   ]
  },
  {
   "cell_type": "markdown",
   "metadata": {},
   "source": [
    "### Multivariate Analysis"
   ]
  },
  {
   "cell_type": "markdown",
   "metadata": {},
   "source": [
    "1. Rating Vs Positive feedback count"
   ]
  },
  {
   "cell_type": "code",
   "execution_count": 45,
   "metadata": {},
   "outputs": [
    {
     "data": {
      "text/plain": [
       "Text(0, 0.5, 'Positive Feedback Count')"
      ]
     },
     "execution_count": 45,
     "metadata": {},
     "output_type": "execute_result"
    },
    {
     "data": {
      "image/png": "[encoded data removed]",
      "text/plain": [
       "<Figure size 720x576 with 1 Axes>"
      ]
     },
     "metadata": {},
     "output_type": "display_data"
    }
   ],
   "source": [
    "plt.figure(figsize=(10,8))\n",
    "sns.boxplot(x = 'Rating', y = 'Positive Feedback Count', data = df)\n",
    "plt.xlabel('Rating',size = 15)\n",
    "plt.ylabel('Positive Feedback Count', size = 15)"
   ]
  },
  {
   "cell_type": "markdown",
   "metadata": {},
   "source": [
    "Observation: The boxplot of Rating and Positive feedback count shows some unusual results  \n",
    "There exist some outliers, Count of positive feedback is low where rating is high.  \n",
    "This needs to be analysed further."
   ]
  },
  {
   "cell_type": "markdown",
   "metadata": {},
   "source": [
    "Q: How many records are present in the data where Rating is equal to 5 but the positive feedback count is 0?"
   ]
  },
  {
   "cell_type": "code",
   "execution_count": 46,
   "metadata": {},
   "outputs": [],
   "source": [
    "temp = df[df['Rating']== 5]"
   ]
  },
  {
   "cell_type": "code",
   "execution_count": 47,
   "metadata": {},
   "outputs": [
    {
     "data": {
      "text/plain": [
       "False    6663\n",
       "True     6468\n",
       "Name: Positive Feedback Count, dtype: int64"
      ]
     },
     "execution_count": 47,
     "metadata": {},
     "output_type": "execute_result"
    }
   ],
   "source": [
    "(temp['Positive Feedback Count']==0).value_counts()"
   ]
  },
  {
   "cell_type": "markdown",
   "metadata": {},
   "source": [
    "<b>Observation: There are 6468 records where Rating = 5 but the Positive Feedback Count = 0.</b>"
   ]
  },
  {
   "cell_type": "markdown",
   "metadata": {},
   "source": [
    "Do Ratings vary with Age group?"
   ]
  },
  {
   "cell_type": "code",
   "execution_count": 48,
   "metadata": {},
   "outputs": [
    {
     "data": {
      "text/plain": [
       "<matplotlib.axes._subplots.AxesSubplot at 0x12e5ff58>"
      ]
     },
     "execution_count": 48,
     "metadata": {},
     "output_type": "execute_result"
    },
    {
     "data": {
      "image/png": "[encoded data removed]",
      "text/plain": [
       "<Figure size 720x432 with 1 Axes>"
      ]
     },
     "metadata": {},
     "output_type": "display_data"
    }
   ],
   "source": [
    "fig,ax=plt.subplots(figsize=(10,6))\n",
    "sns.boxplot(x='Rating',y='Age',data = df)"
   ]
  },
  {
   "cell_type": "code",
   "execution_count": 49,
   "metadata": {},
   "outputs": [
    {
     "data": {
      "text/html": [
       "<div>\n",
       "<style scoped>\n",
       "    .dataframe tbody tr th:only-of-type {\n",
       "        vertical-align: middle;\n",
       "    }\n",
       "\n",
       "    .dataframe tbody tr th {\n",
       "        vertical-align: top;\n",
       "    }\n",
       "\n",
       "    .dataframe thead th {\n",
       "        text-align: right;\n",
       "    }\n",
       "</style>\n",
       "<table border=\"1\" class=\"dataframe\">\n",
       "  <thead>\n",
       "    <tr style=\"text-align: right;\">\n",
       "      <th>Rating</th>\n",
       "      <th>1</th>\n",
       "      <th>2</th>\n",
       "      <th>3</th>\n",
       "      <th>4</th>\n",
       "      <th>5</th>\n",
       "    </tr>\n",
       "    <tr>\n",
       "      <th>age_bucket</th>\n",
       "      <th></th>\n",
       "      <th></th>\n",
       "      <th></th>\n",
       "      <th></th>\n",
       "      <th></th>\n",
       "    </tr>\n",
       "  </thead>\n",
       "  <tbody>\n",
       "    <tr>\n",
       "      <th>20s</th>\n",
       "      <td>97</td>\n",
       "      <td>179</td>\n",
       "      <td>393</td>\n",
       "      <td>627</td>\n",
       "      <td>1631</td>\n",
       "    </tr>\n",
       "    <tr>\n",
       "      <th>30s</th>\n",
       "      <td>265</td>\n",
       "      <td>549</td>\n",
       "      <td>1001</td>\n",
       "      <td>1680</td>\n",
       "      <td>4207</td>\n",
       "    </tr>\n",
       "    <tr>\n",
       "      <th>40s</th>\n",
       "      <td>231</td>\n",
       "      <td>444</td>\n",
       "      <td>753</td>\n",
       "      <td>1395</td>\n",
       "      <td>3304</td>\n",
       "    </tr>\n",
       "    <tr>\n",
       "      <th>50s</th>\n",
       "      <td>146</td>\n",
       "      <td>238</td>\n",
       "      <td>442</td>\n",
       "      <td>835</td>\n",
       "      <td>2287</td>\n",
       "    </tr>\n",
       "    <tr>\n",
       "      <th>60s</th>\n",
       "      <td>84</td>\n",
       "      <td>119</td>\n",
       "      <td>237</td>\n",
       "      <td>459</td>\n",
       "      <td>1406</td>\n",
       "    </tr>\n",
       "    <tr>\n",
       "      <th>70s</th>\n",
       "      <td>15</td>\n",
       "      <td>30</td>\n",
       "      <td>39</td>\n",
       "      <td>68</td>\n",
       "      <td>212</td>\n",
       "    </tr>\n",
       "    <tr>\n",
       "      <th>80s</th>\n",
       "      <td>2</td>\n",
       "      <td>5</td>\n",
       "      <td>5</td>\n",
       "      <td>8</td>\n",
       "      <td>76</td>\n",
       "    </tr>\n",
       "    <tr>\n",
       "      <th>90s</th>\n",
       "      <td>2</td>\n",
       "      <td>1</td>\n",
       "      <td>1</td>\n",
       "      <td>3</td>\n",
       "      <td>6</td>\n",
       "    </tr>\n",
       "  </tbody>\n",
       "</table>\n",
       "</div>"
      ],
      "text/plain": [
       "Rating        1    2     3     4     5\n",
       "age_bucket                            \n",
       "20s          97  179   393   627  1631\n",
       "30s         265  549  1001  1680  4207\n",
       "40s         231  444   753  1395  3304\n",
       "50s         146  238   442   835  2287\n",
       "60s          84  119   237   459  1406\n",
       "70s          15   30    39    68   212\n",
       "80s           2    5     5     8    76\n",
       "90s           2    1     1     3     6"
      ]
     },
     "execution_count": 49,
     "metadata": {},
     "output_type": "execute_result"
    }
   ],
   "source": [
    "pd.crosstab(df['age_bucket'],df['Rating'])"
   ]
  },
  {
   "cell_type": "code",
   "execution_count": 50,
   "metadata": {},
   "outputs": [
    {
     "data": {
      "text/html": [
       "<div>\n",
       "<style scoped>\n",
       "    .dataframe tbody tr th:only-of-type {\n",
       "        vertical-align: middle;\n",
       "    }\n",
       "\n",
       "    .dataframe tbody tr th {\n",
       "        vertical-align: top;\n",
       "    }\n",
       "\n",
       "    .dataframe thead th {\n",
       "        text-align: right;\n",
       "    }\n",
       "</style>\n",
       "<table border=\"1\" class=\"dataframe\">\n",
       "  <thead>\n",
       "    <tr style=\"text-align: right;\">\n",
       "      <th>Rating</th>\n",
       "      <th>1</th>\n",
       "      <th>2</th>\n",
       "      <th>3</th>\n",
       "      <th>4</th>\n",
       "      <th>5</th>\n",
       "    </tr>\n",
       "    <tr>\n",
       "      <th>age_bucket</th>\n",
       "      <th></th>\n",
       "      <th></th>\n",
       "      <th></th>\n",
       "      <th></th>\n",
       "      <th></th>\n",
       "    </tr>\n",
       "  </thead>\n",
       "  <tbody>\n",
       "    <tr>\n",
       "      <th>20s</th>\n",
       "      <td>0.033140</td>\n",
       "      <td>0.061155</td>\n",
       "      <td>0.134267</td>\n",
       "      <td>0.214213</td>\n",
       "      <td>0.557226</td>\n",
       "    </tr>\n",
       "    <tr>\n",
       "      <th>30s</th>\n",
       "      <td>0.034407</td>\n",
       "      <td>0.071280</td>\n",
       "      <td>0.129966</td>\n",
       "      <td>0.218125</td>\n",
       "      <td>0.546222</td>\n",
       "    </tr>\n",
       "    <tr>\n",
       "      <th>40s</th>\n",
       "      <td>0.037702</td>\n",
       "      <td>0.072466</td>\n",
       "      <td>0.122899</td>\n",
       "      <td>0.227681</td>\n",
       "      <td>0.539252</td>\n",
       "    </tr>\n",
       "    <tr>\n",
       "      <th>50s</th>\n",
       "      <td>0.036981</td>\n",
       "      <td>0.060284</td>\n",
       "      <td>0.111955</td>\n",
       "      <td>0.211499</td>\n",
       "      <td>0.579281</td>\n",
       "    </tr>\n",
       "    <tr>\n",
       "      <th>60s</th>\n",
       "      <td>0.036443</td>\n",
       "      <td>0.051627</td>\n",
       "      <td>0.102820</td>\n",
       "      <td>0.199132</td>\n",
       "      <td>0.609978</td>\n",
       "    </tr>\n",
       "    <tr>\n",
       "      <th>70s</th>\n",
       "      <td>0.041209</td>\n",
       "      <td>0.082418</td>\n",
       "      <td>0.107143</td>\n",
       "      <td>0.186813</td>\n",
       "      <td>0.582418</td>\n",
       "    </tr>\n",
       "    <tr>\n",
       "      <th>80s</th>\n",
       "      <td>0.020833</td>\n",
       "      <td>0.052083</td>\n",
       "      <td>0.052083</td>\n",
       "      <td>0.083333</td>\n",
       "      <td>0.791667</td>\n",
       "    </tr>\n",
       "    <tr>\n",
       "      <th>90s</th>\n",
       "      <td>0.153846</td>\n",
       "      <td>0.076923</td>\n",
       "      <td>0.076923</td>\n",
       "      <td>0.230769</td>\n",
       "      <td>0.461538</td>\n",
       "    </tr>\n",
       "  </tbody>\n",
       "</table>\n",
       "</div>"
      ],
      "text/plain": [
       "Rating             1         2         3         4         5\n",
       "age_bucket                                                  \n",
       "20s         0.033140  0.061155  0.134267  0.214213  0.557226\n",
       "30s         0.034407  0.071280  0.129966  0.218125  0.546222\n",
       "40s         0.037702  0.072466  0.122899  0.227681  0.539252\n",
       "50s         0.036981  0.060284  0.111955  0.211499  0.579281\n",
       "60s         0.036443  0.051627  0.102820  0.199132  0.609978\n",
       "70s         0.041209  0.082418  0.107143  0.186813  0.582418\n",
       "80s         0.020833  0.052083  0.052083  0.083333  0.791667\n",
       "90s         0.153846  0.076923  0.076923  0.230769  0.461538"
      ]
     },
     "execution_count": 50,
     "metadata": {},
     "output_type": "execute_result"
    }
   ],
   "source": [
    "pd.crosstab(df['age_bucket'],df['Rating']).apply(lambda x: x/x.sum(),axis = 1)"
   ]
  },
  {
   "cell_type": "markdown",
   "metadata": {},
   "source": [
    "Observation: There seems a little variation in the rating of different age groups"
   ]
  },
  {
   "cell_type": "markdown",
   "metadata": {},
   "source": []
  },
  {
   "cell_type": "markdown",
   "metadata": {},
   "source": [
    "1. Recommendation should be highly correlated with the Rating"
   ]
  },
  {
   "cell_type": "code",
   "execution_count": 53,
   "metadata": {},
   "outputs": [
    {
     "data": {
      "text/html": [
       "<div>\n",
       "<style scoped>\n",
       "    .dataframe tbody tr th:only-of-type {\n",
       "        vertical-align: middle;\n",
       "    }\n",
       "\n",
       "    .dataframe tbody tr th {\n",
       "        vertical-align: top;\n",
       "    }\n",
       "\n",
       "    .dataframe thead th {\n",
       "        text-align: right;\n",
       "    }\n",
       "</style>\n",
       "<table border=\"1\" class=\"dataframe\">\n",
       "  <thead>\n",
       "    <tr style=\"text-align: right;\">\n",
       "      <th>Recommended IND</th>\n",
       "      <th>0</th>\n",
       "      <th>1</th>\n",
       "    </tr>\n",
       "    <tr>\n",
       "      <th>Rating</th>\n",
       "      <th></th>\n",
       "      <th></th>\n",
       "    </tr>\n",
       "  </thead>\n",
       "  <tbody>\n",
       "    <tr>\n",
       "      <th>1</th>\n",
       "      <td>826</td>\n",
       "      <td>16</td>\n",
       "    </tr>\n",
       "    <tr>\n",
       "      <th>2</th>\n",
       "      <td>1471</td>\n",
       "      <td>94</td>\n",
       "    </tr>\n",
       "    <tr>\n",
       "      <th>3</th>\n",
       "      <td>1682</td>\n",
       "      <td>1189</td>\n",
       "    </tr>\n",
       "    <tr>\n",
       "      <th>4</th>\n",
       "      <td>168</td>\n",
       "      <td>4909</td>\n",
       "    </tr>\n",
       "    <tr>\n",
       "      <th>5</th>\n",
       "      <td>25</td>\n",
       "      <td>13106</td>\n",
       "    </tr>\n",
       "  </tbody>\n",
       "</table>\n",
       "</div>"
      ],
      "text/plain": [
       "Recommended IND     0      1\n",
       "Rating                      \n",
       "1                 826     16\n",
       "2                1471     94\n",
       "3                1682   1189\n",
       "4                 168   4909\n",
       "5                  25  13106"
      ]
     },
     "execution_count": 53,
     "metadata": {},
     "output_type": "execute_result"
    }
   ],
   "source": [
    "pd.crosstab(df['Rating'], df['Recommended IND'])"
   ]
  },
  {
   "cell_type": "code",
   "execution_count": 54,
   "metadata": {},
   "outputs": [
    {
     "data": {
      "text/html": [
       "<div>\n",
       "<style scoped>\n",
       "    .dataframe tbody tr th:only-of-type {\n",
       "        vertical-align: middle;\n",
       "    }\n",
       "\n",
       "    .dataframe tbody tr th {\n",
       "        vertical-align: top;\n",
       "    }\n",
       "\n",
       "    .dataframe thead th {\n",
       "        text-align: right;\n",
       "    }\n",
       "</style>\n",
       "<table border=\"1\" class=\"dataframe\">\n",
       "  <thead>\n",
       "    <tr style=\"text-align: right;\">\n",
       "      <th>Recommended IND</th>\n",
       "      <th>0</th>\n",
       "      <th>1</th>\n",
       "    </tr>\n",
       "    <tr>\n",
       "      <th>Rating</th>\n",
       "      <th></th>\n",
       "      <th></th>\n",
       "    </tr>\n",
       "  </thead>\n",
       "  <tbody>\n",
       "    <tr>\n",
       "      <th>1</th>\n",
       "      <td>0.980998</td>\n",
       "      <td>0.019002</td>\n",
       "    </tr>\n",
       "    <tr>\n",
       "      <th>2</th>\n",
       "      <td>0.939936</td>\n",
       "      <td>0.060064</td>\n",
       "    </tr>\n",
       "    <tr>\n",
       "      <th>3</th>\n",
       "      <td>0.585859</td>\n",
       "      <td>0.414141</td>\n",
       "    </tr>\n",
       "    <tr>\n",
       "      <th>4</th>\n",
       "      <td>0.033090</td>\n",
       "      <td>0.966910</td>\n",
       "    </tr>\n",
       "    <tr>\n",
       "      <th>5</th>\n",
       "      <td>0.001904</td>\n",
       "      <td>0.998096</td>\n",
       "    </tr>\n",
       "  </tbody>\n",
       "</table>\n",
       "</div>"
      ],
      "text/plain": [
       "Recommended IND         0         1\n",
       "Rating                             \n",
       "1                0.980998  0.019002\n",
       "2                0.939936  0.060064\n",
       "3                0.585859  0.414141\n",
       "4                0.033090  0.966910\n",
       "5                0.001904  0.998096"
      ]
     },
     "execution_count": 54,
     "metadata": {},
     "output_type": "execute_result"
    }
   ],
   "source": [
    "pd.crosstab(df['Rating'],df['Recommended IND']).apply(lambda x: x/x.sum(),axis = 1)"
   ]
  },
  {
   "cell_type": "code",
   "execution_count": 55,
   "metadata": {},
   "outputs": [
    {
     "data": {
      "text/plain": [
       "<matplotlib.axes._subplots.AxesSubplot at 0xccb2b0>"
      ]
     },
     "execution_count": 55,
     "metadata": {},
     "output_type": "execute_result"
    },
    {
     "data": {
      "image/png": "[encoded data removed]",
      "text/plain": [
       "<Figure size 720x432 with 1 Axes>"
      ]
     },
     "metadata": {},
     "output_type": "display_data"
    }
   ],
   "source": [
    "fig,ax = plt.subplots(figsize = (10,6))\n",
    "sns.countplot(x= 'Rating', hue = 'Recommended IND', data = df )"
   ]
  },
  {
   "cell_type": "code",
   "execution_count": 56,
   "metadata": {},
   "outputs": [
    {
     "data": {
      "text/plain": [
       "Rating  Recommended IND\n",
       "1       0                    826\n",
       "        1                     16\n",
       "2       0                   1471\n",
       "        1                     94\n",
       "3       0                   1682\n",
       "        1                   1189\n",
       "4       0                    168\n",
       "        1                   4909\n",
       "5       0                     25\n",
       "        1                  13106\n",
       "Name: Recommended IND, dtype: int64"
      ]
     },
     "execution_count": 56,
     "metadata": {},
     "output_type": "execute_result"
    }
   ],
   "source": [
    "df.groupby(['Rating', 'Recommended IND'])['Recommended IND'].count()"
   ]
  },
  {
   "cell_type": "markdown",
   "metadata": {},
   "source": [
    "Observation: The graph suggests Items with lower rating are not recommended (0) and those of higher rating are recommended (1).  \n",
    "There are 24 records where rating = 5 but the product is not recommended, there are 168 such records for rating = 4."
   ]
  },
  {
   "cell_type": "markdown",
   "metadata": {},
   "source": [
    "2. Does Division name affect Recommendation?"
   ]
  },
  {
   "cell_type": "code",
   "execution_count": 57,
   "metadata": {},
   "outputs": [
    {
     "data": {
      "text/html": [
       "<div>\n",
       "<style scoped>\n",
       "    .dataframe tbody tr th:only-of-type {\n",
       "        vertical-align: middle;\n",
       "    }\n",
       "\n",
       "    .dataframe tbody tr th {\n",
       "        vertical-align: top;\n",
       "    }\n",
       "\n",
       "    .dataframe thead th {\n",
       "        text-align: right;\n",
       "    }\n",
       "</style>\n",
       "<table border=\"1\" class=\"dataframe\">\n",
       "  <thead>\n",
       "    <tr style=\"text-align: right;\">\n",
       "      <th>Recommended IND</th>\n",
       "      <th>0</th>\n",
       "      <th>1</th>\n",
       "    </tr>\n",
       "    <tr>\n",
       "      <th>Division Name</th>\n",
       "      <th></th>\n",
       "      <th></th>\n",
       "    </tr>\n",
       "  </thead>\n",
       "  <tbody>\n",
       "    <tr>\n",
       "      <th>General</th>\n",
       "      <td>0.183177</td>\n",
       "      <td>0.816823</td>\n",
       "    </tr>\n",
       "    <tr>\n",
       "      <th>General Petite</th>\n",
       "      <td>0.174015</td>\n",
       "      <td>0.825985</td>\n",
       "    </tr>\n",
       "    <tr>\n",
       "      <th>Initmates</th>\n",
       "      <td>0.147803</td>\n",
       "      <td>0.852197</td>\n",
       "    </tr>\n",
       "  </tbody>\n",
       "</table>\n",
       "</div>"
      ],
      "text/plain": [
       "Recommended IND         0         1\n",
       "Division Name                      \n",
       "General          0.183177  0.816823\n",
       "General Petite   0.174015  0.825985\n",
       "Initmates        0.147803  0.852197"
      ]
     },
     "execution_count": 57,
     "metadata": {},
     "output_type": "execute_result"
    }
   ],
   "source": [
    "pd.crosstab(df['Division Name'],df['Recommended IND']).apply(lambda x: x/x.sum(),axis = 1)"
   ]
  },
  {
   "cell_type": "code",
   "execution_count": 58,
   "metadata": {},
   "outputs": [
    {
     "data": {
      "text/plain": [
       "<matplotlib.axes._subplots.AxesSubplot at 0xe47ce8>"
      ]
     },
     "execution_count": 58,
     "metadata": {},
     "output_type": "execute_result"
    },
    {
     "data": {
      "image/png": "[encoded data removed]",
      "text/plain": [
       "<Figure size 792x360 with 1 Axes>"
      ]
     },
     "metadata": {},
     "output_type": "display_data"
    }
   ],
   "source": [
    "sns.countplot(x='Division Name', hue = 'Recommended IND', data = df)"
   ]
  },
  {
   "cell_type": "markdown",
   "metadata": {},
   "source": [
    "Observation: There are 81% records of General, 82% General Petite and 85% Initmates where Recommended IND = 1.  \n",
    "Recommended IND does not vary significantly with Division Name."
   ]
  },
  {
   "cell_type": "markdown",
   "metadata": {},
   "source": [
    "3. Do women rate different Divisions differently?"
   ]
  },
  {
   "cell_type": "code",
   "execution_count": 59,
   "metadata": {},
   "outputs": [
    {
     "data": {
      "text/html": [
       "<div>\n",
       "<style scoped>\n",
       "    .dataframe tbody tr th:only-of-type {\n",
       "        vertical-align: middle;\n",
       "    }\n",
       "\n",
       "    .dataframe tbody tr th {\n",
       "        vertical-align: top;\n",
       "    }\n",
       "\n",
       "    .dataframe thead th {\n",
       "        text-align: right;\n",
       "    }\n",
       "</style>\n",
       "<table border=\"1\" class=\"dataframe\">\n",
       "  <thead>\n",
       "    <tr style=\"text-align: right;\">\n",
       "      <th>Rating</th>\n",
       "      <th>1</th>\n",
       "      <th>2</th>\n",
       "      <th>3</th>\n",
       "      <th>4</th>\n",
       "      <th>5</th>\n",
       "    </tr>\n",
       "    <tr>\n",
       "      <th>Division Name</th>\n",
       "      <th></th>\n",
       "      <th></th>\n",
       "      <th></th>\n",
       "      <th></th>\n",
       "      <th></th>\n",
       "    </tr>\n",
       "  </thead>\n",
       "  <tbody>\n",
       "    <tr>\n",
       "      <th>General</th>\n",
       "      <td>0.035451</td>\n",
       "      <td>0.069314</td>\n",
       "      <td>0.128014</td>\n",
       "      <td>0.217617</td>\n",
       "      <td>0.549603</td>\n",
       "    </tr>\n",
       "    <tr>\n",
       "      <th>General Petite</th>\n",
       "      <td>0.036576</td>\n",
       "      <td>0.065025</td>\n",
       "      <td>0.116133</td>\n",
       "      <td>0.215271</td>\n",
       "      <td>0.566995</td>\n",
       "    </tr>\n",
       "    <tr>\n",
       "      <th>Initmates</th>\n",
       "      <td>0.035952</td>\n",
       "      <td>0.051265</td>\n",
       "      <td>0.103196</td>\n",
       "      <td>0.209720</td>\n",
       "      <td>0.599867</td>\n",
       "    </tr>\n",
       "  </tbody>\n",
       "</table>\n",
       "</div>"
      ],
      "text/plain": [
       "Rating                 1         2         3         4         5\n",
       "Division Name                                                   \n",
       "General         0.035451  0.069314  0.128014  0.217617  0.549603\n",
       "General Petite  0.036576  0.065025  0.116133  0.215271  0.566995\n",
       "Initmates       0.035952  0.051265  0.103196  0.209720  0.599867"
      ]
     },
     "execution_count": 59,
     "metadata": {},
     "output_type": "execute_result"
    }
   ],
   "source": [
    "pd.crosstab(df['Division Name'],df['Rating']).apply(lambda x: x/x.sum(), axis= 1)"
   ]
  },
  {
   "cell_type": "code",
   "execution_count": 60,
   "metadata": {},
   "outputs": [
    {
     "data": {
      "text/plain": [
       "<matplotlib.axes._subplots.AxesSubplot at 0xe76208>"
      ]
     },
     "execution_count": 60,
     "metadata": {},
     "output_type": "execute_result"
    },
    {
     "data": {
      "image/png": "[encoded data removed]",
      "text/plain": [
       "<Figure size 792x360 with 1 Axes>"
      ]
     },
     "metadata": {},
     "output_type": "display_data"
    }
   ],
   "source": [
    "sns.countplot(x= 'Division Name', hue = 'Rating', data = df)"
   ]
  },
  {
   "cell_type": "markdown",
   "metadata": {},
   "source": [
    "Observation: Majority of the reviews are for General wear, majority of the ratings are high.  \n",
    "It is shown in the above plot and the crosstable that rating does not have any significant relation with Division Name."
   ]
  },
  {
   "cell_type": "markdown",
   "metadata": {},
   "source": [
    "4. Which department is recommended and which is not?"
   ]
  },
  {
   "cell_type": "code",
   "execution_count": 61,
   "metadata": {},
   "outputs": [
    {
     "data": {
      "text/html": [
       "<div>\n",
       "<style scoped>\n",
       "    .dataframe tbody tr th:only-of-type {\n",
       "        vertical-align: middle;\n",
       "    }\n",
       "\n",
       "    .dataframe tbody tr th {\n",
       "        vertical-align: top;\n",
       "    }\n",
       "\n",
       "    .dataframe thead th {\n",
       "        text-align: right;\n",
       "    }\n",
       "</style>\n",
       "<table border=\"1\" class=\"dataframe\">\n",
       "  <thead>\n",
       "    <tr style=\"text-align: right;\">\n",
       "      <th>Recommended IND</th>\n",
       "      <th>0</th>\n",
       "      <th>1</th>\n",
       "    </tr>\n",
       "    <tr>\n",
       "      <th>Department Name</th>\n",
       "      <th></th>\n",
       "      <th></th>\n",
       "    </tr>\n",
       "  </thead>\n",
       "  <tbody>\n",
       "    <tr>\n",
       "      <th>Bottoms</th>\n",
       "      <td>0.148723</td>\n",
       "      <td>0.851277</td>\n",
       "    </tr>\n",
       "    <tr>\n",
       "      <th>Dresses</th>\n",
       "      <td>0.191803</td>\n",
       "      <td>0.808197</td>\n",
       "    </tr>\n",
       "    <tr>\n",
       "      <th>Intimate</th>\n",
       "      <td>0.149856</td>\n",
       "      <td>0.850144</td>\n",
       "    </tr>\n",
       "    <tr>\n",
       "      <th>Jackets</th>\n",
       "      <td>0.163760</td>\n",
       "      <td>0.836240</td>\n",
       "    </tr>\n",
       "    <tr>\n",
       "      <th>Tops</th>\n",
       "      <td>0.184849</td>\n",
       "      <td>0.815151</td>\n",
       "    </tr>\n",
       "    <tr>\n",
       "      <th>Trend</th>\n",
       "      <td>0.260504</td>\n",
       "      <td>0.739496</td>\n",
       "    </tr>\n",
       "  </tbody>\n",
       "</table>\n",
       "</div>"
      ],
      "text/plain": [
       "Recommended IND         0         1\n",
       "Department Name                    \n",
       "Bottoms          0.148723  0.851277\n",
       "Dresses          0.191803  0.808197\n",
       "Intimate         0.149856  0.850144\n",
       "Jackets          0.163760  0.836240\n",
       "Tops             0.184849  0.815151\n",
       "Trend            0.260504  0.739496"
      ]
     },
     "execution_count": 61,
     "metadata": {},
     "output_type": "execute_result"
    }
   ],
   "source": [
    "pd.crosstab(df['Department Name'],df['Recommended IND']).apply(lambda x: x/x.sum(), axis = 1)"
   ]
  },
  {
   "cell_type": "code",
   "execution_count": 62,
   "metadata": {},
   "outputs": [
    {
     "data": {
      "text/html": [
       "<div>\n",
       "<style scoped>\n",
       "    .dataframe tbody tr th:only-of-type {\n",
       "        vertical-align: middle;\n",
       "    }\n",
       "\n",
       "    .dataframe tbody tr th {\n",
       "        vertical-align: top;\n",
       "    }\n",
       "\n",
       "    .dataframe thead th {\n",
       "        text-align: right;\n",
       "    }\n",
       "</style>\n",
       "<table border=\"1\" class=\"dataframe\">\n",
       "  <thead>\n",
       "    <tr style=\"text-align: right;\">\n",
       "      <th></th>\n",
       "      <th>count</th>\n",
       "      <th>mean</th>\n",
       "      <th>std</th>\n",
       "      <th>min</th>\n",
       "      <th>25%</th>\n",
       "      <th>50%</th>\n",
       "      <th>75%</th>\n",
       "      <th>max</th>\n",
       "    </tr>\n",
       "    <tr>\n",
       "      <th>Department Name</th>\n",
       "      <th></th>\n",
       "      <th></th>\n",
       "      <th></th>\n",
       "      <th></th>\n",
       "      <th></th>\n",
       "      <th></th>\n",
       "      <th></th>\n",
       "      <th></th>\n",
       "    </tr>\n",
       "  </thead>\n",
       "  <tbody>\n",
       "    <tr>\n",
       "      <th>Bottoms</th>\n",
       "      <td>3799.0</td>\n",
       "      <td>0.851277</td>\n",
       "      <td>0.355862</td>\n",
       "      <td>0.0</td>\n",
       "      <td>1.0</td>\n",
       "      <td>1.0</td>\n",
       "      <td>1.0</td>\n",
       "      <td>1.0</td>\n",
       "    </tr>\n",
       "    <tr>\n",
       "      <th>Dresses</th>\n",
       "      <td>6319.0</td>\n",
       "      <td>0.808197</td>\n",
       "      <td>0.393750</td>\n",
       "      <td>0.0</td>\n",
       "      <td>1.0</td>\n",
       "      <td>1.0</td>\n",
       "      <td>1.0</td>\n",
       "      <td>1.0</td>\n",
       "    </tr>\n",
       "    <tr>\n",
       "      <th>Intimate</th>\n",
       "      <td>1735.0</td>\n",
       "      <td>0.850144</td>\n",
       "      <td>0.357033</td>\n",
       "      <td>0.0</td>\n",
       "      <td>1.0</td>\n",
       "      <td>1.0</td>\n",
       "      <td>1.0</td>\n",
       "      <td>1.0</td>\n",
       "    </tr>\n",
       "    <tr>\n",
       "      <th>Jackets</th>\n",
       "      <td>1032.0</td>\n",
       "      <td>0.836240</td>\n",
       "      <td>0.370237</td>\n",
       "      <td>0.0</td>\n",
       "      <td>1.0</td>\n",
       "      <td>1.0</td>\n",
       "      <td>1.0</td>\n",
       "      <td>1.0</td>\n",
       "    </tr>\n",
       "    <tr>\n",
       "      <th>Tops</th>\n",
       "      <td>10468.0</td>\n",
       "      <td>0.815151</td>\n",
       "      <td>0.388194</td>\n",
       "      <td>0.0</td>\n",
       "      <td>1.0</td>\n",
       "      <td>1.0</td>\n",
       "      <td>1.0</td>\n",
       "      <td>1.0</td>\n",
       "    </tr>\n",
       "    <tr>\n",
       "      <th>Trend</th>\n",
       "      <td>119.0</td>\n",
       "      <td>0.739496</td>\n",
       "      <td>0.440766</td>\n",
       "      <td>0.0</td>\n",
       "      <td>0.0</td>\n",
       "      <td>1.0</td>\n",
       "      <td>1.0</td>\n",
       "      <td>1.0</td>\n",
       "    </tr>\n",
       "  </tbody>\n",
       "</table>\n",
       "</div>"
      ],
      "text/plain": [
       "                   count      mean       std  min  25%  50%  75%  max\n",
       "Department Name                                                      \n",
       "Bottoms           3799.0  0.851277  0.355862  0.0  1.0  1.0  1.0  1.0\n",
       "Dresses           6319.0  0.808197  0.393750  0.0  1.0  1.0  1.0  1.0\n",
       "Intimate          1735.0  0.850144  0.357033  0.0  1.0  1.0  1.0  1.0\n",
       "Jackets           1032.0  0.836240  0.370237  0.0  1.0  1.0  1.0  1.0\n",
       "Tops             10468.0  0.815151  0.388194  0.0  1.0  1.0  1.0  1.0\n",
       "Trend              119.0  0.739496  0.440766  0.0  0.0  1.0  1.0  1.0"
      ]
     },
     "execution_count": 62,
     "metadata": {},
     "output_type": "execute_result"
    }
   ],
   "source": [
    "df.groupby(by = ['Department Name'])['Recommended IND'].describe()"
   ]
  },
  {
   "cell_type": "code",
   "execution_count": 63,
   "metadata": {},
   "outputs": [
    {
     "data": {
      "text/plain": [
       "<matplotlib.axes._subplots.AxesSubplot at 0xeb80b8>"
      ]
     },
     "execution_count": 63,
     "metadata": {},
     "output_type": "execute_result"
    },
    {
     "data": {
      "image/png": "[encoded data removed]",
      "text/plain": [
       "<Figure size 576x432 with 1 Axes>"
      ]
     },
     "metadata": {},
     "output_type": "display_data"
    }
   ],
   "source": [
    "fig,ax= plt.subplots(figsize=(8,6))\n",
    "sns.countplot(x= 'Department Name',hue = 'Recommended IND', data = df)"
   ]
  },
  {
   "cell_type": "markdown",
   "metadata": {},
   "source": [
    "Observation: There seems no variation in the Recommend IND for different Department Names.  \n",
    "standard deviation of Trendy clothes is different from others"
   ]
  },
  {
   "cell_type": "markdown",
   "metadata": {},
   "source": [
    "Do women give different ratings to different departments?"
   ]
  },
  {
   "cell_type": "code",
   "execution_count": 64,
   "metadata": {},
   "outputs": [
    {
     "data": {
      "text/plain": [
       "Text(0, 0.5, 'Number of Reviews')"
      ]
     },
     "execution_count": 64,
     "metadata": {},
     "output_type": "execute_result"
    },
    {
     "data": {
      "image/png": "[encoded data removed]",
      "text/plain": [
       "<Figure size 720x432 with 1 Axes>"
      ]
     },
     "metadata": {},
     "output_type": "display_data"
    }
   ],
   "source": [
    "fig,ax= plt.subplots(figsize=(10,6))\n",
    "sns.countplot(x= 'Department Name',hue = 'Rating', data = df)\n",
    "plt.xlabel('Department Name', size = 15)\n",
    "plt.ylabel('Number of Reviews', size =15)"
   ]
  },
  {
   "cell_type": "code",
   "execution_count": 65,
   "metadata": {},
   "outputs": [
    {
     "data": {
      "text/html": [
       "<div>\n",
       "<style scoped>\n",
       "    .dataframe tbody tr th:only-of-type {\n",
       "        vertical-align: middle;\n",
       "    }\n",
       "\n",
       "    .dataframe tbody tr th {\n",
       "        vertical-align: top;\n",
       "    }\n",
       "\n",
       "    .dataframe thead th {\n",
       "        text-align: right;\n",
       "    }\n",
       "</style>\n",
       "<table border=\"1\" class=\"dataframe\">\n",
       "  <thead>\n",
       "    <tr style=\"text-align: right;\">\n",
       "      <th>Rating</th>\n",
       "      <th>1</th>\n",
       "      <th>2</th>\n",
       "      <th>3</th>\n",
       "      <th>4</th>\n",
       "      <th>5</th>\n",
       "    </tr>\n",
       "    <tr>\n",
       "      <th>Department Name</th>\n",
       "      <th></th>\n",
       "      <th></th>\n",
       "      <th></th>\n",
       "      <th></th>\n",
       "      <th></th>\n",
       "    </tr>\n",
       "  </thead>\n",
       "  <tbody>\n",
       "    <tr>\n",
       "      <th>Bottoms</th>\n",
       "      <td>115</td>\n",
       "      <td>205</td>\n",
       "      <td>421</td>\n",
       "      <td>785</td>\n",
       "      <td>2273</td>\n",
       "    </tr>\n",
       "    <tr>\n",
       "      <th>Dresses</th>\n",
       "      <td>228</td>\n",
       "      <td>461</td>\n",
       "      <td>838</td>\n",
       "      <td>1395</td>\n",
       "      <td>3397</td>\n",
       "    </tr>\n",
       "    <tr>\n",
       "      <th>Intimate</th>\n",
       "      <td>63</td>\n",
       "      <td>90</td>\n",
       "      <td>178</td>\n",
       "      <td>371</td>\n",
       "      <td>1033</td>\n",
       "    </tr>\n",
       "    <tr>\n",
       "      <th>Jackets</th>\n",
       "      <td>49</td>\n",
       "      <td>60</td>\n",
       "      <td>91</td>\n",
       "      <td>201</td>\n",
       "      <td>631</td>\n",
       "    </tr>\n",
       "    <tr>\n",
       "      <th>Tops</th>\n",
       "      <td>376</td>\n",
       "      <td>738</td>\n",
       "      <td>1324</td>\n",
       "      <td>2299</td>\n",
       "      <td>5731</td>\n",
       "    </tr>\n",
       "    <tr>\n",
       "      <th>Trend</th>\n",
       "      <td>11</td>\n",
       "      <td>11</td>\n",
       "      <td>19</td>\n",
       "      <td>26</td>\n",
       "      <td>52</td>\n",
       "    </tr>\n",
       "  </tbody>\n",
       "</table>\n",
       "</div>"
      ],
      "text/plain": [
       "Rating             1    2     3     4     5\n",
       "Department Name                            \n",
       "Bottoms          115  205   421   785  2273\n",
       "Dresses          228  461   838  1395  3397\n",
       "Intimate          63   90   178   371  1033\n",
       "Jackets           49   60    91   201   631\n",
       "Tops             376  738  1324  2299  5731\n",
       "Trend             11   11    19    26    52"
      ]
     },
     "execution_count": 65,
     "metadata": {},
     "output_type": "execute_result"
    }
   ],
   "source": [
    "pd.crosstab(df['Department Name'],df['Rating'])"
   ]
  },
  {
   "cell_type": "code",
   "execution_count": 66,
   "metadata": {
    "scrolled": true
   },
   "outputs": [
    {
     "data": {
      "text/html": [
       "<div>\n",
       "<style scoped>\n",
       "    .dataframe tbody tr th:only-of-type {\n",
       "        vertical-align: middle;\n",
       "    }\n",
       "\n",
       "    .dataframe tbody tr th {\n",
       "        vertical-align: top;\n",
       "    }\n",
       "\n",
       "    .dataframe thead th {\n",
       "        text-align: right;\n",
       "    }\n",
       "</style>\n",
       "<table border=\"1\" class=\"dataframe\">\n",
       "  <thead>\n",
       "    <tr style=\"text-align: right;\">\n",
       "      <th>Rating</th>\n",
       "      <th>1</th>\n",
       "      <th>2</th>\n",
       "      <th>3</th>\n",
       "      <th>4</th>\n",
       "      <th>5</th>\n",
       "    </tr>\n",
       "    <tr>\n",
       "      <th>Department Name</th>\n",
       "      <th></th>\n",
       "      <th></th>\n",
       "      <th></th>\n",
       "      <th></th>\n",
       "      <th></th>\n",
       "    </tr>\n",
       "  </thead>\n",
       "  <tbody>\n",
       "    <tr>\n",
       "      <th>Bottoms</th>\n",
       "      <td>0.030271</td>\n",
       "      <td>0.053962</td>\n",
       "      <td>0.110819</td>\n",
       "      <td>0.206633</td>\n",
       "      <td>0.598315</td>\n",
       "    </tr>\n",
       "    <tr>\n",
       "      <th>Dresses</th>\n",
       "      <td>0.036082</td>\n",
       "      <td>0.072955</td>\n",
       "      <td>0.132616</td>\n",
       "      <td>0.220763</td>\n",
       "      <td>0.537585</td>\n",
       "    </tr>\n",
       "    <tr>\n",
       "      <th>Intimate</th>\n",
       "      <td>0.036311</td>\n",
       "      <td>0.051873</td>\n",
       "      <td>0.102594</td>\n",
       "      <td>0.213833</td>\n",
       "      <td>0.595389</td>\n",
       "    </tr>\n",
       "    <tr>\n",
       "      <th>Jackets</th>\n",
       "      <td>0.047481</td>\n",
       "      <td>0.058140</td>\n",
       "      <td>0.088178</td>\n",
       "      <td>0.194767</td>\n",
       "      <td>0.611434</td>\n",
       "    </tr>\n",
       "    <tr>\n",
       "      <th>Tops</th>\n",
       "      <td>0.035919</td>\n",
       "      <td>0.070501</td>\n",
       "      <td>0.126481</td>\n",
       "      <td>0.219622</td>\n",
       "      <td>0.547478</td>\n",
       "    </tr>\n",
       "    <tr>\n",
       "      <th>Trend</th>\n",
       "      <td>0.092437</td>\n",
       "      <td>0.092437</td>\n",
       "      <td>0.159664</td>\n",
       "      <td>0.218487</td>\n",
       "      <td>0.436975</td>\n",
       "    </tr>\n",
       "  </tbody>\n",
       "</table>\n",
       "</div>"
      ],
      "text/plain": [
       "Rating                  1         2         3         4         5\n",
       "Department Name                                                  \n",
       "Bottoms          0.030271  0.053962  0.110819  0.206633  0.598315\n",
       "Dresses          0.036082  0.072955  0.132616  0.220763  0.537585\n",
       "Intimate         0.036311  0.051873  0.102594  0.213833  0.595389\n",
       "Jackets          0.047481  0.058140  0.088178  0.194767  0.611434\n",
       "Tops             0.035919  0.070501  0.126481  0.219622  0.547478\n",
       "Trend            0.092437  0.092437  0.159664  0.218487  0.436975"
      ]
     },
     "execution_count": 66,
     "metadata": {},
     "output_type": "execute_result"
    }
   ],
   "source": [
    "pd.crosstab(df['Department Name'],df['Rating']).apply(lambda x: x/x.sum(),axis = 1)"
   ]
  },
  {
   "cell_type": "markdown",
   "metadata": {},
   "source": [
    "Observation: There seems no significant difference between the ratings of different departments"
   ]
  },
  {
   "cell_type": "markdown",
   "metadata": {},
   "source": [
    "How do ratings vary for each age group across Classes of products?"
   ]
  },
  {
   "cell_type": "code",
   "execution_count": 67,
   "metadata": {},
   "outputs": [
    {
     "data": {
      "text/plain": [
       "Text(0, 0.5, 'Review Count')"
      ]
     },
     "execution_count": 67,
     "metadata": {},
     "output_type": "execute_result"
    },
    {
     "data": {
      "image/png": "[encoded data removed]",
      "text/plain": [
       "<Figure size 1584x576 with 1 Axes>"
      ]
     },
     "metadata": {},
     "output_type": "display_data"
    }
   ],
   "source": [
    "fig, ax = plt.subplots(figsize = (22,8))\n",
    "sns.countplot(x= 'Class Name', hue = 'Rating', data = df)\n",
    "plt.xlabel('Class Name', size = 20)\n",
    "plt.ylabel('Review Count', size = 20)"
   ]
  },
  {
   "cell_type": "code",
   "execution_count": 68,
   "metadata": {},
   "outputs": [
    {
     "data": {
      "text/html": [
       "<div>\n",
       "<style scoped>\n",
       "    .dataframe tbody tr th:only-of-type {\n",
       "        vertical-align: middle;\n",
       "    }\n",
       "\n",
       "    .dataframe tbody tr th {\n",
       "        vertical-align: top;\n",
       "    }\n",
       "\n",
       "    .dataframe thead th {\n",
       "        text-align: right;\n",
       "    }\n",
       "</style>\n",
       "<table border=\"1\" class=\"dataframe\">\n",
       "  <thead>\n",
       "    <tr style=\"text-align: right;\">\n",
       "      <th>Rating</th>\n",
       "      <th>1</th>\n",
       "      <th>2</th>\n",
       "      <th>3</th>\n",
       "      <th>4</th>\n",
       "      <th>5</th>\n",
       "    </tr>\n",
       "    <tr>\n",
       "      <th>Class Name</th>\n",
       "      <th></th>\n",
       "      <th></th>\n",
       "      <th></th>\n",
       "      <th></th>\n",
       "      <th></th>\n",
       "    </tr>\n",
       "  </thead>\n",
       "  <tbody>\n",
       "    <tr>\n",
       "      <th>Blouses</th>\n",
       "      <td>119</td>\n",
       "      <td>229</td>\n",
       "      <td>394</td>\n",
       "      <td>669</td>\n",
       "      <td>1686</td>\n",
       "    </tr>\n",
       "    <tr>\n",
       "      <th>Casual bottoms</th>\n",
       "      <td>0</td>\n",
       "      <td>0</td>\n",
       "      <td>0</td>\n",
       "      <td>1</td>\n",
       "      <td>1</td>\n",
       "    </tr>\n",
       "    <tr>\n",
       "      <th>Chemises</th>\n",
       "      <td>0</td>\n",
       "      <td>0</td>\n",
       "      <td>0</td>\n",
       "      <td>1</td>\n",
       "      <td>0</td>\n",
       "    </tr>\n",
       "    <tr>\n",
       "      <th>Dresses</th>\n",
       "      <td>228</td>\n",
       "      <td>461</td>\n",
       "      <td>838</td>\n",
       "      <td>1395</td>\n",
       "      <td>3397</td>\n",
       "    </tr>\n",
       "    <tr>\n",
       "      <th>Fine gauge</th>\n",
       "      <td>30</td>\n",
       "      <td>75</td>\n",
       "      <td>119</td>\n",
       "      <td>230</td>\n",
       "      <td>646</td>\n",
       "    </tr>\n",
       "    <tr>\n",
       "      <th>Intimates</th>\n",
       "      <td>7</td>\n",
       "      <td>8</td>\n",
       "      <td>16</td>\n",
       "      <td>27</td>\n",
       "      <td>96</td>\n",
       "    </tr>\n",
       "    <tr>\n",
       "      <th>Jackets</th>\n",
       "      <td>35</td>\n",
       "      <td>38</td>\n",
       "      <td>62</td>\n",
       "      <td>118</td>\n",
       "      <td>451</td>\n",
       "    </tr>\n",
       "    <tr>\n",
       "      <th>Jeans</th>\n",
       "      <td>30</td>\n",
       "      <td>55</td>\n",
       "      <td>115</td>\n",
       "      <td>218</td>\n",
       "      <td>729</td>\n",
       "    </tr>\n",
       "    <tr>\n",
       "      <th>Knits</th>\n",
       "      <td>178</td>\n",
       "      <td>328</td>\n",
       "      <td>616</td>\n",
       "      <td>1132</td>\n",
       "      <td>2589</td>\n",
       "    </tr>\n",
       "    <tr>\n",
       "      <th>Layering</th>\n",
       "      <td>3</td>\n",
       "      <td>8</td>\n",
       "      <td>9</td>\n",
       "      <td>37</td>\n",
       "      <td>89</td>\n",
       "    </tr>\n",
       "    <tr>\n",
       "      <th>Legwear</th>\n",
       "      <td>10</td>\n",
       "      <td>6</td>\n",
       "      <td>16</td>\n",
       "      <td>29</td>\n",
       "      <td>104</td>\n",
       "    </tr>\n",
       "    <tr>\n",
       "      <th>Lounge</th>\n",
       "      <td>23</td>\n",
       "      <td>25</td>\n",
       "      <td>78</td>\n",
       "      <td>160</td>\n",
       "      <td>405</td>\n",
       "    </tr>\n",
       "    <tr>\n",
       "      <th>Outerwear</th>\n",
       "      <td>14</td>\n",
       "      <td>22</td>\n",
       "      <td>29</td>\n",
       "      <td>83</td>\n",
       "      <td>180</td>\n",
       "    </tr>\n",
       "    <tr>\n",
       "      <th>Pants</th>\n",
       "      <td>42</td>\n",
       "      <td>82</td>\n",
       "      <td>157</td>\n",
       "      <td>291</td>\n",
       "      <td>816</td>\n",
       "    </tr>\n",
       "    <tr>\n",
       "      <th>Shorts</th>\n",
       "      <td>9</td>\n",
       "      <td>17</td>\n",
       "      <td>41</td>\n",
       "      <td>67</td>\n",
       "      <td>183</td>\n",
       "    </tr>\n",
       "    <tr>\n",
       "      <th>Skirts</th>\n",
       "      <td>34</td>\n",
       "      <td>51</td>\n",
       "      <td>108</td>\n",
       "      <td>208</td>\n",
       "      <td>544</td>\n",
       "    </tr>\n",
       "    <tr>\n",
       "      <th>Sleep</th>\n",
       "      <td>10</td>\n",
       "      <td>15</td>\n",
       "      <td>17</td>\n",
       "      <td>44</td>\n",
       "      <td>142</td>\n",
       "    </tr>\n",
       "    <tr>\n",
       "      <th>Sweaters</th>\n",
       "      <td>49</td>\n",
       "      <td>106</td>\n",
       "      <td>195</td>\n",
       "      <td>268</td>\n",
       "      <td>810</td>\n",
       "    </tr>\n",
       "    <tr>\n",
       "      <th>Swim</th>\n",
       "      <td>10</td>\n",
       "      <td>28</td>\n",
       "      <td>42</td>\n",
       "      <td>73</td>\n",
       "      <td>197</td>\n",
       "    </tr>\n",
       "    <tr>\n",
       "      <th>Trend</th>\n",
       "      <td>11</td>\n",
       "      <td>11</td>\n",
       "      <td>19</td>\n",
       "      <td>26</td>\n",
       "      <td>52</td>\n",
       "    </tr>\n",
       "  </tbody>\n",
       "</table>\n",
       "</div>"
      ],
      "text/plain": [
       "Rating            1    2    3     4     5\n",
       "Class Name                               \n",
       "Blouses         119  229  394   669  1686\n",
       "Casual bottoms    0    0    0     1     1\n",
       "Chemises          0    0    0     1     0\n",
       "Dresses         228  461  838  1395  3397\n",
       "Fine gauge       30   75  119   230   646\n",
       "Intimates         7    8   16    27    96\n",
       "Jackets          35   38   62   118   451\n",
       "Jeans            30   55  115   218   729\n",
       "Knits           178  328  616  1132  2589\n",
       "Layering          3    8    9    37    89\n",
       "Legwear          10    6   16    29   104\n",
       "Lounge           23   25   78   160   405\n",
       "Outerwear        14   22   29    83   180\n",
       "Pants            42   82  157   291   816\n",
       "Shorts            9   17   41    67   183\n",
       "Skirts           34   51  108   208   544\n",
       "Sleep            10   15   17    44   142\n",
       "Sweaters         49  106  195   268   810\n",
       "Swim             10   28   42    73   197\n",
       "Trend            11   11   19    26    52"
      ]
     },
     "execution_count": 68,
     "metadata": {},
     "output_type": "execute_result"
    }
   ],
   "source": [
    "#Analysing ratings for different class names\n",
    "pd.crosstab(df['Class Name'],df['Rating'])"
   ]
  },
  {
   "cell_type": "code",
   "execution_count": 69,
   "metadata": {},
   "outputs": [
    {
     "data": {
      "text/html": [
       "<div>\n",
       "<style scoped>\n",
       "    .dataframe tbody tr th:only-of-type {\n",
       "        vertical-align: middle;\n",
       "    }\n",
       "\n",
       "    .dataframe tbody tr th {\n",
       "        vertical-align: top;\n",
       "    }\n",
       "\n",
       "    .dataframe thead th {\n",
       "        text-align: right;\n",
       "    }\n",
       "</style>\n",
       "<table border=\"1\" class=\"dataframe\">\n",
       "  <thead>\n",
       "    <tr style=\"text-align: right;\">\n",
       "      <th>Rating</th>\n",
       "      <th>1</th>\n",
       "      <th>2</th>\n",
       "      <th>3</th>\n",
       "      <th>4</th>\n",
       "      <th>5</th>\n",
       "    </tr>\n",
       "    <tr>\n",
       "      <th>Class Name</th>\n",
       "      <th></th>\n",
       "      <th></th>\n",
       "      <th></th>\n",
       "      <th></th>\n",
       "      <th></th>\n",
       "    </tr>\n",
       "  </thead>\n",
       "  <tbody>\n",
       "    <tr>\n",
       "      <th>Blouses</th>\n",
       "      <td>0.038424</td>\n",
       "      <td>0.073943</td>\n",
       "      <td>0.127220</td>\n",
       "      <td>0.216015</td>\n",
       "      <td>0.544398</td>\n",
       "    </tr>\n",
       "    <tr>\n",
       "      <th>Casual bottoms</th>\n",
       "      <td>0.000000</td>\n",
       "      <td>0.000000</td>\n",
       "      <td>0.000000</td>\n",
       "      <td>0.500000</td>\n",
       "      <td>0.500000</td>\n",
       "    </tr>\n",
       "    <tr>\n",
       "      <th>Chemises</th>\n",
       "      <td>0.000000</td>\n",
       "      <td>0.000000</td>\n",
       "      <td>0.000000</td>\n",
       "      <td>1.000000</td>\n",
       "      <td>0.000000</td>\n",
       "    </tr>\n",
       "    <tr>\n",
       "      <th>Dresses</th>\n",
       "      <td>0.036082</td>\n",
       "      <td>0.072955</td>\n",
       "      <td>0.132616</td>\n",
       "      <td>0.220763</td>\n",
       "      <td>0.537585</td>\n",
       "    </tr>\n",
       "    <tr>\n",
       "      <th>Fine gauge</th>\n",
       "      <td>0.027273</td>\n",
       "      <td>0.068182</td>\n",
       "      <td>0.108182</td>\n",
       "      <td>0.209091</td>\n",
       "      <td>0.587273</td>\n",
       "    </tr>\n",
       "    <tr>\n",
       "      <th>Intimates</th>\n",
       "      <td>0.045455</td>\n",
       "      <td>0.051948</td>\n",
       "      <td>0.103896</td>\n",
       "      <td>0.175325</td>\n",
       "      <td>0.623377</td>\n",
       "    </tr>\n",
       "    <tr>\n",
       "      <th>Jackets</th>\n",
       "      <td>0.049716</td>\n",
       "      <td>0.053977</td>\n",
       "      <td>0.088068</td>\n",
       "      <td>0.167614</td>\n",
       "      <td>0.640625</td>\n",
       "    </tr>\n",
       "    <tr>\n",
       "      <th>Jeans</th>\n",
       "      <td>0.026155</td>\n",
       "      <td>0.047951</td>\n",
       "      <td>0.100262</td>\n",
       "      <td>0.190061</td>\n",
       "      <td>0.635571</td>\n",
       "    </tr>\n",
       "    <tr>\n",
       "      <th>Knits</th>\n",
       "      <td>0.036754</td>\n",
       "      <td>0.067727</td>\n",
       "      <td>0.127194</td>\n",
       "      <td>0.233739</td>\n",
       "      <td>0.534586</td>\n",
       "    </tr>\n",
       "    <tr>\n",
       "      <th>Layering</th>\n",
       "      <td>0.020548</td>\n",
       "      <td>0.054795</td>\n",
       "      <td>0.061644</td>\n",
       "      <td>0.253425</td>\n",
       "      <td>0.609589</td>\n",
       "    </tr>\n",
       "    <tr>\n",
       "      <th>Legwear</th>\n",
       "      <td>0.060606</td>\n",
       "      <td>0.036364</td>\n",
       "      <td>0.096970</td>\n",
       "      <td>0.175758</td>\n",
       "      <td>0.630303</td>\n",
       "    </tr>\n",
       "    <tr>\n",
       "      <th>Lounge</th>\n",
       "      <td>0.033285</td>\n",
       "      <td>0.036179</td>\n",
       "      <td>0.112880</td>\n",
       "      <td>0.231548</td>\n",
       "      <td>0.586107</td>\n",
       "    </tr>\n",
       "    <tr>\n",
       "      <th>Outerwear</th>\n",
       "      <td>0.042683</td>\n",
       "      <td>0.067073</td>\n",
       "      <td>0.088415</td>\n",
       "      <td>0.253049</td>\n",
       "      <td>0.548780</td>\n",
       "    </tr>\n",
       "    <tr>\n",
       "      <th>Pants</th>\n",
       "      <td>0.030259</td>\n",
       "      <td>0.059078</td>\n",
       "      <td>0.113112</td>\n",
       "      <td>0.209654</td>\n",
       "      <td>0.587896</td>\n",
       "    </tr>\n",
       "    <tr>\n",
       "      <th>Shorts</th>\n",
       "      <td>0.028391</td>\n",
       "      <td>0.053628</td>\n",
       "      <td>0.129338</td>\n",
       "      <td>0.211356</td>\n",
       "      <td>0.577287</td>\n",
       "    </tr>\n",
       "    <tr>\n",
       "      <th>Skirts</th>\n",
       "      <td>0.035979</td>\n",
       "      <td>0.053968</td>\n",
       "      <td>0.114286</td>\n",
       "      <td>0.220106</td>\n",
       "      <td>0.575661</td>\n",
       "    </tr>\n",
       "    <tr>\n",
       "      <th>Sleep</th>\n",
       "      <td>0.043860</td>\n",
       "      <td>0.065789</td>\n",
       "      <td>0.074561</td>\n",
       "      <td>0.192982</td>\n",
       "      <td>0.622807</td>\n",
       "    </tr>\n",
       "    <tr>\n",
       "      <th>Sweaters</th>\n",
       "      <td>0.034314</td>\n",
       "      <td>0.074230</td>\n",
       "      <td>0.136555</td>\n",
       "      <td>0.187675</td>\n",
       "      <td>0.567227</td>\n",
       "    </tr>\n",
       "    <tr>\n",
       "      <th>Swim</th>\n",
       "      <td>0.028571</td>\n",
       "      <td>0.080000</td>\n",
       "      <td>0.120000</td>\n",
       "      <td>0.208571</td>\n",
       "      <td>0.562857</td>\n",
       "    </tr>\n",
       "    <tr>\n",
       "      <th>Trend</th>\n",
       "      <td>0.092437</td>\n",
       "      <td>0.092437</td>\n",
       "      <td>0.159664</td>\n",
       "      <td>0.218487</td>\n",
       "      <td>0.436975</td>\n",
       "    </tr>\n",
       "  </tbody>\n",
       "</table>\n",
       "</div>"
      ],
      "text/plain": [
       "Rating                 1         2         3         4         5\n",
       "Class Name                                                      \n",
       "Blouses         0.038424  0.073943  0.127220  0.216015  0.544398\n",
       "Casual bottoms  0.000000  0.000000  0.000000  0.500000  0.500000\n",
       "Chemises        0.000000  0.000000  0.000000  1.000000  0.000000\n",
       "Dresses         0.036082  0.072955  0.132616  0.220763  0.537585\n",
       "Fine gauge      0.027273  0.068182  0.108182  0.209091  0.587273\n",
       "Intimates       0.045455  0.051948  0.103896  0.175325  0.623377\n",
       "Jackets         0.049716  0.053977  0.088068  0.167614  0.640625\n",
       "Jeans           0.026155  0.047951  0.100262  0.190061  0.635571\n",
       "Knits           0.036754  0.067727  0.127194  0.233739  0.534586\n",
       "Layering        0.020548  0.054795  0.061644  0.253425  0.609589\n",
       "Legwear         0.060606  0.036364  0.096970  0.175758  0.630303\n",
       "Lounge          0.033285  0.036179  0.112880  0.231548  0.586107\n",
       "Outerwear       0.042683  0.067073  0.088415  0.253049  0.548780\n",
       "Pants           0.030259  0.059078  0.113112  0.209654  0.587896\n",
       "Shorts          0.028391  0.053628  0.129338  0.211356  0.577287\n",
       "Skirts          0.035979  0.053968  0.114286  0.220106  0.575661\n",
       "Sleep           0.043860  0.065789  0.074561  0.192982  0.622807\n",
       "Sweaters        0.034314  0.074230  0.136555  0.187675  0.567227\n",
       "Swim            0.028571  0.080000  0.120000  0.208571  0.562857\n",
       "Trend           0.092437  0.092437  0.159664  0.218487  0.436975"
      ]
     },
     "execution_count": 69,
     "metadata": {},
     "output_type": "execute_result"
    }
   ],
   "source": [
    "#caalculating the percentage of each rating for every class\n",
    "pd.crosstab(df['Class Name'], df['Rating']).apply(lambda x: x/x.sum(), axis = 1)"
   ]
  },
  {
   "cell_type": "code",
   "execution_count": 70,
   "metadata": {},
   "outputs": [
    {
     "data": {
      "text/html": [
       "<div>\n",
       "<style scoped>\n",
       "    .dataframe tbody tr th:only-of-type {\n",
       "        vertical-align: middle;\n",
       "    }\n",
       "\n",
       "    .dataframe tbody tr th {\n",
       "        vertical-align: top;\n",
       "    }\n",
       "\n",
       "    .dataframe thead th {\n",
       "        text-align: right;\n",
       "    }\n",
       "</style>\n",
       "<table border=\"1\" class=\"dataframe\">\n",
       "  <thead>\n",
       "    <tr style=\"text-align: right;\">\n",
       "      <th></th>\n",
       "      <th>count</th>\n",
       "      <th>mean</th>\n",
       "      <th>std</th>\n",
       "      <th>min</th>\n",
       "      <th>25%</th>\n",
       "      <th>50%</th>\n",
       "      <th>75%</th>\n",
       "      <th>max</th>\n",
       "    </tr>\n",
       "    <tr>\n",
       "      <th>Class Name</th>\n",
       "      <th></th>\n",
       "      <th></th>\n",
       "      <th></th>\n",
       "      <th></th>\n",
       "      <th></th>\n",
       "      <th></th>\n",
       "      <th></th>\n",
       "      <th></th>\n",
       "    </tr>\n",
       "  </thead>\n",
       "  <tbody>\n",
       "    <tr>\n",
       "      <th>Blouses</th>\n",
       "      <td>3097.0</td>\n",
       "      <td>4.154020</td>\n",
       "      <td>1.135738</td>\n",
       "      <td>1.0</td>\n",
       "      <td>4.00</td>\n",
       "      <td>5.0</td>\n",
       "      <td>5.00</td>\n",
       "      <td>5.0</td>\n",
       "    </tr>\n",
       "    <tr>\n",
       "      <th>Casual bottoms</th>\n",
       "      <td>2.0</td>\n",
       "      <td>4.500000</td>\n",
       "      <td>0.707107</td>\n",
       "      <td>4.0</td>\n",
       "      <td>4.25</td>\n",
       "      <td>4.5</td>\n",
       "      <td>4.75</td>\n",
       "      <td>5.0</td>\n",
       "    </tr>\n",
       "    <tr>\n",
       "      <th>Chemises</th>\n",
       "      <td>1.0</td>\n",
       "      <td>4.000000</td>\n",
       "      <td>NaN</td>\n",
       "      <td>4.0</td>\n",
       "      <td>4.00</td>\n",
       "      <td>4.0</td>\n",
       "      <td>4.00</td>\n",
       "      <td>4.0</td>\n",
       "    </tr>\n",
       "    <tr>\n",
       "      <th>Dresses</th>\n",
       "      <td>6319.0</td>\n",
       "      <td>4.150815</td>\n",
       "      <td>1.124371</td>\n",
       "      <td>1.0</td>\n",
       "      <td>4.00</td>\n",
       "      <td>5.0</td>\n",
       "      <td>5.00</td>\n",
       "      <td>5.0</td>\n",
       "    </tr>\n",
       "    <tr>\n",
       "      <th>Fine gauge</th>\n",
       "      <td>1100.0</td>\n",
       "      <td>4.260909</td>\n",
       "      <td>1.070797</td>\n",
       "      <td>1.0</td>\n",
       "      <td>4.00</td>\n",
       "      <td>5.0</td>\n",
       "      <td>5.00</td>\n",
       "      <td>5.0</td>\n",
       "    </tr>\n",
       "    <tr>\n",
       "      <th>Intimates</th>\n",
       "      <td>154.0</td>\n",
       "      <td>4.279221</td>\n",
       "      <td>1.128923</td>\n",
       "      <td>1.0</td>\n",
       "      <td>4.00</td>\n",
       "      <td>5.0</td>\n",
       "      <td>5.00</td>\n",
       "      <td>5.0</td>\n",
       "    </tr>\n",
       "    <tr>\n",
       "      <th>Jackets</th>\n",
       "      <td>704.0</td>\n",
       "      <td>4.295455</td>\n",
       "      <td>1.143070</td>\n",
       "      <td>1.0</td>\n",
       "      <td>4.00</td>\n",
       "      <td>5.0</td>\n",
       "      <td>5.00</td>\n",
       "      <td>5.0</td>\n",
       "    </tr>\n",
       "    <tr>\n",
       "      <th>Jeans</th>\n",
       "      <td>1147.0</td>\n",
       "      <td>4.360942</td>\n",
       "      <td>1.016689</td>\n",
       "      <td>1.0</td>\n",
       "      <td>4.00</td>\n",
       "      <td>5.0</td>\n",
       "      <td>5.00</td>\n",
       "      <td>5.0</td>\n",
       "    </tr>\n",
       "    <tr>\n",
       "      <th>Knits</th>\n",
       "      <td>4843.0</td>\n",
       "      <td>4.161677</td>\n",
       "      <td>1.112470</td>\n",
       "      <td>1.0</td>\n",
       "      <td>4.00</td>\n",
       "      <td>5.0</td>\n",
       "      <td>5.00</td>\n",
       "      <td>5.0</td>\n",
       "    </tr>\n",
       "    <tr>\n",
       "      <th>Layering</th>\n",
       "      <td>146.0</td>\n",
       "      <td>4.376712</td>\n",
       "      <td>0.969468</td>\n",
       "      <td>1.0</td>\n",
       "      <td>4.00</td>\n",
       "      <td>5.0</td>\n",
       "      <td>5.00</td>\n",
       "      <td>5.0</td>\n",
       "    </tr>\n",
       "    <tr>\n",
       "      <th>Legwear</th>\n",
       "      <td>165.0</td>\n",
       "      <td>4.278788</td>\n",
       "      <td>1.161306</td>\n",
       "      <td>1.0</td>\n",
       "      <td>4.00</td>\n",
       "      <td>5.0</td>\n",
       "      <td>5.00</td>\n",
       "      <td>5.0</td>\n",
       "    </tr>\n",
       "    <tr>\n",
       "      <th>Lounge</th>\n",
       "      <td>691.0</td>\n",
       "      <td>4.301013</td>\n",
       "      <td>1.026736</td>\n",
       "      <td>1.0</td>\n",
       "      <td>4.00</td>\n",
       "      <td>5.0</td>\n",
       "      <td>5.00</td>\n",
       "      <td>5.0</td>\n",
       "    </tr>\n",
       "    <tr>\n",
       "      <th>Outerwear</th>\n",
       "      <td>328.0</td>\n",
       "      <td>4.198171</td>\n",
       "      <td>1.119905</td>\n",
       "      <td>1.0</td>\n",
       "      <td>4.00</td>\n",
       "      <td>5.0</td>\n",
       "      <td>5.00</td>\n",
       "      <td>5.0</td>\n",
       "    </tr>\n",
       "    <tr>\n",
       "      <th>Pants</th>\n",
       "      <td>1388.0</td>\n",
       "      <td>4.265850</td>\n",
       "      <td>1.067614</td>\n",
       "      <td>1.0</td>\n",
       "      <td>4.00</td>\n",
       "      <td>5.0</td>\n",
       "      <td>5.00</td>\n",
       "      <td>5.0</td>\n",
       "    </tr>\n",
       "    <tr>\n",
       "      <th>Shorts</th>\n",
       "      <td>317.0</td>\n",
       "      <td>4.255521</td>\n",
       "      <td>1.055880</td>\n",
       "      <td>1.0</td>\n",
       "      <td>4.00</td>\n",
       "      <td>5.0</td>\n",
       "      <td>5.00</td>\n",
       "      <td>5.0</td>\n",
       "    </tr>\n",
       "    <tr>\n",
       "      <th>Skirts</th>\n",
       "      <td>945.0</td>\n",
       "      <td>4.245503</td>\n",
       "      <td>1.081941</td>\n",
       "      <td>1.0</td>\n",
       "      <td>4.00</td>\n",
       "      <td>5.0</td>\n",
       "      <td>5.00</td>\n",
       "      <td>5.0</td>\n",
       "    </tr>\n",
       "    <tr>\n",
       "      <th>Sleep</th>\n",
       "      <td>228.0</td>\n",
       "      <td>4.285088</td>\n",
       "      <td>1.131194</td>\n",
       "      <td>1.0</td>\n",
       "      <td>4.00</td>\n",
       "      <td>5.0</td>\n",
       "      <td>5.00</td>\n",
       "      <td>5.0</td>\n",
       "    </tr>\n",
       "    <tr>\n",
       "      <th>Sweaters</th>\n",
       "      <td>1428.0</td>\n",
       "      <td>4.179272</td>\n",
       "      <td>1.130611</td>\n",
       "      <td>1.0</td>\n",
       "      <td>4.00</td>\n",
       "      <td>5.0</td>\n",
       "      <td>5.00</td>\n",
       "      <td>5.0</td>\n",
       "    </tr>\n",
       "    <tr>\n",
       "      <th>Swim</th>\n",
       "      <td>350.0</td>\n",
       "      <td>4.197143</td>\n",
       "      <td>1.106632</td>\n",
       "      <td>1.0</td>\n",
       "      <td>4.00</td>\n",
       "      <td>5.0</td>\n",
       "      <td>5.00</td>\n",
       "      <td>5.0</td>\n",
       "    </tr>\n",
       "    <tr>\n",
       "      <th>Trend</th>\n",
       "      <td>119.0</td>\n",
       "      <td>3.815126</td>\n",
       "      <td>1.333826</td>\n",
       "      <td>1.0</td>\n",
       "      <td>3.00</td>\n",
       "      <td>4.0</td>\n",
       "      <td>5.00</td>\n",
       "      <td>5.0</td>\n",
       "    </tr>\n",
       "  </tbody>\n",
       "</table>\n",
       "</div>"
      ],
      "text/plain": [
       "                 count      mean       std  min   25%  50%   75%  max\n",
       "Class Name                                                           \n",
       "Blouses         3097.0  4.154020  1.135738  1.0  4.00  5.0  5.00  5.0\n",
       "Casual bottoms     2.0  4.500000  0.707107  4.0  4.25  4.5  4.75  5.0\n",
       "Chemises           1.0  4.000000       NaN  4.0  4.00  4.0  4.00  4.0\n",
       "Dresses         6319.0  4.150815  1.124371  1.0  4.00  5.0  5.00  5.0\n",
       "Fine gauge      1100.0  4.260909  1.070797  1.0  4.00  5.0  5.00  5.0\n",
       "Intimates        154.0  4.279221  1.128923  1.0  4.00  5.0  5.00  5.0\n",
       "Jackets          704.0  4.295455  1.143070  1.0  4.00  5.0  5.00  5.0\n",
       "Jeans           1147.0  4.360942  1.016689  1.0  4.00  5.0  5.00  5.0\n",
       "Knits           4843.0  4.161677  1.112470  1.0  4.00  5.0  5.00  5.0\n",
       "Layering         146.0  4.376712  0.969468  1.0  4.00  5.0  5.00  5.0\n",
       "Legwear          165.0  4.278788  1.161306  1.0  4.00  5.0  5.00  5.0\n",
       "Lounge           691.0  4.301013  1.026736  1.0  4.00  5.0  5.00  5.0\n",
       "Outerwear        328.0  4.198171  1.119905  1.0  4.00  5.0  5.00  5.0\n",
       "Pants           1388.0  4.265850  1.067614  1.0  4.00  5.0  5.00  5.0\n",
       "Shorts           317.0  4.255521  1.055880  1.0  4.00  5.0  5.00  5.0\n",
       "Skirts           945.0  4.245503  1.081941  1.0  4.00  5.0  5.00  5.0\n",
       "Sleep            228.0  4.285088  1.131194  1.0  4.00  5.0  5.00  5.0\n",
       "Sweaters        1428.0  4.179272  1.130611  1.0  4.00  5.0  5.00  5.0\n",
       "Swim             350.0  4.197143  1.106632  1.0  4.00  5.0  5.00  5.0\n",
       "Trend            119.0  3.815126  1.333826  1.0  3.00  4.0  5.00  5.0"
      ]
     },
     "execution_count": 70,
     "metadata": {},
     "output_type": "execute_result"
    }
   ],
   "source": [
    "df.groupby(by = ['Class Name'])['Rating'].describe()"
   ]
  },
  {
   "cell_type": "markdown",
   "metadata": {},
   "source": [
    "Observation: There seems  difference between the ratings of all the classes of clothes.  \n",
    "(This column might contribute in our model)"
   ]
  },
  {
   "cell_type": "markdown",
   "metadata": {},
   "source": [
    "Which age group gives what length of comments on what type of clothes?"
   ]
  },
  {
   "cell_type": "code",
   "execution_count": 71,
   "metadata": {},
   "outputs": [
    {
     "data": {
      "text/html": [
       "<div>\n",
       "<style scoped>\n",
       "    .dataframe tbody tr th:only-of-type {\n",
       "        vertical-align: middle;\n",
       "    }\n",
       "\n",
       "    .dataframe tbody tr th {\n",
       "        vertical-align: top;\n",
       "    }\n",
       "\n",
       "    .dataframe thead th {\n",
       "        text-align: right;\n",
       "    }\n",
       "</style>\n",
       "<table border=\"1\" class=\"dataframe\">\n",
       "  <thead>\n",
       "    <tr style=\"text-align: right;\">\n",
       "      <th></th>\n",
       "      <th>Unnamed: 0</th>\n",
       "      <th>Clothing ID</th>\n",
       "      <th>Age</th>\n",
       "      <th>Title</th>\n",
       "      <th>Review Text</th>\n",
       "      <th>Rating</th>\n",
       "      <th>Recommended IND</th>\n",
       "      <th>Positive Feedback Count</th>\n",
       "      <th>Division Name</th>\n",
       "      <th>Department Name</th>\n",
       "      <th>Class Name</th>\n",
       "      <th>age_bucket</th>\n",
       "      <th>Review Length</th>\n",
       "    </tr>\n",
       "  </thead>\n",
       "  <tbody>\n",
       "    <tr>\n",
       "      <th>0</th>\n",
       "      <td>0</td>\n",
       "      <td>767</td>\n",
       "      <td>33</td>\n",
       "      <td>NaN</td>\n",
       "      <td>Absolutely wonderful - silky and sexy and comf...</td>\n",
       "      <td>4</td>\n",
       "      <td>1</td>\n",
       "      <td>0</td>\n",
       "      <td>Initmates</td>\n",
       "      <td>Intimate</td>\n",
       "      <td>Intimates</td>\n",
       "      <td>30s</td>\n",
       "      <td>53</td>\n",
       "    </tr>\n",
       "    <tr>\n",
       "      <th>1</th>\n",
       "      <td>1</td>\n",
       "      <td>1080</td>\n",
       "      <td>34</td>\n",
       "      <td>NaN</td>\n",
       "      <td>Love this dress!  it's sooo pretty.  i happene...</td>\n",
       "      <td>5</td>\n",
       "      <td>1</td>\n",
       "      <td>4</td>\n",
       "      <td>General</td>\n",
       "      <td>Dresses</td>\n",
       "      <td>Dresses</td>\n",
       "      <td>30s</td>\n",
       "      <td>303</td>\n",
       "    </tr>\n",
       "    <tr>\n",
       "      <th>2</th>\n",
       "      <td>2</td>\n",
       "      <td>1077</td>\n",
       "      <td>60</td>\n",
       "      <td>Some major design flaws</td>\n",
       "      <td>I had such high hopes for this dress and reall...</td>\n",
       "      <td>3</td>\n",
       "      <td>0</td>\n",
       "      <td>0</td>\n",
       "      <td>General</td>\n",
       "      <td>Dresses</td>\n",
       "      <td>Dresses</td>\n",
       "      <td>60s</td>\n",
       "      <td>500</td>\n",
       "    </tr>\n",
       "    <tr>\n",
       "      <th>3</th>\n",
       "      <td>3</td>\n",
       "      <td>1049</td>\n",
       "      <td>50</td>\n",
       "      <td>My favorite buy!</td>\n",
       "      <td>I love, love, love this jumpsuit. it's fun, fl...</td>\n",
       "      <td>5</td>\n",
       "      <td>1</td>\n",
       "      <td>0</td>\n",
       "      <td>General Petite</td>\n",
       "      <td>Bottoms</td>\n",
       "      <td>Pants</td>\n",
       "      <td>50s</td>\n",
       "      <td>124</td>\n",
       "    </tr>\n",
       "    <tr>\n",
       "      <th>4</th>\n",
       "      <td>4</td>\n",
       "      <td>847</td>\n",
       "      <td>47</td>\n",
       "      <td>Flattering shirt</td>\n",
       "      <td>This shirt is very flattering to all due to th...</td>\n",
       "      <td>5</td>\n",
       "      <td>1</td>\n",
       "      <td>6</td>\n",
       "      <td>General</td>\n",
       "      <td>Tops</td>\n",
       "      <td>Blouses</td>\n",
       "      <td>40s</td>\n",
       "      <td>192</td>\n",
       "    </tr>\n",
       "  </tbody>\n",
       "</table>\n",
       "</div>"
      ],
      "text/plain": [
       "   Unnamed: 0  Clothing ID  Age                    Title  \\\n",
       "0           0          767   33                      NaN   \n",
       "1           1         1080   34                      NaN   \n",
       "2           2         1077   60  Some major design flaws   \n",
       "3           3         1049   50         My favorite buy!   \n",
       "4           4          847   47         Flattering shirt   \n",
       "\n",
       "                                         Review Text  Rating  Recommended IND  \\\n",
       "0  Absolutely wonderful - silky and sexy and comf...       4                1   \n",
       "1  Love this dress!  it's sooo pretty.  i happene...       5                1   \n",
       "2  I had such high hopes for this dress and reall...       3                0   \n",
       "3  I love, love, love this jumpsuit. it's fun, fl...       5                1   \n",
       "4  This shirt is very flattering to all due to th...       5                1   \n",
       "\n",
       "   Positive Feedback Count   Division Name Department Name Class Name  \\\n",
       "0                        0       Initmates        Intimate  Intimates   \n",
       "1                        4         General         Dresses    Dresses   \n",
       "2                        0         General         Dresses    Dresses   \n",
       "3                        0  General Petite         Bottoms      Pants   \n",
       "4                        6         General            Tops    Blouses   \n",
       "\n",
       "  age_bucket  Review Length  \n",
       "0        30s             53  \n",
       "1        30s            303  \n",
       "2        60s            500  \n",
       "3        50s            124  \n",
       "4        40s            192  "
      ]
     },
     "execution_count": 71,
     "metadata": {},
     "output_type": "execute_result"
    }
   ],
   "source": [
    "df['Review Length'] = df['Review Text'].astype(str).apply(len)\n",
    "df.head()"
   ]
  },
  {
   "cell_type": "code",
   "execution_count": 72,
   "metadata": {},
   "outputs": [
    {
     "data": {
      "image/png": "[encoded data removed]",
      "text/plain": [
       "<Figure size 720x360 with 1 Axes>"
      ]
     },
     "metadata": {},
     "output_type": "display_data"
    }
   ],
   "source": [
    "fig = plt.figure(figsize=(10, 5))\n",
    "ax = sns.distplot(df['Review Length'])\n",
    "ax = plt.title(\"Length of Reviews\")"
   ]
  },
  {
   "cell_type": "code",
   "execution_count": 73,
   "metadata": {},
   "outputs": [
    {
     "data": {
      "text/plain": [
       "count    23486.000000\n",
       "mean       297.581623\n",
       "std        152.572698\n",
       "min          0.000000\n",
       "25%        173.000000\n",
       "50%        292.000000\n",
       "75%        451.000000\n",
       "max        508.000000\n",
       "Name: Review Length, dtype: float64"
      ]
     },
     "execution_count": 73,
     "metadata": {},
     "output_type": "execute_result"
    }
   ],
   "source": [
    "df['Review Length'].describe()"
   ]
  },
  {
   "cell_type": "markdown",
   "metadata": {},
   "source": [
    "Observation: Length of reviews vary from 0(no review) to 508. with a standard deviation of 152"
   ]
  },
  {
   "cell_type": "code",
   "execution_count": 74,
   "metadata": {},
   "outputs": [
    {
     "data": {
      "text/plain": [
       "<matplotlib.axes._subplots.AxesSubplot at 0x18f3ead8>"
      ]
     },
     "execution_count": 74,
     "metadata": {},
     "output_type": "execute_result"
    },
    {
     "data": {
      "image/png": "[encoded data removed]",
      "text/plain": [
       "<Figure size 864x576 with 1 Axes>"
      ]
     },
     "metadata": {},
     "output_type": "display_data"
    }
   ],
   "source": [
    "#visualizing review lengthof different age groups\n",
    "plt.figure(figsize=(12,8))\n",
    "sns.boxplot(x ='age_bucket' , y = 'Review Length', data = df)"
   ]
  },
  {
   "cell_type": "markdown",
   "metadata": {},
   "source": [
    "Observation: Women in their 80s and 60s write longer reviews  \n",
    "Length of reviews is shorter for age bucket 90s except some outliers"
   ]
  },
  {
   "cell_type": "code",
   "execution_count": 75,
   "metadata": {},
   "outputs": [
    {
     "data": {
      "image/png": "[encoded data removed]",
      "text/plain": [
       "<Figure size 1440x576 with 1 Axes>"
      ]
     },
     "metadata": {},
     "output_type": "display_data"
    }
   ],
   "source": [
    "#Visualizing review lengths of different classes\n",
    "fig,ax=plt.subplots(figsize = (20,8)) \n",
    "sns.boxplot(x = 'Class Name', y = 'Review Length', data = df)\n",
    "ax=plt.xticks(rotation=45)"
   ]
  },
  {
   "cell_type": "markdown",
   "metadata": {},
   "source": [
    "Observation: People tend to write longer reviews for Dresses,Pants, Outerwear and trendy clothes "
   ]
  },
  {
   "cell_type": "markdown",
   "metadata": {},
   "source": [
    "What is the correlation between different data fields?"
   ]
  },
  {
   "cell_type": "code",
   "execution_count": 76,
   "metadata": {},
   "outputs": [],
   "source": [
    "correlation = df.corr()"
   ]
  },
  {
   "cell_type": "code",
   "execution_count": 77,
   "metadata": {
    "scrolled": true
   },
   "outputs": [
    {
     "data": {
      "text/html": [
       "<div>\n",
       "<style scoped>\n",
       "    .dataframe tbody tr th:only-of-type {\n",
       "        vertical-align: middle;\n",
       "    }\n",
       "\n",
       "    .dataframe tbody tr th {\n",
       "        vertical-align: top;\n",
       "    }\n",
       "\n",
       "    .dataframe thead th {\n",
       "        text-align: right;\n",
       "    }\n",
       "</style>\n",
       "<table border=\"1\" class=\"dataframe\">\n",
       "  <thead>\n",
       "    <tr style=\"text-align: right;\">\n",
       "      <th></th>\n",
       "      <th>Unnamed: 0</th>\n",
       "      <th>Clothing ID</th>\n",
       "      <th>Age</th>\n",
       "      <th>Rating</th>\n",
       "      <th>Recommended IND</th>\n",
       "      <th>Positive Feedback Count</th>\n",
       "      <th>Review Length</th>\n",
       "    </tr>\n",
       "  </thead>\n",
       "  <tbody>\n",
       "    <tr>\n",
       "      <th>Unnamed: 0</th>\n",
       "      <td>1.000000</td>\n",
       "      <td>-0.006072</td>\n",
       "      <td>-0.007749</td>\n",
       "      <td>-0.002568</td>\n",
       "      <td>-0.003887</td>\n",
       "      <td>-0.002907</td>\n",
       "      <td>0.009525</td>\n",
       "    </tr>\n",
       "    <tr>\n",
       "      <th>Clothing ID</th>\n",
       "      <td>-0.006072</td>\n",
       "      <td>1.000000</td>\n",
       "      <td>0.017972</td>\n",
       "      <td>-0.018879</td>\n",
       "      <td>-0.016206</td>\n",
       "      <td>0.046356</td>\n",
       "      <td>0.096805</td>\n",
       "    </tr>\n",
       "    <tr>\n",
       "      <th>Age</th>\n",
       "      <td>-0.007749</td>\n",
       "      <td>0.017972</td>\n",
       "      <td>1.000000</td>\n",
       "      <td>0.026831</td>\n",
       "      <td>0.030622</td>\n",
       "      <td>0.043079</td>\n",
       "      <td>0.026631</td>\n",
       "    </tr>\n",
       "    <tr>\n",
       "      <th>Rating</th>\n",
       "      <td>-0.002568</td>\n",
       "      <td>-0.018879</td>\n",
       "      <td>0.026831</td>\n",
       "      <td>1.000000</td>\n",
       "      <td>0.792336</td>\n",
       "      <td>-0.064961</td>\n",
       "      <td>-0.073289</td>\n",
       "    </tr>\n",
       "    <tr>\n",
       "      <th>Recommended IND</th>\n",
       "      <td>-0.003887</td>\n",
       "      <td>-0.016206</td>\n",
       "      <td>0.030622</td>\n",
       "      <td>0.792336</td>\n",
       "      <td>1.000000</td>\n",
       "      <td>-0.069045</td>\n",
       "      <td>-0.046714</td>\n",
       "    </tr>\n",
       "    <tr>\n",
       "      <th>Positive Feedback Count</th>\n",
       "      <td>-0.002907</td>\n",
       "      <td>0.046356</td>\n",
       "      <td>0.043079</td>\n",
       "      <td>-0.064961</td>\n",
       "      <td>-0.069045</td>\n",
       "      <td>1.000000</td>\n",
       "      <td>0.208822</td>\n",
       "    </tr>\n",
       "    <tr>\n",
       "      <th>Review Length</th>\n",
       "      <td>0.009525</td>\n",
       "      <td>0.096805</td>\n",
       "      <td>0.026631</td>\n",
       "      <td>-0.073289</td>\n",
       "      <td>-0.046714</td>\n",
       "      <td>0.208822</td>\n",
       "      <td>1.000000</td>\n",
       "    </tr>\n",
       "  </tbody>\n",
       "</table>\n",
       "</div>"
      ],
      "text/plain": [
       "                         Unnamed: 0  Clothing ID       Age    Rating  \\\n",
       "Unnamed: 0                 1.000000    -0.006072 -0.007749 -0.002568   \n",
       "Clothing ID               -0.006072     1.000000  0.017972 -0.018879   \n",
       "Age                       -0.007749     0.017972  1.000000  0.026831   \n",
       "Rating                    -0.002568    -0.018879  0.026831  1.000000   \n",
       "Recommended IND           -0.003887    -0.016206  0.030622  0.792336   \n",
       "Positive Feedback Count   -0.002907     0.046356  0.043079 -0.064961   \n",
       "Review Length              0.009525     0.096805  0.026631 -0.073289   \n",
       "\n",
       "                         Recommended IND  Positive Feedback Count  \\\n",
       "Unnamed: 0                     -0.003887                -0.002907   \n",
       "Clothing ID                    -0.016206                 0.046356   \n",
       "Age                             0.030622                 0.043079   \n",
       "Rating                          0.792336                -0.064961   \n",
       "Recommended IND                 1.000000                -0.069045   \n",
       "Positive Feedback Count        -0.069045                 1.000000   \n",
       "Review Length                  -0.046714                 0.208822   \n",
       "\n",
       "                         Review Length  \n",
       "Unnamed: 0                    0.009525  \n",
       "Clothing ID                   0.096805  \n",
       "Age                           0.026631  \n",
       "Rating                       -0.073289  \n",
       "Recommended IND              -0.046714  \n",
       "Positive Feedback Count       0.208822  \n",
       "Review Length                 1.000000  "
      ]
     },
     "execution_count": 77,
     "metadata": {},
     "output_type": "execute_result"
    }
   ],
   "source": [
    "correlation"
   ]
  },
  {
   "cell_type": "code",
   "execution_count": 78,
   "metadata": {},
   "outputs": [
    {
     "data": {
      "text/plain": [
       "<matplotlib.axes._subplots.AxesSubplot at 0x19a25628>"
      ]
     },
     "execution_count": 78,
     "metadata": {},
     "output_type": "execute_result"
    },
    {
     "data": {
      "image/png": "[encoded data removed]",
      "text/plain": [
       "<Figure size 792x360 with 2 Axes>"
      ]
     },
     "metadata": {},
     "output_type": "display_data"
    }
   ],
   "source": [
    "#ploting heatmap to get an overview\n",
    "sns.heatmap(correlation)"
   ]
  },
  {
   "cell_type": "markdown",
   "metadata": {},
   "source": [
    "Observation: The heatmap shows that there is a strong correlation between Rating and Recommended IND."
   ]
  },
  {
   "cell_type": "markdown",
   "metadata": {},
   "source": [
    "### Text Preprocessing"
   ]
  },
  {
   "cell_type": "code",
   "execution_count": 79,
   "metadata": {},
   "outputs": [],
   "source": [
    "#defining a function to clean and tokenize the review text\n",
    "#transfering the text to lowercase\n",
    "def clean_and_tokenize(review):\n",
    "    text = review.lower()\n",
    "   \n",
    "    tokenizer = nltk.tokenize.TreebankWordTokenizer()\n",
    "    tokens = tokenizer.tokenize(text)\n",
    "    \n",
    "    stemmer = nltk.stem.WordNetLemmatizer()\n",
    "    text = \" \".join(stemmer.lemmatize(token) for token in tokens)\n",
    "    text = re.sub(\"[^a-z']\",\" \", text)\n",
    "    return text\n",
    "df[\"Clean_Review\"] = df[\"Review Text\"].apply(clean_and_tokenize)"
   ]
  },
  {
   "cell_type": "code",
   "execution_count": 80,
   "metadata": {},
   "outputs": [
    {
     "data": {
      "text/html": [
       "<div>\n",
       "<style scoped>\n",
       "    .dataframe tbody tr th:only-of-type {\n",
       "        vertical-align: middle;\n",
       "    }\n",
       "\n",
       "    .dataframe tbody tr th {\n",
       "        vertical-align: top;\n",
       "    }\n",
       "\n",
       "    .dataframe thead th {\n",
       "        text-align: right;\n",
       "    }\n",
       "</style>\n",
       "<table border=\"1\" class=\"dataframe\">\n",
       "  <thead>\n",
       "    <tr style=\"text-align: right;\">\n",
       "      <th></th>\n",
       "      <th>Unnamed: 0</th>\n",
       "      <th>Clothing ID</th>\n",
       "      <th>Age</th>\n",
       "      <th>Title</th>\n",
       "      <th>Review Text</th>\n",
       "      <th>Rating</th>\n",
       "      <th>Recommended IND</th>\n",
       "      <th>Positive Feedback Count</th>\n",
       "      <th>Division Name</th>\n",
       "      <th>Department Name</th>\n",
       "      <th>Class Name</th>\n",
       "      <th>age_bucket</th>\n",
       "      <th>Review Length</th>\n",
       "      <th>Clean_Review</th>\n",
       "    </tr>\n",
       "  </thead>\n",
       "  <tbody>\n",
       "    <tr>\n",
       "      <th>0</th>\n",
       "      <td>0</td>\n",
       "      <td>767</td>\n",
       "      <td>33</td>\n",
       "      <td>NaN</td>\n",
       "      <td>Absolutely wonderful - silky and sexy and comf...</td>\n",
       "      <td>4</td>\n",
       "      <td>1</td>\n",
       "      <td>0</td>\n",
       "      <td>Initmates</td>\n",
       "      <td>Intimate</td>\n",
       "      <td>Intimates</td>\n",
       "      <td>30s</td>\n",
       "      <td>53</td>\n",
       "      <td>absolutely wonderful   silky and sexy and comf...</td>\n",
       "    </tr>\n",
       "    <tr>\n",
       "      <th>1</th>\n",
       "      <td>1</td>\n",
       "      <td>1080</td>\n",
       "      <td>34</td>\n",
       "      <td>NaN</td>\n",
       "      <td>Love this dress!  it's sooo pretty.  i happene...</td>\n",
       "      <td>5</td>\n",
       "      <td>1</td>\n",
       "      <td>4</td>\n",
       "      <td>General</td>\n",
       "      <td>Dresses</td>\n",
       "      <td>Dresses</td>\n",
       "      <td>30s</td>\n",
       "      <td>303</td>\n",
       "      <td>love this dress   it 's sooo pretty  i happene...</td>\n",
       "    </tr>\n",
       "    <tr>\n",
       "      <th>2</th>\n",
       "      <td>2</td>\n",
       "      <td>1077</td>\n",
       "      <td>60</td>\n",
       "      <td>Some major design flaws</td>\n",
       "      <td>I had such high hopes for this dress and reall...</td>\n",
       "      <td>3</td>\n",
       "      <td>0</td>\n",
       "      <td>0</td>\n",
       "      <td>General</td>\n",
       "      <td>Dresses</td>\n",
       "      <td>Dresses</td>\n",
       "      <td>60s</td>\n",
       "      <td>500</td>\n",
       "      <td>i had such high hope for this dress and really...</td>\n",
       "    </tr>\n",
       "    <tr>\n",
       "      <th>3</th>\n",
       "      <td>3</td>\n",
       "      <td>1049</td>\n",
       "      <td>50</td>\n",
       "      <td>My favorite buy!</td>\n",
       "      <td>I love, love, love this jumpsuit. it's fun, fl...</td>\n",
       "      <td>5</td>\n",
       "      <td>1</td>\n",
       "      <td>0</td>\n",
       "      <td>General Petite</td>\n",
       "      <td>Bottoms</td>\n",
       "      <td>Pants</td>\n",
       "      <td>50s</td>\n",
       "      <td>124</td>\n",
       "      <td>i love   love   love this jumpsuit  it 's fun ...</td>\n",
       "    </tr>\n",
       "    <tr>\n",
       "      <th>4</th>\n",
       "      <td>4</td>\n",
       "      <td>847</td>\n",
       "      <td>47</td>\n",
       "      <td>Flattering shirt</td>\n",
       "      <td>This shirt is very flattering to all due to th...</td>\n",
       "      <td>5</td>\n",
       "      <td>1</td>\n",
       "      <td>6</td>\n",
       "      <td>General</td>\n",
       "      <td>Tops</td>\n",
       "      <td>Blouses</td>\n",
       "      <td>40s</td>\n",
       "      <td>192</td>\n",
       "      <td>this shirt is very flattering to all due to th...</td>\n",
       "    </tr>\n",
       "  </tbody>\n",
       "</table>\n",
       "</div>"
      ],
      "text/plain": [
       "   Unnamed: 0  Clothing ID  Age                    Title  \\\n",
       "0           0          767   33                      NaN   \n",
       "1           1         1080   34                      NaN   \n",
       "2           2         1077   60  Some major design flaws   \n",
       "3           3         1049   50         My favorite buy!   \n",
       "4           4          847   47         Flattering shirt   \n",
       "\n",
       "                                         Review Text  Rating  Recommended IND  \\\n",
       "0  Absolutely wonderful - silky and sexy and comf...       4                1   \n",
       "1  Love this dress!  it's sooo pretty.  i happene...       5                1   \n",
       "2  I had such high hopes for this dress and reall...       3                0   \n",
       "3  I love, love, love this jumpsuit. it's fun, fl...       5                1   \n",
       "4  This shirt is very flattering to all due to th...       5                1   \n",
       "\n",
       "   Positive Feedback Count   Division Name Department Name Class Name  \\\n",
       "0                        0       Initmates        Intimate  Intimates   \n",
       "1                        4         General         Dresses    Dresses   \n",
       "2                        0         General         Dresses    Dresses   \n",
       "3                        0  General Petite         Bottoms      Pants   \n",
       "4                        6         General            Tops    Blouses   \n",
       "\n",
       "  age_bucket  Review Length                                       Clean_Review  \n",
       "0        30s             53  absolutely wonderful   silky and sexy and comf...  \n",
       "1        30s            303  love this dress   it 's sooo pretty  i happene...  \n",
       "2        60s            500  i had such high hope for this dress and really...  \n",
       "3        50s            124  i love   love   love this jumpsuit  it 's fun ...  \n",
       "4        40s            192  this shirt is very flattering to all due to th...  "
      ]
     },
     "execution_count": 80,
     "metadata": {},
     "output_type": "execute_result"
    }
   ],
   "source": [
    "df.head()"
   ]
  },
  {
   "cell_type": "code",
   "execution_count": 81,
   "metadata": {
    "scrolled": true
   },
   "outputs": [
    {
     "data": {
      "text/html": [
       "<div>\n",
       "<style scoped>\n",
       "    .dataframe tbody tr th:only-of-type {\n",
       "        vertical-align: middle;\n",
       "    }\n",
       "\n",
       "    .dataframe tbody tr th {\n",
       "        vertical-align: top;\n",
       "    }\n",
       "\n",
       "    .dataframe thead th {\n",
       "        text-align: right;\n",
       "    }\n",
       "</style>\n",
       "<table border=\"1\" class=\"dataframe\">\n",
       "  <thead>\n",
       "    <tr style=\"text-align: right;\">\n",
       "      <th></th>\n",
       "      <th>Unnamed: 0</th>\n",
       "      <th>Clothing ID</th>\n",
       "      <th>Age</th>\n",
       "      <th>Title</th>\n",
       "      <th>Review Text</th>\n",
       "      <th>Rating</th>\n",
       "      <th>Recommended IND</th>\n",
       "      <th>Positive Feedback Count</th>\n",
       "      <th>Division Name</th>\n",
       "      <th>Department Name</th>\n",
       "      <th>Class Name</th>\n",
       "      <th>age_bucket</th>\n",
       "      <th>Review Length</th>\n",
       "      <th>Clean_Review</th>\n",
       "      <th>Word Counts</th>\n",
       "    </tr>\n",
       "  </thead>\n",
       "  <tbody>\n",
       "    <tr>\n",
       "      <th>0</th>\n",
       "      <td>0</td>\n",
       "      <td>767</td>\n",
       "      <td>33</td>\n",
       "      <td>NaN</td>\n",
       "      <td>Absolutely wonderful - silky and sexy and comf...</td>\n",
       "      <td>4</td>\n",
       "      <td>1</td>\n",
       "      <td>0</td>\n",
       "      <td>Initmates</td>\n",
       "      <td>Intimate</td>\n",
       "      <td>Intimates</td>\n",
       "      <td>30s</td>\n",
       "      <td>53</td>\n",
       "      <td>absolutely wonderful   silky and sexy and comf...</td>\n",
       "      <td>{'absolutely': 1, 'and': 2, 'comfortable': 1, ...</td>\n",
       "    </tr>\n",
       "    <tr>\n",
       "      <th>1</th>\n",
       "      <td>1</td>\n",
       "      <td>1080</td>\n",
       "      <td>34</td>\n",
       "      <td>NaN</td>\n",
       "      <td>Love this dress!  it's sooo pretty.  i happene...</td>\n",
       "      <td>5</td>\n",
       "      <td>1</td>\n",
       "      <td>4</td>\n",
       "      <td>General</td>\n",
       "      <td>Dresses</td>\n",
       "      <td>Dresses</td>\n",
       "      <td>30s</td>\n",
       "      <td>303</td>\n",
       "      <td>love this dress   it 's sooo pretty  i happene...</td>\n",
       "      <td>{'am': 1, 'and': 2, 'bc': 2, 'be': 1, 'below':...</td>\n",
       "    </tr>\n",
       "    <tr>\n",
       "      <th>2</th>\n",
       "      <td>2</td>\n",
       "      <td>1077</td>\n",
       "      <td>60</td>\n",
       "      <td>Some major design flaws</td>\n",
       "      <td>I had such high hopes for this dress and reall...</td>\n",
       "      <td>3</td>\n",
       "      <td>0</td>\n",
       "      <td>0</td>\n",
       "      <td>General</td>\n",
       "      <td>Dresses</td>\n",
       "      <td>Dresses</td>\n",
       "      <td>60s</td>\n",
       "      <td>500</td>\n",
       "      <td>i had such high hope for this dress and really...</td>\n",
       "      <td>{'and': 3, 'be': 1, 'bottom': 1, 'but': 2, 'ch...</td>\n",
       "    </tr>\n",
       "    <tr>\n",
       "      <th>3</th>\n",
       "      <td>3</td>\n",
       "      <td>1049</td>\n",
       "      <td>50</td>\n",
       "      <td>My favorite buy!</td>\n",
       "      <td>I love, love, love this jumpsuit. it's fun, fl...</td>\n",
       "      <td>5</td>\n",
       "      <td>1</td>\n",
       "      <td>0</td>\n",
       "      <td>General Petite</td>\n",
       "      <td>Bottoms</td>\n",
       "      <td>Pants</td>\n",
       "      <td>50s</td>\n",
       "      <td>124</td>\n",
       "      <td>i love   love   love this jumpsuit  it 's fun ...</td>\n",
       "      <td>{'and': 1, 'but': 1, 'compliments': 1, 'every'...</td>\n",
       "    </tr>\n",
       "    <tr>\n",
       "      <th>4</th>\n",
       "      <td>4</td>\n",
       "      <td>847</td>\n",
       "      <td>47</td>\n",
       "      <td>Flattering shirt</td>\n",
       "      <td>This shirt is very flattering to all due to th...</td>\n",
       "      <td>5</td>\n",
       "      <td>1</td>\n",
       "      <td>6</td>\n",
       "      <td>General</td>\n",
       "      <td>Tops</td>\n",
       "      <td>Blouses</td>\n",
       "      <td>40s</td>\n",
       "      <td>192</td>\n",
       "      <td>this shirt is very flattering to all due to th...</td>\n",
       "      <td>{'adjustable': 1, 'all': 1, 'and': 1, 'any': 1...</td>\n",
       "    </tr>\n",
       "  </tbody>\n",
       "</table>\n",
       "</div>"
      ],
      "text/plain": [
       "   Unnamed: 0  Clothing ID  Age                    Title  \\\n",
       "0           0          767   33                      NaN   \n",
       "1           1         1080   34                      NaN   \n",
       "2           2         1077   60  Some major design flaws   \n",
       "3           3         1049   50         My favorite buy!   \n",
       "4           4          847   47         Flattering shirt   \n",
       "\n",
       "                                         Review Text  Rating  Recommended IND  \\\n",
       "0  Absolutely wonderful - silky and sexy and comf...       4                1   \n",
       "1  Love this dress!  it's sooo pretty.  i happene...       5                1   \n",
       "2  I had such high hopes for this dress and reall...       3                0   \n",
       "3  I love, love, love this jumpsuit. it's fun, fl...       5                1   \n",
       "4  This shirt is very flattering to all due to th...       5                1   \n",
       "\n",
       "   Positive Feedback Count   Division Name Department Name Class Name  \\\n",
       "0                        0       Initmates        Intimate  Intimates   \n",
       "1                        4         General         Dresses    Dresses   \n",
       "2                        0         General         Dresses    Dresses   \n",
       "3                        0  General Petite         Bottoms      Pants   \n",
       "4                        6         General            Tops    Blouses   \n",
       "\n",
       "  age_bucket  Review Length  \\\n",
       "0        30s             53   \n",
       "1        30s            303   \n",
       "2        60s            500   \n",
       "3        50s            124   \n",
       "4        40s            192   \n",
       "\n",
       "                                        Clean_Review  \\\n",
       "0  absolutely wonderful   silky and sexy and comf...   \n",
       "1  love this dress   it 's sooo pretty  i happene...   \n",
       "2  i had such high hope for this dress and really...   \n",
       "3  i love   love   love this jumpsuit  it 's fun ...   \n",
       "4  this shirt is very flattering to all due to th...   \n",
       "\n",
       "                                         Word Counts  \n",
       "0  {'absolutely': 1, 'and': 2, 'comfortable': 1, ...  \n",
       "1  {'am': 1, 'and': 2, 'bc': 2, 'be': 1, 'below':...  \n",
       "2  {'and': 3, 'be': 1, 'bottom': 1, 'but': 2, 'ch...  \n",
       "3  {'and': 1, 'but': 1, 'compliments': 1, 'every'...  \n",
       "4  {'adjustable': 1, 'all': 1, 'and': 1, 'any': 1...  "
      ]
     },
     "execution_count": 81,
     "metadata": {},
     "output_type": "execute_result"
    }
   ],
   "source": [
    "# CountVectorizer() converts a collection \n",
    "# of text documents to a matrix of token counts\n",
    "vectorizer = CountVectorizer()\n",
    "# assign a shorter name for the analyze\n",
    "# which tokenizes the string\n",
    "analyzer = vectorizer.build_analyzer()\n",
    "\n",
    "def wordcounts(s):\n",
    "    c = {}\n",
    "    # tokenize the string and continue, if it is not empty\n",
    "    if analyzer(s):\n",
    "        d = {}\n",
    "        # find counts of the vocabularies and transform to array \n",
    "        w = vectorizer.fit_transform([s]).toarray()\n",
    "        # vocabulary and index (index of w)\n",
    "        vc = vectorizer.vocabulary_\n",
    "        # items() transforms the dictionary's (word, index) tuple pairs\n",
    "        for k,v in vc.items():\n",
    "            d[v]=k # d -> index:word \n",
    "        for index,i in enumerate(w[0]):\n",
    "            c[d[index]] = i # c -> word:count\n",
    "    return  c\n",
    "\n",
    "# add new column to the dataframe\n",
    "df['Word Counts'] = df['Review Text'].apply(wordcounts)\n",
    "df.head()"
   ]
  },
  {
   "cell_type": "markdown",
   "metadata": {},
   "source": [
    "The above function gives us the count of the occurance of each word/ token in a review"
   ]
  },
  {
   "cell_type": "markdown",
   "metadata": {},
   "source": [
    "### Feature Engineering"
   ]
  },
  {
   "cell_type": "code",
   "execution_count": 82,
   "metadata": {},
   "outputs": [],
   "source": [
    "#creating a new dataframe containing important fields\n",
    "df1 = df[['Class Name','Rating','Age','Review Text','Word Counts']]"
   ]
  },
  {
   "cell_type": "code",
   "execution_count": 83,
   "metadata": {},
   "outputs": [
    {
     "data": {
      "text/html": [
       "<div>\n",
       "<style scoped>\n",
       "    .dataframe tbody tr th:only-of-type {\n",
       "        vertical-align: middle;\n",
       "    }\n",
       "\n",
       "    .dataframe tbody tr th {\n",
       "        vertical-align: top;\n",
       "    }\n",
       "\n",
       "    .dataframe thead th {\n",
       "        text-align: right;\n",
       "    }\n",
       "</style>\n",
       "<table border=\"1\" class=\"dataframe\">\n",
       "  <thead>\n",
       "    <tr style=\"text-align: right;\">\n",
       "      <th></th>\n",
       "      <th>Class Name</th>\n",
       "      <th>Rating</th>\n",
       "      <th>Age</th>\n",
       "      <th>Review Text</th>\n",
       "      <th>Word Counts</th>\n",
       "    </tr>\n",
       "  </thead>\n",
       "  <tbody>\n",
       "    <tr>\n",
       "      <th>0</th>\n",
       "      <td>Intimates</td>\n",
       "      <td>4</td>\n",
       "      <td>33</td>\n",
       "      <td>Absolutely wonderful - silky and sexy and comf...</td>\n",
       "      <td>{'absolutely': 1, 'and': 2, 'comfortable': 1, ...</td>\n",
       "    </tr>\n",
       "    <tr>\n",
       "      <th>1</th>\n",
       "      <td>Dresses</td>\n",
       "      <td>5</td>\n",
       "      <td>34</td>\n",
       "      <td>Love this dress!  it's sooo pretty.  i happene...</td>\n",
       "      <td>{'am': 1, 'and': 2, 'bc': 2, 'be': 1, 'below':...</td>\n",
       "    </tr>\n",
       "    <tr>\n",
       "      <th>2</th>\n",
       "      <td>Dresses</td>\n",
       "      <td>3</td>\n",
       "      <td>60</td>\n",
       "      <td>I had such high hopes for this dress and reall...</td>\n",
       "      <td>{'and': 3, 'be': 1, 'bottom': 1, 'but': 2, 'ch...</td>\n",
       "    </tr>\n",
       "    <tr>\n",
       "      <th>3</th>\n",
       "      <td>Pants</td>\n",
       "      <td>5</td>\n",
       "      <td>50</td>\n",
       "      <td>I love, love, love this jumpsuit. it's fun, fl...</td>\n",
       "      <td>{'and': 1, 'but': 1, 'compliments': 1, 'every'...</td>\n",
       "    </tr>\n",
       "    <tr>\n",
       "      <th>4</th>\n",
       "      <td>Blouses</td>\n",
       "      <td>5</td>\n",
       "      <td>47</td>\n",
       "      <td>This shirt is very flattering to all due to th...</td>\n",
       "      <td>{'adjustable': 1, 'all': 1, 'and': 1, 'any': 1...</td>\n",
       "    </tr>\n",
       "  </tbody>\n",
       "</table>\n",
       "</div>"
      ],
      "text/plain": [
       "  Class Name  Rating  Age                                        Review Text  \\\n",
       "0  Intimates       4   33  Absolutely wonderful - silky and sexy and comf...   \n",
       "1    Dresses       5   34  Love this dress!  it's sooo pretty.  i happene...   \n",
       "2    Dresses       3   60  I had such high hopes for this dress and reall...   \n",
       "3      Pants       5   50  I love, love, love this jumpsuit. it's fun, fl...   \n",
       "4    Blouses       5   47  This shirt is very flattering to all due to th...   \n",
       "\n",
       "                                         Word Counts  \n",
       "0  {'absolutely': 1, 'and': 2, 'comfortable': 1, ...  \n",
       "1  {'am': 1, 'and': 2, 'bc': 2, 'be': 1, 'below':...  \n",
       "2  {'and': 3, 'be': 1, 'bottom': 1, 'but': 2, 'ch...  \n",
       "3  {'and': 1, 'but': 1, 'compliments': 1, 'every'...  \n",
       "4  {'adjustable': 1, 'all': 1, 'and': 1, 'any': 1...  "
      ]
     },
     "execution_count": 83,
     "metadata": {},
     "output_type": "execute_result"
    }
   ],
   "source": [
    "df1.head()"
   ]
  },
  {
   "cell_type": "markdown",
   "metadata": {},
   "source": [
    "Note: Important columns are chosen from the EDA performed, columns that seems contributing are taken in df1.  \n",
    "Ratings and Recommended IND are highly correlated that is why we are taking Rating only"
   ]
  },
  {
   "cell_type": "code",
   "execution_count": 84,
   "metadata": {},
   "outputs": [
    {
     "name": "stdout",
     "output_type": "stream",
     "text": [
      "Selected Words\n",
      "love     8951\n",
      "great    6117\n",
      "super    1726\n",
      "happy     705\n",
      "glad      614\n",
      "dtype: int64\n",
      "\n",
      "Class Names\n",
      "Dresses     6319\n",
      "Knits       4843\n",
      "Blouses     3097\n",
      "Sweaters    1428\n",
      "Pants       1388\n",
      "Name: Class Name, dtype: int64\n"
     ]
    }
   ],
   "source": [
    "#selecting some words that cary persons' emotions\n",
    "# selecting some words to examine detailed \n",
    "selectedwords = ['awesome','great','fantastic','extraordinary','amazing','super',\n",
    "                 'magnificent','stunning','impressive','wonderful','breathtaking',\n",
    "                 'love','content','pleased','happy','glad','satisfied','lucky',\n",
    "                 'shocking','cheerful','wow','sad','unhappy','horrible','regret',\n",
    "                 'bad','terrible','annoyed','disappointed','upset','awful','hate']\n",
    "\n",
    "def selectedcount(dic,word):\n",
    "    if word in dic:\n",
    "        return dic[word]\n",
    "    else:\n",
    "        return 0\n",
    "    \n",
    "dfwc = df1.copy()  \n",
    "for word in selectedwords:\n",
    "    dfwc[word] = dfwc['Word Counts'].apply(selectedcount,args=(word,))\n",
    "    \n",
    "word_sum = dfwc[selectedwords].sum()\n",
    "print('Selected Words')\n",
    "print(word_sum.sort_values(ascending=False).iloc[:5])\n",
    "\n",
    "print('\\nClass Names')\n",
    "print(df1['Class Name'].fillna(\"Empty\").value_counts().iloc[:5])"
   ]
  },
  {
   "cell_type": "markdown",
   "metadata": {},
   "source": [
    "Observation: It can be observed  that positive words as love, great, super were used more. When we look at the classes, customers mostly prefered dress, knits and blouses"
   ]
  },
  {
   "cell_type": "markdown",
   "metadata": {},
   "source": [
    "------------------------"
   ]
  },
  {
   "cell_type": "markdown",
   "metadata": {},
   "source": [
    "We do not have any column in the data that shows the sentiment is positive or negative that is why we are using the column rating. defining a new column named Sentiment and setting the value as True where the rating is 4 or higher. considering rating = 3 as neutral"
   ]
  },
  {
   "cell_type": "code",
   "execution_count": 85,
   "metadata": {
    "scrolled": true
   },
   "outputs": [
    {
     "data": {
      "text/html": [
       "<div>\n",
       "<style scoped>\n",
       "    .dataframe tbody tr th:only-of-type {\n",
       "        vertical-align: middle;\n",
       "    }\n",
       "\n",
       "    .dataframe tbody tr th {\n",
       "        vertical-align: top;\n",
       "    }\n",
       "\n",
       "    .dataframe thead th {\n",
       "        text-align: right;\n",
       "    }\n",
       "</style>\n",
       "<table border=\"1\" class=\"dataframe\">\n",
       "  <thead>\n",
       "    <tr style=\"text-align: right;\">\n",
       "      <th></th>\n",
       "      <th>Class Name</th>\n",
       "      <th>Rating</th>\n",
       "      <th>Age</th>\n",
       "      <th>Review Text</th>\n",
       "      <th>Word Counts</th>\n",
       "      <th>Sentiment</th>\n",
       "    </tr>\n",
       "  </thead>\n",
       "  <tbody>\n",
       "    <tr>\n",
       "      <th>0</th>\n",
       "      <td>Intimates</td>\n",
       "      <td>4</td>\n",
       "      <td>33</td>\n",
       "      <td>Absolutely wonderful - silky and sexy and comf...</td>\n",
       "      <td>{'absolutely': 1, 'and': 2, 'comfortable': 1, ...</td>\n",
       "      <td>True</td>\n",
       "    </tr>\n",
       "    <tr>\n",
       "      <th>1</th>\n",
       "      <td>Dresses</td>\n",
       "      <td>5</td>\n",
       "      <td>34</td>\n",
       "      <td>Love this dress!  it's sooo pretty.  i happene...</td>\n",
       "      <td>{'am': 1, 'and': 2, 'bc': 2, 'be': 1, 'below':...</td>\n",
       "      <td>True</td>\n",
       "    </tr>\n",
       "    <tr>\n",
       "      <th>3</th>\n",
       "      <td>Pants</td>\n",
       "      <td>5</td>\n",
       "      <td>50</td>\n",
       "      <td>I love, love, love this jumpsuit. it's fun, fl...</td>\n",
       "      <td>{'and': 1, 'but': 1, 'compliments': 1, 'every'...</td>\n",
       "      <td>True</td>\n",
       "    </tr>\n",
       "    <tr>\n",
       "      <th>4</th>\n",
       "      <td>Blouses</td>\n",
       "      <td>5</td>\n",
       "      <td>47</td>\n",
       "      <td>This shirt is very flattering to all due to th...</td>\n",
       "      <td>{'adjustable': 1, 'all': 1, 'and': 1, 'any': 1...</td>\n",
       "      <td>True</td>\n",
       "    </tr>\n",
       "    <tr>\n",
       "      <th>5</th>\n",
       "      <td>Dresses</td>\n",
       "      <td>2</td>\n",
       "      <td>49</td>\n",
       "      <td>I love tracy reese dresses, but this one is no...</td>\n",
       "      <td>{'0p': 1, 'alterations': 1, 'am': 1, 'and': 4,...</td>\n",
       "      <td>False</td>\n",
       "    </tr>\n",
       "  </tbody>\n",
       "</table>\n",
       "</div>"
      ],
      "text/plain": [
       "  Class Name  Rating  Age                                        Review Text  \\\n",
       "0  Intimates       4   33  Absolutely wonderful - silky and sexy and comf...   \n",
       "1    Dresses       5   34  Love this dress!  it's sooo pretty.  i happene...   \n",
       "3      Pants       5   50  I love, love, love this jumpsuit. it's fun, fl...   \n",
       "4    Blouses       5   47  This shirt is very flattering to all due to th...   \n",
       "5    Dresses       2   49  I love tracy reese dresses, but this one is no...   \n",
       "\n",
       "                                         Word Counts  Sentiment  \n",
       "0  {'absolutely': 1, 'and': 2, 'comfortable': 1, ...       True  \n",
       "1  {'am': 1, 'and': 2, 'bc': 2, 'be': 1, 'below':...       True  \n",
       "3  {'and': 1, 'but': 1, 'compliments': 1, 'every'...       True  \n",
       "4  {'adjustable': 1, 'all': 1, 'and': 1, 'any': 1...       True  \n",
       "5  {'0p': 1, 'alterations': 1, 'am': 1, 'and': 4,...      False  "
      ]
     },
     "execution_count": 85,
     "metadata": {},
     "output_type": "execute_result"
    }
   ],
   "source": [
    "# Set reviews which has 4 or higher rating as True (positive) \n",
    "df1 = df1[df1['Rating'] !=3]\n",
    "df1['Sentiment'] = df1['Rating'] >=4\n",
    "df1.head()\n"
   ]
  },
  {
   "cell_type": "code",
   "execution_count": 86,
   "metadata": {},
   "outputs": [],
   "source": [
    "###Set True sentiment  as positive review and False as negative review\n",
    "positive_reviews = df1[df1['Sentiment'] == True]\n",
    "negative_reviews = df1[df1['Sentiment'] == False]"
   ]
  },
  {
   "cell_type": "code",
   "execution_count": 87,
   "metadata": {},
   "outputs": [
    {
     "data": {
      "text/html": [
       "<div>\n",
       "<style scoped>\n",
       "    .dataframe tbody tr th:only-of-type {\n",
       "        vertical-align: middle;\n",
       "    }\n",
       "\n",
       "    .dataframe tbody tr th {\n",
       "        vertical-align: top;\n",
       "    }\n",
       "\n",
       "    .dataframe thead th {\n",
       "        text-align: right;\n",
       "    }\n",
       "</style>\n",
       "<table border=\"1\" class=\"dataframe\">\n",
       "  <thead>\n",
       "    <tr style=\"text-align: right;\">\n",
       "      <th></th>\n",
       "      <th>Class Name</th>\n",
       "      <th>Rating</th>\n",
       "      <th>Age</th>\n",
       "      <th>Review Text</th>\n",
       "      <th>Word Counts</th>\n",
       "      <th>Sentiment</th>\n",
       "    </tr>\n",
       "  </thead>\n",
       "  <tbody>\n",
       "    <tr>\n",
       "      <th>0</th>\n",
       "      <td>Intimates</td>\n",
       "      <td>4</td>\n",
       "      <td>33</td>\n",
       "      <td>Absolutely wonderful - silky and sexy and comf...</td>\n",
       "      <td>{'absolutely': 1, 'and': 2, 'comfortable': 1, ...</td>\n",
       "      <td>True</td>\n",
       "    </tr>\n",
       "    <tr>\n",
       "      <th>1</th>\n",
       "      <td>Dresses</td>\n",
       "      <td>5</td>\n",
       "      <td>34</td>\n",
       "      <td>Love this dress!  it's sooo pretty.  i happene...</td>\n",
       "      <td>{'am': 1, 'and': 2, 'bc': 2, 'be': 1, 'below':...</td>\n",
       "      <td>True</td>\n",
       "    </tr>\n",
       "    <tr>\n",
       "      <th>3</th>\n",
       "      <td>Pants</td>\n",
       "      <td>5</td>\n",
       "      <td>50</td>\n",
       "      <td>I love, love, love this jumpsuit. it's fun, fl...</td>\n",
       "      <td>{'and': 1, 'but': 1, 'compliments': 1, 'every'...</td>\n",
       "      <td>True</td>\n",
       "    </tr>\n",
       "    <tr>\n",
       "      <th>4</th>\n",
       "      <td>Blouses</td>\n",
       "      <td>5</td>\n",
       "      <td>47</td>\n",
       "      <td>This shirt is very flattering to all due to th...</td>\n",
       "      <td>{'adjustable': 1, 'all': 1, 'and': 1, 'any': 1...</td>\n",
       "      <td>True</td>\n",
       "    </tr>\n",
       "    <tr>\n",
       "      <th>5</th>\n",
       "      <td>Dresses</td>\n",
       "      <td>2</td>\n",
       "      <td>49</td>\n",
       "      <td>I love tracy reese dresses, but this one is no...</td>\n",
       "      <td>{'0p': 1, 'alterations': 1, 'am': 1, 'and': 4,...</td>\n",
       "      <td>False</td>\n",
       "    </tr>\n",
       "  </tbody>\n",
       "</table>\n",
       "</div>"
      ],
      "text/plain": [
       "  Class Name  Rating  Age                                        Review Text  \\\n",
       "0  Intimates       4   33  Absolutely wonderful - silky and sexy and comf...   \n",
       "1    Dresses       5   34  Love this dress!  it's sooo pretty.  i happene...   \n",
       "3      Pants       5   50  I love, love, love this jumpsuit. it's fun, fl...   \n",
       "4    Blouses       5   47  This shirt is very flattering to all due to th...   \n",
       "5    Dresses       2   49  I love tracy reese dresses, but this one is no...   \n",
       "\n",
       "                                         Word Counts  Sentiment  \n",
       "0  {'absolutely': 1, 'and': 2, 'comfortable': 1, ...       True  \n",
       "1  {'am': 1, 'and': 2, 'bc': 2, 'be': 1, 'below':...       True  \n",
       "3  {'and': 1, 'but': 1, 'compliments': 1, 'every'...       True  \n",
       "4  {'adjustable': 1, 'all': 1, 'and': 1, 'any': 1...       True  \n",
       "5  {'0p': 1, 'alterations': 1, 'am': 1, 'and': 4,...      False  "
      ]
     },
     "execution_count": 87,
     "metadata": {},
     "output_type": "execute_result"
    }
   ],
   "source": [
    "df1.head()"
   ]
  },
  {
   "cell_type": "code",
   "execution_count": null,
   "metadata": {},
   "outputs": [],
   "source": []
  },
  {
   "cell_type": "markdown",
   "metadata": {},
   "source": [
    "### Model Training"
   ]
  },
  {
   "cell_type": "code",
   "execution_count": 88,
   "metadata": {},
   "outputs": [],
   "source": [
    "# split data\n",
    "train_data,test_data = train_test_split(df1,train_size=0.8,random_state=0)\n",
    "# select the columns and prepare data for the models \n",
    "X_train = vectorizer.fit_transform(train_data['Review Text'])\n",
    "y_train = train_data['Sentiment']\n",
    "X_test = vectorizer.transform(test_data['Review Text'])\n",
    "y_test = test_data['Sentiment']"
   ]
  },
  {
   "cell_type": "markdown",
   "metadata": {},
   "source": [
    "Applying Logistic Regression"
   ]
  },
  {
   "cell_type": "code",
   "execution_count": 89,
   "metadata": {},
   "outputs": [
    {
     "name": "stderr",
     "output_type": "stream",
     "text": [
      "c:\\users\\sj\\appdata\\local\\programs\\python\\python38-32\\lib\\site-packages\\sklearn\\linear_model\\_logistic.py:938: ConvergenceWarning: lbfgs failed to converge (status=1):\n",
      "STOP: TOTAL NO. of ITERATIONS REACHED LIMIT.\n",
      "\n",
      "Increase the number of iterations (max_iter) or scale the data as shown in:\n",
      "    https://scikit-learn.org/stable/modules/preprocessing.html\n",
      "Please also refer to the documentation for alternative solver options:\n",
      "    https://scikit-learn.org/stable/modules/linear_model.html#logistic-regression\n",
      "  n_iter_i = _check_optimize_result(\n"
     ]
    },
    {
     "data": {
      "text/plain": [
       "LogisticRegression(C=1.0, class_weight=None, dual=False, fit_intercept=True,\n",
       "                   intercept_scaling=1, l1_ratio=None, max_iter=100,\n",
       "                   multi_class='auto', n_jobs=None, penalty='l2',\n",
       "                   random_state=None, solver='lbfgs', tol=0.0001, verbose=0,\n",
       "                   warm_start=False)"
      ]
     },
     "execution_count": 89,
     "metadata": {},
     "output_type": "execute_result"
    }
   ],
   "source": [
    "lr = LogisticRegression()\n",
    "lr.fit(X_train,y_train)"
   ]
  },
  {
   "cell_type": "code",
   "execution_count": 90,
   "metadata": {},
   "outputs": [],
   "source": [
    "lr_pred = lr.predict(X_test)"
   ]
  },
  {
   "cell_type": "code",
   "execution_count": 91,
   "metadata": {},
   "outputs": [
    {
     "data": {
      "text/plain": [
       "array([[ 293,  165],\n",
       "       [  84, 3581]], dtype=int64)"
      ]
     },
     "execution_count": 91,
     "metadata": {},
     "output_type": "execute_result"
    }
   ],
   "source": [
    "from sklearn.metrics import confusion_matrix \n",
    "cm = confusion_matrix(y_test,lr_pred)\n",
    "cm"
   ]
  },
  {
   "cell_type": "code",
   "execution_count": 92,
   "metadata": {},
   "outputs": [
    {
     "data": {
      "text/plain": [
       "0.9396070822216832"
      ]
     },
     "execution_count": 92,
     "metadata": {},
     "output_type": "execute_result"
    }
   ],
   "source": [
    "from sklearn.metrics import accuracy_score\n",
    "accuracy_score(y_test,lr_pred)"
   ]
  },
  {
   "cell_type": "code",
   "execution_count": 93,
   "metadata": {},
   "outputs": [],
   "source": [
    "# calculate the False Positive Rate and True Positive Rate for all thresholds of the classification\n",
    "from sklearn import metrics\n",
    "probs = lr.predict_proba(X_test)\n",
    "preds = probs[:,1]\n",
    "fpr, tpr, threshold = metrics.roc_curve(y_test, preds)\n",
    "roc_auc = metrics.auc(fpr, tpr)"
   ]
  },
  {
   "cell_type": "markdown",
   "metadata": {},
   "source": [
    "-------------------------"
   ]
  },
  {
   "cell_type": "markdown",
   "metadata": {},
   "source": [
    "### Feature Engineering"
   ]
  },
  {
   "cell_type": "code",
   "execution_count": 15,
   "metadata": {},
   "outputs": [],
   "source": [
    "#deleting unnamed column as it contains serial number\n",
    "df.drop(df.columns[0],inplace=True, axis=1)"
   ]
  },
  {
   "cell_type": "markdown",
   "metadata": {},
   "source": [
    "There are only 0.059% values missing in the columns Department Name, "
   ]
  },
  {
   "cell_type": "code",
   "execution_count": 79,
   "metadata": {},
   "outputs": [],
   "source": [
    "#filling null values of Department name with most frequent values in the column\n",
    "df['Department Name'].fillna(df[\"Department Name\"].describe().top, inplace = True)"
   ]
  },
  {
   "cell_type": "code",
   "execution_count": null,
   "metadata": {},
   "outputs": [],
   "source": []
  },
  {
   "cell_type": "code",
   "execution_count": null,
   "metadata": {},
   "outputs": [],
   "source": []
  }
 ],
 "metadata": {
  "kernelspec": {
   "display_name": "Python 3",
   "language": "python",
   "name": "python3"
  },
  "language_info": {
   "codemirror_mode": {
    "name": "ipython",
    "version": 3
   },
   "file_extension": ".py",
   "mimetype": "text/x-python",
   "name": "python",
   "nbconvert_exporter": "python",
   "pygments_lexer": "ipython3",
   "version": "3.8.2"
  }
 },
 "nbformat": 4,
 "nbformat_minor": 4
}
