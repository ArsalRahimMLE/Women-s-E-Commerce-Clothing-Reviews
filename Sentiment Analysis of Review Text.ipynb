{
 "cells": [
  {
   "cell_type": "markdown",
   "metadata": {},
   "source": [
    "## Imports"
   ]
  },
  {
   "cell_type": "code",
   "execution_count": 1,
   "metadata": {},
   "outputs": [
    {
     "name": "stderr",
     "output_type": "stream",
     "text": [
      "[nltk_data] Downloading package stopwords to\n",
      "[nltk_data]     C:\\Users\\Sj\\AppData\\Roaming\\nltk_data...\n",
      "[nltk_data]   Package stopwords is already up-to-date!\n"
     ]
    },
    {
     "data": {
      "text/plain": [
       "True"
      ]
     },
     "execution_count": 1,
     "metadata": {},
     "output_type": "execute_result"
    }
   ],
   "source": [
    "import pandas as pd\n",
    "import numpy as np\n",
    "import nltk\n",
    "import re\n",
    "import matplotlib.pyplot as plt\n",
    "import seaborn as sns\n",
    "import datetime as dt\n",
    "from sklearn.feature_extraction.text import CountVectorizer\n",
    "from sklearn.model_selection import train_test_split\n",
    "from sklearn.naive_bayes import MultinomialNB\n",
    "from sklearn.svm import SVC\n",
    "from sklearn.metrics import confusion_matrix\n",
    "import sklearn.metrics as mt\n",
    "import nltk\n",
    "from sklearn.linear_model import LogisticRegression\n",
    "from nltk.tokenize import word_tokenize\n",
    "from nltk.probability import FreqDist\n",
    "from nltk.tokenize import sent_tokenize\n",
    "nltk.download('stopwords')"
   ]
  },
  {
   "cell_type": "markdown",
   "metadata": {},
   "source": [
    "### Loading Data"
   ]
  },
  {
   "cell_type": "code",
   "execution_count": 2,
   "metadata": {},
   "outputs": [],
   "source": [
    "#loading data into a pandas dataframe\n",
    "df = pd.read_csv('Womens Clothing E-Commerce Reviews.csv')"
   ]
  },
  {
   "cell_type": "markdown",
   "metadata": {},
   "source": [
    "### Data Analysis"
   ]
  },
  {
   "cell_type": "code",
   "execution_count": 3,
   "metadata": {
    "scrolled": true
   },
   "outputs": [
    {
     "data": {
      "text/html": [
       "<div>\n",
       "<style scoped>\n",
       "    .dataframe tbody tr th:only-of-type {\n",
       "        vertical-align: middle;\n",
       "    }\n",
       "\n",
       "    .dataframe tbody tr th {\n",
       "        vertical-align: top;\n",
       "    }\n",
       "\n",
       "    .dataframe thead th {\n",
       "        text-align: right;\n",
       "    }\n",
       "</style>\n",
       "<table border=\"1\" class=\"dataframe\">\n",
       "  <thead>\n",
       "    <tr style=\"text-align: right;\">\n",
       "      <th></th>\n",
       "      <th>Unnamed: 0</th>\n",
       "      <th>Clothing ID</th>\n",
       "      <th>Age</th>\n",
       "      <th>Title</th>\n",
       "      <th>Review Text</th>\n",
       "      <th>Rating</th>\n",
       "      <th>Recommended IND</th>\n",
       "      <th>Positive Feedback Count</th>\n",
       "      <th>Division Name</th>\n",
       "      <th>Department Name</th>\n",
       "      <th>Class Name</th>\n",
       "    </tr>\n",
       "  </thead>\n",
       "  <tbody>\n",
       "    <tr>\n",
       "      <th>0</th>\n",
       "      <td>0</td>\n",
       "      <td>767</td>\n",
       "      <td>33</td>\n",
       "      <td>NaN</td>\n",
       "      <td>Absolutely wonderful - silky and sexy and comf...</td>\n",
       "      <td>4</td>\n",
       "      <td>1</td>\n",
       "      <td>0</td>\n",
       "      <td>Initmates</td>\n",
       "      <td>Intimate</td>\n",
       "      <td>Intimates</td>\n",
       "    </tr>\n",
       "    <tr>\n",
       "      <th>1</th>\n",
       "      <td>1</td>\n",
       "      <td>1080</td>\n",
       "      <td>34</td>\n",
       "      <td>NaN</td>\n",
       "      <td>Love this dress!  it's sooo pretty.  i happene...</td>\n",
       "      <td>5</td>\n",
       "      <td>1</td>\n",
       "      <td>4</td>\n",
       "      <td>General</td>\n",
       "      <td>Dresses</td>\n",
       "      <td>Dresses</td>\n",
       "    </tr>\n",
       "    <tr>\n",
       "      <th>2</th>\n",
       "      <td>2</td>\n",
       "      <td>1077</td>\n",
       "      <td>60</td>\n",
       "      <td>Some major design flaws</td>\n",
       "      <td>I had such high hopes for this dress and reall...</td>\n",
       "      <td>3</td>\n",
       "      <td>0</td>\n",
       "      <td>0</td>\n",
       "      <td>General</td>\n",
       "      <td>Dresses</td>\n",
       "      <td>Dresses</td>\n",
       "    </tr>\n",
       "    <tr>\n",
       "      <th>3</th>\n",
       "      <td>3</td>\n",
       "      <td>1049</td>\n",
       "      <td>50</td>\n",
       "      <td>My favorite buy!</td>\n",
       "      <td>I love, love, love this jumpsuit. it's fun, fl...</td>\n",
       "      <td>5</td>\n",
       "      <td>1</td>\n",
       "      <td>0</td>\n",
       "      <td>General Petite</td>\n",
       "      <td>Bottoms</td>\n",
       "      <td>Pants</td>\n",
       "    </tr>\n",
       "    <tr>\n",
       "      <th>4</th>\n",
       "      <td>4</td>\n",
       "      <td>847</td>\n",
       "      <td>47</td>\n",
       "      <td>Flattering shirt</td>\n",
       "      <td>This shirt is very flattering to all due to th...</td>\n",
       "      <td>5</td>\n",
       "      <td>1</td>\n",
       "      <td>6</td>\n",
       "      <td>General</td>\n",
       "      <td>Tops</td>\n",
       "      <td>Blouses</td>\n",
       "    </tr>\n",
       "    <tr>\n",
       "      <th>5</th>\n",
       "      <td>5</td>\n",
       "      <td>1080</td>\n",
       "      <td>49</td>\n",
       "      <td>Not for the very petite</td>\n",
       "      <td>I love tracy reese dresses, but this one is no...</td>\n",
       "      <td>2</td>\n",
       "      <td>0</td>\n",
       "      <td>4</td>\n",
       "      <td>General</td>\n",
       "      <td>Dresses</td>\n",
       "      <td>Dresses</td>\n",
       "    </tr>\n",
       "    <tr>\n",
       "      <th>6</th>\n",
       "      <td>6</td>\n",
       "      <td>858</td>\n",
       "      <td>39</td>\n",
       "      <td>Cagrcoal shimmer fun</td>\n",
       "      <td>I aded this in my basket at hte last mintue to...</td>\n",
       "      <td>5</td>\n",
       "      <td>1</td>\n",
       "      <td>1</td>\n",
       "      <td>General Petite</td>\n",
       "      <td>Tops</td>\n",
       "      <td>Knits</td>\n",
       "    </tr>\n",
       "    <tr>\n",
       "      <th>7</th>\n",
       "      <td>7</td>\n",
       "      <td>858</td>\n",
       "      <td>39</td>\n",
       "      <td>Shimmer, surprisingly goes with lots</td>\n",
       "      <td>I ordered this in carbon for store pick up, an...</td>\n",
       "      <td>4</td>\n",
       "      <td>1</td>\n",
       "      <td>4</td>\n",
       "      <td>General Petite</td>\n",
       "      <td>Tops</td>\n",
       "      <td>Knits</td>\n",
       "    </tr>\n",
       "    <tr>\n",
       "      <th>8</th>\n",
       "      <td>8</td>\n",
       "      <td>1077</td>\n",
       "      <td>24</td>\n",
       "      <td>Flattering</td>\n",
       "      <td>I love this dress. i usually get an xs but it ...</td>\n",
       "      <td>5</td>\n",
       "      <td>1</td>\n",
       "      <td>0</td>\n",
       "      <td>General</td>\n",
       "      <td>Dresses</td>\n",
       "      <td>Dresses</td>\n",
       "    </tr>\n",
       "    <tr>\n",
       "      <th>9</th>\n",
       "      <td>9</td>\n",
       "      <td>1077</td>\n",
       "      <td>34</td>\n",
       "      <td>Such a fun dress!</td>\n",
       "      <td>I'm 5\"5' and 125 lbs. i ordered the s petite t...</td>\n",
       "      <td>5</td>\n",
       "      <td>1</td>\n",
       "      <td>0</td>\n",
       "      <td>General</td>\n",
       "      <td>Dresses</td>\n",
       "      <td>Dresses</td>\n",
       "    </tr>\n",
       "  </tbody>\n",
       "</table>\n",
       "</div>"
      ],
      "text/plain": [
       "   Unnamed: 0  Clothing ID  Age                                 Title  \\\n",
       "0           0          767   33                                   NaN   \n",
       "1           1         1080   34                                   NaN   \n",
       "2           2         1077   60               Some major design flaws   \n",
       "3           3         1049   50                      My favorite buy!   \n",
       "4           4          847   47                      Flattering shirt   \n",
       "5           5         1080   49               Not for the very petite   \n",
       "6           6          858   39                  Cagrcoal shimmer fun   \n",
       "7           7          858   39  Shimmer, surprisingly goes with lots   \n",
       "8           8         1077   24                            Flattering   \n",
       "9           9         1077   34                     Such a fun dress!   \n",
       "\n",
       "                                         Review Text  Rating  Recommended IND  \\\n",
       "0  Absolutely wonderful - silky and sexy and comf...       4                1   \n",
       "1  Love this dress!  it's sooo pretty.  i happene...       5                1   \n",
       "2  I had such high hopes for this dress and reall...       3                0   \n",
       "3  I love, love, love this jumpsuit. it's fun, fl...       5                1   \n",
       "4  This shirt is very flattering to all due to th...       5                1   \n",
       "5  I love tracy reese dresses, but this one is no...       2                0   \n",
       "6  I aded this in my basket at hte last mintue to...       5                1   \n",
       "7  I ordered this in carbon for store pick up, an...       4                1   \n",
       "8  I love this dress. i usually get an xs but it ...       5                1   \n",
       "9  I'm 5\"5' and 125 lbs. i ordered the s petite t...       5                1   \n",
       "\n",
       "   Positive Feedback Count   Division Name Department Name Class Name  \n",
       "0                        0       Initmates        Intimate  Intimates  \n",
       "1                        4         General         Dresses    Dresses  \n",
       "2                        0         General         Dresses    Dresses  \n",
       "3                        0  General Petite         Bottoms      Pants  \n",
       "4                        6         General            Tops    Blouses  \n",
       "5                        4         General         Dresses    Dresses  \n",
       "6                        1  General Petite            Tops      Knits  \n",
       "7                        4  General Petite            Tops      Knits  \n",
       "8                        0         General         Dresses    Dresses  \n",
       "9                        0         General         Dresses    Dresses  "
      ]
     },
     "execution_count": 3,
     "metadata": {},
     "output_type": "execute_result"
    }
   ],
   "source": [
    "#Looking into data\n",
    "df.head(10)"
   ]
  },
  {
   "cell_type": "code",
   "execution_count": 4,
   "metadata": {},
   "outputs": [
    {
     "data": {
      "text/plain": [
       "(23486, 11)"
      ]
     },
     "execution_count": 4,
     "metadata": {},
     "output_type": "execute_result"
    }
   ],
   "source": [
    "#number of rows and columns in the data\n",
    "df.shape"
   ]
  },
  {
   "cell_type": "markdown",
   "metadata": {},
   "source": [
    "<b>Observation:</b> There are 23,486 rows/records and 11 data fields present in the E-commerce dataset. "
   ]
  },
  {
   "cell_type": "code",
   "execution_count": 5,
   "metadata": {},
   "outputs": [
    {
     "name": "stdout",
     "output_type": "stream",
     "text": [
      "<class 'pandas.core.frame.DataFrame'>\n",
      "RangeIndex: 23486 entries, 0 to 23485\n",
      "Data columns (total 11 columns):\n",
      " #   Column                   Non-Null Count  Dtype \n",
      "---  ------                   --------------  ----- \n",
      " 0   Unnamed: 0               23486 non-null  int64 \n",
      " 1   Clothing ID              23486 non-null  int64 \n",
      " 2   Age                      23486 non-null  int64 \n",
      " 3   Title                    19676 non-null  object\n",
      " 4   Review Text              22641 non-null  object\n",
      " 5   Rating                   23486 non-null  int64 \n",
      " 6   Recommended IND          23486 non-null  int64 \n",
      " 7   Positive Feedback Count  23486 non-null  int64 \n",
      " 8   Division Name            23472 non-null  object\n",
      " 9   Department Name          23472 non-null  object\n",
      " 10  Class Name               23472 non-null  object\n",
      "dtypes: int64(6), object(5)\n",
      "memory usage: 2.0+ MB\n"
     ]
    }
   ],
   "source": [
    "#getting information about data i.e. column names, data type and count\n",
    "df.info()"
   ]
  },
  {
   "cell_type": "code",
   "execution_count": 6,
   "metadata": {},
   "outputs": [
    {
     "data": {
      "text/plain": [
       "int64     6\n",
       "object    5\n",
       "dtype: int64"
      ]
     },
     "execution_count": 6,
     "metadata": {},
     "output_type": "execute_result"
    }
   ],
   "source": [
    "#count of data types present in the data\n",
    "df.dtypes.value_counts()"
   ]
  },
  {
   "cell_type": "markdown",
   "metadata": {},
   "source": [
    "<b>Observation:</b> There are 6 integer and 5 object datatypes in the data"
   ]
  },
  {
   "cell_type": "code",
   "execution_count": 7,
   "metadata": {},
   "outputs": [
    {
     "data": {
      "text/html": [
       "<div>\n",
       "<style scoped>\n",
       "    .dataframe tbody tr th:only-of-type {\n",
       "        vertical-align: middle;\n",
       "    }\n",
       "\n",
       "    .dataframe tbody tr th {\n",
       "        vertical-align: top;\n",
       "    }\n",
       "\n",
       "    .dataframe thead th {\n",
       "        text-align: right;\n",
       "    }\n",
       "</style>\n",
       "<table border=\"1\" class=\"dataframe\">\n",
       "  <thead>\n",
       "    <tr style=\"text-align: right;\">\n",
       "      <th></th>\n",
       "      <th>Unnamed: 0</th>\n",
       "      <th>Clothing ID</th>\n",
       "      <th>Age</th>\n",
       "      <th>Rating</th>\n",
       "      <th>Recommended IND</th>\n",
       "      <th>Positive Feedback Count</th>\n",
       "    </tr>\n",
       "  </thead>\n",
       "  <tbody>\n",
       "    <tr>\n",
       "      <th>count</th>\n",
       "      <td>23486.000000</td>\n",
       "      <td>23486.000000</td>\n",
       "      <td>23486.000000</td>\n",
       "      <td>23486.000000</td>\n",
       "      <td>23486.000000</td>\n",
       "      <td>23486.000000</td>\n",
       "    </tr>\n",
       "    <tr>\n",
       "      <th>mean</th>\n",
       "      <td>11742.500000</td>\n",
       "      <td>918.118709</td>\n",
       "      <td>43.198544</td>\n",
       "      <td>4.196032</td>\n",
       "      <td>0.822362</td>\n",
       "      <td>2.535936</td>\n",
       "    </tr>\n",
       "    <tr>\n",
       "      <th>std</th>\n",
       "      <td>6779.968547</td>\n",
       "      <td>203.298980</td>\n",
       "      <td>12.279544</td>\n",
       "      <td>1.110031</td>\n",
       "      <td>0.382216</td>\n",
       "      <td>5.702202</td>\n",
       "    </tr>\n",
       "    <tr>\n",
       "      <th>min</th>\n",
       "      <td>0.000000</td>\n",
       "      <td>0.000000</td>\n",
       "      <td>18.000000</td>\n",
       "      <td>1.000000</td>\n",
       "      <td>0.000000</td>\n",
       "      <td>0.000000</td>\n",
       "    </tr>\n",
       "    <tr>\n",
       "      <th>25%</th>\n",
       "      <td>5871.250000</td>\n",
       "      <td>861.000000</td>\n",
       "      <td>34.000000</td>\n",
       "      <td>4.000000</td>\n",
       "      <td>1.000000</td>\n",
       "      <td>0.000000</td>\n",
       "    </tr>\n",
       "    <tr>\n",
       "      <th>50%</th>\n",
       "      <td>11742.500000</td>\n",
       "      <td>936.000000</td>\n",
       "      <td>41.000000</td>\n",
       "      <td>5.000000</td>\n",
       "      <td>1.000000</td>\n",
       "      <td>1.000000</td>\n",
       "    </tr>\n",
       "    <tr>\n",
       "      <th>75%</th>\n",
       "      <td>17613.750000</td>\n",
       "      <td>1078.000000</td>\n",
       "      <td>52.000000</td>\n",
       "      <td>5.000000</td>\n",
       "      <td>1.000000</td>\n",
       "      <td>3.000000</td>\n",
       "    </tr>\n",
       "    <tr>\n",
       "      <th>max</th>\n",
       "      <td>23485.000000</td>\n",
       "      <td>1205.000000</td>\n",
       "      <td>99.000000</td>\n",
       "      <td>5.000000</td>\n",
       "      <td>1.000000</td>\n",
       "      <td>122.000000</td>\n",
       "    </tr>\n",
       "  </tbody>\n",
       "</table>\n",
       "</div>"
      ],
      "text/plain": [
       "         Unnamed: 0   Clothing ID           Age        Rating  \\\n",
       "count  23486.000000  23486.000000  23486.000000  23486.000000   \n",
       "mean   11742.500000    918.118709     43.198544      4.196032   \n",
       "std     6779.968547    203.298980     12.279544      1.110031   \n",
       "min        0.000000      0.000000     18.000000      1.000000   \n",
       "25%     5871.250000    861.000000     34.000000      4.000000   \n",
       "50%    11742.500000    936.000000     41.000000      5.000000   \n",
       "75%    17613.750000   1078.000000     52.000000      5.000000   \n",
       "max    23485.000000   1205.000000     99.000000      5.000000   \n",
       "\n",
       "       Recommended IND  Positive Feedback Count  \n",
       "count     23486.000000             23486.000000  \n",
       "mean          0.822362                 2.535936  \n",
       "std           0.382216                 5.702202  \n",
       "min           0.000000                 0.000000  \n",
       "25%           1.000000                 0.000000  \n",
       "50%           1.000000                 1.000000  \n",
       "75%           1.000000                 3.000000  \n",
       "max           1.000000               122.000000  "
      ]
     },
     "execution_count": 7,
     "metadata": {},
     "output_type": "execute_result"
    }
   ],
   "source": [
    "#Statistics of data\n",
    "df.describe()"
   ]
  },
  {
   "cell_type": "markdown",
   "metadata": {},
   "source": [
    "<b>Observations:</b>  \n",
    "1. Unnamed column contains the serial number/index of the reviews.  \n",
    "2. Clothing ID contains the IDs of different clothes, multiple cloths have same cloth IDs (encoded column)  \n",
    "3. Minimum Age of the reviewer is 18, maximum age is 99, most records have the ages between 40 and 50.  \n",
    "4. Recommended IND is a boolean type contains 0(Not Recommended) and 1(Recommended).  \n",
    "5. Positive Feedback Count contains count of the positive feedback, minimum positive feedback count is 0 "
   ]
  },
  {
   "cell_type": "code",
   "execution_count": 8,
   "metadata": {},
   "outputs": [
    {
     "data": {
      "text/html": [
       "<div>\n",
       "<style scoped>\n",
       "    .dataframe tbody tr th:only-of-type {\n",
       "        vertical-align: middle;\n",
       "    }\n",
       "\n",
       "    .dataframe tbody tr th {\n",
       "        vertical-align: top;\n",
       "    }\n",
       "\n",
       "    .dataframe thead th {\n",
       "        text-align: right;\n",
       "    }\n",
       "</style>\n",
       "<table border=\"1\" class=\"dataframe\">\n",
       "  <thead>\n",
       "    <tr style=\"text-align: right;\">\n",
       "      <th></th>\n",
       "      <th>Title</th>\n",
       "      <th>Review Text</th>\n",
       "      <th>Division Name</th>\n",
       "      <th>Department Name</th>\n",
       "      <th>Class Name</th>\n",
       "    </tr>\n",
       "  </thead>\n",
       "  <tbody>\n",
       "    <tr>\n",
       "      <th>count</th>\n",
       "      <td>19676</td>\n",
       "      <td>22641</td>\n",
       "      <td>23472</td>\n",
       "      <td>23472</td>\n",
       "      <td>23472</td>\n",
       "    </tr>\n",
       "    <tr>\n",
       "      <th>unique</th>\n",
       "      <td>13993</td>\n",
       "      <td>22634</td>\n",
       "      <td>3</td>\n",
       "      <td>6</td>\n",
       "      <td>20</td>\n",
       "    </tr>\n",
       "    <tr>\n",
       "      <th>top</th>\n",
       "      <td>Love it!</td>\n",
       "      <td>Perfect fit and i've gotten so many compliment...</td>\n",
       "      <td>General</td>\n",
       "      <td>Tops</td>\n",
       "      <td>Dresses</td>\n",
       "    </tr>\n",
       "    <tr>\n",
       "      <th>freq</th>\n",
       "      <td>136</td>\n",
       "      <td>3</td>\n",
       "      <td>13850</td>\n",
       "      <td>10468</td>\n",
       "      <td>6319</td>\n",
       "    </tr>\n",
       "  </tbody>\n",
       "</table>\n",
       "</div>"
      ],
      "text/plain": [
       "           Title                                        Review Text  \\\n",
       "count      19676                                              22641   \n",
       "unique     13993                                              22634   \n",
       "top     Love it!  Perfect fit and i've gotten so many compliment...   \n",
       "freq         136                                                  3   \n",
       "\n",
       "       Division Name Department Name Class Name  \n",
       "count          23472           23472      23472  \n",
       "unique             3               6         20  \n",
       "top          General            Tops    Dresses  \n",
       "freq           13850           10468       6319  "
      ]
     },
     "execution_count": 8,
     "metadata": {},
     "output_type": "execute_result"
    }
   ],
   "source": [
    "#statistics of object type columns\n",
    "df.describe(include='O')"
   ]
  },
  {
   "cell_type": "markdown",
   "metadata": {},
   "source": [
    "<b>Observations:</b>  \n",
    "1. There are 13993 unique titles in the dataset.  \n",
    "2.  Review Text column contains the reviews written by the clients  \n",
    "3. Division Name, Department Name and Class Name are the categorical variables"
   ]
  },
  {
   "cell_type": "code",
   "execution_count": 9,
   "metadata": {},
   "outputs": [
    {
     "data": {
      "text/plain": [
       "Unnamed: 0                    0\n",
       "Clothing ID                   0\n",
       "Age                           0\n",
       "Title                      3810\n",
       "Review Text                 845\n",
       "Rating                        0\n",
       "Recommended IND               0\n",
       "Positive Feedback Count       0\n",
       "Division Name                14\n",
       "Department Name              14\n",
       "Class Name                   14\n",
       "dtype: int64"
      ]
     },
     "execution_count": 9,
     "metadata": {},
     "output_type": "execute_result"
    }
   ],
   "source": [
    "#checking for the null values in the dataset\n",
    "df.isna().sum()"
   ]
  },
  {
   "cell_type": "code",
   "execution_count": 10,
   "metadata": {},
   "outputs": [
    {
     "data": {
      "text/plain": [
       "Text(0, 0.5, 'Count of Missing Values')"
      ]
     },
     "execution_count": 10,
     "metadata": {},
     "output_type": "execute_result"
    },
    {
     "data": {
      "image/png": "[encoded data removed]",
      "text/plain": [
       "<Figure size 720x432 with 1 Axes>"
      ]
     },
     "metadata": {},
     "output_type": "display_data"
    }
   ],
   "source": [
    "sns.set(rc={'figure.figsize':(10,6)})\n",
    "pd.isnull(df).sum().plot(kind='bar')\n",
    "plt.title('Missing values per Feature',size = 15)\n",
    "plt.xlabel('Column Name',size = 15)\n",
    "plt.ylabel('Count of Missing Values', size = 15)"
   ]
  },
  {
   "cell_type": "markdown",
   "metadata": {},
   "source": [
    "<b>Observation:</b>  \n",
    "1. Title column contains 3810 missing records  \n",
    "2. Review Text contains 845 missing records  \n",
    "3. Division Name, Department Name and Class Name contain 14 missing values each"
   ]
  },
  {
   "cell_type": "markdown",
   "metadata": {},
   "source": [
    "### Text Preprocessing"
   ]
  },
  {
   "cell_type": "code",
   "execution_count": 11,
   "metadata": {},
   "outputs": [
    {
     "name": "stderr",
     "output_type": "stream",
     "text": [
      "<ipython-input-11-22ae0ea28f2a>:7: SettingWithCopyWarning: \n",
      "A value is trying to be set on a copy of a slice from a DataFrame\n",
      "\n",
      "See the caveats in the documentation: https://pandas.pydata.org/pandas-docs/stable/user_guide/indexing.html#returning-a-view-versus-a-copy\n",
      "  df['Review Text'][i] = df['Review Text'][i].replace(\"'s\", \" is\").replace(\"'ll\", \" will\").replace(\"'ve\", \" have\").replace(\"'m\", \" am\").replace(\"\\'\", \"'\")\n"
     ]
    }
   ],
   "source": [
    "#dropping NaN values and removing useless columns, as well as clean the text\n",
    "df.dropna(inplace=True)\n",
    "df.reset_index(drop=True, inplace=True)\n",
    "import re\n",
    "for i in range(len(df)):\n",
    "    #print(i)\n",
    "    df['Review Text'][i] = df['Review Text'][i].replace(\"'s\", \" is\").replace(\"'ll\", \" will\").replace(\"'ve\", \" have\").replace(\"'m\", \" am\").replace(\"\\'\", \"'\")\n",
    "    \n",
    "df['Review Text'][1]\n",
    "df = df.drop('Unnamed: 0', 1)"
   ]
  },
  {
   "cell_type": "markdown",
   "metadata": {},
   "source": [
    "### Tokenization"
   ]
  },
  {
   "cell_type": "code",
   "execution_count": 12,
   "metadata": {},
   "outputs": [],
   "source": [
    "#defining a function to clean and tokenize the review text\n",
    "#transfering the text to lowercase\n",
    "def clean_and_tokenize(review):\n",
    "    text = review.lower()\n",
    "   \n",
    "    tokenizer = nltk.tokenize.TreebankWordTokenizer()\n",
    "    tokens = tokenizer.tokenize(text)\n",
    "    \n",
    "    stemmer = nltk.stem.WordNetLemmatizer()\n",
    "    text = \" \".join(stemmer.lemmatize(token) for token in tokens)\n",
    "    text = re.sub(\"[^a-z']\",\" \", text)\n",
    "    return text\n",
    "df[\"Clean_Review\"] = df[\"Review Text\"].apply(clean_and_tokenize)"
   ]
  },
  {
   "cell_type": "code",
   "execution_count": 13,
   "metadata": {},
   "outputs": [],
   "source": [
    "#Breaking down reviews into stream of tokens\n",
    "tokenized_words = df[\"Clean_Review\"].apply(word_tokenize)"
   ]
  },
  {
   "cell_type": "code",
   "execution_count": 14,
   "metadata": {},
   "outputs": [],
   "source": [
    "#saving tokenized reviews in Tokenized_review column\n",
    "df['Tokenized_Reviews']=df[\"Clean_Review\"].apply(word_tokenize)"
   ]
  },
  {
   "cell_type": "markdown",
   "metadata": {},
   "source": [
    "### Frequency of occurance of words/tokens"
   ]
  },
  {
   "cell_type": "code",
   "execution_count": 15,
   "metadata": {},
   "outputs": [
    {
     "data": {
      "text/plain": [
       "0        {'i': 5, 'had': 2, 'such': 1, 'high': 1, 'hope...\n",
       "1        {'i': 3, 'love': 3, 'this': 1, 'jumpsuit': 1, ...\n",
       "2        {'this': 2, 'shirt': 2, 'is': 3, 'very': 1, 'f...\n",
       "3        {'i': 4, 'love': 2, 'tracy': 1, 'reese': 1, 'd...\n",
       "4        {'i': 8, 'aded': 1, 'this': 1, 'in': 2, 'my': ...\n",
       "                               ...                        \n",
       "19657    {'i': 1, 'wa': 1, 'very': 3, 'happy': 1, 'to':...\n",
       "19658    {'it': 1, 'reminds': 1, 'me': 2, 'of': 1, 'mat...\n",
       "19659    {'this': 2, 'fit': 1, 'well': 1, 'but': 1, 'th...\n",
       "19660    {'i': 6, 'bought': 1, 'this': 3, 'dress': 2, '...\n",
       "19661    {'this': 1, 'dress': 1, 'in': 1, 'a': 1, 'love...\n",
       "Name: Tokenized_Reviews, Length: 19662, dtype: object"
      ]
     },
     "execution_count": 15,
     "metadata": {},
     "output_type": "execute_result"
    }
   ],
   "source": [
    "#Checking frequency of each word/token in a review\n",
    "df['Tokenized_Reviews'].apply(FreqDist)"
   ]
  },
  {
   "cell_type": "markdown",
   "metadata": {},
   "source": [
    "### Removing Stop Words\n"
   ]
  },
  {
   "cell_type": "code",
   "execution_count": 16,
   "metadata": {},
   "outputs": [
    {
     "name": "stdout",
     "output_type": "stream",
     "text": [
      "{\"didn't\", 'because', 'about', 'can', \"you've\", \"shouldn't\", \"won't\", 'your', 'but', \"that'll\", 'nor', 'for', 'of', 'other', 'd', \"you're\", 'wouldn', 'yourselves', 'so', 'me', 'against', \"weren't\", 'needn', 'between', 'who', \"you'd\", 'being', 'again', 'mustn', 'does', 'only', 'been', 'whom', 'here', 're', 'her', \"don't\", 'or', 'doing', 'is', 'as', 's', 'hadn', 'which', 'on', 'now', 'do', 'yourself', 'himself', 'that', 'at', 'ain', 'these', 'am', \"isn't\", 'our', 'each', 'i', 'same', 'they', 'most', 'from', 'when', 't', 'some', \"needn't\", 'having', 'will', 'more', 'aren', 'didn', 'how', 'she', \"hadn't\", 'doesn', 'then', 'through', 'hasn', 'why', 'very', 'haven', 'had', 'he', 'its', 'his', 'where', \"it's\", \"she's\", 'to', 'out', 've', 'y', 'there', 'it', 'few', 'both', 'into', 'you', 'and', 'yours', 'too', 'ourselves', 'their', 'under', 'than', 'be', 'over', 'wasn', 'has', 'if', \"aren't\", 'was', 'him', 'an', 'my', 'should', 'them', \"couldn't\", \"mustn't\", \"wasn't\", 'by', 'own', 'o', 'the', 'were', 'won', 'hers', 'any', 'what', 'once', 'those', 'theirs', 'this', 'have', 'in', 'shouldn', 'during', 'with', 'while', 'above', 'a', 'm', 'themselves', 'mightn', 'such', 'up', 'couldn', \"mightn't\", 'isn', 'not', \"hasn't\", \"shan't\", \"should've\", 'off', \"wouldn't\", 'after', 'shan', 'myself', \"haven't\", 'weren', 'just', 'down', 'no', 'are', \"you'll\", 'further', 'below', 'herself', 'ours', 'itself', 'did', 'before', 'don', 'until', \"doesn't\", 'all', 'll', 'we', 'ma'}\n"
     ]
    }
   ],
   "source": [
    "#creating a list of stop words\n",
    "from nltk.corpus import stopwords\n",
    "stop_words = set(stopwords.words('english'))\n",
    "print(stop_words)"
   ]
  },
  {
   "cell_type": "code",
   "execution_count": 17,
   "metadata": {},
   "outputs": [],
   "source": [
    "#Removing Stop Words\n",
    "df['Filtered_Reviews']=df['Tokenized_Reviews'].apply(lambda x: [item for item in x if item not in stop_words])"
   ]
  },
  {
   "cell_type": "markdown",
   "metadata": {},
   "source": [
    "### Lemmatization"
   ]
  },
  {
   "cell_type": "code",
   "execution_count": 18,
   "metadata": {},
   "outputs": [],
   "source": [
    "from nltk.stem import WordNetLemmatizer\n",
    "wnl = WordNetLemmatizer()"
   ]
  },
  {
   "cell_type": "code",
   "execution_count": 19,
   "metadata": {},
   "outputs": [],
   "source": [
    "#lemmatization to get the root words\n",
    "def lemmatize(s):\n",
    "    s = [wnl.lemmatize(word) for word in s]\n",
    "    return s\n",
    "\n",
    "df = df.assign(col_lemma = df.Filtered_Reviews.apply(lambda x: lemmatize(x)))"
   ]
  },
  {
   "cell_type": "code",
   "execution_count": 20,
   "metadata": {},
   "outputs": [],
   "source": [
    "tokenized_sent = np.array(df['col_lemma'])"
   ]
  },
  {
   "cell_type": "code",
   "execution_count": 21,
   "metadata": {},
   "outputs": [
    {
     "data": {
      "text/plain": [
       "0        {'high': 1, 'hope': 1, 'dress': 1, 'really': 1...\n",
       "1        {'love': 3, 'jumpsuit': 1, 'fun': 1, 'flirty':...\n",
       "2        {'shirt': 2, 'flattering': 1, 'due': 1, 'adjus...\n",
       "3        {'love': 2, 'tracy': 1, 'reese': 1, 'dress': 4...\n",
       "4        {'aded': 1, 'basket': 1, 'hte': 4, 'last': 1, ...\n",
       "                               ...                        \n",
       "19657    {'wa': 1, 'happy': 1, 'snag': 1, 'dress': 1, '...\n",
       "19658    {'reminds': 1, 'maternity': 1, 'clothes': 1, '...\n",
       "19659    {'fit': 1, 'well': 1, 'top': 1, 'wa': 2, 'see'...\n",
       "19660    {'bought': 1, 'dress': 2, 'wedding': 1, 'summe...\n",
       "19661    {'dress': 1, 'lovely': 1, 'platinum': 1, 'femi...\n",
       "Name: col_lemma, Length: 19662, dtype: object"
      ]
     },
     "execution_count": 21,
     "metadata": {},
     "output_type": "execute_result"
    }
   ],
   "source": [
    "#frequency of lemmatized text\n",
    "df['col_lemma'].apply(FreqDist)"
   ]
  },
  {
   "cell_type": "markdown",
   "metadata": {},
   "source": [
    "### Sentiment Analysis"
   ]
  },
  {
   "cell_type": "code",
   "execution_count": 22,
   "metadata": {},
   "outputs": [],
   "source": [
    "from nltk.sentiment import SentimentIntensityAnalyzer"
   ]
  },
  {
   "cell_type": "code",
   "execution_count": 23,
   "metadata": {},
   "outputs": [
    {
     "name": "stderr",
     "output_type": "stream",
     "text": [
      "[nltk_data] Error loading opinion_lexicon: <urlopen error [Errno\n",
      "[nltk_data]     11001] getaddrinfo failed>\n"
     ]
    },
    {
     "data": {
      "text/plain": [
       "False"
      ]
     },
     "execution_count": 23,
     "metadata": {},
     "output_type": "execute_result"
    }
   ],
   "source": [
    "nltk.download('opinion_lexicon')"
   ]
  },
  {
   "cell_type": "code",
   "execution_count": 24,
   "metadata": {},
   "outputs": [],
   "source": [
    "from nltk.corpus import opinion_lexicon"
   ]
  },
  {
   "cell_type": "code",
   "execution_count": 25,
   "metadata": {},
   "outputs": [],
   "source": [
    "def Sentiment_Analysis(sentence):\n",
    "    \"\"\"\n",
    "    This function simply counts the number of positive, negative and neutral words\n",
    "    in the sentence and classifies it depending on which polarity is more represented.\n",
    "    Words that do not appear in the lexicon are considered as neutral.\n",
    "    \"\"\"\n",
    "    \n",
    "    pos_words = 0\n",
    "    neg_words = 0\n",
    "\n",
    "    #x = list(range(len(sentence)))  # x axis for the plot\n",
    "    y = []\n",
    "\n",
    "    for word in sentence:\n",
    "        if word in opinion_lexicon.positive():\n",
    "            pos_words += 1\n",
    "            y.append(1)  # positive\n",
    "        elif word in opinion_lexicon.negative():\n",
    "            neg_words += 1\n",
    "            y.append(-1)  # negative\n",
    "        else:\n",
    "            y.append(0)  # neutral\n",
    "\n",
    "    if pos_words > neg_words:\n",
    "        return \"Positive\"\n",
    "    elif pos_words < neg_words:\n",
    "        return \"Negative\"\n",
    "    elif pos_words == neg_words:\n",
    "        return \"Neutral\""
   ]
  },
  {
   "cell_type": "code",
   "execution_count": 26,
   "metadata": {},
   "outputs": [
    {
     "ename": "KeyboardInterrupt",
     "evalue": "",
     "output_type": "error",
     "traceback": [
      "\u001b[1;31m---------------------------------------------------------------------------\u001b[0m",
      "\u001b[1;31mKeyboardInterrupt\u001b[0m                         Traceback (most recent call last)",
      "\u001b[1;32m<ipython-input-26-14fc74a9be49>\u001b[0m in \u001b[0;36m<module>\u001b[1;34m\u001b[0m\n\u001b[1;32m----> 1\u001b[1;33m \u001b[0mdf\u001b[0m\u001b[1;33m[\u001b[0m\u001b[1;34m'Sentiment'\u001b[0m\u001b[1;33m]\u001b[0m\u001b[1;33m=\u001b[0m\u001b[0mdf\u001b[0m\u001b[1;33m[\u001b[0m\u001b[1;34m'col_lemma'\u001b[0m\u001b[1;33m]\u001b[0m\u001b[1;33m.\u001b[0m\u001b[0mapply\u001b[0m\u001b[1;33m(\u001b[0m\u001b[1;32mlambda\u001b[0m \u001b[0mx\u001b[0m\u001b[1;33m:\u001b[0m \u001b[0mSentiment_Analysis\u001b[0m\u001b[1;33m(\u001b[0m\u001b[0mx\u001b[0m\u001b[1;33m)\u001b[0m\u001b[1;33m)\u001b[0m\u001b[1;33m\u001b[0m\u001b[1;33m\u001b[0m\u001b[0m\n\u001b[0m",
      "\u001b[1;32mc:\\users\\sj\\appdata\\local\\programs\\python\\python38\\lib\\site-packages\\pandas\\core\\series.py\u001b[0m in \u001b[0;36mapply\u001b[1;34m(self, func, convert_dtype, args, **kwds)\u001b[0m\n\u001b[0;32m   3846\u001b[0m             \u001b[1;32melse\u001b[0m\u001b[1;33m:\u001b[0m\u001b[1;33m\u001b[0m\u001b[1;33m\u001b[0m\u001b[0m\n\u001b[0;32m   3847\u001b[0m                 \u001b[0mvalues\u001b[0m \u001b[1;33m=\u001b[0m \u001b[0mself\u001b[0m\u001b[1;33m.\u001b[0m\u001b[0mastype\u001b[0m\u001b[1;33m(\u001b[0m\u001b[0mobject\u001b[0m\u001b[1;33m)\u001b[0m\u001b[1;33m.\u001b[0m\u001b[0mvalues\u001b[0m\u001b[1;33m\u001b[0m\u001b[1;33m\u001b[0m\u001b[0m\n\u001b[1;32m-> 3848\u001b[1;33m                 \u001b[0mmapped\u001b[0m \u001b[1;33m=\u001b[0m \u001b[0mlib\u001b[0m\u001b[1;33m.\u001b[0m\u001b[0mmap_infer\u001b[0m\u001b[1;33m(\u001b[0m\u001b[0mvalues\u001b[0m\u001b[1;33m,\u001b[0m \u001b[0mf\u001b[0m\u001b[1;33m,\u001b[0m \u001b[0mconvert\u001b[0m\u001b[1;33m=\u001b[0m\u001b[0mconvert_dtype\u001b[0m\u001b[1;33m)\u001b[0m\u001b[1;33m\u001b[0m\u001b[1;33m\u001b[0m\u001b[0m\n\u001b[0m\u001b[0;32m   3849\u001b[0m \u001b[1;33m\u001b[0m\u001b[0m\n\u001b[0;32m   3850\u001b[0m         \u001b[1;32mif\u001b[0m \u001b[0mlen\u001b[0m\u001b[1;33m(\u001b[0m\u001b[0mmapped\u001b[0m\u001b[1;33m)\u001b[0m \u001b[1;32mand\u001b[0m \u001b[0misinstance\u001b[0m\u001b[1;33m(\u001b[0m\u001b[0mmapped\u001b[0m\u001b[1;33m[\u001b[0m\u001b[1;36m0\u001b[0m\u001b[1;33m]\u001b[0m\u001b[1;33m,\u001b[0m \u001b[0mSeries\u001b[0m\u001b[1;33m)\u001b[0m\u001b[1;33m:\u001b[0m\u001b[1;33m\u001b[0m\u001b[1;33m\u001b[0m\u001b[0m\n",
      "\u001b[1;32mpandas\\_libs\\lib.pyx\u001b[0m in \u001b[0;36mpandas._libs.lib.map_infer\u001b[1;34m()\u001b[0m\n",
      "\u001b[1;32m<ipython-input-26-14fc74a9be49>\u001b[0m in \u001b[0;36m<lambda>\u001b[1;34m(x)\u001b[0m\n\u001b[1;32m----> 1\u001b[1;33m \u001b[0mdf\u001b[0m\u001b[1;33m[\u001b[0m\u001b[1;34m'Sentiment'\u001b[0m\u001b[1;33m]\u001b[0m\u001b[1;33m=\u001b[0m\u001b[0mdf\u001b[0m\u001b[1;33m[\u001b[0m\u001b[1;34m'col_lemma'\u001b[0m\u001b[1;33m]\u001b[0m\u001b[1;33m.\u001b[0m\u001b[0mapply\u001b[0m\u001b[1;33m(\u001b[0m\u001b[1;32mlambda\u001b[0m \u001b[0mx\u001b[0m\u001b[1;33m:\u001b[0m \u001b[0mSentiment_Analysis\u001b[0m\u001b[1;33m(\u001b[0m\u001b[0mx\u001b[0m\u001b[1;33m)\u001b[0m\u001b[1;33m)\u001b[0m\u001b[1;33m\u001b[0m\u001b[1;33m\u001b[0m\u001b[0m\n\u001b[0m",
      "\u001b[1;32m<ipython-input-25-fd71427006c6>\u001b[0m in \u001b[0;36mSentiment_Analysis\u001b[1;34m(sentence)\u001b[0m\n\u001b[0;32m     16\u001b[0m             \u001b[0mpos_words\u001b[0m \u001b[1;33m+=\u001b[0m \u001b[1;36m1\u001b[0m\u001b[1;33m\u001b[0m\u001b[1;33m\u001b[0m\u001b[0m\n\u001b[0;32m     17\u001b[0m             \u001b[0my\u001b[0m\u001b[1;33m.\u001b[0m\u001b[0mappend\u001b[0m\u001b[1;33m(\u001b[0m\u001b[1;36m1\u001b[0m\u001b[1;33m)\u001b[0m  \u001b[1;31m# positive\u001b[0m\u001b[1;33m\u001b[0m\u001b[1;33m\u001b[0m\u001b[0m\n\u001b[1;32m---> 18\u001b[1;33m         \u001b[1;32melif\u001b[0m \u001b[0mword\u001b[0m \u001b[1;32min\u001b[0m \u001b[0mopinion_lexicon\u001b[0m\u001b[1;33m.\u001b[0m\u001b[0mnegative\u001b[0m\u001b[1;33m(\u001b[0m\u001b[1;33m)\u001b[0m\u001b[1;33m:\u001b[0m\u001b[1;33m\u001b[0m\u001b[1;33m\u001b[0m\u001b[0m\n\u001b[0m\u001b[0;32m     19\u001b[0m             \u001b[0mneg_words\u001b[0m \u001b[1;33m+=\u001b[0m \u001b[1;36m1\u001b[0m\u001b[1;33m\u001b[0m\u001b[1;33m\u001b[0m\u001b[0m\n\u001b[0;32m     20\u001b[0m             \u001b[0my\u001b[0m\u001b[1;33m.\u001b[0m\u001b[0mappend\u001b[0m\u001b[1;33m(\u001b[0m\u001b[1;33m-\u001b[0m\u001b[1;36m1\u001b[0m\u001b[1;33m)\u001b[0m  \u001b[1;31m# negative\u001b[0m\u001b[1;33m\u001b[0m\u001b[1;33m\u001b[0m\u001b[0m\n",
      "\u001b[1;32mc:\\users\\sj\\appdata\\local\\programs\\python\\python38\\lib\\site-packages\\nltk\\collections.py\u001b[0m in \u001b[0;36m__contains__\u001b[1;34m(self, value)\u001b[0m\n\u001b[0;32m    197\u001b[0m     \u001b[1;32mdef\u001b[0m \u001b[0m__contains__\u001b[0m\u001b[1;33m(\u001b[0m\u001b[0mself\u001b[0m\u001b[1;33m,\u001b[0m \u001b[0mvalue\u001b[0m\u001b[1;33m)\u001b[0m\u001b[1;33m:\u001b[0m\u001b[1;33m\u001b[0m\u001b[1;33m\u001b[0m\u001b[0m\n\u001b[0;32m    198\u001b[0m         \u001b[1;34m\"\"\"Return true if this list contains ``value``.\"\"\"\u001b[0m\u001b[1;33m\u001b[0m\u001b[1;33m\u001b[0m\u001b[0m\n\u001b[1;32m--> 199\u001b[1;33m         \u001b[1;32mreturn\u001b[0m \u001b[0mbool\u001b[0m\u001b[1;33m(\u001b[0m\u001b[0mself\u001b[0m\u001b[1;33m.\u001b[0m\u001b[0mcount\u001b[0m\u001b[1;33m(\u001b[0m\u001b[0mvalue\u001b[0m\u001b[1;33m)\u001b[0m\u001b[1;33m)\u001b[0m\u001b[1;33m\u001b[0m\u001b[1;33m\u001b[0m\u001b[0m\n\u001b[0m\u001b[0;32m    200\u001b[0m \u001b[1;33m\u001b[0m\u001b[0m\n\u001b[0;32m    201\u001b[0m     \u001b[1;32mdef\u001b[0m \u001b[0m__add__\u001b[0m\u001b[1;33m(\u001b[0m\u001b[0mself\u001b[0m\u001b[1;33m,\u001b[0m \u001b[0mother\u001b[0m\u001b[1;33m)\u001b[0m\u001b[1;33m:\u001b[0m\u001b[1;33m\u001b[0m\u001b[1;33m\u001b[0m\u001b[0m\n",
      "\u001b[1;32mc:\\users\\sj\\appdata\\local\\programs\\python\\python38\\lib\\site-packages\\nltk\\collections.py\u001b[0m in \u001b[0;36mcount\u001b[1;34m(self, value)\u001b[0m\n\u001b[0;32m    182\u001b[0m     \u001b[1;32mdef\u001b[0m \u001b[0mcount\u001b[0m\u001b[1;33m(\u001b[0m\u001b[0mself\u001b[0m\u001b[1;33m,\u001b[0m \u001b[0mvalue\u001b[0m\u001b[1;33m)\u001b[0m\u001b[1;33m:\u001b[0m\u001b[1;33m\u001b[0m\u001b[1;33m\u001b[0m\u001b[0m\n\u001b[0;32m    183\u001b[0m         \u001b[1;34m\"\"\"Return the number of times this list contains ``value``.\"\"\"\u001b[0m\u001b[1;33m\u001b[0m\u001b[1;33m\u001b[0m\u001b[0m\n\u001b[1;32m--> 184\u001b[1;33m         \u001b[1;32mreturn\u001b[0m \u001b[0msum\u001b[0m\u001b[1;33m(\u001b[0m\u001b[1;36m1\u001b[0m \u001b[1;32mfor\u001b[0m \u001b[0melt\u001b[0m \u001b[1;32min\u001b[0m \u001b[0mself\u001b[0m \u001b[1;32mif\u001b[0m \u001b[0melt\u001b[0m \u001b[1;33m==\u001b[0m \u001b[0mvalue\u001b[0m\u001b[1;33m)\u001b[0m\u001b[1;33m\u001b[0m\u001b[1;33m\u001b[0m\u001b[0m\n\u001b[0m\u001b[0;32m    185\u001b[0m \u001b[1;33m\u001b[0m\u001b[0m\n\u001b[0;32m    186\u001b[0m     \u001b[1;32mdef\u001b[0m \u001b[0mindex\u001b[0m\u001b[1;33m(\u001b[0m\u001b[0mself\u001b[0m\u001b[1;33m,\u001b[0m \u001b[0mvalue\u001b[0m\u001b[1;33m,\u001b[0m \u001b[0mstart\u001b[0m\u001b[1;33m=\u001b[0m\u001b[1;32mNone\u001b[0m\u001b[1;33m,\u001b[0m \u001b[0mstop\u001b[0m\u001b[1;33m=\u001b[0m\u001b[1;32mNone\u001b[0m\u001b[1;33m)\u001b[0m\u001b[1;33m:\u001b[0m\u001b[1;33m\u001b[0m\u001b[1;33m\u001b[0m\u001b[0m\n",
      "\u001b[1;32mc:\\users\\sj\\appdata\\local\\programs\\python\\python38\\lib\\site-packages\\nltk\\collections.py\u001b[0m in \u001b[0;36m<genexpr>\u001b[1;34m(.0)\u001b[0m\n\u001b[0;32m    182\u001b[0m     \u001b[1;32mdef\u001b[0m \u001b[0mcount\u001b[0m\u001b[1;33m(\u001b[0m\u001b[0mself\u001b[0m\u001b[1;33m,\u001b[0m \u001b[0mvalue\u001b[0m\u001b[1;33m)\u001b[0m\u001b[1;33m:\u001b[0m\u001b[1;33m\u001b[0m\u001b[1;33m\u001b[0m\u001b[0m\n\u001b[0;32m    183\u001b[0m         \u001b[1;34m\"\"\"Return the number of times this list contains ``value``.\"\"\"\u001b[0m\u001b[1;33m\u001b[0m\u001b[1;33m\u001b[0m\u001b[0m\n\u001b[1;32m--> 184\u001b[1;33m         \u001b[1;32mreturn\u001b[0m \u001b[0msum\u001b[0m\u001b[1;33m(\u001b[0m\u001b[1;36m1\u001b[0m \u001b[1;32mfor\u001b[0m \u001b[0melt\u001b[0m \u001b[1;32min\u001b[0m \u001b[0mself\u001b[0m \u001b[1;32mif\u001b[0m \u001b[0melt\u001b[0m \u001b[1;33m==\u001b[0m \u001b[0mvalue\u001b[0m\u001b[1;33m)\u001b[0m\u001b[1;33m\u001b[0m\u001b[1;33m\u001b[0m\u001b[0m\n\u001b[0m\u001b[0;32m    185\u001b[0m \u001b[1;33m\u001b[0m\u001b[0m\n\u001b[0;32m    186\u001b[0m     \u001b[1;32mdef\u001b[0m \u001b[0mindex\u001b[0m\u001b[1;33m(\u001b[0m\u001b[0mself\u001b[0m\u001b[1;33m,\u001b[0m \u001b[0mvalue\u001b[0m\u001b[1;33m,\u001b[0m \u001b[0mstart\u001b[0m\u001b[1;33m=\u001b[0m\u001b[1;32mNone\u001b[0m\u001b[1;33m,\u001b[0m \u001b[0mstop\u001b[0m\u001b[1;33m=\u001b[0m\u001b[1;32mNone\u001b[0m\u001b[1;33m)\u001b[0m\u001b[1;33m:\u001b[0m\u001b[1;33m\u001b[0m\u001b[1;33m\u001b[0m\u001b[0m\n",
      "\u001b[1;32mc:\\users\\sj\\appdata\\local\\programs\\python\\python38\\lib\\site-packages\\nltk\\corpus\\reader\\util.py\u001b[0m in \u001b[0;36miterate_from\u001b[1;34m(self, start_tok)\u001b[0m\n\u001b[0;32m    294\u001b[0m             \u001b[0mself\u001b[0m\u001b[1;33m.\u001b[0m\u001b[0m_current_toknum\u001b[0m \u001b[1;33m=\u001b[0m \u001b[0mtoknum\u001b[0m\u001b[1;33m\u001b[0m\u001b[1;33m\u001b[0m\u001b[0m\n\u001b[0;32m    295\u001b[0m             \u001b[0mself\u001b[0m\u001b[1;33m.\u001b[0m\u001b[0m_current_blocknum\u001b[0m \u001b[1;33m=\u001b[0m \u001b[0mblock_index\u001b[0m\u001b[1;33m\u001b[0m\u001b[1;33m\u001b[0m\u001b[0m\n\u001b[1;32m--> 296\u001b[1;33m             \u001b[0mtokens\u001b[0m \u001b[1;33m=\u001b[0m \u001b[0mself\u001b[0m\u001b[1;33m.\u001b[0m\u001b[0mread_block\u001b[0m\u001b[1;33m(\u001b[0m\u001b[0mself\u001b[0m\u001b[1;33m.\u001b[0m\u001b[0m_stream\u001b[0m\u001b[1;33m)\u001b[0m\u001b[1;33m\u001b[0m\u001b[1;33m\u001b[0m\u001b[0m\n\u001b[0m\u001b[0;32m    297\u001b[0m             assert isinstance(tokens, (tuple, list, AbstractLazySequence)), (\n\u001b[0;32m    298\u001b[0m                 \u001b[1;34m\"block reader %s() should return list or tuple.\"\u001b[0m\u001b[1;33m\u001b[0m\u001b[1;33m\u001b[0m\u001b[0m\n",
      "\u001b[1;32mc:\\users\\sj\\appdata\\local\\programs\\python\\python38\\lib\\site-packages\\nltk\\corpus\\reader\\opinion_lexicon.py\u001b[0m in \u001b[0;36m_read_word_block\u001b[1;34m(self, stream)\u001b[0m\n\u001b[0;32m    116\u001b[0m         \u001b[0mwords\u001b[0m \u001b[1;33m=\u001b[0m \u001b[1;33m[\u001b[0m\u001b[1;33m]\u001b[0m\u001b[1;33m\u001b[0m\u001b[1;33m\u001b[0m\u001b[0m\n\u001b[0;32m    117\u001b[0m         \u001b[1;32mfor\u001b[0m \u001b[0mi\u001b[0m \u001b[1;32min\u001b[0m \u001b[0mrange\u001b[0m\u001b[1;33m(\u001b[0m\u001b[1;36m20\u001b[0m\u001b[1;33m)\u001b[0m\u001b[1;33m:\u001b[0m  \u001b[1;31m# Read 20 lines at a time.\u001b[0m\u001b[1;33m\u001b[0m\u001b[1;33m\u001b[0m\u001b[0m\n\u001b[1;32m--> 118\u001b[1;33m             \u001b[0mline\u001b[0m \u001b[1;33m=\u001b[0m \u001b[0mstream\u001b[0m\u001b[1;33m.\u001b[0m\u001b[0mreadline\u001b[0m\u001b[1;33m(\u001b[0m\u001b[1;33m)\u001b[0m\u001b[1;33m\u001b[0m\u001b[1;33m\u001b[0m\u001b[0m\n\u001b[0m\u001b[0;32m    119\u001b[0m             \u001b[1;32mif\u001b[0m \u001b[1;32mnot\u001b[0m \u001b[0mline\u001b[0m\u001b[1;33m:\u001b[0m\u001b[1;33m\u001b[0m\u001b[1;33m\u001b[0m\u001b[0m\n\u001b[0;32m    120\u001b[0m                 \u001b[1;32mcontinue\u001b[0m\u001b[1;33m\u001b[0m\u001b[1;33m\u001b[0m\u001b[0m\n",
      "\u001b[1;32mc:\\users\\sj\\appdata\\local\\programs\\python\\python38\\lib\\site-packages\\nltk\\data.py\u001b[0m in \u001b[0;36mreadline\u001b[1;34m(self, size)\u001b[0m\n\u001b[0;32m   1098\u001b[0m \u001b[1;33m\u001b[0m\u001b[0m\n\u001b[0;32m   1099\u001b[0m         \u001b[1;32mwhile\u001b[0m \u001b[1;32mTrue\u001b[0m\u001b[1;33m:\u001b[0m\u001b[1;33m\u001b[0m\u001b[1;33m\u001b[0m\u001b[0m\n\u001b[1;32m-> 1100\u001b[1;33m             \u001b[0mstartpos\u001b[0m \u001b[1;33m=\u001b[0m \u001b[0mself\u001b[0m\u001b[1;33m.\u001b[0m\u001b[0mstream\u001b[0m\u001b[1;33m.\u001b[0m\u001b[0mtell\u001b[0m\u001b[1;33m(\u001b[0m\u001b[1;33m)\u001b[0m \u001b[1;33m-\u001b[0m \u001b[0mlen\u001b[0m\u001b[1;33m(\u001b[0m\u001b[0mself\u001b[0m\u001b[1;33m.\u001b[0m\u001b[0mbytebuffer\u001b[0m\u001b[1;33m)\u001b[0m\u001b[1;33m\u001b[0m\u001b[1;33m\u001b[0m\u001b[0m\n\u001b[0m\u001b[0;32m   1101\u001b[0m             \u001b[0mnew_chars\u001b[0m \u001b[1;33m=\u001b[0m \u001b[0mself\u001b[0m\u001b[1;33m.\u001b[0m\u001b[0m_read\u001b[0m\u001b[1;33m(\u001b[0m\u001b[0mreadsize\u001b[0m\u001b[1;33m)\u001b[0m\u001b[1;33m\u001b[0m\u001b[1;33m\u001b[0m\u001b[0m\n\u001b[0;32m   1102\u001b[0m \u001b[1;33m\u001b[0m\u001b[0m\n",
      "\u001b[1;31mKeyboardInterrupt\u001b[0m: "
     ]
    }
   ],
   "source": [
    "df['Sentiment']=df['col_lemma'].apply(lambda x: Sentiment_Analysis(x))"
   ]
  },
  {
   "cell_type": "code",
   "execution_count": 40,
   "metadata": {},
   "outputs": [],
   "source": [
    "temp = df[df['Sentiment']=='Positive']"
   ]
  },
  {
   "cell_type": "code",
   "execution_count": 41,
   "metadata": {},
   "outputs": [
    {
     "data": {
      "text/plain": [
       "Series([], Name: Review Text, dtype: object)"
      ]
     },
     "execution_count": 41,
     "metadata": {},
     "output_type": "execute_result"
    }
   ],
   "source": [
    "temp['Review Text']"
   ]
  },
  {
   "cell_type": "code",
   "execution_count": 46,
   "metadata": {},
   "outputs": [
    {
     "data": {
      "text/html": [
       "<div>\n",
       "<style scoped>\n",
       "    .dataframe tbody tr th:only-of-type {\n",
       "        vertical-align: middle;\n",
       "    }\n",
       "\n",
       "    .dataframe tbody tr th {\n",
       "        vertical-align: top;\n",
       "    }\n",
       "\n",
       "    .dataframe thead th {\n",
       "        text-align: right;\n",
       "    }\n",
       "</style>\n",
       "<table border=\"1\" class=\"dataframe\">\n",
       "  <thead>\n",
       "    <tr style=\"text-align: right;\">\n",
       "      <th></th>\n",
       "      <th>Clothing ID</th>\n",
       "      <th>Age</th>\n",
       "      <th>Title</th>\n",
       "      <th>Review Text</th>\n",
       "      <th>Rating</th>\n",
       "      <th>Recommended IND</th>\n",
       "      <th>Positive Feedback Count</th>\n",
       "      <th>Division Name</th>\n",
       "      <th>Department Name</th>\n",
       "      <th>Class Name</th>\n",
       "      <th>Clean_Review</th>\n",
       "      <th>Tokenized_Reviews</th>\n",
       "      <th>Filtered_Reviews</th>\n",
       "      <th>col_lemma</th>\n",
       "      <th>Sentiment</th>\n",
       "    </tr>\n",
       "  </thead>\n",
       "  <tbody>\n",
       "    <tr>\n",
       "      <th>0</th>\n",
       "      <td>1077</td>\n",
       "      <td>60</td>\n",
       "      <td>Some major design flaws</td>\n",
       "      <td>I had such high hopes for this dress and reall...</td>\n",
       "      <td>3</td>\n",
       "      <td>0</td>\n",
       "      <td>0</td>\n",
       "      <td>General</td>\n",
       "      <td>Dresses</td>\n",
       "      <td>Dresses</td>\n",
       "      <td>i had such high hope for this dress and really...</td>\n",
       "      <td>[i, had, such, high, hope, for, this, dress, a...</td>\n",
       "      <td>[high, hope, dress, really, wanted, work, init...</td>\n",
       "      <td>[high, hope, dress, really, wanted, work, init...</td>\n",
       "      <td>None</td>\n",
       "    </tr>\n",
       "    <tr>\n",
       "      <th>1</th>\n",
       "      <td>1049</td>\n",
       "      <td>50</td>\n",
       "      <td>My favorite buy!</td>\n",
       "      <td>I love, love, love this jumpsuit. it is fun, f...</td>\n",
       "      <td>5</td>\n",
       "      <td>1</td>\n",
       "      <td>0</td>\n",
       "      <td>General Petite</td>\n",
       "      <td>Bottoms</td>\n",
       "      <td>Pants</td>\n",
       "      <td>i love   love   love this jumpsuit  it is fun ...</td>\n",
       "      <td>[i, love, love, love, this, jumpsuit, it, is, ...</td>\n",
       "      <td>[love, love, love, jumpsuit, fun, flirty, fabu...</td>\n",
       "      <td>[love, love, love, jumpsuit, fun, flirty, fabu...</td>\n",
       "      <td>None</td>\n",
       "    </tr>\n",
       "    <tr>\n",
       "      <th>2</th>\n",
       "      <td>847</td>\n",
       "      <td>47</td>\n",
       "      <td>Flattering shirt</td>\n",
       "      <td>This shirt is very flattering to all due to th...</td>\n",
       "      <td>5</td>\n",
       "      <td>1</td>\n",
       "      <td>6</td>\n",
       "      <td>General</td>\n",
       "      <td>Tops</td>\n",
       "      <td>Blouses</td>\n",
       "      <td>this shirt is very flattering to all due to th...</td>\n",
       "      <td>[this, shirt, is, very, flattering, to, all, d...</td>\n",
       "      <td>[shirt, flattering, due, adjustable, front, ti...</td>\n",
       "      <td>[shirt, flattering, due, adjustable, front, ti...</td>\n",
       "      <td>None</td>\n",
       "    </tr>\n",
       "    <tr>\n",
       "      <th>3</th>\n",
       "      <td>1080</td>\n",
       "      <td>49</td>\n",
       "      <td>Not for the very petite</td>\n",
       "      <td>I love tracy reese dresses, but this one is no...</td>\n",
       "      <td>2</td>\n",
       "      <td>0</td>\n",
       "      <td>4</td>\n",
       "      <td>General</td>\n",
       "      <td>Dresses</td>\n",
       "      <td>Dresses</td>\n",
       "      <td>i love tracy reese dress   but this one is not...</td>\n",
       "      <td>[i, love, tracy, reese, dress, but, this, one,...</td>\n",
       "      <td>[love, tracy, reese, dress, one, petite, foot,...</td>\n",
       "      <td>[love, tracy, reese, dress, one, petite, foot,...</td>\n",
       "      <td>None</td>\n",
       "    </tr>\n",
       "    <tr>\n",
       "      <th>4</th>\n",
       "      <td>858</td>\n",
       "      <td>39</td>\n",
       "      <td>Cagrcoal shimmer fun</td>\n",
       "      <td>I aded this in my basket at hte last mintue to...</td>\n",
       "      <td>5</td>\n",
       "      <td>1</td>\n",
       "      <td>1</td>\n",
       "      <td>General Petite</td>\n",
       "      <td>Tops</td>\n",
       "      <td>Knits</td>\n",
       "      <td>i aded this in my basket at hte last mintue to...</td>\n",
       "      <td>[i, aded, this, in, my, basket, at, hte, last,...</td>\n",
       "      <td>[aded, basket, hte, last, mintue, see, would, ...</td>\n",
       "      <td>[aded, basket, hte, last, mintue, see, would, ...</td>\n",
       "      <td>None</td>\n",
       "    </tr>\n",
       "  </tbody>\n",
       "</table>\n",
       "</div>"
      ],
      "text/plain": [
       "   Clothing ID  Age                    Title  \\\n",
       "0         1077   60  Some major design flaws   \n",
       "1         1049   50         My favorite buy!   \n",
       "2          847   47         Flattering shirt   \n",
       "3         1080   49  Not for the very petite   \n",
       "4          858   39     Cagrcoal shimmer fun   \n",
       "\n",
       "                                         Review Text  Rating  Recommended IND  \\\n",
       "0  I had such high hopes for this dress and reall...       3                0   \n",
       "1  I love, love, love this jumpsuit. it is fun, f...       5                1   \n",
       "2  This shirt is very flattering to all due to th...       5                1   \n",
       "3  I love tracy reese dresses, but this one is no...       2                0   \n",
       "4  I aded this in my basket at hte last mintue to...       5                1   \n",
       "\n",
       "   Positive Feedback Count   Division Name Department Name Class Name  \\\n",
       "0                        0         General         Dresses    Dresses   \n",
       "1                        0  General Petite         Bottoms      Pants   \n",
       "2                        6         General            Tops    Blouses   \n",
       "3                        4         General         Dresses    Dresses   \n",
       "4                        1  General Petite            Tops      Knits   \n",
       "\n",
       "                                        Clean_Review  \\\n",
       "0  i had such high hope for this dress and really...   \n",
       "1  i love   love   love this jumpsuit  it is fun ...   \n",
       "2  this shirt is very flattering to all due to th...   \n",
       "3  i love tracy reese dress   but this one is not...   \n",
       "4  i aded this in my basket at hte last mintue to...   \n",
       "\n",
       "                                   Tokenized_Reviews  \\\n",
       "0  [i, had, such, high, hope, for, this, dress, a...   \n",
       "1  [i, love, love, love, this, jumpsuit, it, is, ...   \n",
       "2  [this, shirt, is, very, flattering, to, all, d...   \n",
       "3  [i, love, tracy, reese, dress, but, this, one,...   \n",
       "4  [i, aded, this, in, my, basket, at, hte, last,...   \n",
       "\n",
       "                                    Filtered_Reviews  \\\n",
       "0  [high, hope, dress, really, wanted, work, init...   \n",
       "1  [love, love, love, jumpsuit, fun, flirty, fabu...   \n",
       "2  [shirt, flattering, due, adjustable, front, ti...   \n",
       "3  [love, tracy, reese, dress, one, petite, foot,...   \n",
       "4  [aded, basket, hte, last, mintue, see, would, ...   \n",
       "\n",
       "                                           col_lemma Sentiment  \n",
       "0  [high, hope, dress, really, wanted, work, init...      None  \n",
       "1  [love, love, love, jumpsuit, fun, flirty, fabu...      None  \n",
       "2  [shirt, flattering, due, adjustable, front, ti...      None  \n",
       "3  [love, tracy, reese, dress, one, petite, foot,...      None  \n",
       "4  [aded, basket, hte, last, mintue, see, would, ...      None  "
      ]
     },
     "execution_count": 46,
     "metadata": {},
     "output_type": "execute_result"
    }
   ],
   "source": [
    "df.head()"
   ]
  },
  {
   "cell_type": "code",
   "execution_count": 29,
   "metadata": {},
   "outputs": [],
   "source": [
    "df.to_csv('new_data.csv',index = False)"
   ]
  },
  {
   "cell_type": "code",
   "execution_count": 30,
   "metadata": {},
   "outputs": [
    {
     "data": {
      "text/html": [
       "<div>\n",
       "<style scoped>\n",
       "    .dataframe tbody tr th:only-of-type {\n",
       "        vertical-align: middle;\n",
       "    }\n",
       "\n",
       "    .dataframe tbody tr th {\n",
       "        vertical-align: top;\n",
       "    }\n",
       "\n",
       "    .dataframe thead th {\n",
       "        text-align: right;\n",
       "    }\n",
       "</style>\n",
       "<table border=\"1\" class=\"dataframe\">\n",
       "  <thead>\n",
       "    <tr style=\"text-align: right;\">\n",
       "      <th></th>\n",
       "      <th>Clothing ID</th>\n",
       "      <th>Age</th>\n",
       "      <th>Title</th>\n",
       "      <th>Review Text</th>\n",
       "      <th>Rating</th>\n",
       "      <th>Recommended IND</th>\n",
       "      <th>Positive Feedback Count</th>\n",
       "      <th>Division Name</th>\n",
       "      <th>Department Name</th>\n",
       "      <th>Class Name</th>\n",
       "      <th>Clean_Review</th>\n",
       "      <th>Tokenized_Reviews</th>\n",
       "      <th>Filtered_Reviews</th>\n",
       "      <th>col_lemma</th>\n",
       "      <th>Sentiment</th>\n",
       "    </tr>\n",
       "  </thead>\n",
       "  <tbody>\n",
       "    <tr>\n",
       "      <th>0</th>\n",
       "      <td>1077</td>\n",
       "      <td>60</td>\n",
       "      <td>Some major design flaws</td>\n",
       "      <td>I had such high hopes for this dress and reall...</td>\n",
       "      <td>3</td>\n",
       "      <td>0</td>\n",
       "      <td>0</td>\n",
       "      <td>General</td>\n",
       "      <td>Dresses</td>\n",
       "      <td>Dresses</td>\n",
       "      <td>i had such high hope for this dress and really...</td>\n",
       "      <td>[i, had, such, high, hope, for, this, dress, a...</td>\n",
       "      <td>[high, hope, dress, really, wanted, work, init...</td>\n",
       "      <td>[high, hope, dress, really, wanted, work, init...</td>\n",
       "      <td>None</td>\n",
       "    </tr>\n",
       "    <tr>\n",
       "      <th>1</th>\n",
       "      <td>1049</td>\n",
       "      <td>50</td>\n",
       "      <td>My favorite buy!</td>\n",
       "      <td>I love, love, love this jumpsuit. it is fun, f...</td>\n",
       "      <td>5</td>\n",
       "      <td>1</td>\n",
       "      <td>0</td>\n",
       "      <td>General Petite</td>\n",
       "      <td>Bottoms</td>\n",
       "      <td>Pants</td>\n",
       "      <td>i love   love   love this jumpsuit  it is fun ...</td>\n",
       "      <td>[i, love, love, love, this, jumpsuit, it, is, ...</td>\n",
       "      <td>[love, love, love, jumpsuit, fun, flirty, fabu...</td>\n",
       "      <td>[love, love, love, jumpsuit, fun, flirty, fabu...</td>\n",
       "      <td>None</td>\n",
       "    </tr>\n",
       "    <tr>\n",
       "      <th>2</th>\n",
       "      <td>847</td>\n",
       "      <td>47</td>\n",
       "      <td>Flattering shirt</td>\n",
       "      <td>This shirt is very flattering to all due to th...</td>\n",
       "      <td>5</td>\n",
       "      <td>1</td>\n",
       "      <td>6</td>\n",
       "      <td>General</td>\n",
       "      <td>Tops</td>\n",
       "      <td>Blouses</td>\n",
       "      <td>this shirt is very flattering to all due to th...</td>\n",
       "      <td>[this, shirt, is, very, flattering, to, all, d...</td>\n",
       "      <td>[shirt, flattering, due, adjustable, front, ti...</td>\n",
       "      <td>[shirt, flattering, due, adjustable, front, ti...</td>\n",
       "      <td>None</td>\n",
       "    </tr>\n",
       "    <tr>\n",
       "      <th>3</th>\n",
       "      <td>1080</td>\n",
       "      <td>49</td>\n",
       "      <td>Not for the very petite</td>\n",
       "      <td>I love tracy reese dresses, but this one is no...</td>\n",
       "      <td>2</td>\n",
       "      <td>0</td>\n",
       "      <td>4</td>\n",
       "      <td>General</td>\n",
       "      <td>Dresses</td>\n",
       "      <td>Dresses</td>\n",
       "      <td>i love tracy reese dress   but this one is not...</td>\n",
       "      <td>[i, love, tracy, reese, dress, but, this, one,...</td>\n",
       "      <td>[love, tracy, reese, dress, one, petite, foot,...</td>\n",
       "      <td>[love, tracy, reese, dress, one, petite, foot,...</td>\n",
       "      <td>None</td>\n",
       "    </tr>\n",
       "    <tr>\n",
       "      <th>4</th>\n",
       "      <td>858</td>\n",
       "      <td>39</td>\n",
       "      <td>Cagrcoal shimmer fun</td>\n",
       "      <td>I aded this in my basket at hte last mintue to...</td>\n",
       "      <td>5</td>\n",
       "      <td>1</td>\n",
       "      <td>1</td>\n",
       "      <td>General Petite</td>\n",
       "      <td>Tops</td>\n",
       "      <td>Knits</td>\n",
       "      <td>i aded this in my basket at hte last mintue to...</td>\n",
       "      <td>[i, aded, this, in, my, basket, at, hte, last,...</td>\n",
       "      <td>[aded, basket, hte, last, mintue, see, would, ...</td>\n",
       "      <td>[aded, basket, hte, last, mintue, see, would, ...</td>\n",
       "      <td>None</td>\n",
       "    </tr>\n",
       "  </tbody>\n",
       "</table>\n",
       "</div>"
      ],
      "text/plain": [
       "   Clothing ID  Age                    Title  \\\n",
       "0         1077   60  Some major design flaws   \n",
       "1         1049   50         My favorite buy!   \n",
       "2          847   47         Flattering shirt   \n",
       "3         1080   49  Not for the very petite   \n",
       "4          858   39     Cagrcoal shimmer fun   \n",
       "\n",
       "                                         Review Text  Rating  Recommended IND  \\\n",
       "0  I had such high hopes for this dress and reall...       3                0   \n",
       "1  I love, love, love this jumpsuit. it is fun, f...       5                1   \n",
       "2  This shirt is very flattering to all due to th...       5                1   \n",
       "3  I love tracy reese dresses, but this one is no...       2                0   \n",
       "4  I aded this in my basket at hte last mintue to...       5                1   \n",
       "\n",
       "   Positive Feedback Count   Division Name Department Name Class Name  \\\n",
       "0                        0         General         Dresses    Dresses   \n",
       "1                        0  General Petite         Bottoms      Pants   \n",
       "2                        6         General            Tops    Blouses   \n",
       "3                        4         General         Dresses    Dresses   \n",
       "4                        1  General Petite            Tops      Knits   \n",
       "\n",
       "                                        Clean_Review  \\\n",
       "0  i had such high hope for this dress and really...   \n",
       "1  i love   love   love this jumpsuit  it is fun ...   \n",
       "2  this shirt is very flattering to all due to th...   \n",
       "3  i love tracy reese dress   but this one is not...   \n",
       "4  i aded this in my basket at hte last mintue to...   \n",
       "\n",
       "                                   Tokenized_Reviews  \\\n",
       "0  [i, had, such, high, hope, for, this, dress, a...   \n",
       "1  [i, love, love, love, this, jumpsuit, it, is, ...   \n",
       "2  [this, shirt, is, very, flattering, to, all, d...   \n",
       "3  [i, love, tracy, reese, dress, but, this, one,...   \n",
       "4  [i, aded, this, in, my, basket, at, hte, last,...   \n",
       "\n",
       "                                    Filtered_Reviews  \\\n",
       "0  [high, hope, dress, really, wanted, work, init...   \n",
       "1  [love, love, love, jumpsuit, fun, flirty, fabu...   \n",
       "2  [shirt, flattering, due, adjustable, front, ti...   \n",
       "3  [love, tracy, reese, dress, one, petite, foot,...   \n",
       "4  [aded, basket, hte, last, mintue, see, would, ...   \n",
       "\n",
       "                                           col_lemma Sentiment  \n",
       "0  [high, hope, dress, really, wanted, work, init...      None  \n",
       "1  [love, love, love, jumpsuit, fun, flirty, fabu...      None  \n",
       "2  [shirt, flattering, due, adjustable, front, ti...      None  \n",
       "3  [love, tracy, reese, dress, one, petite, foot,...      None  \n",
       "4  [aded, basket, hte, last, mintue, see, would, ...      None  "
      ]
     },
     "execution_count": 30,
     "metadata": {},
     "output_type": "execute_result"
    }
   ],
   "source": [
    "df.head()"
   ]
  },
  {
   "cell_type": "markdown",
   "metadata": {},
   "source": [
    "----------------------------"
   ]
  },
  {
   "cell_type": "markdown",
   "metadata": {},
   "source": [
    "## Loading Other Dataset"
   ]
  },
  {
   "cell_type": "code",
   "execution_count": 27,
   "metadata": {},
   "outputs": [],
   "source": [
    "df1 = pd.read_csv('Womens Clothing E-Commerce Reviews1.csv')"
   ]
  },
  {
   "cell_type": "code",
   "execution_count": 39,
   "metadata": {},
   "outputs": [
    {
     "data": {
      "text/plain": [
       "Positive    14569\n",
       "Neutral      1029\n",
       "Negative      864\n",
       "Name: Sentiment, dtype: int64"
      ]
     },
     "execution_count": 39,
     "metadata": {},
     "output_type": "execute_result"
    }
   ],
   "source": [
    "df1['Sentiment'].value_counts()"
   ]
  },
  {
   "cell_type": "markdown",
   "metadata": {},
   "source": [
    "### Cleaning Text"
   ]
  },
  {
   "cell_type": "code",
   "execution_count": 29,
   "metadata": {},
   "outputs": [
    {
     "name": "stderr",
     "output_type": "stream",
     "text": [
      "<ipython-input-29-3569d5b7402b>:7: SettingWithCopyWarning: \n",
      "A value is trying to be set on a copy of a slice from a DataFrame\n",
      "\n",
      "See the caveats in the documentation: https://pandas.pydata.org/pandas-docs/stable/user_guide/indexing.html#returning-a-view-versus-a-copy\n",
      "  df1['Review Text'][i] = df1['Review Text'][i].replace(\"'s\", \" is\").replace(\"'ll\", \" will\").replace(\"'ve\", \" have\").replace(\"'m\", \" am\").replace(\"\\'\", \"'\")\n"
     ]
    },
    {
     "data": {
      "text/plain": [
       "'I love, love, love this jumpsuit. it is fun, flirty, and fabulous! every time i wear it, i get nothing but great compliments!'"
      ]
     },
     "execution_count": 29,
     "metadata": {},
     "output_type": "execute_result"
    }
   ],
   "source": [
    "#dropping NaN values and removing useless columns, as well as clean the text\n",
    "df1.dropna(inplace=True)\n",
    "df1.reset_index(drop=True, inplace=True)\n",
    "import re\n",
    "for i in range(len(df1)):\n",
    "    #print(i)\n",
    "    df1['Review Text'][i] = df1['Review Text'][i].replace(\"'s\", \" is\").replace(\"'ll\", \" will\").replace(\"'ve\", \" have\").replace(\"'m\", \" am\").replace(\"\\'\", \"'\")\n",
    "    \n",
    "df1['Review Text'][1]"
   ]
  },
  {
   "cell_type": "code",
   "execution_count": 67,
   "metadata": {},
   "outputs": [],
   "source": [
    "check = df1[df1['Sentiment']=='Neutral']"
   ]
  },
  {
   "cell_type": "code",
   "execution_count": 70,
   "metadata": {},
   "outputs": [
    {
     "data": {
      "text/plain": [
       "array(['I love tracy reese dresses, but this one is not for the very petite. i am just under 5 feet tall and usually wear a 0p in this brand. this dress was very pretty out of the package but its a lot of dress. the skirt is long and very full so it overwhelmed my small frame. not a stranger to alterations, shortening and narrowing the skirt would take away from the embellishment of the garment. i love the color and the idea of the style but it just did not work on me. i returned this dress.',\n",
       "       'I aded this in my basket at hte last mintue to see what it would look like in person. (store pick up). i went with teh darkler color only because i am so pale :-) hte color is really gorgeous, and turns out it mathced everythiing i was trying on with it prefectly. it is a little baggy on me and hte xs is hte msallet size (bummer, no petite). i decided to jkeep it though, because as i said, it matvehd everything. my ejans, pants, and the 3 skirts i waas trying on (of which i ]kept all ) oops.',\n",
       "       'Loved the material, but i didnt really look at how long the dress was before i purchased both a large and a medium. im 5\\'5\" and there was atleast 5\" of material at my feet. the gaps in the front are much wider than they look. felt like the dress just fell flat. both were returned. im usually a large and the med fit better. 36d 30 in jeans',\n",
       "       ...,\n",
       "       'I got the blue print and i love it. easy to match with any bottom really. i like that it can be made strapless.',\n",
       "       \"The cut on this is fantastic, every color way is vibrant and appealing. length just skims over where my hips broaden, which is nice, and my shoulders look strong and tan. however. i prefer cotton, or at least a cotton blend. this fabric is appealing in that the sweat wicks, the colors will never fade, and the shape won't change. i find the man made fabric very very hot, though.\",\n",
       "       'Gorgeous color! salmon not pink though! lovely soft drape fabric but the itty bity thread and hook in the center is awful! i am a size 2/4 d cup and ordered a small and the closure is not adequate at all! it looks terrible closed and is too revealing without a cami underneath. does not fit like the model!'],\n",
       "      dtype=object)"
      ]
     },
     "execution_count": 70,
     "metadata": {},
     "output_type": "execute_result"
    }
   ],
   "source": [
    "check['Review Text'].unique()"
   ]
  },
  {
   "cell_type": "code",
   "execution_count": 41,
   "metadata": {},
   "outputs": [],
   "source": [
    "temp = df1[df1['Sentiment']!= 'Neutral']"
   ]
  },
  {
   "cell_type": "code",
   "execution_count": 43,
   "metadata": {},
   "outputs": [
    {
     "data": {
      "text/plain": [
       "Positive    14569\n",
       "Negative      864\n",
       "Name: Sentiment, dtype: int64"
      ]
     },
     "execution_count": 43,
     "metadata": {},
     "output_type": "execute_result"
    }
   ],
   "source": [
    "temp['Sentiment'].value_counts()"
   ]
  },
  {
   "cell_type": "markdown",
   "metadata": {},
   "source": [
    "### Model Training"
   ]
  },
  {
   "cell_type": "code",
   "execution_count": 44,
   "metadata": {},
   "outputs": [],
   "source": [
    "# CountVectorizer() converts a collection \n",
    "# of text documents to a matrix of token counts\n",
    "vectorizer = CountVectorizer()"
   ]
  },
  {
   "cell_type": "code",
   "execution_count": 46,
   "metadata": {},
   "outputs": [],
   "source": [
    "# split data\n",
    "train_data,test_data = train_test_split(temp,train_size=0.8,random_state=0)\n",
    "# select the columns and prepare data for the models \n",
    "X_train = vectorizer.fit_transform(train_data['Review Text'])\n",
    "y_train = train_data['Sentiment']\n",
    "X_test = vectorizer.transform(test_data['Review Text'])\n",
    "y_test = test_data['Sentiment']"
   ]
  },
  {
   "cell_type": "markdown",
   "metadata": {},
   "source": [
    "Applying Naive Bayes"
   ]
  },
  {
   "cell_type": "code",
   "execution_count": 47,
   "metadata": {},
   "outputs": [
    {
     "data": {
      "text/plain": [
       "MultinomialNB()"
      ]
     },
     "execution_count": 47,
     "metadata": {},
     "output_type": "execute_result"
    }
   ],
   "source": [
    "nb = MultinomialNB()\n",
    "nb.fit(X_train,y_train)"
   ]
  },
  {
   "cell_type": "code",
   "execution_count": 48,
   "metadata": {},
   "outputs": [],
   "source": [
    "nb_pred = nb.predict(X_test)"
   ]
  },
  {
   "cell_type": "code",
   "execution_count": 49,
   "metadata": {},
   "outputs": [
    {
     "data": {
      "text/plain": [
       "array([[   0,  175],\n",
       "       [   4, 2908]], dtype=int64)"
      ]
     },
     "execution_count": 49,
     "metadata": {},
     "output_type": "execute_result"
    }
   ],
   "source": [
    "#confusion matrix\n",
    "cmNB = confusion_matrix(y_test,nb_pred)\n",
    "cmNB"
   ]
  },
  {
   "cell_type": "code",
   "execution_count": 50,
   "metadata": {},
   "outputs": [
    {
     "data": {
      "text/plain": [
       "0.9420149011985747"
      ]
     },
     "execution_count": 50,
     "metadata": {},
     "output_type": "execute_result"
    }
   ],
   "source": [
    "from sklearn.metrics import accuracy_score\n",
    "accuracy_score(y_test,nb_pred)"
   ]
  },
  {
   "cell_type": "markdown",
   "metadata": {},
   "source": [
    "Applying Support Vector Machine (SVM)"
   ]
  },
  {
   "cell_type": "code",
   "execution_count": 51,
   "metadata": {},
   "outputs": [
    {
     "data": {
      "text/plain": [
       "SVC()"
      ]
     },
     "execution_count": 51,
     "metadata": {},
     "output_type": "execute_result"
    }
   ],
   "source": [
    "svm = SVC()\n",
    "svm.fit(X_train,y_train)"
   ]
  },
  {
   "cell_type": "code",
   "execution_count": 53,
   "metadata": {},
   "outputs": [],
   "source": [
    "svm_pred = svm.predict(X_test)"
   ]
  },
  {
   "cell_type": "code",
   "execution_count": 54,
   "metadata": {},
   "outputs": [
    {
     "data": {
      "text/plain": [
       "array([[   0,  175],\n",
       "       [   0, 2912]], dtype=int64)"
      ]
     },
     "execution_count": 54,
     "metadata": {},
     "output_type": "execute_result"
    }
   ],
   "source": [
    "cm_svm = confusion_matrix(y_test,svm_pred)\n",
    "cm_svm"
   ]
  },
  {
   "cell_type": "code",
   "execution_count": 55,
   "metadata": {},
   "outputs": [
    {
     "data": {
      "text/plain": [
       "0.9433106575963719"
      ]
     },
     "execution_count": 55,
     "metadata": {},
     "output_type": "execute_result"
    }
   ],
   "source": [
    "accuracy_score(y_test,svm_pred)"
   ]
  },
  {
   "cell_type": "code",
   "execution_count": null,
   "metadata": {},
   "outputs": [],
   "source": []
  },
  {
   "cell_type": "markdown",
   "metadata": {},
   "source": [
    "Applying Logistic Regression"
   ]
  },
  {
   "cell_type": "code",
   "execution_count": 56,
   "metadata": {},
   "outputs": [
    {
     "name": "stderr",
     "output_type": "stream",
     "text": [
      "c:\\users\\sj\\appdata\\local\\programs\\python\\python38\\lib\\site-packages\\sklearn\\linear_model\\_logistic.py:762: ConvergenceWarning: lbfgs failed to converge (status=1):\n",
      "STOP: TOTAL NO. of ITERATIONS REACHED LIMIT.\n",
      "\n",
      "Increase the number of iterations (max_iter) or scale the data as shown in:\n",
      "    https://scikit-learn.org/stable/modules/preprocessing.html\n",
      "Please also refer to the documentation for alternative solver options:\n",
      "    https://scikit-learn.org/stable/modules/linear_model.html#logistic-regression\n",
      "  n_iter_i = _check_optimize_result(\n"
     ]
    },
    {
     "data": {
      "text/plain": [
       "LogisticRegression()"
      ]
     },
     "execution_count": 56,
     "metadata": {},
     "output_type": "execute_result"
    }
   ],
   "source": [
    "lr = LogisticRegression()\n",
    "lr.fit(X_train,y_train)"
   ]
  },
  {
   "cell_type": "code",
   "execution_count": 57,
   "metadata": {},
   "outputs": [],
   "source": [
    "lr_pred = lr.predict(X_test)"
   ]
  },
  {
   "cell_type": "code",
   "execution_count": 58,
   "metadata": {},
   "outputs": [
    {
     "data": {
      "text/plain": [
       "array([[   1,  174],\n",
       "       [  33, 2879]], dtype=int64)"
      ]
     },
     "execution_count": 58,
     "metadata": {},
     "output_type": "execute_result"
    }
   ],
   "source": [
    "#confusion matrix\n",
    "from sklearn.metrics import confusion_matrix \n",
    "cm = confusion_matrix(y_test,lr_pred)\n",
    "cm"
   ]
  },
  {
   "cell_type": "code",
   "execution_count": 59,
   "metadata": {},
   "outputs": [
    {
     "data": {
      "text/plain": [
       "0.9329446064139941"
      ]
     },
     "execution_count": 59,
     "metadata": {},
     "output_type": "execute_result"
    }
   ],
   "source": [
    "from sklearn.metrics import accuracy_score\n",
    "accuracy_score(y_test,lr_pred)"
   ]
  },
  {
   "cell_type": "code",
   "execution_count": 60,
   "metadata": {},
   "outputs": [],
   "source": [
    "temp1=temp[temp['Sentiment']=='Negative']"
   ]
  },
  {
   "cell_type": "code",
   "execution_count": 61,
   "metadata": {},
   "outputs": [
    {
     "data": {
      "text/plain": [
       "6        I love this dress. i usually get an xs but it ...\n",
       "16       I love the look and feel of this tulle dress. ...\n",
       "46       This dress is simply beautiful and stunning. i...\n",
       "51       Just received this in the mail, tried it on an...\n",
       "69       Really cute piece, but it is huge. i ordered a...\n",
       "                               ...                        \n",
       "16296    I love these pants! i ordered mine in green an...\n",
       "16316    The shirt fits very nicely, a little large but...\n",
       "16329    The fabric is super soft and comfortable and t...\n",
       "16343    Lovely! feels like you are wearing silk and hi...\n",
       "16419    First, i noticed that the \"grey\" was more like...\n",
       "Name: Review Text, Length: 864, dtype: object"
      ]
     },
     "execution_count": 61,
     "metadata": {},
     "output_type": "execute_result"
    }
   ],
   "source": [
    "temp1['Review Text']"
   ]
  },
  {
   "cell_type": "code",
   "execution_count": 62,
   "metadata": {},
   "outputs": [
    {
     "data": {
      "text/plain": [
       "array(['I love this dress. i usually get an xs but it runs a little snug in bust so i ordered up a size. very flattering and feminine with the usual retailer flair for style.',\n",
       "       'I love the look and feel of this tulle dress. i was looking for something different, but not over the top for new year is eve. i am small chested and the top of this dress is form fitting for a flattering look. once i steamed the tulle, it was perfect! i ordered an xsp. length was perfect too.',\n",
       "       \"This dress is simply beautiful and stunning. it is so figure flattering and i can't wait to wear it. size small worked for me, and since i am tall it fell right to my ankle which is perfect for me. i could not be happier with the purchase and the keyhole in the back is a beautiful detail.\",\n",
       "       'Just received this in the mail, tried it on and am smitten. i am usually a l, but sometimes i am a xl (if no stretch), in retailer tops. i bought this one in l and i am sure glad i did. very flowy, stretchy and comfortable. i also bought the meda lace top from one september and they are very similar expect this is more of a t-shirt and the other is more of a blouse. i almost think i could have gotten a m in this because there is a lot of extra fabric at the chest which is usually never the issue for me',\n",
       "       'Really cute piece, but it is huge. i ordered an xxs petite and it was unfortunately extremely wide and not flattering. returning.',\n",
       "       'After reading the previous reviews, i ordered a size larger. i am so glad i did it! it fits perfectly! i am 5\\'4\"/115/32dd and went with the s regular. so beautiful! i can\\'t wait to wear it!',\n",
       "       'I bought a petite, size 2. i am 5\\'3\", 111 lb - it fit perfect with a tiny bit of room. looks just like the one pictured. length on me was about 1 inch lower than the model. very bright with multiple colors. has a nice stretch. very cute.',\n",
       "       \"Love this tunic! i am a curvy gal (with a few extra 'curves' in the middle) and this is a perfect top for accentuating the good and masking the negative. i purchased the pink color and it is a gorgeous peachy- pink, a much deeper color than what is portrayed in the picture. i found it true to size. typically i wear a medium or large, depending on the structure and the medium fit well. a little more fitted on top and looser around the waist. i came back to buy another in the ivory but alas, it is\",\n",
       "       \"This dress is incredible. i saw a sales girl wearing it in my local retailer and loved it! i bought it in the navy color, it is gorgeous in person, very bright, vibrant colors. i am 5'9 34 c bra 27 inch waist and the s was quite big on my waist. i kept it anyway because the xs has been sold out, and got it taken in a bit. i wore it while vacationing in mexico and it definitely turned heads, if you're thinking about buying this dress, do it, you won't regret it!\",\n",
       "       \"I got this dress in hopes of having a really nice winter formal dress. it was not well made at all! the lining didn't line up with the top layer and the waist puffed out in uneven places. i am curvy so a puffy waistline in the last thing i need! the fabric itself is very nice, but just not well made. i do not recommend this dress.\",\n",
       "       'I got to try this on today and i really like it. the fabric is a normal t-shirt kind of fabric (i was hoping it would have been kind of special) and the v-neck in the front does go down a ways so that some cleavage is showing. i would feel comfortable wearing it as-is outside of work, but would have to pair it with a cami if i would going to wear it to work. normally, i am not a huge fan of v-neck in the back and it drives me crazy thanks cami is these days are often made with a \"versatile\" v and',\n",
       "       'I love this top! it is easily both day and night-worthy with a splash of sexiness in a front peek-a-boo design. lovely embossed design all over.',\n",
       "       \"I had to order this blouse since it is named after the town i live in. it does not disappoint. the flowers are so pretty and it has great style. there is a little piece in the neckline so it is not too revealing. the sleeves are loose and cover the bra strap underneath. the back has a little bit of elastic so it does not look like a maternity shirt and it gives you some shape. i can't wait for it to warm up and to wear this!\",\n",
       "       'I ordered size small and medium because i can go either way depending on brands. and both look great! there is no significant difference except medium fell about 1 inch longer. i am 5\\'4\" and size small hem fell about 1\" above knee. size medium felt tab bit more loose but i thought fabric may stretch a bit after wear so i am keeping size small. what a beautiful dress! although the body of dress is jersey material, it is lined so there is good coverage. i tend to not like \"faux leather\" since they',\n",
       "       '...there is enough room for a small family to live under the chest and trunk area of the blouse! sorry-had to say that! all kidding aside-since it is been thirty plus years ago since we were wearing these, many of us have forgotten what peasant blouses truly fit like. this is no exception- it is very billowy, flouncy, and roomy-more so even than today is peasant styles, i think. it is lovely and quite fitted across the chest -so that is how i ordered my size and it worked. i think if one sizes down',\n",
       "       \"I first saw this jacket hanging at the store and it didn't look very cute. i saw it again on sale so i decided to try it on. i am so glad i did! the inside gray material is so soft. i have broad shoulders and this jacket did not hinder my arms at all. it is very comfortable. i bought the x-small and was very surprised at how roomy it was. the sleeves are a tad bit long but the gray inner lining has an elastic cuff so it can be pushed up. not sure if the xx-small would have been too small or if the\",\n",
       "       \"I went to my local store and they only had the blue dress in stock, i had seen it online and i didn't expect to like the blue one. i tried it on anyway, and it was adorable! i struggled to choose, but i ordered the gray one at the store and they shipped it directly to me. it arrived quickly and i love it!\",\n",
       "       'I really wanted this to work. for me the arm cutout was too wide. a cap or lace flutter sleeve would have worked . also expected a little more length felt like the petite length.',\n",
       "       'The material is very soft and it looks just like it does on the model with the exception that it gets a little wrinkly at the hem and turns up at the corners. i like it and have already worn it a few times.',\n",
       "       'This is truly unique top, the  detail around the neck is a nice change!!!',\n",
       "       \"These pants are so soft and so comfortable! i was absolutely in love at first sight. however, i got the petite, because i am 5'3, and they were still a little longer than i like my pants to be. i wanted them to hit right above the ankle, just like the photo, however, they are a tad longer. i still love them and they are still as comfy as ever, so i am gonna deal with the length!!\",\n",
       "       'Uncertain about sizing i got both the 4 & the 6...both made me look like a no-asser :( neither fit quite right in the leg. both hit at a weird point in my calf, not cute-short, just off. (i am 5\\'8\" and 125#) to quote my husband, \"nope. not feeling these.\" that said, they feel great on, seem to be made well, but are heading back to an retailer near you :( sigh. the quest continues :)',\n",
       "       'I put this runs small but it is a little more tts, except the arms are very slim! if you like to push your sleeves up like this model, you will have to wait for a while to see if the sweater loosens up. length wise it fit me a bit longer than this model and i am a petite. the color is also darker and not as red as in this sweaters, which i actually prefer. the sweater is much thicker than my other cashmere sweaters. some of the stitching seems stick out as if the sweater is worn inside out, but th',\n",
       "       'I think this is the first time i have successfully purchased pants online. i normally have to try a bunch of styles and sizes on before i find the right ones. i gave it a shot with these, and bingo! they are great! they are a bit longer on me than on the model, because i am 5\\'3\" and did not order a petite. i still like how they look, hitting just above my ankle. just the right blend of conservative and cool for lecturing in front of college undergrads.',\n",
       "       'Received many compliments the first day i wore them.. amazing fit. disagree with the other post. the\\nquality is amazing. i wish they had other colors. bought xs',\n",
       "       \"This midi skirt has a really nice drape with great seasonal colors! can't wait to pair it with my wine color booties!\",\n",
       "       'Very fun and comfortable pants that will bring you many compliments. they do fall open when you sit down, though they have liner shorts inside for coverage. they are not appropriate for work but will become a wardrobe favorite.',\n",
       "       'Marking down one star because these pants do gape quite a bit when you sit down, though i appreciate the shorts underneath that prevent any indecent exposure. these could have done with a little stitch in the front or side somewhere on the leg to limit that. that said, my other similar (non-retailer) pants that are much worse and are also are bulkier on top, which does not look great at my size/with my body shape. these are more flattering (i love the band on top) and comfortable. i am normally a',\n",
       "       'Absolutely in love with this shirt. the neckline is extremely flattering, and the shirt naturally comes away from the body.',\n",
       "       'I had tried this on in the beige & loved it but could not find it in my size so i got it in the pink.\\r\\ndid not look at good as the beige.',\n",
       "       'The sweater is cute, but scratchy.',\n",
       "       'I was so in love with this dress when i saw it in the store but so disappointed when i put it on. i am 5\\'10\" with curves and usually buy a large in dresses. this dress looked like a sack on me. the top was way too big and loose making the dress a boxy cut rather than a maxi cut like i was expecting. the dress is lovely to look at on the hanger and feels good on but i don\\'t think it flatters hourglass figures. it was the right length for me unlike many other reviewers. \\r\\nobviously, based off the',\n",
       "       'I absolutely love this sweater! first of all, it is extremely comfortable. i have been wearing it around the house all day and have no desire to take it off. it is cute as a casual around the house top, but also adorable dressed up with jeans and boots. it drapes beautifully for an effortless chic look. the color is pretty close to the photo and very nice in person. the possibilities are endless for colors to accessorize and match with. this sweater is definitely cropped in length, which i normall',\n",
       "       'I think this may almost make it back to the more classic pieces retailer used to have. i tried on the xs in store so i ordered the xxs and xs petite... i felt the usual xs was a little big (again, i think retailer is making things bigger...) my verdict is iliked the length on the regular size better and the xxs fit well. but not much difference (the xs petite was a similar size be the arm hole was higher).\\r\\ncolors are very neutral and warm. i like the addition of the inner layer to make this more wh',\n",
       "       'I was looking for a shirt of this style. i thought it was very cute, but it is not \"red\\' as advertised. it is really a brick orange-y color, which is definitely not what i wanted. very disappointed. sent it right back.',\n",
       "       'I ordered this on a whim during retailer days sale and i am glad i did. it is now one of those shirts that calls my name every morning. i have worn it with denim skinnies and a knee length black knit pencil skirt. so soft and flattering. i got it in the red, but am tempted by the blue!',\n",
       "       \"I loved this dress and it fit great on me: 5'7, 115 lbs, wore an xs. it was a little tighter than i wish, but the s would have been too loose. unfortunately, when i received the dress the arms were already pilling. it is made of a mix of polyester, and while it is machine washable (yay), i can imagine this dress would be pilling very easily, and i wish the fabric was a higher quality for the price, so i returned it.\",\n",
       "       'Was looking for a replacement coat and saw this lovely. tried on large but was more roomy than needed, even for a coat. tried petite version but found it too short for my taste. decided on medium in green and cannot complain. comfy & stylish. more car coat than main winter coat. have been wearing it daily over light layers so far in our mildish nw winter.',\n",
       "       \"These are both adorable and practical?they're versatile enough to dress up or down, and they are just warm enough for fall temperatures. these will definitely be my go-to tights this season.\",\n",
       "       \"Luv these jeans! they felt so comfy the first time i put them on. it is like butter! i am a 26 but went down a size and wear a belt. they said they r high rise but i can't see how - but no complaints as i can breathe in them :)\",\n",
       "       'I guess this is a true to size, i am usually a 30dd and ordered 32d, fits great. the back is really pretty, so even though it is a tiny bit looser, i decided to keep it...',\n",
       "       'I wanted to love these pants, but they were larger than i expected and the fabric is very heavy. almost like a thick sweater.',\n",
       "       'I bought this as a birthday gift for my daughter, and i am so glad i did. the colors are beautiful, and the material is so soft. i am sure she is going to love it!',\n",
       "       \"I order this shirt because it looked like a shirt you could dress up or down. when i got it the shirt was really wrinkled. therefore, i knew it would have to ironed a lot. it was quite boxy and was shorter in the front then in the back. i didn't realize that this shirt was two different fabrics. overall i think this shirt would be more flattering on a woman that was petite.\",\n",
       "       'I loved this blouse when i got it and wore it before washing. it fit really well and was flattering. the only time i laundered it i hand- washed it in cold water and hung it to dry. the blouse shrunk at least a full size and in awkward places. the sleeves are now tight and way too short. the overall length shortened by at least 2 inches. the top is so tight in the bust now that the buttons popped open. i am very disappointed and surprised.i will be returning it as it is unwearable as is.',\n",
       "       \"I was so excited to splurge on a mara hoffman suit and was sorely disappointed when i received this suit in the mail. i am petite and fairly curvy, so i knew it would likely be a little long in the torso but the whole suit was so oddly shaped, i couldn't imagine anyone it would fit. the square shape in between the halter pieces is awkward, and the pieces that are supposed to hold your chest are super wide and loose.\",\n",
       "       'This is such a pretty dress. light and flowy. i got it to wear on hot summer days.',\n",
       "       'Was so thrilled to receive my dress in the mail. its just what i was looking for, for my staple summer dress. i love how i can wear it with or without the sweater top, and even can pair just the sweater top with my high-waisted shorts!',\n",
       "       \"This is a lovely piece, with great shape and details. i think it would really stand out at events. i ended up returning it. i don't have much occasion for cocktail dresses. i had trouble sending it back. it has a slip with the sheer overlay. the slip seemed a bit tight at the bottom hem for the shape of the dress.\",\n",
       "       'These jeans have been the best pair of jeans i have ever worn. you could practically sleep in them, they are so comfortable, brushed softness, and stretch easily. they hug your body in a flattering way, that these jeans are worth the money spent, as you will have them for a while.',\n",
       "       'It looks great on the model but not on me. on me, it looked more like a sack of potatoes. the fabric is unexpected for the style in my opinion. it is very thick. i will be returning it because it is not flattering on me.',\n",
       "       'Love this white shirt! it fits great and gives you a little breathing room around the waist. this goes with shorts, skirts, and jeans. i will be wearing it all summer',\n",
       "       'This is much more a blouse than a \"tee\". the detailing is beautiful and the fabric on the back is a more stuff, starched cotton, not stretchy jersey. because of that i felt like this top ran small. i had to size up.',\n",
       "       'Great fit, perfect length! so happy with these jeans. the fabric is pretty stretchy but definitely still has a denim feel. very soft - love these jeans!',\n",
       "       'I really love this this dress, but i agree with the previous reviewer about the belt around the waist-it is a draped piece of fabric that is very figure flattering where it wraps, but one side of the dress has no belt and it shows muffin tops/bulges.i would have loved this if the belt went all the way around. one other point i would like to make is that bra straps are hard to conceal. i bought this dress because of the gorgeous color, but ended up returning it because of the belt and bra strap i',\n",
       "       \"I loved this dress on way more than i expected to - the pictures don't do it justice. the fabric is soft and is a really nice weight - heavier than i expected, which makes the dress hang in a really flattering way. the belt doesn't go all the way around, as other reviewers said, but i actually kind of like it that way. i almost didn't try it on based on some of the other reviews, but i am sooooo glad i did. it is a really cute dress - will look great as is, or with a light cardigan if it is a littl\",\n",
       "       'I am a big retailer buyer- and usually love the dresses, especially the petite xs maxis. this was the worst retailer purchase i have ever made. \\r\\n\\r\\nit was humongous and gave me no shape. even if i purchased an xxsp it probably would be the same. i am small but i mean come on- this would only fit a giantess-- which also makes no sense because it is the petite size. \\r\\n\\r\\ndo not buy. i am very upset i have to pay the $5.95 return fee since i ordered this.',\n",
       "       \"I had this dress in my basket for a long tiem waiting for free shipping. i liekd how it looked on the model. read the reviews, and wasn't sure, so waited... then my usual size sold out, so i decided ot try the smaller size (in petites, otherwsie i would have gotten it in the store :_)) i needed pettie and the smaller size is perfect! the color says black, but it looks more mifnight (aka blue), my friend even said (when i tried it on), you know i laways love anything blue... so don't expect dark\",\n",
       "       'I agree with the other reviews that these jeans run big. for my body, straight up and down, i ordered 2 sizes down, but would have ordered one size down had i been able to try them on in the store. the jeans i received were lighter, not blue, and more grey with very noticeable white whiskering. i need a new pair of jearns and i love the cut of these so i am keeping this pair, but, for me, because of the color they are just ok compared to the wow i was expecting from the picture.',\n",
       "       'I love this! seriously would buy again. i wish it was warmer out so i could wear it',\n",
       "       'I love this blouse! the colors of the little sunglasses are vibrant against the black background, the buttons on the front are also a coral/peach color and beautifully made. its thin enough to be worn in the summer or fall without making you sweat or freeze. i ordered a medium, which i usually wear in most retailer tops and it fits perfectly. i am a 36b and can run from an 8 to a 10 in tops. i do recommend trying it on before purchasing if you can, especially for women with a larger bust. th',\n",
       "       'The quality of this vest is outstanding, and the warmth is exceptional. i have worn it as a jacket on milder days, in work as a warmth layer and brought on vacation to act as both plus a bathrobe. it is a very stylist piece that can be worn open or belted. it runs large by style, but i am 5\\'1\", 100 lbs and i can carry it off.',\n",
       "       \"Let it be known that i hate shopping for jeans. i recently had my go-to skinny jeans rip by my back pocket and new i needed to get something new & better stat. i have a pair of black ag sateens that i got a few years ago, and i decided to try out this pair. i got them in the mail yesterday, and i never want to part with them! they are perfection. they hit perfectly on my waist; they're incredibly comfortable and basically make you feel like you're wearing the jean equivalent to yoga pants. they\",\n",
       "       'This would be great on someone with a slim build. it is very true to size, it hits above the hips and runs pretty straight through the body for a boxy look. i loved the color and pointelle detail but on my thicker build it just sort of hung in a too-casual way. note that it is the kind of cotton that is likely to stretch with wear (and spring back with cleaning).',\n",
       "       'This dress is very small in the bust and maxi length on short people (5\\'3\" 36dd). i can\\'t wear a normal bra, i have to use adhesive pasties. the fabric is very smooth, thick and satin like, but fuzzes easily. mine came with minor thread pulls and one strap was sewn on twisted. the pattern in real life is very pink as opposed to the model sample which has more blue landscape. i\\'d like to hem the dress but i would sacrifice pattern. still very pretty dress. be sure to size up one or two depending',\n",
       "       'Love these pants. the design is totally different and that is what i love! i paired these with the velvet red shoes from this site - also on sale. for me these ran true to size.',\n",
       "       \"I am usually a size 2 in tops. i am very, very rarely a size 0, so upon reading other reviews of this top i decided to order the 2 and assumed it would fit the way a 2 usually does. obviously this is designed to be a loose, flowing top. that is why i wanted to order it. however, the 2 is simply too loose in every direction. my primary gripe is that the arm holes are gaping and falling at the side in a way i don't think it intended.\\r\\n\\r\\ni do really like the styling and quality, so i am planning on\",\n",
       "       \"This dress is absolutely beautiful! it fits like a glove and the material is super soft. so in love with this! i am 5'2 am and normally a xs/s. the xspwas a better fit in the waist and chest. the arm holes were a bit tighter on me. the sp was way too large.\",\n",
       "       'This jumpsuit is lovely and comfortable, with gorgeous embroidered detailing, but it really needs to come in petite sizes. at 5\\'4\" with a pretty proportional torso to leg ratio, i found the hem length okay but the top portion way too long. for the waistband to be anywhere near my natural waist, the shoulders would have had to be taken up several inches and the armholes shortened.',\n",
       "       \"It is hard to go wrong with the charlie is, especially in this fabric, keep them coming!! i wrote a review on the brush strokes as well. they fit pretty true to size, i'd say try both your usual size and one size down as well, they stretch out a little, so if they feel a little tight keep that in mind. because of the texture of these pants you can wear so many more colors than just usual black and white trouser fabric. try wearing a burnt orange, green, or pink (the isabella sinclair grid wrap but\",\n",
       "       'Great t. great lightweight, almost linen like fabric. a bit on the sheer side, but love the fit and the neckline!',\n",
       "       'I expected the waist to be cinched like it appears on the model but it isn\\'t. i ordered the xs and i am swimming in it (i am 5\\'4\" and 120 lb). would suggest ordering a few sizes down to avoid looking like you\\'re wrapped in grandma is table runner.',\n",
       "       'The color of this top is a bit more vibrant than online. material is light, but i can wear a beige bra underneath and not need a cami. fit was true to size for me and detail at the neckline is flattering. a keeper for me!',\n",
       "       \"I tried this on in-store and would have purchased if it have been a better price, it wasn't something i could justify spending $100 bucks on. it is cute and was surprisingly comfortable but again, not worth the asking price. i will buy when it goes on sale.\",\n",
       "       \"I ordered this in my usual size 0 and couldn't finish zipping up the top, but also couldn't fill in the boobs. i am 5'7, 116 lbs, 32a. it is very cute, but the top was pretty stiff and unless it draped on you correctly, could probably be bothersome. i was disappointed in the quality of the skirt- no lining, simple cotton/polyester. i will probably return, try the size up, but was disappointed compared to how excited i was for it. i did like that it had pockets, and would be a fun dress to wear f\",\n",
       "       'I love this dress so much. the fabric on top is not something i would have chosen-it is thick and almost an elastic kind of feel. but i have grown to appreciate that since this dress is not amenable to most bras. i think the fabric would be thick enough on top to actually just do without one. otherwise you would have to go with a strapless-and the right kind of strapless, with this dress.\\r\\n\\r\\nwhen they say it flares it really does-and much more than i was expecting. the bottom part of the skirt f',\n",
       "       \"This skirt is great to wear to work. nice medium weight. being cotton, it doesn't get to hot. skirt is lined. nice flattering shape. my normal size 4 fit perfect. love the godets. comfortable. doesn't get all wrinkled from sitting. nice royal blue color.\",\n",
       "       'This sweater is comfortable yet still work appropriate. the ruffled shoulders adds a feminine touch.',\n",
       "       'Glad i got this on sale. it is more yellow than the photo & short. it is also heavy with a sueded interior. would have given more stars if it was less boxy & longer.',\n",
       "       'I love this dress so much! i got petite and the length was perfect. it was so soft and so pretty. perfect for a wedding.',\n",
       "       'The romper is well made and just plain cute. i bought it the second i saw it and don\\'t regret my impulse buy one bit. 135 5\\'5\" and the small fit perfectly.',\n",
       "       'I\\'d give this dress 6 stars if i could, it is possibly the best dress i have bought at retailer in 12 years of shopping there.  the fit is fantastic with the ruching around the waist adding camouflage  for anyone with a bit of a tummy. the cross back stamps hide a bra effortlessly (even those wide supportive bra straps that larger cupped women need to wear), the mature rial is soft and silky to the touch, the fit is true to size, the pattern is bohemian and elegant -- not hippy dippy at all. i am 5\\'6\"',\n",
       "       'Adorable and amazing quality. true to size. i ordered a 6 and fit perfect.',\n",
       "       \"These pants are so great. i am 5'10 and the talls are actually a hair too long. but no complaints! just wish they made every color available in tall. i had been waiting for new colors to get a second pair and was disappointed they are only offered in regular length. but overall these pants are super comfortable and great for work. as far as sizing goes, i wear a 29 in the pilcro cord leggings and wear a 12 in these.\",\n",
       "       'I ordered this in a size s, my usual size and it fits great. i love the color, style and fit of the dress. the only criticism i can think of is the braided trim on the skirt hits right at my hip and kind of, ever so slightly, poofs out a bit and i wish it had pockets. other than that it is pretty darn cute and i got it at a great price of under $40. so i will wear it as much as i can until it gets cooler. because of the rich color, i can probably wear with cute sweater and booties into the fall!',\n",
       "       'Really cute skirt, but difficult to get on! i had to shimmy it over my hips due to the lack of a much needed zipper. i am not very curvy, so if you got them, forget it! i sent back the xs - hope the small is a little roomier because it will make a pretty summer skirt.',\n",
       "       'I thought it was only me and immediately assumed i needed to go on a diet when i attempted to put this adorable skirt on. it got stuck at my hips. i am a very consistent size small in dresses and skirts. i actually thought about putting it on over my head but that was impossible. its going back. now i see the other reviews and am relieved that its the skirt and not me! wish i had read them before purchasing. retailer is going to get a lot of returns on this one.',\n",
       "       'Dear creatures always has sizing issues. they run the gamut of bust-problems. i\\'d been salivating for this dress for a long time so i really did my homework. at 5\\'7\", 130-135 lbs, 34c, 28\" waist - typically a 4 in dresses... i bought the small. each dress is cut from the same fabric, leaving each dress is color swatch placement to be randomly determined. as a result, i have seen some dresses have only pink, purple, and green. i lucked out and got every color represented. so the dress you see may no',\n",
       "       \"This dress is sure to become one of my favorites! i ordered it online and the colors are even prettier in person; very vivid! it is a little light for the climate where i live right now but, i am sure that as soon as it gets a little warmer i will be wearing it often. i can't wait!\",\n",
       "       'Nice but i thought these ran big. me: 28-29\\' waist, 36\" hips, athletic thighs. usually a medium in leggings but these size mediums were a bit baggy to my surprise. hoping to exchange for a size down as they are pretty, the ankle detail is fun and decently made.',\n",
       "       \"I purchased this with some hesitation, having read that some people thought it was unflattering. but i couldn't resist the sale price, and i love a low-maintenance work top and doesn't require ironing. this fits the bill perfectly. it is made of high quality fabric, there is a soft inner lining with a side zip closure, and it has a pretty narrow profile so initially i found it a little snug to wiggle into (i got a small), but once on it fit perfectly, and is so flattering i can't imagine why other\",\n",
       "       \"I honestly bought this shirt on a whim the other day in my local retailer. i was drawn to the color and the swing. first of all, this shirt is incredibly soft and lightweight. i love the flow of the loose peplum. the straps are nicely placed, because they're wider and accentuate my arms (and cover my bra straps). i love the little v neck detail. it shows a little cleavage when bent or hunched over, but the top stays conservative when truly upright. i wore this shirt 3 days in a row last week, and\",\n",
       "       \"I was really drawn to this burgundy color on this sweater, but wasn't all that impressed with the style. as soon i tried it on, wow it is very flattering. the color is gorgeous, i can see myself using it with jeans, pencil skirts, pants. for reference it does run large, i am usually a x large but i got a large and fits beautifully.\",\n",
       "       \"For me to buy a tank top it better be special and this is. flattering without being skintight, it camouflages that little back bacon you sometimes get from a bra. the v-neck is low and is the same in the back. great length, super soft and the best part is you can wear a bra! i haven't washed this yet, but based on other reviews i will probably hand wash and air dry. the only issue is the tag flops out every now and then.\",\n",
       "       'I had hopes for this shirt but was disappointed in the fabric...it is very stiff and heavy for a summer blouse. will be returning it.',\n",
       "       'I ordered my usual size small and it was very large on my 5\\'5\", 112# frame.  my daughter loved it so she scored.  i ordered another one in xs, perfect though the sleeves run long! i have long arms.  can be dressy or casual.',\n",
       "       'Ordered this on a whim while taking advantage of a promotion, and now need one in every color! the weight and cut is perfect for fall/winter/summer - not too heavy, but not sheer/tissue thin; fitted enough to look super cute with leggings or skinny jeans. fabric has a nice quality feel to it - i have similar shirts from the past that have held up well in the wash. i am anticipating the same with this.',\n",
       "       \"Oh my! i love this tee. it is super soft. i love how it doesn't look like a sack with no shape. i can't wait to get more colors. i am tall plus have a long torso and it still is long enough for me so this is definitely a win!\",\n",
       "       \"I saw this top in the store and wanted to try it on but my 18-month-old son was getting cranky so i had to leave. i kept thinking about it and was planning to go back and get it and then i checked online and it was on sale! i purchased the pink and i am ordering the blue as well. it is very comfortable and i received several compliments when i wore it. i haven't washed it yet but the fabric seems to be sturdy.\",\n",
       "       \"I tried this shirt and really loved the feel, and the scalloped sleeves. i have a couple shirts by this brand that also have beautiful embroidery, and i always find myself drawn to their clothing. the fit wasn't too boxy on me, but i am between m&l, and sized down, so that might have helped. if i didn't have so much of this color in my wardrobe already i probably would have snatched this up!\",\n",
       "       'Hangs terribly off the chest. tent-like. looks maternity. no thanks.',\n",
       "       \"Ordered online and love it,exchanging however from s to m 'cos the fit is so perfect and i want to allow for extra room at the festive season:)\",\n",
       "       'I ordered this top because it was 100 percent cotton and a cute design. when it arrived, i thought it was a cute, different top, uniquely designed. when i tried it on, it looked like a had several extra rolls due to the ruching and was very unflattering. it reminded me of the michelin man wearing extra tires and i am of a thin build so i did not like the perception of rolls throughout the bodice. unfortunately, it did not work for me. i wish retailer would include more cotton tops in their collect',\n",
       "       'Not my typical sleepwear, but glad that i took a chance, as it is super cozy for lounging. i was worried about covering my bottom (as i purchased the matching leggings), and ordered s based on prior reviews. ended up exchanging for xs as it was too oversized. could have purchased the petite probably as xs is still a bit long (5\\'2\"), though fits like in photos.',\n",
       "       'This pullover is great for lounging! so warm and cozy!',\n",
       "       'This dress has become a favorite in my rotation. the cut and print flatter my body and accentuate my waist. the print is subtle enough to pair with bold accessories.',\n",
       "       'I am 5\\'3\" 130lb and i bought this dress in a petite small which fit perfectly. the dress hugs my figure nicely. \\r\\nunfortunately, i found that the neckline is cut a bit too low to wear to work, at least for my own comfort level, but i just wear a camisole underneath it for work and without for a date. i was really pleased with the purchase of the dress.',\n",
       "       \"Dress caught my eye on the rack so i thought i'd try it on. the dress has lovely blue stripes (hard to discern in the online photo) which makes it a great year-round piece. however, like others have commented, it is too low to wear to work. will consider alternations to close the v-neck if the dress is marked down beyond its current sale price.\",\n",
       "       'This dress seems quite high quality and is wonderfully designed, except in the chest. the wrap style hugs in all the right places but the chest. i am slightly large chested (34c/d) but can usually wear a size small or size 4 in dresses and tops (5\\'5\", 122 lbs). the small in this dress was great everywhere else, but i couldn\\'t breathe and it totally flattened out my chest. also, it is quite low cut, so another mark against it for anyone with a semi-large bust. couldn\\'t wear it to work that reason',\n",
       "       'I have the white lemon lace shirt and love it so i was excited to see it in a color well suited for fall. the peacock pattern on the blouse i received is perfect and the pattern is well placed. i do love this one as much as the lemon blouse, however, the color is not the same as it appears online. it is more of a jade green color, and although it is pretty, i would have preferred it to look more of a blue color. i am keeping it, as it is still an unusual and elegant blouse that is cute with dark sk',\n",
       "       'When this piece arrived, i was surprised at how weightless it was. there are 2 layers to it, an underlayer and then a very fine silk toplayer together, the ensemble is incredibly light and it is almost as though i feel like i am not wearing anything at all. to take it home, i did have to kind of stuff it in my bag, and this caused some considerable wrinkles which are very difficult to get out (super stubborn( but i am pleased with the look of the garment. usually, i like the look of a dress that',\n",
       "       'This jacket looked adorable on. it was also quite comfortable. however, it sheds and left fuzz on every dark surface it touched. sadly, this is a deal breaker for me.',\n",
       "       \"I love this dress. i'd get it in both colors if i could! the cut and fit is beautiful, i'd suggest sizing down if you feel like it is too boxy or lacks shape. the bottom skirt is round enough to where you can twirl ( #1 thing to look for in a dress ;) ) and it is just overall a classic pretty dress. my only complaint is that the overlay cut out seems a little bit delicate and i am afraid it will be ruined after a few wears but it seems to be holding up fine so far and isn't incredibly delicate like\",\n",
       "       'It hangs very nicely on the model in the picture but when i put it on it fit tight in the sleeves and upper back but huge in the front. the sweater was also sparkly which made it look cheap. i loved the lace detail in the back but the sweater was returned. did not fit well and was not good quality. very thin',\n",
       "       'This dress is modern yet timeless, cute yet rock and roll if worn with boots. i am 36b, 26 waist, 36 hips, and size regular s fits well. i like regular size because it is longer in the torso (lengthens waist for a belt) and the length is right above the knees, appropriate for work. the bust area fits me perfectly so well-endowed ladies may want up a size. i am into grey now but all colors are gorgeous, love the sheen, colors are true like shown (1 star off for hi price for a simple dress).',\n",
       "       'Want to combine super comfort with super style and quality!! stop here and buy these!!!! you will not be disappointed!!!',\n",
       "       'First, let me start out by giving a reference. i am 5\\'1\", 138lbs, 34dd, 30, 38. i usually take a size 8 in maeve, esp if there is no give. i bought a regular size 6. \\r\\n\\r\\nfirst the good: the design. it is classy. it will keep boobies (the ones of the larger side) in place. this is amazing as there isnt really a way to wear a bra with with dress. it is slimming and i have hips. \\r\\n\\r\\nthe bad: surprisingly, the fabric gets dirty super easy. i have no idea why everything clings to it. i got my dress f',\n",
       "       'Delighted with these. made in the usa was a big selling factor. great quality and fit. will look out for more active wear from this brand.',\n",
       "       'Love the bright colors! made really well!! super soft and vibrant!',\n",
       "       'I am pretty disappointed in these. just bought the yellow pair and wore today for the first time. super cute and very comfortable. i was in love with them. they got two small stains on them from the day is activities ( and not even crazy, untreatable stains). unfortunately, the stains did not budge yet the color of the shorts washed out. they are completely ruined after one washing (on cold). i am hoping this was a fluke and plan to order a second pair before they sell out. these will be going back',\n",
       "       \"I am 5'1'' and most normal size retailer tops are too big on the armpits and neckline for me.\\r\\ni don't usually go for peplum, but i was drawn to this top bc it was very soft. when i tried it on, everything fit just perfect and length was also right for me. i like slight stretch of this fabric which hugs body nicely. i would say you should get a size that fits nicely on chest area.\",\n",
       "       \"This dress is lovely and the fabric is sensational.\\r\\n\\r\\nthe slits on the two sides of center front are really cool too.\\r\\n\\r\\ni am 5'7 and it was way too long and i would not have it hemmed at it would remove the gorgeous\\r\\nlotus pattern near the base of the skirt. i only wear flats at 70 but hope this fabric appears somewhere else\\r\\nsometime. it is truly a gorgeous dress for a taller person.\",\n",
       "       'The quality of this top is quite high. it feels like silk. the print is lovely, showy without being too over the top. i love it and would highly recommend it.',\n",
       "       'This top is totally adorable. it is one of my favorite retailer tops this season. i wear it with jeans or even red skinny pants and i get tons of compliments on it. it fits true to size and the material is washable and durable.',\n",
       "       'Wonderful flattering fit, mostly cotton so very cool and huge color selection. i bought 3 pair. thrilled with pilcro. \\r\\nonly thing that could make these better would be if made in the usa.  cuffs roll down if you want less sun.',\n",
       "       'This top is amazing. so soft and the off the shoulder part stays where it belongs. i am usually a large but got this in a med. fits perfectly.',\n",
       "       'Loving this top! the material is lovely and high quality plus the design is very flattering on body. perfect for cooler evenings out. did i mention super flattering?',\n",
       "       'I love sundry and their fun designs--i was disappointed because the fabric is very thin and the dark part of the heart is not black but bluish slate grey. it is just not what i expected from the picture. i bought the xs and it felt baggy on the body.',\n",
       "       'I wanted to like this top, as i usually adore a cute peplum feature. when i tried it on yesterday in the store, i was disappointed by how wide and bulky is it. i am petite (5\\'2\", 110 lbs), and i tried my usual xs. the fabric was substantial and of a high quality, but unfortunately in this design, that became a bad thing as the bottom of the shirt balooned out around me. it was very unflattering and i felt lost in the shirt! definitely try it on for yourself before purchasing.',\n",
       "       \"This is a cute top but the fit is problematic. it runs small on top especially around the bust and sleeves but then it flares below the waist in a billowy and unflattering way with way too much fabric.\\r\\ni got both an xsp and an xxsp. the xxsp fit better on bottom but i could hardly pull my arms through the sleeves. both are going back unfortunately. for reference i am 5' 103 lbs 32b.\",\n",
       "       'This is a beautiful piece that looks even better in person - a nice mix of modern and artistic, with just enough color and a flattering fit. my only concern is that it may get itchy throughout the day, especially at the neckline. if you can handle a little wool blend next to your skin, i would recommend it for style and fit.',\n",
       "       \"This top looks exactly as pictured, it is a little more billowy but i liked that about it. i found that it ran true to size and i am 5'8'', 128lbs and ordered a small. i am going to order the white because the cut is super cute.\",\n",
       "       'Love everything about this jacket its super soft, thin, and looks great! it is versatile and a great layering piece for someone that lives in a very warm climate! prefer the sleeves to be worn rolled up and the inside belt definitely helps give the piece more shape and dimension!',\n",
       "       'This vest is well made and a very flattering cropped silhouette. i typically wear a 0p and ordered an xxs--it fits perfectly. it looks awesome with the shirt pictured underneath.',\n",
       "       'When these shorts arrived i loved them and was so excited to wear them on my upcoming trip to the beach. the high rise waist is very flattering and the material was extremely soft. the floral detailing was a little more orange than in the picture but i still loved the contrast. the first time i wore these i immediately noticed threads coming loose throughout the day. it was minor but still concerning for an item that was so costly. the real problem arose in the evening when i put on a jacket on',\n",
       "       \"I debated between the xs and the small..and ended up with the small because it is 100% cotton i probably couldn't probably gotten the xs one. we will see if it shrinks. i hope it does a little. i do wish the retailer sizing was a little more consistent because sometimes the xs is fine.\",\n",
       "       'The idea of this shirt is awesome! it just needs to be made longer and not so boxy. the ruffle is darling! i would be so happy if the the designer made some modifications. i think a lot of people would buy it then.',\n",
       "       \"I bought this in the sky color (and sized down from my normal medium) and absolutely love it. i don't think it is boxy at all. on the contrary, i love the way it hangs (i don't find it to be short either, though i do tend to layer with a longer cami underneath). p.s. the ruffle detail is precious!\",\n",
       "       'This sweater is really beautiful! i love this brand and this piece is one of their best yet! the fringe is perfect and flowy, a sweater that you can team with jeans and boots and be the best dressed in the room. tts, soft with no itch, really happy i bought it, and because of the color and weight this is an all year sweater which i love, because i know i will not want to pack it away. it fits just like the photo.',\n",
       "       'I bought this to wear to holiday parties, but it would work for any special occasion. the embroidery is gorgeous and really pops on the black background. the dress itself is a brushed cotton that is thick enough to not to show every bulge. i said it runs tts. i bought the size 2 and normally would wear a 2 or 4 in retailer dresses. the dress is fitted through the torso and flairs at the hips, so you may want to size up or down depending on your body type.. i did not have any issue with the armhole',\n",
       "       'I loved this shirt until the first time i washed it. it shrunk so much it became unwearable. when i returned it the salesperson said she had also bought this shirt and the same thing happened.',\n",
       "       'I normally wear a xs, but i got a small so it would be a little longer. great quality and adorable!',\n",
       "       'I wasn\\'t sure about the color but ordered based on how much my stylist loved it. my usual xs petite fits perf daly, no chest problem (30dd) and the length is quite nice. romantic look, the drawstring in the back helps making sure the dress fits properly at the waist. it is a high low style with flowy skirt. overall great. i need to stop going to the store\"',\n",
       "       'I love the ruching on this hoodie, which is why i ordered it. i am typically a size small, 34b, 130lbs but the hoodie was a bit tight in the waist and around the bottom band. i might order it in a medium (although the sleeves will likely be too long) the only thing that makes me hesitate is the color. it is more of a brown gray (instead of just gray as you see on your computer screen.).',\n",
       "       'The colors are so pretty, a pinkish brown and a light brown trim. it is very soft and elegant looking. great with jeans or leggings. the tie is a little high in back but looks great. highly recommend!',\n",
       "       'This is a great sweater that i know i will get a ton of use out of! i have already worn it three times, and i have had it a week. i typically wear small or medium in tops and sweaters, and ordered a medium in this one to ensure the arms were comfortable. the nude color is perfect.',\n",
       "       'I am always a fan of retailer cardigans, but this one exceeded my expectations. the quality is a work of art, especially the back and the color, i chose the green, is so unique and beautiful. you will not be disappointed, go for it!',\n",
       "       \"I technically measure to a medium in both regular and petite sizing, but i took a chance an ordered the regular small in red. it is as depicted, and i agree that it is soft and can be clingy, but the regular size fits slightly too big on me. this is fine since it would show lumps otherwise. i bet this would be perfect had the petite size have been available. nonetheless, the fabric is substantial enough that it doesn't show the fact i carry weight in my upper body and stomach, so i am keeping it.\",\n",
       "       \"I didn't think it was that cute in the picture online but when i saw it in the store i was in love!  i am typically a medium and this was true with this.  i have a 34dd chest and you can wear a strapless easily with it and it doesn't show. i am going to wear it for a cocktail party but it would work with flip flops too.  just love it so happy i went into the store and saw it.\",\n",
       "       'I bought this in a size 0 which is my usual retailer size. the lace is nice quality, not rough or scratchy. i purchased the ivory which does have some blush accents which make it look \"vintagey\". it will be perfect for the holidays or all fall/winter. i like that the peplum doesn\\'t seem to flair out much. very pretty!',\n",
       "       'The dress is lovely and fits true to size. i like the petite fit. i would note, however, the dress length does not match the description. the description states the dress falls 45\" from shoulder. i measured it at 40 inches. it is definitely shorter than i was expecting.',\n",
       "       'Love the collar, cut is cropped but i am wearing a tank under for hole coverage anyways. no complaints!',\n",
       "       'I noticed this vest hanging in my local store and tried it on on a whim because it felt so soft. i usually wear an xs or s in retailer is clothing so i tried on the xs/s and felt it was true to size - it is obviously large, but that is because that is the style! the shoulders fell perfectly. i was in love from the moment i put it on! while it is not my normal style, it was so soft and beautiful and it flowed perfectly, plus the extra fabric allowed for a bit of \"cozying up\" in colder weather by wrappi',\n",
       "       \"I have to disagree with some previous reviews -- i think the buttons on these ankle jeans really set them apart. they look absolutely adorable with booties, flats, wedges, heels, anything! and they're extremely comfortable and flattering, as most pilcros tend to be. i got my usual size 26 and the rise and fit is great. i think maybe they stretch out a bit; i have only worn them a couple times and by the end of the day the waist seems a little loose. but overall, great and a good price (at least co\",\n",
       "       \"I am 5 6' and 130 pounds and ordered this in an xs. the sweater is enormous. the material is also scratchy and not soft at all. i am disappointed with retailer is sizing this year. i have had to return a # of xs items because they are huge. really disappointing.\",\n",
       "       'I initially ordered a small, but found it looked way more oversized then what it should look like, even considering the style. (i was swimming in fabric!) i exchanged it for a petite small, and it fit perfectly. it goes so well with so many looks, and it is going to last a long while in my rotation. looks much better in person, too. my only reservation is that unlike the original one i received, this one had many threads loose throughout, which i clipped and think will be alright, but i expected',\n",
       "       \"This was a nice surprise because it is a thick sweatshirt type of fabric. don't be deterred! it is nothing like a sweatshirt. it is comfy like a sweatshirt though. i am 5 feet tall 120 pounds. i ordered my usual size petite small and it fit perfectly. what little height i have is in my torso. i didn't find that the top was short at all. it is without a doubt tts. order your usual size. if you have a tummy or bootie this top is the ticket! the description on the fabric details that the other reviews\",\n",
       "       \"I purchased the grey in a medium, i normally wear an 8 or 10 in tops, 36 c.. i found it to fit quite well, but it has the shape that seems common at retailer lately in that it is shorter and more boxy. so if you have a longer torso(like me), you may not be the happiest. i loved the lace and didn't have an issue with that area being sheer, but the non-lace part is very thin. i did try it on with a black bra and it was obvious i was wearing black all around, you could even see the width of th\",\n",
       "       'This top is so gorgeous! the color, the embroidery, the neckline, are all perfect. this can be worn casually with jeans or dressed up for a special occasion. i wore this to a thanksgiving part, but also to take final exams in (because it is comfy too!). this piece definitely runs small. i ordered a large despite being a medium in almost everything else at retailer and the fit is perfect.',\n",
       "       'My retailer location only had the blue option, which i found to be very appealing and better in person for the following reasons:\\n__________\\npros:\\n- lighter knit like others mentioned.\\n- the blue is a deep blue with threads of shimmery black that give it a more elegant touch while still being casual. i didn\\'t see the grey, so i cannot compare the two differences, but i found the blue color lovely.\\n- this looks much better in person!\\n- it sat well on my tall frame of 5\\'9\", 36 c, wide hips, and hour',\n",
       "       \"I purchased this dress for my 31st birthday and i am so glad that i did! i saw it in my local retailer store and immediately had to try it on! it is very flattering because i am 5'0, usually a size 8 or 10 in dresses and it fit perfect! the material is light, definitely suggest delicate cycle and hang-drying, but it is nice because you can layer this dress with a vest or coat! highly recommend this dress!\",\n",
       "       'The fit on this jean is amazing, they just run large, and then they also stretch quite a bit after 1-2 wears. i am usually a solid size 30 (and have other pairs of dl1961s) but i am buying in a 28 - so i would say one or two sizes down from your usual size.',\n",
       "       \"I am not sure why this dress is getting great reviews. the plunging neckline is ridiculous and ran down to the underwire of my bra and the slit up the side came up to the upper part of my thigh. it was one of the worst fitting/cut dresses i have every tried on at retailer. i am 5'4 125. maybe you have to be 6 feet tall and 90 pounds for this dress to not look like a bad renaissance faire costume.\",\n",
       "       \"I wasn't sure about this top when i saw it on line but it is actually nicer than the picture. it is very flattering and the color is perfect for the summer!\",\n",
       "       'Nicely structured, yet soft blazer. wardrobe staple. runs true to size. i would buy all colors, but restrained myself to the black/green.',\n",
       "       'I am 5\\'8\" about 134, somewhat of a pear, and these jeans in size 28 fit like they were made for me. plus, the fabric is really soft and comfortable and i love the color. ankle opening is more straight than skinny, which is a change from my usual skinny jeans, but i like it.',\n",
       "       \"I agree with the other reviewer, this is a nice piece. i felt so-so about it when i tried it on though. see below.\\r\\n\\r\\n___________\\r\\npros:\\r\\n- not too heavy or warm due to being part linen/cotton blend, making it breathable and great for more milder temperatures.\\r\\n- soft floral arrangements with lovely pattern throughout the sweater.\\r\\n- lovely collar giving it a sophisticated feel.\\r\\n- ran tts. i am 5'9, hourglass with some meat on my bones and found the medium to be an ideal fit.\\r\\n___________\\r\\ncons:\",\n",
       "       'Unfortunately this piece has a very boxy cut and the white layer is stiff and billows out - i am tall and thin but this made me look pregnant - very unflattering. i considered trying a smaller size, but i did not like the material too much either so i just returned it.',\n",
       "       'I ordered this dress and have sent it back. i think it could be a flattering dress; the waist hit quite a bit above my natural waist which made the entire thing fit weirdly. i am very long waisted, so this might just be a problem for me. i ordered regular size 2.',\n",
       "       \"Usually red tops which are a true red are hard to find. this is more red in person that in the photo. great feel to material and the drape is wonderful. sometimes peplum tops can make me look bigger than i am (5'6 and 138 lbs) but this one has a nice slimming effect and the v-neck is complimentary to a smaller bust 36b. love it !!!!!!!\",\n",
       "       'Bought this for my brother is wedding and i just received it. i ordered my usual size xs. it is a tightly woven knit, with little to no stretch in it. i could barely get it over my head and my arms could barely fit in the sleeves. and i don\\'t have big arms at all. for reference, i am pushing 5\\'7\", around 125 lbs. i am glad it is so structured because i was worried that it would lose it is shape with this material make-up. but, no. it is really fitted. alas, i need to try again with the next size up. ma',\n",
       "       \"I love the button details on this top. i was expecting the material to be thicker, but it is quite thin. it isn't sheer, but i will layer it for the winter months. overall the fit is true to size. i am 5'0, 110 lbs and the xxs fit me well. the arms were more snug than shown on the model and the shirt was loose without being too flowy or boxy.\",\n",
       "       'I bought this dress in an xs, and am 5\\'4\", 115 lbs, and fairly proportional. the shoulders were snug, but the hips (and maybe waist)were at least 2-3x too big. comically so-- the fabric stood away from my body like wings on each side.',\n",
       "       'I bought this as a swimsuit cover and it was exactly like the picture. so soft, very good quality, fit perfectly. definitely worth it for this price!!!',\n",
       "       'Lovely foxy sweater. i dressed it down for work but would look fantastic with a pretty skirt too!',\n",
       "       'I bought the shirt in ivory and went down a size per the advice from other reviewers. what i should have done was go down 2 sizes! runs huge! my husband said i looked pregnant and that is never a good look if your not. sent this back the same day.',\n",
       "       'I have had this dress for a few months now and find it is super comfortable for the hot weather and can go dressy or casual with the right accessories. it does run large in xxs; the xxs petite fit a little better by was way too short for me. even better is that you can wash on the super gentle cycle and lay flat to dry. yes it says dry clean only, but its is made of cupro and you should be able to wash that material. i have washed mine several times and it has never shrunk or lost shape. the she',\n",
       "       \"I absolutely love this top.....the color, style, fit..everything! i took another reviewers advice and sized down from my normal large to a medium. i have had so many compliments wearing this top. it is very feminine, flows nicely, hangs well. love the color. can't recommend this enough!\",\n",
       "       'This is an awesome tank top, comfortable, great fit, casual but with ruffles a bit dressier than an ordinary tank top. i loved it so much i came back and bought it in the cream color. this runs a bit larger and i typically take an extra large but bought this in large and its perfect.',\n",
       "       'It is really not in my typical wheelhouse. i took a chance based on reviews. the shorts are long and roomy enough. and i love it with the long-sleeves. i somehow feel less exposed in it than i thought i would. i do agree with the comment that the material feels pretty flimsy for the price point. that is a bummer.',\n",
       "       'Perfect for dressing up or dressing down with a pair of jeans. this pullover can be worn during all four seasons of michigans weather, which is a bonus for me. it can also be paired with heels, booties or flats making it extremely versatile.',\n",
       "       \"The 'peach' color is actually a lovely shade of rose and the smocked detailing at the shoulder is exquisite - but there are bold stripes of gold lurex running through the plaid. if you like that kind of thing, you will love this blouse. it hangs well and is a substantial but airy fabric.\",\n",
       "       \"This is now one of my favorite retailer button downs. it is super soft and super flattering. it is everything you'd want this cute shirt to be!\",\n",
       "       'I got this dress in neutral motif. looks very cute and the size is perfect.',\n",
       "       \"The arm slits are actually subtle, and don't gape open. the chiffon type pleats are lovely, but the cotton material they overlay appears cheap and isn't dressy enough for my work.\",\n",
       "       'I love this, despite the split sleeves. the day it arrived i paired it with a black boucle midi skirt (from retailer) jewelry and mid high black slings and we to out to dinner with friends. several people complimented me so it must have looked as i\\'d hoped. i have worn it one other time with straight legged pants and a cashmere cardigan and felt comfortable and a bit more dressed up than usual slacks, jeans and shirts. it is soft, feminine and comfortable...the ubiquitous \"dress it up or dress it',\n",
       "       'When i returned this the salesperson asked what was wrong w it bc it keeps being returned. i got the black w the white collar/cuffs. i thought it was terribly itchy material (which could be remedied w a shirt underneath) but the white collar part was such a dull ugly white-dirty color. maybe the other colors are better?',\n",
       "       'The teal color is beautiful. the fit is wide leg with a low waist. i have been wearing so many high waist pieces lately they felt really low. the material is really soft. they fit tts.',\n",
       "       'Love these! the raw hem is on-trend! length is great (i am 5\\'6\"). material is the classic pilcro washed chinos. perfect. as with all pilcro pants, they stretch a bit. :)',\n",
       "       'I think this dress is adorable . it fits great. wear it with heels or cowboy boots. you will not be disappointed',\n",
       "       \"This seemed to run a little bit small on me... more form fitting than on the model in the photo. also, it is thin. i'd be sold on it for sure if it were just a little longer too because i like the almost-lingerie-like look. the lace applique is pretty, and if you purchase it for that, then it really shows up better on the two lighter colors - it really gets lost all in black.\",\n",
       "       \"When i first saw this dress, it honestly didn't catch my eye, but as i kept seeing it in on the catalog and other places on pinterest, i realized how unique this dress is. i looked at the reviews and was surprised at how negative the comments were- i am the type of lady who gets stuck on something and won't get off of it until i try it for myself. so, i ordered it on sale and i love it! it isn't flannel material, and so i wasn't expecting this to be a dress that would keep me warm by itself- but\",\n",
       "       'These jeans are soooo soft. fit is great and the wash is a unique inky grayish color. perfect for fall. love.',\n",
       "       'I loved the romantic look of this robe and gown set, but the material was very thin and wrinkled and needs to be ironed. the m/l was uncomfortable and i normally wear only a m. sadly, i returned the set.',\n",
       "       \"This dress was cute but the fit was not quite right. the bottom half fit well but the top half was a little loose. it was wearable but i was worried after wearing for a few hours it would stretch out even more and look frumpy. like other reviewers have said, this dress really needs a belt to bring it together. i ended up returning it because i didn't love it.\",\n",
       "       'Like these pants and they were on sale--does not get better!',\n",
       "       'Really wanted to like this and took chances based on other reviews, even with the sale price and addtl discount. it is basically $30 blouse fabric with design and detail-work of a much more expensive blouse. the white is sheer and and fabric will wrinkle easily. if it were black, you could probably get away with it, but the white shows too many flaws and will wrinkle. sad to have to send it back.',\n",
       "       \"I can't decide on these pants. after trying them on in the store, they are very soft and a beautiful blue color. however, i found them a bit small. i usually take a l in retailer pants, and these are very tight. probably could pull them off with a tunic top, however, in spite of the fabric, the fit was just not comfortable for me. a good alternative for denim if you are slender, rather than curvy.\",\n",
       "       \"Took another reviewer is advice and sized up to an xl. unfortunately it grabbed around my midsection and wasn't attractive. love the color. and it is dreamy soft. the sleeves are attractive on less than toned arms. my problem was with the side view which emphasized my tummy (it clings) and you could see a lot of my bra because in the larger size the armholes are large. sadly returned.\",\n",
       "       '5\\'7\", 34c, 28 jeans, size 4 dress. fell in love with the pattern in particular, knowing the design might not work best for my body. ordered the size small - it was not unflattering - but it did nothing for my body type. if anything, the excess fabric made me appear wider and made my waist non-existent. the trouble was that the skirt portion has the elastic band starting high - approximately right under your chest - almost like an empire waist (this is hidden by the flap of material hanging over',\n",
       "       \"When i saw this online, it looked like a regular cardigan with a hood, but with looser arms and a generally looser fit. just be aware it has bat wings or something (not sure what it is called). there isn't one picture included with an arm lifted, so without a really close look, the arms look loose, but normal. i returned it :(\",\n",
       "       'This dress is so pretty, comfortable and easy to wear. i got so many compliments in it. it is a winner for sure!',\n",
       "       'Wonderful dress! very comfortable and great fit! received numerous compliments whenever i wear it.',\n",
       "       \"I like the fabric - very smooth and feels nice on the skin. i like the handkerchief hemline too.i didn't realize how much i would not like the neckline. it feels too tight and too high to me and i am not sure i could wear this for long without pulling at the neck. also, the fit is loose, maybe a bit too loose for my taste. but it is the neck fit that makes me have to return this dress.\",\n",
       "       'I love this dress (i bought the navy with white stripes). it is comfortable, flattering, and versatile. best of all, i received a complement from my husband, who never comments on my clothing! the drapey knit fabric fits closely (but not tightly) in the shoulders and bust and then skims over the lower body. the fabric is soft and stretchy, not too thick, but still substantial enough that i did not need to wear support garments underneath (i am 5\\'4\", 123 lbs). i wore this to a christmas party and',\n",
       "       'Love this dress! i bought the blue motif. which barely has any blue at all. it is the softest cotton dress i own. i wore it with my red hunter boots today and it made for the best rainy day ensemble. love, love! and i got it on sale which just sweetens the deal :)',\n",
       "       'This dress is really lovely. i purchased in the blue green color and think the pattern and ribbon detailing is gorgeous. it runs very small - i am normally a 00p in maeve, and in this dress, due to the length, ended up with a 2 regular. i like my dresses to fit and could have gone with the 0 - it fit well at the waist but was tighter than i prefer across the chest and wanted a more comfortable fit. as other reviewers have noted, it has a higher waist which i think contributes to the sizing issue',\n",
       "       'I ordered the neutral and this dress feels and looks great. but my issue is with the fabric. while very comfortable, it fades where its stretched. so around my bust and my back when i moved my arms. i am 5\\'9\", 145 lbs and the small fit me the best but i tried on the medium just to see if it was a fit issue. the fabric still looked weird. i am disappointed to send it back but i just can\\'t keep it.',\n",
       "       \"I am not sure why this dress has such bad online reviews because i absolutely love it! it fit tts for me, but i have a large bust so will run big if you are smaller on top. i don't like paying full price usually, but the quality and beauty of this dress justified it! if you are into prints and colors, you will definitely be able to pull it off :)\",\n",
       "       'The blue looks a lot more grey in person and i have gotten several compliments wearing it with black leggings and grey booties. the texture/print is really unique. i am 5\\' 11\" 135 pounds and a small fits perfect. highly recommend!!',\n",
       "       'I bought this at the retailer store the other day and i wore it to work and i received so many complements. it has the perfect amount of swing and hides your middle without looking frumpy. i got the blue color and wore it with skinny jeans and ankle boots. the red is really more of a bight pink color, not a rich red as pictured. i wish it came in more colors and patterns...maybe green or purple? it does run big, i usually take a large, but a medium was perfect.',\n",
       "       'I bought this in both the black motif and the ivory. i got a size 2 and i would say it is true to size. the fabric is very comfortable and doesn\\'t wrinkle easily. it does have a \"flowy\" look to it but i didn\\'t find that it had too much fabric. i wouldn\\'t tuck it in though. i find it looks really good with skinny jeans/pants and i love throwing a cardigan over it for cooler days. the details in the double buttons and on the back are really cute and make it more unique. i recommend the shirt.',\n",
       "       'I looked at this on the hanger and almost passed it up. i am so glad i didn\\'t because it ended up looking so much better on. i wear a s or xs in retailer tops and went with the xs. i am 5\\'6\" and it still had plenty of room and enough length to cover my backside. i usually gravitate to reds but the red in this top, while pretty, had too much pink in it for me.',\n",
       "       'I got the dark blue print which is a really pretty pattern. the fabric has a nice crinkly feel and the cut is very forgiving. i thought from the pictures it would be more of a traditional button down with straight lines. it actually is a looser fit but without the trapeze shape of some \"swing\" tops which i have found to be less flattering for those of us who are curvier on the bottom half. it is comfortable and flattering, could be tucked in or worn out and likewise dressed up or worn casually wi',\n",
       "       'I love this jumpsuit! i am usually a size small, however i was a lot more comfortable in an xs. the fit was comfortable and sexy! i received a lot of compliments and a couple of \"i need to borrow that from you\"! i am only 5\\' tall so it went down all the way to my ankles but i paired it with 4\" open toed heels and it worked! the neck line is pretty high but you can adjust it to your comfort. i highly recommend this jumpsuit ...even to the petite ladies!',\n",
       "       'This jumpsuit looked so great on the model, and looked so hideous on me. i am 5\\'4\" and in great shape, and this jumpsuit looked absolutely ridiculous....not to mention it rode right up my backside in the worst possible way. i am so disappointed!',\n",
       "       'I think i have made a hobby out of trying on jumpsuits & rompers this season. i now own three (including this one in my usual size small: 32d-31-38). i passed right by this on-line but it drew my attention in the store. i didn\\'t realize it was chocolate brown and ivory (i am a sucker for brown). i tried it on on a whim and it looked great. i am tall--almost 5\\' 9\" and it looked great. i will say it shows off my bottom (for better or worse) more than other jumpsuits. it doesn\\'t give me a wedgie but a',\n",
       "       \"The colors on the tank were beautiful i didn't keep it because i have a few similar tops, but i liked it! fits true to size with an a line shape\",\n",
       "       'I took a risk and bought this blouse and got a wonderful surprise. i bought my usual size small (34c, 31\" waist) and it was perfect. the details of this blouse are amazing. you cannot see the flecks of copper-gold leaves all over the fabric or the gold threads running down the seam in the front. it is really, really beautiful. the fabric overall is soft and flowy and the sleeves do not stand out off my shoulders in a weird way. there is a soft flow of ruffle down both sides of the shirt. the fro',\n",
       "       \"This skirt is great! the fabric is so soft and light. i was hoping that the lower portion of the skirt wouldn't be too transparent, and it wasn't. the slip lining on the upper portion of the skirt is nice. the color is exactly as shown. i followed the advice of the only reviewer and sized up... i shouldn't have! the skirt was too big in the waist and too long. so i exchanged and the fit was right on. i think the skirt is meant to sit a little higher on the waist, so keep that in mind. the only t\",\n",
       "       'Gorgeous dress with a slimming pattern and flattering waistband. i would say the bust cups are a little floppy on the medium petite and i have 36dds. like others, i wish the skirt was lined but it is not a deal breaker. tracy reese did a great job creating movement in the skirt and flounce without the bulk. i can wear a little heel but wearing flats makes the hem drag.',\n",
       "       \"Bought this for my girlfriend and she couldn't be happier! she is a size 4/34c and the small fits perfectly and is so flattering and comfortable. highly recommend.\",\n",
       "       'Let me just say the ski pattern is the cutest thing i have ever seen!! i literally bought it as soon as a saw it. i got a size 2. i am usually a 0 or 00 in most blouses and shirts, but i wanted this to be a litter looser so i sized up. it is definitely not oversized even though i sized up. the fit is a little boxy and a little shorter in the front - really flattering in my opinion. the material is really nice and it can definitely be dressed up for work or dressed down with jeans and a chunky scarf!',\n",
       "       'I read the other reviews that said the shirt ran small but i found that it fit fine and i chose my regular size in maeve. the only issue is that it is baggy around the middle which is a little off and i found that it was a little too short. i gave it four stars because of the print. i chose the cat print and it is just so adorable. i might try to have the shirt taken in at the waist and then it would be perfect.',\n",
       "       'The straps are long but work ok for me. the material is very soft and the color (pink) is very nice. this is a tank you can wear under almost anything as the soft silky fabric will allow whatever you wear to glide right over it....no sticking!',\n",
       "       'I followed the reviews and bought a larger size in the blue stripe. i am usually a size 8 but ordered a 12 (ok, maybe overkill). i usually have problems with sleeves being too tight, but this was way too big and tent like. i will be hopefully exchanging it in store for a smaller size. stay tuned for an update!',\n",
       "       'I am in love with this top. it is so feminine and cute. i wear it with skinny jeans and tall boots and feel so pretty!! i got the cream color. i wish there were more solid colors. i usually wear a medium, which is what i ordered, and i love how it fits. i like flowy tops so it is perfect. please make solid colors!!!',\n",
       "       'This top is so much prettier on. you can dress it up or down. it does run a tad large. i am 5\\'7\" and 145 lbs. i am usually in between a small and medium but usually a medium. i went for the small on this and i loved the fit of it. still pretty flowy and the medium would have been just too big. it is a tunic so it runs kind of long. a tiny bit too long for me but i will still wear it a lot.',\n",
       "       'Really like the loose flowiness. runs big went from med to small with better results. style is forgiving',\n",
       "       'This top turned out to be better than expected! i am a large girl and the length is enough to cover my hips and the shirt it not tight at all. the embroidery details are lovely too. i bought this for a trip to italy this summer because it is cotton and because i consider it to be a classic piece being that it is black and white. one nice feature is this top does not have to be worn off shoulder. it looks just great with the sleeves up.',\n",
       "       'This is so soft and has wonderful drape. i want to love it. it is not gold. not in my opinion anyway. the \"gold\" parts look like muted lime green to me. it is true to size and looks similar to the picture otherwise. i just don\\'t know about that color- especially on me.',\n",
       "       'I bought this in my usual size small (i am a 4-6, 27\" waist, 32b), and it fits perfectly. it is a little loose and boxy but still structured and cute (it fits me like the model). i don\\'t find it itchy at all, and the embroidery is just gorgeous. this is perfect for transitioning from summer to fall!',\n",
       "       'Great with a tank top underneath and jeans. i also wore with a delicate gold necklace. charming!',\n",
       "       \"I loved this dress so much, but it just didn't work. i am not particularly busty (36b) but it just did not work for me. i sized up several sizes from what i usually wear and it still was tight on the bust and then just looser around the arms as i went up. such a beautiful dress though - great quality and really adorable fit for someone who is built for it!\",\n",
       "       'This coat is wonderful! i am usually an xs-s in retailer and i got the xs. it is supposed to be a bit large. goes with everything and great quality.',\n",
       "       'I wanted to give this top some love. i ordered this top and the kota peasant top with plans to only keep one of them. this top is definitely the winner. the neckline, sleeves, pattern, fabric, and length are gorgeous and flattering. it is very feminine and elegant and i think it will also be versatile....it could be very dressy (depending on what you wear it with) but it will also look great with jeans and shorts and sandals. it is a bit sheer so a tank or cami might be needed underneath. i orde',\n",
       "       'It is a pretty top with a lot of intricate detail and love the edge the studs give it but it looks fuddy duddy in ivory. looks nicer in black but you loose some of the detail in the dark color. the lace is not soft either but has more of a polyester, slightly scratchy feel. sizing is true to size and it fits well if the style floats your boat.',\n",
       "       'Saw this one online and when it came it did not disappoint. i ordered a xxs in black, and it was perfect. i am 5\\'3\" and 110 lbs. it definitely has a lot of volume to it, but i still found it flattering because the shirt is very sheer, so you can \"see\" through it to your thinner figure underneath. it comes with a comfortable but fitted camisole to wear under it, which makes it flattering. another reviewer mentioned the beading turning. i have not seen that on mine, but now i will be looking for i',\n",
       "       \"What a dress! the print, the feel of the fabric, and the overall fit of this dress, it definitely has the wow factor! i plan on wearing this dress to the kentucky oaks this year. i typically wear a 6 and sometimes a 4 in retailer dresses. i am 5'6'' 130 lbs 32dd and took a 6 in this. i could probably even try the 8. it fit a bit tight in the bodice for me but i am not sure if it warranted a size up. it is pricey but i see this being a closet staple and one of my favorite maxi is yet.\",\n",
       "       'This is a really pretty top. the beading/rivet detail is really cool and it feels comfortable on. i think the lining is really silky and the lace feels gentle, not stiff. the top is kind of like a swing top, there is a lot of fabric, but it is just right. the fabric looks rich and lovely. great top!',\n",
       "       'I wanted to love this sweater. the color is gorgeous, the pattern unusual, it is soft and warm, and would have gone with so many things. but the cut is awful. mainly the sleeves are way too big, making me look misshapen and my arms look huge. the body was a bit boxy but that would have been workable if the arms had been normal. too bad.',\n",
       "       'Love the colors and design, however the sweather is much boxier than what the photo shows, and it is itchy. i am still deciding as it might be fine with a shirt worn underneath it.',\n",
       "       \"This is a lovely dress looks very expensive, nice fabric and detail. i am 6ft tall 160lb. i normally order a l/10 but got an m color black because other sizes were sold out. length wise the dress is a little shorter than it looks on the model, but then again i am pretty tall. you can't really tell on the online photo but this dress has a white undergarment, which makes it great because of the see through detail on the fabric. size wise, i felt like even with an m the dress is oversized. it sits we\",\n",
       "       'Tts - bought my usual pilcro size. enjoy the fit of these better than the serif style.',\n",
       "       'Top feels like pajamas but looks very classy. the sweater material is so soft. i wear it with a blazer over the top and i get so many compliments on it. wish they had it in more colors! must have!',\n",
       "       'This top is comfortable and yet with some stylish detail. the fabric is soft and the lilac color looks great. it hangs loose but with a nice drape. at the sale price it is not to be missed.',\n",
       "       'I like how styling and comfortable it is, i bought it in both colors. definitely a nice piece for fall/winter in this houston weather.',\n",
       "       'When i received this dress today i was really excited to try it on. it is a pretty dress. looked good in the pictures. however, when i examined it and proceeded to try it on, i was really disappointed. the quality is ok, but not expected for the price paid. and the cut is off. it is extremely small at the top. i am not big by any means( 32d,109lbs, 5\\'0\"). the bottom part fit. sadly, not impressed. this one is going back :(',\n",
       "       'I saw this on a mannequin in the store and so wanted it to work but was just too oversized and bulky. very good quality and material.',\n",
       "       'I bought a similar top by same manufacturer in fall in xs. this time it ran huge and had to order xxs which fit fine. it is very cute on.',\n",
       "       'Maybe i am hanging out with my grandson too much because this appealed to the kid in me!  looks great under a jean jacket and under a leather jacket - oh, and cool under a silk bomber jacket as well.',\n",
       "       'I purchased this blouse over the summer and it is very pretty. i love the cap sleeves with the lace and the detail in the front. it can be dressed up or dressed down, my only complaint is that it wrinkles very easily.',\n",
       "       \"I have featured a picture below. i am 5 feet 120 lbs. i ordered an xs petite. i am pretty busty so i don't like a loose fitting top, so ordering a size down did the trick. it is super soft, one of a kind and the edging of the neckline is delicate looking and soft and therefore adds a feminine element. i am enjoying wearing the top.\",\n",
       "       'I am really into this jacket! the fit is nice although it does very slightly large; however, not enough to go down a size for me. all of the different textures are really cool and the details do seem to be pretty slimming, which is always a bonus. i am a bit worried that the wool will pill like crazy though. let is hope i am wrong and that it lasts!',\n",
       "       'This is a fun dress to have in your closet! i ordered the 4p, and it was just a little to short for my taste. had the regular 4 sent, and it was perfect! i wore it the very next night to a party... feels great and lots of fun with the bel sleeves!',\n",
       "       'I bought this in navy and love the multi textures and look. i am happy it was on sale because it is so cute but i would not have paid full price on it. it runs small. i plan on wearing it for casual errand days.',\n",
       "       'I love the fit and the color. i would buy this t-shirt again in other patterns and colors. the fabric is thin and lightweight, but i knew that when i bought it. ( apparently, nothing this is a problem for some others.) i do choose to wear a camisole or a tank top underneath it. to preserve the fabric, i hang dry after laundering. the colors have not faded, and the fabric is holding up well. i am 5\\'4\", weigh 134 lbs, and do typically wear size medium.',\n",
       "       'Love the idea of this but it ran short and boxier than i would have liked. material is soft, cute design but not flattering. returning',\n",
       "       'I purchased this dress in pink. it is absolutely beautiful. the shimmery detail around the neck is gorgeous! it is so flattering and looks amazing with boots or sandals! this dress will not disappoint!!',\n",
       "       'I wear tights all winter. it is difficult to find cute, fashionable tights that aren\\'t \"heavy\" and have quality fabrics that will last through an entire season. these fit great, don\\'t roll or bunch, don\\'t shrink, have great feeling fabric and aren\\'t super thick... but not see thru! love these and plan on purchasing in all of the colors!',\n",
       "       'I was very excited to receive this dress. i ordered my normal size small, which i should have realized was a mistake. you could fit two of me in that size small. i realize the dress is supposed to be \"flowy\" but it would have been baggy on me at nine months pregnant. the fabric is soft and comfy and the pattern is cute, but order at least one size down. i am going to exchange for the xs in hopes of it not resembling a short muumuu.',\n",
       "       'I love the pattern of the red/orange dress. i bought this online for easter. i am bummed. i felt frumpy. the dress fit. i am 5\\'5\" athletic build and i bought the xs. it is just not flattering on my frame. i looked like i had big hips, the waist band was not creating a waist for me and i need that... i wanted to keep it but sadly i will be returning it. my husband agreed i should return it.',\n",
       "       'Perfect fit shirt. super cute and very comfortable. i purchased a size xl at first but it was too large, l fit perfect. i am normally a size 14 on top, but this runs large.',\n",
       "       \"I love the way the dress fit definitely a flip flop by the poolside bar dress. i ordered the mango colored one and was disappointed that the color resembled a dark squash orange and not as bright as it looked in picture. i think it will look nice with a tan so i will keep it. wouldn't plan to dress it up too much because it will definitely wrinkle ! i am a petite 5'4 and got the regular and it fits just above my knees which is good for my taste!\",\n",
       "       'This jacket is beautiful and easily dresses an outfit up and can just as easily be dressed down and worn casually. i consistently wear a size 8/10/m and have this piece in xs. the reviews do not lie - size down!',\n",
       "       'This is a beautifully made dress and i couldn\\'t wait to put it on. i was disappointed. i am 5\\'5\" and a size 4- 6. i ordered the 6 and it was too \\'long and heavy\\' looking on me. but the waist and upper body fit tightly. the zipper up the back was very heavy looking and the cut away shoulders didn\\'t work for my body type, making me look bulky on top. the torso is really built for someone with small breasts - i am average and the way the darts are, made my breasts look flatter and lower than they a',\n",
       "       'I love this dress as far as the fit goes. it makes my curvy figure loook even better with how it is cut. that being said the different patterns over each boob made the dress look crazy. it makes you look quite lopsided in the chest. wasn\\'t just me, but my store people also agreed. had the pattern on the chest been the same it would be great, but even though my boobs are of \"mostly\" equal size, they looked too crazy. it is quite noticeable on. so sad:(',\n",
       "       \"The idea of this dress is lovely. the fabric is pleasing to the touch. the print manages to be eye catching but understated. i don't know my exact measurements but i typically wear an extra small and i rarely have fit issues with off the rack clothing. i read the other reviews about the odd fit but decided to take a chance. i ordered an extra small in this dress and the bottom half fits perfectly. the top fits poorly. i have a fairly athletic build but it is a bit too large for my shoulders. how\",\n",
       "       \"My normal size m fit well but i wouldn't want it to shrink any. hangs well.\",\n",
       "       'When you look at the online pictures of the navy colored dress, the stripes are diagonal. however, that is not the case with the dress in person. the stripes are all horizontal and not that flattering. such a bummer because i love maeve dresses and thought this would be a great addition to my summer dress rotation. alas, not very flattering, so back it goes.',\n",
       "       'It is a very pretty top. a little tight in front at the bust. i am giving it 3 stars because the fabric is very flimsy and looks cheap.',\n",
       "       \"The perfect dress for dinner date or summer weddings. or traveling. love this dress. not sure on washing yet since it is a silk dress. extremely comfortably and beautiful. i can't recall the last time i bought a new dress.\",\n",
       "       'This is such a flattering top. i bought it in green. the green is a cooler version of kelly green, not the muted green i see on my computer screen. i am fair complected and that color looks great on me. i love the elastic at the waistband, which helps camouflage my mom belly. i wish they made more tops with blousy, elastic waists! i bought several new tops this summer and this is probably my favorite. after wearing it for a couple of weeks, i decided to remove the tie string, which hangs low; it',\n",
       "       \"Grabbed this tank on sale today in the green color. great tank. it is not thin like some other retailer tops. it actually is a double knit fabric which hides those imperfections we don't want anyone to see or worry about. \\r\\nthe top runs a bit on the full side, so if you are in between sizes, i would go down one. this top is great to wear under any open sweater for the entire fall season. the green color is a jewel green so the top does not look summary at all.\\r\\nit is extremely comfortable a\",\n",
       "       \"I was surprised at how soft this sweater is. i thought for a brief moment it was cashmere. i am a little worried it might pill. we shall see!\\n\\nit is a pretty and classy sweater. will look great with jeans and heels or boots.\\n\\nit looks somewhat long on the model. it wasn't quite as long on me, which was a bit disappointing. i am 5'7 with long torso (not abnormally long!). it is still a great sweater and will be great for upcoming holidays parties!\",\n",
       "       \"This blouse is a beauty! i love the hemline across the bust and all the flowy fabric that drapes in front and in back. i love the long length and the side slits. the wide hemline at the bottom is lovely. the cotton is soft and light and as amazing to wear as it is to look at. it makes me feel beautiful just having it on. be aware the fabric is sheer and requires a tank, but i don't mind as it is both pretty and comfortable. i sized up, which fits how i like. i never tried it on in my normal size\",\n",
       "       'Saw this in the store and had to have it after i tried it on. it is shape is unique, it is very \"floaty\" and looks awesome with skinny cropped jeans & chunky sandals. \\r\\nthe \"empire\" does hit across the breast line, not below. i thought it added to the different shape, & didn\\'t look odd on me. i am 5\\'6\" so it might overwhelm a petite frame.',\n",
       "       'The fabric of the pants is a great thickness so the pants have a very nice look. the fabric is smooth, not jean material. for me this is nice because though they have weight to them, the pants are not hot and can be used to dress up or down, much more versatile than jeans. these pants are very fitted through the hips but then fall very nicely. i am not a big fan of capri length yet i really love these! i have already enjoyed wearing these out and they look fabulous with any type of wedge or heel',\n",
       "       'If i could wear this top every single day, i would. this is the white flowy top i have been dreaming of; but better! the fabric is so lightweight and breathable. i can wear this on a cool spring night with a scarf, skinny jeans & ankle boots, or on a hot summer day with shorts/skinnies and sandals. you can dress it up or down. be aware that the chest hem is at a non-traditional height; not quite above or below the breasts. however, i think it looks flattering on both small-chested and busty women.',\n",
       "       'I really liked this top the minute i saw it online, long enough and elegant at the same time. i am 6 ft tall and i like to wear my stuff loose & have my back well covered. i usually get m/l depending on the fabric and style, got this top in l. this top however turned out to be larger than expected, there is plenty of room on the sides, and that bottom part is made of a thinner cotton material. the fabric of the top is not as soft as it may look, but the pullover is still very cute, maybe after fe',\n",
       "       \"I really liked this cardigan when i saw it today. the cut and detail in the back is slimming and very flattering. i love the idea of the safety pin closure, and i really like how the model wears it in this photo-open with the pin on the side. when i saw this in-store, it was closed in the front with the pin, which i also like. i thought for sure the cardigan was also pinned in back when i saw it in the model, so it looked fantastic. however, when i tried it on myself, it wasn't quite the same.\",\n",
       "       'I wanted to love these because they are so pretty and come in lots of colors, but after only a few minutes of wearing them, i was having to pull them out of my bottom! why does women is underwear so frequently ride up? i normally wear a size 4/28, and ordered these in a m, but i guess they were still too small, which seems unreasonable to me. they are soft and pretty, but i will not be ordering more.',\n",
       "       'I am not really a \"print person\" but cartonnier gets it right every time - modern prints that lend themselves to many styling and paring options. the charlie trouser, which they do every season, is a great fitting pant (going up a size is a must as they do run small) with details (stitching, buttons, pockets) that make their pants look more expensive than they actually are.\\ni bought these in the blue combo when i saw them at my local retailer store. the blue combo has both blue and black (as well',\n",
       "       'Great summer skort! these are exactly what i have been looking for to wear to the carribean! the material is substantial but not enough to be hot nor too little to be called thin. the skort is constructed well with nice flow between the skirt and short portion which is sometimes a miss with other skorts i have tried on. it does run slightly large. i also sized down after initially trying on the one in the photo.',\n",
       "       \"This is a flattering skirt for work or play. a few things to be aware of: \\r\\n- it is a lightweight knit without a lining (would travel great and never need ironing)\\r\\n- the waist is quite high \\r\\n- the waist is quite slim (people with tummy self-consciousness might feel funny in it)\\r\\n- the hang is flattering for people with butts and hips (such as myself)\\r\\n- true to size for me\\r\\n\\r\\ni decided not to keep it because i couldn't come up with enough tops to love it with and because for the money i would\",\n",
       "       'This sweater is really pretty. it is a little itchy, but seems really well made. i also like that you have the option of wearing it open with the tie tied in the back for some shape. a nice alternative to the basic cardigan.',\n",
       "       'This jacket is very cozy but i had to send it back. i think it will be great on a taller person.',\n",
       "       \"Love these pants, and will wear them all season like a uniform. but, the quality is a little low. made in china, and the black dye may be coming off on white clothes and my skin. i haven't washed them yet, and a little scared to. super comfy, stretchy and still classy despite the quality issues.\",\n",
       "       \"I am in love with these jeans! they come very long, but it is easy to cut them down where you want them since they are not hemmed. i have a short torso so for me they were high waisted, but still flattering, which surprised me! for reference, i am 5'2, 105#, and i got the size 24.\",\n",
       "       'This is a skirt i will wear every day in the summer...great green/khaki color, casual. fit me like all the retailer size\\r\\n8 is do...perfect... only one thing...it is not as short as it looks on this model. i am going to have to have it shortened...but that is not biggy. the skirt is everything i hoped t would be and i know i will wear it to death.',\n",
       "       'I really like the pilcro serif style but the stet style does not work for my body. will have to return.',\n",
       "       \"Thank you pilcro for making a skirt that is a great alternative to shorts or capris. i bought the green skirt and wore it on vacation. i realized a lighter color would be nice for summer, and ordered the light blue. it is tempting to get the red as well. the fit is great. i am 5'7 and the length is perfect. the skirt has weight. i am sure i will wear both of my skirts time and time again.\",\n",
       "       'I love the feel of the fabric and design of this dress.  i look forward to changing the look with cowboy boots or fringed booties. i also like the option of wearing it opened over a white tee and jeans. worn loose or belted, it can be different every time you wear it. it does run large so you may want to size down.',\n",
       "       'Super cute, soft, and fuzzy...just like the woodland animals in the pattern. these loungers do run just slightly tight in the seat, so if you have a more developed bottom you should definitely get a size up.',\n",
       "       'I am not sure who in the world could really wear this as a dress without belting it...definitely a super weird cut. extreme a-frame. the fabric is just absolutely gorgeous and it is so well made otherwise. i thought about trying to size down but it would be too small in the shoulders for sure. i am going to keep anyway. i have already worn it with jeans and a t-shirt and as a topper with a denim shirt dress. it actually looked fantastic with both. i will get a lot of wear out of it, just not the way',\n",
       "       'These are very cool leggings. the cut out design really puts them several classes above a simple black legging. they can be worn with dressier tops and could be a sophisticated looking outfit. i wore them for the first time today and really loved them. i didn\\'t feel like i was out in \"leggings\" but more like i was wearing a nice pair of pants. the fabric is soft and the cut is very flattering all over - including the rear. they are definitely sculpting and firming. they fit the same size-wise as',\n",
       "       \"Very pretty but runs tight - i usually wear an 8 or small/med in retailer jackets and couldn't zip up the 8 (am a 36c and thick/broad at the top) as there is no give. this is also more like a fitted shirt, made of lightweight muslin-like fabric. was looking for a summer jacket to wear over knits in a chilly, air conditioned office setting so sadly it didn't work for me. could be cute on someone with a smaller frame over a tank or cami.\",\n",
       "       \"I love this jacket. i have worn it twice and gotten compliments both times. the details on the sleeves are so unique and interesting. it fits tts. i am typically an xl and i ordered that size- i can wear a long sleeve collared shirt underneath so it is perfect for me. the pictures on the website don't do it justice. it looks much nicer in person.\",\n",
       "       'This top fits like shown in the pictures. however, i bought the rose color and thought it was a little \"off\". would have loved to find the ivory in my size.',\n",
       "       \"I really liked the dress on line, but, i didn't appreciate how lovely it was until i received it. it fit perfectly, and has a lovely flare at the hemline for a flirty feel. i wear it with taupe colored booties and it is perfect for work and afterwork.\",\n",
       "       \"My review isn't really about the jeans! i want the top!\",\n",
       "       'This dress is gorgeous, flattering, oood quality and, in my opinion, better than the erin fetherston dress because of the black, rather than nude liner, which really brought our the beautiful embroidery. come on, practically everything in rtw is a knockoff of something. i do have to comment that the slip is quite snug, though, but at least it is stretchy. that being said, it still had a bit of a tendency to creep up. i was glad i had a black half slip on as well. the fit is tts but a bit short wa',\n",
       "       'Great quality and cut! they are so versatile, which i love! highly recommend these!',\n",
       "       'Love the pilcro brand, they are one of my favorites, even compared to other more expensive denim brands. i ordered my usual two sizes smaller and found they did not fit this time! i probably should have ordered one size smaller than my usual in this cut. sadly, i have to send these beauties back and hope for a pop-back.',\n",
       "       \"Just got this dress in the mail yesterday and i love the style and fabric soooo much!!! the fabric looks kind of shiny in the photos so i wasn't quite sure, however in person it is a perfect blend that can easily be dressed up or down. sadly i cannot fully see how it looks on me because the bust of it is way too small. i normally wear a 0 or 2 in a dress and am a 32c but the inside panel that you cannot see in any of the photos is very fitted to the chest and i cannot even zip the size 2 over my\",\n",
       "       'This shirt arrived today, and i was surprised how short it is. not a tunic at all. i wonder if the lengths on these vary, and if i order it again, it would be a different length. i ordered my normal size, xs petite. i am 5-2\", so this should have been a tunic on me. perhaps if i see this shirt in the store, i will try on the regular length. i am returning the petite!',\n",
       "       'This is the softest cardigan i own. perfect for lounging, going to / from yoga or dressing it up with a statement piece or a scarf. i have worn it buttoned or open, and receive many compliments. i have it hanging on the inside of my closet door because i wear it more than anything else at the moment : )',\n",
       "       'I love this dress. my favorite retailer purchase in years. it is perfect. looks great- no need for ironing and is really sexy for the length and amount of material. i would buy it 10 more times if i could. \\r\\n\\r\\nyes!',\n",
       "       'Just got this yesterday and i am wearing it today! super comfy for running errands with the kids and going to and from the gym...or just to lounge around the house. i go between a m and l and went with a m since its flowy and it fits great.',\n",
       "       'Although it kind of ran big and the material is stiff causing some protrusion off my shoulders, i decided to keep it only because it was unique and still looked cute',\n",
       "       \"This ribbed henley is incredibly soft. you will love the way it feels, but it does run a little small so i'd recommend getting one size up if you don't want it to be too form fitting.\",\n",
       "       \"I was so excited to get this dress since it look so pretty on line but unfortunately the it was horrendous on. the model must have the dress tailored because it looks like a huge tent on me. it was very wide bust down and made me look 30 lbs heavier. i am 5'4 and 125 lbs- ordered extra small and it fits bust up and arms so i say it is tts up top.\",\n",
       "       'This is a basic henley, and it is made well; a wardrobe staple, for sure. the cut is flattering, and the material is soft. i ordered the small, which is tight fitting. i am a 34 c for reference.',\n",
       "       'I love the color, the fabric and the style (especially in the model shots) but in reality, the cut is disproportionate. the hips and hip pockets flare out creating a saddlebag look. it is not smooth and fitted as shown on the model. overall you need to size down since i could pullover the dress without unzipping. i think the felted boiled wool is great quality but a tiny bit itchy. i still recommend the dress because i will be wearing it with a long sweater coat which will hide the weird hip act',\n",
       "       'Love this little number. very flattering, warm, and soft. color goes with everything, i tried it on with a slip dress, and it added class and warmth... big button details are fun well-made and beautiful cut. i ordered xxs petite, and it fit like a glove, with room for something underneath if needed. i also ordered te xs petite, as my stylist was afraid xxs would be small, but will keep xxs p after actually trying it on.\\r\\n115 lbs, 30dd, 26.5 in waist.',\n",
       "       'Easy to take this dress from casual to dressy! super comfortable and cute!',\n",
       "       'I love this top, it is a very soft material and it looks very classy.. i have worn it with a skirt for work and skinny jeans. i have a bigger bust and i wear a small, it is true to size. very classy!!',\n",
       "       'I bought these cords in another color last year and they are my favorite pants. they are so comfy and keep their shape very well. when i saw they were back i had to buy another pair. i purchased navy and the color is beautiful.',\n",
       "       'The material is so soft and the design makes it a little more fancy so you can dress this tank up or down. its definitely an instant favorite. and the color blue is a beautiful rich blue',\n",
       "       'Great fit, can be dressy or casual, goes with everything, i adore tis jacket!',\n",
       "       'This sweater is beautiful but runs large all over. i ordered a m and returning for a small. hopefully that works.',\n",
       "       \"This is a great basic shirt. it has room in the midsection so you can tuck in or not. it is also extremely soft. i am 5'9, a 10 and the m fit just right.\",\n",
       "       \"I swooned over this dress when it first came online. i had never worn a petite size before so i wasn't sure about the fit. i am curvy (34dd-27-42) and normally wear a size 8 dress, but the 6p fit me like it was made for my body. i think this is because the dress runs large, but i really really enjoyed the fit. the quality of the lace is evident immediately and the color is more of a cornflower blue, which i adore. the lace feels like a soft cotton, but has a lot of strength to it. cannot recomme\",\n",
       "       \"I bought this in my usual size small.  it is really light and airy--very pretty.  as the other reviewer noted, it is longer in front and shorter in the back.  the back hit my waistband, as it does on the model in the picture.  it hid my bra very well (always a plus).  i wouldn't describe the fabric as soft and i did get a static electricity issue, but the top stayed put.  overall, very pleased.\",\n",
       "       'Great turtleneck, very comfortable and not tight around the neck at all. the material is super soft and washes well. i ended up getting all 3 colors. my only regret is that there are only 3 colors! i absolutely love this top. i also like the many complements i have received while wearing them. i am full figured and the fit is very flattering.',\n",
       "       \"It is a pretty dress, my only concern is the sleeve length. it is an awkward length and makes the dress look a little frumpy. i turned the sleeve up once and it looks so much better!. or, if you are a savvy sewer, you may want to tighten a little in the arms so the sleeve is a bit more fitted. overall quality and feel is very good. i usually fit into a 6, but for this dress i ordered both 6 and 8 and kept the 8. the chest is a bit snug and the button pops open if you don't order the correct size.\",\n",
       "       \"The embroidery on the side is cute, and they're nice and airy for hot days. however, the stitching on the legs unraveled after only two washes. also, they're extremely long; i am 5'7 and had to take them up around 3 inches.\",\n",
       "       'These socks were so narrow, especially on top, that they pinched my thighs and we\\'re almost painful to wear all day. my thighs are pretty narrow, i am only five feet tall and my legs and hips are the thinnest part of my body. i understand that they need to be reinforced on top so that they don\\'t slip down but these are definitely made for a person who is unhealthily skinny. \"one size\" is definitely not true. they also snag easily.',\n",
       "       \"Got this in the gold and it is so much better than i imagined. runs longer on my 5'4 frame than on model but i love this extra long look with white fitted pants and heels. total classic easy elegance and comfortable too.\",\n",
       "       \"Upon opening this top, i thought for sure it was going to be too s mall, but it stretches nicely and is gorgeous when on. it is a little thin, and you have to be careful that it is not too tight or you can see skin through the knots, but i love this shirt. i got the xs, which is my usual size. i could probably have used the s, but didn't want to pay for shipping to exchange it as i don't have a store anywhere near me and the xs was fine.\",\n",
       "       'This dress is gorgeous. it swings beautifully, it is soft, it is incredibly flattering! i would say it runs big. i ordered an xxs petite, normally i would wear xs petite, and it fits great. for reference, i am 5\\'1\" and a 32dd. finally a loose fitting dress that doesn\\'t make me look pregnant!',\n",
       "       \"I was looking for a dress for playing cello at my friend is wedding. the colors looked perfect, the cut was great, etc. very disappointed to find out how sparkly and scratchy the dress was in person, and sad that the slit came right to my knee, which is a really weird height. sadly returning - might purchase again if it goes on sale and i can't find anything better before the wedding :(\",\n",
       "       \"Beautiful maxi fits tts. i normally wear a 10/12 and took a 12. it is flattering to the waist and makes me feel girly. the colors are so beautiful and the length is good for my 5'9 frame.\",\n",
       "       'Nice lines and texture but fit is very tight and i experienced the sizing to run small. i am 5\\'6\" and 115# with small frame. i usually wear xs or s from retailer, so ordered the turtleneck in small. the size small was super tight. i love the design so exchanging my order for a medium.',\n",
       "       \"The positive: light-weight fabric, interesting drape\\n\\nthe negative: i am tall and would have preferred if it was longer. the big drawback is the ridiculous buttons--three fell off the first time i wore it...and it fits loosely! they're held on by a single loop...ugh.\",\n",
       "       'This shirt is so comfortable and flattering. the quality is really good but i would definitely size down. it is not too heavy and can be worn with skinny jeans/jeggings..',\n",
       "       \"I was looking for a dress that was short sleeved but not sleeveless. this fit my needs--not too short, nice v neck (but not deep), pretty embroidery overall i like the dress. here are a couple of downsides--i wore the dress with tights--and due to the nature of the fabric (cotton) there was no 'glide' and therefore it rode up with the tights. also, it is a bit wide int he mid section. i wanted an 'easy' and not tight/form fitting dress, but this does have almost too much fabric in the mid section\",\n",
       "       'My review is of the \"black motif\" (no longer listed online, but i saw a bunch in the clearance sock bin at the georgetown dc store, today, 12/27/2015).\\n\\ni love beautiful and unique socks! so i thought i\\'d give these a chance. i like them so much that i bought 3 more pairs of the exact same sock now that they\\'re on sale!\\n\\ntwo things i noticed... the way the sock is knit, when you put it on, it no longer has a matte black look in the black areas. it is sort of a stretched, slightly two-tone look.',\n",
       "       'I gave this top 5 stars for the embroidery and fit around the chest/shoulders. i wish this top was a little longer as the xsmall was just too short. (i am 5\\'6\" and run long-waisted.) the small fit better in length...the way it does on the model.',\n",
       "       'This is a beautiful sweatshirt. that is a sentence i have never said before! mine arrived with the sleeves rolled up, which made me think they probably pulled it off a mannequin or something. it made the sleeves sort of loose at the bottom, so i am hoping that they will \"draw up\" a little once i wash it. kind of bummed about that: for almost $100, they could have at least steamed it out or something so i could see the authentic fit. the sweatshirt is a little more square-fitting than it looks in t',\n",
       "       \"I have been waiting to purchase this top for some time, thinking it would be perfect weight for fall/winter. i am pretty disappointed. since i don't live close to an retailer, i typically order a size up to avoid returns and usually end up with items that fit just right or a little loose which is no big deal, this sweater however i was swimming in, like a child in an adult sweater! it was huge! and not to mention unflattering on my short fuller shape. i wasn't impressed with the material either, it f\",\n",
       "       'The quality of the shirt is top notch. the fabric is lightweight and comfortable.\\r\\nnow the cons:\\r\\nthis top is cut like a square and fits wide which is not apparent in the photo. definitely not for me.',\n",
       "       \"Love this top! a new take on traditional flannel. yes it is pricey for flannel, yes it is not thick like a traditional flannel shirt but it is feminine, sexy, comfortable....even my husband liked it on me. i ordered a regular small, wish i would have went for a petite x-small, however they are sold out. regardless i am keeping :-) for reference i am 5'3, 110-115 and the small is definitely roomy.\",\n",
       "       \"The fabric of this top is a tee shirt, mid weight material. it has a nice drape and the color variations along the vee are true to the photo. i purchased size large and it is a bit wide and long for my frame. you could safely size down. the fabric drapes nicely but i didn't like the sleeves or length and it fits large so am returning.\",\n",
       "       'I tried on the skirt today in the store and immediately fell in love with how fluid the fabric is and how it looks and feels on, but i had something really awful happen, the zipper was hard to zip up so i just left it partially zipped but close to the top but then when i try to take it off the zipper broke and split down the middle but it was stuck on me! it was the strangest thing that i have ever had happened, and really embarrassing because i had to come out of the fitting room like that to get',\n",
       "       \"At first, i thought that this sweater would be too thin and show any imperfections, but it doesn't. the vertical ribbing really gives it a slimming effect and it is a perfect lightweight cover up that goes with pretty much anything.\",\n",
       "       'Great fit',\n",
       "       'Love this top! love that it ia jersey knit which makes it comfortable. love the print which makes it stand out. love the design of a side bow. i did not have an issue with the banded hem, in fact i like how it makes the top more structured.',\n",
       "       'Listen up gals - buy every color before they disappear!!! this top is amazing. so flattering, incredible fabric, the colors are divine and the price is amazing! i am not one who wears peplum tops often if ever. a coworker of mine spotted this one in our store and told me as soon as i came in. i am curvy - generally a l or xl on top and i have hips and a toosh. peplums can often either sit on my hips in an unflattering way, or look like a maternity top on me. this one is magic. hits a big longer,',\n",
       "       'This dress is really pretty, but not made for girls with hips. i tried on my usual size 6 and it fit everywhere but was just slightly too tight in the bum for me to feel comfortable, but i feel like i would have been swimming everywhere else in the dress in an 8 (typical of shifts i guess, but a girls can dream!). if you are a straighter shape, though, i would highly recommend.',\n",
       "       'This top! i was hesitant to try this on because it felt too busy, however it is a must have. it is just the right amount of lace and detail. i am typically an m in retailer tops (sometimes l depending on the designer; i am a 32/34ddd). i initially tried a l in this thinking it had no stretch but ended up going with the medium. the arms were a tad tight but stretched slightly after an hour of wear and it fits perfectly everywhere. i think if you size up it will be too \"blousy.\" highly recommend this-',\n",
       "       'I read the online reviews that the dress ran large so ordered size 6 and 8. i am normally an 8 or 10, and the 6 fit perfectly. dress hangs beautifully and lining is really soft. appears that it will wrinkle somewhat easily but i am keeping it anyway since it is so beautiful. the bell sleeves are really cute! i highly recommend the dress.',\n",
       "       'This is a beautiful dress! the photos do not do it justice - the pink is gorgeous! it is also very comfortable but runs large. i am usually a 6 or an 8 but purchased a 4.',\n",
       "       \"Disappointed with the fit and color of this sweater. more of a rusty red then bright cherry red. i ordered a small and found the sweater had no shape and just hung lumpy on me. i am 5'5 120 and usually a small in retailer sweaters.\",\n",
       "       'I saw this skirt online and immediately went to the store to hunt it down.  is perfect!  one of the most beautiful items of clothing i own.  was worried the waistband would be unflattering since i am short and curvy but it is very flattering.  can dress up or wear to the beach.  i love it!!',\n",
       "       \"I typically wear boring shorts. you know - khaki. i saw these in the store and had to try them on. true to size in the waist, not too short, and the leg fit was perfect (slim without being skin tight). the pattern is far from boring. i can't wait to wear them out.\",\n",
       "       'I bought this in the store and love it. seeing it online - i would never think to buy it. much more flattering in person!',\n",
       "       'I usually take a small in retailer tops. i did have to order this in a medium though because it is slightly more form fitting. the material seems a little thin so i hope it holds up well over time. i love the green color though. i am curvy especially on the bottom and this was very flattering on me. i do think it is too expensive for what it is especially with the material being thin (even at sales price). overall though, i thought it flattering enough to keep.',\n",
       "       \"First saw the jacket online and liked it so i went to the store to check out. the color looks nicer in person.  it fitted me really well and looked really nice on me. the jacket is very soft and well made.  the only thing is the sleeves are a little longer but not a big deal. can't wait to wear it when the full is here!\",\n",
       "       'I paid full price for these gladly (the olive ones) and was delighted when i was able to purchase the black on sale. they are midweight, soft, flattering and stylish. they stretch a little (belt needed) but not much. pilcro are my go-to pants and these hit it out of the park. i wish they would come in a lighter weight version for warmer weather !',\n",
       "       \"I bought this on sale in black. it doesn't look like much online but it is very flattering and super thin and airy which is great for warm weather. tts- i am an 8/10 38c and the 10 fits just right.\",\n",
       "       'I got this top in white and really like it. its soft, comfortable fits well but it is a little see through.',\n",
       "       'Love these shorts. i purchased them in the peach color. the color is perfect, the fit is perfect, they look great. highly recommend!',\n",
       "       'The larkspur tank is colorful and the embroidered bib is beautiful. the material is soft but not diaphanous. it can hide my little pouch without looking like maternity clothing. love it!',\n",
       "       'I read the reviews and everyone loved them so ordered them online. for me, they are a no. i thought the fabric was cheap and the quality not so great compared to typical retailer items.',\n",
       "       'This dress is beautiful and extremely well made. there is s little more weight to the fabric than i had assumed but it is nice for fall/transition/cooler temps. i am so sad that i will most likely return this dress because it is just not working on my postpartum body but there is a part of me that wants to keep it because of how stunning it is.',\n",
       "       'These are so comfy. i will wear them for 3 seasons. so worth it - especially on sale.',\n",
       "       'This dress is so much better in person than pictures. details on the sleeves and buttons on the front shows quality and makes it an original looking dress. i have wore it yesterday for the first time and received 4 compliments. buy before it sells out!',\n",
       "       'I am in love with this dress. the colors are amazing but also is the fabric. it is soft and supple. i am a curvy girl and this dress does all justice to my bust, waist, and hips. this is truly an amazing dress. you can dress it up or dress it down and the best part it is professional enough for a causal office look.',\n",
       "       \"I put a lot of hopes on this pullover. i needed something for the spring, and it seemed perfect. plus, the sale price is very attractive compared to the regular retailer prices. but... i am not exactly disappointed, but i'd say surprised. \\r\\n\\r\\ni would still consider this sweater good for spring. it is thin enough to be tucked into a skirt or pants if you like. the pullover is very stretchy - frankly, i would prefer it to be less stretchy, but that might be a plus for someone more busty. the quality\",\n",
       "       'I tried this top on in-store in red and lavender. i love it! yes, it is big, but it is still really cute. if you are between sizes, go down a size. i am 5\\'5\" 34b and went with an xs in the red. it appears to fit in the front but looks larger in the back, which i think the other reviewer was getting at.',\n",
       "       'This is better than the original tla t shirts from last summer. better quality/not sheer. great fit! i bought both the white and the purple. love tla tees!',\n",
       "       \"This reminds me of the 1970 is. the fabric is soft and it looks just like the picture. i am ordering it in line in a petite. my store doesn't carry petites. it is typical moth quality and fit. perfect.\",\n",
       "       'This is quite possibly the greatest jacket of all time. i ordered it with the \"layered luna dress\" in grey, and i am now giddy with excitement to wear the combo! very chic. i am confident this will be a staple in the years to come. for reference, i ordered my normal size xs (5\\'5, 115 lbs, muscular) and did not find it to be too tight in the arms (and i have fairly broad shoulders). i did not try it on with long sleeves, but i still think there would be adequate room.',\n",
       "       'I love this jacket. it has great structure and lays nicely, while still have knit arms and a lining. don\\'t try this on if you aren\\'t prepared to buy it because it is amazing. color is more of an olive than a khaki to me as it appears in this picture. i am 5\\'5\", 135lbs, 34c, and the small fit perfectly. definitely consider this as an investment piece across many seasons.',\n",
       "       'This is my third marrakech jacket in as many months. i love it! i was hesitant to order it because of the beige color. luckily it is more of a green beige. it is a very flattering jacket and yes, you do want to size up. this jacket is so comfortable i usually leave it on when i get home because i don\\'t want to take it off. i am 5\\'5\", 34 b and the medium fits great!',\n",
       "       \"I cannot say enough about these pajama pants. they're beautiful and crazy comfortable. it is a nice change from black or grey. i also love that there are no pockets because i hate how they jut out on me. i wanted a petite l because i am short, but the regular large is fine. i just wear them higher up on my hips. i normally wait for sales on sleepwear, but i couldn't resist on these. they're well worth the investment!\",\n",
       "       \"This vest was a must-have the minute i saw it! i usually stick to the sale section, but this was a worthy exception. i love the reversible option! i bought the matching leggings as well, and have worn them with the smaller floral motif...so many compliments! i teach barre, so i figured i would wear this to and from the studio, but i find myself reaching for it to go over all my regular clothes too! the only draw back is the zipper. i am sure its because it is reversible, however, the zipper hasn'\",\n",
       "       'These super cute leggings are comfortable and functional with a fun design!',\n",
       "       'Comfortable, decent quality and very casual',\n",
       "       'It is a beautiful dress, light and delicate. i got my usual xsmall ( 5\\'4\" 34c, 134 lbs). it comes with a slip and the slip is a bit fitted. it worked for me, but i can see this being an issue. it can easily be resolved with any other ivory or nude slip. it is worth it. very cute dress.',\n",
       "       'This dress is really sweet and flows well. i love the fabric, and the colors are soft. this dress is perfect for hot summ days and is so comfortable. you could dress it up with fun sandals or simple wear flip flops. i love how the seam around the bodice drops lower in the back, it is very flattering. i bought a small.',\n",
       "       \"Bought this because i don't have a puffer vest and living in san diego, i wanted a layering piece. it is much cuter on, but it does like much of retailer is clothes run a bit small. got tons of compliments on it when i wore it while shopping round town. very pricey but since the hood detaches and it is reversible, i guess it is worth it! (treat yo iself!)\",\n",
       "       'I am 5\\'6\" and wear a medium. i ordered an 8 and a 10 and am keeping the 10, which is a little large but, importantly, is a full 2 inches longer than the 8. this is important to me because several of my casual pants begin a couple of inches below the waist and, as noted by another reviewer, and as is evident on the model, the top hits just below the waist. also, it is cotton/linen and may shrink (since it is ivory, i assume it will see a few washings). i don\\'t want to worry about the \"gap\", but i',\n",
       "       'This top is very well made. nice heavy material for those in between days. the back is slightly longer than the front and it is well finished inside. i ordered a 00 which fits great in the body area, but a little tight on my arms. still a keeper!',\n",
       "       \"I loved the design online but the sweater is bulky and boxy. i had chosen the cream with blue and now looking back at the other pictures of the beige/cream it represents it better. it made me look very wide. loved it online but it wasn't for me, returned it.\",\n",
       "       'I love the overall look and comfort of this piece. my only negative is that since it is not lined, the folds in the material on the inside are somewhat noticeable, especially in the shoulder areas. i guess since it is a light color it is more obvious to me, but it is not something that would make me return it. it is comfortable and looks great on.',\n",
       "       'As soon as i saw this dress, i knew i wanted it. it looked perfect for travel and just comfy as can be. now, i usually wear a large, so i ordered one and patiently waited for it is arrival. however, when i tried it on, it was too big and the button on the sleeve popped off! i would recommend giving the buttons a little extra support if you can. i purchased a medium and it fits perfectly. this dress is one that will work year round for a variety of events and occasions.',\n",
       "       'I love the fleetwood style...very trendy...fit like a dream - very long for you leggy gals. me, i need to hem (these would also look cute as cutoffs for us shorties)...true to size - slim fit!',\n",
       "       \"It is soft and not itchy at all (itchy sweater is my all time nightmare). the design makes you feel like a snow princess. i am 5'3, 120lbs, 34dd bra and take this in size small.\",\n",
       "       'This dress is the perfect combination of beauty and comfort. the quality is excellent with a forgiving fit. it could be paired with black heels for a formal look or flats for a an easy date night. i just cannot say enough positive things about it!',\n",
       "       \"I loved this but couldn't believe how small it was.\",\n",
       "       \"I didn't think much of this online but it was very nice in person. i was nervous it would look bulky but it was very flattering and slimming. fits tts.\",\n",
       "       'I thought this was such a beautiful cardigan from the online photos. i ordered it in the small size but the fit is strange. the arms and wrist cuffs are so large it cannot be pushed up to stay out of the way for things i would like to do when wearing it (i am a teacher and my classroom is that kind of environment). i was also confused by the front \"collar\" ribbing and how it was supposed to lay - open, folded over, partly folded over - it just didn\\'t seem to have a particular style to this area.',\n",
       "       'This coat is cool, the cut is classic and well fit. i have been wearing it as a jacket every day since purchasing 3 days ago. it already has begun to slightly pill. i have not worn this under other jackets, so it is pilling quickly from very basic wear.',\n",
       "       \"I never owned an 'older' version, so nothing to compare to.  i found it comfortable, stylish and warm on a cool fall day. the minor piling made it look more rustic, has not shed on any of my other clothes so far...\",\n",
       "       'This top is so pretty but runs small. i have a 34 dd chest and small back and shoulders . the size 10 was too full cut on the bottom and the 8 was better on the bottom but fit the same on top, felt like the seams under the arms with either size would rip. truly an odd fit and cut. this brand tends to run small and narrow. better for a smaller chest .',\n",
       "       \"I seldom take anything but a size m in retailer tops. this m top fits ok but it is a bit sloppy overall. one reviewer says it is 'body skimming' but not on me. i am a true m yet a m seems to fit in the shoulders but overall just too big. i love the fabric and print however i will exchange for a size s if it is available. it does hide the tummy area but ends up looking like a pajama top on me.\",\n",
       "       \"This tee is my favorite this year! it just looks great on! not fitted, but not loose either. i love it so much i have it in white, black, pink, light green, gray, slate blue and holly. the holly was my least favorite color (i thought it would look a little 'greener') it is so dark, you almost have to see it in the sunlight to be sure it is green. i ordered it online from the store and i kept it just because...\\n\\ni love the fact that it can be machine warned and dried without shrinking. i don't dr\",\n",
       "       'The fabric is thin, though. you better wash it in a bag or the washing machine will tear it up!',\n",
       "       \"Just received this dress in the mail. it is stunning!! the lace is just beautiful. i ordered two sizes and had to size down a bit - the fit is generous. can't wait to wear this to my rehearsal dinner next week.\",\n",
       "       'I really like the soft and very wearability of this vegan leather jacket. my only wish was for the jacket color to have a bit more rose tone to it as the color description implies. overall a definite keeper!',\n",
       "       \"I admittedly watched this dress until it went on sale, then was lucky enough to find it! i couldn't find my normal size (8p), so thought i would take a chance with the 10p and it fit perfectly! i haven't tried on the 8p, but i am guessing it would have been a bit snug. the dress is comfortable and feminine, and i absolutely love it. i know i will wear it all summer!\",\n",
       "       'I have never loved denim jackets because they always have seemed kind of basic or boring. this one is edgy and the design is amazing. it can be worn with anything and will go through many seasons. i found the fit to be on point. my normal medium fit perfectly.',\n",
       "       'This dress is beautiful and delicate, so flattering! runs a little big- slightly looser fit- got the size small, usually a 6-8, and it is perfect. the slip included is very sheer however, so i am using a different black slip for mine.',\n",
       "       'Love this sweater! great quality & styling. slimming and the side slits add a feminine appeal. pair with your legging and boots and enjoy the compliments.',\n",
       "       'This dress is very flattering on. it fits close to the body but the layers are thick so it doesn\\'t show too much. the material is stretchy and very cozy. i am 5\\'4\", 130lbs and a 34c and the medium fit perfectly.',\n",
       "       'Purchased this in two colors online. purchased in an xs - i am usually a s or xs. the fit was really large in the xs and the seam on the front of the top was in the wrong place and was really unflattering. returning both.',\n",
       "       'I was monitoring this sweater dress online for quite some time hoping it goes on sale, but as soon as i saw the lighter color sell out i decided to grab the blue version before it runs out as well. it is a simple yet comfortably beautiful dress at the same time. it looks about the same as it does on the model color/fit only in the neck is a little wider with bordered collar, which makes it more interesting. i am 6ft tall 160lb, ordered a large and i felt the dress was a bit oversized, but with tha',\n",
       "       'Really great shirt, i made the mistake of ordering normal size (xs) and it was way too small. this is more like ordering in dress shirt size- so think 4, 6, 8, etc, definitely going to have to send back and order up to s or m. will be a keeper once i get the right fit!',\n",
       "       'I loved this top. loved it. the quality and color ( i got the red) are wonderful. the top fit perfectly through the chest and the a-line design was super flattering through the waist. however, i am long waisted and the top was simply too short on me. even when worn with mid-rise trousers, my belly showed when i leaned to the side or reached my arms above my shoulders. i so hoped it would be perfect with skinny jeans or leggings - as shown on the model - but on a long-waisted frame it is simply t',\n",
       "       \"I tried this on as a fluke.  i work at retailer and like to see the fit of everything so i can talk about it with customers.  \\r\\nit is so chic!  it makes your butt look amazing!  i tried it on with nude booties, but i could also see it with a great heeled sandal, or flats.  don't overlook this beauty!!\",\n",
       "       \"I ordered these pants in black and green. the fit of the pants is perfection. they feel amazing and are so flattering. they do run a full size small. i am consistently a size 6 in all pants (typically wear paige, joes, and frame and always a 6) but i had to get these in an 8. the 8 is feel great though so i think they're just a full size small. \\r\\n\\r\\nsecondly, the green color is not at all what is pictured. the green is hunter, not olive, and much less versatile. i will be returning the green pants.\",\n",
       "       'The prima is soft and silky. they fit true to size, maybe a little tight in the waist. while the color is more of a wine it looks nice with a lot of my fall blouses and sweaters. you will be pleased with this purchase.',\n",
       "       'Like other reviewers, i saw this dress on the cover of the catalog and knew i had to have it! well, i am very disappointed. the colors aren\\'t as rich as the outdoor photo, although they\\'re brighter than shown in the studio photos. this is just not a flattering dress. i have put it on three times and taken it back off. the neck is too high, the sleeves are too narrow (and i have really skinny arms), and there is no \"swing\" to it. i am 5\\'4\" and weigh 120 pounds and bought a size small, which is what',\n",
       "       '\"vegan suede\" makes these sound fancier than they are. i love them and they\\'re super cozy and a nice change from plain leggings, but they\\'re just a microfiber legging which makes the price about 20 too high even for retailer. still... i am sure i will wear them plenty. i usually wear a 2-4 and the xs fit me, which makes me think they\\'d be too large for a size 0/xs.',\n",
       "       \"Beautiful white top. peplum never looged good on me until i found this one. i am 5.4, 34 dd and this peplum looked good on me. most white tops are see through int he front and this one isn't. but back is a little see through. for casual that much see though is good. not sure for office. but this is still a keeper for me :)\",\n",
       "       'This is a super comfortable and flattering dress and i get compliments every time i wear it! highly recommend!',\n",
       "       'This tunic is very cute and incredibly comfortable. it is a bit loose, but you can see that on the model that it hangs off the body. i lose my waist a little bit in this, but think it is a good substitute for a thin sweatshirt and the button detail at the neck is nice if you want to show a little cleavage.',\n",
       "       'I love hand knit sweaters. they look expensive. this sweater is pricey and i shied away from the original price. at the reduced price, it is worth it. my sweater is bright blue and pure white so not sure what other reviewer got. however, it is itchy. i admit that i have somewhat sensitive skin so if i cannot wear a silk layer under it, or find a way to make it less itchy on me, i will have to reluctantly return it. i normally wear large but the medium fit fine.',\n",
       "       \"Love this shirt. i am actually pregnant and this shirt ties right over my baby bump to make for a very flattering pregnancy shirt. i will definitely be wearing it post pregnancy as well since the tie is an actual tie and you can tie it however tight you want for a more fitted or loose look. i am 5'4 125 lbs (not pregnant) and got a size small. and it fits perfectly. covers problems areas of butt and upper thighs, yet accentuates the waist. and thinner area of legs. very soft fabric, a bit stretc\",\n",
       "       'Ugh. i wanted to love this dress so much. i ordered it for a fall wedding and was so excited about it. unfortunately the cut is so very different from how it is pictured on the model. the color and print are the same, the detailing around the next are even more beautiful than pictured. the length, however is so much longer then pictured. and it is not just an issue of the model being tall. the slip is the perfect length (and it is actually the perfect slip), but the overlay comes down way past my',\n",
       "       'I expected this dress to be pretty, but was happily surprised at the level of beautiful detail. it is hard to tell in the pictures, but the dress has a black background with tan embroidery all over, and white embroidered eyelets. the full lining is bright blue and it peeks through the eyelets, with the slit on the back and the inside of the neckline lined in bright orange. the slit on the back has two buttons closing it - a really cute detail. it fit me comfortably (i am 5\\'7\" and 130 - got the si',\n",
       "       'Glad i went in to buy this: in store i was surprised by the texture which was much more cotton (almost gauze-like) than most cloth & stone shirts made with tencel. the blue looks like demin online but in person is a rather ugly dark blue, the pink was almost red, but the yellow was beautiful!\\r\\nit is double-lined which is one of the best things about it. \\r\\ni am usually between a s and m and could have gone either way but choose m because it was a little longer and \"flowy-er\".',\n",
       "       \"So this shirt is adorable. soft, fun, lays nicely...\\r\\nbut you should have your arms amputated and replaced with a barbie is before you put it on. \\r\\ni don't even have large arms, the medium fit me perfectly, but then like i hulked out the arms and there are now little tears at the seams. this was all very confusing and vexing as this shirt is otherwise perfection. \\r\\n\\r\\ni mean, i am not a large? but i guess if i want this shirt, i will need to take it back and get a large, otherwise, it will be sleev\",\n",
       "       'This is a beautiful dress! not too interested in yellow but needed it for a wedding this summer. i usually wear a large but returned it for a medium - the large armhole was a little too big. super comfortable and easy.',\n",
       "       'Loved these pants when i bought them but was not expecting them to \"grow\" a size within an hour of putting them on. i think it is an issue with pilcro. great styling, nice fabric, but buy one size down!',\n",
       "       'Such a great purchase! the fit is so flattering to my 5\\'3\" frame. i usually wear an extra small/small, but i opted for an extra small after reading a review; i am glad i did. i also did not get the petite, but i imagine it would have a similar fit without the length this has. it flows, yet hits my curves in all the right places. i will say, i am a c cup and if you have larger breasts, the extra small may not accommodate them as it is just right on me. the black is so slimming especially when pared',\n",
       "       'I originally bought this tunic in black, and loved it so much i bought the rose as well. normally tunics make me look like a box, but the tie on this one makes it super flattering.',\n",
       "       \"Eyelash sweaters are all so soft and cuddly but this is the only one i have found what doesn't make me look like a bear. the shoulder cut-outs really help create a   flattering silhouette. i am 36-30-40 the medium fits well, slightly loose so the sleeve below the cut out hangs slightly. highly recommend.\",\n",
       "       \"So incredibly comfortable.  the sweater wasn't flattering on me (i am super busty) so i sent it back but it was a tough call because of how incredibly soft.\",\n",
       "       'I wanted to give this a glowing review but i ended up returning this cardigen. the folds on top added too much to my frame. i do not suggest this for heavier apple shapes. for all others, it is incredibly soft and warm. the tan color was weird but they others are simply gorgeous.',\n",
       "       'I was searching for an ivory cardigan and i ordered this in my usual size small and an extra small. after trying them both on, the xs looked better, i like a more fitted look. a tad tight i the arms when layered but otherwise would have been a good fit, but the acrylic in this garment was too itchy for me around the neck. i thought this might be the case but took a chance anyway. also the pockets add a bit of bulk in the hip area, definitely not something i want.',\n",
       "       \"This top is lightweight and flows nice. i usually take a medium or large. i ordered a medium and it is slightly large. so if you are between sizes, i would go down. i will keep the medium because it isn't the type of blouse that should hug your body. the green is stunning.\",\n",
       "       \"The picture makes the shorts look structured. i assumed they were made of a heavier cotton material. i was disappointed when they turned out to be a light weight polyester. \\r\\n\\r\\nalso, this runs way too big. i am busty and did not fill out the top of the xs.\\r\\n\\r\\ni wouldn't even buy this at the sale price.\",\n",
       "       \"I did not have the same experience as the reviewers. this shirt is not what i thought. the front is low cut and i would have to wear something under it. i could not wear this to work, and i would not wear it in public. the fabric isn't bad, but feels flimsy.the fit is tight. i wear a small, or xs in most shirts, and this was ordered in a small and it was tight. i did like the green though, and the color in person is nicer than what is pictured.\",\n",
       "       'I liked this top but found it to be a little dowdy. fit was slightly boxy and not a good look for me. may look better on a different body type.',\n",
       "       \"I really wanted to like these, but they just didn't look right on my 5'3 sorta bulky frame. i have big thighs and always feel out of place wearing leggings, so maybe i am just not the right target for these, but they looked so cute and i wanted to give them a try. the waist was too high for my liking, and the leg openings were too big and gave me a stumpified look.\",\n",
       "       'I bought this dress for a dinner after my daughter is wedding rehearsal. it is perfect. it is dressy enough for the occasion. it also has a casual look to it. i think it is very versatile. i fell in love with the colors, material and the quality. i am more excited about this dress then the dress i am wearing to the wedding. buy it you will love it.',\n",
       "       'First problem-i would not have ordered this at all had the description been correct. the fabric description is cotton which the dress is most certainly not. secondly, it has a really funky, cheap, unfinished, raw-hemmed slip which is simply not fitting for the dress. the keyhole in the front is super long-again, does not seem to fit the dress. i am not happy with this piece at all but it did fit tts. length is just above knee. i am 5\\'5\" 142 lbs 34d and the six was a good fit. sending this home t',\n",
       "       'I fell in love with this blouse the minute i saw it in the store. the colors are a little deeper than how they appear in the catalog, but the greens and browns are beautiful and will be great for fall! it fit very true to size, i usually wear 8-10, and the m fit perfect. the gold beading on the sleeves and neck are a nice extra! love this top!!',\n",
       "       \"I agree with the other reviewers, this top is completely disappointing in every way, i could not believe it was the same top i pulled from the bag. where to begin,.......\\r\\nit runs really big\\r\\nit is short and boxy, not at all like it appears on the model, this must be pinned a lot in this picture.\\r\\ncolors are completely dull in person, i really think this picture was lightened a great deal.\\r\\nfabric feels cheap and stiff\\r\\nlining is stuff and poorly sewn.\\r\\ni haven't one positive thing to say about t\",\n",
       "       \"Cute and simple.  nice fabric. it is a looser fit so if you're in between sizes i'd recommend the smaller size\",\n",
       "       'This skirt is stunning but i really wish it was cotton canvas - maybe by summer retailer could make one?',\n",
       "       'This wool jacket actually feels more as a cardigan, its a little too thin for a jacket but looks about the same as pictured. its very pretty. i ordered a l and it was true to size. sleeves are cropped. the wool material is surprisingly soft and comfortable. very nice and colorful addition to my closet. recommend! :)',\n",
       "       \"I wasn't sure the shorter length in the back was working until i tried it on. this jacket totally worked for me. the brown color can be easily matched with other colors. i got the jacket in medium size. i usually in between size. the medium size allow more space on the chest area, however the sleeve becomes a bit too long for me.\",\n",
       "       \"I was excited to see this offered by retailer because i have been looking for a light blue summer jacket or blazer that isn't a denim jacket and this seemed to fit the bill. i have ordered several cartonnier blazers in 00p, as early as 2013 and as late as spring 2015, and have been very happy with them. on the plus side i would say that the color is depicted accurately and it does seem like a high quality jacket. but while the shoulders and sleeves were a pretty standard fit for 00p, it was much too\",\n",
       "       \"This is the softest flannel ever! while i don't think i'd wear it outside, it is super comfy just lounging around. it runs very large, but since it is a flannel romper, not a problem. absolutely recommend for all shapes and sizes!\",\n",
       "       'Easy to wear and layer. thin and light casual fabric, not itchy. great basic addition to my closet!',\n",
       "       'Bought this blouse in white. fits great. can be worn with many things. dressed up or down.',\n",
       "       'I was excited to receive this coat for my annual travel to switzerland but hesitated to order it online without seeing it first due to the price. it arrived last night with the buttons falling off and a large hole in the front pocket. the lining inside is has a very cheap plasticky feel and i can also see small rips possibly forming in the lining. in addition, the collar on the coat is extremely bulky and the shoulders are padded underneath the fur which makes ones shoulders appear like a lineba',\n",
       "       'This is a beautiful dress and i would recommend.\\r\\nbut it was short on me (tall), not the midi i was hoping for. and a little too low cut (too much cleavage), i am a d cup.\\r\\nsince i paid full price, i have to be completely pleased with my purchase, for this reason i will return. \\r\\nmaybe if i had bought it on sale price, then i would keep.',\n",
       "       'I wanted this dress in wine for a holiday party. but it just has no life whatsoever. unlike prior reviewer, i found nothing to dislike about the fabric. the fabric is fine and the fit is fine. i am sometimes an 8 and sometimes a 6; took this in an 8 and definitely would not size down. it is relatively close- and well-fitting, but the sleeves and neckline further ruined it for me. the sleeves are shapeless, long and baggy. the neckline is just blah. it needs to be neater, trimmer, more cut. the ruc',\n",
       "       'Fantastic price right now and very flattering!! cute and sexy dress that hugs but its forgiving!',\n",
       "       \"This was the dress i was most excited about in the new arrivals, but sadly it didn't live up to expectations. unlike the first two product photos, the dress is baggy and empire waisted, and the black trim is the thin one shown in the last two product photos. the dress is slip on with no zipper or tie, and on me there were about 4+ inches to spare at the waist. all in all it felt sloppy, such a shame as i would have loved the original design online.\\r\\n\\r\\nanyhow, i wanted to share photos of the real\",\n",
       "       'I found this top really flattering on. i originally ordered a 6 and found it a little too big. the 4 fit perfectly, it falls around your belly button area so a little of your stomach will show. it has a flattering scoop neckline and the ruffles give it that extra flare. very light weight for the summer, colors are brighter/better in person.',\n",
       "       'I love these jeans. perfect amount of stretch, perfect color, perfect weekend.  \\r\\ni bought two sizes smaller than normal.  a little snug when they come out of the dryer, but within an hour they are the perfect fit.',\n",
       "       'I am anxious to wear this dress with boots. i love the colors and print. perfect for work and evenings out.',\n",
       "       'I like the shirtsleeves for south florida and the material. the design is great too. hits high up on my waist which i like. i ordered the black, but had to send it back as the medium was too big. i usually take a medium, but the small fits perfect. like white a lot and ordered the gold too.',\n",
       "       \"These jeans fit like a glove while being flatteringly stretchy. i am 5ft 7in, 125 lbs and i have a size 26. these are my second pair of ag stevie ankle jeans and i can't wait to get more. they are a beautiful deep/dark blue. love them!!\",\n",
       "       'I saw this dress in the catalog and had to have it. when i went to the store it was sold out so i had them order and ship it to me in two sizes - my regular and one size larger. when i got them, i tried on my regular size first and it was just perfect! beautiful pattern and material. light and airy. sexy with the low-cut \"keyhole.\" i am sooo happy with my purchase.',\n",
       "       \"I had sized down because i am usually a petite, but didn't have the option for petite here, and it was still too big. a petite or an additional size down could have helped the fit, but in the end the style wasn't what i was going for. the dress has a little more texture going on than what is revealed in the photo here on the site -- i thought it was a luxurious brocade fabric, but the shininess actually comes from silky threads on a mesh-ish overlay. it is a lovely, quality dress, and the color is\",\n",
       "       'I really like this dress. it does not bother me that it is not lined. i feel very feminine wearing it. i plan to get a shrug to wear with it.',\n",
       "       'Beautiful top marred only by the armholes. i tried a small and a medium but alas, my bra showed under the arms. i my be overly endowed for this top, but the way it cuts, you would have to be braless to wear it. not for me, but wish it worked. it is really pretty.',\n",
       "       'I love this top! it is so hard for me to find conservative, comfortable and yet not mom-isn swimsuits. this top is amazing. it is comfortable and soft and great quality. i am excited to use this suit this season!',\n",
       "       'Just bought this for easter and it fits beautifully! not only is the cut very flattering, but the colors and fabric are perfect for spring!',\n",
       "       'I love this dress! it is perfect for a wedding, brunch with friends, or even work. it is beautifully made and is comfortable. i have it in the yellow colorway, but i am tempted to go back and purchase it in the purple colorway as well.',\n",
       "       'Love these tights. fabric feels great, soft and comfy. took large so they fit perfectly at true waist for 5\\'6 height. some retailer tights i have bought in large, but they are too short for 5\\'6\" person.\\nthe color of this paid is a subtle green. looks great with black skirt and green sweater.',\n",
       "       'I bought the xs regular and it was a little too long and wide. i was unable to find a petite version in the store or online. the ruffles were also bigger than how they appear on the model. i am 5\\'1\" tall and weigh 110 lbs. i believe the petite would have been a much better fit. i regret not discovering this top sooner when more size options were available.',\n",
       "       'These are the best trousers i have bought in a long time! i am 5\\'8 and 145 pounds and the 8 fit with a bit of extra room in the waist--not enough to size down. i love that they are not \"skinny\"--so over the skinny fit. i plan to wear these with black heels, white tee, and the vegan black leather jacket i purchased at the same time--oh, and a statement necklace--always a statement necklace. these are a must for every fall wardrobe! more pants like these, please!',\n",
       "       'I totally disagree with previous reviewer on sizing. i am usually a medium (sometimes small) in various retailer tops and i purchased this top in a small. i could barely get it over my head. i then ordered the medium and large. i tried the large on first and it fits perfectly. (like the model shot). so i would say this definitely runs small. i never wear a large. for reference, i am 36c, broad shoulder. the gold beading on the top is very pretty and the gold embroidery thread really pops. t',\n",
       "       'I was looking for the perfect july 4th weekend dress, with enough room to be comfy (and eat!) while also being chic and feeling cute.\\r\\n\\r\\ni got countless compliments on this dress.. the design is adorable, and the fit is really flattering. i am 5\\'4\" and i weigh about 128 - i normally would have worn a small, but i had to spring for the petite xs. the design is a bit big and billowy, and anything else would have swallowed me up.\\r\\n\\r\\noverall, great purchase. i am in love! :)',\n",
       "       \"This is a gorgeous sweater but huge. and when i say huge, i mean gigantic. i am usually a size large and i don't even think the small would be small enough. the cowl neck and fabric overall is great (although stretches out, which is why it becomes so overwhelming) but the sweater just hung on me like a short blanket. the armholes are very big - deceiving on the model. returning.\",\n",
       "       'This is a great shirt with cute details including the ruffled back. i am petite and needed to shorten the sleeves, but otherwise the fit was true to size and not too baggy or too tight. the material feels avergage in quality, but looks polished with navy blue pants. i received several compliments during my first wear. overall, a very cute shirt!',\n",
       "       \"I was very hesitant to purchase this with such a high price tag but i just received it in the mail and it is absolutely beautiful. feels and looks high quality and i can't wait to pair it with the top the model is wearing in the photos. definitely worth it!\",\n",
       "       'Pretty top, i like the flutter sleeve design.  the linen is thin- too sheer to not wear a cami underneath the white.  nice for the sale price.  can easily be dressed up or down.',\n",
       "       'These pants are so soft and stretchy they feel like leggings. i love the ankle length as they are perfect to wear with both flats and booties. i am 5\\'5\" with fairly long legs and these hit right at my ankle. they are so comfortable i have ordered in the green, red and gray. my \"go to\" pants this winter.',\n",
       "       'I usually wear a size medium in angel of the north but this was very small. i would need to have ordered a size large or xl to have it fit. pretty but returning.',\n",
       "       'So pretty, love hte design on this one.\\ni tried on hte regualr size, adn will not need a petite, it hit me jsut above my knee. younger gals may oprefer shorter, however.\\n\\nthe aottern is also nice. the cut is flowy and flattering, nothing bad to say about htis dress...',\n",
       "       \"I really wanted to love this dress, but even though i got a small, it was still too big. i also don't think the horizontal pattern was a good look for me, other than that, it is beautiful and the fabric felt nice.\",\n",
       "       'This is just adorable on. i go between a small and medium and the small was perfect for me.. i wore this with tights and boots, but can also see this working in warmer weather with sandals or peep-toe booties.',\n",
       "       'Seemed pretty shapeless which surprised me because of the design. perhaps it was just too big. returned it.',\n",
       "       'I have been craving this dress in the brown pattern for a while and should have jumped the gun before the sale. so now i was left with size sp and i look like a fool--like i am trying to wear a top from junior high and pass it off as a dress. my shoulders',\n",
       "       'Love the weight. something i can wear winter and spring.',\n",
       "       'I love this top! i love the detail in the front and the v back. it is simple and sexy, easy to dress up or wear casually. i ordered an xs and found it to fit perfect, i am 5\\'5\" and 112lbs. i ordered the olive green color which i love. i don\\'t typically wear red so that wasn\\'t an option for me, i do wish it came in more colors!',\n",
       "       'Not only is this dress incredibly comfortable, but it can be accessorized for any occasion. i jazzed it up for a wedding, but a cardigan and flats also makes it easy saturday perfect. only way this dress could be improved.... pockets.',\n",
       "       \"Swing dresses can be so iffy but this one is fantastic! i sized down to an xs due to the chest area (i am usually a s/6 up top 36b) and it fits perfectly. the dress is so comfortable and stylish without feeling like you're wearing a tent. this is the most i have ever spent on a casual dress and it is worth ever penny. could not be more happy with my purchase.\",\n",
       "       'Bought as a gift. really soft and cozy. i am sure she will love it!',\n",
       "       'I loved this blouse, but had to return. i am 5\\'2\", 127 lbs. 36d. i found that the blouse was tight in the bust and very wide in the shoulders. the sleeves are puffy, which is fine, but the wideness is from edge of the bib to where the sleeve is attached and therefore the top did not lay flat. if you have wide shoulders and a small bust - this blouse will be perfect for you. i liked the material, it was thin but perfect for a summer nights.',\n",
       "       'Beautiful shirt! i recently purchased this on sale and it has been marked down even further so definitely buy it! it is very pretty with the gold interwoven in the material. the peplum is also not overwhelming. it looks great with a pair of jeans and heels. my husband immediately commented on this shirt and he does not notice anything?',\n",
       "       'I was extremely disappointed with the quality of this product. as soon as i put this tunic, the right tie loop detached from the garment. i could return it but the point of shopping online was to avoid the hassle of going to the store. the price of the item does not justify the low quality of the final product.',\n",
       "       'These are very cute but very, very stiff. have washed 3x and still not relaxing. not a bad thing but they are a little uncomfortable the first hour of wear. my waist is smaller and generally, have gap in waist to get fit right in hips. super cute with sandals, mules, duck boots.',\n",
       "       'Great jacket for a cool morning. not too heavy and i found it to run true to size. nice little details.',\n",
       "       \"This item is huge. i am normally a medium, sized down to a small, still massive. couldn't go too much smaller because the buttons would pull at the chest. but the sleeves are very wide, as is the waist. way too much fabric. i had high hopes for this one but it just doesn't work. for reference i love billowy and flowy tops, but this was a tent.\",\n",
       "       'Beautiful detail in the bodice... but i am either too short or it is a bit too long for me. ;) have not yet decided if i \"can\" keep it. material is elegant, details are beautiful.',\n",
       "       'The color and fabric are really soft and lovely. it runs big so you can get away with a size smaller of even 2 sizes smaller. it would look great paired with leggings and boots and a long sweater coat or with skinny jeans and sandals. this is going to be my new favorite.',\n",
       "       'Great top for all seasons. hides imperfections, flatters hourglass shapes. and great thickness/weight to fabric. i am wearing it to a concert with skinny moto jeans and booties! side zip is excellent feature and great quality.',\n",
       "       'My store got this great tunic in white and i loved it so much. perfect tunic length, swingy, detailed...but as soon as i saw the orange option i knew i had to wait for it. i just got it and im in love! the orange print is so lovely. the perfect fall color and the print is timeless. the fabric is light and easy. the fit is definitely bigger, but i usually wear a l or xl in retailer tops and i preferred the xl. i have a lot of curves so i love a top that has some room, but i needed the xl for room i',\n",
       "       \"I purchased this dress in white and i love the color! i think it is a great casual look and it is really fun to wear. my experience has been that this runs true to size, i am 5'4, 120 lbs and i ordered a size xs.\",\n",
       "       'I bought these about a month ago in the sky blue - gorgeous color! i was a little disappointed because they fit bigger than i normally wear my pants, but i decided to keep them anyway. they are the most comfortable pants i have ever worn - butter soft. i have dressed them up with a nice top and suede booties, and also worn casual with a baggy sweater and toms. i highly recommend these pants!',\n",
       "       'This vest is a great fall item. the asymmetrical design and unusual buttons really give it interest even though it is black. you could wear it open or closed, both look cute. appears to be high quality.',\n",
       "       \"I have the t shirt from last year and i love it so could not wait to try the dress. why didn't you make it in petite? it can work with some tailoring but petite sizing esp since this runs on the big side, would have been ideal. love the navy, will try the white. how about some more colors and petite?? please??? more t shirt dresses in general too please!!\",\n",
       "       'Cute colored jeans.  ordered the sky color & when it arrived,  the color was a medium moss green color.  the color was beautiful but was expecting a light blue so sadly i returned them.',\n",
       "       'Bought them in store and have worn them twice. very flattering! they have maintained their shape through the day. i am 5/4\" and usually wear a 31\" inseam, and these are perfect ankle length. i am tempted to buy another color!',\n",
       "       'Love another pair of ag stevie is!',\n",
       "       'I purchased this dress in white and am quite happy with the fit and design. not too fancy but definitely not casual either. easy to dress up or down and can be worn for various occasions. the fit is great, but i do wish it was not so lose around the belly (it truly is fine though). has more of the hanging feel than the fitted feel. very comfortable for an evening out.',\n",
       "       \"Love love love. i tried it on a whim when returning a shipped item. it is gorgeous and incredibly flattering. runs large (it is drapey and would likely look good in your normal size since you can synch the waist, but probably best to size down as it seemed large in the bust size - which isn't an issue i usually run into). \\r\\n\\r\\nit is quickly become a great staple for work. definitely pair it with bodycon pants/ leggings/ skinny jeans - and it looks unique and very professional.\",\n",
       "       'These jeans look great with everything and fit great. i can dress them up with wedges or throw them on with flip flops and they are so comfortable, too. i have had many compliments already.',\n",
       "       'I decided to splurge. i would not normally spend $200 for a pair of jeans, but when they went on sale, i decided to go for it. i am so glad that i did. mother has a customer for life. these jeans are the best by far. i normally wear a size 4 (27) in most jeans, but wear a 28 in j brand and some others. so i was a little nervous by previous reviewers not just on this website. i decided to go with the 28 since in mother brand this is actually a 4/6. they fit great!',\n",
       "       'I am normally a small in retailer tops. i ordered a small, and the top fit well in the shoulders and in the upper (more fitted) part. it all went horribly wrong from there. the top billowed out at the bottom and fit like a circus tent, instantly adding a good 50 pounds to my frame. this was such a disappointment, as the pattern is beautiful and the fabric is high quality.',\n",
       "       'I tried on this shirt in the small and the xxs - both were ridiculously wide. they were also both cut really short - the peplum basically started right below my boobs, though the small was maybe a little bit longer than the eex. the stripes are really cute, the cut is just very strange. \\r\\n\\r\\nfor reference, the black and white is the small, the taupe is the xxs.',\n",
       "       'I am always on the hunt for jeans and regularly buy paige - these jeans are different than the regular paige styles, in all the best ways. they are made with super soft denim that is comfortable and very flattering; the waist is high, so my tush doesn\\'t hang out when i sit - i love them. i am 5\\'8\" and 140lbs and these are long. i can only wear them with heels, but i was looking for a dress up jean and these are it!',\n",
       "       'Love this dress! really nice quality, timeless design, not to mention the flared sleeves are so flattering! this dress makes me feel so cute and tiny. i normally struggle to function in off the shoulder tops but deal with it because i love the way that they look, but this one really is the perfect fit and has just the right amount of give without being too loose. the body size and length does run large, so size down on this one. now i understand why the petites were all sold out? whatever, modes',\n",
       "       \"I found this at my local store on sale and immediately snatched it up. i did not think of the wrap flying open until i got home and tried it on again. luckily, i was able to sew it up enough without compromising the drape and movement of the dress and without causing anyou pulling or puckering which isn't always easy when working with jersey.\\n\\nthat said, i really like the dress otherwise. it is super soft and i think i will get a lot of wear out of it when i want something cute and comfy to put on.\",\n",
       "       'Not flattering and not the color it appears online. this is really a pink shirt.',\n",
       "       'I thought this blouse ran a bit large-swinging wide at the hips. it does bunch in the bust area if you are larger. a correct undergarment fixed this problem. i am a 36ddd and thought the size 4 was perfect.',\n",
       "       'I got this shirt 2 weeks ago and have already worn it 4 times! i love it and every time i wear it i get compliments on it. it is so flattering with jeans or nice fitted black pants. if you are wavering about getting this shirt.... get it. i promise you will love it.',\n",
       "       'I purchased this tee in the blue and it is so very cute. its such a soft thin tee and a delight to wear on these hot summer days. i went with xs on this one and i still have plenty of room.. i have paired it with jean shorts, capris and it goes really well with the pilcro hypen chino shorts.',\n",
       "       'After a long wait for this dress to come in. i finally received it! the wait was worth it!\\r\\n\\r\\nthe colors and pattern are just like they are online. the length comes right to to the top of my knees...i am 5\\'7\". a couple of things to note: the sleeves are narrow,. if you have skinny arms, no problem. the fit across the bust is snug enough that if you have a large bust, there will probably be a gap at the buttons. there are gathers at the shoulder giving the sleeve a slight puffed shoulder. if you',\n",
       "       'I am so disappointed. the dress looked lovely in the box, but when i started to unbutton it to try it on, two buttons split in half! it is going right back.',\n",
       "       'Love these jeans for summer! i followed the advice of previous reviewers and sized down to a 26. after wearing these for a few hours they stretched a little and fit great!! they look sweet with the palo alto blouse and the embroidered edessa top. highly recommend!',\n",
       "       'I love this top...i waited for it to go on sale, and it was well worth it. it has a peplum bottom and it is slightly longer in the back. i found it to be true to size but if you are going to but reaching up, the arms do run a little tight. overall, the mock neck, button closure on the back, and the feminine flare of this top create a beautiful classic look',\n",
       "       'Super cute, casual top. i am usually a medium and this fit perfectly (5\\'9\" 145 lbs). it is not quite as long as it is on the model, but cute nonetheless.',\n",
       "       \"This is a cute dress, but the buttons are tiny and the top one cracked in half before i could even put the dress on. i can't risk the buttons breaking off while i am wearing it. especially since the dress seems designed for an a cup, anything larger will be more than those little fragile buttons can handle.\",\n",
       "       'I had a hard time deciding to order red or turquoise, as both colors are really nice in person. the black, of course, is a classic. another reviewer found the top to be small, but i found it to be a little big on me in my usual size. not too bad, but a little bigger than expected.\\n\\nteh neck part is effortless as there is stiching to help the colw effect stay in place. the fabric is thin though, so may show things (thinking bra ripples, and perhaps some other ripples in front tummmy). keeping it',\n",
       "       'I am rarely disappointed by maeve and this was no exception. i am a 32b and broad shouldered and my normal size 6 fit like a dream. the white print is opaque so no bra see-through. such a cute, fun print! the fabric has a really soft hand too.',\n",
       "       'I love the way this dress fits and flares in all the right places making it one of the most flattering dresses i have tried in a while. for me, maeve dresses tend to run a bit big, so i sized down to a small (i am typically an 8-10). the colors are a little deeper/richer in person, which made me very happy. i love the flounce in the skirt - it adds more swing to the dress. the only draw back was the v-neck came down a bit low. easy fix with a cami for work.',\n",
       "       \"I saw this very shirt online & thought it was so pretty. in person, the shirt seems flimsy. the buttons look as though they'd fall off. i also didn't like the cut of the shirt. it seemed to be tighter on top & looser on the bottom. had to return. i couldn't justify the cost with the quality.\",\n",
       "       'I adore this top. the fit is amazing. the colors are vibrant and will transition beautifully into spring. i think it looks great with skinny jeans. i am built small up top size m and the 6 fit perfectly. the buttons did not gape at all.',\n",
       "       'I got this in the dark coral color. it is lovely. i am taking it to hawaii!',\n",
       "       'Love this top, flattering on my post baby body. its feminine and soft',\n",
       "       \"For reference i am 5'3 and 120-123lbs. i wear a size 6-8. the quality of material on this skirt is very good and quite heavy. the waistband has a little stretch and the skirt is lined. there are pockets. longer on me than the model which is fine because i am wearing it to work. this skirt has no black ( it is dark navy and brown) in it and will not look good with black tights which how i wear skirts to work. can be worn with no tights it is a made of substantial curtain like material. i am keeping i\",\n",
       "       'Great material. quality and versatility is there. it is easy to get in and out of which is hard to find and the fit is adjustable at the waist.',\n",
       "       'Great summer shirt. loose fitting, but especially wide. the button gather in back is a nice detail',\n",
       "       \"I don't know why this piece is so wide around the body. the fabric is very good. just the design is way boxy. i get xsp, still boxy.\",\n",
       "       'This is a great dress! it is cut nicely, is flattering, and it is not too short. if i put it on, i look put together in a matter of seconds. the dress fits true to size. one thing, i would agree with the other review that this is not really \"tweed.\" instead it is made out of a patterned stretchy material that is a little thinner than tweed. the colors are really beautiful, and while the blues and reds are more intense in real life, it looks terrific.',\n",
       "       'I like the soft green color, the chino fabric and the casual vibe this dress exudes. perfect for spring and early summer. runs tts but may be snug for bustier gals. wish this had pockets.',\n",
       "       \"This top works very well with a white or green cardigan for work. the color is more green than in the photo and it is wider on the bottom. it hides a non-flat stomach very well without looking matronly. i ordered a small petite, but i am heavy on top so i did not find the armhole problem that the other reviewer had. my only con is that i don't love the high-low thing that every retailer top seems to have these days, but i can live with it.\",\n",
       "       'I love the colors of this top. it does run very large though. when i received my usual small i felt like i was swimming in the top, not fitted at all. the material is a bit funky too - seems a little lower quality because of the fabric. will return and try a smaller size if there is one available at the store and see if i change my mind.',\n",
       "       'I liked that this was a unique take on a sweatshirt. pretty seam down the back and weight of material. i am going to return it because i wish it was a little more of a loose/baggy fit and under-pattern is darker than i thought.',\n",
       "       'I really liked the design. ordered a medium which was huge. also thought i would not be able to tolerate it because of the material -- a bit itchy. returned it.',\n",
       "       'This cut and shape of this skirt is very flattering. i am normally a medium but the small fit and looked much better- less bulky. the material is nice almost sweater like but not so heavy. it is a very versatile skirt. highly recommend.',\n",
       "       \"I ordered this dress looking for something to wear out for an evening. after seeing the other reviews i wasn't sure about it, but i was very pleased when it arrived. i find it is elegant and sexy, but also modest enough when i sized up by 1. i normally wear an xs in dresses but found the small fit perfectly. it is form-fitting particularly in the waist and back without being too tight. i am excited to wear it and think it would look beautiful with a long necklace.\",\n",
       "       'What a great top! i am 5\\'9\" - 136 lbs with a 34d chest.. and this top looks and feels great on. i am usually a 6 and the small fit perfectly. i purchased the grey and it is a nice medium grey color. the v in front hits in a great spot.. not too low, but just low enough to look feminine. i haven\\'t washed and dried the top yet, so i hope it looks as good after washing as it does brand new. i was hesitant to order because of the earlier reviews, but i find this top really works for me, so i am glad',\n",
       "       \"I love these jeans, cant believe i never purchased them earlier. i am always a 30 in paige and ag and this was no different. i will say that i did fit into the 29, so it could be that they run slightly large. the fabric is amazing!! and the white is perfect. love that it is not see through and fabric is substantial.the length for me at 5'5 was at my ankle. i loved them so much that i bought them in white and beige/cream. highly recommend.\",\n",
       "       'I love the way the neckline is open not too low ! it also falls on your hips just right.\\r\\n\\r\\ngreat buy',\n",
       "       \"The dahlia bell sleeve blouse is absolutely gorgeous in my opinion. i have already worn it several times, with white cropped denim or the cropped fringed pilcro denim jeans. it also looks great with the pilcro rolled shorts in navy or white. i took my usual size large, and though the fabric seems like it may be sheer, if you wear a nude bra you do not need a cami beneath. the blue band hits right about the waist of your jeans so your jeans don't show thru either. this blouse is lightweight and v\",\n",
       "       'This cardigan/sweater/jacket is splendidly soft, wonderfully warm and super stylish. i wear it with a navy pencil skirt or leggings. this piece will be timeless.',\n",
       "       \"This sweater jacket is beautiful. the picture doesn't do it justice. works very well with a tank underneath and a skirt or over a knee length dress. wore with boots and received many compliments. it is classy.\",\n",
       "       'Looks great with jeans for a more bohemian look.  i normally wear a medium but went large to accommodate a 6 month pregnant belly.  the blouse is loose enough i probably could have stayed with the medium.',\n",
       "       \"This is a really pretty shirt - the colors are beautiful.  it runs large, and it is semi-sheer.  shape is loose and boxy, but because it is more sheer, it didn't seem as boxy.  i am tall, and this was long enough.  only change would be to make the sleeves a little less bell like.  not tight, but lose some of the volume.\",\n",
       "       'Bought this shirt in the black. runs tts, very comfortable and flattering. past left of center shirts in this style/fabric seem to run a little large, but i bought this in my usual retailer m, and it is great. very similar to last years style, but perhaps a tad more fitted. i gave it a 4 for quality b/c i have noticed a little bit of pilling under the arm area, but overall, it holds up pretty well.',\n",
       "       \"I remember the first time i walked into an retailer store: like walking into a dream of all my favorite things. i have finally found a store whose products help me to express myself. as a writer, i love whimsical & out of the ordinary. i have found my honey hole. every time one of the pastel bags w/ribbon handles is past over the counter or i push 'add to cart' on my computer, i do a little happy dance in my heart. my closet is like a candy store filled with sweets & treats. thank you retailerp\",\n",
       "       'Great jeans. especially since i am getting tired of my skinny jeans. length is great for someone tall like me (5\\'10\") unless you wear heels with them but these are more sneaker/sandal jeans.',\n",
       "       \"Hard to find longer shorts that i like. these are really cute. i thought from the pictures that the backside would be faded and lighter which i wasn't thrilled about, but willing to order and give a try. great to discover this is not the case- nice regular color on back and no fading. really cute shorts.\",\n",
       "       \"Probably should have noticed the material this jumpsuit is made of before buying. tencel, thus little to no give,kind of like linen and silk. beautiful material, soft with a slight sheen. the top portion fits well and the triangles cover the girls well (36dd). unfortunately there is no give on the back end for my bottom which is quite round and its tight around my thighs which aren't small either. (l/xl and 14). and sadly an xl would be too big upstairs and baggy around the middle. sigh, oh well\",\n",
       "       'This fit me perfectly. i am petite and it is a little long but i like the length. it is perfect! so cute',\n",
       "       'I have been wanting to try the cropped pleated pants style and i like these. the material is nice & comfortable and the bow adds whimsy. compared to other brands i have tried, these pants fit the best. the waistband goes up higher in the back so there is no gapping (a big plus for me). just one thing, i find cartonnier to run small so i would suggest ordering one size bigger.',\n",
       "       'I love this! i agree with previous post that say  it is much better in person. the fabric is high quality but not too thick. i bought this to have something light to wear on a trip to italy and it will be perfect. the color is so lovely and the flowy detail at the hem makes it unique. it is a basic without being basic. i am so glad i added it to my wardrobe.',\n",
       "       'Bought a pair of these with a gift card i got for my birthday.  just ordered another pair!  i love them for everyday use and working out',\n",
       "       \"Love these-although i am exchanging mine for a size larger. they are definitely wide leg, have plenty of length (i am 5'6, and there is a good inch of extra length), but i found the waist band to fit snug without a ton of give. i also am working off extra baby weight in the stomach/hip area though, but thought it was worth mentioning. i am pretty curvey, probably a size 31 in jeans right now, and exchanged a l for a xl. great quality\",\n",
       "       'I tried this cardigan on today at retailer and i absolutely loved it! it is much cuter in real life than it looks online. it is a perfect sweater for my skinny jeans--long sweater--tall boots winter uniform.',\n",
       "       \"I am not entirely sure if this shirt just runs large or if it fits oddly/boxy. the flowered material puffs out on the sides a couple of inches under my arms... i am usually a pretty solid size medium, but i think i am going to try to exchange this for a small to see if that solves that weird fit issue, because it is a nice idea of a design and comfortable overall. but, if that doesn't solve the trick, if not recommend, b/c that side puffiness isn't flattering.\",\n",
       "       'I ordered this dress on a whim in my normal size 8 and if fits perfectly! i felt so pretty when i put it on. i love the volume of the skirt with the tighter top. it was very flattering to me. the linen thickness was nice but not for summer in florida maybe spring. but its lovely!',\n",
       "       'I am a sucker for plaid. i tried another plaid shirtdress from retailer, and it looked like a housecoat on me. this is lovely - a bit fitted, but very relaxed and casual. i will be able to dress it up for casual days at work. it is got enough lovely details to be stylish. i think the waist looks a bit simple, so a belt helps dress it up. the sleeves finish with a button, so it looks polished, or they can be rolled up. i love it with booties!',\n",
       "       'I ordered this dress in a size 6. for reference i am 5\\'7\", 145 lbs. i love it! the fit is perfect. unlike other reviews, i was aware the hem was unfinished, and i like the look. the top part does not seem to short. the style, to me is kinda retro. i wore the dress with flip-flops and a large chunky necklace. i received lot is of compliments, it is my favorite dress right now!',\n",
       "       \"This appears much more pink in person. i am not really a pink girl but thought i'd try. \\r\\nthe way the shoulders are cut makes my defined shoulders/arms look too intense for my liking. this would look nicer on someone more petite and less athletic in my opinion. i like that the bust has slight padding that can make a bra unnecessary for yoga, spin, pilates, ballet, or barre class. it is nice and fitted and true to size. would be really cute on the right person.\",\n",
       "       \"I loved this dress and it fit perfectly. i did not have any issue with the camisole being tight, and i am really curvy. i did however have a problem trying to take it off. it has no zipper and in order for me to get it over my head i had to stretch my shoulders to the point where i ripped the back. i went to the store and tried on the larger size and ripped that one too. i tried to take it off more delicately but i couldn't. maybe it was me, but this dress is too much hassle. if i went any highe\",\n",
       "       \"This arrived in my store this morning and it is as cute as it appears online!! i am a curvy gal so i honestly wasn't feeling like this would look good on me. but it is thick and the fabric is sturdy so it lays on me exactly the way it does on the model! the fabric on the blue side almost has a vinyl feel to it...like it would be rainproof! the sherpa layer is super soft and in my opinion, even cuter than the blue side! the trim is all lined with a faux leather and the ties on each side can be adj\",\n",
       "       \"I ordered the xl in the green motif. the shirt is fitted through the body. i am a pear-shape so it is tight around my hips. it is cut straight down. i will need to wear this tucked in or belt it/pull it up a bit closer to my waistline so it is more comfortable. the colors & pattern in the green motif are prettier in person. i love orange roses & haven't found any shirt or dress with orange roses before so i kept it. i used my birthday discount to splurge on this. i think it is over-priced for what it i\",\n",
       "       'I bought this dress as soon as i received the retailer catalogue. i rushed to the store because i absolutely fell in love with it. when i tried it on, i went a complete size down. i am usually an 8, but i snagged this beauty in a 6. the top part really does run larger, so unless you have really broad shoulders, you will need to size down. the sleeves hit my arms at a nice place, and the little tie in the front is awesome, because not only is it an interesting detail, it can be loosened or tightened d',\n",
       "       'I have been looking for a basic ivory sweater. i waited for this one to go on sale. the style is cute but the sweater itself is very stiff and heavy. unfortunately i decided to return it.',\n",
       "       'Love these pants. it is hard to get really dark dark black jeans with a little stretch, and these are perfect. i also like the cut as a bit of a change from skin tight leggings. and the fabric is super cool, like a lightweight brocade denim. i get compliments every time i wear them.',\n",
       "       'Love classical look and this dress may look great on not so much curvy shape. price is great with extra 40% off so considering to get dark red one as well now!',\n",
       "       'Dressed up or dressed down, this summer dress is perfect. the skirt is a lot of fabric, like others have said, but it is part of what makes this dress fun; and because the top is fitted, i find it very flattering because you can adjust the tie around the waist to make it fitted. that being said, the design sort of threw me off when it arrived in the mail because the waist as well as straps around the shoulders are adjustable; at first it looked like a sack, but when it is on and adjusted it will l',\n",
       "       'This is one of those rare garments that is actually as flattering on me as it looks on the model. just like the picture, it hangs like a dress and emphasizes my curves without seeming too revealing. the weight of the fabric creates graceful movement, while the loose cut keeps it cool and breezy. for reference, i am 5\\'4\" and curvy (34d, 35x28x39), and i ordered a small petite. this is a smaller size than i would wear in most styles, but it fits almost like it was made for me. the tie hits slightl',\n",
       "       'This dress is beautiful. i am happy i chose the sky blue color. i read a review before ordering that said it was more beautiful in person. it certainly is! i can\\'t wait to wear it. the only issue is that it runs a tad bit too big. i am very thin, and usually an xs in retailer clothes. i could have fit an xxs. good thing the straps can tie and be adjusted. also, it is a little longer than i thought it would be on me (i am 5\\'7\"). other than that, i love this dress.',\n",
       "       'I really wanted to love this, but the length of the pants was so awkward and dowdy. if they were longer or shorter, this would be a win. nice fabric, not too clingy so it is attractive on top and hips.',\n",
       "       \"This sweater is such a cozy knitted dream. the mixed knit contrast trim/hood adds enough visual interest to keep it unique from other incarnations out there. it is a little open work but still snuggly warm with layers. the fit is very roomy but not sloppy looking, that is why i picked 'runs large' as you'd have to size down for a somewhat slimmer look. if i could afford to buy the other color now i would. i wish retailer would commission a green version. and a brown version. red too. what the heck,\",\n",
       "       'Sadly, i had to keep only a few dresses, not all of them, so that one is in my wish list if my xs petite goes on sale in red and blue, i am pal so that is hte better color for me. i have not seen the green in eprson, but the neutral color is very nice too, if you are not into red.\\r\\n\\r\\nmaterila: thin-ish, strecthy, super comfortable, may be cool in a cold area though, brr.\\r\\n\\r\\nfit: xs petite fit perfectly everywhere, surprisingly, the shoulders are capped sleeves, i dind\\'t exepct having them \"fall\\'',\n",
       "       'I love the green pattern. the fabric hangs and moves beautifully. thick enough to cover undergarments without slip or liner. ballet back is nice detail. i am curvy and generally between s and m, s has a little room to spare. generally flattering piece. great for summer!',\n",
       "       'Beautiful dress!! i love this and am tempted to buy it in more colors. fits true to size, in a flattering way. love the cut of the back and the flow of the bottom.',\n",
       "       \"This top is so beautiful and well made, and the detailing in the back is gorgeous. it is unexpected and makes this piece really special. it does run a tiny bit large; i have gotten retailer chambray a before, and they usually shrink a touch in the wash and then for just right. i haven't washed this yet, but even a little large it fits well and hangs nicely without being overly baggy. get this, you won't regret it!\",\n",
       "       'Just got these and they are great..i ordered mine online and took the advice of many reviewers to size down. i usually wear a 27 (sometimes a 26) but got these in a 26 and they are perfect. the material is soft and stretchy. would highly recommend these to all.',\n",
       "       'This top is gorgeous, but the sleeves are all wrong. they\\'re very tight for about 5\" at the bottom, right up to the elbow making it tight when i bend my arms. it is also loose in the armpit area, the bottom of the sleeve starts under my chest, and is styled that way, so i am considering returning. i actually drove an hour to the nearest store to size up, but the sleeve feels even more tight. ugh! i love the quality & looks otherwise, and the front is double layered so no need to layer. the front i',\n",
       "       'This is a sweet, lightweight top that i will wear again and again. nice touches in the front and back. little keyhole opening with two buttons at the neck in back.',\n",
       "       'This outfit was online for months with no review so i was skeptical to order but very glad i did as it is better in person. \\r\\nit is beautiful, high quality tommy bahama inspired suit. i am 55 so short shorts are risky even though i am a typical size 4 or 6. i took a 4 in the blazer and i am typically a high 4 or low 6 in size so i would say the blazer is very true to size. i took the size 8 in the shorts as i felt they ran small and i wanted the extra length. they ride a bit lower on my waist an',\n",
       "       'Super comfortable and cute!! i have received tons of compliments one this dress. the material is soft and the print/colors are awesome. this dress will get a lot of use over fall, winter and spring. runs a little big. i am typically a s but chose the xs . love love love!',\n",
       "       'At the beginning of the season i lusted over an ivory haute couture side-sliced tunic so much that i almost sprang for the $800 price tag. when i saw this at retailer, i realized it was similar, but had certain design elements that made it even more unique than the other. i just received it, and i was not disappointed! that cable neckline is beautiful, the 3/4 sleeves are perfect to show off a bracelet or two, and whether worn with skinny jeans, as shown, or wide leg trousers (as the haute',\n",
       "       \"Due to the black sheath being out of stock in all sizes (for quite some time), i took my chances ordering an 8p in navy which was way too big on me. i also didnt love the navy. i wish i could try the 6 or 6p in black but out of stock and wouldn't arrive in time for my events. sadly returning.\",\n",
       "       \"This is baby soft and a great basic. i ordered my normal size large and it clings in an unattractive way so you might want to size up for a better fit if you're not going to wear it as a layer. the black color is saturated in a good way. it is also very long but i am short so this would be perfect for taller frames.\",\n",
       "       'These are cute...nice overall fit (tts) and length was like model on my 5\\'7\" frame...quality and comfort were also nice. for me the issue was color...when they came in at first i did a double-take wondering what i had ordered and if it was the right item. the colors are very bright, most notably an almost neon orange. the colors plus the diagonal lines/blue hem combo felt a little clown-like to me. i try to pick versatile items that i can wear multiple ways, and i just couldn\\'t imagine many ways',\n",
       "       \"I tried this on in the store in the xs size. the pattern is striking and really makes you think of all the things you love about fall. having said that i did not buy it and probably won't unless i find it on the sale rack later. it is really more of a poncho than a sweater. the fit is very oversize through the body and i tried the xs size. it is also fairly cropped on me as i am tall. i would only wear it with a shirt underneath. the sleeves and not attached to the shoulder, but start further do\",\n",
       "       'This dress is really flattering on. fits true to size. perfect length, i am 5\\'6\" & dress hits just a few inches above my knees. it is simple, yet versatile seasonally. right now i plan to wear it with booties & sandals in the spring.',\n",
       "       'This top exceeded my expectations. i got it in the gray striped pattern, size small. it is probably the combination of the pattern and the removable padding that makes it very flattering on my small chested figure (i would imagine big chested gals would not find enough support in this one though). the fabric is very soft and comfortable with just enough stretch. overall, very happy with this top. but does it have to be so expensive, retailer?',\n",
       "       'The small is huge on me and the sweater is very itchy. cute idea but not for me. i will return it.',\n",
       "       'I love both the color of this sweater as well as the buttons on the cuffs. this sweater is an easy pick any day of the week and goes well with all of my work pants. plus, the soft and pretty pink adds some brightness to my otherwise dark winter wardrobe.',\n",
       "       \"I have been wanting this skirt for a long time. i was worried about waist which is fitted. i finally ordered it and it i very cute. the waist is indeed fitted but there is some give to the fabric, fabric is soft cotton not unlike denim with some stretch. there i a soft cotton liner in skirt. i took the cloth belt off because i cannot retie it so neatly as in the photo, also i just don't want a bow on my stomach. i own a cute narrow belt that i will wear with skirt as i think something is needed\",\n",
       "       \"I am 5'0 125 lbs and the petite small fits perfectly. i love the length of the shorts, not too short and not frumpy either. the waist has a hidden band so it hugs you in a good way and makes the top half slightly blousy, so it is forgiving. will go great with gray booties, black wedges or sandals.\",\n",
       "       'Gorgeous, but so, so, small. recommend ordering 2 sizes up.',\n",
       "       \"Man, this dress is the worst. i don't understand how it looks the way it does on the model. agree with previous reviewer - there must be a minimum of 200 pins pulling the waves and waves of extra fabric back. this dress looks so cute , but is so, so, so disappointing in person. sweater collar and cuffs - stiff and bulky. dress - billowy and sack-like - not sure how they got a belt to pull it all in. save yourself the return and do not get sucked in by the sale price and extra sale discount like\",\n",
       "       'Such a great dress. fit is flattering. the small v cut in the front and beading around the neckline keep it from becoming a boring lbd. classy enough to wear to a funeral but can be dressed up with some killer shoes. thrilled with purchase!',\n",
       "       \"So disappointed! i couldn't even get it on. definitely order a size up!\",\n",
       "       'I am a petite girl, 5\\'2\"/105 lbs- i bought size s and it fits me just right. i love the way the fabric feels on my body. i tried this dress with flat shoe and it doesn\\'t make me look short. the colors are vibrant but not too bright which makes it perfect for any time of the year to wear.',\n",
       "       'I tried these on in the store and they are super cozy. at 5\\'1\", they hit me just above the ankle in the regular length. i came to the website to get the petite length, hoping for a better fit in the rise as well as a slightly shorter leg length. these pants are comfortable without looking sloppy.',\n",
       "       \"This dress had so much potential. looked cute when i received it. put it on & couldn't wait to take it off. it is shapeless, top heavy & just overall unflattering. the material could be cute....on a totally different dress. don't waste your money.\",\n",
       "       'I love this top. it looks exactly as pictured and has a very flattering fit. i ordered the black and it is somewhat sheer. the material has a slight burnout effect. the black can be worn without a cami but if i wear it to work, i will need to add one.',\n",
       "       'I got this in black. will probably get in the purple print too. the purple is a bit more casual, while the black can be work appropriate if with a nice top. very comfy.',\n",
       "       \"Let me start with: i love this dress --- but i am totally confused. there is a pleat in the center of the dress, which if you look at the first photo on retailer is website, you can see that the model has the pleat in front, but when i recieved the dress, the tag is on the pleat side, meaning if you put the pleat in front, you're wearing it backwards. then other pictures show the model with no pleat in front, i tried it both ways and neither way felt wrong --- i thought it would fit funny if i flipp\",\n",
       "       \"I love this tunic! it runs slightly large. i ordered my usual size small (i am 5'4'' 125lbs) and it is a looser fit but falls nicely. i wear it as a dress, and the blue/gray color is so pretty!\",\n",
       "       'Listen to all the reviews, size down! i got the dress in my usual size large thinking it would fit well size i have large hips and a booty, i was wrong!!! i could camp out in the large! it was super large!!!\\r\\n\\r\\ngot the medium and its fit amazingly! its a tad bit tight in the chest(barely tight) but im a 38dd and this is not an unusual thing for. i just need to wear a thinner bra and it will be perfect! cant wait to wear it! loving the velvet trend this fall! thinking about getting the blue too!',\n",
       "       \"This was a cute design, but didn't work for me. the fabric was slightly see-through, and too tight around the bust.\",\n",
       "       'I ordered this sweater and it is beautiful.... i am returning though because it fits snug through chest, shoulders and upper arms. i am an xs - and that is what i ordered and it was tight through these areas. if you are busty it would be a definite problem.',\n",
       "       'My girlfriend and i both purchased these leggings in grey. we love the color because it goes with so many things.the problem is they do not fit the same. hers ran true to size and mine ran small. i am tempted to reorder another pair to see if they fit differently.',\n",
       "       'Love this top. very flattering on an hour glass figure because even though it has a more of an empire waist it is not so volumous as to overwhelm the figure --as so many retailer tops are these days. one caution: i had to go up a size to accommodate my bust.  normally a size 6 or small in retailer tops but a 34dd, so went up to a size 8.  the top is more snug around the bustline so just be warned if you are well endowed.  \\r\\nthe fabric is sheer but not overly so, embroidery is well done. over all a b',\n",
       "       'I am 5,7\" 135 lbs the small fit well in the bust but no shape . it was just big and frumpy . it went back .',\n",
       "       'Love the colors!! i am 5\\'2\" and the regular goes down to my ankles like a petite dress would normally. if you get petite, it would be as high as it is on the model. the material is comfortable and i can see this as a pretty versatile piece.',\n",
       "       'This dress was too cute to pass up! i loved it online but when i got it home, it was so tight i couldn\\'t zip up my normal size. the length was perfect on me being 5\\'7\". the fabric and detail was beautiful. if you have a bust, order a size up. beautiful dress just really snug up top.',\n",
       "       'Personally i love cloth and stone. . this top however sheer is still a nice top to have in my rotation. it is thin, lightweight, and sheer but with a cami or nude bra can be pulled off nicely.. i did find the top to be tts for me but the sleeves were snug. i purchased this on sale with extra 30 percent off so i was justified in getting it..',\n",
       "       \"This color is really cool because it can go with black, grey, or tan shoes. the back pleats are unique and do not add bulk. the back is also lined, so you don't need a tank. fits tts and i thought it was fairly flattering. on sale, this is a great deal.\",\n",
       "       \"Just not my style. it is light and the color is lovely and summery. but the cut of the sweater just did not work at all for me. and it wasn't overly soft - though that wouldn't have mattered if it fit me better.\",\n",
       "       'Very cute, great fit and super comfortable. perfect for fall with tall boots',\n",
       "       'This sweater is so well made and uniquely designed. one of the main reasons i love retailer is for how toy make wool sweaters, timeless, affordable, and versatile.\\n\\nworth the money!',\n",
       "       '5ft 6inches\\r\\n135lbs\\r\\nshort waisted, small bust (30dd)\\r\\n the color is more watermelon pink than that slightly orangey tone that is shown on the website. i  ordered a six petite because i wanted it to be kneelength. the four petite also fit, but was a little constricted in the bust. the dress is weightless--100% silk! i agree with the other reviewer about the bust of this dress --it is probably not great for large chests because of the ruffles',\n",
       "       'This tunic is comfortable and casual. it is as pictured and flattering. the two materials make it flattering. i ordered the white, and it is see through. it really does need a camisole, which i found a little distracting given the fact that it is already layered. i which i had ordered another color, because it is cute.',\n",
       "       'Saw this tunic on line and loved the color combo. tried it on at the store and found it to be true to size for me - i am a 34 dd, 5 ft 4 and the regular size 10 fit fine. i was curious to see if the petite size would fit best with the loops for the tie belt being a little higher, but none were available. still the regular 10 works well. excited to wear when the weather gets warmer like the model with white skinny or cropped jeans, and wearing it open as a duster with a tank or cami. seems very ve',\n",
       "       'This arrived this week and i was so disappointed. the proportions are all wrong--- from the empire waist to the dolman sleeves, to the weird texture added to the material. if i could sum up this jacket with one word it would be \"weird\".',\n",
       "       'I found it very thin and much more sheer than i expected. not sure i could get away with wearing it without a slip.sadly i will be returning it. also, runs a bit large. would have returned it for an xs if i loved it.',\n",
       "       \"Warning-- it is totally sheer so you will need to wear a tank under it or unless you're very confident in your mid-section you can wear a bandeau or just a bra. it is definitely a lounge/ leisure wear piece and great for layering if you want to wear it out. it is lightweight and perfect layer over a simple dress or top. i live in this over the weekends. i am a larger gal-- broader shoulder and purchased an xl. it is true to size and roomy.\",\n",
       "       'This is very cute. it is lined, it is smocked. it is longer on me than the model in the picture. i was a bit concerned about the short length but the skirt actually came to just above my knees, which works well for me. it might run a tad big because it is a pull of skirt. i look forward to wearing this light weight skirt on hot days his summer!!',\n",
       "       'I love these shorts, nice material, good fitting, and great look. i sized up, usually an 8 and i ordered a 10 based on others reviews and it was the right choice. these are a great casual short or dressed up with shoes and a nice shirt.',\n",
       "       'Love this top! super comfortable, great fit, and really pretty colors. probably going to buy it in multiple colors it fits so great.',\n",
       "       'I saw this dress and loved everything about it! i was so sad when i tried it on and it was just too big. they were out of the smaller size, so i had to return it. the dress is well made and the color is just a bit neon compared to the picture.',\n",
       "       'I ordered this top (black) in both small and medium; i can get usually away with small at retailer but am size medium in all other stores. as soon as i received the package and opened it up, i knew i would keep this top. it has a gorgeous texture to it, a slight sheen, and is well made. it is extremely comfortable as a t-shirt would be, but has more structure and looks very chic. the waist nips in just enough to give the flutter hem a little flare at the hips and is very feminine. i have a long tor',\n",
       "       'This is a wonderful one-piece swim suit! it is very flattering on, and the colors and design are just lovely. i also love the suit is vintage feel and that it is sexy without being overly revealing. i seldom pay full price for clothing, but this item is definitely worth every penny!!! i bought a size medium and it fit perfectly.',\n",
       "       'I run between an xs and s in most retailer shirts. i went with the xs in this one and was glad i did. the fit is lovely and flattering. i loved this shirt the second i put it on -- then went to order it in another color.',\n",
       "       'Love this top! it has a beautiful appliquã© that is reminiscent of many past retailer favorites. it is comfy, yet cute and fashionable.',\n",
       "       'I ordered this dress online but it turned out to be too small. i loved the color, fabric, and overall quality. i should have ordered one size up.',\n",
       "       'Not sure why this tunic dress is rated only 3 stars. i love it, as i do all coth & stone pieces. and it is cloth & stonw as another reviewer pointed out. the material is great and fit is tts except for the sleeves being just a bit tight. this dress does not run large as do some c&s pieces so don\\'t size down. i am 5\\'7\", 126 lbs and slender, and the m is perfect. if you have large or very muscular arms, this dress might not work for you. i plan to layer with a thin tee underneath, tights and boots',\n",
       "       'The fabric is flimsy and not substantial. i thought it ran a little small. i usually wear a large in this style, but it was too tight.',\n",
       "       \"I like this! the fabric is soft and a little less orange-looking than in the photo. i am usually a size 12 or 14 and the size l is very small on me - as in i'd have to lose a little weight for it to look normal on me. also, it is a bit annoying that you have to undo all the little buttons in the bodice to get it on and off when going to the bathroom. but otherwise it looks cute and even has pockets!\",\n",
       "       'The dress fit fine, with two exceptions. first, i am 5\\'1\", and i ordered a petite 4. the dress was dragging on the ground, so it would need hemming if i were keeping it. but the deal breaker was that the gathering of the outer fabric over the bust stuck out an inch beyond my 34d figure, which made me look like i had very oddly shaped nipples. i made the assumption that the dress i received was defective, so sent it back, but unfortunately, the replacement fit the same way. the lining fabric fit',\n",
       "       'This dress looks great with bright color, but size runs small.',\n",
       "       \"$78 for a pair of sweats seems like a lot of money, but not when you consider the amount of wear you will get out of these pants. they are thin and a little on the long side, but very flattering. plus, the thin material makes them perfect for summer nights. i love the pockets. not a big fan of the tie on the front, but that is just a personal preference. i won't just be wearing these on the weekend. i found lots of fun tops and jackets in my closet that will turn these pants into something i will b\",\n",
       "       'I love these tees, i ordered 2 of the map shirt. they are comfortable and stylish. i knew that i would wear it so much, so i bought a spare.',\n",
       "       'Maeve does not disappoint! unlike many of the tops and dresses which recently have been billowy, a bit shapeless, and not form-fitting, this hugs all the right curves. it is adorable, eye-catching and the pattern is so cute. i paired it with nude heels today and a jacket - so fun. just like the wynwood top in all 4 colors, the level of fun and playfulness is unmatched. it is tts. i am 5\\'4\" 115 and got the 2. thank you, retailer & thank you, maeve!',\n",
       "       'I wish his dress would have worked. it is beautiful!! however, the waist and bust runs very small. the bottom of the dress does flare out a bit but the waist is so tight that unless you are a stick, everything at your waist and hips will stick out.',\n",
       "       'Beautiful dress! i usually wear a size 4 regular, or a 6 petite (if the dress has sleeves). i ordered this in the 6p and it is too big. wish i could exchange it for a 4p, but it is no longer available.',\n",
       "       \"I ordered this in size xl. it fits true to size. it does have a boat neckline which runs a little tight on me. but, everything else feels comfortable. i know this isn't a flattering style. horizontal stripes on my plus-sized, pear-shape isn't my favorite. but, i love the back. the knot isn't very comfortable to lean against. i just love the lace in the back that i wear it when running short errands where i don't have to lean back a lot. it does need a tank underneath or it is see-through in the b\",\n",
       "       'I definitely like unique things, but the sleeves are way too much on this sweater.  it is a shame because it is so soft and comfortable, but overall i felt it looked somewhat silly on me.',\n",
       "       'This dress is the best of all worlds: sophisticated, modern, and flattering. i was surprised that the \"dress\" is actually two separate pieces: a navy blue slip and a bold magenta lace overlay, which will be perfect going into fall and the holiday season. i had two babies back-to-back and am not back to my pre-baby shape, but i was pleased to see how flattering this dress was. i will be wearing it to a wedding in a couple of weeks, and i know i will feel comfortable and confident in it.',\n",
       "       \"I have vowed to only purchase high-waisted bottoms from here on out because they are just more in line with my style! these shorts did not disappoint. i love that they're versatile enough to wear with a cute top + wedges or with a t-shirt and flats. great find! (i got my normal sz. 25 which is usually a tight fit, these zipped up perfectly though!)\",\n",
       "       'I do wish this came in a 30dd sizing, purchased he 32d and it fits, though the band is looser than desired. i am still keeping it. i love the back, will be great for some of my dresses ti used to wear strapless bras to wear. recommend.',\n",
       "       'I ordered this in the burgundy and am in love with the print and color, very feminine without being over the top.\\r\\ni am 5\\'4\", 123lbs, 34a and the 2 fit perfect. the cut is drapey without being maternity like and i appreciate that is it not as long and full as many of the other tops out there, making it easier to wear with some pants or skirts. it even has little snaps to hold your bra strap in place, although i doubt i would use those. this top is appropriate for any age without looking too girly',\n",
       "       \"This is such a cute summer tank to wear with capris or shorts. it is loose fitting and while i normally prefer the petite sizing at 5'1, i got the 00 since i liked the longer length. i purchased the wine and navy colors and the neckline isn't too deep at all. love it!\",\n",
       "       'This dress does indeed run large like the other reviewers mentioned, but it also runs small in the shoulders. i am 5\\'3\" and usually a size 6. the xs fit perfectly in the body, but was a little too small in the shoulders. i liked the dress enough to size up to a small to fit the shoulders, and then just had the sides taken in slightly. i did purchase this dress during the 20% off sale, so that helped justify the cost of alterations.',\n",
       "       'The color on this dress is absolutely gorgeous, the fabric is great, and the bow detail in the back makes the dress much more interesting. i also quite liked the length. (i am 5\\' 5\" and weigh about 132 and bought a 6 regular, which came to a couple of inches above my knee....not as short as it looks on the model.) overall style and aesthetic, i love. \\r\\n\\r\\nthe problem with this dress is the fit. i tried it on in the store, starting with an 8. too big, no problem. tried the 6, still a bit large (gap',\n",
       "       \"As soon as i saw this dress, i absolutely fell in love with it. when i got it, i noticed it was slightly small, but figured i could deal with it. i was packing for my vacation and tried it on again just last night and i noticed the bow is coming off the back. i could fix it, but honestly a dress shouldn't start falling apart before you even wear it. it is cut on the small side. wish i tried the larger one, but now it is sold out. and i was kind of disappointed there were no pockets as pictured. i\",\n",
       "       'Even though this shirt is incredibly thin, i love that i can wear it multiple ways throughout the year. it can be used as a swimsuit coverup, with white jeans in the summer, over skinny jeans and with a sweater in the fall/winter. this is a great piece to own!',\n",
       "       'Great dress for vacations!',\n",
       "       \"I wish it were easier to get in this dress. i am 5'4 with a 36d and i couldn't get it on. it is so pretty though.\",\n",
       "       \"I saw this online first and didn't care for it. then i saw it in-store and purchased it with little memory of the online experience, because the dress is that much better in person: it is (nearly) seasonless, looks great with fall boots, and has garnered many compliments. this is one of those that the internet can't really do justice to. i withhold a star for quality since the snap-in keeps for the slip were confusing (and maybe it is just the one i bought): one of the keeps was detached from the\",\n",
       "       'This top is lovely! i wanted so badly to make it work for me, but it is just too short and makes me look broad. i am 5\\' 11\" and have a long torso, and the keyhole where the tie is gapes (fixed that with two safety pins, though - and would have stitched it shut if i was keeping this lovely blouse).\\r\\n\\r\\nthe fact that i cannot lift my arms up without flashing my tummy to the world didn\\'t even deter me enough to return it.\\r\\n\\r\\nbut the overall fit was just boxy on me. it made me look larger overall. fo',\n",
       "       'I am 5\\' 7\" with an athletic build (small chest, small waist, muscular hips/thighs). this shirt just hangs on me and makes me look much larger than i am. i purchased a small, an extra small would be way too short. i could see how it works for fuller figured girls.',\n",
       "       \"I wanted to get a couple tops for date nights that went well with skinny jeans and this hit the mark! as mentioned before, this top is translucent and thus would recommend using a cami as well. however the embroidery is beautiful. i have not had it cleaned yet and thus cannot comment on the durability. can't wait to wear it out.\",\n",
       "       'This is an awesome blouse! it is well made. the fabric is thick and soft. it drapes beautifully. i love the tie at the top. i wish it came in other colors - other than the denim offered. i am 5\\'4\", 115 pounds, flat chested. the xs fit well.',\n",
       "       'Great jean! i will live in these this winter. so flattering, bum looks good, leg is slender and lengthening. perfect petite jean with a flared leg.',\n",
       "       'I love this sweater but i am on the fence about keeping it only because i haven\\'t figured out a way to layer and wear it. it really does appear best with a plain white top and jeans. i have tried it with several other things in my closet and just haven\\'t found another combination that sells it for me - i really like my pieces to be more versatile so i can mix and match them into other outfits. this piece is just enough of a \"statement\" that - for me - wearing it with more simple clothing staples is',\n",
       "       'This dress is so cute and comfy! i purchased it for my friend is wedding brunch celebration - perfect transitional piece!',\n",
       "       \"I purchased these bottoms with the matching peplum top in romantic floral. i also purchased the higher waisted bottoms just in case. \\r\\ni returned the higher bottoms and that is saying a lot. \\r\\ni have two sons and now struggle with fit in regard to two piece bathing suits. \\r\\nthe higher bottoms just didn't fit right and i didn't need the extra coverage because these fit so well and the peplum gives extra coverage, though not really necessary. \\r\\nthe others cut in a bit in the seat and hips and these\",\n",
       "       'I love the color, it has a lavender hue. it is slightly see-through, but breathes nicely and is very soft and comfortable. it falls long in the back and fits slim through the torso.',\n",
       "       'Love this top-that simple',\n",
       "       \"I love these jeans! i came on here to see if they were here on sale, and they are but alas, not in my size. i probably wear these three times per week - to work, going out with friends, all over. i got the gray and i would say the color on the site is true to how they look in person. i bought mine in the store and i will say that i have been on the fence about whether they're gray or purple but the site says gray. if you want a true gray that is a more blue-ish gray, then these are not it because\",\n",
       "       \"This dress is very pretty but only the bottom is lined. the top is completely see through and you would need to wear a tank or slip underneath. i wanted a dress i could just throw on and not have to layer so it didm't work for me. but if you don't mind layering or your bra peeking through, it is still a very beautiful dress. i am usually a petite in most things but this wasn't available in p so i ordered an xs. the length was good (not too long, not too short) but it was cut way too low for me. on\",\n",
       "       'Perfect length and colors. i get asked where i got it on the reg, every time i wear it. mostly a casual vibe with flat sandals...',\n",
       "       'This top has beautiful subtle metallic bits in the pattern. fell in love with the fabric. looks great with high-waist pants.',\n",
       "       'Great sweater - very pretty and warm. i would say it fits true to size, but the fit itself/style is just a little roomier - just like on the model. i usually take an xs and the xs fit great.\\nthe tag says to dry clean or hand wash in cold. i always wash my wool sweaters in cold water, in a garment bag, on delicate wash and have never had a problem.\\nbut, when i did that for this sweater, it shrunk to a size that would fit a 4 year old. the fabric in the arms stuck together, like velcro. very inter',\n",
       "       'High quality fabric and lots of bottom/ back coverage. also, it did not cut into my hips (which is fabulous!) ...so, if you\\'re looking for a little more coverage this is your bottom. i found it true to size...i am 5\\'8\" and 150 lbs and i got a size 8 :)',\n",
       "       'I just bought this jacket for my mom to take with her on a trip to europe. it is perfect! perfect packing piece that doesnt wrinkle and is a substantial enough weight to wear on chilly evenings. considering buying an additional one in my size...',\n",
       "       \"The other reviewers are right, this runs huge. why have a number of cute tops been running so large lately?! i am 5'1 and 100 lbs and was drowning in the xxs petite. it also almost reached my knees. i thought it'd be a cute little tunic to wear in the fall but it just looks ridiculous because of how large it is and how there is no taper or shape. maybe even order 2 sizes down. the quality is pretty good if you can make the sizing work for you.\",\n",
       "       'Love this top--the material is very soft and though this isn\\'t a thick tshirt, it holds its shape and supports the grommet detailing nicely. i am 5\\'7\", about 130, not busty, and got a small--fits great! the color is more of an off-rose/blush (has more of a brown tint than the photo shows).',\n",
       "       \"The print caught my eye. then i felt the breathable cotton fabric and had to try it on. i am only 5'2'' and have a small waist but sized 32dd bust with hips and have a hard time finding clothes that fit well.. this dress fit me perfectly! i have dressed it up and down and always get compliments. this dress was on the pricey side but has turned out to be worth every penny.\",\n",
       "       'This is a beautiful dress with gorgeous details but it is not as long as it appears in the photo. i am 5\\'9\"and ordered an xl. the dress comes just below my knees.',\n",
       "       'I purchased this jacket in my local store. size 10 and runs really small . i love the color combination and design but the fabric in my opinion is poor quality. i have seen a lot of retailer use this poly spun knit in so much of their items and the jacket after bringing it home and looking in the light was already showing pilling. looks like it is worn in an bad way. returned the next day. this was a big disappointment and every time i see this fabric being used in retailer clothes it makes me mad.',\n",
       "       \"Love this top! the color is very pretty, great for the holidays. i haven't washed it yet, but it says machine wash which is a plus for me.\",\n",
       "       'Really nice thick fabric, yet lays really nice. scarf included, love the poncho style. will get me throught the end of pregnancy and will look great after as well!',\n",
       "       'I ordered this in size xl. the fit is true to size. it fits me as it does on the model. the draping is very flattering. i am a pear-shape and this shape works well. it definitely needs a tank underneath. you could sew a bit of the top to keep it closed. otherwise, everything can show. i like using different colored tanks to pull out the colors in the pattern.\\r\\nthe quality of the material is outstanding. the print looks so much prettier in person. it is very vibrant. the photos online, at least on',\n",
       "       'I like this sweater. i bought it in small and medium because it was 25% off and i didn\\'t want my size to sell out. im keeping the small. im 5\\'5\" and 140 lbs and hourglass. the medium was way too much fabric. its still roomy in the small, but its lush looking and soft and will look pretty with jeans and high boots. i ordered the one in the beige as well but i think the lavender color is prettier in person. i think the beige may wash me out. hope this helps.',\n",
       "       'Get creative with the neckline or let it fall where ever. this is a purposefully slouchy, uber casual, super soft',\n",
       "       \"This top is amazing. it is a little stretchy but doesn't cling and it is surprisingly flattering on my curvy figure. i have a large chest and the shirt fits perfectly with or without a cami underneath. the material is very soft and the print is vibrant and fun. the shirt does run a little large. the only slight issue i have is that it is a little shorter than i usually like on my long torso. other than that, it is pretty much perfect.\",\n",
       "       'I love this top. the wine color is beautiful, the fabric is soft, the details are pretty, and it fits perfectly. it is long, and will likely look best with leggings or skinny pants and boots.',\n",
       "       'This dress is just too baggy overall. i am 5\\'6\" 140 lbs and a size small was so unflattering. i can\\'t go down in size because the waist detail will get too high on me. it was already a little high on the small.',\n",
       "       \"I walked into retailer today to buy 2 dishes for a registry. $$$ later i walked out with this dress (and another, ugh). it is so beautiful in person. it ever-so-slightly flares out and it definitely has that 70s feel. i got it in white and plan on wearing it for my rehearsal dinner with tan platforms and a flower crown. for reference: 5'7/got some hips and thighs/148lbs - and i got a medium. would have gotten the small but it was slightly shorter.\",\n",
       "       \"These are the perfect pants for the hourglass figure, i needed sz 4 but the store was sold out in my sz plan to order . these pants are light weight and fit in all the right spots , don't show any flaws on legs and i do have them ,but they are very complimentary to my figure . they are also really hip without being over the top or weird.\",\n",
       "       'I bought this yesterday in store - i agree it runs large and sizing down keeps it from swallowing you.  i typically wear a large and went with a medium.  love the grey color - it will make a nice neutral.  am looking forward to wearing this well into fall/winter as i am in the south where it takes a while to get cold.',\n",
       "       'I love this vest! it is a great color and the inside is very soft! i will definitely be able to dress it up or down.\\r\\nif you are in between sizes i would definitely size up if you plan on wearing this with a little heavier turtleneck/blouse underneath.\\r\\nit is amazing! i feel so confident in it!',\n",
       "       'The design is cute, but there is way too much fabric in the lower part of the shirt. also, the fabric for the lower part crumples easily. unless you carry around an iron, you may not want to wear it outside the house. i kept the shirt to wear around the house.',\n",
       "       'So lovely.  perfect print / graphic.  want to buy in both colors but the yellow is perfection.',\n",
       "       'This shirt is versatile for work and fun. my sister has this shirt and thought it was so cute, i ordered it too.',\n",
       "       'I love the neckline with the pleated ruffles and tie. it is graceful and distinctive yet still understated.',\n",
       "       'I purchased this sweater in red, it is a deep, rich color and although i usually opt for black, you can see the beautiful details on this sweater much better in the red. i love this item!',\n",
       "       'I have this in both the black and red. great design. very flattering and soft. the red is the perfect color. will get a lot of west from these for many years.',\n",
       "       'I am very surprised by the low reviews of this dress. this dress is obviously a very loose fitting style. it is a bit of a man repellar dress.the quality of the fabric is beautiful and the pattern stunning. i find the loose flowy style liberating and comfortable. i love it with otk boots and tights for winter but also planning to wear with sandals in spring. i am 125lbs and purchased the petite small.',\n",
       "       'Cute, simple top that completes an outfit all on it is own. it is pricey but i finally took the plunge and bought it.',\n",
       "       'I love that retailerpolgie has petite sizes now. i am 5\\'4\" and 115lbs. i bought the 0p and it fits perfectly. the dress is very cute and the colors are a way to transition into fall when its still warm out.',\n",
       "       'This dress is so soft and comfortable. i love shift dresses and find them flattering. this one did not disappoint in that area. it is long enough for work and hits just above my knee. finally, the colors are great. the shades of blue, muted red and peachy pink are lovely.',\n",
       "       'I wear this top with jeans or cords. i allways get compliments. it is comfortable and versatile. go down a size!',\n",
       "       'I cannot say enough about these chinos. i hope retailer will keep them around for a long time despite the news that says retailer is going the way of jcrew. these pants are more stylish and comfortable than any other chinos i have owned. i am a teacher and being comfortable and stylish at the same time is important. i am a 10 to 12 and a 30 fits me fine. please please retailer keep making these every season in fun colors!!!',\n",
       "       \"These pants are a life saver. i love to travel with them and have washed them in a hotel sink, rolled in a towel, and hung dry with good results. picro does not usually fit me well, these pants are the exception. i am 5'6 and if i uncuff them they can be worn as regular length. great for a baseball game!\\ni will panic if retailer ever changes or discontinues them!!!!\",\n",
       "       'I have three pairs of these, so i must like them. the fabric is soft and comfy right from the start. i think they might run just a bit large or small depending on the color you get. i tried on a pair of pink ones in a 29 in the store. i wanted the moss color, so i had to order that and decided to order my usual size (30). they fit pretty much like the 29 is in the pink. but this fabric stretches, so i am happy with them. they\\'re not too \"boyfriend-y\"\", so not sloppy, and you could dress them up wi',\n",
       "       'I purchased this in the gold in-store. when i got home and saw it also came in turquoise, i ordered those right away as well. the fit is amazing. the pants are very slimming without being tight. they are a comfortable and flattering pant. i really love the colors and will probably snag another pair or two when able. these are a great pant to dress up or just look snappy casual in. they are a great versatile pant. i normally wear a size 8 and weight 155. the 29 fit perfectly.',\n",
       "       'Bought this in the green because i thought it was a bit different. it is super flattering and the fabric is so soft and comfortable. i have it in an xs and a s and haven\\'t yet decided which i am keeping as they both work. i am 5\\'4\" and 116#. going to wear it on an upcoming trip and i think i will get a lot of use out of it during the rest of the summer into the early fall. i saw the black too and am tempted to buy that as well. have i mentioned i love this dress?',\n",
       "       'I bought the yellow pair on vacation last week and loved them! i wore them home on the plane and had a pony tail holder in my pocket (basic goody binder), and there is a circle stain where the binder was! so strange! i sprayed them with spray and wash and washed them. the stain is still there and now it is discolored in the area i treated them! they are ruined! i am so disappointed and i only got one wear out of them!',\n",
       "       'These pants are great! the color is beautiful & the fabric super soft. fit is slimmer than expected, but sill nice.',\n",
       "       'My favorite pants! they do run slightly large so i sized down. i have 3 colors and will continue to add more!',\n",
       "       \"I have been looking at these online for a while now, and couldn't decide if they'd fit me or not. i have large, muscular thighs and pants always run tight. when i was in the store today i decided to try them on anyway, and boy am i glad i did. the fabric is super soft, as everyone else mentions, and they are nice and loose, but also look like ankle pants. i actually sized down! (who doesn't love it when they get to do that?!) i loved the way they fit so much, i bought two pairs. i love the pastel\",\n",
       "       \"I am now on my third pair of these pilcro hyphen chinos...they fit my body type well, which is pear-shaped. they are super comfy, relaxed, and my go to pant. i love that they are a pop of color with what i am wearing vs just a normal jean. i can't say enough about these pants...\",\n",
       "       'How i did not notice this dress for weeks i do not know. this is absolutely the best casual dress i have ever had the pleasure of owning and i hope my future includes acquiring the other sold out colors. i was fortunate enough to buy the holly in m and taupe in mp and they both fit well and look flattering on my unproportioned body. this dress goes well with many layers or on its own and is going to work for at least three seasons in my area. the drape of the willa complements my over large upper',\n",
       "       'Comfy. i bought the moss color i really like it. great causal pant for spring and summer',\n",
       "       'I love the feel and quality of these pants, however, they ran super big! they would not stay up around my waist, unfortunately.',\n",
       "       \"Adorable suit, super cute print and great quality, but unfortunately not as flattering as other reviewers noted. i found that the white pattern accentuated the wrong areas and the ruffle feature was a bit over-the-top. the straps are also very thin and didn't offer too much support.\",\n",
       "       'Overall, i thought this was a very pretty blouse. i loved the colors and the design. the construction seemed good. others mentioned that it ran large, but i am tall and often struggle with the shoulders and arms, so i purchase my normal size small. i believe it is the width in my shoulders that caused the blouse to hang funny - you could see a decent amount of the back fabric hanging around the front sides, which looked odd. it made the front fabric look like it was cut at an angle. (i am not br',\n",
       "       'This is an amazing dress. beautiful fabric and color. comfortable too. it is like wearing air. sorta chameleon like because this print  literally goes with anything and looks unforgettable on. it is slimming too. i got the large and it flows so nicely over my body. the back is completely open. it closes with a tie at the neck and the waist that drapes beautifully and looks great from the side view. the fabric is a bit sheer so i ordered the white cotton slip by this designer, which is slightly snu',\n",
       "       \"This dress truly is a work of art and i am becoming a little obsessed with byron lars' clothing line. this is my 3rd dress by him and i have been a size 2 in the other dresses. the 2 does fit in this dress but it is a little snug. not sure if a 4 would look as good because it is meant to be form fitting. the panels trick the eye into making you look thinner too. my dimensions 32c,26,33. it fits perfectly in the hips and waist but is tight on top.\",\n",
       "       'This cute dress was very nice on. however my only reservations were the thickness in the arm sleeves. the dress has this thick curtain like material on the sleeves that seemed to big and cut way to wide for my skinny arms. i thought about bringing this to the tailor but i feel it would be a lot of work and the bulkiness of the arms would just be the same.\\n\\nother than that the colors and dress are beautiful.',\n",
       "       'I saw a lady trying this on in the store and fell in love with sweater. picture does not do it justice! there is so much detail. my usual size is small and it fit perfect. well worth price.',\n",
       "       'I have this sweater in ivory and raspberry. it is gorgeous. holds up well on had wash cycle also. it is so flattering. i am so so happy i bought theses. i am 5\\'8\", athletic build and a normal medium, this runs large. i bough smalls.',\n",
       "       'Love it, super cute, super comfortable. watch those bra straps!',\n",
       "       'This shirt is really quite cute. it can be dressed up or down depending on the occasion. it is also forgiving and quite flattering. my only concern is that it is a bit see through in certain lighting but it is very subtle. i definitely would recommend.',\n",
       "       \"This has a lot of extra fabric in the chest area. i was hoping i could button and close that in a way that didn't just have it jutting out. luckily, it is still flattering. definitely bulky. and in the black, it is picking up lots of dust and lint. still a great cut and look, so i am happy with it overall.\",\n",
       "       \"Beautiful color and softness, very warm, but the front is way too much material. it just wasn't flattering the way i wanted it to be. perhaps on a taller woman this would work.\",\n",
       "       'When i tried this top on, i started laughing. the two rows of ruffles are made of a starchy thick cotton, which, instead of falling by the hips, juts out like wings. it is also huge. cute idea, wrong material and placement.',\n",
       "       'Whoa! these are very high-waisted. but i think i like it! this is a very 70s style with the high waist and wide legs. the brown motif is kinda funky! i am a 70s/vintage lover though, so i was pleasantly surprised. the tall length is more than adequately long for my 6\\'2\" frame. i may need to take them up a little bit, in fact.',\n",
       "       \"Loved the color! loved the scallops! wish i loved it on me. the poplin fabric is very structured, which doesn't lend to a nice drape. the bottom hem was a little small for my curvy hips, so the top rode up a bit on me. looks lovely on a straighter figure, but wasn't amazing for me.\",\n",
       "       'I tried this on today and it was awesome! great color, great fit, thin summer material but not too thin that it was see through. the slits added a really nice design to this dress, very slimming. my problem is the deep v in the front. for small busted women this might be a deal killer. for me in the xs the v hung even below my boobs, no cami could fix that. unfortunately, cloth and stone tend to make their shirts and dresses with too deep a v, it is always disappointing for me because i love thei',\n",
       "       'I ordered an xxs online and it is still massive. the only thing i can use it for is a beach coverup. the embroidery is pretty but i will be returning.',\n",
       "       \"I ordered these in a xxs, a little nervous about them being too small, and i was very pleased with the fit. for reference, i am 5'2, 98lbs. these are great for all seasons, the lining is warm, yet adds a pop of color when cuffed. the crowns on the birds are pretty nifty!\",\n",
       "       \"This dress fits really cute. i actually think it is cuter in person than on the site. really flattering. the skirt hits a few inches longer on me than it does on the model, so it is appropriate for work and networking functions. i am 5'3, 110lbs. i got the 0 and it is great!\",\n",
       "       'I had been looking for an off the shoulder top (or open shoulder) as the trend is really in right now, but that proves more difficult for me (muscular traps and shoulders, not always flattering)... anyway, i decided to order this ( i saw it paired with a wide-leg jeans, tucked in)... that is how i like it... tucked in. it is otherwise a little boxy on me (wide shoulders means the whole thing shifts out. the fabric si a tiny bit wrinkle-prone, but not too badly. both colors are nice, but thought',\n",
       "       'This tunic is flattering and high quality, just be sure you size down!',\n",
       "       'This dress is as comfortable as it is adorable. i am 6\\'2\" and usually wear 12/14 but the 10 fit me. love, love, love this dress!!',\n",
       "       \"This dress is lovely and easy to wear if you are short and you buy regular size (not petite). i am 5'1 and i bought the regular medium so the length of the front falls just above my knees. i can wear it to work without leggings. the other thing i love is it has pockets! and it fits generously - i weigh 140 lbs and will usually fit in a medium (if i don't breathe) and a large (if i use a belt). but in this size (medium regular - i can breathe! and i need a belt. ergo - i don't feel like i need to\",\n",
       "       'No complaints about this top. i like that it is very soft and the length is good as a tunic. would recommend.',\n",
       "       \"I was very patient with this dress. i was waiting almost forever till this dress gets on sale. when i tried my usual 6 size it was way too tight but i could zip it. ( i am 5'6'' 145 lbs). the dress covers my knees and it is a perfect length, so when i sit it does not show too much of my length so it is a work friendly. it has side pockets, which can be very comfortable as well. the cut is great, it is a line,the thickness of material makes belly look great (in case if you care). i also like color a\",\n",
       "       \"This skirt is a dream. so so beautiful. looks way cute with brown boots. give this a go. don't listen to any negative review. this skirt is perfection.\",\n",
       "       'Very small! so disappointed! they did not even have a size for me to exchange a day later when they arrived!',\n",
       "       'I purchased this in the light red, and love it!!! this top is so incredibly soft and ridiculously comfortable.  definitely worth buying.  the material is high quality and can easily shift from season to season.  wear alone with shorts and wedges for summer or put it over a long sleeve top,  or even a holding horses jean shirt with a pair of black leggings and boots for fall.  \\r\\nabsolutely love the softness and the consistency of the fabric.',\n",
       "       \"Love this shirt. i have it in black.  i have a larger chest, but i don't feel like the seams hit me wrong.  this is super cute and swingy.  i however think the price is way too high for a think cotton tee.\",\n",
       "       \"I get a ton of compliments on this. cute and comfortable. you can't go wrong.\",\n",
       "       \"In love! just wow. beautiful colors although they're dark you can still see all the variations. the flannel is light and not too heavy. there is visible black lace just below the shoulder. pretty buttons. ordered the large, my normal size and it is a perfect fit. roomy but not oversized. so well made i think this will be a favorite for years.\",\n",
       "       'I am 5\\'5\" normally about 120lb, but i am about 145lb now at 9 months prego. i purchased the small. i can\\'t resist buying retailer clothes, even though they might not fit me currently! however, because this shirt is drapey, it actually fits over my baby bump now and it will be perfect as a nursing shirt and then regular shirt later. it is so soft and great quality. will be cute dressed up for work or down with jeans!',\n",
       "       'Ahhh, i should have listened to previous reviews. indeed, this top runs very large. style wise, it is ok. i would say you could do much better at retailer.',\n",
       "       'Very cute and true to size if not just a little large up top.',\n",
       "       \"After reading the previous reviews i thought sizing down would be a great idea. as soon as i pulled it out of the bag i knew that the xs/s was still wayyy too big. for reference i am 5'3 and a 34ddd and usually wear an 8 but this thing was enormous. it was shapeless and boxy but done so horribly it looked like i was pregnant. it has an adjustable draw string at the bottom which helps to make you look like a balloon. such a disappointment. the design was lovely and it looked very high quality and\",\n",
       "       'I find this romper looks much more crisp on the picure than in real life. i find it more slouchier and shapeless even though i went with my \"smaller size\". the material is very soft, but thin, that is maybe the reason. i am not sure if i am going to keep. i wanted a bit more stunning look for my money. not saying this might be a great romper for somebody else however',\n",
       "       'This coat looks great, but the fabric is thin--only partly wool. the snaps also don&amp;amp;#39;t stay shut very well; i&amp;amp;#39;ll probably add a hook-and-eye closure for security. despite its flaws, it looks good enough that it&amp;amp;#39;s a keeper (when purchased on-sale).',\n",
       "       'This dress is comfortable and a great go to dress to wear to work and then after for drinks with friends.',\n",
       "       'I like the unique design and it is warm and cozy. i wear a medium 95% of the time, but had to exchange this for a small, but the sleeves are still long enough. it sheds a bit, but i am guessing it will slow over time.',\n",
       "       'Loved this from the minute i saw it in an email. i got the blue grey in a medium. i am 5\\'4\", 140. it is a little roomy but will be nice over sweaters too. i love the cropped length. really well made.',\n",
       "       'Gorgeous color and fit, but fabric is not great. i ordered this to wear with leggings and booties. i returned as i could tell it would get baggy in the elbows and rear end. just not a good fabric. bummer!!!!',\n",
       "       \"This sweater was just what i was looking for.  it is so soft & comfortable.  the design is unique and delicate, yet doesn't shed or itch.  the decorations are not as pure white as pictured, there are several different tones of ivories & creams.  i ordered the xs, which is my typical size in retailer sweaters, as i find that most run very large and this is no exception.  it is oversize, but not bulky.  however, the decorations do add some volume, so maybe not for all body types.\",\n",
       "       \"I love this slip.. i am contemplating whether i can pass it off as a dress over the summer. the skirt is a subtle shinier grey than the top. it is flattering with or without a bra and i am not usually the type to go without. i am 5'3, 32c and the xs fits perfectly! also i think it looks better in person.\",\n",
       "       'I tried these on in store and purchased them in the chocolate brown as the fit was perfect! i am 5\\' 8\" and weigh 145 pounds with an approximate 10\" difference between hips and waist. the size 27 fit perfectly. i was surprised that they did not wrinkle terribly as they are linen. they withstood wear during a very active day and still looked great by evening. they wash well and only needed a quick touch up with the iron. i liked them so well that i ordered a second pair in grey!',\n",
       "       'This sweater came in just as expected . . . adorable. as others have said, it is soft and comfy. i will wear it everywhere (including work). i love it! :)',\n",
       "       \"This blouse is a disappointment! it runs so large, it looks ridiculous. the cute is super wide and flared. they must have it pinned on the model. it is not flattering at all. i really thought this could be cute. not worth the money either! it is expensive and ill-fitting. for reference i am 5'3 and 123lbs and wear a 2 or 4.\",\n",
       "       'I really like this sweater. i would suggest ordering a size up. i could had worn my normal size but a size up was much more comfortable. i have a burnt orange skirt that i wear with this and it makes the flowers pop.',\n",
       "       'I love this off the shoulder top. it is so flattering  and the  colors are gorgeous. i normally wear a small or medium in retailer tops, i am wearing an extra small in this one, and it fits great. i am only 5 1\" tall so the length hits me perfectly.',\n",
       "       'I love this dress so much, very detailed and comfortable. looks great with the pilcro vest.',\n",
       "       \"I tried on the xs in store (would need xxs i think, it is short enough to not need petite). anyway, the neck part was really bunching up on me (between neck and girls), it wasn't flattering. the rest of the tank is really pretty and flattering though, but the bunching was enough for me to leave it behind. the fabric is soft, and the color is nice warm neutral. i love the lace back with the subtle layer of satiny looking fabric. overall goo, perhaps i don't have the right shoulder shape fr this.\",\n",
       "       'This is so soft and really cute. would be a good bathing suit cover- must wear a cami under it.',\n",
       "       \"This is a heavier weight shirt. it is fitted through the bust and shoulders and very loose below so, if you don't like loose fitting clothes, this is not for you. it is well made and looks cute with jeans.\",\n",
       "       'Love the sleeves - good length and fit. it is a basic tee that has added flare.',\n",
       "       \"I was on the fence about ordering this jacket, but i am so glad i did. i got my birthday discount to help afford it. as the first reviewer said, the weight is substantial, but not too heavy, and the embroidery is beautiful! i have not worn this jacket yet, but i expect to get many compliments when i do! i usually don't wear jackets in this style, so it is a fresh, new approach for me....the embroidery takes it to the next level! it fits true to size. i usually take a medium, and the medium fits pe\",\n",
       "       \"These would have been the perfect black pants! great cut, love the wide band in the front, true to size, quality construction. but a zipper in the back?!!! i had to ask my husband to help me zip them up. perhaps they would be easier to put on if my bum were a little smaller, but the pants fit perfectly - they were just too hard to put on. sending them back, since i don't have an assistant to zip them up whenever i need.\",\n",
       "       \"I like these pants a lot. got one pair in black\\nand one pair in holly. the green holly are just a perfect green, so nice for the season. they are very comfy and feel right all day without any sagging.\\ni highly recommend and would buy more if they weren't on the pricier side.\\noh and great for causal but also dresses up nicely with some heels and a silk blouse\",\n",
       "       'Loved the version of this loc top that retailer carried two years ago (or was it three?). was thrilled to see what looked like the same top and was called the same name ... but it is just not the same. length is too short, body is too wide, and even the fabric seems to be lower quality. disappointing, but i still bought more than one color.',\n",
       "       'Love, love, love. i have both colors and wear with leggings. it is not a heavy sweater and has a great drape, super flattering. i am usually a medium and it runs true to size - not supposed to be tight. i find it a little low in the front,but a tank underneath takes of it. washes well.',\n",
       "       'The pics online for this dress are horrible in comparison how stunning this dress is in person.\\r\\njust received it and far exceeded my wildest expectations!\\r\\nit is elegant, classy, and an understated sexy!\\r\\nthe colors are rich and vibrant.......gorgeous shades of plum and blue....a unique color combination that is gorgeous!\\r\\nthe open mess dress with the solid under layer is a wow!\\r\\nbeautiful and flattering fit.\\r\\nit is a 10 !!!!\\r\\ni ordered my usual size and i would say it is true to size, but slig',\n",
       "       'I love cotton fabric, so i was very excited to find this shirt in gorgeous fall colors. i have the dark red/burnt orange color, and it is pretty. but i have worn the thing once, and today when i put it on again, i found 2 holes on the front of the shirt. so disappointed.',\n",
       "       'Lovely dress and looks great on me but with just my second time wearing this dress and reaching across my desk to pick something up i feel the elastic waistband snap. this dress is definitely my size and i have felt no tightness or discomfort in the midsection. i have bought cheaper clothes with better elastic waistbands and had them for years. now i will spend the rest of my day looking like i am wearing an orange sack. i am not pleased.',\n",
       "       'This dress is perfect for the summer, very lightweight, has pockets and not to short lounging around. it is loose fitting, so i normally wear a size 10 or m and 5\\'6\" tall, but had to order this dress in a s. the small fits me perfectly.',\n",
       "       'I liked this dress so much in the store - but didn\\'t have it in my size - so had it shipped (and yes, paid shipping costs...) but it just didn\\'t work on my body. the top is sort of poofy for lack of a better word - it made me look kind of poofy all over and really - i am not poofy! \\r\\nit is a lovely color - and might look terrific on a tall woman - but at 5\\'3\" - not so good - had to return, sadly.',\n",
       "       'I love this cardigan, it is very soft, and unique (i am a sucker for polka dots). i tried on my usual size (xs) and it fit. i wish they did have it in petite, however. added this one to my wish list :-)\\n\\nsoft, versatile.',\n",
       "       \"I purchased this on one of retailer is 40% off sales, and got it for a great price. if you're looking for a pretty, comfortable t-shirt that is a little beyond the basic, this fits the bill. unfortunately the neckline was just a tad wide for me in the xs. i felt like it might show a peek of my bra, and when i adjusted it higher, the soft, stretchy material showed bra lines underneath. that issue, and the fact that the shirt is on the flowy side made it less-than-flattering for my small frame, but i\",\n",
       "       \"A successful first date sweater. the cut is flowy so don't expect snug. the quality is average for retailer sweaters, i guess nothing will ever be pill-free? the detailing at the bust reveals a little of what lies beneath, which in my case was just a bra but in more conservative environs might have to be a camisole.\",\n",
       "       \"I was very impressed upon receiving this dress. i am 5'3, 102lbs and ordered xs. fit perfect. i am also a 32dd, so if you are smaller than a d or big c, the top portion might be a little big for you. love how it is lined so you could technically wear without a bra. i bought the tangerine and have gotten many complements.\",\n",
       "       'I am a shorter woman (5\\'3\") and typically a size large. i purchased this dress in a large. it is flattering and fits well. good length as well.',\n",
       "       'This shirt was a little shorter than i hoped but definitely too boxy if i had ordered up in size. i ordered xs based on reviews i usually wear a s. it looks great with higher rise jeans or dress pants.',\n",
       "       \"Fits perfectly! i don't think this is too long and i am a shorty. great style -- wish it came in more colors - i would definitely buy again!\",\n",
       "       'This is a fantastic sweater--really soft, great details. but it is huge. i am generally between an xs and a s at retailer, and most always an xs with pure + good. but this time even the xs is huge! i wish they offered this one in an xxs. i love it so much that i may keep it anyway? it is really comfortable and i love the style. looks decent with my arms down (like the model is pose), but when my arms are lifted out to either side, it really looks huge. i will have to think on this one.',\n",
       "       \"I ordered this in a l online, and wasn't a fan when i received it. the colors are pretty bright, but they also look cheap in my opinion. it also had an awkward fit, because of the material there is no give at all, it was really tight on my chest (36d) for reference. and it was also pretty short, and i am short! it barely hit the top of my pants...and i am 5'2! back it went.\",\n",
       "       'If you are self conscious about your arms and want a tee that has style then this is the one. soft fabric with a flutter sleeve makes this top so flattering. i purchased the turquoise and will purchase other colors. it is flowy comfortable and a must have!',\n",
       "       'These pants are great, super cute and comfy. the price is too high but i do love them.',\n",
       "       'Love this, it is a great update your basic tee!',\n",
       "       'It does run large. i got it on sale and it is a great sweater / coat for $200.00. i would not have paid the full price of 450.00 but i do love it. every time i wear it someone complements me.',\n",
       "       'I am so glad that wide leg pants are coming back! i love this style - so flattering! the color on these (blue) is rich and unique and the fit is exactly what i was hoping for. i wanted them loose and low waisted and they are perfect. i am 5\\'4\" 122 lbs and ordered 27 petite. the length (listed at 30\") is spot-on with flats, no tailoring needed. i previously ordered these in white in 27 r. they also are good but a little too loose and will need hemming. def. recommend and hope retailer keeps this st',\n",
       "       'These culottes are fun. i bought the neutral color with the black stripes in xs. in my opinion, they run big. i am usually a small (4-6), 31\" waist, 38\" hips. pleats at the hip and low waist area are not always my friend, but with a longer tank or shirt, they looked fine. the fabric moves in a graceful way and these culottes can be dressed up or down. so far, wrinkling isn\\'t a huge problem but we will see. i am 5\\' 9\" tall and these fall about the same place on the model--mid calf. they looked grea',\n",
       "       'Overall: a super comfy dress that you can wear anywhere. short, petite ladies beware though; the dress does not hang at your natural waist like it shows in the model is photos. in order for me to have it sit at my waist, the dress was folded over and did not flatter.',\n",
       "       \"Fit was very tts.  it looks more lightweight in the photo than it is in person, it is a fairly medium weight sweater.  i am 5'8 and curvy, and it is nowhere near as long on me in the front as it is on the model.  i still liked the look, mostly because of the look from the back of the shirt.\",\n",
       "       'I loved this dress after seeing it online.it is a pullover dress, and is easy to get on. my major problem with the dress is that the waist is extremely high (about 3 inches over my natural waist), and i usually have no problem with the placement of the waist in dresses. i am going to keep the dress because i like everything else about it: the fit is flattering and the dress will be seasonless here in california. i\"ll search for a wide belt to cover the waistline, or perhaps skip a belt altogether',\n",
       "       \"I got two of the shirt am totally in love with them. i didn't get the one in black only because i have too many things in black. the shirts look awesome with leggings or skinny jeans. i am very happy with this purchase!!!\",\n",
       "       'They fit snug and accentuate all the right curves. they could be shorter. the lace up sides are interesting, but i might sacrifice the lace ups for making them shorter. actually they are cuter on in person than in this photo.',\n",
       "       \"I bought this in size xl in the moss color. it fits true to size. it is very comfortable--the fabric is soft. i love the draping of this top. i am a pear-shape and this type of cut is my favorite. the moss color looks black online but is really a dark forest green. i'd love to see this top made in other colors.\",\n",
       "       'Received today, the fit is true to size quality fabric beautiful color. will go with so many things!',\n",
       "       'This dress is gorgeous, but if you have a larger bust size, i would not recommend it. unfortunately, it was not available in any nearby stores and i had to order online. the low cut looks cute on the model but realistically with a chest it ends up looking a bit too revealing. i am bummed because the dress really is beautiful!!',\n",
       "       'This is a great dress, i feel like it hides any imperfect spots including some armpit fat or belly fat. i have gotten several compliments on this dress because the stitching for the flowers is very high quality!',\n",
       "       \"I am curvy and this top, while stylish and i love the pockets, just didn't do it for me. it made my shoulders look wider than they are, which is a big no no. it would probably look better on someone with smaller shoulders or slimmer. the wool was also a tad itchy - not too itchy, just a bit. in general i don't wear wool without cashmere, i also don't wear non-italian wool because it is a bit rough and my skin reacts to it. so i stick to wool cashmere blend or loro piana soft wool. this sweater s\",\n",
       "       'I love this skirt so much. it is so comfortable and flattering. the button design along the sides is adorable. it is got a liner inside the skirt that ensures that it is not see-through in anyway. it is a great buy.',\n",
       "       'Love this dress. i think i scored the deal of the year with this one. found it in my local retailer store. it had been in my \"save for later\" forever but i couldn\\'t bring myself to pay full price... then it sold out in my size online. i was in my local store browsing the new items on sale with the additional 40% off, and there it was 1, and only 1. and my size.... i picked it up, noticed the cut outs that are not very apparent in the online photos, but it back, picked it back up, put it back.....',\n",
       "       'This sweater looks great with chambray colored denim. i wear it with jeans, shift dresses and even leggings. definitely one of my go to sweaters for the fall.',\n",
       "       \"I am. 5'2 and based on other reviewer is input, i went with a regular rather than petite and the length works well. the top is cute, but it billows out around the waist which isn't apparent on the model. other reviews mentioned that so i bought it anyway with that information and it is fine if you expect that. i am a 34dd and find it to be a bit tight in the bust.\",\n",
       "       'Originally bought the plaid version and retuned it to order this one in the store to get free shipping. the fit is completely different. i am a consistent small, particularly in dresses of this style. will be exchanging this for a medium, which i hope will fit. love the color and pattern.',\n",
       "       'I found the fit of this dress odd. i typically wear a 6 or 8 in dresses. the 6 fit across the chest but the armholes were large so wearing a bra would be a challenge. i am a 34c so i need some type of support. i also thought the fabric was a bit flimsy for the price. i am a huge retailer fan and usually leave glowing reviews but sadly i left this one in the store.',\n",
       "       \"I saw this dress online and really wanted to love it... unfortunately it wasn't at all as expected in person.\\n\\nas the previous reviewer mentioned it is extremely itchy material, which was already pilling on many of the dresses displayed in the store. the neck was extremely tight; a problem i have never encountered with any retailer dress. additionally it seems to have a kangaroo pocket located right underneath the bust line, which protruded in an unflattering way. the pocket is not at all not\",\n",
       "       \"Wanted to like this type. cute print. something about the width and length of this top didn't work on me. was a little boxy. i am 5'4, 135lbs, size xs-s. might be cuter on different body type, i am hourglass and athletic.\",\n",
       "       'Bought this in xs petite - i am 5\\'2\", 102, it was too big, so took it to a tailor. altered it so that horizontal stitching at the bottom sits gently on my hips, rather than floating way out all around. it is now nice and flattering; i get tons of compliments. note that the fabric is more off white, than bright white; i bought it online thinking it would look good with white jeans - it actually looks best with blue jeans or navy shorts/pants. drapes nicely and doesn\\'t wrinkle. a win!',\n",
       "       'This blouse is perfect in so many ways: it is cotton, the fit is super flattering, the design is gorgeous. i never, and i mean never, wear red, but i made an exception here due to the exceptionally stunning embroidery. i know this will be comfortable this summer; the fit is slightly loose, so the air can flow. the cotton is light but not thin, no cami needed. a medium size fits me very well; i am size 8/medium top, 34f, 130#. i love that the armholes are high and hide any flaws. the button design',\n",
       "       'My new favorite piece of loungewear. super cute and comfortable.',\n",
       "       'If you are going for a ridiculously high priced ugly sweater contest, this is the one for you. i normally like clothing with some character and juxtaposition, but this one did not do it for me. i cannot imagine the collar fitting right or flattering anyone, and the mixed layers end up making it look cheap rather than trendy.',\n",
       "       'Dress it up or go casual - this dress has it all. well made and comfortable where other \"lace\" rubs the wrong way under arms - this is super soft. cant wait to pair different shoe colors and jewelry.',\n",
       "       'This sweet dress is perfect for fall and spring because the knit is not too thick, the drape allows layers and the colors are very versatile.  the style is loose if you stay tts but will be a slimmer fit if you size down.  if your body habitus is super slender, definitely size down.  the liner slip is soft and the back side of the knit is a bit scratchy.  i think this dress is beautiful and best of all, forgiving.  i am happy to have tried both colors--the problem is picking which one to keep!  m',\n",
       "       'This is a cute,somewhat dressy top-- it has a bit of a sheen, ties on the sides, and a zipper down the back. it will go great with pants or skirts. the fit, though, is huge-- i am normally an 8, but i got this in a 4! machine-washable even though it says \"dry clean.\" if it doesn\\'t say \"dry clean only,\" you can wash it.',\n",
       "       'I ordered this skirt in my usual xs. when it arrived it looked tiny. the xs was almost impossible to get on. i ended up returning the xs for a medium, which fit perfectly (and is work appropriate). my measurements are 5\\'6\" and 125. my recommendation would size up two sizes.',\n",
       "       'A nice rayon peasant shirt - like the sleeve length. good for a fuller figure, covers all the bad sports and very comfortable.',\n",
       "       'I thought that this dress would be perfect for my 60th birthday, however i was disappointed when i received it. it is extremely heavy from the beading and i just did not find it pretty in person. it did nothing for me. also, it runs small and was tight.',\n",
       "       \"I read other reviews that there was extra fabric in the stomach area and knew it'd be perfect for me to wear to a wedding at 20 weeks pregnant. and it was! i got tons of compliments. it accented my baby bump perfectly, fitted but not too tight.  the pleats at the top create a nice shape for the bump. very comfortable for an outdoor wedding. my only complaint is that the armholes are rather tight. after pregnancy i will try belting the dress.\",\n",
       "       \"This has been my go to top for cooler days, so comfortable and soft. i would say it runs tts with a little bit of a lose fit. i am 5'10, 36c and usually wear s and the s fit me well. i could have gone down in size, but liked this to be a bit loser to wear over skinny jeans and leggings.\",\n",
       "       'These are very soft and fit well. at first i was a bit put off on the stone wash of the fabric; each pair is different. but it adds character and given the color and the soft fabric, it is a nice difference. i love the pockets, they are deep enough for anything you want to put into them. i love good deep pockets and my cell fits nice into my back pocket. take notice makers of woman is pants, there are some of us who *like* deep pockets!\\r\\n\\r\\nonly one negative... i have noticed hei-hei is not sewing',\n",
       "       'The first time i wore it, felt wonderful. had it cleaned and then the back end stated pilling. very disappointed with the price and quality. wish i could return for my money back. sad',\n",
       "       'I am 135 and went with a size zero. it was very cute on but a little tight on my hips when sitting. the fabric is beautiful, and very soft and silky. the length was great, comes to just barely above my knees and is long in the back. great work outfit.',\n",
       "       'I really like this top. bought it in \"purple\" but i would not call it that. it is more maroon or burgundy. color is exactly what it shows in the online photo. really like the green also. crocheted arms are super. i found it ran slightly small, so if you are between sizes, order up. one slight personal problem for me is that there is cashmere in it and i live in florida. even though we do get cooler weather here, i am not sure i will have that much chance to wear it; it will be too warm for me. t',\n",
       "       'This top is very nice, very pretty. i thought the design on the top is more shiny but it is embroidery-like threads. it looks quite nice but is very very short, like a crop top. it came just down to the top of my tummy. i wish it were longer, i would have kept it. but it is a nice top, flattering for curvy figures.',\n",
       "       'Fit is just like stet in my opinion.',\n",
       "       'I cannot speak more highly of these jeans! i am a standard size 2, 5\\'3\" and have never been able to purchase a pair of jeans and wear them right away. i *always* have to hem them by massive amounts. these jeans are so flattering, the wash is amazing. i have worn them with cute ballet flats and tall boots so far, but i think the possibilities are endless. i am petite but in a curvy way and i haven\\'t felt these great in a pair of jeans in so long. the wash is great for dress up/dress down. i have',\n",
       "       'This top is perfect!! i am small chested and it actually makes me look like i have a chest! plus for me!! it is also great for work and casual.',\n",
       "       'These pants are so fun! i use them to sleep in as they are see through. i had to size up as the waist band gave me muffin top. i normally wear a small and ended up getting the large.',\n",
       "       'I saw this dress in the retailer store and fell in love with it. tried it on, and even though i was wearing jeans and desert boots, the dress looked terrific! it is great, can obviously be dressed up or down, a wonderful addition to my wardrobe! thanks retailer!',\n",
       "       'This is not your basic white tee. the ruffle and seam down the front add visual interest. cute alone or paired with a sweater and statement necklace.',\n",
       "       'This skirt is amazing! it has the right amount of sparkle and the right amount of shape. i bought this in a size six which i can really switch between 6 and 8 depending but the six fits perfectly. i also bought the regular length even though i could probably be considered petite but it ended up being perfect. but the skirt is so lovely in person and has just enough wow that you can wear this thing with a simple tee and still look amazing. i wore this to a party with a black high neck tank and re',\n",
       "       'Much nicer in person -- the chunky knit reads more gray with black accents than \"blue\" as described here. there are lovely flecks of rust, blue, goldenrod, green throughout. super soft, stretchy; it is fine sizing down...otherwise the arm holes dip down very low. i am usually a size 4/small and xs was best for me (33\" bust, long torso, broad shoulders). i can see wearing another layer underneath when cold weather sets in.',\n",
       "       'This sweater has instantly become a favorite. it is incredibly soft, the detailing is delicate and feminine, and the fit is cozy and flattering. the body has a definitive swing cut while the arms are slim - though not tight. i find the loose body, slim arm combination to be very flattering and forgiving. run out and buy this now if you love anywhere where it gets cold, foggy or dark -- it is a guaranteed go-to!',\n",
       "       'I just bought this dress yesterday in the store and love it. i am 5\\'1\", 110#, 34b and purchased the 0p, which fits perfectly.\\r\\n\\r\\nit is made of a cool material and is lined which adds to the quality of the dress. i love the neutral print and the square v-neck makes it a little different than just an average dress. this dress can be dressed up or down, depending on accessories. it also makes a great work dress if you add a little cardigan or blazer. very versatile and a great buy, especially a the s',\n",
       "       \"This dress looks better in person. the shape is pretty much straight, but fits nicely even if you are curvier. it doesn't show your imperfections. the type blue and white color is nice, but a bit see through on the bottom and the slip is a little short. came to about mid thigh for me so i would wear leggings underneath. i don't think a belt would look good with this because of the shape and if you have curves. very cool summer style.\",\n",
       "       \"The material is soft and the pattern is pretty, but it fits like a sack. it is too bad that this wasn't more form-fitting, with some stretch and a zipper, because its fit is just not beautiful. for tall, very slender ladies, this will be pretty, as it is in the photo. it fit me just fine (with a little extra room on top), but it went right back into the bag without a thought.\",\n",
       "       'This sweater is flattering, fun, and practical. i wear to work and out at night to dressier functions. i bought both the green and black. both are cute on and super soft.',\n",
       "       \"This skirt is adorable. there is no give to it though. i usually wear a 4/6 and got the 4 and i can't gain a pound or it won't zip. it is perfect for spring and summer. i am 5'8 135.\",\n",
       "       \"So i haven't actually tried this and i am sorry for the misleading star rating. i just wanted to get someone is attention on the length. the photos show the dress draping with almost a train even with the model in platform heels but in the video, the dress is about 2 inches off the floor. is it the model in the video that is extra tall? someone help me out. this looks gorgeous but since it is an online exclusive, i won't be able to try it on at the store.\",\n",
       "       \"I read the other reviews on this skirt and tried the 4 and the 6 (i am between the two sizes, typically) in case it ran small. technically it does. the 4 is tighter, but it looks better sitting higher on my waist. the 6 is looser, but doesn't look as good. likely sticking with the 4. the colors are gorgeous and the fabric is light and high quality. it can be dressed up or down.\",\n",
       "       'The dress at first glance is pretty, feminine, and a timeless shape. sadly the quality just isn\\'t there.  i ordered online and was excited trying it on (dress fit true to size for me, all be it a little snug in the chest).  the zipper is super cheap, hard to get up or down on or off the hanger.  the appliquã©s are sewn onto a super flimsy netting, already coming detached without even having worn it.  i could see this dress catching on \"everything\" and tearing easily.  given the quality i am return',\n",
       "       \"I knew the ivory color was online only so i tried the blue one for size and i couldn't believe how nice the blue one is. i ended up buying it. i purchased a size bigger because mine wasn't available but because of lace and side zip, it still doesn't look huge. if i find my size in another store i can always exchange, but i couldn't leave the dress behind.\",\n",
       "       'I am a short frame with broad shoulders and a large chest which means peplum tops typically look horribly unflattering on my frame. not this top! the cut is very flattering due to the lower peplum. not too much fabric to add to the waistline, truly a perfect fit. if this top came in any other colors, i would buy them all.',\n",
       "       \"I love the look and feel of these shorts - typically my issue with any sort of cotton or linen shorts these days is that they're practically made of nothing, but these are comfortable and made of decent fabric. however, they run very large. being 100 lbs and about 5', i typically buy size 0 or xs, but these looked a bit ridiculous on me, with how big they are. i tried shrinking them in the wash, since they're 100% cotton, and that helped some, along with getting rid of the creases from shipping\",\n",
       "       \"Really like this shirt. easy to throw on with jeans (black if you don't like the denim on denim). flattering without making you look boxy. arms are roomy too, unlike the what the picture shows.\",\n",
       "       'This shirt is not awful but not anything pretty. there is a reason the main photo has the model with her arms crossed over the waist! it runs good on top and then you get to the body of the garment and it runs straight down yet the pleats even make it manage to expand a little but then you get to the lovely detailed hem which reins them in. so now you are left with a bit of a poof effect making you rounder in all the wrong ways. it is one of those, \"i am too lazy to send it back it is not that awful',\n",
       "       'Fits pretty true to size, thick material, sits nicely.',\n",
       "       \"I am a pretty solid 10 these days (and had no trouble fitting into other size 10 dresses at the store). the large was so tight around my hips. i barely got it on. they didn't have an xl to try on, but i can't imagine i would have fit in it. so, if you have wide hips, this is not the dress for you. it fit fine on top in the l, it was just so tight in the hips that it did not lay nicely.\",\n",
       "       \"Perfect for the change in weather, this sweater is very thick and a tad big. i would say it is true to size, but if you're like me and usually order up in sweaters and outerwear, don't. there is ample room for layering underneath without being too cumbersome. the color is a bit different than that shown; it is more of a blush heather with light gray threads intertwined. just a note, the pin does not come with the sweater; the closeup made me think it did, but it really doesn't matter. the color\",\n",
       "       'First of all, this top is brown and light beige. i was expecting more of a dark grey and cream. it also has very noticeable stitching that is a very reddish brown. cute, but a little different from what i imagined. the fabric is a casual linen. regarding the fit, i am 5\\'6\", 123lbs. 27 inch waist, 32d. i ordered the 4 and it fit well. as other reviews have mentioned, the straps are long so the top of the shirt hangs fairly low. i did not find this to be flattering. it made my bust look low and my',\n",
       "       'I bought this in the white in both the sp and the mp. i am 5\\'2\". i ended up keeping the mp (my usually size at 36c, broad shoulders). i found that the top of the sleeves to be a bit snug and i have normal size arms. if you look at the model shots, you can see that they are tight on top. i also found this shirt to be very long, even in the petite sizing. overall, i kept it as it was slimming, quality made, and the tight sleeve hopefully won\\'t bother me (or shrink!)',\n",
       "       'I love these pants! i ordered mine in green and retailer definitely offers vanity sizing. but i love them super cute and comfortable. i wish they had more colors available. these were a great buy!',\n",
       "       'The shirt fits very nicely, a little large but very confortable. amazing color (i got it in green)',\n",
       "       \"The fabric is super soft and comfortable and the look is cute, however the drape on the front crossover is not great and doesn't flatter well. the shorts will probably run a little on the short side for some - i am very short (5') and the length is great for me but i am guessing not for the average height.\",\n",
       "       'Lovely! feels like you are wearing silk and hits for comfort in all the right places. still mulling whether the short length is appropriate and if my athletic/full lower body is complimented by this cutie...needed a second opinion to push me over the top and take this home as a summer staple',\n",
       "       'First, i noticed that the \"grey\" was more like a blue-grey/navy which i don\\'t mind because it is still a nice, unique color.  i ordered petite size 26 and although these are very well made/sturdy cords and fit at the ankle like the model pictured, the thigh/calves were surprisingly a bit too tight for me (and my calves are s c r a w n y).  this cord version doesn\\'t seem as stretchy as some of their other styles so, i am going back for the standard 26 is!'],\n",
       "      dtype=object)"
      ]
     },
     "execution_count": 62,
     "metadata": {},
     "output_type": "execute_result"
    }
   ],
   "source": [
    "temp1['Review Text'].unique()"
   ]
  },
  {
   "cell_type": "code",
   "execution_count": null,
   "metadata": {},
   "outputs": [],
   "source": []
  }
 ],
 "metadata": {
  "kernelspec": {
   "display_name": "Python 3",
   "language": "python",
   "name": "python3"
  },
  "language_info": {
   "codemirror_mode": {
    "name": "ipython",
    "version": 3
   },
   "file_extension": ".py",
   "mimetype": "text/x-python",
   "name": "python",
   "nbconvert_exporter": "python",
   "pygments_lexer": "ipython3",
   "version": "3.8.3"
  }
 },
 "nbformat": 4,
 "nbformat_minor": 4
}
